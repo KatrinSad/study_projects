{
 "cells": [
  {
   "cell_type": "markdown",
   "metadata": {},
   "source": [
    "<span style=\"color:blue\"><font size=\"6\">**Приоритизация гипотез и анализ результатов AB-теста интернет-магазина**</span>\n",
    "\n",
    "\n",
    "## Описание проекта\n",
    "\n",
    "\n",
    "Совместно с отделом маркетинга был подготовлен список гипотез для увеличения выручки интернет-магазина.\n",
    "\n",
    "\n",
    "<span style=\"color:red\">**Цели исследования:**</span> \n",
    "    \n",
    "* приоритизировать гипотезы, \n",
    "    \n",
    "* запустить A/B-тест и проанализировать результаты,\n",
    "  \n",
    "* принять решение об остановке или продолжении теста.\n",
    "\n",
    "    \n",
    "<span style=\"color:red\">**В ходе анализа А/В теста будут изучены следующие метрики:**</span> \n",
    "* кумулятивная выручка по группам,\n",
    "\n",
    "* кумулятивный средний чек по группам,\n",
    "    \n",
    "* кумулятивный показатель конверсии по группам,\n",
    "\n",
    "* количество и стоимость заказов и по пользователям,\n",
    "    \n",
    "* аномалии и выбросы,\n",
    " \n",
    "* статистическая значимость различий в среднем чеке по \"сырым\" и \" очищенным\" данным отдельно,  \n",
    " \n",
    "* статистическая значимость различий в конверсии по \"сырым\" и \" очищенным\" данным отдельно."
   ]
  },
  {
   "cell_type": "markdown",
   "metadata": {},
   "source": [
    "**Описание данных:**\n",
    "    \n",
    "**1) Файл /datasets/hypothesis.csv (9 гипотез по увеличению выручки интернет-магазина):**\n",
    "\n",
    "*Hypothesis* — краткое описание гипотезы;\n",
    "    \n",
    "*Reach* — охват пользователей по 10-балльной шкале;\n",
    "    \n",
    "*Impact* — влияние на пользователей по 10-балльной шкале;\n",
    "    \n",
    "*Confidence* — уверенность в гипотезе по 10-балльной шкале;\n",
    "    \n",
    "*Efforts* — затраты ресурсов на проверку гипотезы по 10-балльной шкале. Чем больше значение Efforts, тем дороже проверка гипотезы.\n",
    "\n",
    "**2) Файл /datasets/orders.csv (результаты A/B теста по заказам):**\n",
    "\n",
    "*transactionId* — идентификатор заказа;\n",
    "    \n",
    "*visitorId* — идентификатор пользователя, совершившего заказ;\n",
    "    \n",
    "*date* — дата, когда был совершён заказ;\n",
    "    \n",
    "*revenue* — выручка заказа;\n",
    "    \n",
    "*group* — группа A/B-теста, в которую попал заказ.\n",
    "    \n",
    "**3) Файл /datasets/visitors.csv (результаты A/B теста по пользователям):**\n",
    "\n",
    "*date* — дата;\n",
    "    \n",
    "*group* — группа A/B-теста;\n",
    "    \n",
    "*visitors* — количество пользователей в указанную дату в указанной группе A/B-теста."
   ]
  },
  {
   "cell_type": "markdown",
   "metadata": {},
   "source": [
    "##  Загрузка данных"
   ]
  },
  {
   "cell_type": "code",
   "execution_count": 1,
   "metadata": {},
   "outputs": [],
   "source": [
    "# импортируем необходимые библиотеки\n",
    "import pandas as pd\n",
    "import datetime as dt\n",
    "import matplotlib.pyplot as plt\n",
    "import plotly.express as px\n",
    "import numpy as np\n",
    "import plotly.graph_objects as go\n",
    "from scipy import stats as st\n",
    "import scipy.stats as stats"
   ]
  },
  {
   "cell_type": "code",
   "execution_count": 2,
   "metadata": {},
   "outputs": [],
   "source": [
    "hypothesis, orders, visitors = (\n",
    "    pd.read_csv('/datasets/hypothesis.csv'),\n",
    "    pd.read_csv('/datasets/orders.csv'),\n",
    "    pd.read_csv('/datasets/visitors.csv'))"
   ]
  },
  {
   "cell_type": "code",
   "execution_count": 3,
   "metadata": {},
   "outputs": [],
   "source": [
    "# создадим функцию для отображения общей информации о таблицах, пропусках и явных дубликатах\n",
    "def df_info(df):\n",
    "    pd.set_option(\"max_colwidth\", 150)\n",
    "    display(df.head())\n",
    "    print(' ')\n",
    "    df.info()\n",
    "    print(' ')\n",
    "    print('\\033[1m' + 'Описание данных:' + '\\033[0m')\n",
    "    display(df.describe())\n",
    "    print(' ')\n",
    "    print('\\033[1m' + 'Пропуски в таблице:' + '\\033[0m')\n",
    "    display(df.isna().sum())\n",
    "    print('\\033[1m' + 'Количество дубликатов в таблице:' + '\\033[0m', df.duplicated().sum())"
   ]
  },
  {
   "cell_type": "markdown",
   "metadata": {},
   "source": [
    "###  Гипотезы (hypothesis)"
   ]
  },
  {
   "cell_type": "code",
   "execution_count": 4,
   "metadata": {},
   "outputs": [
    {
     "data": {
      "text/html": [
       "<div>\n",
       "<style scoped>\n",
       "    .dataframe tbody tr th:only-of-type {\n",
       "        vertical-align: middle;\n",
       "    }\n",
       "\n",
       "    .dataframe tbody tr th {\n",
       "        vertical-align: top;\n",
       "    }\n",
       "\n",
       "    .dataframe thead th {\n",
       "        text-align: right;\n",
       "    }\n",
       "</style>\n",
       "<table border=\"1\" class=\"dataframe\">\n",
       "  <thead>\n",
       "    <tr style=\"text-align: right;\">\n",
       "      <th></th>\n",
       "      <th>Hypothesis</th>\n",
       "      <th>Reach</th>\n",
       "      <th>Impact</th>\n",
       "      <th>Confidence</th>\n",
       "      <th>Efforts</th>\n",
       "    </tr>\n",
       "  </thead>\n",
       "  <tbody>\n",
       "    <tr>\n",
       "      <th>0</th>\n",
       "      <td>Добавить два новых канала привлечения трафика, что позволит привлекать на 30% больше пользователей</td>\n",
       "      <td>3</td>\n",
       "      <td>10</td>\n",
       "      <td>8</td>\n",
       "      <td>6</td>\n",
       "    </tr>\n",
       "    <tr>\n",
       "      <th>1</th>\n",
       "      <td>Запустить собственную службу доставки, что сократит срок доставки заказов</td>\n",
       "      <td>2</td>\n",
       "      <td>5</td>\n",
       "      <td>4</td>\n",
       "      <td>10</td>\n",
       "    </tr>\n",
       "    <tr>\n",
       "      <th>2</th>\n",
       "      <td>Добавить блоки рекомендаций товаров на сайт интернет магазина, чтобы повысить конверсию и средний чек заказа</td>\n",
       "      <td>8</td>\n",
       "      <td>3</td>\n",
       "      <td>7</td>\n",
       "      <td>3</td>\n",
       "    </tr>\n",
       "    <tr>\n",
       "      <th>3</th>\n",
       "      <td>Изменить структура категорий, что увеличит конверсию, т.к. пользователи быстрее найдут нужный товар</td>\n",
       "      <td>8</td>\n",
       "      <td>3</td>\n",
       "      <td>3</td>\n",
       "      <td>8</td>\n",
       "    </tr>\n",
       "    <tr>\n",
       "      <th>4</th>\n",
       "      <td>Изменить цвет фона главной страницы, чтобы увеличить вовлеченность пользователей</td>\n",
       "      <td>3</td>\n",
       "      <td>1</td>\n",
       "      <td>1</td>\n",
       "      <td>1</td>\n",
       "    </tr>\n",
       "  </tbody>\n",
       "</table>\n",
       "</div>"
      ],
      "text/plain": [
       "                                                                                                     Hypothesis  \\\n",
       "0            Добавить два новых канала привлечения трафика, что позволит привлекать на 30% больше пользователей   \n",
       "1                                     Запустить собственную службу доставки, что сократит срок доставки заказов   \n",
       "2  Добавить блоки рекомендаций товаров на сайт интернет магазина, чтобы повысить конверсию и средний чек заказа   \n",
       "3           Изменить структура категорий, что увеличит конверсию, т.к. пользователи быстрее найдут нужный товар   \n",
       "4                              Изменить цвет фона главной страницы, чтобы увеличить вовлеченность пользователей   \n",
       "\n",
       "   Reach  Impact  Confidence  Efforts  \n",
       "0      3      10           8        6  \n",
       "1      2       5           4       10  \n",
       "2      8       3           7        3  \n",
       "3      8       3           3        8  \n",
       "4      3       1           1        1  "
      ]
     },
     "metadata": {},
     "output_type": "display_data"
    },
    {
     "name": "stdout",
     "output_type": "stream",
     "text": [
      " \n",
      "<class 'pandas.core.frame.DataFrame'>\n",
      "RangeIndex: 9 entries, 0 to 8\n",
      "Data columns (total 5 columns):\n",
      " #   Column      Non-Null Count  Dtype \n",
      "---  ------      --------------  ----- \n",
      " 0   Hypothesis  9 non-null      object\n",
      " 1   Reach       9 non-null      int64 \n",
      " 2   Impact      9 non-null      int64 \n",
      " 3   Confidence  9 non-null      int64 \n",
      " 4   Efforts     9 non-null      int64 \n",
      "dtypes: int64(4), object(1)\n",
      "memory usage: 488.0+ bytes\n",
      " \n",
      "\u001b[1mОписание данных:\u001b[0m\n"
     ]
    },
    {
     "data": {
      "text/html": [
       "<div>\n",
       "<style scoped>\n",
       "    .dataframe tbody tr th:only-of-type {\n",
       "        vertical-align: middle;\n",
       "    }\n",
       "\n",
       "    .dataframe tbody tr th {\n",
       "        vertical-align: top;\n",
       "    }\n",
       "\n",
       "    .dataframe thead th {\n",
       "        text-align: right;\n",
       "    }\n",
       "</style>\n",
       "<table border=\"1\" class=\"dataframe\">\n",
       "  <thead>\n",
       "    <tr style=\"text-align: right;\">\n",
       "      <th></th>\n",
       "      <th>Reach</th>\n",
       "      <th>Impact</th>\n",
       "      <th>Confidence</th>\n",
       "      <th>Efforts</th>\n",
       "    </tr>\n",
       "  </thead>\n",
       "  <tbody>\n",
       "    <tr>\n",
       "      <th>count</th>\n",
       "      <td>9.000000</td>\n",
       "      <td>9.000000</td>\n",
       "      <td>9.000000</td>\n",
       "      <td>9.000000</td>\n",
       "    </tr>\n",
       "    <tr>\n",
       "      <th>mean</th>\n",
       "      <td>4.777778</td>\n",
       "      <td>4.777778</td>\n",
       "      <td>5.555556</td>\n",
       "      <td>4.888889</td>\n",
       "    </tr>\n",
       "    <tr>\n",
       "      <th>std</th>\n",
       "      <td>3.153481</td>\n",
       "      <td>3.192874</td>\n",
       "      <td>3.045944</td>\n",
       "      <td>2.803767</td>\n",
       "    </tr>\n",
       "    <tr>\n",
       "      <th>min</th>\n",
       "      <td>1.000000</td>\n",
       "      <td>1.000000</td>\n",
       "      <td>1.000000</td>\n",
       "      <td>1.000000</td>\n",
       "    </tr>\n",
       "    <tr>\n",
       "      <th>25%</th>\n",
       "      <td>3.000000</td>\n",
       "      <td>3.000000</td>\n",
       "      <td>3.000000</td>\n",
       "      <td>3.000000</td>\n",
       "    </tr>\n",
       "    <tr>\n",
       "      <th>50%</th>\n",
       "      <td>3.000000</td>\n",
       "      <td>3.000000</td>\n",
       "      <td>7.000000</td>\n",
       "      <td>5.000000</td>\n",
       "    </tr>\n",
       "    <tr>\n",
       "      <th>75%</th>\n",
       "      <td>8.000000</td>\n",
       "      <td>7.000000</td>\n",
       "      <td>8.000000</td>\n",
       "      <td>6.000000</td>\n",
       "    </tr>\n",
       "    <tr>\n",
       "      <th>max</th>\n",
       "      <td>10.000000</td>\n",
       "      <td>10.000000</td>\n",
       "      <td>9.000000</td>\n",
       "      <td>10.000000</td>\n",
       "    </tr>\n",
       "  </tbody>\n",
       "</table>\n",
       "</div>"
      ],
      "text/plain": [
       "           Reach     Impact  Confidence    Efforts\n",
       "count   9.000000   9.000000    9.000000   9.000000\n",
       "mean    4.777778   4.777778    5.555556   4.888889\n",
       "std     3.153481   3.192874    3.045944   2.803767\n",
       "min     1.000000   1.000000    1.000000   1.000000\n",
       "25%     3.000000   3.000000    3.000000   3.000000\n",
       "50%     3.000000   3.000000    7.000000   5.000000\n",
       "75%     8.000000   7.000000    8.000000   6.000000\n",
       "max    10.000000  10.000000    9.000000  10.000000"
      ]
     },
     "metadata": {},
     "output_type": "display_data"
    },
    {
     "name": "stdout",
     "output_type": "stream",
     "text": [
      " \n",
      "\u001b[1mПропуски в таблице:\u001b[0m\n"
     ]
    },
    {
     "data": {
      "text/plain": [
       "Hypothesis    0\n",
       "Reach         0\n",
       "Impact        0\n",
       "Confidence    0\n",
       "Efforts       0\n",
       "dtype: int64"
      ]
     },
     "metadata": {},
     "output_type": "display_data"
    },
    {
     "name": "stdout",
     "output_type": "stream",
     "text": [
      "\u001b[1mКоличество дубликатов в таблице:\u001b[0m 0\n"
     ]
    }
   ],
   "source": [
    "df_info(hypothesis)"
   ]
  },
  {
   "cell_type": "markdown",
   "metadata": {},
   "source": [
    "**В таблице представлены 9 строк. Типы данных корректны. Наименования столбцов лучше привести к нижнему регистру. Пропущенные значения и дубликаты не найдены.**"
   ]
  },
  {
   "cell_type": "markdown",
   "metadata": {},
   "source": [
    "###  Заказы (orders)"
   ]
  },
  {
   "cell_type": "code",
   "execution_count": 5,
   "metadata": {},
   "outputs": [
    {
     "data": {
      "text/html": [
       "<div>\n",
       "<style scoped>\n",
       "    .dataframe tbody tr th:only-of-type {\n",
       "        vertical-align: middle;\n",
       "    }\n",
       "\n",
       "    .dataframe tbody tr th {\n",
       "        vertical-align: top;\n",
       "    }\n",
       "\n",
       "    .dataframe thead th {\n",
       "        text-align: right;\n",
       "    }\n",
       "</style>\n",
       "<table border=\"1\" class=\"dataframe\">\n",
       "  <thead>\n",
       "    <tr style=\"text-align: right;\">\n",
       "      <th></th>\n",
       "      <th>transactionId</th>\n",
       "      <th>visitorId</th>\n",
       "      <th>date</th>\n",
       "      <th>revenue</th>\n",
       "      <th>group</th>\n",
       "    </tr>\n",
       "  </thead>\n",
       "  <tbody>\n",
       "    <tr>\n",
       "      <th>0</th>\n",
       "      <td>3667963787</td>\n",
       "      <td>3312258926</td>\n",
       "      <td>2019-08-15</td>\n",
       "      <td>1650</td>\n",
       "      <td>B</td>\n",
       "    </tr>\n",
       "    <tr>\n",
       "      <th>1</th>\n",
       "      <td>2804400009</td>\n",
       "      <td>3642806036</td>\n",
       "      <td>2019-08-15</td>\n",
       "      <td>730</td>\n",
       "      <td>B</td>\n",
       "    </tr>\n",
       "    <tr>\n",
       "      <th>2</th>\n",
       "      <td>2961555356</td>\n",
       "      <td>4069496402</td>\n",
       "      <td>2019-08-15</td>\n",
       "      <td>400</td>\n",
       "      <td>A</td>\n",
       "    </tr>\n",
       "    <tr>\n",
       "      <th>3</th>\n",
       "      <td>3797467345</td>\n",
       "      <td>1196621759</td>\n",
       "      <td>2019-08-15</td>\n",
       "      <td>9759</td>\n",
       "      <td>B</td>\n",
       "    </tr>\n",
       "    <tr>\n",
       "      <th>4</th>\n",
       "      <td>2282983706</td>\n",
       "      <td>2322279887</td>\n",
       "      <td>2019-08-15</td>\n",
       "      <td>2308</td>\n",
       "      <td>B</td>\n",
       "    </tr>\n",
       "  </tbody>\n",
       "</table>\n",
       "</div>"
      ],
      "text/plain": [
       "   transactionId   visitorId        date  revenue group\n",
       "0     3667963787  3312258926  2019-08-15     1650     B\n",
       "1     2804400009  3642806036  2019-08-15      730     B\n",
       "2     2961555356  4069496402  2019-08-15      400     A\n",
       "3     3797467345  1196621759  2019-08-15     9759     B\n",
       "4     2282983706  2322279887  2019-08-15     2308     B"
      ]
     },
     "metadata": {},
     "output_type": "display_data"
    },
    {
     "name": "stdout",
     "output_type": "stream",
     "text": [
      " \n",
      "<class 'pandas.core.frame.DataFrame'>\n",
      "RangeIndex: 1197 entries, 0 to 1196\n",
      "Data columns (total 5 columns):\n",
      " #   Column         Non-Null Count  Dtype \n",
      "---  ------         --------------  ----- \n",
      " 0   transactionId  1197 non-null   int64 \n",
      " 1   visitorId      1197 non-null   int64 \n",
      " 2   date           1197 non-null   object\n",
      " 3   revenue        1197 non-null   int64 \n",
      " 4   group          1197 non-null   object\n",
      "dtypes: int64(3), object(2)\n",
      "memory usage: 46.9+ KB\n",
      " \n",
      "\u001b[1mОписание данных:\u001b[0m\n"
     ]
    },
    {
     "data": {
      "text/html": [
       "<div>\n",
       "<style scoped>\n",
       "    .dataframe tbody tr th:only-of-type {\n",
       "        vertical-align: middle;\n",
       "    }\n",
       "\n",
       "    .dataframe tbody tr th {\n",
       "        vertical-align: top;\n",
       "    }\n",
       "\n",
       "    .dataframe thead th {\n",
       "        text-align: right;\n",
       "    }\n",
       "</style>\n",
       "<table border=\"1\" class=\"dataframe\">\n",
       "  <thead>\n",
       "    <tr style=\"text-align: right;\">\n",
       "      <th></th>\n",
       "      <th>transactionId</th>\n",
       "      <th>visitorId</th>\n",
       "      <th>revenue</th>\n",
       "    </tr>\n",
       "  </thead>\n",
       "  <tbody>\n",
       "    <tr>\n",
       "      <th>count</th>\n",
       "      <td>1.197000e+03</td>\n",
       "      <td>1.197000e+03</td>\n",
       "      <td>1.197000e+03</td>\n",
       "    </tr>\n",
       "    <tr>\n",
       "      <th>mean</th>\n",
       "      <td>2.155621e+09</td>\n",
       "      <td>2.165960e+09</td>\n",
       "      <td>8.348006e+03</td>\n",
       "    </tr>\n",
       "    <tr>\n",
       "      <th>std</th>\n",
       "      <td>1.229085e+09</td>\n",
       "      <td>1.236014e+09</td>\n",
       "      <td>3.919113e+04</td>\n",
       "    </tr>\n",
       "    <tr>\n",
       "      <th>min</th>\n",
       "      <td>1.062393e+06</td>\n",
       "      <td>5.114589e+06</td>\n",
       "      <td>5.000000e+01</td>\n",
       "    </tr>\n",
       "    <tr>\n",
       "      <th>25%</th>\n",
       "      <td>1.166776e+09</td>\n",
       "      <td>1.111826e+09</td>\n",
       "      <td>1.220000e+03</td>\n",
       "    </tr>\n",
       "    <tr>\n",
       "      <th>50%</th>\n",
       "      <td>2.145194e+09</td>\n",
       "      <td>2.217985e+09</td>\n",
       "      <td>2.978000e+03</td>\n",
       "    </tr>\n",
       "    <tr>\n",
       "      <th>75%</th>\n",
       "      <td>3.237740e+09</td>\n",
       "      <td>3.177606e+09</td>\n",
       "      <td>8.290000e+03</td>\n",
       "    </tr>\n",
       "    <tr>\n",
       "      <th>max</th>\n",
       "      <td>4.293856e+09</td>\n",
       "      <td>4.283872e+09</td>\n",
       "      <td>1.294500e+06</td>\n",
       "    </tr>\n",
       "  </tbody>\n",
       "</table>\n",
       "</div>"
      ],
      "text/plain": [
       "       transactionId     visitorId       revenue\n",
       "count   1.197000e+03  1.197000e+03  1.197000e+03\n",
       "mean    2.155621e+09  2.165960e+09  8.348006e+03\n",
       "std     1.229085e+09  1.236014e+09  3.919113e+04\n",
       "min     1.062393e+06  5.114589e+06  5.000000e+01\n",
       "25%     1.166776e+09  1.111826e+09  1.220000e+03\n",
       "50%     2.145194e+09  2.217985e+09  2.978000e+03\n",
       "75%     3.237740e+09  3.177606e+09  8.290000e+03\n",
       "max     4.293856e+09  4.283872e+09  1.294500e+06"
      ]
     },
     "metadata": {},
     "output_type": "display_data"
    },
    {
     "name": "stdout",
     "output_type": "stream",
     "text": [
      " \n",
      "\u001b[1mПропуски в таблице:\u001b[0m\n"
     ]
    },
    {
     "data": {
      "text/plain": [
       "transactionId    0\n",
       "visitorId        0\n",
       "date             0\n",
       "revenue          0\n",
       "group            0\n",
       "dtype: int64"
      ]
     },
     "metadata": {},
     "output_type": "display_data"
    },
    {
     "name": "stdout",
     "output_type": "stream",
     "text": [
      "\u001b[1mКоличество дубликатов в таблице:\u001b[0m 0\n"
     ]
    }
   ],
   "source": [
    "df_info(orders)"
   ]
  },
  {
   "cell_type": "markdown",
   "metadata": {},
   "source": [
    "**В таблице с заказами представлены 1198 записей. В столбце с датой указан неверный тип данных. Наименования столбцов корректны. Пропущенные значения и дубликаты не найдены.**"
   ]
  },
  {
   "cell_type": "markdown",
   "metadata": {},
   "source": [
    "###  Пользователи (visitors)"
   ]
  },
  {
   "cell_type": "code",
   "execution_count": 6,
   "metadata": {},
   "outputs": [
    {
     "data": {
      "text/html": [
       "<div>\n",
       "<style scoped>\n",
       "    .dataframe tbody tr th:only-of-type {\n",
       "        vertical-align: middle;\n",
       "    }\n",
       "\n",
       "    .dataframe tbody tr th {\n",
       "        vertical-align: top;\n",
       "    }\n",
       "\n",
       "    .dataframe thead th {\n",
       "        text-align: right;\n",
       "    }\n",
       "</style>\n",
       "<table border=\"1\" class=\"dataframe\">\n",
       "  <thead>\n",
       "    <tr style=\"text-align: right;\">\n",
       "      <th></th>\n",
       "      <th>date</th>\n",
       "      <th>group</th>\n",
       "      <th>visitors</th>\n",
       "    </tr>\n",
       "  </thead>\n",
       "  <tbody>\n",
       "    <tr>\n",
       "      <th>0</th>\n",
       "      <td>2019-08-01</td>\n",
       "      <td>A</td>\n",
       "      <td>719</td>\n",
       "    </tr>\n",
       "    <tr>\n",
       "      <th>1</th>\n",
       "      <td>2019-08-02</td>\n",
       "      <td>A</td>\n",
       "      <td>619</td>\n",
       "    </tr>\n",
       "    <tr>\n",
       "      <th>2</th>\n",
       "      <td>2019-08-03</td>\n",
       "      <td>A</td>\n",
       "      <td>507</td>\n",
       "    </tr>\n",
       "    <tr>\n",
       "      <th>3</th>\n",
       "      <td>2019-08-04</td>\n",
       "      <td>A</td>\n",
       "      <td>717</td>\n",
       "    </tr>\n",
       "    <tr>\n",
       "      <th>4</th>\n",
       "      <td>2019-08-05</td>\n",
       "      <td>A</td>\n",
       "      <td>756</td>\n",
       "    </tr>\n",
       "  </tbody>\n",
       "</table>\n",
       "</div>"
      ],
      "text/plain": [
       "         date group  visitors\n",
       "0  2019-08-01     A       719\n",
       "1  2019-08-02     A       619\n",
       "2  2019-08-03     A       507\n",
       "3  2019-08-04     A       717\n",
       "4  2019-08-05     A       756"
      ]
     },
     "metadata": {},
     "output_type": "display_data"
    },
    {
     "name": "stdout",
     "output_type": "stream",
     "text": [
      " \n",
      "<class 'pandas.core.frame.DataFrame'>\n",
      "RangeIndex: 62 entries, 0 to 61\n",
      "Data columns (total 3 columns):\n",
      " #   Column    Non-Null Count  Dtype \n",
      "---  ------    --------------  ----- \n",
      " 0   date      62 non-null     object\n",
      " 1   group     62 non-null     object\n",
      " 2   visitors  62 non-null     int64 \n",
      "dtypes: int64(1), object(2)\n",
      "memory usage: 1.6+ KB\n",
      " \n",
      "\u001b[1mОписание данных:\u001b[0m\n"
     ]
    },
    {
     "data": {
      "text/html": [
       "<div>\n",
       "<style scoped>\n",
       "    .dataframe tbody tr th:only-of-type {\n",
       "        vertical-align: middle;\n",
       "    }\n",
       "\n",
       "    .dataframe tbody tr th {\n",
       "        vertical-align: top;\n",
       "    }\n",
       "\n",
       "    .dataframe thead th {\n",
       "        text-align: right;\n",
       "    }\n",
       "</style>\n",
       "<table border=\"1\" class=\"dataframe\">\n",
       "  <thead>\n",
       "    <tr style=\"text-align: right;\">\n",
       "      <th></th>\n",
       "      <th>visitors</th>\n",
       "    </tr>\n",
       "  </thead>\n",
       "  <tbody>\n",
       "    <tr>\n",
       "      <th>count</th>\n",
       "      <td>62.000000</td>\n",
       "    </tr>\n",
       "    <tr>\n",
       "      <th>mean</th>\n",
       "      <td>607.290323</td>\n",
       "    </tr>\n",
       "    <tr>\n",
       "      <th>std</th>\n",
       "      <td>114.400560</td>\n",
       "    </tr>\n",
       "    <tr>\n",
       "      <th>min</th>\n",
       "      <td>361.000000</td>\n",
       "    </tr>\n",
       "    <tr>\n",
       "      <th>25%</th>\n",
       "      <td>534.000000</td>\n",
       "    </tr>\n",
       "    <tr>\n",
       "      <th>50%</th>\n",
       "      <td>624.500000</td>\n",
       "    </tr>\n",
       "    <tr>\n",
       "      <th>75%</th>\n",
       "      <td>710.500000</td>\n",
       "    </tr>\n",
       "    <tr>\n",
       "      <th>max</th>\n",
       "      <td>770.000000</td>\n",
       "    </tr>\n",
       "  </tbody>\n",
       "</table>\n",
       "</div>"
      ],
      "text/plain": [
       "         visitors\n",
       "count   62.000000\n",
       "mean   607.290323\n",
       "std    114.400560\n",
       "min    361.000000\n",
       "25%    534.000000\n",
       "50%    624.500000\n",
       "75%    710.500000\n",
       "max    770.000000"
      ]
     },
     "metadata": {},
     "output_type": "display_data"
    },
    {
     "name": "stdout",
     "output_type": "stream",
     "text": [
      " \n",
      "\u001b[1mПропуски в таблице:\u001b[0m\n"
     ]
    },
    {
     "data": {
      "text/plain": [
       "date        0\n",
       "group       0\n",
       "visitors    0\n",
       "dtype: int64"
      ]
     },
     "metadata": {},
     "output_type": "display_data"
    },
    {
     "name": "stdout",
     "output_type": "stream",
     "text": [
      "\u001b[1mКоличество дубликатов в таблице:\u001b[0m 0\n"
     ]
    }
   ],
   "source": [
    "df_info(visitors)"
   ]
  },
  {
   "cell_type": "markdown",
   "metadata": {},
   "source": [
    "**В таблице с пользователями представлены 63 записи. В столбце с датой указан неверный тип данных. Наименования столбцов корректны. Пропущенные значения и дубликаты не найдены.**"
   ]
  },
  {
   "cell_type": "markdown",
   "metadata": {},
   "source": [
    "##  Предобработка данных"
   ]
  },
  {
   "cell_type": "markdown",
   "metadata": {},
   "source": [
    "В ходе ознакомления с данными были выявлены некорректные наименования столбцов в таблице с гипотезами и некорректный тип данных столбцов с датой в таблицах заказов и пользователей."
   ]
  },
  {
   "cell_type": "code",
   "execution_count": 7,
   "metadata": {},
   "outputs": [
    {
     "name": "stdout",
     "output_type": "stream",
     "text": [
      "<class 'pandas.core.frame.DataFrame'>\n",
      "RangeIndex: 9 entries, 0 to 8\n",
      "Data columns (total 5 columns):\n",
      " #   Column      Non-Null Count  Dtype \n",
      "---  ------      --------------  ----- \n",
      " 0   hypothesis  9 non-null      object\n",
      " 1   reach       9 non-null      int64 \n",
      " 2   impact      9 non-null      int64 \n",
      " 3   confidence  9 non-null      int64 \n",
      " 4   efforts     9 non-null      int64 \n",
      "dtypes: int64(4), object(1)\n",
      "memory usage: 488.0+ bytes\n"
     ]
    }
   ],
   "source": [
    "hypothesis.columns = hypothesis.columns.str.lower()\n",
    "hypothesis.info()"
   ]
  },
  {
   "cell_type": "code",
   "execution_count": 8,
   "metadata": {},
   "outputs": [
    {
     "name": "stdout",
     "output_type": "stream",
     "text": [
      "<class 'pandas.core.frame.DataFrame'>\n",
      "RangeIndex: 1197 entries, 0 to 1196\n",
      "Data columns (total 5 columns):\n",
      " #   Column         Non-Null Count  Dtype         \n",
      "---  ------         --------------  -----         \n",
      " 0   transactionId  1197 non-null   int64         \n",
      " 1   visitorId      1197 non-null   int64         \n",
      " 2   date           1197 non-null   datetime64[ns]\n",
      " 3   revenue        1197 non-null   int64         \n",
      " 4   group          1197 non-null   object        \n",
      "dtypes: datetime64[ns](1), int64(3), object(1)\n",
      "memory usage: 46.9+ KB\n",
      "<class 'pandas.core.frame.DataFrame'>\n",
      "RangeIndex: 62 entries, 0 to 61\n",
      "Data columns (total 3 columns):\n",
      " #   Column    Non-Null Count  Dtype         \n",
      "---  ------    --------------  -----         \n",
      " 0   date      62 non-null     datetime64[ns]\n",
      " 1   group     62 non-null     object        \n",
      " 2   visitors  62 non-null     int64         \n",
      "dtypes: datetime64[ns](1), int64(1), object(1)\n",
      "memory usage: 1.6+ KB\n"
     ]
    }
   ],
   "source": [
    "orders['date'] = orders['date'].map(lambda x: dt.datetime.strptime(x,'%Y-%m-%d'))\n",
    "visitors['date'] = visitors['date'].map(lambda x: dt.datetime.strptime(x,'%Y-%m-%d'))\n",
    "orders.info()\n",
    "visitors.info()"
   ]
  },
  {
   "cell_type": "markdown",
   "metadata": {},
   "source": [
    " Посмотрим для какого периода предоставлены данные по заказам и пользователям, нет ли искажения периода:"
   ]
  },
  {
   "cell_type": "code",
   "execution_count": 9,
   "metadata": {},
   "outputs": [
    {
     "data": {
      "text/plain": [
       "Timestamp('2019-08-01 00:00:00')"
      ]
     },
     "metadata": {},
     "output_type": "display_data"
    },
    {
     "data": {
      "text/plain": [
       "Timestamp('2019-08-31 00:00:00')"
      ]
     },
     "metadata": {},
     "output_type": "display_data"
    }
   ],
   "source": [
    "display(orders['date'].min(), orders['date'].max())"
   ]
  },
  {
   "cell_type": "code",
   "execution_count": 10,
   "metadata": {},
   "outputs": [
    {
     "data": {
      "text/plain": [
       "Timestamp('2019-08-01 00:00:00')"
      ]
     },
     "metadata": {},
     "output_type": "display_data"
    },
    {
     "data": {
      "text/plain": [
       "Timestamp('2019-08-31 00:00:00')"
      ]
     },
     "metadata": {},
     "output_type": "display_data"
    }
   ],
   "source": [
    "display(visitors['date'].min(), visitors['date'].max())"
   ]
  },
  {
   "cell_type": "markdown",
   "metadata": {},
   "source": [
    "**В ходе предобработки наименования столбцов приведены к нижнему регистру, столбцы с датой приведены к типу datetime. Период  данных по заказам и пользователям с 01.08.2019 по 31.08.2019**"
   ]
  },
  {
   "cell_type": "markdown",
   "metadata": {},
   "source": [
    "##  Приоритизация гипотез (1 часть)"
   ]
  },
  {
   "cell_type": "markdown",
   "metadata": {},
   "source": [
    "###  Приоритизация гипотез с применением ICE"
   ]
  },
  {
   "cell_type": "code",
   "execution_count": 11,
   "metadata": {},
   "outputs": [
    {
     "data": {
      "text/html": [
       "<div>\n",
       "<style scoped>\n",
       "    .dataframe tbody tr th:only-of-type {\n",
       "        vertical-align: middle;\n",
       "    }\n",
       "\n",
       "    .dataframe tbody tr th {\n",
       "        vertical-align: top;\n",
       "    }\n",
       "\n",
       "    .dataframe thead th {\n",
       "        text-align: right;\n",
       "    }\n",
       "</style>\n",
       "<table border=\"1\" class=\"dataframe\">\n",
       "  <thead>\n",
       "    <tr style=\"text-align: right;\">\n",
       "      <th></th>\n",
       "      <th>hypothesis</th>\n",
       "      <th>reach</th>\n",
       "      <th>impact</th>\n",
       "      <th>confidence</th>\n",
       "      <th>efforts</th>\n",
       "      <th>icy_score</th>\n",
       "    </tr>\n",
       "  </thead>\n",
       "  <tbody>\n",
       "    <tr>\n",
       "      <th>8</th>\n",
       "      <td>Запустить акцию, дающую скидку на товар в день рождения</td>\n",
       "      <td>1</td>\n",
       "      <td>9</td>\n",
       "      <td>9</td>\n",
       "      <td>5</td>\n",
       "      <td>16.2</td>\n",
       "    </tr>\n",
       "    <tr>\n",
       "      <th>0</th>\n",
       "      <td>Добавить два новых канала привлечения трафика, что позволит привлекать на 30% больше пользователей</td>\n",
       "      <td>3</td>\n",
       "      <td>10</td>\n",
       "      <td>8</td>\n",
       "      <td>6</td>\n",
       "      <td>13.3</td>\n",
       "    </tr>\n",
       "    <tr>\n",
       "      <th>7</th>\n",
       "      <td>Добавить форму подписки на все основные страницы, чтобы собрать базу клиентов для email-рассылок</td>\n",
       "      <td>10</td>\n",
       "      <td>7</td>\n",
       "      <td>8</td>\n",
       "      <td>5</td>\n",
       "      <td>11.2</td>\n",
       "    </tr>\n",
       "    <tr>\n",
       "      <th>6</th>\n",
       "      <td>Показать на главной странице баннеры с актуальными акциями и распродажами, чтобы увеличить конверсию</td>\n",
       "      <td>5</td>\n",
       "      <td>3</td>\n",
       "      <td>8</td>\n",
       "      <td>3</td>\n",
       "      <td>8.0</td>\n",
       "    </tr>\n",
       "    <tr>\n",
       "      <th>2</th>\n",
       "      <td>Добавить блоки рекомендаций товаров на сайт интернет магазина, чтобы повысить конверсию и средний чек заказа</td>\n",
       "      <td>8</td>\n",
       "      <td>3</td>\n",
       "      <td>7</td>\n",
       "      <td>3</td>\n",
       "      <td>7.0</td>\n",
       "    </tr>\n",
       "    <tr>\n",
       "      <th>1</th>\n",
       "      <td>Запустить собственную службу доставки, что сократит срок доставки заказов</td>\n",
       "      <td>2</td>\n",
       "      <td>5</td>\n",
       "      <td>4</td>\n",
       "      <td>10</td>\n",
       "      <td>2.0</td>\n",
       "    </tr>\n",
       "    <tr>\n",
       "      <th>5</th>\n",
       "      <td>Добавить страницу отзывов клиентов о магазине, что позволит увеличить количество заказов</td>\n",
       "      <td>3</td>\n",
       "      <td>2</td>\n",
       "      <td>2</td>\n",
       "      <td>3</td>\n",
       "      <td>1.3</td>\n",
       "    </tr>\n",
       "    <tr>\n",
       "      <th>3</th>\n",
       "      <td>Изменить структура категорий, что увеличит конверсию, т.к. пользователи быстрее найдут нужный товар</td>\n",
       "      <td>8</td>\n",
       "      <td>3</td>\n",
       "      <td>3</td>\n",
       "      <td>8</td>\n",
       "      <td>1.1</td>\n",
       "    </tr>\n",
       "    <tr>\n",
       "      <th>4</th>\n",
       "      <td>Изменить цвет фона главной страницы, чтобы увеличить вовлеченность пользователей</td>\n",
       "      <td>3</td>\n",
       "      <td>1</td>\n",
       "      <td>1</td>\n",
       "      <td>1</td>\n",
       "      <td>1.0</td>\n",
       "    </tr>\n",
       "  </tbody>\n",
       "</table>\n",
       "</div>"
      ],
      "text/plain": [
       "                                                                                                     hypothesis  \\\n",
       "8                                                       Запустить акцию, дающую скидку на товар в день рождения   \n",
       "0            Добавить два новых канала привлечения трафика, что позволит привлекать на 30% больше пользователей   \n",
       "7              Добавить форму подписки на все основные страницы, чтобы собрать базу клиентов для email-рассылок   \n",
       "6          Показать на главной странице баннеры с актуальными акциями и распродажами, чтобы увеличить конверсию   \n",
       "2  Добавить блоки рекомендаций товаров на сайт интернет магазина, чтобы повысить конверсию и средний чек заказа   \n",
       "1                                     Запустить собственную службу доставки, что сократит срок доставки заказов   \n",
       "5                      Добавить страницу отзывов клиентов о магазине, что позволит увеличить количество заказов   \n",
       "3           Изменить структура категорий, что увеличит конверсию, т.к. пользователи быстрее найдут нужный товар   \n",
       "4                              Изменить цвет фона главной страницы, чтобы увеличить вовлеченность пользователей   \n",
       "\n",
       "   reach  impact  confidence  efforts  icy_score  \n",
       "8      1       9           9        5       16.2  \n",
       "0      3      10           8        6       13.3  \n",
       "7     10       7           8        5       11.2  \n",
       "6      5       3           8        3        8.0  \n",
       "2      8       3           7        3        7.0  \n",
       "1      2       5           4       10        2.0  \n",
       "5      3       2           2        3        1.3  \n",
       "3      8       3           3        8        1.1  \n",
       "4      3       1           1        1        1.0  "
      ]
     },
     "execution_count": 11,
     "metadata": {},
     "output_type": "execute_result"
    }
   ],
   "source": [
    "hypothesis['icy_score'] = (hypothesis['impact'] * hypothesis['confidence'] / hypothesis['efforts']).round(1)\n",
    "hypothesis.sort_values(by='icy_score', ascending=False)"
   ]
  },
  {
   "cell_type": "markdown",
   "metadata": {},
   "source": [
    "*Наивысший приоритет показала гипотеза \"Запустить акцию, дающую скидку на товар в день рождения\", затем гипотезы: \"Добавить 2 новых канала привлечения трафика\" и \"Добавить форму подписки на все основные страницы\".*"
   ]
  },
  {
   "cell_type": "markdown",
   "metadata": {},
   "source": [
    "###  Приоритизация гипотез с применением RICE"
   ]
  },
  {
   "cell_type": "code",
   "execution_count": 12,
   "metadata": {},
   "outputs": [
    {
     "data": {
      "text/html": [
       "<div>\n",
       "<style scoped>\n",
       "    .dataframe tbody tr th:only-of-type {\n",
       "        vertical-align: middle;\n",
       "    }\n",
       "\n",
       "    .dataframe tbody tr th {\n",
       "        vertical-align: top;\n",
       "    }\n",
       "\n",
       "    .dataframe thead th {\n",
       "        text-align: right;\n",
       "    }\n",
       "</style>\n",
       "<table border=\"1\" class=\"dataframe\">\n",
       "  <thead>\n",
       "    <tr style=\"text-align: right;\">\n",
       "      <th></th>\n",
       "      <th>hypothesis</th>\n",
       "      <th>reach</th>\n",
       "      <th>impact</th>\n",
       "      <th>confidence</th>\n",
       "      <th>efforts</th>\n",
       "      <th>icy_score</th>\n",
       "      <th>ricy_score</th>\n",
       "    </tr>\n",
       "  </thead>\n",
       "  <tbody>\n",
       "    <tr>\n",
       "      <th>7</th>\n",
       "      <td>Добавить форму подписки на все основные страницы, чтобы собрать базу клиентов для email-рассылок</td>\n",
       "      <td>10</td>\n",
       "      <td>7</td>\n",
       "      <td>8</td>\n",
       "      <td>5</td>\n",
       "      <td>11.2</td>\n",
       "      <td>112.0</td>\n",
       "    </tr>\n",
       "    <tr>\n",
       "      <th>2</th>\n",
       "      <td>Добавить блоки рекомендаций товаров на сайт интернет магазина, чтобы повысить конверсию и средний чек заказа</td>\n",
       "      <td>8</td>\n",
       "      <td>3</td>\n",
       "      <td>7</td>\n",
       "      <td>3</td>\n",
       "      <td>7.0</td>\n",
       "      <td>56.0</td>\n",
       "    </tr>\n",
       "    <tr>\n",
       "      <th>0</th>\n",
       "      <td>Добавить два новых канала привлечения трафика, что позволит привлекать на 30% больше пользователей</td>\n",
       "      <td>3</td>\n",
       "      <td>10</td>\n",
       "      <td>8</td>\n",
       "      <td>6</td>\n",
       "      <td>13.3</td>\n",
       "      <td>40.0</td>\n",
       "    </tr>\n",
       "    <tr>\n",
       "      <th>6</th>\n",
       "      <td>Показать на главной странице баннеры с актуальными акциями и распродажами, чтобы увеличить конверсию</td>\n",
       "      <td>5</td>\n",
       "      <td>3</td>\n",
       "      <td>8</td>\n",
       "      <td>3</td>\n",
       "      <td>8.0</td>\n",
       "      <td>40.0</td>\n",
       "    </tr>\n",
       "    <tr>\n",
       "      <th>8</th>\n",
       "      <td>Запустить акцию, дающую скидку на товар в день рождения</td>\n",
       "      <td>1</td>\n",
       "      <td>9</td>\n",
       "      <td>9</td>\n",
       "      <td>5</td>\n",
       "      <td>16.2</td>\n",
       "      <td>16.2</td>\n",
       "    </tr>\n",
       "    <tr>\n",
       "      <th>3</th>\n",
       "      <td>Изменить структура категорий, что увеличит конверсию, т.к. пользователи быстрее найдут нужный товар</td>\n",
       "      <td>8</td>\n",
       "      <td>3</td>\n",
       "      <td>3</td>\n",
       "      <td>8</td>\n",
       "      <td>1.1</td>\n",
       "      <td>9.0</td>\n",
       "    </tr>\n",
       "    <tr>\n",
       "      <th>1</th>\n",
       "      <td>Запустить собственную службу доставки, что сократит срок доставки заказов</td>\n",
       "      <td>2</td>\n",
       "      <td>5</td>\n",
       "      <td>4</td>\n",
       "      <td>10</td>\n",
       "      <td>2.0</td>\n",
       "      <td>4.0</td>\n",
       "    </tr>\n",
       "    <tr>\n",
       "      <th>5</th>\n",
       "      <td>Добавить страницу отзывов клиентов о магазине, что позволит увеличить количество заказов</td>\n",
       "      <td>3</td>\n",
       "      <td>2</td>\n",
       "      <td>2</td>\n",
       "      <td>3</td>\n",
       "      <td>1.3</td>\n",
       "      <td>4.0</td>\n",
       "    </tr>\n",
       "    <tr>\n",
       "      <th>4</th>\n",
       "      <td>Изменить цвет фона главной страницы, чтобы увеличить вовлеченность пользователей</td>\n",
       "      <td>3</td>\n",
       "      <td>1</td>\n",
       "      <td>1</td>\n",
       "      <td>1</td>\n",
       "      <td>1.0</td>\n",
       "      <td>3.0</td>\n",
       "    </tr>\n",
       "  </tbody>\n",
       "</table>\n",
       "</div>"
      ],
      "text/plain": [
       "                                                                                                     hypothesis  \\\n",
       "7              Добавить форму подписки на все основные страницы, чтобы собрать базу клиентов для email-рассылок   \n",
       "2  Добавить блоки рекомендаций товаров на сайт интернет магазина, чтобы повысить конверсию и средний чек заказа   \n",
       "0            Добавить два новых канала привлечения трафика, что позволит привлекать на 30% больше пользователей   \n",
       "6          Показать на главной странице баннеры с актуальными акциями и распродажами, чтобы увеличить конверсию   \n",
       "8                                                       Запустить акцию, дающую скидку на товар в день рождения   \n",
       "3           Изменить структура категорий, что увеличит конверсию, т.к. пользователи быстрее найдут нужный товар   \n",
       "1                                     Запустить собственную службу доставки, что сократит срок доставки заказов   \n",
       "5                      Добавить страницу отзывов клиентов о магазине, что позволит увеличить количество заказов   \n",
       "4                              Изменить цвет фона главной страницы, чтобы увеличить вовлеченность пользователей   \n",
       "\n",
       "   reach  impact  confidence  efforts  icy_score  ricy_score  \n",
       "7     10       7           8        5       11.2       112.0  \n",
       "2      8       3           7        3        7.0        56.0  \n",
       "0      3      10           8        6       13.3        40.0  \n",
       "6      5       3           8        3        8.0        40.0  \n",
       "8      1       9           9        5       16.2        16.2  \n",
       "3      8       3           3        8        1.1         9.0  \n",
       "1      2       5           4       10        2.0         4.0  \n",
       "5      3       2           2        3        1.3         4.0  \n",
       "4      3       1           1        1        1.0         3.0  "
      ]
     },
     "execution_count": 12,
     "metadata": {},
     "output_type": "execute_result"
    }
   ],
   "source": [
    "hypothesis['ricy_score'] = (hypothesis['reach'] * hypothesis['impact'] * hypothesis['confidence'] / hypothesis['efforts']).round(1)\n",
    "hypothesis.sort_values(by='ricy_score', ascending=False)"
   ]
  },
  {
   "cell_type": "markdown",
   "metadata": {},
   "source": [
    "*Наивысший приоритет показала гипотеза \"Добавить форму подписки на все основные страницы\", затем гипотезa \"Добавить блоки рекомендаций товаров на сайт\".*"
   ]
  },
  {
   "cell_type": "markdown",
   "metadata": {},
   "source": [
    "**Так как при расчете приоритизации гипотез методом RICE учитывается также показатель REACH (количество пользователей,которых затронет изменение), приоритет гипотез отличается от расчета методом ICE.**\n",
    "\n",
    "**Таким образом метод ICE присвоил наивысший приоритет гипотезе \"Запустить акцию, дающую скидку на товар в день рождения\", в то время как метод RICE - гипотезе \"Добавить форму подписки на все основные страницы\"(так как данное нововведение затронет наибольшее кол-во пользователей). Однако, при расчете методом ICE гипотеза \"Добавить форму подписки на все основные страницы\" получила также довольно-таки высокий приоритет.**"
   ]
  },
  {
   "cell_type": "markdown",
   "metadata": {},
   "source": [
    "##  Анализ A/B теста ( 2 часть)"
   ]
  },
  {
   "cell_type": "code",
   "execution_count": 13,
   "metadata": {},
   "outputs": [
    {
     "data": {
      "text/html": [
       "<div>\n",
       "<style scoped>\n",
       "    .dataframe tbody tr th:only-of-type {\n",
       "        vertical-align: middle;\n",
       "    }\n",
       "\n",
       "    .dataframe tbody tr th {\n",
       "        vertical-align: top;\n",
       "    }\n",
       "\n",
       "    .dataframe thead th {\n",
       "        text-align: right;\n",
       "    }\n",
       "</style>\n",
       "<table border=\"1\" class=\"dataframe\">\n",
       "  <thead>\n",
       "    <tr style=\"text-align: right;\">\n",
       "      <th></th>\n",
       "      <th>date</th>\n",
       "      <th>group</th>\n",
       "      <th>orders</th>\n",
       "      <th>buyers</th>\n",
       "      <th>revenue</th>\n",
       "      <th>visitors</th>\n",
       "    </tr>\n",
       "  </thead>\n",
       "  <tbody>\n",
       "    <tr>\n",
       "      <th>0</th>\n",
       "      <td>2019-08-01</td>\n",
       "      <td>A</td>\n",
       "      <td>24</td>\n",
       "      <td>20</td>\n",
       "      <td>148579</td>\n",
       "      <td>719</td>\n",
       "    </tr>\n",
       "    <tr>\n",
       "      <th>1</th>\n",
       "      <td>2019-08-01</td>\n",
       "      <td>B</td>\n",
       "      <td>21</td>\n",
       "      <td>20</td>\n",
       "      <td>101217</td>\n",
       "      <td>713</td>\n",
       "    </tr>\n",
       "    <tr>\n",
       "      <th>2</th>\n",
       "      <td>2019-08-02</td>\n",
       "      <td>A</td>\n",
       "      <td>44</td>\n",
       "      <td>38</td>\n",
       "      <td>242401</td>\n",
       "      <td>1338</td>\n",
       "    </tr>\n",
       "    <tr>\n",
       "      <th>3</th>\n",
       "      <td>2019-08-02</td>\n",
       "      <td>B</td>\n",
       "      <td>45</td>\n",
       "      <td>43</td>\n",
       "      <td>266748</td>\n",
       "      <td>1294</td>\n",
       "    </tr>\n",
       "    <tr>\n",
       "      <th>4</th>\n",
       "      <td>2019-08-03</td>\n",
       "      <td>A</td>\n",
       "      <td>68</td>\n",
       "      <td>62</td>\n",
       "      <td>354874</td>\n",
       "      <td>1845</td>\n",
       "    </tr>\n",
       "  </tbody>\n",
       "</table>\n",
       "</div>"
      ],
      "text/plain": [
       "        date group  orders  buyers  revenue  visitors\n",
       "0 2019-08-01     A      24      20   148579       719\n",
       "1 2019-08-01     B      21      20   101217       713\n",
       "2 2019-08-02     A      44      38   242401      1338\n",
       "3 2019-08-02     B      45      43   266748      1294\n",
       "4 2019-08-03     A      68      62   354874      1845"
      ]
     },
     "execution_count": 13,
     "metadata": {},
     "output_type": "execute_result"
    }
   ],
   "source": [
    "# создадим массив уник.пар значений дат и групп теста\n",
    "dates_groups = orders[['date', 'group']].drop_duplicates()\n",
    "\n",
    "#соберем агругирующие кумулятивные данные по дням о заказах\n",
    "orders_agg = dates_groups.apply(\n",
    "    lambda x: orders[\n",
    "        np.logical_and(\n",
    "            orders['date'] <= x['date'], orders['group'] == x['group']\n",
    "        )\n",
    "    ].agg(\n",
    "        {\n",
    "            'date': 'max',\n",
    "            'group': 'max',\n",
    "            'transactionId': 'nunique',\n",
    "            'visitorId': 'nunique',\n",
    "            'revenue': 'sum',\n",
    "        }\n",
    "    ),\n",
    "    axis=1,\n",
    ").sort_values(by=['date', 'group'])\n",
    "\n",
    "#аналогично сделаем расчет для посетителей\n",
    "visitors_agg = dates_groups.apply(\n",
    "    lambda x: visitors[\n",
    "        np.logical_and(\n",
    "            visitors['date'] <= x['date'], visitors['group'] == x['group']\n",
    "        )\n",
    "    ].agg({'date': 'max', 'group': 'max', 'visitors': 'sum'}),\n",
    "    axis=1,\n",
    ").sort_values(by=['date', 'group'])\n",
    "\n",
    "# объединим таблицы и зададим название столбцам\n",
    "cumulative_data = orders_agg.merge(\n",
    "    visitors_agg, left_on=['date', 'group'], right_on=['date', 'group']\n",
    ")\n",
    "cumulative_data.columns = [\n",
    "    'date',#дата\n",
    "    'group',#группа\n",
    "    'orders',#число заказов\n",
    "    'buyers',#число покупателей\n",
    "    'revenue',#выручка\n",
    "    'visitors',#число посетителей\n",
    "]\n",
    "cumulative_data.head()"
   ]
  },
  {
   "cell_type": "markdown",
   "metadata": {},
   "source": [
    "###  График кумулятивной выручки по группам"
   ]
  },
  {
   "cell_type": "code",
   "execution_count": 14,
   "metadata": {},
   "outputs": [
    {
     "data": {
      "image/png": "[encoded data removed]",
      "text/plain": [
       "<Figure size 720x504 with 1 Axes>"
      ]
     },
     "metadata": {
      "needs_background": "light"
     },
     "output_type": "display_data"
    }
   ],
   "source": [
    "cumulative_revenue_a = cumulative_data[cumulative_data['group'] == 'A'][['date','revenue', 'orders']]\n",
    "cumulative_revenue_b = cumulative_data[cumulative_data['group'] == 'B'][['date','revenue', 'orders']]\n",
    "\n",
    "plt.figure(figsize=(10,7))\n",
    "plt.plot(cumulative_revenue_a['date'],cumulative_revenue_a['revenue'], label='группа A')\n",
    "plt.plot(cumulative_revenue_b['date'],cumulative_revenue_b['revenue'], label='группа B')\n",
    "plt.title(\"Кумулятивная выручка по группам\")\n",
    "plt.xlabel(\"Дата\")\n",
    "plt.ylabel(\"Выручка, млн.руб.\")\n",
    "plt.legend()\n",
    "plt.show()"
   ]
  },
  {
   "cell_type": "markdown",
   "metadata": {},
   "source": [
    "**На основании графика у обеих групп наблюдается рост выручки, однако, у группы B показатель кумулятивной выручки выше.**\n",
    "\n",
    "**В группе В наблюдается резкий скачок выручки 18-19 августа, возможно в данные дни были совершены крупные заказы.**"
   ]
  },
  {
   "cell_type": "markdown",
   "metadata": {},
   "source": [
    "###  График кумулятивного среднего чека по группам"
   ]
  },
  {
   "cell_type": "code",
   "execution_count": 15,
   "metadata": {},
   "outputs": [
    {
     "data": {
      "image/png": "[encoded data removed]",
      "text/plain": [
       "<Figure size 720x504 with 1 Axes>"
      ]
     },
     "metadata": {
      "needs_background": "light"
     },
     "output_type": "display_data"
    }
   ],
   "source": [
    "plt.figure(figsize=(10,7))\n",
    "plt.plot(cumulative_revenue_a['date'], cumulative_revenue_a['revenue']/cumulative_revenue_a['orders'], label='группа A')\n",
    "plt.plot(cumulative_revenue_b['date'], cumulative_revenue_b['revenue']/cumulative_revenue_b['orders'], label='группа B')\n",
    "plt.title(\"Кумулятивный средний чек по группам\")\n",
    "plt.xlabel(\"Дата\")\n",
    "plt.ylabel(\"Средний чек, руб.\")\n",
    "plt.legend()\n",
    "plt.show()"
   ]
  },
  {
   "cell_type": "markdown",
   "metadata": {},
   "source": [
    "**Средний чек группы В, начиная со 2 августа, практически все время был выше группы А, лишь в период с 11 по 15 августа по группе А было превышение. Однако, заметно резкое увеличение с 18-19 августа среднего чека группы В, стоит детальнее разобрать крупные заказы в этот период.**"
   ]
  },
  {
   "cell_type": "markdown",
   "metadata": {},
   "source": [
    "###  График изменения кумулятивного среднего чека группы В к группе А"
   ]
  },
  {
   "cell_type": "code",
   "execution_count": 16,
   "metadata": {},
   "outputs": [
    {
     "data": {
      "image/png": "[encoded data removed]",
      "text/plain": [
       "<Figure size 720x504 with 1 Axes>"
      ]
     },
     "metadata": {
      "needs_background": "light"
     },
     "output_type": "display_data"
    }
   ],
   "source": [
    "# собираем данные в одном датафрейме\n",
    "merged_сummulative_revenue = cumulative_revenue_a.merge(cumulative_revenue_b, left_on='date', right_on='date', how='left',\\\n",
    "                                                        suffixes=['A', 'B'])\n",
    "\n",
    "plt.figure(figsize=(10,7))\n",
    "plt.plot(merged_сummulative_revenue['date'], (merged_сummulative_revenue['revenueB']/merged_сummulative_revenue['ordersB'])/\\\n",
    "         (merged_сummulative_revenue['revenueA']/merged_сummulative_revenue['ordersA'])-1)\n",
    "plt.axhline(y=0, color='black', linestyle='--') \n",
    "plt.title(\"График относительного изменения кумулятивного среднего чека группы B к группе A\")\n",
    "plt.show()"
   ]
  },
  {
   "cell_type": "markdown",
   "metadata": {},
   "source": [
    "**В нескольких точках график различия между сегментами резко «скачет». Что еще раз подтверждает, что необходимо проверить данные на наличие анномальных заказов.**"
   ]
  },
  {
   "cell_type": "markdown",
   "metadata": {},
   "source": [
    "###  График кумулятивного среднего числа заказов на посетителя по группам"
   ]
  },
  {
   "cell_type": "code",
   "execution_count": 17,
   "metadata": {},
   "outputs": [
    {
     "data": {
      "image/png": "[encoded data removed]",
      "text/plain": [
       "<Figure size 720x504 with 1 Axes>"
      ]
     },
     "metadata": {
      "needs_background": "light"
     },
     "output_type": "display_data"
    }
   ],
   "source": [
    "# считаем среднее количество заказов на посетителя\n",
    "cumulative_data['conversion'] = cumulative_data['orders']/cumulative_data['visitors']\n",
    "\n",
    "# отделяем данные по группе A и по группе B\n",
    "cumulative_data_a = cumulative_data[cumulative_data['group']=='A']\n",
    "cumulative_data_b = cumulative_data[cumulative_data['group']=='B']\n",
    "\n",
    "plt.figure(figsize=(10,7))\n",
    "plt.plot(cumulative_data_a['date'], cumulative_data_a['conversion'], label='группа A')\n",
    "plt.plot(cumulative_data_b['date'], cumulative_data_b['conversion'], label='группа B')\n",
    "plt.title(\"График кумулятивного среднего числа заказов на посетителя по группам\")\n",
    "plt.xlabel(\"Дата\")\n",
    "plt.ylabel(\"Среднее число заказов\")\n",
    "plt.legend()\n",
    "plt.show()"
   ]
  },
  {
   "cell_type": "markdown",
   "metadata": {},
   "source": [
    "**В начале теста группа А имела большее значение кумулятивного среднего числа заказов на посетителя, однако с 6 августа группа В стала заметно преобладать по данному показателю. Однако, на графике видно, что по группе В к концу периода кривая постепенно снижается.**"
   ]
  },
  {
   "cell_type": "markdown",
   "metadata": {},
   "source": [
    "###  График изменения кумулятивного среднего числа заказов на посетителя группы В к группе А"
   ]
  },
  {
   "cell_type": "code",
   "execution_count": 18,
   "metadata": {},
   "outputs": [
    {
     "data": {
      "image/png": "[encoded data removed]",
      "text/plain": [
       "<Figure size 720x504 with 1 Axes>"
      ]
     },
     "metadata": {
      "needs_background": "light"
     },
     "output_type": "display_data"
    }
   ],
   "source": [
    "# собираем данные конверсии в одном датафрейме\n",
    "merged_сumulative_сonversions = cumulative_data_a[['date','conversion']].merge(cumulative_data_b[['date','conversion']],\\\n",
    "                                                            left_on='date', right_on='date', how='left', suffixes=['A', 'B'])\n",
    "\n",
    "plt.figure(figsize=(10,7))\n",
    "plt.plot(merged_сumulative_сonversions['date'], merged_сumulative_сonversions['conversionB']/merged_сumulative_сonversions['conversionA']-1)\n",
    "plt.axhline(y=0, color='black', linestyle='--') \n",
    "plt.title(\"График относительного изменения среднего числа заказов на посетителя группы B к группе A\")\n",
    "plt.show()"
   ]
  },
  {
   "cell_type": "markdown",
   "metadata": {},
   "source": [
    "**До 6 августа показатель изменения среднего числа заказов на посетителя группы B к группе A в основном имел отрицательное значение, с 6 августа произошел резкий скачок, однако, не смотря на дальнейший рост, все же к концу периода показатель плавно снижается.**"
   ]
  },
  {
   "cell_type": "markdown",
   "metadata": {},
   "source": [
    "###  График количества заказов по пользователям. Определение границы аномальных пользователей"
   ]
  },
  {
   "cell_type": "code",
   "execution_count": 19,
   "metadata": {},
   "outputs": [
    {
     "data": {
      "text/html": [
       "<div>\n",
       "<style scoped>\n",
       "    .dataframe tbody tr th:only-of-type {\n",
       "        vertical-align: middle;\n",
       "    }\n",
       "\n",
       "    .dataframe tbody tr th {\n",
       "        vertical-align: top;\n",
       "    }\n",
       "\n",
       "    .dataframe thead th {\n",
       "        text-align: right;\n",
       "    }\n",
       "</style>\n",
       "<table border=\"1\" class=\"dataframe\">\n",
       "  <thead>\n",
       "    <tr style=\"text-align: right;\">\n",
       "      <th></th>\n",
       "      <th>userId</th>\n",
       "      <th>orders</th>\n",
       "    </tr>\n",
       "  </thead>\n",
       "  <tbody>\n",
       "    <tr>\n",
       "      <th>1023</th>\n",
       "      <td>4256040402</td>\n",
       "      <td>11</td>\n",
       "    </tr>\n",
       "    <tr>\n",
       "      <th>591</th>\n",
       "      <td>2458001652</td>\n",
       "      <td>11</td>\n",
       "    </tr>\n",
       "    <tr>\n",
       "      <th>569</th>\n",
       "      <td>2378935119</td>\n",
       "      <td>9</td>\n",
       "    </tr>\n",
       "    <tr>\n",
       "      <th>487</th>\n",
       "      <td>2038680547</td>\n",
       "      <td>8</td>\n",
       "    </tr>\n",
       "    <tr>\n",
       "      <th>44</th>\n",
       "      <td>199603092</td>\n",
       "      <td>5</td>\n",
       "    </tr>\n",
       "  </tbody>\n",
       "</table>\n",
       "</div>"
      ],
      "text/plain": [
       "          userId  orders\n",
       "1023  4256040402      11\n",
       "591   2458001652      11\n",
       "569   2378935119       9\n",
       "487   2038680547       8\n",
       "44     199603092       5"
      ]
     },
     "execution_count": 19,
     "metadata": {},
     "output_type": "execute_result"
    }
   ],
   "source": [
    "# посчитаем сколько заказов совершил каждый пользователь\n",
    "orders_by_users = orders.groupby('visitorId', as_index=False).agg({'transactionId': 'nunique'})\n",
    "orders_by_users.columns = ['userId', 'orders']\n",
    "orders_by_users.sort_values(by='orders', ascending=False).head()"
   ]
  },
  {
   "cell_type": "code",
   "execution_count": 20,
   "metadata": {},
   "outputs": [
    {
     "data": {
      "image/png": "[encoded data removed]",
      "text/plain": [
       "<Figure size 720x504 with 1 Axes>"
      ]
     },
     "metadata": {
      "needs_background": "light"
     },
     "output_type": "display_data"
    }
   ],
   "source": [
    "x_values = pd.Series(range(0,len(orders_by_users)))\n",
    "\n",
    "plt.figure(figsize=(10,7))\n",
    "plt.scatter(x_values, orders_by_users['orders'])\n",
    "plt.title(\"Точечный график количества заказов по пользователям\")\n",
    "plt.xlabel(\"Число пользователей\")\n",
    "plt.ylabel(\"Число заказов\")\n",
    "plt.show()"
   ]
  },
  {
   "cell_type": "markdown",
   "metadata": {},
   "source": [
    "Судя по графику большинство пользователей совершают не более 2-х заказов, также есть единичные покупатели, которые совершили от 4 до 11 заказов. Понять считать ли их аномалиями стоит после расчета 95 и 99 перцентилей."
   ]
  },
  {
   "cell_type": "code",
   "execution_count": 21,
   "metadata": {},
   "outputs": [
    {
     "name": "stdout",
     "output_type": "stream",
     "text": [
      "[1. 2. 4.]\n"
     ]
    }
   ],
   "source": [
    "print(np.percentile(orders_by_users['orders'], [90, 95, 99]))"
   ]
  },
  {
   "cell_type": "markdown",
   "metadata": {},
   "source": [
    "**Расчет перцентилей показал, что не более 5% пользователей оформляли больше чем 2 заказа. И 1% пользователей заказывали более 4 раз. Разумно выбрать 2 заказа на одного пользователя как за верхнюю границу числа заказов, и отсеять аномальных пользователей по ней.**"
   ]
  },
  {
   "cell_type": "markdown",
   "metadata": {},
   "source": [
    "###  График стоимостей заказов. Определение границы аномальных заказов"
   ]
  },
  {
   "cell_type": "code",
   "execution_count": 22,
   "metadata": {},
   "outputs": [
    {
     "data": {
      "image/png": "[encoded data removed]",
      "text/plain": [
       "<Figure size 720x504 with 1 Axes>"
      ]
     },
     "metadata": {
      "needs_background": "light"
     },
     "output_type": "display_data"
    }
   ],
   "source": [
    "x_values = pd.Series(range(0, len(orders['revenue'])))\n",
    "\n",
    "plt.figure(figsize=(10,7))\n",
    "plt.scatter(x_values, orders['revenue'])\n",
    "plt.ylim(0,250000)\n",
    "plt.title(\"Точечный график стоимостей заказов\")\n",
    "plt.xlabel(\"Число пользователей\")\n",
    "plt.ylabel(\"Стоимость заказа\")\n",
    "plt.show()"
   ]
  },
  {
   "cell_type": "markdown",
   "metadata": {},
   "source": [
    "Судя по графику в основном пользователи делают заказы на сумму не более 25-30 тыс. Проверим расчет 95 и 99 процентилей."
   ]
  },
  {
   "cell_type": "code",
   "execution_count": 23,
   "metadata": {},
   "outputs": [
    {
     "name": "stdout",
     "output_type": "stream",
     "text": [
      "[18168.  28000.  58233.2]\n"
     ]
    }
   ],
   "source": [
    "print(np.percentile(orders['revenue'], [90, 95, 99]))"
   ]
  },
  {
   "cell_type": "markdown",
   "metadata": {},
   "source": [
    "**Расчет перцентилей показал, что не более 5% пользователей делают покупки дороже 28 000. И 1% пользователей заказывали на сумму более чем 58 233. Необходимо выбрать 28 000 как верхнюю границу стоимости заказа.**"
   ]
  },
  {
   "cell_type": "markdown",
   "metadata": {},
   "source": [
    "### Статистическая значимость различий в среднем количестве заказов на посетителя между группами по \"сырым\" данным"
   ]
  },
  {
   "cell_type": "markdown",
   "metadata": {},
   "source": [
    "Сформулируем гипотезы:\n",
    "\n",
    "**Нулевая гипотеза** - различий в среднем количестве заказов между группами нет.\n",
    "\n",
    "**Альтернативная гипотеза** - различия в среднем между группами есть."
   ]
  },
  {
   "cell_type": "code",
   "execution_count": 24,
   "metadata": {},
   "outputs": [],
   "source": [
    "# сделаем отдельно таблицы с расчетами кол-ва посетителей на каждую дату по каждой группе, а также накопительно\n",
    "visitors_daily_a = visitors[visitors['group'] == 'A'][['date', 'visitors']]\n",
    "visitors_daily_a.columns = ['date', 'visitors_date_a']\n",
    "\n",
    "\n",
    "visitors_cum_a = visitors_daily_a.apply(lambda x: visitors_daily_a[visitors_daily_a['date'] <= x['date']]\\\n",
    "                                        .agg({'date': 'max', 'visitors_date_a': 'sum'}),axis=1)\n",
    "visitors_cum_a.columns = ['date', 'visitors_cum_a']\n",
    "\n",
    "\n",
    "\n",
    "visitors_daily_b = visitors[visitors['group'] == 'B'][['date', 'visitors']]\n",
    "visitors_daily_b.columns = ['date', 'visitors_date_b']\n",
    "\n",
    "\n",
    "visitors_cum_b = visitors_daily_b.apply(lambda x: visitors_daily_b[visitors_daily_b['date'] <= x['date']]\\\n",
    "                                        .agg({'date': 'max', 'visitors_date_b': 'sum'}),axis=1)\n",
    "visitors_cum_b.columns = ['date', 'visitors_cum_b']"
   ]
  },
  {
   "cell_type": "code",
   "execution_count": 25,
   "metadata": {},
   "outputs": [],
   "source": [
    "# сделаем отдельно таблицы с расчетами кол-ва заказов, выручкой на каждую дату по каждой группе, а также накопительно\n",
    "orders_daily_a = orders[orders['group'] == 'A'][['date', 'transactionId', 'visitorId', 'revenue']]\\\n",
    "                 .groupby('date', as_index=False).agg({'transactionId': pd.Series.nunique, 'revenue': 'sum'})\n",
    "orders_daily_a.columns = ['date', 'orders_date_a', 'revenue_date_a']\n",
    "\n",
    "\n",
    "orders_cum_a = orders_daily_a.apply(lambda x: orders_daily_a[orders_daily_a['date'] <= x['date']]\\\n",
    "                                    .agg({'date': 'max', 'orders_date_a': 'sum', 'revenue_date_a': 'sum'}),axis=1)\\\n",
    "                                    .sort_values(by=['date'])\n",
    "orders_cum_a.columns = ['date','orders_cum_a','revenue_cum_a']\n",
    "\n",
    "\n",
    "orders_daily_b = orders[orders['group'] == 'B'][['date', 'transactionId', 'visitorId', 'revenue']]\\\n",
    "                 .groupby('date', as_index=False).agg({'transactionId': pd.Series.nunique, 'revenue': 'sum'})\n",
    "orders_daily_b.columns = ['date', 'orders_date_b', 'revenue_date_b']\n",
    "\n",
    "\n",
    "orders_cum_b = orders_daily_b.apply(lambda x: orders_daily_b[orders_daily_b['date'] <= x['date']]\\\n",
    "                                    .agg({'date': 'max', 'orders_date_b': 'sum', 'revenue_date_b': 'sum'}),axis=1)\\\n",
    "                                    .sort_values(by=['date'])\n",
    "orders_cum_b.columns = ['date','orders_cum_b','revenue_cum_b']"
   ]
  },
  {
   "cell_type": "code",
   "execution_count": 26,
   "metadata": {},
   "outputs": [
    {
     "data": {
      "text/html": [
       "<div>\n",
       "<style scoped>\n",
       "    .dataframe tbody tr th:only-of-type {\n",
       "        vertical-align: middle;\n",
       "    }\n",
       "\n",
       "    .dataframe tbody tr th {\n",
       "        vertical-align: top;\n",
       "    }\n",
       "\n",
       "    .dataframe thead th {\n",
       "        text-align: right;\n",
       "    }\n",
       "</style>\n",
       "<table border=\"1\" class=\"dataframe\">\n",
       "  <thead>\n",
       "    <tr style=\"text-align: right;\">\n",
       "      <th></th>\n",
       "      <th>date</th>\n",
       "      <th>orders_date_a</th>\n",
       "      <th>revenue_date_a</th>\n",
       "      <th>orders_date_b</th>\n",
       "      <th>revenue_date_b</th>\n",
       "      <th>orders_cum_a</th>\n",
       "      <th>revenue_cum_a</th>\n",
       "      <th>orders_cum_b</th>\n",
       "      <th>revenue_cum_b</th>\n",
       "      <th>visitors_date_a</th>\n",
       "      <th>visitors_date_b</th>\n",
       "      <th>visitors_cum_a</th>\n",
       "      <th>visitors_cum_b</th>\n",
       "    </tr>\n",
       "  </thead>\n",
       "  <tbody>\n",
       "    <tr>\n",
       "      <th>0</th>\n",
       "      <td>2019-08-01</td>\n",
       "      <td>24</td>\n",
       "      <td>148579</td>\n",
       "      <td>21</td>\n",
       "      <td>101217</td>\n",
       "      <td>24</td>\n",
       "      <td>148579</td>\n",
       "      <td>21</td>\n",
       "      <td>101217</td>\n",
       "      <td>719</td>\n",
       "      <td>713</td>\n",
       "      <td>719</td>\n",
       "      <td>713</td>\n",
       "    </tr>\n",
       "    <tr>\n",
       "      <th>1</th>\n",
       "      <td>2019-08-02</td>\n",
       "      <td>20</td>\n",
       "      <td>93822</td>\n",
       "      <td>24</td>\n",
       "      <td>165531</td>\n",
       "      <td>44</td>\n",
       "      <td>242401</td>\n",
       "      <td>45</td>\n",
       "      <td>266748</td>\n",
       "      <td>619</td>\n",
       "      <td>581</td>\n",
       "      <td>1338</td>\n",
       "      <td>1294</td>\n",
       "    </tr>\n",
       "    <tr>\n",
       "      <th>2</th>\n",
       "      <td>2019-08-03</td>\n",
       "      <td>24</td>\n",
       "      <td>112473</td>\n",
       "      <td>16</td>\n",
       "      <td>114248</td>\n",
       "      <td>68</td>\n",
       "      <td>354874</td>\n",
       "      <td>61</td>\n",
       "      <td>380996</td>\n",
       "      <td>507</td>\n",
       "      <td>509</td>\n",
       "      <td>1845</td>\n",
       "      <td>1803</td>\n",
       "    </tr>\n",
       "    <tr>\n",
       "      <th>3</th>\n",
       "      <td>2019-08-04</td>\n",
       "      <td>16</td>\n",
       "      <td>70825</td>\n",
       "      <td>17</td>\n",
       "      <td>108571</td>\n",
       "      <td>84</td>\n",
       "      <td>425699</td>\n",
       "      <td>78</td>\n",
       "      <td>489567</td>\n",
       "      <td>717</td>\n",
       "      <td>770</td>\n",
       "      <td>2562</td>\n",
       "      <td>2573</td>\n",
       "    </tr>\n",
       "    <tr>\n",
       "      <th>4</th>\n",
       "      <td>2019-08-05</td>\n",
       "      <td>25</td>\n",
       "      <td>124218</td>\n",
       "      <td>23</td>\n",
       "      <td>92428</td>\n",
       "      <td>109</td>\n",
       "      <td>549917</td>\n",
       "      <td>101</td>\n",
       "      <td>581995</td>\n",
       "      <td>756</td>\n",
       "      <td>707</td>\n",
       "      <td>3318</td>\n",
       "      <td>3280</td>\n",
       "    </tr>\n",
       "  </tbody>\n",
       "</table>\n",
       "</div>"
      ],
      "text/plain": [
       "        date  orders_date_a  revenue_date_a  orders_date_b  revenue_date_b  \\\n",
       "0 2019-08-01             24          148579             21          101217   \n",
       "1 2019-08-02             20           93822             24          165531   \n",
       "2 2019-08-03             24          112473             16          114248   \n",
       "3 2019-08-04             16           70825             17          108571   \n",
       "4 2019-08-05             25          124218             23           92428   \n",
       "\n",
       "   orders_cum_a  revenue_cum_a  orders_cum_b  revenue_cum_b  visitors_date_a  \\\n",
       "0            24         148579            21         101217              719   \n",
       "1            44         242401            45         266748              619   \n",
       "2            68         354874            61         380996              507   \n",
       "3            84         425699            78         489567              717   \n",
       "4           109         549917           101         581995              756   \n",
       "\n",
       "   visitors_date_b  visitors_cum_a  visitors_cum_b  \n",
       "0              713             719             713  \n",
       "1              581            1338            1294  \n",
       "2              509            1845            1803  \n",
       "3              770            2562            2573  \n",
       "4              707            3318            3280  "
      ]
     },
     "execution_count": 26,
     "metadata": {},
     "output_type": "execute_result"
    }
   ],
   "source": [
    "# объединим все в один датафрейм\n",
    "data_merged = (\n",
    "    orders_daily_a.merge(\n",
    "        orders_daily_b, left_on='date', right_on='date', how='left'\n",
    "    )\n",
    "    .merge(orders_cum_a, left_on='date', right_on='date', how='left')\n",
    "    .merge(orders_cum_b, left_on='date', right_on='date', how='left')\n",
    "    .merge(visitors_daily_a, left_on='date', right_on='date', how='left')\n",
    "    .merge(visitors_daily_b, left_on='date', right_on='date', how='left')\n",
    "    .merge(visitors_cum_a, left_on='date', right_on='date', how='left')\n",
    "    .merge(visitors_cum_b, left_on='date', right_on='date', how='left')\n",
    ")\n",
    "data_merged.head()"
   ]
  },
  {
   "cell_type": "code",
   "execution_count": 27,
   "metadata": {},
   "outputs": [],
   "source": [
    "#cоздадим переменные, в них для пользователей, которые заказывали хотя бы 1 раз, укажем число совершённых заказов\n",
    "orders_users_a = orders[orders['group'] == 'A'].groupby('visitorId', as_index=False).agg({'transactionId': pd.Series.nunique})\n",
    "orders_users_a.columns = ['userId', 'orders']\n",
    "\n",
    "\n",
    "orders_users_b = orders[orders['group'] == 'B'].groupby('visitorId', as_index=False).agg({'transactionId': pd.Series.nunique})\n",
    "orders_users_b.columns = ['userId', 'orders']"
   ]
  },
  {
   "cell_type": "code",
   "execution_count": 28,
   "metadata": {},
   "outputs": [
    {
     "name": "stdout",
     "output_type": "stream",
     "text": [
      "p-value: 0.017\n",
      "Относительный прирост: 0.138\n"
     ]
    }
   ],
   "source": [
    "# cоздадим переменные: пользователям из разных групп будет соответствовать количество заказов\n",
    "sample_a = pd.concat([orders_users_a['orders'],pd.Series(0, index=np.arange(data_merged['visitors_date_a'].sum() - \\\n",
    "                                                        len(orders_users_a['orders'])), name='orders')],axis=0)\n",
    "\n",
    "sample_b = pd.concat([orders_users_b['orders'],pd.Series(0, index=np.arange(data_merged['visitors_date_b'].sum() - \\\n",
    "                                                        len(orders_users_b['orders'])), name='orders')],axis=0)\n",
    "\n",
    "print(\"p-value:\", \"{0:.3f}\".format(stats.mannwhitneyu(sample_a, sample_b)[1]))\n",
    "\n",
    "print(\"Относительный прирост:\",\"{0:.3f}\".format(sample_b.mean() / sample_a.mean() - 1))"
   ]
  },
  {
   "cell_type": "markdown",
   "metadata": {},
   "source": [
    "**По «сырым» данным значение p-value = 1,7% , что значительно меньше уровня статистической значимости в 5%. Нулевая гипотеза отвергается, различия в среднем количестве заказов между группами есть. Относительный выигрыш группы B равен 13,8%**"
   ]
  },
  {
   "cell_type": "markdown",
   "metadata": {},
   "source": [
    "### Статистическая значимость различий в среднем чеке заказа между группами по \"сырым\" данным"
   ]
  },
  {
   "cell_type": "markdown",
   "metadata": {},
   "source": [
    "Сформулируем гипотезы:\n",
    "\n",
    "**Нулевая гипотеза** - различий в среднем чеке между группами нет.\n",
    "\n",
    "**Альтернативная гипотеза** - различия в среднем между группами есть."
   ]
  },
  {
   "cell_type": "code",
   "execution_count": 29,
   "metadata": {},
   "outputs": [
    {
     "name": "stdout",
     "output_type": "stream",
     "text": [
      "p-value: 0.729\n",
      "Относительный прирост: 0.259\n"
     ]
    }
   ],
   "source": [
    "print(\"p-value:\",\"{0:.3f}\".format(stats.mannwhitneyu(orders[orders['group']=='A']['revenue'], \\\n",
    "                                                     orders[orders['group']=='B']['revenue'])[1]))\n",
    "\n",
    "print(\"Относительный прирост:\",\"{0:.3f}\".format(orders[orders['group']=='B']['revenue'].\\\n",
    "                                                mean()/orders[orders['group']=='A']['revenue'].mean()-1))"
   ]
  },
  {
   "cell_type": "markdown",
   "metadata": {},
   "source": [
    "**По «сырым» данным значение p-value значительно больше 5%. Значит, причин отвергать нулевую гипотезу и считать, что в среднем чеке есть различия, нет. Впрочем, средний чек группы B значительно выше среднего чека группы A - на 25,9%.**"
   ]
  },
  {
   "cell_type": "markdown",
   "metadata": {},
   "source": [
    "### Статистическая значимость различий в среднем количестве заказов на посетителя между группами по \"очищенным\" данным"
   ]
  },
  {
   "cell_type": "markdown",
   "metadata": {},
   "source": [
    "Для начала очистим данные : примем за аномальных пользователей тех, кто совершил от 3 заказов или совершил заказ дороже 28 000 рублей."
   ]
  },
  {
   "cell_type": "code",
   "execution_count": 30,
   "metadata": {},
   "outputs": [
    {
     "name": "stdout",
     "output_type": "stream",
     "text": [
      "Аномальных пользователей: 74\n"
     ]
    }
   ],
   "source": [
    "users_many_orders = pd.concat([orders_users_a[orders_users_a['orders'] > 2]['userId'],\\\n",
    "                               orders_users_b[orders_users_b['orders'] > 2]['userId'],], axis=0)\n",
    "users_exp_orders = orders[orders['revenue'] > 28000]['visitorId']\n",
    "\n",
    "filter_users = pd.concat([users_many_orders, users_exp_orders], axis=0).drop_duplicates().sort_values()\n",
    "\n",
    "# узнаем сколько всего аномальных пользователей\n",
    "print(\"Аномальных пользователей:\", filter_users.shape[0]) "
   ]
  },
  {
   "cell_type": "markdown",
   "metadata": {},
   "source": [
    "Нулевую и альтернативную гипотезы оставим такими же, как и для анализа по \"сырым\" данным."
   ]
  },
  {
   "cell_type": "code",
   "execution_count": 31,
   "metadata": {},
   "outputs": [
    {
     "name": "stdout",
     "output_type": "stream",
     "text": [
      "p-value: 0.013\n",
      "Относительный прирост: 0.173\n"
     ]
    }
   ],
   "source": [
    "# cоздадим переменные очищенным данным: пользователям из разных групп будет соответствовать количество заказов\n",
    "sample_a_filter = pd.concat([orders_users_a[np.logical_not(orders_users_a['userId'].isin(filter_users))]['orders'],\\\n",
    "                             pd.Series(0, index=np.arange(data_merged['visitors_date_a'].sum() -\\\n",
    "                                                          len(orders_users_a['orders'])),name='orders')], axis=0)\n",
    "\n",
    "sample_b_filter = pd.concat([orders_users_b[np.logical_not(orders_users_b['userId'].isin(filter_users))]['orders'],\\\n",
    "                             pd.Series(0, index=np.arange(data_merged['visitors_date_b'].sum() -\\\n",
    "                                                          len(orders_users_b['orders'])),name='orders')], axis=0)\n",
    "\n",
    "print(\"p-value:\", \"{0:.3f}\".format(stats.mannwhitneyu(sample_a_filter, sample_b_filter)[1]))\n",
    "print(\"Относительный прирост:\",\"{0:.3f}\".format(sample_b_filter.mean()/sample_a_filter.mean()-1)) "
   ]
  },
  {
   "cell_type": "markdown",
   "metadata": {},
   "source": [
    "**По «очищенным» данным значение p-value = 1,3% , что также значительно меньше уровня статистической значимости, как и при расчете на \"сырых\" данных. Нулевая гипотеза отвергается, различия в среднем количестве заказов между группами есть. Относительный выигрыш группы B увеличился - 17,3%**"
   ]
  },
  {
   "cell_type": "markdown",
   "metadata": {},
   "source": [
    "### Статистическая значимость различий в среднем чеке заказа между группами по \"очищенным\" данным"
   ]
  },
  {
   "cell_type": "markdown",
   "metadata": {},
   "source": [
    "Нулевую и альтернативную гипотезы оставим такими же, как и для анализа по \"сырым\" данным."
   ]
  },
  {
   "cell_type": "code",
   "execution_count": 32,
   "metadata": {},
   "outputs": [
    {
     "name": "stdout",
     "output_type": "stream",
     "text": [
      "p-value: 0.738\n",
      "Относительный прирост: -0.020\n"
     ]
    }
   ],
   "source": [
    "print(\"p-value:\", \"{0:.3f}\".format(stats.mannwhitneyu(orders[np.logical_and(orders['group'] == 'A',\\\n",
    "                                                np.logical_not(orders['visitorId'].isin(filter_users)))]['revenue'],\\\n",
    "                                          orders[np.logical_and(orders['group'] == 'B',np.logical_not(orders['visitorId']\\\n",
    "                                                                                      .isin(filter_users)))]['revenue'])[1]))\n",
    "\n",
    "print(\"Относительный прирост:\",\"{0:.3f}\".format(orders[np.logical_and(orders['group'] == 'B',np.logical_not(orders['visitorId']\\\n",
    "                                                                                     .isin(filter_users)))]['revenue'].mean() /\\\n",
    "                                                orders[np.logical_and(orders['group'] == 'A', np.logical_not(orders['visitorId']\\\n",
    "                                                                                     .isin(filter_users)))]['revenue'].mean()- 1))"
   ]
  },
  {
   "cell_type": "markdown",
   "metadata": {},
   "source": [
    "**По «очищенным» данным значение p-value = 73,8% , что также значительно больше уровня статистической значимости, как и при расчете на \"сырых\" данных. Значит, также причин отвергать нулевую гипотезу и считать, что в среднем чеке есть различия, нет. Однако, на \"очищенных\" данных средний чек группы B стал незначительно ниже среднего чека группы A.**"
   ]
  },
  {
   "cell_type": "markdown",
   "metadata": {},
   "source": [
    "### Решение по результатам A/B теста"
   ]
  },
  {
   "cell_type": "markdown",
   "metadata": {},
   "source": [
    "На основе анализа проведенного теста можно принять решение об **остановке теста и зафиксировать победу за группой В**.\n",
    "\n",
    "Кумулятивные метрики по выручке, среднему чеку и конверсии почти все время лидировали в группе B. Не смотря на то,что статистической значимости различий в среднем чеке между группами нет, группа B показала выше показатель при расчете статистической значимости среднего количества заказов."
   ]
  },
  {
   "cell_type": "markdown",
   "metadata": {},
   "source": [
    "## Выводы"
   ]
  },
  {
   "cell_type": "markdown",
   "metadata": {},
   "source": [
    "**Результаты изучения и обработки данных**:\n",
    "* предоставлены данные для приоритизации гипотез и данные результата проведения А/В теста за период 01.08.2019 - 31.08.2019\n",
    "* пропуски и дубликаты отсутствуют\n",
    "* наименования столбцов приведены к нижнему регистру, столбцы с датой приведены к типу datetime."
   ]
  },
  {
   "cell_type": "markdown",
   "metadata": {},
   "source": [
    "**В первой части проекта была проведена приоритизация 9 гипотез по увеличению выручки интернет-магазина:**\n",
    "\n",
    "* при расчете методом ICE наивысший приоритет показала гипотеза \"Запустить акцию, дающую скидку на товар в день рождения\". \n",
    "\n",
    "* при расчете методом RICE наиболее перспективная нипотеза - \"Добавить форму подписки на все основные страницы, чтобы собрать базу клиентов для email-рассылок\". Так как при расчете приоритизации гипотез методом RICE учитывается также показатель REACH (количество пользователей, которых затронет изменение), приоритет гипотез отличается от расчета методом ICE.\n",
    "\n",
    "* в целом приоритетной необходимо признать гипотезу \"Добавить форму подписки на все основные страницы, чтобы собрать базу клиентов для email-рассылок\", так как при расчете методом ICE данная гипотеза получила также довольно-таки высокий приоритет."
   ]
  },
  {
   "cell_type": "markdown",
   "metadata": {},
   "source": [
    "**Во второй части проекта проводился анализ А/В-теста, были сделаны следующие выводы:**\n",
    "\n",
    "* показатели кумулятивной выручка и кумулятивного среднего чека группы В практически на протяжении всего периода анализа были выше показателей группы А. Однако, замечены некоторые скачки, которые в дальнейшем были выявлены как аномально крупные заказы, что влияло как на вырчуку, так и на средний чек.\n",
    "* в начале периода группа А имела большее значение кумулятивного среднего числа заказов на посетителя (конверсии), однако с 6 августа группа В стала заметно преобладать по данному показателю с легкой тенденцией к снижению к концу периода\n",
    "* расчет перцентилей показал, что не более 5% пользователей совершают более 2 покупок и  дороже 28 000.\n",
    "\n",
    "**Был произведен расчет статистической значимости различий в конверсии и в сумме среднего чека между группами по «сырым» и \"очищенным\" данным:**\n",
    "* при расчете статистической значимости конверсии, как по \"сырым\" так и по \"очищенным\" данным, значение p-value было меньше уровня статистической значимости (5%). В связи с этим подтверждается, что различие в среднем количестве заказов между группами есть. В обоих случаях расчета выигрыш по конверсии за группой В\n",
    "* при расчете статистической значимости различий в среднем чеке, как по \"сырым\" так и по \"очищенным\" данным,  p-value значительно больше 5%. Значит, причин считать, что в среднем чеке есть различия, нет. Однако, при расчете на \"сырых\" данных средний чек группы В был значительно выше среднего чека группы A, в то время, как при расчете на \"очищенных\" данных ситуация в корне изменилась, и средний чек группы В стал чуть ниже среднего чека группы А.\n",
    "\n",
    "\n",
    "**На основании произведенных расчетов было принято решении об остановке теста и признания победы за группой В.**"
   ]
  }
 ],
 "metadata": {
  "ExecuteTimeLog": [
   {
    "duration": 3,
    "start_time": "2024-05-30T08:48:16.257Z"
   },
   {
    "duration": 1004,
    "start_time": "2024-05-30T08:50:27.394Z"
   },
   {
    "duration": 5,
    "start_time": "2024-05-30T08:53:32.154Z"
   },
   {
    "duration": 224,
    "start_time": "2024-05-30T08:53:34.205Z"
   },
   {
    "duration": 44,
    "start_time": "2024-05-30T08:55:03.429Z"
   },
   {
    "duration": 37,
    "start_time": "2024-05-30T09:01:35.747Z"
   },
   {
    "duration": 31,
    "start_time": "2024-05-30T09:06:51.569Z"
   },
   {
    "duration": 57,
    "start_time": "2024-05-30T09:09:59.204Z"
   },
   {
    "duration": 11,
    "start_time": "2024-05-30T09:12:51.351Z"
   },
   {
    "duration": 4,
    "start_time": "2024-05-30T09:13:13.714Z"
   },
   {
    "duration": 95,
    "start_time": "2024-05-30T09:13:21.273Z"
   },
   {
    "duration": 11,
    "start_time": "2024-05-30T09:13:37.892Z"
   },
   {
    "duration": 11,
    "start_time": "2024-05-30T09:13:54.984Z"
   },
   {
    "duration": 16,
    "start_time": "2024-05-30T09:14:37.856Z"
   },
   {
    "duration": 20,
    "start_time": "2024-05-30T09:17:03.869Z"
   },
   {
    "duration": 12,
    "start_time": "2024-05-30T09:18:32.973Z"
   },
   {
    "duration": 73,
    "start_time": "2024-05-30T09:24:18.351Z"
   },
   {
    "duration": 8,
    "start_time": "2024-05-30T09:24:22.330Z"
   },
   {
    "duration": 4,
    "start_time": "2024-05-30T09:24:33.746Z"
   },
   {
    "duration": 10,
    "start_time": "2024-05-30T09:24:35.471Z"
   },
   {
    "duration": 12,
    "start_time": "2024-05-30T09:24:47.374Z"
   },
   {
    "duration": 10,
    "start_time": "2024-05-30T09:24:47.681Z"
   },
   {
    "duration": 3,
    "start_time": "2024-05-30T09:24:54.533Z"
   },
   {
    "duration": 85,
    "start_time": "2024-05-30T09:24:54.538Z"
   },
   {
    "duration": 4,
    "start_time": "2024-05-30T09:24:54.624Z"
   },
   {
    "duration": 58,
    "start_time": "2024-05-30T09:24:54.629Z"
   },
   {
    "duration": 33,
    "start_time": "2024-05-30T09:24:54.689Z"
   },
   {
    "duration": 25,
    "start_time": "2024-05-30T09:24:54.723Z"
   },
   {
    "duration": 3,
    "start_time": "2024-05-30T09:24:54.782Z"
   },
   {
    "duration": 68,
    "start_time": "2024-05-30T09:24:54.786Z"
   },
   {
    "duration": 1032,
    "start_time": "2024-05-30T09:25:07.975Z"
   },
   {
    "duration": 76,
    "start_time": "2024-05-30T09:25:09.009Z"
   },
   {
    "duration": 4,
    "start_time": "2024-05-30T09:25:09.086Z"
   },
   {
    "duration": 49,
    "start_time": "2024-05-30T09:25:09.092Z"
   },
   {
    "duration": 48,
    "start_time": "2024-05-30T09:25:09.143Z"
   },
   {
    "duration": 27,
    "start_time": "2024-05-30T09:25:09.193Z"
   },
   {
    "duration": 3,
    "start_time": "2024-05-30T09:25:09.222Z"
   },
   {
    "duration": 15,
    "start_time": "2024-05-30T09:25:09.227Z"
   },
   {
    "duration": 10,
    "start_time": "2024-05-30T09:25:19.119Z"
   },
   {
    "duration": 401,
    "start_time": "2024-05-30T09:46:11.048Z"
   },
   {
    "duration": 4,
    "start_time": "2024-05-30T09:46:37.921Z"
   },
   {
    "duration": 77,
    "start_time": "2024-05-30T09:46:37.927Z"
   },
   {
    "duration": 4,
    "start_time": "2024-05-30T09:46:38.005Z"
   },
   {
    "duration": 38,
    "start_time": "2024-05-30T09:46:38.011Z"
   },
   {
    "duration": 49,
    "start_time": "2024-05-30T09:46:38.051Z"
   },
   {
    "duration": 26,
    "start_time": "2024-05-30T09:46:38.102Z"
   },
   {
    "duration": 14,
    "start_time": "2024-05-30T09:46:38.130Z"
   },
   {
    "duration": 53,
    "start_time": "2024-05-30T09:46:38.146Z"
   },
   {
    "duration": 264,
    "start_time": "2024-05-30T09:47:17.993Z"
   },
   {
    "duration": 985,
    "start_time": "2024-05-30T09:47:56.422Z"
   },
   {
    "duration": 77,
    "start_time": "2024-05-30T09:47:57.408Z"
   },
   {
    "duration": 4,
    "start_time": "2024-05-30T09:47:57.486Z"
   },
   {
    "duration": 48,
    "start_time": "2024-05-30T09:47:57.492Z"
   },
   {
    "duration": 63,
    "start_time": "2024-05-30T09:47:57.542Z"
   },
   {
    "duration": 27,
    "start_time": "2024-05-30T09:47:57.607Z"
   },
   {
    "duration": 11,
    "start_time": "2024-05-30T09:47:57.636Z"
   },
   {
    "duration": 23,
    "start_time": "2024-05-30T09:47:57.683Z"
   },
   {
    "duration": 24,
    "start_time": "2024-05-30T09:48:17.209Z"
   },
   {
    "duration": 341,
    "start_time": "2024-05-30T09:48:31.863Z"
   },
   {
    "duration": 1049,
    "start_time": "2024-05-30T09:48:44.455Z"
   },
   {
    "duration": 78,
    "start_time": "2024-05-30T09:48:45.506Z"
   },
   {
    "duration": 5,
    "start_time": "2024-05-30T09:48:45.585Z"
   },
   {
    "duration": 49,
    "start_time": "2024-05-30T09:48:45.592Z"
   },
   {
    "duration": 61,
    "start_time": "2024-05-30T09:48:45.643Z"
   },
   {
    "duration": 29,
    "start_time": "2024-05-30T09:48:45.705Z"
   },
   {
    "duration": 11,
    "start_time": "2024-05-30T09:48:45.736Z"
   },
   {
    "duration": 32,
    "start_time": "2024-05-30T09:48:45.781Z"
   },
   {
    "duration": 7,
    "start_time": "2024-05-30T09:53:08.165Z"
   },
   {
    "duration": 3,
    "start_time": "2024-05-30T09:53:32.930Z"
   },
   {
    "duration": 5,
    "start_time": "2024-05-30T09:53:39.549Z"
   },
   {
    "duration": 4,
    "start_time": "2024-05-30T09:53:47.290Z"
   },
   {
    "duration": 6,
    "start_time": "2024-05-30T09:53:53.795Z"
   },
   {
    "duration": 7,
    "start_time": "2024-05-30T09:54:11.455Z"
   },
   {
    "duration": 4,
    "start_time": "2024-05-30T09:54:53.367Z"
   },
   {
    "duration": 95,
    "start_time": "2024-05-30T09:54:53.373Z"
   },
   {
    "duration": 4,
    "start_time": "2024-05-30T09:54:53.470Z"
   },
   {
    "duration": 42,
    "start_time": "2024-05-30T09:54:53.476Z"
   },
   {
    "duration": 63,
    "start_time": "2024-05-30T09:54:53.521Z"
   },
   {
    "duration": 28,
    "start_time": "2024-05-30T09:54:53.586Z"
   },
   {
    "duration": 11,
    "start_time": "2024-05-30T09:54:53.616Z"
   },
   {
    "duration": 58,
    "start_time": "2024-05-30T09:54:53.629Z"
   },
   {
    "duration": 45,
    "start_time": "2024-05-30T09:54:53.689Z"
   },
   {
    "duration": 16,
    "start_time": "2024-05-30T09:54:53.736Z"
   },
   {
    "duration": 16,
    "start_time": "2024-05-30T10:00:31.889Z"
   },
   {
    "duration": 4,
    "start_time": "2024-05-30T10:01:51.930Z"
   },
   {
    "duration": 113,
    "start_time": "2024-05-30T10:03:34.342Z"
   },
   {
    "duration": 4,
    "start_time": "2024-05-30T10:03:56.376Z"
   },
   {
    "duration": 17,
    "start_time": "2024-05-30T10:04:22.592Z"
   },
   {
    "duration": 17,
    "start_time": "2024-05-30T10:05:14.784Z"
   },
   {
    "duration": 15,
    "start_time": "2024-05-30T10:10:32.533Z"
   },
   {
    "duration": 13,
    "start_time": "2024-05-30T10:11:09.068Z"
   },
   {
    "duration": 19,
    "start_time": "2024-05-30T10:11:16.005Z"
   },
   {
    "duration": 13,
    "start_time": "2024-05-30T10:11:29.166Z"
   },
   {
    "duration": 4,
    "start_time": "2024-05-30T10:11:58.016Z"
   },
   {
    "duration": 99,
    "start_time": "2024-05-30T10:11:58.023Z"
   },
   {
    "duration": 6,
    "start_time": "2024-05-30T10:11:58.124Z"
   },
   {
    "duration": 53,
    "start_time": "2024-05-30T10:11:58.132Z"
   },
   {
    "duration": 49,
    "start_time": "2024-05-30T10:11:58.188Z"
   },
   {
    "duration": 64,
    "start_time": "2024-05-30T10:11:58.239Z"
   },
   {
    "duration": 13,
    "start_time": "2024-05-30T10:11:58.305Z"
   },
   {
    "duration": 33,
    "start_time": "2024-05-30T10:11:58.321Z"
   },
   {
    "duration": 33,
    "start_time": "2024-05-30T10:11:58.355Z"
   },
   {
    "duration": 8,
    "start_time": "2024-05-30T10:11:58.390Z"
   },
   {
    "duration": 17,
    "start_time": "2024-05-30T10:11:58.400Z"
   },
   {
    "duration": 22,
    "start_time": "2024-05-30T10:11:58.420Z"
   },
   {
    "duration": 13,
    "start_time": "2024-05-30T10:12:08.331Z"
   },
   {
    "duration": 14,
    "start_time": "2024-05-30T10:12:17.349Z"
   },
   {
    "duration": 13,
    "start_time": "2024-05-30T10:12:20.633Z"
   },
   {
    "duration": 4,
    "start_time": "2024-05-30T10:12:24.823Z"
   },
   {
    "duration": 80,
    "start_time": "2024-05-30T10:12:24.829Z"
   },
   {
    "duration": 4,
    "start_time": "2024-05-30T10:12:24.910Z"
   },
   {
    "duration": 52,
    "start_time": "2024-05-30T10:12:24.916Z"
   },
   {
    "duration": 35,
    "start_time": "2024-05-30T10:12:24.970Z"
   },
   {
    "duration": 29,
    "start_time": "2024-05-30T10:12:25.007Z"
   },
   {
    "duration": 11,
    "start_time": "2024-05-30T10:12:25.038Z"
   },
   {
    "duration": 58,
    "start_time": "2024-05-30T10:12:25.050Z"
   },
   {
    "duration": 13,
    "start_time": "2024-05-30T10:12:25.110Z"
   },
   {
    "duration": 25,
    "start_time": "2024-05-30T10:12:25.125Z"
   },
   {
    "duration": 14,
    "start_time": "2024-05-30T10:12:25.152Z"
   },
   {
    "duration": 14,
    "start_time": "2024-05-30T10:12:25.182Z"
   },
   {
    "duration": 44,
    "start_time": "2024-05-31T16:59:25.175Z"
   },
   {
    "duration": 942,
    "start_time": "2024-05-31T16:59:45.042Z"
   },
   {
    "duration": 220,
    "start_time": "2024-05-31T16:59:45.986Z"
   },
   {
    "duration": 4,
    "start_time": "2024-05-31T16:59:46.208Z"
   },
   {
    "duration": 41,
    "start_time": "2024-05-31T16:59:46.214Z"
   },
   {
    "duration": 31,
    "start_time": "2024-05-31T16:59:46.256Z"
   },
   {
    "duration": 22,
    "start_time": "2024-05-31T16:59:46.288Z"
   },
   {
    "duration": 9,
    "start_time": "2024-05-31T16:59:46.312Z"
   },
   {
    "duration": 60,
    "start_time": "2024-05-31T16:59:46.323Z"
   },
   {
    "duration": 6,
    "start_time": "2024-05-31T16:59:46.384Z"
   },
   {
    "duration": 6,
    "start_time": "2024-05-31T16:59:46.392Z"
   },
   {
    "duration": 14,
    "start_time": "2024-05-31T16:59:46.400Z"
   },
   {
    "duration": 16,
    "start_time": "2024-05-31T16:59:46.415Z"
   },
   {
    "duration": 7,
    "start_time": "2024-05-31T16:59:46.465Z"
   },
   {
    "duration": 76,
    "start_time": "2024-05-31T17:08:24.772Z"
   },
   {
    "duration": 261,
    "start_time": "2024-05-31T17:10:15.186Z"
   },
   {
    "duration": 263,
    "start_time": "2024-05-31T17:16:35.308Z"
   },
   {
    "duration": 4,
    "start_time": "2024-05-31T17:22:11.803Z"
   },
   {
    "duration": 19,
    "start_time": "2024-05-31T17:22:23.730Z"
   },
   {
    "duration": 413,
    "start_time": "2024-05-31T17:23:13.291Z"
   },
   {
    "duration": 252,
    "start_time": "2024-05-31T17:23:16.454Z"
   },
   {
    "duration": 151,
    "start_time": "2024-05-31T17:23:36.231Z"
   },
   {
    "duration": 165,
    "start_time": "2024-05-31T17:24:37.933Z"
   },
   {
    "duration": 187,
    "start_time": "2024-05-31T17:25:28.881Z"
   },
   {
    "duration": 282,
    "start_time": "2024-05-31T17:27:35.591Z"
   },
   {
    "duration": 186,
    "start_time": "2024-05-31T17:27:51.871Z"
   },
   {
    "duration": 262,
    "start_time": "2024-05-31T17:28:18.031Z"
   },
   {
    "duration": 3,
    "start_time": "2024-05-31T17:28:27.939Z"
   },
   {
    "duration": 94,
    "start_time": "2024-05-31T17:28:27.944Z"
   },
   {
    "duration": 4,
    "start_time": "2024-05-31T17:28:28.039Z"
   },
   {
    "duration": 156,
    "start_time": "2024-05-31T17:28:28.045Z"
   },
   {
    "duration": 29,
    "start_time": "2024-05-31T17:28:28.203Z"
   },
   {
    "duration": 45,
    "start_time": "2024-05-31T17:28:28.234Z"
   },
   {
    "duration": 9,
    "start_time": "2024-05-31T17:28:28.280Z"
   },
   {
    "duration": 25,
    "start_time": "2024-05-31T17:28:28.290Z"
   },
   {
    "duration": 5,
    "start_time": "2024-05-31T17:28:28.317Z"
   },
   {
    "duration": 12,
    "start_time": "2024-05-31T17:28:28.323Z"
   },
   {
    "duration": 11,
    "start_time": "2024-05-31T17:28:28.365Z"
   },
   {
    "duration": 30,
    "start_time": "2024-05-31T17:28:28.377Z"
   },
   {
    "duration": 304,
    "start_time": "2024-05-31T17:28:28.408Z"
   },
   {
    "duration": 312,
    "start_time": "2024-05-31T17:28:28.714Z"
   },
   {
    "duration": 164,
    "start_time": "2024-05-31T17:29:23.180Z"
   },
   {
    "duration": 171,
    "start_time": "2024-05-31T17:29:28.380Z"
   },
   {
    "duration": 192,
    "start_time": "2024-05-31T17:29:48.202Z"
   },
   {
    "duration": 207,
    "start_time": "2024-05-31T17:29:52.747Z"
   },
   {
    "duration": 217,
    "start_time": "2024-05-31T17:29:55.577Z"
   },
   {
    "duration": 219,
    "start_time": "2024-05-31T17:29:57.915Z"
   },
   {
    "duration": 203,
    "start_time": "2024-05-31T17:30:02.411Z"
   },
   {
    "duration": 197,
    "start_time": "2024-05-31T17:30:09.351Z"
   },
   {
    "duration": 217,
    "start_time": "2024-05-31T17:30:30.148Z"
   },
   {
    "duration": 255,
    "start_time": "2024-05-31T17:30:34.054Z"
   },
   {
    "duration": 198,
    "start_time": "2024-05-31T17:30:39.058Z"
   },
   {
    "duration": 144,
    "start_time": "2024-05-31T17:30:47.332Z"
   },
   {
    "duration": 188,
    "start_time": "2024-05-31T17:30:59.385Z"
   },
   {
    "duration": 179,
    "start_time": "2024-05-31T17:31:04.936Z"
   },
   {
    "duration": 180,
    "start_time": "2024-05-31T17:31:10.121Z"
   },
   {
    "duration": 3,
    "start_time": "2024-05-31T17:36:22.419Z"
   },
   {
    "duration": 47,
    "start_time": "2024-06-03T07:50:57.598Z"
   },
   {
    "duration": 1404,
    "start_time": "2024-06-03T07:51:08.626Z"
   },
   {
    "duration": 220,
    "start_time": "2024-06-03T07:51:10.032Z"
   },
   {
    "duration": 5,
    "start_time": "2024-06-03T07:51:10.254Z"
   },
   {
    "duration": 87,
    "start_time": "2024-06-03T07:51:10.260Z"
   },
   {
    "duration": 35,
    "start_time": "2024-06-03T07:51:10.350Z"
   },
   {
    "duration": 24,
    "start_time": "2024-06-03T07:51:10.386Z"
   },
   {
    "duration": 9,
    "start_time": "2024-06-03T07:51:10.412Z"
   },
   {
    "duration": 56,
    "start_time": "2024-06-03T07:51:10.422Z"
   },
   {
    "duration": 5,
    "start_time": "2024-06-03T07:51:10.480Z"
   },
   {
    "duration": 6,
    "start_time": "2024-06-03T07:51:10.488Z"
   },
   {
    "duration": 12,
    "start_time": "2024-06-03T07:51:10.495Z"
   },
   {
    "duration": 17,
    "start_time": "2024-06-03T07:51:10.508Z"
   },
   {
    "duration": 302,
    "start_time": "2024-06-03T07:51:10.527Z"
   },
   {
    "duration": 266,
    "start_time": "2024-06-03T07:51:10.831Z"
   },
   {
    "duration": 197,
    "start_time": "2024-06-03T07:51:11.099Z"
   },
   {
    "duration": 187,
    "start_time": "2024-06-03T07:51:22.090Z"
   },
   {
    "duration": 196,
    "start_time": "2024-06-03T07:51:31.197Z"
   },
   {
    "duration": 230,
    "start_time": "2024-06-03T07:51:35.700Z"
   },
   {
    "duration": 223,
    "start_time": "2024-06-03T07:52:01.426Z"
   },
   {
    "duration": 201,
    "start_time": "2024-06-03T07:52:23.514Z"
   },
   {
    "duration": 273,
    "start_time": "2024-06-03T07:52:31.099Z"
   },
   {
    "duration": 176,
    "start_time": "2024-06-03T07:52:44.543Z"
   },
   {
    "duration": 193,
    "start_time": "2024-06-03T07:52:56.132Z"
   },
   {
    "duration": 229,
    "start_time": "2024-06-03T07:52:59.729Z"
   },
   {
    "duration": 3,
    "start_time": "2024-06-03T07:53:05.886Z"
   },
   {
    "duration": 79,
    "start_time": "2024-06-03T07:53:05.890Z"
   },
   {
    "duration": 4,
    "start_time": "2024-06-03T07:53:05.971Z"
   },
   {
    "duration": 55,
    "start_time": "2024-06-03T07:53:05.976Z"
   },
   {
    "duration": 36,
    "start_time": "2024-06-03T07:53:06.033Z"
   },
   {
    "duration": 24,
    "start_time": "2024-06-03T07:53:06.071Z"
   },
   {
    "duration": 9,
    "start_time": "2024-06-03T07:53:06.097Z"
   },
   {
    "duration": 61,
    "start_time": "2024-06-03T07:53:06.108Z"
   },
   {
    "duration": 6,
    "start_time": "2024-06-03T07:53:06.171Z"
   },
   {
    "duration": 5,
    "start_time": "2024-06-03T07:53:06.179Z"
   },
   {
    "duration": 11,
    "start_time": "2024-06-03T07:53:06.185Z"
   },
   {
    "duration": 12,
    "start_time": "2024-06-03T07:53:06.197Z"
   },
   {
    "duration": 299,
    "start_time": "2024-06-03T07:53:06.210Z"
   },
   {
    "duration": 213,
    "start_time": "2024-06-03T07:53:06.511Z"
   },
   {
    "duration": 232,
    "start_time": "2024-06-03T07:53:06.726Z"
   },
   {
    "duration": 203,
    "start_time": "2024-06-03T07:53:10.556Z"
   },
   {
    "duration": 201,
    "start_time": "2024-06-03T07:53:18.920Z"
   },
   {
    "duration": 4,
    "start_time": "2024-06-03T07:53:23.141Z"
   },
   {
    "duration": 75,
    "start_time": "2024-06-03T07:53:23.146Z"
   },
   {
    "duration": 3,
    "start_time": "2024-06-03T07:53:23.223Z"
   },
   {
    "duration": 51,
    "start_time": "2024-06-03T07:53:23.228Z"
   },
   {
    "duration": 31,
    "start_time": "2024-06-03T07:53:23.281Z"
   },
   {
    "duration": 22,
    "start_time": "2024-06-03T07:53:23.313Z"
   },
   {
    "duration": 10,
    "start_time": "2024-06-03T07:53:23.364Z"
   },
   {
    "duration": 23,
    "start_time": "2024-06-03T07:53:23.376Z"
   },
   {
    "duration": 5,
    "start_time": "2024-06-03T07:53:23.401Z"
   },
   {
    "duration": 7,
    "start_time": "2024-06-03T07:53:23.407Z"
   },
   {
    "duration": 13,
    "start_time": "2024-06-03T07:53:23.416Z"
   },
   {
    "duration": 46,
    "start_time": "2024-06-03T07:53:23.430Z"
   },
   {
    "duration": 274,
    "start_time": "2024-06-03T07:53:23.478Z"
   },
   {
    "duration": 212,
    "start_time": "2024-06-03T07:53:23.755Z"
   },
   {
    "duration": 182,
    "start_time": "2024-06-03T07:53:23.969Z"
   },
   {
    "duration": 288,
    "start_time": "2024-06-03T07:56:20.262Z"
   },
   {
    "duration": 165,
    "start_time": "2024-06-03T07:56:22.736Z"
   },
   {
    "duration": 355,
    "start_time": "2024-06-03T08:13:30.581Z"
   },
   {
    "duration": 268,
    "start_time": "2024-06-03T08:18:06.190Z"
   },
   {
    "duration": 281,
    "start_time": "2024-06-03T08:18:36.319Z"
   },
   {
    "duration": 97,
    "start_time": "2024-06-03T08:21:10.180Z"
   },
   {
    "duration": 214,
    "start_time": "2024-06-03T08:21:26.442Z"
   },
   {
    "duration": 205,
    "start_time": "2024-06-03T08:21:33.368Z"
   },
   {
    "duration": 186,
    "start_time": "2024-06-03T08:21:40.642Z"
   },
   {
    "duration": 213,
    "start_time": "2024-06-03T08:22:02.376Z"
   },
   {
    "duration": 222,
    "start_time": "2024-06-03T08:22:14.356Z"
   },
   {
    "duration": 264,
    "start_time": "2024-06-03T08:22:25.821Z"
   },
   {
    "duration": 320,
    "start_time": "2024-06-03T08:33:23.941Z"
   },
   {
    "duration": 1121,
    "start_time": "2024-06-03T08:33:39.889Z"
   },
   {
    "duration": 73,
    "start_time": "2024-06-03T08:33:41.012Z"
   },
   {
    "duration": 5,
    "start_time": "2024-06-03T08:33:41.087Z"
   },
   {
    "duration": 80,
    "start_time": "2024-06-03T08:33:41.093Z"
   },
   {
    "duration": 29,
    "start_time": "2024-06-03T08:33:41.175Z"
   },
   {
    "duration": 22,
    "start_time": "2024-06-03T08:33:41.206Z"
   },
   {
    "duration": 37,
    "start_time": "2024-06-03T08:33:41.229Z"
   },
   {
    "duration": 29,
    "start_time": "2024-06-03T08:33:41.268Z"
   },
   {
    "duration": 5,
    "start_time": "2024-06-03T08:33:41.299Z"
   },
   {
    "duration": 11,
    "start_time": "2024-06-03T08:33:41.305Z"
   },
   {
    "duration": 11,
    "start_time": "2024-06-03T08:33:41.317Z"
   },
   {
    "duration": 11,
    "start_time": "2024-06-03T08:33:41.329Z"
   },
   {
    "duration": 280,
    "start_time": "2024-06-03T08:33:41.365Z"
   },
   {
    "duration": 294,
    "start_time": "2024-06-03T08:33:41.648Z"
   },
   {
    "duration": 185,
    "start_time": "2024-06-03T08:33:41.943Z"
   },
   {
    "duration": 293,
    "start_time": "2024-06-03T08:33:42.129Z"
   },
   {
    "duration": 210,
    "start_time": "2024-06-03T08:33:42.424Z"
   },
   {
    "duration": 188,
    "start_time": "2024-06-03T08:33:50.400Z"
   },
   {
    "duration": 195,
    "start_time": "2024-06-03T08:33:58.223Z"
   },
   {
    "duration": 199,
    "start_time": "2024-06-03T08:34:02.366Z"
   },
   {
    "duration": 4,
    "start_time": "2024-06-03T08:34:07.884Z"
   },
   {
    "duration": 159,
    "start_time": "2024-06-03T08:34:07.889Z"
   },
   {
    "duration": 4,
    "start_time": "2024-06-03T08:34:08.049Z"
   },
   {
    "duration": 35,
    "start_time": "2024-06-03T08:34:08.055Z"
   },
   {
    "duration": 31,
    "start_time": "2024-06-03T08:34:08.092Z"
   },
   {
    "duration": 118,
    "start_time": "2024-06-03T08:34:08.125Z"
   },
   {
    "duration": 24,
    "start_time": "2024-06-03T08:34:08.245Z"
   },
   {
    "duration": 27,
    "start_time": "2024-06-03T08:34:08.271Z"
   },
   {
    "duration": 5,
    "start_time": "2024-06-03T08:34:08.300Z"
   },
   {
    "duration": 6,
    "start_time": "2024-06-03T08:34:08.307Z"
   },
   {
    "duration": 18,
    "start_time": "2024-06-03T08:34:08.315Z"
   },
   {
    "duration": 40,
    "start_time": "2024-06-03T08:34:08.334Z"
   },
   {
    "duration": 306,
    "start_time": "2024-06-03T08:34:08.376Z"
   },
   {
    "duration": 197,
    "start_time": "2024-06-03T08:34:08.684Z"
   },
   {
    "duration": 222,
    "start_time": "2024-06-03T08:34:08.882Z"
   },
   {
    "duration": 269,
    "start_time": "2024-06-03T08:34:09.105Z"
   },
   {
    "duration": 224,
    "start_time": "2024-06-03T08:34:09.376Z"
   },
   {
    "duration": 213,
    "start_time": "2024-06-03T08:34:21.795Z"
   },
   {
    "duration": 190,
    "start_time": "2024-06-03T08:34:26.001Z"
   },
   {
    "duration": 187,
    "start_time": "2024-06-03T08:34:31.385Z"
   },
   {
    "duration": 1162,
    "start_time": "2024-06-03T08:34:41.968Z"
   },
   {
    "duration": 73,
    "start_time": "2024-06-03T08:34:43.132Z"
   },
   {
    "duration": 5,
    "start_time": "2024-06-03T08:34:43.206Z"
   },
   {
    "duration": 37,
    "start_time": "2024-06-03T08:34:43.212Z"
   },
   {
    "duration": 29,
    "start_time": "2024-06-03T08:34:43.251Z"
   },
   {
    "duration": 22,
    "start_time": "2024-06-03T08:34:43.282Z"
   },
   {
    "duration": 9,
    "start_time": "2024-06-03T08:34:43.306Z"
   },
   {
    "duration": 55,
    "start_time": "2024-06-03T08:34:43.316Z"
   },
   {
    "duration": 6,
    "start_time": "2024-06-03T08:34:43.372Z"
   },
   {
    "duration": 10,
    "start_time": "2024-06-03T08:34:43.379Z"
   },
   {
    "duration": 19,
    "start_time": "2024-06-03T08:34:43.390Z"
   },
   {
    "duration": 10,
    "start_time": "2024-06-03T08:34:43.411Z"
   },
   {
    "duration": 275,
    "start_time": "2024-06-03T08:34:43.422Z"
   },
   {
    "duration": 250,
    "start_time": "2024-06-03T08:34:43.699Z"
   },
   {
    "duration": 180,
    "start_time": "2024-06-03T08:34:43.950Z"
   },
   {
    "duration": 319,
    "start_time": "2024-06-03T08:34:44.132Z"
   },
   {
    "duration": 242,
    "start_time": "2024-06-03T08:34:44.453Z"
   },
   {
    "duration": 210,
    "start_time": "2024-06-03T08:34:54.490Z"
   },
   {
    "duration": 3,
    "start_time": "2024-06-03T08:34:57.428Z"
   },
   {
    "duration": 80,
    "start_time": "2024-06-03T08:34:57.432Z"
   },
   {
    "duration": 4,
    "start_time": "2024-06-03T08:34:57.514Z"
   },
   {
    "duration": 41,
    "start_time": "2024-06-03T08:34:57.519Z"
   },
   {
    "duration": 30,
    "start_time": "2024-06-03T08:34:57.562Z"
   },
   {
    "duration": 25,
    "start_time": "2024-06-03T08:34:57.594Z"
   },
   {
    "duration": 10,
    "start_time": "2024-06-03T08:34:57.621Z"
   },
   {
    "duration": 53,
    "start_time": "2024-06-03T08:34:57.632Z"
   },
   {
    "duration": 6,
    "start_time": "2024-06-03T08:34:57.687Z"
   },
   {
    "duration": 8,
    "start_time": "2024-06-03T08:34:57.694Z"
   },
   {
    "duration": 29,
    "start_time": "2024-06-03T08:34:57.703Z"
   },
   {
    "duration": 14,
    "start_time": "2024-06-03T08:34:57.734Z"
   },
   {
    "duration": 279,
    "start_time": "2024-06-03T08:34:57.750Z"
   },
   {
    "duration": 204,
    "start_time": "2024-06-03T08:34:58.032Z"
   },
   {
    "duration": 271,
    "start_time": "2024-06-03T08:34:58.238Z"
   },
   {
    "duration": 304,
    "start_time": "2024-06-03T08:34:58.511Z"
   },
   {
    "duration": 259,
    "start_time": "2024-06-03T08:34:58.817Z"
   },
   {
    "duration": 1147,
    "start_time": "2024-06-03T08:35:06.386Z"
   },
   {
    "duration": 73,
    "start_time": "2024-06-03T08:35:07.535Z"
   },
   {
    "duration": 5,
    "start_time": "2024-06-03T08:35:07.610Z"
   },
   {
    "duration": 59,
    "start_time": "2024-06-03T08:35:07.617Z"
   },
   {
    "duration": 35,
    "start_time": "2024-06-03T08:35:07.678Z"
   },
   {
    "duration": 53,
    "start_time": "2024-06-03T08:35:07.715Z"
   },
   {
    "duration": 10,
    "start_time": "2024-06-03T08:35:07.769Z"
   },
   {
    "duration": 40,
    "start_time": "2024-06-03T08:35:07.781Z"
   },
   {
    "duration": 7,
    "start_time": "2024-06-03T08:35:07.823Z"
   },
   {
    "duration": 8,
    "start_time": "2024-06-03T08:35:07.832Z"
   },
   {
    "duration": 28,
    "start_time": "2024-06-03T08:35:07.841Z"
   },
   {
    "duration": 12,
    "start_time": "2024-06-03T08:35:07.871Z"
   },
   {
    "duration": 301,
    "start_time": "2024-06-03T08:35:07.884Z"
   },
   {
    "duration": 281,
    "start_time": "2024-06-03T08:35:08.186Z"
   },
   {
    "duration": 216,
    "start_time": "2024-06-03T08:35:08.468Z"
   },
   {
    "duration": 314,
    "start_time": "2024-06-03T08:35:08.685Z"
   },
   {
    "duration": 231,
    "start_time": "2024-06-03T08:35:09.001Z"
   },
   {
    "duration": 211,
    "start_time": "2024-06-03T08:35:15.156Z"
   },
   {
    "duration": 1129,
    "start_time": "2024-06-03T08:35:23.519Z"
   },
   {
    "duration": 73,
    "start_time": "2024-06-03T08:35:24.650Z"
   },
   {
    "duration": 6,
    "start_time": "2024-06-03T08:35:24.725Z"
   },
   {
    "duration": 40,
    "start_time": "2024-06-03T08:35:24.732Z"
   },
   {
    "duration": 29,
    "start_time": "2024-06-03T08:35:24.775Z"
   },
   {
    "duration": 23,
    "start_time": "2024-06-03T08:35:24.805Z"
   },
   {
    "duration": 44,
    "start_time": "2024-06-03T08:35:24.829Z"
   },
   {
    "duration": 27,
    "start_time": "2024-06-03T08:35:24.874Z"
   },
   {
    "duration": 5,
    "start_time": "2024-06-03T08:35:24.903Z"
   },
   {
    "duration": 6,
    "start_time": "2024-06-03T08:35:24.910Z"
   },
   {
    "duration": 12,
    "start_time": "2024-06-03T08:35:24.918Z"
   },
   {
    "duration": 13,
    "start_time": "2024-06-03T08:35:24.966Z"
   },
   {
    "duration": 296,
    "start_time": "2024-06-03T08:35:24.981Z"
   },
   {
    "duration": 276,
    "start_time": "2024-06-03T08:35:25.280Z"
   },
   {
    "duration": 241,
    "start_time": "2024-06-03T08:35:25.558Z"
   },
   {
    "duration": 298,
    "start_time": "2024-06-03T08:35:25.801Z"
   },
   {
    "duration": 235,
    "start_time": "2024-06-03T08:35:26.101Z"
   },
   {
    "duration": 198,
    "start_time": "2024-06-03T08:35:45.949Z"
   },
   {
    "duration": 192,
    "start_time": "2024-06-03T08:36:00.583Z"
   },
   {
    "duration": 1120,
    "start_time": "2024-06-03T08:36:41.696Z"
   },
   {
    "duration": 74,
    "start_time": "2024-06-03T08:36:42.818Z"
   },
   {
    "duration": 6,
    "start_time": "2024-06-03T08:36:42.893Z"
   },
   {
    "duration": 54,
    "start_time": "2024-06-03T08:36:42.900Z"
   },
   {
    "duration": 32,
    "start_time": "2024-06-03T08:36:42.956Z"
   },
   {
    "duration": 25,
    "start_time": "2024-06-03T08:36:42.989Z"
   },
   {
    "duration": 9,
    "start_time": "2024-06-03T08:36:43.016Z"
   },
   {
    "duration": 56,
    "start_time": "2024-06-03T08:36:43.027Z"
   },
   {
    "duration": 38,
    "start_time": "2024-06-03T08:36:43.085Z"
   },
   {
    "duration": 6,
    "start_time": "2024-06-03T08:36:43.125Z"
   },
   {
    "duration": 18,
    "start_time": "2024-06-03T08:36:43.133Z"
   },
   {
    "duration": 12,
    "start_time": "2024-06-03T08:36:43.152Z"
   },
   {
    "duration": 273,
    "start_time": "2024-06-03T08:36:43.165Z"
   },
   {
    "duration": 254,
    "start_time": "2024-06-03T08:36:43.440Z"
   },
   {
    "duration": 174,
    "start_time": "2024-06-03T08:36:43.696Z"
   },
   {
    "duration": 282,
    "start_time": "2024-06-03T08:36:43.872Z"
   },
   {
    "duration": 190,
    "start_time": "2024-06-03T08:36:44.165Z"
   },
   {
    "duration": 167,
    "start_time": "2024-06-03T08:37:21.534Z"
   },
   {
    "duration": 1114,
    "start_time": "2024-06-03T08:37:28.819Z"
   },
   {
    "duration": 74,
    "start_time": "2024-06-03T08:37:29.935Z"
   },
   {
    "duration": 5,
    "start_time": "2024-06-03T08:37:30.010Z"
   },
   {
    "duration": 65,
    "start_time": "2024-06-03T08:37:30.017Z"
   },
   {
    "duration": 38,
    "start_time": "2024-06-03T08:37:30.083Z"
   },
   {
    "duration": 57,
    "start_time": "2024-06-03T08:37:30.123Z"
   },
   {
    "duration": 17,
    "start_time": "2024-06-03T08:37:30.182Z"
   },
   {
    "duration": 76,
    "start_time": "2024-06-03T08:37:30.203Z"
   },
   {
    "duration": 61,
    "start_time": "2024-06-03T08:37:30.281Z"
   },
   {
    "duration": 59,
    "start_time": "2024-06-03T08:37:30.344Z"
   },
   {
    "duration": 110,
    "start_time": "2024-06-03T08:37:30.405Z"
   },
   {
    "duration": 30,
    "start_time": "2024-06-03T08:37:30.517Z"
   },
   {
    "duration": 321,
    "start_time": "2024-06-03T08:37:30.549Z"
   },
   {
    "duration": 277,
    "start_time": "2024-06-03T08:37:30.873Z"
   },
   {
    "duration": 238,
    "start_time": "2024-06-03T08:37:31.152Z"
   },
   {
    "duration": 308,
    "start_time": "2024-06-03T08:37:31.391Z"
   },
   {
    "duration": 253,
    "start_time": "2024-06-03T08:37:31.701Z"
   },
   {
    "duration": 242,
    "start_time": "2024-06-03T08:38:23.713Z"
   },
   {
    "duration": 180,
    "start_time": "2024-06-03T08:38:35.400Z"
   },
   {
    "duration": 182,
    "start_time": "2024-06-03T08:38:38.689Z"
   },
   {
    "duration": 1172,
    "start_time": "2024-06-03T08:38:47.133Z"
   },
   {
    "duration": 73,
    "start_time": "2024-06-03T08:38:48.307Z"
   },
   {
    "duration": 6,
    "start_time": "2024-06-03T08:38:48.381Z"
   },
   {
    "duration": 39,
    "start_time": "2024-06-03T08:38:48.388Z"
   },
   {
    "duration": 47,
    "start_time": "2024-06-03T08:38:48.430Z"
   },
   {
    "duration": 25,
    "start_time": "2024-06-03T08:38:48.478Z"
   },
   {
    "duration": 9,
    "start_time": "2024-06-03T08:38:48.505Z"
   },
   {
    "duration": 62,
    "start_time": "2024-06-03T08:38:48.516Z"
   },
   {
    "duration": 5,
    "start_time": "2024-06-03T08:38:48.580Z"
   },
   {
    "duration": 6,
    "start_time": "2024-06-03T08:38:48.587Z"
   },
   {
    "duration": 17,
    "start_time": "2024-06-03T08:38:48.594Z"
   },
   {
    "duration": 16,
    "start_time": "2024-06-03T08:38:48.613Z"
   },
   {
    "duration": 288,
    "start_time": "2024-06-03T08:38:48.664Z"
   },
   {
    "duration": 284,
    "start_time": "2024-06-03T08:38:48.956Z"
   },
   {
    "duration": 218,
    "start_time": "2024-06-03T08:38:49.242Z"
   },
   {
    "duration": 317,
    "start_time": "2024-06-03T08:38:49.462Z"
   },
   {
    "duration": 232,
    "start_time": "2024-06-03T08:38:49.781Z"
   },
   {
    "duration": 180,
    "start_time": "2024-06-03T08:39:24.124Z"
   },
   {
    "duration": 4,
    "start_time": "2024-06-03T08:39:30.307Z"
   },
   {
    "duration": 118,
    "start_time": "2024-06-03T08:39:30.314Z"
   },
   {
    "duration": 4,
    "start_time": "2024-06-03T08:39:30.433Z"
   },
   {
    "duration": 109,
    "start_time": "2024-06-03T08:39:30.439Z"
   },
   {
    "duration": 45,
    "start_time": "2024-06-03T08:39:30.550Z"
   },
   {
    "duration": 51,
    "start_time": "2024-06-03T08:39:30.596Z"
   },
   {
    "duration": 33,
    "start_time": "2024-06-03T08:39:30.649Z"
   },
   {
    "duration": 71,
    "start_time": "2024-06-03T08:39:30.683Z"
   },
   {
    "duration": 49,
    "start_time": "2024-06-03T08:39:30.755Z"
   },
   {
    "duration": 71,
    "start_time": "2024-06-03T08:39:30.805Z"
   },
   {
    "duration": 44,
    "start_time": "2024-06-03T08:39:30.877Z"
   },
   {
    "duration": 29,
    "start_time": "2024-06-03T08:39:30.922Z"
   },
   {
    "duration": 326,
    "start_time": "2024-06-03T08:39:30.952Z"
   },
   {
    "duration": 213,
    "start_time": "2024-06-03T08:39:31.281Z"
   },
   {
    "duration": 302,
    "start_time": "2024-06-03T08:39:31.496Z"
   },
   {
    "duration": 305,
    "start_time": "2024-06-03T08:39:31.800Z"
   },
   {
    "duration": 212,
    "start_time": "2024-06-03T08:39:32.106Z"
   },
   {
    "duration": 183,
    "start_time": "2024-06-03T08:39:46.039Z"
   },
   {
    "duration": 4,
    "start_time": "2024-06-03T08:39:48.932Z"
   },
   {
    "duration": 75,
    "start_time": "2024-06-03T08:39:48.939Z"
   },
   {
    "duration": 4,
    "start_time": "2024-06-03T08:39:49.015Z"
   },
   {
    "duration": 37,
    "start_time": "2024-06-03T08:39:49.020Z"
   },
   {
    "duration": 44,
    "start_time": "2024-06-03T08:39:49.059Z"
   },
   {
    "duration": 27,
    "start_time": "2024-06-03T08:39:49.104Z"
   },
   {
    "duration": 34,
    "start_time": "2024-06-03T08:39:49.132Z"
   },
   {
    "duration": 28,
    "start_time": "2024-06-03T08:39:49.168Z"
   },
   {
    "duration": 7,
    "start_time": "2024-06-03T08:39:49.198Z"
   },
   {
    "duration": 4,
    "start_time": "2024-06-03T08:39:49.206Z"
   },
   {
    "duration": 9,
    "start_time": "2024-06-03T08:39:49.212Z"
   },
   {
    "duration": 10,
    "start_time": "2024-06-03T08:39:49.223Z"
   },
   {
    "duration": 276,
    "start_time": "2024-06-03T08:39:49.265Z"
   },
   {
    "duration": 200,
    "start_time": "2024-06-03T08:39:49.544Z"
   },
   {
    "duration": 209,
    "start_time": "2024-06-03T08:39:49.747Z"
   },
   {
    "duration": 313,
    "start_time": "2024-06-03T08:39:49.957Z"
   },
   {
    "duration": 222,
    "start_time": "2024-06-03T08:39:50.272Z"
   },
   {
    "duration": 1124,
    "start_time": "2024-06-03T08:40:10.897Z"
   },
   {
    "duration": 73,
    "start_time": "2024-06-03T08:40:12.023Z"
   },
   {
    "duration": 5,
    "start_time": "2024-06-03T08:40:12.097Z"
   },
   {
    "duration": 82,
    "start_time": "2024-06-03T08:40:12.103Z"
   },
   {
    "duration": 30,
    "start_time": "2024-06-03T08:40:12.187Z"
   },
   {
    "duration": 53,
    "start_time": "2024-06-03T08:40:12.218Z"
   },
   {
    "duration": 24,
    "start_time": "2024-06-03T08:40:12.273Z"
   },
   {
    "duration": 59,
    "start_time": "2024-06-03T08:40:12.299Z"
   },
   {
    "duration": 20,
    "start_time": "2024-06-03T08:40:12.360Z"
   },
   {
    "duration": 23,
    "start_time": "2024-06-03T08:40:12.381Z"
   },
   {
    "duration": 32,
    "start_time": "2024-06-03T08:40:12.406Z"
   },
   {
    "duration": 93,
    "start_time": "2024-06-03T08:40:12.439Z"
   },
   {
    "duration": 302,
    "start_time": "2024-06-03T08:40:12.533Z"
   },
   {
    "duration": 249,
    "start_time": "2024-06-03T08:40:12.838Z"
   },
   {
    "duration": 186,
    "start_time": "2024-06-03T08:40:13.088Z"
   },
   {
    "duration": 309,
    "start_time": "2024-06-03T08:40:13.276Z"
   },
   {
    "duration": 239,
    "start_time": "2024-06-03T08:40:13.587Z"
   },
   {
    "duration": 212,
    "start_time": "2024-06-03T08:41:13.147Z"
   },
   {
    "duration": 3,
    "start_time": "2024-06-03T08:41:18.535Z"
   },
   {
    "duration": 74,
    "start_time": "2024-06-03T08:41:18.540Z"
   },
   {
    "duration": 4,
    "start_time": "2024-06-03T08:41:18.616Z"
   },
   {
    "duration": 35,
    "start_time": "2024-06-03T08:41:18.621Z"
   },
   {
    "duration": 30,
    "start_time": "2024-06-03T08:41:18.657Z"
   },
   {
    "duration": 24,
    "start_time": "2024-06-03T08:41:18.689Z"
   },
   {
    "duration": 10,
    "start_time": "2024-06-03T08:41:18.714Z"
   },
   {
    "duration": 56,
    "start_time": "2024-06-03T08:41:18.726Z"
   },
   {
    "duration": 6,
    "start_time": "2024-06-03T08:41:18.784Z"
   },
   {
    "duration": 6,
    "start_time": "2024-06-03T08:41:18.791Z"
   },
   {
    "duration": 11,
    "start_time": "2024-06-03T08:41:18.798Z"
   },
   {
    "duration": 11,
    "start_time": "2024-06-03T08:41:18.811Z"
   },
   {
    "duration": 318,
    "start_time": "2024-06-03T08:41:18.824Z"
   },
   {
    "duration": 186,
    "start_time": "2024-06-03T08:41:19.145Z"
   },
   {
    "duration": 248,
    "start_time": "2024-06-03T08:41:19.332Z"
   },
   {
    "duration": 283,
    "start_time": "2024-06-03T08:41:19.582Z"
   },
   {
    "duration": 204,
    "start_time": "2024-06-03T08:41:19.867Z"
   },
   {
    "duration": 1172,
    "start_time": "2024-06-03T08:41:34.661Z"
   },
   {
    "duration": 74,
    "start_time": "2024-06-03T08:41:35.835Z"
   },
   {
    "duration": 5,
    "start_time": "2024-06-03T08:41:35.910Z"
   },
   {
    "duration": 104,
    "start_time": "2024-06-03T08:41:35.916Z"
   },
   {
    "duration": 31,
    "start_time": "2024-06-03T08:41:36.022Z"
   },
   {
    "duration": 30,
    "start_time": "2024-06-03T08:41:36.055Z"
   },
   {
    "duration": 10,
    "start_time": "2024-06-03T08:41:36.087Z"
   },
   {
    "duration": 38,
    "start_time": "2024-06-03T08:41:36.098Z"
   },
   {
    "duration": 12,
    "start_time": "2024-06-03T08:41:36.138Z"
   },
   {
    "duration": 17,
    "start_time": "2024-06-03T08:41:36.151Z"
   },
   {
    "duration": 23,
    "start_time": "2024-06-03T08:41:36.169Z"
   },
   {
    "duration": 15,
    "start_time": "2024-06-03T08:41:36.193Z"
   },
   {
    "duration": 282,
    "start_time": "2024-06-03T08:41:36.210Z"
   },
   {
    "duration": 266,
    "start_time": "2024-06-03T08:41:36.495Z"
   },
   {
    "duration": 197,
    "start_time": "2024-06-03T08:41:36.764Z"
   },
   {
    "duration": 289,
    "start_time": "2024-06-03T08:41:36.964Z"
   },
   {
    "duration": 212,
    "start_time": "2024-06-03T08:41:37.255Z"
   },
   {
    "duration": 1130,
    "start_time": "2024-06-03T08:42:10.899Z"
   },
   {
    "duration": 73,
    "start_time": "2024-06-03T08:42:12.031Z"
   },
   {
    "duration": 5,
    "start_time": "2024-06-03T08:42:12.106Z"
   },
   {
    "duration": 42,
    "start_time": "2024-06-03T08:42:12.112Z"
   },
   {
    "duration": 31,
    "start_time": "2024-06-03T08:42:12.157Z"
   },
   {
    "duration": 24,
    "start_time": "2024-06-03T08:42:12.190Z"
   },
   {
    "duration": 9,
    "start_time": "2024-06-03T08:42:12.215Z"
   },
   {
    "duration": 60,
    "start_time": "2024-06-03T08:42:12.225Z"
   },
   {
    "duration": 10,
    "start_time": "2024-06-03T08:42:12.287Z"
   },
   {
    "duration": 5,
    "start_time": "2024-06-03T08:42:12.299Z"
   },
   {
    "duration": 11,
    "start_time": "2024-06-03T08:42:12.305Z"
   },
   {
    "duration": 11,
    "start_time": "2024-06-03T08:42:12.317Z"
   },
   {
    "duration": 303,
    "start_time": "2024-06-03T08:42:12.330Z"
   },
   {
    "duration": 246,
    "start_time": "2024-06-03T08:42:12.636Z"
   },
   {
    "duration": 174,
    "start_time": "2024-06-03T08:42:12.884Z"
   },
   {
    "duration": 283,
    "start_time": "2024-06-03T08:42:13.065Z"
   },
   {
    "duration": 223,
    "start_time": "2024-06-03T08:42:13.350Z"
   },
   {
    "duration": 278,
    "start_time": "2024-06-03T08:43:46.871Z"
   },
   {
    "duration": 160,
    "start_time": "2024-06-03T08:43:53.812Z"
   },
   {
    "duration": 206,
    "start_time": "2024-06-03T08:45:51.054Z"
   },
   {
    "duration": 280,
    "start_time": "2024-06-03T08:46:13.817Z"
   },
   {
    "duration": 190,
    "start_time": "2024-06-03T08:46:21.973Z"
   },
   {
    "duration": 208,
    "start_time": "2024-06-03T08:46:28.772Z"
   },
   {
    "duration": 196,
    "start_time": "2024-06-03T08:46:34.034Z"
   },
   {
    "duration": 226,
    "start_time": "2024-06-03T08:46:49.747Z"
   },
   {
    "duration": 334,
    "start_time": "2024-06-03T08:47:08.258Z"
   },
   {
    "duration": 200,
    "start_time": "2024-06-03T08:47:14.543Z"
   },
   {
    "duration": 302,
    "start_time": "2024-06-03T08:51:36.717Z"
   },
   {
    "duration": 270,
    "start_time": "2024-06-03T08:51:51.674Z"
   },
   {
    "duration": 379,
    "start_time": "2024-06-03T08:52:52.807Z"
   },
   {
    "duration": 280,
    "start_time": "2024-06-03T08:53:03.637Z"
   },
   {
    "duration": 259,
    "start_time": "2024-06-03T08:54:06.829Z"
   },
   {
    "duration": 266,
    "start_time": "2024-06-03T08:54:12.065Z"
   },
   {
    "duration": 291,
    "start_time": "2024-06-03T08:54:34.953Z"
   },
   {
    "duration": 277,
    "start_time": "2024-06-03T08:55:04.627Z"
   },
   {
    "duration": 2,
    "start_time": "2024-06-03T08:59:44.330Z"
   },
   {
    "duration": 98,
    "start_time": "2024-06-03T09:12:05.579Z"
   },
   {
    "duration": 7,
    "start_time": "2024-06-03T09:12:19.479Z"
   },
   {
    "duration": 10,
    "start_time": "2024-06-03T09:12:30.015Z"
   },
   {
    "duration": 10,
    "start_time": "2024-06-03T09:13:57.681Z"
   },
   {
    "duration": 9,
    "start_time": "2024-06-03T09:14:03.848Z"
   },
   {
    "duration": 96,
    "start_time": "2024-06-03T09:15:24.959Z"
   },
   {
    "duration": 9,
    "start_time": "2024-06-03T09:15:48.734Z"
   },
   {
    "duration": 8,
    "start_time": "2024-06-03T09:16:09.214Z"
   },
   {
    "duration": 102,
    "start_time": "2024-06-03T09:16:17.086Z"
   },
   {
    "duration": 207,
    "start_time": "2024-06-03T09:16:28.449Z"
   },
   {
    "duration": 123,
    "start_time": "2024-06-03T09:17:19.130Z"
   },
   {
    "duration": 99,
    "start_time": "2024-06-03T09:20:26.122Z"
   },
   {
    "duration": 5,
    "start_time": "2024-06-03T09:24:24.429Z"
   },
   {
    "duration": 5,
    "start_time": "2024-06-03T09:24:47.956Z"
   },
   {
    "duration": 4,
    "start_time": "2024-06-03T09:24:59.833Z"
   },
   {
    "duration": 148,
    "start_time": "2024-06-03T09:35:29.464Z"
   },
   {
    "duration": 124,
    "start_time": "2024-06-03T09:36:01.604Z"
   },
   {
    "duration": 142,
    "start_time": "2024-06-03T09:36:05.774Z"
   },
   {
    "duration": 132,
    "start_time": "2024-06-03T09:36:50.614Z"
   },
   {
    "duration": 146,
    "start_time": "2024-06-03T09:36:58.302Z"
   },
   {
    "duration": 5,
    "start_time": "2024-06-03T09:37:49.970Z"
   },
   {
    "duration": 137,
    "start_time": "2024-06-03T09:39:41.271Z"
   },
   {
    "duration": 141,
    "start_time": "2024-06-03T09:41:02.505Z"
   },
   {
    "duration": 150,
    "start_time": "2024-06-03T09:41:15.244Z"
   },
   {
    "duration": 136,
    "start_time": "2024-06-03T09:41:23.543Z"
   },
   {
    "duration": 142,
    "start_time": "2024-06-03T09:41:29.753Z"
   },
   {
    "duration": 137,
    "start_time": "2024-06-03T09:41:40.031Z"
   },
   {
    "duration": 268,
    "start_time": "2024-06-03T09:41:51.440Z"
   },
   {
    "duration": 4,
    "start_time": "2024-06-03T09:43:21.304Z"
   },
   {
    "duration": 125,
    "start_time": "2024-06-03T09:46:32.742Z"
   },
   {
    "duration": 90,
    "start_time": "2024-06-03T10:04:30.968Z"
   },
   {
    "duration": 14,
    "start_time": "2024-06-03T10:12:32.619Z"
   },
   {
    "duration": 85,
    "start_time": "2024-06-03T10:12:46.798Z"
   },
   {
    "duration": 110,
    "start_time": "2024-06-03T10:12:47.169Z"
   },
   {
    "duration": 28,
    "start_time": "2024-06-03T10:12:47.780Z"
   },
   {
    "duration": 27,
    "start_time": "2024-06-03T10:13:05.691Z"
   },
   {
    "duration": 33,
    "start_time": "2024-06-03T10:15:17.246Z"
   },
   {
    "duration": 133,
    "start_time": "2024-06-03T10:19:20.600Z"
   },
   {
    "duration": 52,
    "start_time": "2024-06-04T07:53:40.311Z"
   },
   {
    "duration": 1488,
    "start_time": "2024-06-04T07:53:51.892Z"
   },
   {
    "duration": 219,
    "start_time": "2024-06-04T07:53:53.382Z"
   },
   {
    "duration": 5,
    "start_time": "2024-06-04T07:53:53.603Z"
   },
   {
    "duration": 43,
    "start_time": "2024-06-04T07:53:53.609Z"
   },
   {
    "duration": 34,
    "start_time": "2024-06-04T07:53:53.654Z"
   },
   {
    "duration": 24,
    "start_time": "2024-06-04T07:53:53.690Z"
   },
   {
    "duration": 9,
    "start_time": "2024-06-04T07:53:53.716Z"
   },
   {
    "duration": 62,
    "start_time": "2024-06-04T07:53:53.727Z"
   },
   {
    "duration": 5,
    "start_time": "2024-06-04T07:53:53.791Z"
   },
   {
    "duration": 7,
    "start_time": "2024-06-04T07:53:53.797Z"
   },
   {
    "duration": 12,
    "start_time": "2024-06-04T07:53:53.805Z"
   },
   {
    "duration": 13,
    "start_time": "2024-06-04T07:53:53.819Z"
   },
   {
    "duration": 321,
    "start_time": "2024-06-04T07:53:53.834Z"
   },
   {
    "duration": 299,
    "start_time": "2024-06-04T07:53:54.158Z"
   },
   {
    "duration": 237,
    "start_time": "2024-06-04T07:53:54.459Z"
   },
   {
    "duration": 339,
    "start_time": "2024-06-04T07:53:54.697Z"
   },
   {
    "duration": 237,
    "start_time": "2024-06-04T07:53:55.037Z"
   },
   {
    "duration": 318,
    "start_time": "2024-06-04T07:53:55.276Z"
   },
   {
    "duration": 11,
    "start_time": "2024-06-04T07:53:55.596Z"
   },
   {
    "duration": 148,
    "start_time": "2024-06-04T07:53:55.609Z"
   },
   {
    "duration": 5,
    "start_time": "2024-06-04T07:53:55.759Z"
   },
   {
    "duration": 175,
    "start_time": "2024-06-04T07:53:55.766Z"
   },
   {
    "duration": 5,
    "start_time": "2024-06-04T07:53:55.944Z"
   },
   {
    "duration": 177,
    "start_time": "2024-06-04T07:53:55.952Z"
   },
   {
    "duration": 129,
    "start_time": "2024-06-04T07:53:56.130Z"
   },
   {
    "duration": 39,
    "start_time": "2024-06-04T07:53:56.260Z"
   },
   {
    "duration": 139,
    "start_time": "2024-06-04T07:53:56.301Z"
   },
   {
    "duration": 30,
    "start_time": "2024-06-04T07:53:56.441Z"
   },
   {
    "duration": 35,
    "start_time": "2024-06-04T07:57:13.692Z"
   },
   {
    "duration": 27,
    "start_time": "2024-06-04T07:57:17.731Z"
   },
   {
    "duration": 33,
    "start_time": "2024-06-04T07:59:48.259Z"
   },
   {
    "duration": 10,
    "start_time": "2024-06-04T08:12:47.007Z"
   },
   {
    "duration": 114,
    "start_time": "2024-06-04T08:28:23.382Z"
   },
   {
    "duration": 9,
    "start_time": "2024-06-04T08:28:41.348Z"
   },
   {
    "duration": 8,
    "start_time": "2024-06-04T08:29:26.730Z"
   },
   {
    "duration": 8,
    "start_time": "2024-06-04T08:29:43.392Z"
   },
   {
    "duration": 9,
    "start_time": "2024-06-04T08:32:26.189Z"
   },
   {
    "duration": 9,
    "start_time": "2024-06-04T08:37:15.105Z"
   },
   {
    "duration": 30,
    "start_time": "2024-06-04T08:39:45.611Z"
   },
   {
    "duration": 14,
    "start_time": "2024-06-04T08:50:08.822Z"
   },
   {
    "duration": 1251,
    "start_time": "2024-06-04T08:55:31.432Z"
   },
   {
    "duration": 73,
    "start_time": "2024-06-04T08:55:32.686Z"
   },
   {
    "duration": 5,
    "start_time": "2024-06-04T08:55:32.761Z"
   },
   {
    "duration": 45,
    "start_time": "2024-06-04T08:55:32.768Z"
   },
   {
    "duration": 36,
    "start_time": "2024-06-04T08:55:32.815Z"
   },
   {
    "duration": 27,
    "start_time": "2024-06-04T08:55:32.882Z"
   },
   {
    "duration": 10,
    "start_time": "2024-06-04T08:55:32.911Z"
   },
   {
    "duration": 66,
    "start_time": "2024-06-04T08:55:32.923Z"
   },
   {
    "duration": 7,
    "start_time": "2024-06-04T08:55:32.991Z"
   },
   {
    "duration": 6,
    "start_time": "2024-06-04T08:55:32.999Z"
   },
   {
    "duration": 13,
    "start_time": "2024-06-04T08:55:33.007Z"
   },
   {
    "duration": 24,
    "start_time": "2024-06-04T08:55:33.022Z"
   },
   {
    "duration": 360,
    "start_time": "2024-06-04T08:55:33.048Z"
   },
   {
    "duration": 320,
    "start_time": "2024-06-04T08:55:33.411Z"
   },
   {
    "duration": 262,
    "start_time": "2024-06-04T08:55:33.732Z"
   },
   {
    "duration": 321,
    "start_time": "2024-06-04T08:55:33.997Z"
   },
   {
    "duration": 260,
    "start_time": "2024-06-04T08:55:34.319Z"
   },
   {
    "duration": 319,
    "start_time": "2024-06-04T08:55:34.582Z"
   },
   {
    "duration": 12,
    "start_time": "2024-06-04T08:55:34.902Z"
   },
   {
    "duration": 159,
    "start_time": "2024-06-04T08:55:34.915Z"
   },
   {
    "duration": 4,
    "start_time": "2024-06-04T08:55:35.082Z"
   },
   {
    "duration": 167,
    "start_time": "2024-06-04T08:55:35.087Z"
   },
   {
    "duration": 5,
    "start_time": "2024-06-04T08:55:35.255Z"
   },
   {
    "duration": 177,
    "start_time": "2024-06-04T08:55:35.262Z"
   },
   {
    "duration": 141,
    "start_time": "2024-06-04T08:55:35.441Z"
   },
   {
    "duration": 32,
    "start_time": "2024-06-04T08:55:35.584Z"
   },
   {
    "duration": 173,
    "start_time": "2024-06-04T08:55:35.617Z"
   },
   {
    "duration": 31,
    "start_time": "2024-06-04T08:55:35.791Z"
   },
   {
    "duration": 12,
    "start_time": "2024-06-04T08:55:35.824Z"
   },
   {
    "duration": 15,
    "start_time": "2024-06-04T08:55:35.838Z"
   },
   {
    "duration": 59,
    "start_time": "2024-06-04T08:55:35.855Z"
   },
   {
    "duration": 20,
    "start_time": "2024-06-04T08:55:35.915Z"
   },
   {
    "duration": 1200,
    "start_time": "2024-06-04T09:54:27.543Z"
   },
   {
    "duration": 73,
    "start_time": "2024-06-04T09:54:28.745Z"
   },
   {
    "duration": 5,
    "start_time": "2024-06-04T09:54:28.820Z"
   },
   {
    "duration": 68,
    "start_time": "2024-06-04T09:54:28.827Z"
   },
   {
    "duration": 34,
    "start_time": "2024-06-04T09:54:28.898Z"
   },
   {
    "duration": 55,
    "start_time": "2024-06-04T09:54:28.934Z"
   },
   {
    "duration": 11,
    "start_time": "2024-06-04T09:54:28.991Z"
   },
   {
    "duration": 45,
    "start_time": "2024-06-04T09:54:29.003Z"
   },
   {
    "duration": 18,
    "start_time": "2024-06-04T09:54:29.050Z"
   },
   {
    "duration": 18,
    "start_time": "2024-06-04T09:54:29.070Z"
   },
   {
    "duration": 45,
    "start_time": "2024-06-04T09:54:29.090Z"
   },
   {
    "duration": 14,
    "start_time": "2024-06-04T09:54:29.136Z"
   },
   {
    "duration": 337,
    "start_time": "2024-06-04T09:54:29.151Z"
   },
   {
    "duration": 302,
    "start_time": "2024-06-04T09:54:29.491Z"
   },
   {
    "duration": 208,
    "start_time": "2024-06-04T09:54:29.794Z"
   },
   {
    "duration": 295,
    "start_time": "2024-06-04T09:54:30.003Z"
   },
   {
    "duration": 228,
    "start_time": "2024-06-04T09:54:30.299Z"
   },
   {
    "duration": 287,
    "start_time": "2024-06-04T09:54:30.528Z"
   },
   {
    "duration": 16,
    "start_time": "2024-06-04T09:54:30.817Z"
   },
   {
    "duration": 186,
    "start_time": "2024-06-04T09:54:30.834Z"
   },
   {
    "duration": 12,
    "start_time": "2024-06-04T09:54:31.023Z"
   },
   {
    "duration": 232,
    "start_time": "2024-06-04T09:54:31.040Z"
   },
   {
    "duration": 10,
    "start_time": "2024-06-04T09:54:31.274Z"
   },
   {
    "duration": 202,
    "start_time": "2024-06-04T09:54:31.286Z"
   },
   {
    "duration": 183,
    "start_time": "2024-06-04T09:54:31.490Z"
   },
   {
    "duration": 32,
    "start_time": "2024-06-04T09:54:31.675Z"
   },
   {
    "duration": 176,
    "start_time": "2024-06-04T09:54:31.709Z"
   },
   {
    "duration": 32,
    "start_time": "2024-06-04T09:54:31.887Z"
   },
   {
    "duration": 116,
    "start_time": "2024-06-04T09:54:31.921Z"
   },
   {
    "duration": 39,
    "start_time": "2024-06-04T09:54:32.039Z"
   },
   {
    "duration": 38,
    "start_time": "2024-06-04T09:54:32.080Z"
   },
   {
    "duration": 14,
    "start_time": "2024-06-04T09:54:32.120Z"
   },
   {
    "duration": 83,
    "start_time": "2024-06-05T08:03:16.240Z"
   },
   {
    "duration": 88,
    "start_time": "2024-06-05T08:03:40.297Z"
   },
   {
    "duration": 4,
    "start_time": "2024-06-05T08:03:50.469Z"
   },
   {
    "duration": 4,
    "start_time": "2024-06-05T08:05:50.276Z"
   },
   {
    "duration": 45,
    "start_time": "2024-06-05T08:05:52.172Z"
   },
   {
    "duration": 1477,
    "start_time": "2024-06-05T08:05:57.580Z"
   },
   {
    "duration": 58,
    "start_time": "2024-06-05T08:05:59.059Z"
   },
   {
    "duration": 0,
    "start_time": "2024-06-05T08:05:59.120Z"
   },
   {
    "duration": 0,
    "start_time": "2024-06-05T08:05:59.121Z"
   },
   {
    "duration": 0,
    "start_time": "2024-06-05T08:05:59.122Z"
   },
   {
    "duration": 0,
    "start_time": "2024-06-05T08:05:59.123Z"
   },
   {
    "duration": 0,
    "start_time": "2024-06-05T08:05:59.124Z"
   },
   {
    "duration": 0,
    "start_time": "2024-06-05T08:05:59.125Z"
   },
   {
    "duration": 0,
    "start_time": "2024-06-05T08:05:59.126Z"
   },
   {
    "duration": 0,
    "start_time": "2024-06-05T08:05:59.127Z"
   },
   {
    "duration": 0,
    "start_time": "2024-06-05T08:05:59.128Z"
   },
   {
    "duration": 0,
    "start_time": "2024-06-05T08:05:59.129Z"
   },
   {
    "duration": 0,
    "start_time": "2024-06-05T08:05:59.130Z"
   },
   {
    "duration": 0,
    "start_time": "2024-06-05T08:05:59.131Z"
   },
   {
    "duration": 0,
    "start_time": "2024-06-05T08:05:59.132Z"
   },
   {
    "duration": 0,
    "start_time": "2024-06-05T08:05:59.133Z"
   },
   {
    "duration": 0,
    "start_time": "2024-06-05T08:05:59.136Z"
   },
   {
    "duration": 0,
    "start_time": "2024-06-05T08:05:59.137Z"
   },
   {
    "duration": 0,
    "start_time": "2024-06-05T08:05:59.138Z"
   },
   {
    "duration": 1,
    "start_time": "2024-06-05T08:05:59.139Z"
   },
   {
    "duration": 0,
    "start_time": "2024-06-05T08:05:59.141Z"
   },
   {
    "duration": 0,
    "start_time": "2024-06-05T08:05:59.142Z"
   },
   {
    "duration": 0,
    "start_time": "2024-06-05T08:05:59.143Z"
   },
   {
    "duration": 0,
    "start_time": "2024-06-05T08:05:59.144Z"
   },
   {
    "duration": 0,
    "start_time": "2024-06-05T08:05:59.145Z"
   },
   {
    "duration": 0,
    "start_time": "2024-06-05T08:05:59.146Z"
   },
   {
    "duration": 0,
    "start_time": "2024-06-05T08:05:59.147Z"
   },
   {
    "duration": 0,
    "start_time": "2024-06-05T08:05:59.149Z"
   },
   {
    "duration": 0,
    "start_time": "2024-06-05T08:05:59.149Z"
   },
   {
    "duration": 0,
    "start_time": "2024-06-05T08:05:59.150Z"
   },
   {
    "duration": 0,
    "start_time": "2024-06-05T08:05:59.151Z"
   },
   {
    "duration": 0,
    "start_time": "2024-06-05T08:05:59.152Z"
   },
   {
    "duration": 3,
    "start_time": "2024-06-05T08:07:18.404Z"
   },
   {
    "duration": 73,
    "start_time": "2024-06-05T08:07:19.946Z"
   },
   {
    "duration": 1198,
    "start_time": "2024-06-05T08:07:57.448Z"
   },
   {
    "duration": 61,
    "start_time": "2024-06-05T08:07:58.648Z"
   },
   {
    "duration": 0,
    "start_time": "2024-06-05T08:07:58.712Z"
   },
   {
    "duration": 0,
    "start_time": "2024-06-05T08:07:58.713Z"
   },
   {
    "duration": 0,
    "start_time": "2024-06-05T08:07:58.714Z"
   },
   {
    "duration": 0,
    "start_time": "2024-06-05T08:07:58.714Z"
   },
   {
    "duration": 0,
    "start_time": "2024-06-05T08:07:58.715Z"
   },
   {
    "duration": 0,
    "start_time": "2024-06-05T08:07:58.717Z"
   },
   {
    "duration": 0,
    "start_time": "2024-06-05T08:07:58.718Z"
   },
   {
    "duration": 0,
    "start_time": "2024-06-05T08:07:58.719Z"
   },
   {
    "duration": 0,
    "start_time": "2024-06-05T08:07:58.722Z"
   },
   {
    "duration": 0,
    "start_time": "2024-06-05T08:07:58.723Z"
   },
   {
    "duration": 1,
    "start_time": "2024-06-05T08:07:58.724Z"
   },
   {
    "duration": 0,
    "start_time": "2024-06-05T08:07:58.727Z"
   },
   {
    "duration": 0,
    "start_time": "2024-06-05T08:07:58.728Z"
   },
   {
    "duration": 0,
    "start_time": "2024-06-05T08:07:58.729Z"
   },
   {
    "duration": 1,
    "start_time": "2024-06-05T08:07:58.732Z"
   },
   {
    "duration": 0,
    "start_time": "2024-06-05T08:07:58.734Z"
   },
   {
    "duration": 0,
    "start_time": "2024-06-05T08:07:58.735Z"
   },
   {
    "duration": 0,
    "start_time": "2024-06-05T08:07:58.736Z"
   },
   {
    "duration": 0,
    "start_time": "2024-06-05T08:07:58.737Z"
   },
   {
    "duration": 0,
    "start_time": "2024-06-05T08:07:58.739Z"
   },
   {
    "duration": 0,
    "start_time": "2024-06-05T08:07:58.740Z"
   },
   {
    "duration": 0,
    "start_time": "2024-06-05T08:07:58.741Z"
   },
   {
    "duration": 0,
    "start_time": "2024-06-05T08:07:58.742Z"
   },
   {
    "duration": 0,
    "start_time": "2024-06-05T08:07:58.744Z"
   },
   {
    "duration": 0,
    "start_time": "2024-06-05T08:07:58.746Z"
   },
   {
    "duration": 0,
    "start_time": "2024-06-05T08:07:58.748Z"
   },
   {
    "duration": 0,
    "start_time": "2024-06-05T08:07:58.752Z"
   },
   {
    "duration": 0,
    "start_time": "2024-06-05T08:07:58.782Z"
   },
   {
    "duration": 0,
    "start_time": "2024-06-05T08:07:58.783Z"
   },
   {
    "duration": 0,
    "start_time": "2024-06-05T08:07:58.784Z"
   },
   {
    "duration": 215,
    "start_time": "2024-06-05T08:08:40.597Z"
   },
   {
    "duration": 4,
    "start_time": "2024-06-05T08:08:42.831Z"
   },
   {
    "duration": 48,
    "start_time": "2024-06-05T08:08:44.132Z"
   },
   {
    "duration": 4,
    "start_time": "2024-06-05T08:08:56.778Z"
   },
   {
    "duration": 35,
    "start_time": "2024-06-05T08:08:59.178Z"
   },
   {
    "duration": 4,
    "start_time": "2024-06-05T08:09:16.604Z"
   },
   {
    "duration": 75,
    "start_time": "2024-06-05T08:09:16.610Z"
   },
   {
    "duration": 4,
    "start_time": "2024-06-05T08:09:16.686Z"
   },
   {
    "duration": 102,
    "start_time": "2024-06-05T08:09:16.691Z"
   },
   {
    "duration": 42,
    "start_time": "2024-06-05T08:09:16.795Z"
   },
   {
    "duration": 48,
    "start_time": "2024-06-05T08:09:16.839Z"
   },
   {
    "duration": 10,
    "start_time": "2024-06-05T08:09:16.889Z"
   },
   {
    "duration": 44,
    "start_time": "2024-06-05T08:09:16.900Z"
   },
   {
    "duration": 14,
    "start_time": "2024-06-05T08:09:16.946Z"
   },
   {
    "duration": 20,
    "start_time": "2024-06-05T08:09:16.962Z"
   },
   {
    "duration": 16,
    "start_time": "2024-06-05T08:09:16.985Z"
   },
   {
    "duration": 17,
    "start_time": "2024-06-05T08:09:17.003Z"
   },
   {
    "duration": 365,
    "start_time": "2024-06-05T08:09:17.024Z"
   },
   {
    "duration": 357,
    "start_time": "2024-06-05T08:09:17.390Z"
   },
   {
    "duration": 235,
    "start_time": "2024-06-05T08:09:17.749Z"
   },
   {
    "duration": 331,
    "start_time": "2024-06-05T08:09:17.986Z"
   },
   {
    "duration": 236,
    "start_time": "2024-06-05T08:09:18.319Z"
   },
   {
    "duration": 334,
    "start_time": "2024-06-05T08:09:18.557Z"
   },
   {
    "duration": 12,
    "start_time": "2024-06-05T08:09:18.893Z"
   },
   {
    "duration": 152,
    "start_time": "2024-06-05T08:09:18.906Z"
   },
   {
    "duration": 6,
    "start_time": "2024-06-05T08:09:19.059Z"
   },
   {
    "duration": 175,
    "start_time": "2024-06-05T08:09:19.066Z"
   },
   {
    "duration": 6,
    "start_time": "2024-06-05T08:09:19.243Z"
   },
   {
    "duration": 200,
    "start_time": "2024-06-05T08:09:19.250Z"
   },
   {
    "duration": 145,
    "start_time": "2024-06-05T08:09:19.453Z"
   },
   {
    "duration": 41,
    "start_time": "2024-06-05T08:09:19.600Z"
   },
   {
    "duration": 189,
    "start_time": "2024-06-05T08:09:19.643Z"
   },
   {
    "duration": 53,
    "start_time": "2024-06-05T08:09:19.834Z"
   },
   {
    "duration": 14,
    "start_time": "2024-06-05T08:09:19.889Z"
   },
   {
    "duration": 13,
    "start_time": "2024-06-05T08:09:19.905Z"
   },
   {
    "duration": 68,
    "start_time": "2024-06-05T08:09:19.920Z"
   },
   {
    "duration": 16,
    "start_time": "2024-06-05T08:09:19.990Z"
   },
   {
    "duration": 1205,
    "start_time": "2024-06-05T08:10:55.433Z"
   },
   {
    "duration": 73,
    "start_time": "2024-06-05T08:10:56.640Z"
   },
   {
    "duration": 6,
    "start_time": "2024-06-05T08:10:56.714Z"
   },
   {
    "duration": 114,
    "start_time": "2024-06-05T08:10:56.721Z"
   },
   {
    "duration": 47,
    "start_time": "2024-06-05T08:10:56.837Z"
   },
   {
    "duration": 27,
    "start_time": "2024-06-05T08:10:56.885Z"
   },
   {
    "duration": 14,
    "start_time": "2024-06-05T08:10:56.913Z"
   },
   {
    "duration": 81,
    "start_time": "2024-06-05T08:10:56.929Z"
   },
   {
    "duration": 32,
    "start_time": "2024-06-05T08:10:57.011Z"
   },
   {
    "duration": 31,
    "start_time": "2024-06-05T08:10:57.045Z"
   },
   {
    "duration": 36,
    "start_time": "2024-06-05T08:10:57.078Z"
   },
   {
    "duration": 18,
    "start_time": "2024-06-05T08:10:57.115Z"
   },
   {
    "duration": 288,
    "start_time": "2024-06-05T08:10:57.136Z"
   },
   {
    "duration": 339,
    "start_time": "2024-06-05T08:10:57.427Z"
   },
   {
    "duration": 261,
    "start_time": "2024-06-05T08:10:57.767Z"
   },
   {
    "duration": 326,
    "start_time": "2024-06-05T08:10:58.030Z"
   },
   {
    "duration": 246,
    "start_time": "2024-06-05T08:10:58.358Z"
   },
   {
    "duration": 305,
    "start_time": "2024-06-05T08:10:58.605Z"
   },
   {
    "duration": 11,
    "start_time": "2024-06-05T08:10:58.912Z"
   },
   {
    "duration": 166,
    "start_time": "2024-06-05T08:10:58.925Z"
   },
   {
    "duration": 5,
    "start_time": "2024-06-05T08:10:59.093Z"
   },
   {
    "duration": 160,
    "start_time": "2024-06-05T08:10:59.099Z"
   },
   {
    "duration": 5,
    "start_time": "2024-06-05T08:10:59.261Z"
   },
   {
    "duration": 178,
    "start_time": "2024-06-05T08:10:59.283Z"
   },
   {
    "duration": 130,
    "start_time": "2024-06-05T08:10:59.463Z"
   },
   {
    "duration": 30,
    "start_time": "2024-06-05T08:10:59.595Z"
   },
   {
    "duration": 210,
    "start_time": "2024-06-05T08:10:59.627Z"
   },
   {
    "duration": 45,
    "start_time": "2024-06-05T08:10:59.839Z"
   },
   {
    "duration": 14,
    "start_time": "2024-06-05T08:10:59.887Z"
   },
   {
    "duration": 19,
    "start_time": "2024-06-05T08:10:59.903Z"
   },
   {
    "duration": 59,
    "start_time": "2024-06-05T08:10:59.924Z"
   },
   {
    "duration": 15,
    "start_time": "2024-06-05T08:10:59.985Z"
   },
   {
    "duration": 215,
    "start_time": "2024-06-05T08:12:31.237Z"
   },
   {
    "duration": 73,
    "start_time": "2024-06-05T08:13:08.349Z"
   },
   {
    "duration": 209,
    "start_time": "2024-06-05T08:14:52.725Z"
   },
   {
    "duration": 217,
    "start_time": "2024-06-05T08:15:36.250Z"
   },
   {
    "duration": 228,
    "start_time": "2024-06-05T08:15:45.374Z"
   },
   {
    "duration": 247,
    "start_time": "2024-06-05T08:16:01.727Z"
   },
   {
    "duration": 199,
    "start_time": "2024-06-05T08:16:15.393Z"
   },
   {
    "duration": 202,
    "start_time": "2024-06-05T08:16:20.708Z"
   },
   {
    "duration": 201,
    "start_time": "2024-06-05T08:16:23.616Z"
   },
   {
    "duration": 221,
    "start_time": "2024-06-05T08:16:28.992Z"
   },
   {
    "duration": 210,
    "start_time": "2024-06-05T08:16:36.866Z"
   },
   {
    "duration": 221,
    "start_time": "2024-06-05T08:16:42.040Z"
   },
   {
    "duration": 63,
    "start_time": "2024-06-05T08:17:04.774Z"
   },
   {
    "duration": 241,
    "start_time": "2024-06-05T08:23:17.465Z"
   },
   {
    "duration": 157,
    "start_time": "2024-06-05T08:23:54.333Z"
   },
   {
    "duration": 254,
    "start_time": "2024-06-05T08:27:56.566Z"
   },
   {
    "duration": 224,
    "start_time": "2024-06-05T08:28:14.631Z"
   },
   {
    "duration": 218,
    "start_time": "2024-06-05T08:28:21.553Z"
   },
   {
    "duration": 1310,
    "start_time": "2024-06-05T08:36:48.251Z"
   },
   {
    "duration": 78,
    "start_time": "2024-06-05T08:36:49.563Z"
   },
   {
    "duration": 7,
    "start_time": "2024-06-05T08:36:49.643Z"
   },
   {
    "duration": 47,
    "start_time": "2024-06-05T08:36:49.651Z"
   },
   {
    "duration": 34,
    "start_time": "2024-06-05T08:36:49.700Z"
   },
   {
    "duration": 58,
    "start_time": "2024-06-05T08:36:49.736Z"
   },
   {
    "duration": 14,
    "start_time": "2024-06-05T08:36:49.796Z"
   },
   {
    "duration": 30,
    "start_time": "2024-06-05T08:36:49.812Z"
   },
   {
    "duration": 38,
    "start_time": "2024-06-05T08:36:49.844Z"
   },
   {
    "duration": 13,
    "start_time": "2024-06-05T08:36:49.884Z"
   },
   {
    "duration": 18,
    "start_time": "2024-06-05T08:36:49.899Z"
   },
   {
    "duration": 13,
    "start_time": "2024-06-05T08:36:49.918Z"
   },
   {
    "duration": 307,
    "start_time": "2024-06-05T08:36:49.933Z"
   },
   {
    "duration": 312,
    "start_time": "2024-06-05T08:36:50.243Z"
   },
   {
    "duration": 225,
    "start_time": "2024-06-05T08:36:50.557Z"
   },
   {
    "duration": 320,
    "start_time": "2024-06-05T08:36:50.784Z"
   },
   {
    "duration": 251,
    "start_time": "2024-06-05T08:36:51.105Z"
   },
   {
    "duration": 330,
    "start_time": "2024-06-05T08:36:51.358Z"
   },
   {
    "duration": 11,
    "start_time": "2024-06-05T08:36:51.691Z"
   },
   {
    "duration": 179,
    "start_time": "2024-06-05T08:36:51.703Z"
   },
   {
    "duration": 4,
    "start_time": "2024-06-05T08:36:51.884Z"
   },
   {
    "duration": 181,
    "start_time": "2024-06-05T08:36:51.889Z"
   },
   {
    "duration": 12,
    "start_time": "2024-06-05T08:36:52.072Z"
   },
   {
    "duration": 171,
    "start_time": "2024-06-05T08:36:52.086Z"
   },
   {
    "duration": 141,
    "start_time": "2024-06-05T08:36:52.259Z"
   },
   {
    "duration": 35,
    "start_time": "2024-06-05T08:36:52.402Z"
   },
   {
    "duration": 218,
    "start_time": "2024-06-05T08:36:52.439Z"
   },
   {
    "duration": 42,
    "start_time": "2024-06-05T08:36:52.658Z"
   },
   {
    "duration": 10,
    "start_time": "2024-06-05T08:36:52.702Z"
   },
   {
    "duration": 23,
    "start_time": "2024-06-05T08:36:52.713Z"
   },
   {
    "duration": 36,
    "start_time": "2024-06-05T08:36:52.738Z"
   },
   {
    "duration": 15,
    "start_time": "2024-06-05T08:36:52.775Z"
   }
  ],
  "kernelspec": {
   "display_name": "Python 3 (ipykernel)",
   "language": "python",
   "name": "python3"
  },
  "language_info": {
   "codemirror_mode": {
    "name": "ipython",
    "version": 3
   },
   "file_extension": ".py",
   "mimetype": "text/x-python",
   "name": "python",
   "nbconvert_exporter": "python",
   "pygments_lexer": "ipython3",
   "version": "3.11.4"
  },
  "toc": {
   "base_numbering": 1,
   "nav_menu": {},
   "number_sections": true,
   "sideBar": true,
   "skip_h1_title": true,
   "title_cell": "Table of Contents",
   "title_sidebar": "Contents",
   "toc_cell": false,
   "toc_position": {},
   "toc_section_display": true,
   "toc_window_display": true
  }
 },
 "nbformat": 4,
 "nbformat_minor": 2
}
