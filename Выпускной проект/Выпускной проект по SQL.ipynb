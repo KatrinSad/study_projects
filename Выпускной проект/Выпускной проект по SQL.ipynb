{
 "cells": [
  {
   "cell_type": "markdown",
   "metadata": {},
   "source": [
    "<span style=\"color:blue\"><font size=\"6\"> **Анализ базы данных сервиса чтения книг по подписке** </span>"
   ]
  },
  {
   "cell_type": "markdown",
   "metadata": {},
   "source": [
    "**Цель исследования:**\n",
    "Провести анализ базы данных и чтобы в дальнейшем можно было сформулировать предложение для нового продукта.\n",
    "\n",
    "\n",
    "**Описание данных:**\n",
    "\n",
    "- **Таблица 'books'** - содержит данные о книгах\n",
    "- **Таблица 'authors'** - содержит данные об авторах\n",
    "- **Таблица 'publishers'** - cодержит данные об издательствах\n",
    "- **Таблица 'ratings'** - cодержит данные о пользовательских оценках книг\n",
    "- **Таблица 'reviews'** - cодержит данные о пользовательских обзорах"
   ]
  },
  {
   "cell_type": "markdown",
   "metadata": {},
   "source": [
    "## Подключение к базе данных"
   ]
  },
  {
   "cell_type": "code",
   "execution_count": 1,
   "metadata": {},
   "outputs": [],
   "source": [
    "# импортируем библиотеки\n",
    "import pandas as pd\n",
    "from sqlalchemy import text, create_engine\n",
    "\n",
    "# устанавливаем параметры\n",
    "db_config = {'user': 'praktikum_student', # имя пользователя\n",
    "'pwd': 'Sdf4$2;d-d30pp', # пароль\n",
    "'host': 'rc1b-wcoijxj3yxfsf3fs.mdb.yandexcloud.net',\n",
    "'port': 6432, # порт подключения\n",
    "'db': 'data-analyst-final-project-db'} # название базы данных\n",
    "connection_string = 'postgresql://{user}:{pwd}@{host}:{port}/{db}'.format(**db_config)\n",
    "\n",
    "# сохраняем коннектор\n",
    "engine = create_engine(connection_string, connect_args={'sslmode':'require'})"
   ]
  },
  {
   "cell_type": "markdown",
   "metadata": {},
   "source": [
    "## Загрузка и изучение данных"
   ]
  },
  {
   "cell_type": "markdown",
   "metadata": {},
   "source": [
    "### Таблица books"
   ]
  },
  {
   "cell_type": "code",
   "execution_count": 2,
   "metadata": {},
   "outputs": [
    {
     "data": {
      "text/html": [
       "<div>\n",
       "<style scoped>\n",
       "    .dataframe tbody tr th:only-of-type {\n",
       "        vertical-align: middle;\n",
       "    }\n",
       "\n",
       "    .dataframe tbody tr th {\n",
       "        vertical-align: top;\n",
       "    }\n",
       "\n",
       "    .dataframe thead th {\n",
       "        text-align: right;\n",
       "    }\n",
       "</style>\n",
       "<table border=\"1\" class=\"dataframe\">\n",
       "  <thead>\n",
       "    <tr style=\"text-align: right;\">\n",
       "      <th></th>\n",
       "      <th>book_id</th>\n",
       "      <th>author_id</th>\n",
       "      <th>title</th>\n",
       "      <th>num_pages</th>\n",
       "      <th>publication_date</th>\n",
       "      <th>publisher_id</th>\n",
       "    </tr>\n",
       "  </thead>\n",
       "  <tbody>\n",
       "    <tr>\n",
       "      <th>0</th>\n",
       "      <td>1</td>\n",
       "      <td>546</td>\n",
       "      <td>'Salem's Lot</td>\n",
       "      <td>594</td>\n",
       "      <td>2005-11-01</td>\n",
       "      <td>93</td>\n",
       "    </tr>\n",
       "    <tr>\n",
       "      <th>1</th>\n",
       "      <td>2</td>\n",
       "      <td>465</td>\n",
       "      <td>1 000 Places to See Before You Die</td>\n",
       "      <td>992</td>\n",
       "      <td>2003-05-22</td>\n",
       "      <td>336</td>\n",
       "    </tr>\n",
       "    <tr>\n",
       "      <th>2</th>\n",
       "      <td>3</td>\n",
       "      <td>407</td>\n",
       "      <td>13 Little Blue Envelopes (Little Blue Envelope...</td>\n",
       "      <td>322</td>\n",
       "      <td>2010-12-21</td>\n",
       "      <td>135</td>\n",
       "    </tr>\n",
       "    <tr>\n",
       "      <th>3</th>\n",
       "      <td>4</td>\n",
       "      <td>82</td>\n",
       "      <td>1491: New Revelations of the Americas Before C...</td>\n",
       "      <td>541</td>\n",
       "      <td>2006-10-10</td>\n",
       "      <td>309</td>\n",
       "    </tr>\n",
       "    <tr>\n",
       "      <th>4</th>\n",
       "      <td>5</td>\n",
       "      <td>125</td>\n",
       "      <td>1776</td>\n",
       "      <td>386</td>\n",
       "      <td>2006-07-04</td>\n",
       "      <td>268</td>\n",
       "    </tr>\n",
       "  </tbody>\n",
       "</table>\n",
       "</div>"
      ],
      "text/plain": [
       "   book_id  author_id                                              title  \\\n",
       "0        1        546                                       'Salem's Lot   \n",
       "1        2        465                 1 000 Places to See Before You Die   \n",
       "2        3        407  13 Little Blue Envelopes (Little Blue Envelope...   \n",
       "3        4         82  1491: New Revelations of the Americas Before C...   \n",
       "4        5        125                                               1776   \n",
       "\n",
       "   num_pages publication_date  publisher_id  \n",
       "0        594       2005-11-01            93  \n",
       "1        992       2003-05-22           336  \n",
       "2        322       2010-12-21           135  \n",
       "3        541       2006-10-10           309  \n",
       "4        386       2006-07-04           268  "
      ]
     },
     "metadata": {},
     "output_type": "display_data"
    },
    {
     "name": "stdout",
     "output_type": "stream",
     "text": [
      " \n",
      "<class 'pandas.core.frame.DataFrame'>\n",
      "RangeIndex: 1000 entries, 0 to 999\n",
      "Data columns (total 6 columns):\n",
      " #   Column            Non-Null Count  Dtype \n",
      "---  ------            --------------  ----- \n",
      " 0   book_id           1000 non-null   int64 \n",
      " 1   author_id         1000 non-null   int64 \n",
      " 2   title             1000 non-null   object\n",
      " 3   num_pages         1000 non-null   int64 \n",
      " 4   publication_date  1000 non-null   object\n",
      " 5   publisher_id      1000 non-null   int64 \n",
      "dtypes: int64(4), object(2)\n",
      "memory usage: 47.0+ KB\n",
      " \n",
      "\u001b[1mПропуски в таблице:\u001b[0m\n"
     ]
    },
    {
     "data": {
      "text/plain": [
       "book_id             0\n",
       "author_id           0\n",
       "title               0\n",
       "num_pages           0\n",
       "publication_date    0\n",
       "publisher_id        0\n",
       "dtype: int64"
      ]
     },
     "metadata": {},
     "output_type": "display_data"
    },
    {
     "name": "stdout",
     "output_type": "stream",
     "text": [
      "\u001b[1mКоличество дубликатов в таблице:\u001b[0m 0\n"
     ]
    }
   ],
   "source": [
    "books = \"\"\" SELECT * FROM books \"\"\"\n",
    "con = engine.connect()\n",
    "books_sql = pd.io.sql.read_sql(sql=text(books), con=con)\n",
    "display(books_sql.head())\n",
    "print(' ')\n",
    "books_sql.info()\n",
    "print(' ')\n",
    "print('\\033[1m' + 'Пропуски в таблице:' + '\\033[0m')\n",
    "display(books_sql.isna().sum())\n",
    "print('\\033[1m' + 'Количество дубликатов в таблице:' + '\\033[0m', books_sql.duplicated().sum())"
   ]
  },
  {
   "cell_type": "markdown",
   "metadata": {},
   "source": [
    "**В таблице данные о 1000 книгах, пропусков нет, явные дубликаты отсутствуют.**"
   ]
  },
  {
   "cell_type": "markdown",
   "metadata": {},
   "source": [
    "### Таблица authors"
   ]
  },
  {
   "cell_type": "code",
   "execution_count": 3,
   "metadata": {},
   "outputs": [
    {
     "data": {
      "text/html": [
       "<div>\n",
       "<style scoped>\n",
       "    .dataframe tbody tr th:only-of-type {\n",
       "        vertical-align: middle;\n",
       "    }\n",
       "\n",
       "    .dataframe tbody tr th {\n",
       "        vertical-align: top;\n",
       "    }\n",
       "\n",
       "    .dataframe thead th {\n",
       "        text-align: right;\n",
       "    }\n",
       "</style>\n",
       "<table border=\"1\" class=\"dataframe\">\n",
       "  <thead>\n",
       "    <tr style=\"text-align: right;\">\n",
       "      <th></th>\n",
       "      <th>author_id</th>\n",
       "      <th>author</th>\n",
       "    </tr>\n",
       "  </thead>\n",
       "  <tbody>\n",
       "    <tr>\n",
       "      <th>0</th>\n",
       "      <td>1</td>\n",
       "      <td>A.S. Byatt</td>\n",
       "    </tr>\n",
       "    <tr>\n",
       "      <th>1</th>\n",
       "      <td>2</td>\n",
       "      <td>Aesop/Laura Harris/Laura Gibbs</td>\n",
       "    </tr>\n",
       "    <tr>\n",
       "      <th>2</th>\n",
       "      <td>3</td>\n",
       "      <td>Agatha Christie</td>\n",
       "    </tr>\n",
       "    <tr>\n",
       "      <th>3</th>\n",
       "      <td>4</td>\n",
       "      <td>Alan Brennert</td>\n",
       "    </tr>\n",
       "    <tr>\n",
       "      <th>4</th>\n",
       "      <td>5</td>\n",
       "      <td>Alan Moore/David   Lloyd</td>\n",
       "    </tr>\n",
       "  </tbody>\n",
       "</table>\n",
       "</div>"
      ],
      "text/plain": [
       "   author_id                          author\n",
       "0          1                      A.S. Byatt\n",
       "1          2  Aesop/Laura Harris/Laura Gibbs\n",
       "2          3                 Agatha Christie\n",
       "3          4                   Alan Brennert\n",
       "4          5        Alan Moore/David   Lloyd"
      ]
     },
     "metadata": {},
     "output_type": "display_data"
    },
    {
     "name": "stdout",
     "output_type": "stream",
     "text": [
      " \n",
      "<class 'pandas.core.frame.DataFrame'>\n",
      "RangeIndex: 636 entries, 0 to 635\n",
      "Data columns (total 2 columns):\n",
      " #   Column     Non-Null Count  Dtype \n",
      "---  ------     --------------  ----- \n",
      " 0   author_id  636 non-null    int64 \n",
      " 1   author     636 non-null    object\n",
      "dtypes: int64(1), object(1)\n",
      "memory usage: 10.1+ KB\n",
      " \n",
      "\u001b[1mПропуски в таблице:\u001b[0m\n"
     ]
    },
    {
     "data": {
      "text/plain": [
       "author_id    0\n",
       "author       0\n",
       "dtype: int64"
      ]
     },
     "metadata": {},
     "output_type": "display_data"
    },
    {
     "name": "stdout",
     "output_type": "stream",
     "text": [
      "\u001b[1mКоличество дубликатов в таблице:\u001b[0m 0\n"
     ]
    }
   ],
   "source": [
    "authors = \"\"\" SELECT * FROM authors \"\"\"\n",
    "con = engine.connect()\n",
    "authors_sql = pd.io.sql.read_sql(sql=text(authors), con=con)\n",
    "display(authors_sql.head())\n",
    "print(' ')\n",
    "authors_sql.info()\n",
    "print(' ')\n",
    "print('\\033[1m' + 'Пропуски в таблице:' + '\\033[0m')\n",
    "display(authors_sql.isna().sum())\n",
    "print('\\033[1m' + 'Количество дубликатов в таблице:' + '\\033[0m', authors_sql.duplicated().sum())"
   ]
  },
  {
   "cell_type": "markdown",
   "metadata": {},
   "source": [
    "**В таблице данные о 636 авторов, пропусков нет, явные дубликаты отсутствуют.**"
   ]
  },
  {
   "cell_type": "markdown",
   "metadata": {},
   "source": [
    "### Таблица publishers"
   ]
  },
  {
   "cell_type": "code",
   "execution_count": 4,
   "metadata": {},
   "outputs": [
    {
     "data": {
      "text/html": [
       "<div>\n",
       "<style scoped>\n",
       "    .dataframe tbody tr th:only-of-type {\n",
       "        vertical-align: middle;\n",
       "    }\n",
       "\n",
       "    .dataframe tbody tr th {\n",
       "        vertical-align: top;\n",
       "    }\n",
       "\n",
       "    .dataframe thead th {\n",
       "        text-align: right;\n",
       "    }\n",
       "</style>\n",
       "<table border=\"1\" class=\"dataframe\">\n",
       "  <thead>\n",
       "    <tr style=\"text-align: right;\">\n",
       "      <th></th>\n",
       "      <th>publisher_id</th>\n",
       "      <th>publisher</th>\n",
       "    </tr>\n",
       "  </thead>\n",
       "  <tbody>\n",
       "    <tr>\n",
       "      <th>0</th>\n",
       "      <td>1</td>\n",
       "      <td>Ace</td>\n",
       "    </tr>\n",
       "    <tr>\n",
       "      <th>1</th>\n",
       "      <td>2</td>\n",
       "      <td>Ace Book</td>\n",
       "    </tr>\n",
       "    <tr>\n",
       "      <th>2</th>\n",
       "      <td>3</td>\n",
       "      <td>Ace Books</td>\n",
       "    </tr>\n",
       "    <tr>\n",
       "      <th>3</th>\n",
       "      <td>4</td>\n",
       "      <td>Ace Hardcover</td>\n",
       "    </tr>\n",
       "    <tr>\n",
       "      <th>4</th>\n",
       "      <td>5</td>\n",
       "      <td>Addison Wesley Publishing Company</td>\n",
       "    </tr>\n",
       "  </tbody>\n",
       "</table>\n",
       "</div>"
      ],
      "text/plain": [
       "   publisher_id                          publisher\n",
       "0             1                                Ace\n",
       "1             2                           Ace Book\n",
       "2             3                          Ace Books\n",
       "3             4                      Ace Hardcover\n",
       "4             5  Addison Wesley Publishing Company"
      ]
     },
     "metadata": {},
     "output_type": "display_data"
    },
    {
     "name": "stdout",
     "output_type": "stream",
     "text": [
      " \n",
      "<class 'pandas.core.frame.DataFrame'>\n",
      "RangeIndex: 340 entries, 0 to 339\n",
      "Data columns (total 2 columns):\n",
      " #   Column        Non-Null Count  Dtype \n",
      "---  ------        --------------  ----- \n",
      " 0   publisher_id  340 non-null    int64 \n",
      " 1   publisher     340 non-null    object\n",
      "dtypes: int64(1), object(1)\n",
      "memory usage: 5.4+ KB\n",
      " \n",
      "\u001b[1mПропуски в таблице:\u001b[0m\n"
     ]
    },
    {
     "data": {
      "text/plain": [
       "publisher_id    0\n",
       "publisher       0\n",
       "dtype: int64"
      ]
     },
     "metadata": {},
     "output_type": "display_data"
    },
    {
     "name": "stdout",
     "output_type": "stream",
     "text": [
      "\u001b[1mКоличество дубликатов в таблице:\u001b[0m 0\n"
     ]
    }
   ],
   "source": [
    "publishers = \"\"\" SELECT * FROM publishers \"\"\"\n",
    "con = engine.connect()\n",
    "publishers_sql = pd.io.sql.read_sql(sql=text(publishers), con=con)\n",
    "display(publishers_sql.head())\n",
    "print(' ')\n",
    "publishers_sql.info()\n",
    "print(' ')\n",
    "print('\\033[1m' + 'Пропуски в таблице:' + '\\033[0m')\n",
    "display(publishers_sql.isna().sum())\n",
    "print('\\033[1m' + 'Количество дубликатов в таблице:' + '\\033[0m', publishers_sql.duplicated().sum())"
   ]
  },
  {
   "cell_type": "markdown",
   "metadata": {},
   "source": [
    "**В таблице данные о 340 издательствах, пропусков нет, явные дубликаты отсутствуют.**"
   ]
  },
  {
   "cell_type": "markdown",
   "metadata": {},
   "source": [
    "### Таблица ratings"
   ]
  },
  {
   "cell_type": "code",
   "execution_count": 5,
   "metadata": {},
   "outputs": [
    {
     "data": {
      "text/html": [
       "<div>\n",
       "<style scoped>\n",
       "    .dataframe tbody tr th:only-of-type {\n",
       "        vertical-align: middle;\n",
       "    }\n",
       "\n",
       "    .dataframe tbody tr th {\n",
       "        vertical-align: top;\n",
       "    }\n",
       "\n",
       "    .dataframe thead th {\n",
       "        text-align: right;\n",
       "    }\n",
       "</style>\n",
       "<table border=\"1\" class=\"dataframe\">\n",
       "  <thead>\n",
       "    <tr style=\"text-align: right;\">\n",
       "      <th></th>\n",
       "      <th>rating_id</th>\n",
       "      <th>book_id</th>\n",
       "      <th>username</th>\n",
       "      <th>rating</th>\n",
       "    </tr>\n",
       "  </thead>\n",
       "  <tbody>\n",
       "    <tr>\n",
       "      <th>0</th>\n",
       "      <td>1</td>\n",
       "      <td>1</td>\n",
       "      <td>ryanfranco</td>\n",
       "      <td>4</td>\n",
       "    </tr>\n",
       "    <tr>\n",
       "      <th>1</th>\n",
       "      <td>2</td>\n",
       "      <td>1</td>\n",
       "      <td>grantpatricia</td>\n",
       "      <td>2</td>\n",
       "    </tr>\n",
       "    <tr>\n",
       "      <th>2</th>\n",
       "      <td>3</td>\n",
       "      <td>1</td>\n",
       "      <td>brandtandrea</td>\n",
       "      <td>5</td>\n",
       "    </tr>\n",
       "    <tr>\n",
       "      <th>3</th>\n",
       "      <td>4</td>\n",
       "      <td>2</td>\n",
       "      <td>lorichen</td>\n",
       "      <td>3</td>\n",
       "    </tr>\n",
       "    <tr>\n",
       "      <th>4</th>\n",
       "      <td>5</td>\n",
       "      <td>2</td>\n",
       "      <td>mariokeller</td>\n",
       "      <td>2</td>\n",
       "    </tr>\n",
       "  </tbody>\n",
       "</table>\n",
       "</div>"
      ],
      "text/plain": [
       "   rating_id  book_id       username  rating\n",
       "0          1        1     ryanfranco       4\n",
       "1          2        1  grantpatricia       2\n",
       "2          3        1   brandtandrea       5\n",
       "3          4        2       lorichen       3\n",
       "4          5        2    mariokeller       2"
      ]
     },
     "metadata": {},
     "output_type": "display_data"
    },
    {
     "name": "stdout",
     "output_type": "stream",
     "text": [
      " \n",
      "<class 'pandas.core.frame.DataFrame'>\n",
      "RangeIndex: 6456 entries, 0 to 6455\n",
      "Data columns (total 4 columns):\n",
      " #   Column     Non-Null Count  Dtype \n",
      "---  ------     --------------  ----- \n",
      " 0   rating_id  6456 non-null   int64 \n",
      " 1   book_id    6456 non-null   int64 \n",
      " 2   username   6456 non-null   object\n",
      " 3   rating     6456 non-null   int64 \n",
      "dtypes: int64(3), object(1)\n",
      "memory usage: 201.9+ KB\n",
      " \n",
      "\u001b[1mПропуски в таблице:\u001b[0m\n"
     ]
    },
    {
     "data": {
      "text/plain": [
       "rating_id    0\n",
       "book_id      0\n",
       "username     0\n",
       "rating       0\n",
       "dtype: int64"
      ]
     },
     "metadata": {},
     "output_type": "display_data"
    },
    {
     "name": "stdout",
     "output_type": "stream",
     "text": [
      "\u001b[1mКоличество дубликатов в таблице:\u001b[0m 0\n"
     ]
    }
   ],
   "source": [
    "ratings = \"\"\" SELECT * FROM ratings \"\"\"\n",
    "con = engine.connect()\n",
    "ratings_sql = pd.io.sql.read_sql(sql=text(ratings), con=con)\n",
    "display(ratings_sql.head())\n",
    "print(' ')\n",
    "ratings_sql.info()\n",
    "print(' ')\n",
    "print('\\033[1m' + 'Пропуски в таблице:' + '\\033[0m')\n",
    "display(ratings_sql.isna().sum())\n",
    "print('\\033[1m' + 'Количество дубликатов в таблице:' + '\\033[0m', ratings_sql.duplicated().sum())"
   ]
  },
  {
   "cell_type": "markdown",
   "metadata": {},
   "source": [
    "**В таблице 6456 записи с оценками пользователей, пропусков нет, явные дубликаты отсутствуют.**"
   ]
  },
  {
   "cell_type": "markdown",
   "metadata": {},
   "source": [
    "### Таблица reviews"
   ]
  },
  {
   "cell_type": "code",
   "execution_count": 6,
   "metadata": {},
   "outputs": [
    {
     "data": {
      "text/html": [
       "<div>\n",
       "<style scoped>\n",
       "    .dataframe tbody tr th:only-of-type {\n",
       "        vertical-align: middle;\n",
       "    }\n",
       "\n",
       "    .dataframe tbody tr th {\n",
       "        vertical-align: top;\n",
       "    }\n",
       "\n",
       "    .dataframe thead th {\n",
       "        text-align: right;\n",
       "    }\n",
       "</style>\n",
       "<table border=\"1\" class=\"dataframe\">\n",
       "  <thead>\n",
       "    <tr style=\"text-align: right;\">\n",
       "      <th></th>\n",
       "      <th>review_id</th>\n",
       "      <th>book_id</th>\n",
       "      <th>username</th>\n",
       "      <th>text</th>\n",
       "    </tr>\n",
       "  </thead>\n",
       "  <tbody>\n",
       "    <tr>\n",
       "      <th>0</th>\n",
       "      <td>1</td>\n",
       "      <td>1</td>\n",
       "      <td>brandtandrea</td>\n",
       "      <td>Mention society tell send professor analysis. ...</td>\n",
       "    </tr>\n",
       "    <tr>\n",
       "      <th>1</th>\n",
       "      <td>2</td>\n",
       "      <td>1</td>\n",
       "      <td>ryanfranco</td>\n",
       "      <td>Foot glass pretty audience hit themselves. Amo...</td>\n",
       "    </tr>\n",
       "    <tr>\n",
       "      <th>2</th>\n",
       "      <td>3</td>\n",
       "      <td>2</td>\n",
       "      <td>lorichen</td>\n",
       "      <td>Listen treat keep worry. Miss husband tax but ...</td>\n",
       "    </tr>\n",
       "    <tr>\n",
       "      <th>3</th>\n",
       "      <td>4</td>\n",
       "      <td>3</td>\n",
       "      <td>johnsonamanda</td>\n",
       "      <td>Finally month interesting blue could nature cu...</td>\n",
       "    </tr>\n",
       "    <tr>\n",
       "      <th>4</th>\n",
       "      <td>5</td>\n",
       "      <td>3</td>\n",
       "      <td>scotttamara</td>\n",
       "      <td>Nation purpose heavy give wait song will. List...</td>\n",
       "    </tr>\n",
       "  </tbody>\n",
       "</table>\n",
       "</div>"
      ],
      "text/plain": [
       "   review_id  book_id       username  \\\n",
       "0          1        1   brandtandrea   \n",
       "1          2        1     ryanfranco   \n",
       "2          3        2       lorichen   \n",
       "3          4        3  johnsonamanda   \n",
       "4          5        3    scotttamara   \n",
       "\n",
       "                                                text  \n",
       "0  Mention society tell send professor analysis. ...  \n",
       "1  Foot glass pretty audience hit themselves. Amo...  \n",
       "2  Listen treat keep worry. Miss husband tax but ...  \n",
       "3  Finally month interesting blue could nature cu...  \n",
       "4  Nation purpose heavy give wait song will. List...  "
      ]
     },
     "metadata": {},
     "output_type": "display_data"
    },
    {
     "name": "stdout",
     "output_type": "stream",
     "text": [
      " \n",
      "<class 'pandas.core.frame.DataFrame'>\n",
      "RangeIndex: 2793 entries, 0 to 2792\n",
      "Data columns (total 4 columns):\n",
      " #   Column     Non-Null Count  Dtype \n",
      "---  ------     --------------  ----- \n",
      " 0   review_id  2793 non-null   int64 \n",
      " 1   book_id    2793 non-null   int64 \n",
      " 2   username   2793 non-null   object\n",
      " 3   text       2793 non-null   object\n",
      "dtypes: int64(2), object(2)\n",
      "memory usage: 87.4+ KB\n",
      " \n",
      "\u001b[1mПропуски в таблице:\u001b[0m\n"
     ]
    },
    {
     "data": {
      "text/plain": [
       "review_id    0\n",
       "book_id      0\n",
       "username     0\n",
       "text         0\n",
       "dtype: int64"
      ]
     },
     "metadata": {},
     "output_type": "display_data"
    },
    {
     "name": "stdout",
     "output_type": "stream",
     "text": [
      "\u001b[1mКоличество дубликатов в таблице:\u001b[0m 0\n"
     ]
    }
   ],
   "source": [
    "reviews = \"\"\" SELECT * FROM reviews \"\"\"\n",
    "con = engine.connect()\n",
    "reviews_sql = pd.io.sql.read_sql(sql=text(reviews), con=con)\n",
    "display(reviews_sql.head())\n",
    "print(' ')\n",
    "reviews_sql.info()\n",
    "print(' ')\n",
    "print('\\033[1m' + 'Пропуски в таблице:' + '\\033[0m')\n",
    "display(reviews_sql.isna().sum())\n",
    "print('\\033[1m' + 'Количество дубликатов в таблице:' + '\\033[0m', reviews_sql.duplicated().sum())"
   ]
  },
  {
   "cell_type": "markdown",
   "metadata": {},
   "source": [
    "**В таблице 2793 записи с обзорами книг от пользователей, пропусков нет, явные дубликаты отсутствуют.**"
   ]
  },
  {
   "cell_type": "markdown",
   "metadata": {},
   "source": [
    "## Анализ данных"
   ]
  },
  {
   "cell_type": "markdown",
   "metadata": {},
   "source": [
    "### Книги, выпущенные после 01.01.2000"
   ]
  },
  {
   "cell_type": "code",
   "execution_count": 7,
   "metadata": {},
   "outputs": [
    {
     "name": "stdout",
     "output_type": "stream",
     "text": [
      "После 01.01.2000 выпущено 819 книг\n"
     ]
    }
   ],
   "source": [
    "query_books = \"\"\" \n",
    "         SELECT COUNT(book_id)\n",
    "         FROM books\n",
    "         WHERE publication_date > '2000-01-01' \n",
    "         \"\"\"\n",
    "result = pd.io.sql.read_sql(query_books, con=con)\n",
    "print('После 01.01.2000 выпущено', result.iloc[0,0], 'книг')"
   ]
  },
  {
   "cell_type": "markdown",
   "metadata": {},
   "source": [
    "### Количество обзоров и средняя оценка каждой книги"
   ]
  },
  {
   "cell_type": "code",
   "execution_count": 8,
   "metadata": {},
   "outputs": [
    {
     "data": {
      "text/html": [
       "<div>\n",
       "<style scoped>\n",
       "    .dataframe tbody tr th:only-of-type {\n",
       "        vertical-align: middle;\n",
       "    }\n",
       "\n",
       "    .dataframe tbody tr th {\n",
       "        vertical-align: top;\n",
       "    }\n",
       "\n",
       "    .dataframe thead th {\n",
       "        text-align: right;\n",
       "    }\n",
       "</style>\n",
       "<table border=\"1\" class=\"dataframe\">\n",
       "  <thead>\n",
       "    <tr style=\"text-align: right;\">\n",
       "      <th></th>\n",
       "      <th>book_id</th>\n",
       "      <th>cnt_reviews</th>\n",
       "      <th>avg_rating</th>\n",
       "    </tr>\n",
       "  </thead>\n",
       "  <tbody>\n",
       "    <tr>\n",
       "      <th>0</th>\n",
       "      <td>948</td>\n",
       "      <td>7</td>\n",
       "      <td>3.66</td>\n",
       "    </tr>\n",
       "    <tr>\n",
       "      <th>1</th>\n",
       "      <td>695</td>\n",
       "      <td>6</td>\n",
       "      <td>4.08</td>\n",
       "    </tr>\n",
       "    <tr>\n",
       "      <th>2</th>\n",
       "      <td>299</td>\n",
       "      <td>6</td>\n",
       "      <td>4.29</td>\n",
       "    </tr>\n",
       "    <tr>\n",
       "      <th>3</th>\n",
       "      <td>696</td>\n",
       "      <td>6</td>\n",
       "      <td>3.83</td>\n",
       "    </tr>\n",
       "    <tr>\n",
       "      <th>4</th>\n",
       "      <td>734</td>\n",
       "      <td>6</td>\n",
       "      <td>4.21</td>\n",
       "    </tr>\n",
       "    <tr>\n",
       "      <th>...</th>\n",
       "      <td>...</td>\n",
       "      <td>...</td>\n",
       "      <td>...</td>\n",
       "    </tr>\n",
       "    <tr>\n",
       "      <th>995</th>\n",
       "      <td>672</td>\n",
       "      <td>0</td>\n",
       "      <td>5.00</td>\n",
       "    </tr>\n",
       "    <tr>\n",
       "      <th>996</th>\n",
       "      <td>808</td>\n",
       "      <td>0</td>\n",
       "      <td>3.00</td>\n",
       "    </tr>\n",
       "    <tr>\n",
       "      <th>997</th>\n",
       "      <td>221</td>\n",
       "      <td>0</td>\n",
       "      <td>4.00</td>\n",
       "    </tr>\n",
       "    <tr>\n",
       "      <th>998</th>\n",
       "      <td>387</td>\n",
       "      <td>0</td>\n",
       "      <td>4.00</td>\n",
       "    </tr>\n",
       "    <tr>\n",
       "      <th>999</th>\n",
       "      <td>83</td>\n",
       "      <td>0</td>\n",
       "      <td>3.67</td>\n",
       "    </tr>\n",
       "  </tbody>\n",
       "</table>\n",
       "<p>1000 rows × 3 columns</p>\n",
       "</div>"
      ],
      "text/plain": [
       "     book_id  cnt_reviews  avg_rating\n",
       "0        948            7        3.66\n",
       "1        695            6        4.08\n",
       "2        299            6        4.29\n",
       "3        696            6        3.83\n",
       "4        734            6        4.21\n",
       "..       ...          ...         ...\n",
       "995      672            0        5.00\n",
       "996      808            0        3.00\n",
       "997      221            0        4.00\n",
       "998      387            0        4.00\n",
       "999       83            0        3.67\n",
       "\n",
       "[1000 rows x 3 columns]"
      ]
     },
     "execution_count": 8,
     "metadata": {},
     "output_type": "execute_result"
    }
   ],
   "source": [
    "query_reviews = \"\"\" \n",
    "         SELECT rt.book_id,\n",
    "                COUNT(review_id) AS cnt_reviews,\n",
    "                ROUND(AVG(rating),2) AS avg_rating\n",
    "         FROM ratings rt\n",
    "         LEFT JOIN reviews r ON r.book_id = rt.book_id AND r.username = rt.username\n",
    "         GROUP BY rt.book_id\n",
    "         ORDER BY cnt_reviews DESC \n",
    "         \"\"\"\n",
    "pd.io.sql.read_sql(query_reviews, con=con)"
   ]
  },
  {
   "cell_type": "markdown",
   "metadata": {},
   "source": [
    "**Максимальное число обзоров по книге - 7, при этом есть и книги, которые не получили ни одного обзора, однако, оценку пользователи все же оставили.**"
   ]
  },
  {
   "cell_type": "markdown",
   "metadata": {},
   "source": [
    "### Издательство, которое выпустило наибольшее число книг толще 50 страниц"
   ]
  },
  {
   "cell_type": "code",
   "execution_count": 9,
   "metadata": {},
   "outputs": [
    {
     "data": {
      "text/html": [
       "<div>\n",
       "<style scoped>\n",
       "    .dataframe tbody tr th:only-of-type {\n",
       "        vertical-align: middle;\n",
       "    }\n",
       "\n",
       "    .dataframe tbody tr th {\n",
       "        vertical-align: top;\n",
       "    }\n",
       "\n",
       "    .dataframe thead th {\n",
       "        text-align: right;\n",
       "    }\n",
       "</style>\n",
       "<table border=\"1\" class=\"dataframe\">\n",
       "  <thead>\n",
       "    <tr style=\"text-align: right;\">\n",
       "      <th></th>\n",
       "      <th>publisher</th>\n",
       "      <th>cnt_books</th>\n",
       "    </tr>\n",
       "  </thead>\n",
       "  <tbody>\n",
       "    <tr>\n",
       "      <th>0</th>\n",
       "      <td>Penguin Books</td>\n",
       "      <td>42</td>\n",
       "    </tr>\n",
       "  </tbody>\n",
       "</table>\n",
       "</div>"
      ],
      "text/plain": [
       "       publisher  cnt_books\n",
       "0  Penguin Books         42"
      ]
     },
     "execution_count": 9,
     "metadata": {},
     "output_type": "execute_result"
    }
   ],
   "source": [
    "query_publisher = \"\"\" \n",
    "         SELECT p.publisher,\n",
    "                COUNT(b.book_id) AS cnt_books\n",
    "         FROM books b\n",
    "         JOIN publishers p ON b.publisher_id=p.publisher_id  \n",
    "         WHERE b.num_pages > 50\n",
    "         GROUP BY p.publisher\n",
    "         ORDER BY cnt_books DESC\n",
    "         LIMIT 1 \n",
    "         \"\"\"\n",
    "pd.io.sql.read_sql(query_publisher, con=con)"
   ]
  },
  {
   "cell_type": "markdown",
   "metadata": {},
   "source": [
    "**Penguin Books является издательством, которое выпустило максимальное кол-во книг толще 50 страниц.**"
   ]
  },
  {
   "cell_type": "markdown",
   "metadata": {},
   "source": [
    "### Автор с самой высокой средней оценкой книг (учитываются только книги с 50 и более оценками)"
   ]
  },
  {
   "cell_type": "code",
   "execution_count": 22,
   "metadata": {},
   "outputs": [
    {
     "data": {
      "text/html": [
       "<div>\n",
       "<style scoped>\n",
       "    .dataframe tbody tr th:only-of-type {\n",
       "        vertical-align: middle;\n",
       "    }\n",
       "\n",
       "    .dataframe tbody tr th {\n",
       "        vertical-align: top;\n",
       "    }\n",
       "\n",
       "    .dataframe thead th {\n",
       "        text-align: right;\n",
       "    }\n",
       "</style>\n",
       "<table border=\"1\" class=\"dataframe\">\n",
       "  <thead>\n",
       "    <tr style=\"text-align: right;\">\n",
       "      <th></th>\n",
       "      <th>author</th>\n",
       "      <th>round</th>\n",
       "    </tr>\n",
       "  </thead>\n",
       "  <tbody>\n",
       "    <tr>\n",
       "      <th>0</th>\n",
       "      <td>J.K. Rowling/Mary GrandPré</td>\n",
       "      <td>4.29</td>\n",
       "    </tr>\n",
       "  </tbody>\n",
       "</table>\n",
       "</div>"
      ],
      "text/plain": [
       "                       author  round\n",
       "0  J.K. Rowling/Mary GrandPré   4.29"
      ]
     },
     "execution_count": 22,
     "metadata": {},
     "output_type": "execute_result"
    }
   ],
   "source": [
    "query_author = \"\"\" \n",
    "         SELECT a.author,\n",
    "                ROUND(AVG(r.avg_rating),2)\n",
    "         FROM (SELECT book_id,\n",
    "                      COUNT(rating) AS cnt_rating,\n",
    "                      ROUND(AVG(rating),2) AS avg_rating\n",
    "               FROM ratings\n",
    "               GROUP BY book_id\n",
    "               HAVING COUNT(rating) >= 50) r\n",
    "         JOIN books b ON r.book_id=b.book_id\n",
    "         JOIN authors a ON b.author_id=a.author_id\n",
    "         GROUP BY a.author\n",
    "         ORDER BY AVG(r.avg_rating) DESC\n",
    "         LIMIT 1\n",
    "         \"\"\"\n",
    "pd.io.sql.read_sql(query_author, con=con)"
   ]
  },
  {
   "cell_type": "markdown",
   "metadata": {},
   "source": [
    "**Джоан Кэтлин Роулинг получила самую высокую оценку от пользователей - 4,29.**"
   ]
  },
  {
   "cell_type": "markdown",
   "metadata": {},
   "source": [
    "### Среднее количество обзоров от пользователей, которые поставили больше 48 оценок"
   ]
  },
  {
   "cell_type": "code",
   "execution_count": 11,
   "metadata": {},
   "outputs": [
    {
     "data": {
      "text/html": [
       "<div>\n",
       "<style scoped>\n",
       "    .dataframe tbody tr th:only-of-type {\n",
       "        vertical-align: middle;\n",
       "    }\n",
       "\n",
       "    .dataframe tbody tr th {\n",
       "        vertical-align: top;\n",
       "    }\n",
       "\n",
       "    .dataframe thead th {\n",
       "        text-align: right;\n",
       "    }\n",
       "</style>\n",
       "<table border=\"1\" class=\"dataframe\">\n",
       "  <thead>\n",
       "    <tr style=\"text-align: right;\">\n",
       "      <th></th>\n",
       "      <th>avg</th>\n",
       "    </tr>\n",
       "  </thead>\n",
       "  <tbody>\n",
       "    <tr>\n",
       "      <th>0</th>\n",
       "      <td>24.0</td>\n",
       "    </tr>\n",
       "  </tbody>\n",
       "</table>\n",
       "</div>"
      ],
      "text/plain": [
       "    avg\n",
       "0  24.0"
      ]
     },
     "execution_count": 11,
     "metadata": {},
     "output_type": "execute_result"
    }
   ],
   "source": [
    "query_avg_reviews = \"\"\" \n",
    "         SELECT AVG(cnt_reviews) \n",
    "         FROM (SELECT r.username,\n",
    "                      COUNT(review_id) AS cnt_reviews\n",
    "               FROM reviews r\n",
    "               WHERE username IN (SELECT username\n",
    "                                  FROM ratings\n",
    "                                  GROUP BY username\n",
    "                                  HAVING COUNT(rating_id) > 48) \n",
    "               GROUP BY r.username) t\n",
    "         \"\"\"\n",
    "pd.io.sql.read_sql(query_avg_reviews, con=con)"
   ]
  },
  {
   "cell_type": "markdown",
   "metadata": {},
   "source": [
    "**В среднем пользователи, которые ставят более 48 оценок, оставляют 24 обзора на книги.**"
   ]
  },
  {
   "cell_type": "markdown",
   "metadata": {},
   "source": [
    "## Вывод"
   ]
  },
  {
   "cell_type": "markdown",
   "metadata": {},
   "source": [
    "В базе данных сервиса содержится информация о 1000 книгах, данные без пропусков и явных дубликатов.\n",
    "\n",
    "- Было выпущено 819 книг после 01.01.2000 - 82% от выборки\n",
    "- Замечено 6 книг, которые не получили обзоры от пользователей, но получили оценки\n",
    "- Максимальное количество обзоров на книгу составило 7\n",
    "- В среднем пользователи, которые ставят более 48 оценок, оставляют 24 обзора на книги\n",
    "- Издательство, которое выпустило максимальное число книг толще 50 страниц - Penguin Books (42 книги)\n",
    "- Джоан Кэтлин Роулинг, как автор, получила самую высокую оценку от пользователей - 4,29"
   ]
  }
 ],
 "metadata": {
  "ExecuteTimeLog": [
   {
    "duration": 8438,
    "start_time": "2024-09-18T07:55:56.724Z"
   },
   {
    "duration": 78,
    "start_time": "2024-09-18T07:58:45.282Z"
   },
   {
    "duration": 75,
    "start_time": "2024-09-18T07:58:56.183Z"
   },
   {
    "duration": 73,
    "start_time": "2024-09-18T07:59:10.917Z"
   },
   {
    "duration": 72,
    "start_time": "2024-09-18T08:01:03.041Z"
   },
   {
    "duration": 3,
    "start_time": "2024-09-18T08:10:38.762Z"
   },
   {
    "duration": 253,
    "start_time": "2024-09-18T08:18:26.082Z"
   },
   {
    "duration": 330,
    "start_time": "2024-09-18T08:20:49.034Z"
   },
   {
    "duration": 283,
    "start_time": "2024-09-18T08:22:17.424Z"
   },
   {
    "duration": 276,
    "start_time": "2024-09-18T08:22:37.021Z"
   },
   {
    "duration": 6,
    "start_time": "2024-09-18T08:24:29.165Z"
   },
   {
    "duration": 8,
    "start_time": "2024-09-18T08:24:40.009Z"
   },
   {
    "duration": 149,
    "start_time": "2024-09-18T08:25:21.255Z"
   },
   {
    "duration": 147,
    "start_time": "2024-09-18T08:25:52.254Z"
   },
   {
    "duration": 5,
    "start_time": "2024-09-18T08:25:54.455Z"
   },
   {
    "duration": 10,
    "start_time": "2024-09-18T08:25:54.843Z"
   },
   {
    "duration": 7,
    "start_time": "2024-09-18T08:25:58.622Z"
   },
   {
    "duration": 4,
    "start_time": "2024-09-18T08:26:00.088Z"
   },
   {
    "duration": 7,
    "start_time": "2024-09-18T08:26:00.495Z"
   },
   {
    "duration": 5,
    "start_time": "2024-09-18T08:26:17.658Z"
   },
   {
    "duration": 7,
    "start_time": "2024-09-18T08:26:18.314Z"
   },
   {
    "duration": 4,
    "start_time": "2024-09-18T08:26:31.180Z"
   },
   {
    "duration": 8,
    "start_time": "2024-09-18T08:26:32.282Z"
   },
   {
    "duration": 5,
    "start_time": "2024-09-18T08:27:29.431Z"
   },
   {
    "duration": 12,
    "start_time": "2024-09-18T08:27:30.252Z"
   },
   {
    "duration": 4,
    "start_time": "2024-09-18T08:27:37.945Z"
   },
   {
    "duration": 149,
    "start_time": "2024-09-18T08:27:38.430Z"
   },
   {
    "duration": 5,
    "start_time": "2024-09-18T08:27:54.165Z"
   },
   {
    "duration": 74,
    "start_time": "2024-09-18T08:27:54.782Z"
   },
   {
    "duration": 5,
    "start_time": "2024-09-18T08:28:20.076Z"
   },
   {
    "duration": 65,
    "start_time": "2024-09-18T08:28:20.496Z"
   },
   {
    "duration": 7,
    "start_time": "2024-09-18T08:28:33.925Z"
   },
   {
    "duration": 7,
    "start_time": "2024-09-18T08:28:34.377Z"
   },
   {
    "duration": 92,
    "start_time": "2024-09-18T08:29:53.887Z"
   },
   {
    "duration": 8,
    "start_time": "2024-09-18T08:29:54.064Z"
   },
   {
    "duration": 7,
    "start_time": "2024-09-18T08:30:01.818Z"
   },
   {
    "duration": 10,
    "start_time": "2024-09-18T08:30:02.414Z"
   },
   {
    "duration": 161,
    "start_time": "2024-09-18T08:30:39.867Z"
   },
   {
    "duration": 427,
    "start_time": "2024-09-18T08:30:54.870Z"
   },
   {
    "duration": 312,
    "start_time": "2024-09-18T08:34:10.214Z"
   },
   {
    "duration": 4,
    "start_time": "2024-09-18T08:34:33.451Z"
   },
   {
    "duration": 311,
    "start_time": "2024-09-18T08:34:35.308Z"
   },
   {
    "duration": 198,
    "start_time": "2024-09-18T08:35:46.473Z"
   },
   {
    "duration": 101,
    "start_time": "2024-09-18T08:35:56.337Z"
   },
   {
    "duration": 3,
    "start_time": "2024-09-18T08:36:26.903Z"
   },
   {
    "duration": 78,
    "start_time": "2024-09-18T08:39:13.900Z"
   },
   {
    "duration": 68,
    "start_time": "2024-09-18T08:40:42.404Z"
   },
   {
    "duration": 69,
    "start_time": "2024-09-18T08:40:52.341Z"
   },
   {
    "duration": 187,
    "start_time": "2024-09-18T08:42:36.552Z"
   },
   {
    "duration": 138,
    "start_time": "2024-09-18T08:44:38.826Z"
   },
   {
    "duration": 127,
    "start_time": "2024-09-18T08:45:05.121Z"
   },
   {
    "duration": 4,
    "start_time": "2024-09-18T09:22:10.814Z"
   },
   {
    "duration": 3,
    "start_time": "2024-09-18T09:30:56.886Z"
   },
   {
    "duration": 35,
    "start_time": "2024-09-18T09:31:29.676Z"
   },
   {
    "duration": 32,
    "start_time": "2024-09-18T09:31:36.807Z"
   },
   {
    "duration": 5,
    "start_time": "2024-09-18T09:31:42.090Z"
   },
   {
    "duration": 276,
    "start_time": "2024-09-18T09:31:42.097Z"
   },
   {
    "duration": 156,
    "start_time": "2024-09-18T09:31:42.374Z"
   },
   {
    "duration": 66,
    "start_time": "2024-09-18T09:31:42.532Z"
   },
   {
    "duration": 112,
    "start_time": "2024-09-18T09:31:42.600Z"
   },
   {
    "duration": 96,
    "start_time": "2024-09-18T09:31:42.714Z"
   },
   {
    "duration": 30,
    "start_time": "2024-09-18T09:31:42.812Z"
   },
   {
    "duration": 78,
    "start_time": "2024-09-18T09:32:48.505Z"
   },
   {
    "duration": 30,
    "start_time": "2024-09-18T09:32:55.553Z"
   },
   {
    "duration": 31,
    "start_time": "2024-09-18T09:33:45.850Z"
   },
   {
    "duration": 31,
    "start_time": "2024-09-18T09:33:55.337Z"
   },
   {
    "duration": 1079,
    "start_time": "2024-09-18T09:34:16.035Z"
   },
   {
    "duration": 38,
    "start_time": "2024-09-18T09:35:05.516Z"
   },
   {
    "duration": 28,
    "start_time": "2024-09-18T09:35:08.441Z"
   },
   {
    "duration": 28,
    "start_time": "2024-09-18T09:35:16.255Z"
   },
   {
    "duration": 1074,
    "start_time": "2024-09-18T09:36:52.906Z"
   },
   {
    "duration": 29,
    "start_time": "2024-09-18T09:36:57.282Z"
   },
   {
    "duration": 75,
    "start_time": "2024-09-18T09:38:14.504Z"
   },
   {
    "duration": 29,
    "start_time": "2024-09-18T09:38:46.494Z"
   },
   {
    "duration": 28,
    "start_time": "2024-09-18T09:38:55.644Z"
   },
   {
    "duration": 29,
    "start_time": "2024-09-18T09:39:04.255Z"
   },
   {
    "duration": 28,
    "start_time": "2024-09-18T09:39:10.210Z"
   },
   {
    "duration": 28,
    "start_time": "2024-09-18T09:39:13.995Z"
   },
   {
    "duration": 51,
    "start_time": "2024-09-18T09:45:29.310Z"
   },
   {
    "duration": 68,
    "start_time": "2024-09-18T09:45:44.815Z"
   },
   {
    "duration": 57,
    "start_time": "2024-09-18T09:46:42.878Z"
   },
   {
    "duration": 54,
    "start_time": "2024-09-18T09:46:56.473Z"
   },
   {
    "duration": 50,
    "start_time": "2024-09-18T09:48:05.628Z"
   },
   {
    "duration": 61,
    "start_time": "2024-09-18T09:48:27.747Z"
   },
   {
    "duration": 66,
    "start_time": "2024-09-18T09:48:38.035Z"
   },
   {
    "duration": 69,
    "start_time": "2024-09-18T09:49:47.659Z"
   },
   {
    "duration": 65,
    "start_time": "2024-09-18T09:50:32.683Z"
   },
   {
    "duration": 8112,
    "start_time": "2024-09-18T09:50:39.988Z"
   },
   {
    "duration": 276,
    "start_time": "2024-09-18T09:50:48.102Z"
   },
   {
    "duration": 150,
    "start_time": "2024-09-18T09:50:48.380Z"
   },
   {
    "duration": 68,
    "start_time": "2024-09-18T09:50:48.532Z"
   },
   {
    "duration": 115,
    "start_time": "2024-09-18T09:50:48.603Z"
   },
   {
    "duration": 102,
    "start_time": "2024-09-18T09:50:48.720Z"
   },
   {
    "duration": 30,
    "start_time": "2024-09-18T09:50:48.824Z"
   },
   {
    "duration": 46,
    "start_time": "2024-09-18T09:50:48.856Z"
   },
   {
    "duration": 136,
    "start_time": "2024-09-18T09:52:55.774Z"
   },
   {
    "duration": 78,
    "start_time": "2024-09-18T09:53:23.595Z"
   },
   {
    "duration": 57,
    "start_time": "2024-09-18T09:55:26.637Z"
   },
   {
    "duration": 56,
    "start_time": "2024-09-18T09:55:35.956Z"
   },
   {
    "duration": 65,
    "start_time": "2024-09-18T09:55:42.828Z"
   },
   {
    "duration": 49,
    "start_time": "2024-09-18T09:56:52.628Z"
   },
   {
    "duration": 66,
    "start_time": "2024-09-18T09:56:56.711Z"
   },
   {
    "duration": 29,
    "start_time": "2024-09-18T10:00:06.475Z"
   },
   {
    "duration": 27,
    "start_time": "2024-09-18T10:00:13.670Z"
   },
   {
    "duration": 50,
    "start_time": "2024-09-18T10:02:23.125Z"
   },
   {
    "duration": 61,
    "start_time": "2024-09-18T10:02:30.990Z"
   },
   {
    "duration": 62,
    "start_time": "2024-09-18T10:02:47.995Z"
   },
   {
    "duration": 64,
    "start_time": "2024-09-18T10:03:34.923Z"
   },
   {
    "duration": 51,
    "start_time": "2024-09-18T10:03:45.476Z"
   },
   {
    "duration": 50,
    "start_time": "2024-09-18T10:03:53.416Z"
   },
   {
    "duration": 9005,
    "start_time": "2024-09-18T10:04:05.420Z"
   },
   {
    "duration": 271,
    "start_time": "2024-09-18T10:04:14.427Z"
   },
   {
    "duration": 158,
    "start_time": "2024-09-18T10:04:14.700Z"
   },
   {
    "duration": 65,
    "start_time": "2024-09-18T10:04:14.859Z"
   },
   {
    "duration": 112,
    "start_time": "2024-09-18T10:04:14.926Z"
   },
   {
    "duration": 96,
    "start_time": "2024-09-18T10:04:15.040Z"
   },
   {
    "duration": 28,
    "start_time": "2024-09-18T10:04:15.138Z"
   },
   {
    "duration": 45,
    "start_time": "2024-09-18T10:04:15.168Z"
   },
   {
    "duration": 58,
    "start_time": "2024-09-18T10:04:24.644Z"
   },
   {
    "duration": 54,
    "start_time": "2024-09-18T10:04:36.040Z"
   },
   {
    "duration": 53,
    "start_time": "2024-09-18T10:04:46.158Z"
   },
   {
    "duration": 9349,
    "start_time": "2024-09-18T10:05:33.370Z"
   },
   {
    "duration": 286,
    "start_time": "2024-09-18T10:05:42.721Z"
   },
   {
    "duration": 156,
    "start_time": "2024-09-18T10:05:43.009Z"
   },
   {
    "duration": 69,
    "start_time": "2024-09-18T10:05:43.166Z"
   },
   {
    "duration": 114,
    "start_time": "2024-09-18T10:05:43.237Z"
   },
   {
    "duration": 98,
    "start_time": "2024-09-18T10:05:43.353Z"
   },
   {
    "duration": 29,
    "start_time": "2024-09-18T10:05:43.453Z"
   },
   {
    "duration": 42,
    "start_time": "2024-09-18T10:05:43.484Z"
   },
   {
    "duration": 63,
    "start_time": "2024-09-18T10:06:54.112Z"
   },
   {
    "duration": 52,
    "start_time": "2024-09-18T10:07:08.281Z"
   },
   {
    "duration": 114,
    "start_time": "2024-09-18T10:07:23.070Z"
   },
   {
    "duration": 64,
    "start_time": "2024-09-18T10:07:26.846Z"
   },
   {
    "duration": 63,
    "start_time": "2024-09-18T10:07:32.676Z"
   },
   {
    "duration": 51,
    "start_time": "2024-09-18T10:09:41.362Z"
   },
   {
    "duration": 62,
    "start_time": "2024-09-18T10:09:51.744Z"
   },
   {
    "duration": 58,
    "start_time": "2024-09-18T10:10:04.601Z"
   },
   {
    "duration": 51,
    "start_time": "2024-09-18T10:11:26.351Z"
   },
   {
    "duration": 63,
    "start_time": "2024-09-18T10:11:41.312Z"
   },
   {
    "duration": 64,
    "start_time": "2024-09-18T10:13:11.755Z"
   },
   {
    "duration": 79,
    "start_time": "2024-09-18T10:20:48.459Z"
   },
   {
    "duration": 74,
    "start_time": "2024-09-18T10:21:07.078Z"
   },
   {
    "duration": 51,
    "start_time": "2024-09-18T10:21:36.730Z"
   },
   {
    "duration": 60,
    "start_time": "2024-09-18T10:21:54.572Z"
   },
   {
    "duration": 61,
    "start_time": "2024-09-18T10:22:07.184Z"
   },
   {
    "duration": 62,
    "start_time": "2024-09-18T10:22:27.722Z"
   },
   {
    "duration": 62,
    "start_time": "2024-09-18T10:46:07.326Z"
   },
   {
    "duration": 61,
    "start_time": "2024-09-18T10:46:26.036Z"
   },
   {
    "duration": 61,
    "start_time": "2024-09-18T10:46:45.410Z"
   },
   {
    "duration": 61,
    "start_time": "2024-09-18T10:46:51.892Z"
   },
   {
    "duration": 73,
    "start_time": "2024-09-18T10:47:07.130Z"
   },
   {
    "duration": 52,
    "start_time": "2024-09-18T10:47:50.318Z"
   },
   {
    "duration": 52,
    "start_time": "2024-09-18T10:48:57.842Z"
   },
   {
    "duration": 37,
    "start_time": "2024-09-18T10:49:07.298Z"
   },
   {
    "duration": 62,
    "start_time": "2024-09-18T10:49:21.522Z"
   },
   {
    "duration": 54,
    "start_time": "2024-09-18T10:51:43.541Z"
   },
   {
    "duration": 8250,
    "start_time": "2024-09-18T10:51:52.017Z"
   },
   {
    "duration": 264,
    "start_time": "2024-09-18T10:52:00.269Z"
   },
   {
    "duration": 155,
    "start_time": "2024-09-18T10:52:00.534Z"
   },
   {
    "duration": 65,
    "start_time": "2024-09-18T10:52:00.690Z"
   },
   {
    "duration": 115,
    "start_time": "2024-09-18T10:52:00.757Z"
   },
   {
    "duration": 92,
    "start_time": "2024-09-18T10:52:00.873Z"
   },
   {
    "duration": 27,
    "start_time": "2024-09-18T10:52:00.967Z"
   },
   {
    "duration": 42,
    "start_time": "2024-09-18T10:52:00.995Z"
   },
   {
    "duration": 125,
    "start_time": "2024-09-18T10:57:35.187Z"
   },
   {
    "duration": 42,
    "start_time": "2024-09-18T10:57:57.187Z"
   },
   {
    "duration": 32,
    "start_time": "2024-09-18T10:58:22.813Z"
   },
   {
    "duration": 49,
    "start_time": "2024-09-18T11:00:55.740Z"
   },
   {
    "duration": 58,
    "start_time": "2024-09-18T11:01:00.462Z"
   },
   {
    "duration": 58,
    "start_time": "2024-09-18T11:01:04.678Z"
   },
   {
    "duration": 62,
    "start_time": "2024-09-18T11:02:43.733Z"
   },
   {
    "duration": 62,
    "start_time": "2024-09-18T11:10:04.599Z"
   },
   {
    "duration": 59,
    "start_time": "2024-09-18T11:10:22.445Z"
   },
   {
    "duration": 67,
    "start_time": "2024-09-18T11:12:24.238Z"
   },
   {
    "duration": 60,
    "start_time": "2024-09-18T11:12:37.999Z"
   },
   {
    "duration": 60,
    "start_time": "2024-09-18T11:12:54.184Z"
   },
   {
    "duration": 42,
    "start_time": "2024-09-18T11:13:34.320Z"
   },
   {
    "duration": 143,
    "start_time": "2024-09-18T11:14:25.899Z"
   },
   {
    "duration": 6281,
    "start_time": "2024-09-19T07:07:31.961Z"
   },
   {
    "duration": 82,
    "start_time": "2024-09-19T07:07:38.243Z"
   },
   {
    "duration": 43,
    "start_time": "2024-09-19T07:07:38.328Z"
   },
   {
    "duration": 22,
    "start_time": "2024-09-19T07:07:38.372Z"
   },
   {
    "duration": 37,
    "start_time": "2024-09-19T07:07:38.396Z"
   },
   {
    "duration": 46,
    "start_time": "2024-09-19T07:07:38.434Z"
   },
   {
    "duration": 6,
    "start_time": "2024-09-19T07:07:38.481Z"
   },
   {
    "duration": 45,
    "start_time": "2024-09-19T07:07:38.489Z"
   },
   {
    "duration": 10,
    "start_time": "2024-09-19T07:07:38.536Z"
   },
   {
    "duration": 78,
    "start_time": "2024-09-19T07:58:03.750Z"
   },
   {
    "duration": 4,
    "start_time": "2024-09-19T07:58:20.691Z"
   },
   {
    "duration": 64,
    "start_time": "2024-09-19T07:58:20.697Z"
   },
   {
    "duration": 50,
    "start_time": "2024-09-19T07:58:20.762Z"
   },
   {
    "duration": 21,
    "start_time": "2024-09-19T07:58:20.814Z"
   },
   {
    "duration": 44,
    "start_time": "2024-09-19T07:58:20.837Z"
   },
   {
    "duration": 28,
    "start_time": "2024-09-19T07:58:20.883Z"
   },
   {
    "duration": 6,
    "start_time": "2024-09-19T07:58:20.912Z"
   },
   {
    "duration": 25,
    "start_time": "2024-09-19T07:58:20.920Z"
   },
   {
    "duration": 33,
    "start_time": "2024-09-19T07:58:20.948Z"
   },
   {
    "duration": 30,
    "start_time": "2024-09-19T07:58:20.983Z"
   },
   {
    "duration": 19,
    "start_time": "2024-09-19T07:58:42.032Z"
   },
   {
    "duration": 10,
    "start_time": "2024-09-19T07:59:24.352Z"
   },
   {
    "duration": 13,
    "start_time": "2024-09-19T08:01:34.775Z"
   },
   {
    "duration": 13,
    "start_time": "2024-09-19T08:04:43.242Z"
   },
   {
    "duration": 14,
    "start_time": "2024-09-19T08:05:11.606Z"
   },
   {
    "duration": 22,
    "start_time": "2024-09-19T08:05:35.992Z"
   },
   {
    "duration": 14,
    "start_time": "2024-09-19T08:05:54.372Z"
   },
   {
    "duration": 11,
    "start_time": "2024-09-19T08:06:14.896Z"
   },
   {
    "duration": 12,
    "start_time": "2024-09-19T08:06:47.258Z"
   },
   {
    "duration": 7,
    "start_time": "2024-09-19T08:12:07.055Z"
   },
   {
    "duration": 20,
    "start_time": "2024-09-19T08:12:10.017Z"
   },
   {
    "duration": 9,
    "start_time": "2024-09-19T08:12:13.559Z"
   },
   {
    "duration": 12,
    "start_time": "2024-09-19T08:12:17.855Z"
   },
   {
    "duration": 13,
    "start_time": "2024-09-19T08:17:29.167Z"
   },
   {
    "duration": 20,
    "start_time": "2024-09-19T08:17:42.918Z"
   },
   {
    "duration": 20,
    "start_time": "2024-09-19T08:17:56.036Z"
   },
   {
    "duration": 14,
    "start_time": "2024-09-19T08:18:16.992Z"
   },
   {
    "duration": 17,
    "start_time": "2024-09-19T08:18:49.481Z"
   },
   {
    "duration": 10,
    "start_time": "2024-09-19T08:22:30.065Z"
   },
   {
    "duration": 13,
    "start_time": "2024-09-19T08:23:53.733Z"
   },
   {
    "duration": 49,
    "start_time": "2024-09-19T08:24:13.796Z"
   },
   {
    "duration": 11,
    "start_time": "2024-09-19T08:24:53.403Z"
   },
   {
    "duration": 18,
    "start_time": "2024-09-19T08:26:53.802Z"
   },
   {
    "duration": 17,
    "start_time": "2024-09-19T08:27:06.143Z"
   },
   {
    "duration": 12,
    "start_time": "2024-09-19T08:27:17.757Z"
   },
   {
    "duration": 19,
    "start_time": "2024-09-19T08:30:20.717Z"
   },
   {
    "duration": 18,
    "start_time": "2024-09-19T08:30:41.736Z"
   },
   {
    "duration": 19,
    "start_time": "2024-09-19T08:30:53.119Z"
   },
   {
    "duration": 28,
    "start_time": "2024-09-19T08:31:19.217Z"
   },
   {
    "duration": 17,
    "start_time": "2024-09-19T08:33:22.014Z"
   },
   {
    "duration": 17,
    "start_time": "2024-09-19T08:33:29.692Z"
   },
   {
    "duration": 12,
    "start_time": "2024-09-19T08:33:37.176Z"
   },
   {
    "duration": 18,
    "start_time": "2024-09-19T08:34:04.541Z"
   },
   {
    "duration": 12,
    "start_time": "2024-09-19T08:34:10.718Z"
   },
   {
    "duration": 6200,
    "start_time": "2024-09-19T08:44:09.470Z"
   },
   {
    "duration": 63,
    "start_time": "2024-09-19T08:44:15.672Z"
   },
   {
    "duration": 44,
    "start_time": "2024-09-19T08:44:15.736Z"
   },
   {
    "duration": 22,
    "start_time": "2024-09-19T08:44:15.782Z"
   },
   {
    "duration": 40,
    "start_time": "2024-09-19T08:44:15.807Z"
   },
   {
    "duration": 55,
    "start_time": "2024-09-19T08:44:15.848Z"
   },
   {
    "duration": 5,
    "start_time": "2024-09-19T08:44:15.905Z"
   },
   {
    "duration": 20,
    "start_time": "2024-09-19T08:44:15.912Z"
   },
   {
    "duration": 9,
    "start_time": "2024-09-19T08:44:15.934Z"
   },
   {
    "duration": 35,
    "start_time": "2024-09-19T08:44:15.945Z"
   },
   {
    "duration": 11,
    "start_time": "2024-09-19T08:44:15.982Z"
   },
   {
    "duration": 8783,
    "start_time": "2024-09-19T14:28:08.483Z"
   },
   {
    "duration": 292,
    "start_time": "2024-09-19T14:28:17.268Z"
   },
   {
    "duration": 154,
    "start_time": "2024-09-19T14:28:17.561Z"
   },
   {
    "duration": 67,
    "start_time": "2024-09-19T14:28:17.717Z"
   },
   {
    "duration": 131,
    "start_time": "2024-09-19T14:28:17.786Z"
   },
   {
    "duration": 104,
    "start_time": "2024-09-19T14:28:17.919Z"
   },
   {
    "duration": 28,
    "start_time": "2024-09-19T14:28:18.025Z"
   },
   {
    "duration": 47,
    "start_time": "2024-09-19T14:28:18.054Z"
   },
   {
    "duration": 31,
    "start_time": "2024-09-19T14:28:18.103Z"
   },
   {
    "duration": 33,
    "start_time": "2024-09-19T14:28:18.137Z"
   },
   {
    "duration": 32,
    "start_time": "2024-09-19T14:28:18.171Z"
   },
   {
    "duration": 47,
    "start_time": "2024-09-19T18:40:50.741Z"
   },
   {
    "duration": 6,
    "start_time": "2024-09-19T18:40:55.898Z"
   },
   {
    "duration": 4940,
    "start_time": "2024-09-19T18:41:06.318Z"
   },
   {
    "duration": 68,
    "start_time": "2024-09-19T18:41:11.260Z"
   },
   {
    "duration": 54,
    "start_time": "2024-09-19T18:41:11.329Z"
   },
   {
    "duration": 23,
    "start_time": "2024-09-19T18:41:11.386Z"
   },
   {
    "duration": 37,
    "start_time": "2024-09-19T18:41:11.411Z"
   },
   {
    "duration": 29,
    "start_time": "2024-09-19T18:41:11.449Z"
   },
   {
    "duration": 6,
    "start_time": "2024-09-19T18:41:11.479Z"
   },
   {
    "duration": 20,
    "start_time": "2024-09-19T18:41:11.486Z"
   },
   {
    "duration": 25,
    "start_time": "2024-09-19T18:41:11.507Z"
   },
   {
    "duration": 13,
    "start_time": "2024-09-19T18:41:11.534Z"
   },
   {
    "duration": 10,
    "start_time": "2024-09-19T18:41:11.548Z"
   },
   {
    "duration": 12,
    "start_time": "2024-09-19T18:43:12.347Z"
   },
   {
    "duration": 5996,
    "start_time": "2024-09-20T07:26:51.776Z"
   },
   {
    "duration": 74,
    "start_time": "2024-09-20T07:26:57.773Z"
   },
   {
    "duration": 45,
    "start_time": "2024-09-20T07:26:57.849Z"
   },
   {
    "duration": 80,
    "start_time": "2024-09-20T07:26:57.896Z"
   },
   {
    "duration": 59,
    "start_time": "2024-09-20T07:26:57.978Z"
   },
   {
    "duration": 32,
    "start_time": "2024-09-20T07:26:58.038Z"
   },
   {
    "duration": 15,
    "start_time": "2024-09-20T07:26:58.071Z"
   },
   {
    "duration": 44,
    "start_time": "2024-09-20T07:26:58.087Z"
   },
   {
    "duration": 18,
    "start_time": "2024-09-20T07:26:58.133Z"
   },
   {
    "duration": 19,
    "start_time": "2024-09-20T07:26:58.153Z"
   },
   {
    "duration": 72,
    "start_time": "2024-09-20T07:26:58.174Z"
   },
   {
    "duration": 14,
    "start_time": "2024-09-20T07:27:48.384Z"
   },
   {
    "duration": 87,
    "start_time": "2024-09-20T07:28:05.758Z"
   },
   {
    "duration": 17,
    "start_time": "2024-09-20T07:28:20.110Z"
   },
   {
    "duration": 20,
    "start_time": "2024-09-20T07:28:48.037Z"
   },
   {
    "duration": 19,
    "start_time": "2024-09-20T07:29:50.189Z"
   },
   {
    "duration": 19,
    "start_time": "2024-09-20T07:30:04.144Z"
   },
   {
    "duration": 19,
    "start_time": "2024-09-20T07:30:25.448Z"
   },
   {
    "duration": 15,
    "start_time": "2024-09-20T07:36:15.852Z"
   },
   {
    "duration": 12,
    "start_time": "2024-09-20T07:41:18.739Z"
   },
   {
    "duration": 18,
    "start_time": "2024-09-20T07:41:44.835Z"
   },
   {
    "duration": 12,
    "start_time": "2024-09-20T07:41:51.092Z"
   }
  ],
  "kernelspec": {
   "display_name": "Python 3 (ipykernel)",
   "language": "python",
   "name": "python3"
  },
  "language_info": {
   "codemirror_mode": {
    "name": "ipython",
    "version": 3
   },
   "file_extension": ".py",
   "mimetype": "text/x-python",
   "name": "python",
   "nbconvert_exporter": "python",
   "pygments_lexer": "ipython3",
   "version": "3.11.4"
  },
  "toc": {
   "base_numbering": 1,
   "nav_menu": {},
   "number_sections": true,
   "sideBar": true,
   "skip_h1_title": true,
   "title_cell": "Table of Contents",
   "title_sidebar": "Contents",
   "toc_cell": false,
   "toc_position": {},
   "toc_section_display": true,
   "toc_window_display": true
  }
 },
 "nbformat": 4,
 "nbformat_minor": 2
}
