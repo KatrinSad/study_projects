{
 "cells": [
  {
   "cell_type": "markdown",
   "metadata": {},
   "source": [
    "Привет, Екатерина!\n",
    "\n",
    "Меня зовут Вячеслав Погорелый, и я буду проводить ревью твоего проекта. \n",
    "\n",
    "Предлагаю перейти на \"ты\", если не против)\n",
    "\n",
    "Но если это не удобно - дай знать, и мы перейдем на \"вы\". Моя главная задача — не находить сделанные тобою ошибки, а передать свой опыт и помочь тебе стать аналитиком данных.\n",
    "\n",
    "Я отметил комментарии и замечания разным цветом далее по тексту markdown:\n",
    "\n",
    "---    \n",
    "<div class=\"alert alert-block alert-danger\">\n",
    "    \n",
    "### Ошибка\n",
    "    \n",
    "Критическое замечание, которые следует исправить.\n",
    "</div> \n",
    "    \n",
    "---\n",
    "    \n",
    "<div class=\"alert alert-block alert-warning\">\n",
    "    \n",
    "### Совет\n",
    "    \n",
    "Замечание\\совет на будущее.\n",
    "</div>\n",
    "    \n",
    "---\n",
    "    \n",
    "<div class=\"alert alert-block alert-success\">\n",
    "    \n",
    "### Успех\n",
    "    \n",
    "Когда всё сделано правильно.\n",
    "</div>\n",
    "    \n",
    "    \n",
    "    \n",
    "Будет здорово, если для ответов ты выберешь любой **<font color=\"maroon\">читабельный и заметный цвет</font>**, так мне будет проще все проверить.\n",
    "\n",
    "\n",
    "При доработке проекта попрошу тебя сохранить и не видоизменять заметки ревьюера, это осложняет повторную проверку."
   ]
  },
  {
   "cell_type": "markdown",
   "metadata": {
    "id": "sIfNaMOxgFyK"
   },
   "source": [
    "# Исследование данных о российском кинопрокате\n",
    "\n"
   ]
  },
  {
   "cell_type": "markdown",
   "metadata": {},
   "source": [
    "Заказчик этого исследования — Министерство культуры Российской Федерации. Работа будет с данными, опубликованными на портале открытых данных Министерства культуры. Набор данных содержит информацию о прокатных удостоверениях, сборах и государственной поддержке фильмов, а также информацию с сайта КиноПоиск. \n",
    "\n",
    "**Цель исследования:**\n",
    "\n",
    "Необходимо изучить рынок российского кинопроката и выявить текущие тренды. Стоит уделить внимание фильмам, которые получили государственную поддержку и ответить на вопрос - насколько такие фильмы интересны зрителю. "
   ]
  },
  {
   "cell_type": "markdown",
   "metadata": {},
   "source": [
    "<div class=\"alert alert-block alert-success\">\n",
    " \n",
    "### Комментарий ревьюера\n",
    "    \n",
    "#### Успех\n",
    "    \n",
    "Спасибо тебе за небольшое оглавление к проекту. "
   ]
  },
  {
   "cell_type": "markdown",
   "metadata": {
    "id": "3bSlkCsbgFyL"
   },
   "source": [
    "## Откройте файлы с данными и объедините их в один датафрейм. \n",
    "\n",
    "Объедините данные таким образом, чтобы все объекты из датасета `mkrf_movies` обязательно вошли в получившийся датафрейм. \n",
    "\n",
    "<div id=\"accordion\">\n",
    "    <div class=\"card\">\n",
    "        <div class=\"card-header\" id=\"headingThree\">\n",
    "            <button class=\"btn btn-link collapsed\" data-toggle=\"collapse\" data-target=\"#collapseHint_0\" aria-expanded=\"false\" aria-controls=\"collapseHint_0\">Подсказка</button>\n",
    "        </div>\n",
    "        <div id=\"collapseHint_0\" class=\"collapse\" aria-labelledby=\"headingThree\" data-parent=\"#accordion\">\n",
    "            <div class=\"card-body\">\n",
    "Обратите внимание на тип данных столбца, по которому будете соединять датафреймы. Тип данных этих столбцов должен быть одинаковым в обоих датафреймах.\n",
    "            </div>\n",
    "        </div>\n",
    "    </div>\n",
    "</div>"
   ]
  },
  {
   "cell_type": "code",
   "execution_count": 1,
   "metadata": {},
   "outputs": [],
   "source": [
    "# импортируем необходимые библиотеки\n",
    "import pandas as pd\n",
    "import matplotlib.pyplot as plt"
   ]
  },
  {
   "cell_type": "code",
   "execution_count": 2,
   "metadata": {
    "id": "dw87FlzMgFyM"
   },
   "outputs": [
    {
     "name": "stdout",
     "output_type": "stream",
     "text": [
      "<class 'pandas.core.frame.DataFrame'>\n",
      "RangeIndex: 7486 entries, 0 to 7485\n",
      "Data columns (total 15 columns):\n",
      " #   Column                 Non-Null Count  Dtype  \n",
      "---  ------                 --------------  -----  \n",
      " 0   title                  7486 non-null   object \n",
      " 1   puNumber               7486 non-null   object \n",
      " 2   show_start_date        7486 non-null   object \n",
      " 3   type                   7486 non-null   object \n",
      " 4   film_studio            7468 non-null   object \n",
      " 5   production_country     7484 non-null   object \n",
      " 6   director               7477 non-null   object \n",
      " 7   producer               6918 non-null   object \n",
      " 8   age_restriction        7486 non-null   object \n",
      " 9   refundable_support     332 non-null    float64\n",
      " 10  nonrefundable_support  332 non-null    float64\n",
      " 11  budget                 332 non-null    float64\n",
      " 12  financing_source       332 non-null    object \n",
      " 13  ratings                6519 non-null   object \n",
      " 14  genres                 6510 non-null   object \n",
      "dtypes: float64(3), object(12)\n",
      "memory usage: 877.4+ KB\n"
     ]
    },
    {
     "data": {
      "text/html": [
       "<div>\n",
       "<style scoped>\n",
       "    .dataframe tbody tr th:only-of-type {\n",
       "        vertical-align: middle;\n",
       "    }\n",
       "\n",
       "    .dataframe tbody tr th {\n",
       "        vertical-align: top;\n",
       "    }\n",
       "\n",
       "    .dataframe thead th {\n",
       "        text-align: right;\n",
       "    }\n",
       "</style>\n",
       "<table border=\"1\" class=\"dataframe\">\n",
       "  <thead>\n",
       "    <tr style=\"text-align: right;\">\n",
       "      <th></th>\n",
       "      <th>title</th>\n",
       "      <th>puNumber</th>\n",
       "      <th>show_start_date</th>\n",
       "      <th>type</th>\n",
       "      <th>film_studio</th>\n",
       "      <th>production_country</th>\n",
       "      <th>director</th>\n",
       "      <th>producer</th>\n",
       "      <th>age_restriction</th>\n",
       "      <th>refundable_support</th>\n",
       "      <th>nonrefundable_support</th>\n",
       "      <th>budget</th>\n",
       "      <th>financing_source</th>\n",
       "      <th>ratings</th>\n",
       "      <th>genres</th>\n",
       "    </tr>\n",
       "  </thead>\n",
       "  <tbody>\n",
       "    <tr>\n",
       "      <th>0</th>\n",
       "      <td>Открытый простор</td>\n",
       "      <td>221048915</td>\n",
       "      <td>2015-11-27T12:00:00.000Z</td>\n",
       "      <td>Художественный</td>\n",
       "      <td>Тачстоун Пикчерз, Кобальт Пикчерз, Бикон Пикче...</td>\n",
       "      <td>США</td>\n",
       "      <td>Кевин Костнер</td>\n",
       "      <td>Дэвид Валдес, Кевин Костнер, Джейк Эбертс</td>\n",
       "      <td>«18+» - запрещено для детей</td>\n",
       "      <td>NaN</td>\n",
       "      <td>NaN</td>\n",
       "      <td>NaN</td>\n",
       "      <td>NaN</td>\n",
       "      <td>7.2</td>\n",
       "      <td>боевик,драма,мелодрама</td>\n",
       "    </tr>\n",
       "    <tr>\n",
       "      <th>1</th>\n",
       "      <td>Особо важное задание</td>\n",
       "      <td>111013716</td>\n",
       "      <td>2016-09-13T12:00:00.000Z</td>\n",
       "      <td>Художественный</td>\n",
       "      <td>Киностудия \"Мосфильм\"</td>\n",
       "      <td>СССР</td>\n",
       "      <td>Е.Матвеев</td>\n",
       "      <td>NaN</td>\n",
       "      <td>«6+» - для детей старше 6 лет</td>\n",
       "      <td>NaN</td>\n",
       "      <td>NaN</td>\n",
       "      <td>NaN</td>\n",
       "      <td>NaN</td>\n",
       "      <td>6.6</td>\n",
       "      <td>драма,военный</td>\n",
       "    </tr>\n",
       "    <tr>\n",
       "      <th>2</th>\n",
       "      <td>Особо опасен</td>\n",
       "      <td>221038416</td>\n",
       "      <td>2016-10-10T12:00:00.000Z</td>\n",
       "      <td>Художественный</td>\n",
       "      <td>Юниверсал Пикчерз, Кикстарт Продакшнз, Марк Пл...</td>\n",
       "      <td>США</td>\n",
       "      <td>Тимур Бекмамбетов</td>\n",
       "      <td>Джим Лемли, Джейсон Нетер, Марк Е.Платт, Яйн Смит</td>\n",
       "      <td>«18+» - запрещено для детей</td>\n",
       "      <td>NaN</td>\n",
       "      <td>NaN</td>\n",
       "      <td>NaN</td>\n",
       "      <td>NaN</td>\n",
       "      <td>6.8</td>\n",
       "      <td>фантастика,боевик,триллер</td>\n",
       "    </tr>\n",
       "    <tr>\n",
       "      <th>3</th>\n",
       "      <td>Особо опасен</td>\n",
       "      <td>221026916</td>\n",
       "      <td>2016-06-10T12:00:00.000Z</td>\n",
       "      <td>Художественный</td>\n",
       "      <td>Юниверсал Пикчерз, Кикстарт Продакшнз, Марк Пл...</td>\n",
       "      <td>США</td>\n",
       "      <td>Тимур Бекмамбетов</td>\n",
       "      <td>Джим Лемли, Джейсон Нетер, Марк Е.Платт, Яйн Смит</td>\n",
       "      <td>«18+» - запрещено для детей</td>\n",
       "      <td>NaN</td>\n",
       "      <td>NaN</td>\n",
       "      <td>NaN</td>\n",
       "      <td>NaN</td>\n",
       "      <td>6.8</td>\n",
       "      <td>фантастика,боевик,триллер</td>\n",
       "    </tr>\n",
       "    <tr>\n",
       "      <th>4</th>\n",
       "      <td>Особо опасен</td>\n",
       "      <td>221030815</td>\n",
       "      <td>2015-07-29T12:00:00.000Z</td>\n",
       "      <td>Художественный</td>\n",
       "      <td>Юниверсал Пикчерз, Кикстарт Продакшнз, Марк Пл...</td>\n",
       "      <td>США</td>\n",
       "      <td>Тимур Бекмамбетов</td>\n",
       "      <td>Джим Лемли, Джейсон Нетер, Марк Е.Платт, Яйн Смит</td>\n",
       "      <td>«18+» - запрещено для детей</td>\n",
       "      <td>NaN</td>\n",
       "      <td>NaN</td>\n",
       "      <td>NaN</td>\n",
       "      <td>NaN</td>\n",
       "      <td>6.8</td>\n",
       "      <td>фантастика,боевик,триллер</td>\n",
       "    </tr>\n",
       "  </tbody>\n",
       "</table>\n",
       "</div>"
      ],
      "text/plain": [
       "                  title   puNumber           show_start_date            type  \\\n",
       "0      Открытый простор  221048915  2015-11-27T12:00:00.000Z  Художественный   \n",
       "1  Особо важное задание  111013716  2016-09-13T12:00:00.000Z  Художественный   \n",
       "2          Особо опасен  221038416  2016-10-10T12:00:00.000Z  Художественный   \n",
       "3          Особо опасен  221026916  2016-06-10T12:00:00.000Z  Художественный   \n",
       "4          Особо опасен  221030815  2015-07-29T12:00:00.000Z  Художественный   \n",
       "\n",
       "                                         film_studio production_country  \\\n",
       "0  Тачстоун Пикчерз, Кобальт Пикчерз, Бикон Пикче...                США   \n",
       "1                              Киностудия \"Мосфильм\"               СССР   \n",
       "2  Юниверсал Пикчерз, Кикстарт Продакшнз, Марк Пл...                США   \n",
       "3  Юниверсал Пикчерз, Кикстарт Продакшнз, Марк Пл...                США   \n",
       "4  Юниверсал Пикчерз, Кикстарт Продакшнз, Марк Пл...                США   \n",
       "\n",
       "            director                                           producer  \\\n",
       "0      Кевин Костнер          Дэвид Валдес, Кевин Костнер, Джейк Эбертс   \n",
       "1          Е.Матвеев                                                NaN   \n",
       "2  Тимур Бекмамбетов  Джим Лемли, Джейсон Нетер, Марк Е.Платт, Яйн Смит   \n",
       "3  Тимур Бекмамбетов  Джим Лемли, Джейсон Нетер, Марк Е.Платт, Яйн Смит   \n",
       "4  Тимур Бекмамбетов  Джим Лемли, Джейсон Нетер, Марк Е.Платт, Яйн Смит   \n",
       "\n",
       "                 age_restriction  refundable_support  nonrefundable_support  \\\n",
       "0    «18+» - запрещено для детей                 NaN                    NaN   \n",
       "1  «6+» - для детей старше 6 лет                 NaN                    NaN   \n",
       "2    «18+» - запрещено для детей                 NaN                    NaN   \n",
       "3    «18+» - запрещено для детей                 NaN                    NaN   \n",
       "4    «18+» - запрещено для детей                 NaN                    NaN   \n",
       "\n",
       "   budget financing_source ratings                     genres  \n",
       "0     NaN              NaN     7.2     боевик,драма,мелодрама  \n",
       "1     NaN              NaN     6.6              драма,военный  \n",
       "2     NaN              NaN     6.8  фантастика,боевик,триллер  \n",
       "3     NaN              NaN     6.8  фантастика,боевик,триллер  \n",
       "4     NaN              NaN     6.8  фантастика,боевик,триллер  "
      ]
     },
     "execution_count": 2,
     "metadata": {},
     "output_type": "execute_result"
    }
   ],
   "source": [
    "data = pd.read_csv('https://code.s3.yandex.net/datasets/mkrf_movies.csv')\n",
    "data.info()\n",
    "data.head()"
   ]
  },
  {
   "cell_type": "markdown",
   "metadata": {},
   "source": [
    "<div class=\"alert alert-block alert-warning\">\n",
    " \n",
    "### Комментарий ревьюера\n",
    "    \n",
    "#### Совет\n",
    "    \n",
    "Старайся разделять импорт библиотек от сотального кода. "
   ]
  },
  {
   "cell_type": "code",
   "execution_count": 3,
   "metadata": {},
   "outputs": [
    {
     "name": "stdout",
     "output_type": "stream",
     "text": [
      "<class 'pandas.core.frame.DataFrame'>\n",
      "RangeIndex: 3158 entries, 0 to 3157\n",
      "Data columns (total 2 columns):\n",
      " #   Column      Non-Null Count  Dtype  \n",
      "---  ------      --------------  -----  \n",
      " 0   puNumber    3158 non-null   int64  \n",
      " 1   box_office  3158 non-null   float64\n",
      "dtypes: float64(1), int64(1)\n",
      "memory usage: 49.5 KB\n"
     ]
    },
    {
     "data": {
      "text/html": [
       "<div>\n",
       "<style scoped>\n",
       "    .dataframe tbody tr th:only-of-type {\n",
       "        vertical-align: middle;\n",
       "    }\n",
       "\n",
       "    .dataframe tbody tr th {\n",
       "        vertical-align: top;\n",
       "    }\n",
       "\n",
       "    .dataframe thead th {\n",
       "        text-align: right;\n",
       "    }\n",
       "</style>\n",
       "<table border=\"1\" class=\"dataframe\">\n",
       "  <thead>\n",
       "    <tr style=\"text-align: right;\">\n",
       "      <th></th>\n",
       "      <th>puNumber</th>\n",
       "      <th>box_office</th>\n",
       "    </tr>\n",
       "  </thead>\n",
       "  <tbody>\n",
       "    <tr>\n",
       "      <th>0</th>\n",
       "      <td>111000113</td>\n",
       "      <td>2.450000e+03</td>\n",
       "    </tr>\n",
       "    <tr>\n",
       "      <th>1</th>\n",
       "      <td>111000115</td>\n",
       "      <td>6.104000e+04</td>\n",
       "    </tr>\n",
       "    <tr>\n",
       "      <th>2</th>\n",
       "      <td>111000116</td>\n",
       "      <td>1.530300e+08</td>\n",
       "    </tr>\n",
       "    <tr>\n",
       "      <th>3</th>\n",
       "      <td>111000117</td>\n",
       "      <td>1.226096e+07</td>\n",
       "    </tr>\n",
       "    <tr>\n",
       "      <th>4</th>\n",
       "      <td>111000118</td>\n",
       "      <td>1.636841e+08</td>\n",
       "    </tr>\n",
       "  </tbody>\n",
       "</table>\n",
       "</div>"
      ],
      "text/plain": [
       "    puNumber    box_office\n",
       "0  111000113  2.450000e+03\n",
       "1  111000115  6.104000e+04\n",
       "2  111000116  1.530300e+08\n",
       "3  111000117  1.226096e+07\n",
       "4  111000118  1.636841e+08"
      ]
     },
     "execution_count": 3,
     "metadata": {},
     "output_type": "execute_result"
    }
   ],
   "source": [
    "data_rus = pd.read_csv('/datasets/mkrf_shows.csv')\n",
    "data_rus.info()\n",
    "data_rus.head()"
   ]
  },
  {
   "cell_type": "code",
   "execution_count": 4,
   "metadata": {},
   "outputs": [],
   "source": [
    "# в датасетах есть общий столбец \"puNumber\", для дальнейшего объединения таблиц преобразуем его тип к object\n",
    "data_rus['puNumber'] = data_rus['puNumber'].astype('str')"
   ]
  },
  {
   "cell_type": "code",
   "execution_count": 5,
   "metadata": {},
   "outputs": [
    {
     "name": "stdout",
     "output_type": "stream",
     "text": [
      "<class 'pandas.core.frame.DataFrame'>\n",
      "Int64Index: 7486 entries, 0 to 7485\n",
      "Data columns (total 16 columns):\n",
      " #   Column                 Non-Null Count  Dtype  \n",
      "---  ------                 --------------  -----  \n",
      " 0   title                  7486 non-null   object \n",
      " 1   puNumber               7486 non-null   object \n",
      " 2   show_start_date        7486 non-null   object \n",
      " 3   type                   7486 non-null   object \n",
      " 4   film_studio            7468 non-null   object \n",
      " 5   production_country     7484 non-null   object \n",
      " 6   director               7477 non-null   object \n",
      " 7   producer               6918 non-null   object \n",
      " 8   age_restriction        7486 non-null   object \n",
      " 9   refundable_support     332 non-null    float64\n",
      " 10  nonrefundable_support  332 non-null    float64\n",
      " 11  budget                 332 non-null    float64\n",
      " 12  financing_source       332 non-null    object \n",
      " 13  ratings                6519 non-null   object \n",
      " 14  genres                 6510 non-null   object \n",
      " 15  box_office             3158 non-null   float64\n",
      "dtypes: float64(4), object(12)\n",
      "memory usage: 994.2+ KB\n"
     ]
    }
   ],
   "source": [
    "# объединим датасеты в один для удобства дальнейшего исследования\n",
    "movie_rus = data.merge(data_rus, on='puNumber', how='left')\n",
    "movie_rus.info()"
   ]
  },
  {
   "cell_type": "markdown",
   "metadata": {},
   "source": [
    "**При изучении общей информации о таблице можно отметить следующие важные моменты:**\n",
    "\n",
    "* В таблице 15 столбцов и 7 486 строк\n",
    "* В столбце с номером прокатного удостоверения стилистическая ошибка наименования\n",
    "* В 11 столбцах есть пропущенные значения\n",
    "* В столбце с датой премьеры фильма указан тип данных \"object\"\n",
    "* В столбце с рейтингом фильма указан тип данных \"object\", проверим есть ли необходимость менять данный тип"
   ]
  },
  {
   "cell_type": "code",
   "execution_count": 6,
   "metadata": {},
   "outputs": [],
   "source": [
    "#сразу исправим стилистическую ошибку\n",
    "movie_rus = movie_rus.rename(columns={'puNumber':'pu_number'})"
   ]
  },
  {
   "cell_type": "markdown",
   "metadata": {},
   "source": [
    "<div class=\"alert alert-block alert-success\">\n",
    " \n",
    "### Комментарий ревьюера\n",
    "    \n",
    "#### Успех\n",
    "    \n",
    "Ты подобрала оптимальный метод объединения таблиц. Данные не потеряны. Отлично "
   ]
  },
  {
   "cell_type": "markdown",
   "metadata": {
    "id": "KLDGpPG0gFyM"
   },
   "source": [
    "##  Предобработка данных"
   ]
  },
  {
   "cell_type": "markdown",
   "metadata": {},
   "source": [
    "Для того, чтобы приступить к исследовательскому анализу необходимо привести данные к максимально \"очищенному\" виду."
   ]
  },
  {
   "cell_type": "markdown",
   "metadata": {
    "id": "ssWwKXsxgFyO"
   },
   "source": [
    "###  Проверьте типы данных\n",
    "\n",
    "- Проверьте типы данных в датафрейме и преобразуйте их там, где это необходимо."
   ]
  },
  {
   "cell_type": "code",
   "execution_count": 7,
   "metadata": {
    "id": "kVGSplJOgFyO"
   },
   "outputs": [],
   "source": [
    "# приведем дату премьеры к необходимому типу данных, а также уберем время для удобства\n",
    "movie_rus['show_start_date'] = pd.to_datetime(movie_rus['show_start_date'], format='%Y-%m-%dT%H:%M:%S.%fZ').dt.normalize()"
   ]
  },
  {
   "cell_type": "code",
   "execution_count": 8,
   "metadata": {},
   "outputs": [
    {
     "data": {
      "text/plain": [
       "array(['7.2', '6.6', '6.8', '7.7', '8.3', '8.0', '7.8', '8.1', '7.1',\n",
       "       '6.0', '7.4', '5.8', '8.7', '6.3', '6.9', '5.0', '4.3', '7.3',\n",
       "       '7.0', '6.4', nan, '8.2', '7.5', '6.7', '7.9', '5.9', '6.2', '5.6',\n",
       "       '6.5', '2.4', '7.6', '6.1', '8.6', '8.5', '8.8', '5.5', '5.1',\n",
       "       '5.7', '5.4', '99%', '4.4', '4.5', '5.3', '4.1', '8.4', '2.6',\n",
       "       '3.8', '4.6', '4.8', '4.0', '3.0', '1.6', '4.2', '5.2', '4.7',\n",
       "       '4.9', '3.9', '2.7', '3.3', '2.9', '28%', '3.7', '1.4', '3.1',\n",
       "       '97%', '3.5', '3.2', '2.8', '1.5', '2.1', '2.5', '9.2', '3.4',\n",
       "       '1.1', '3.6', '83%', '64%', '91%', '94%', '62%', '79%', '90%',\n",
       "       '19%', '88%', '1.0', '89%', '1.3', '1.9', '1.8', '1.2', '1.7',\n",
       "       '9.0', '98%', '8.9', '9.1'], dtype=object)"
      ]
     },
     "execution_count": 8,
     "metadata": {},
     "output_type": "execute_result"
    }
   ],
   "source": [
    "# посмотрим на уник. значения рейтинга, все ли они соответствуют одной системе\n",
    "movie_rus['ratings'].unique()"
   ]
  },
  {
   "cell_type": "code",
   "execution_count": 9,
   "metadata": {},
   "outputs": [],
   "source": [
    "# обычно присваивают рейтинг от 1 до 10 баллов, в данных есть и %, приведем все данные к 10 бальной системе\n",
    "movie_rus['ratings'] = movie_rus['ratings'].str.replace('%', '')\n",
    "movie_rus['ratings'] = movie_rus['ratings'].astype('float') "
   ]
  },
  {
   "cell_type": "code",
   "execution_count": 10,
   "metadata": {},
   "outputs": [],
   "source": [
    "def reit(row):\n",
    "    if row ['ratings'] >= 10:\n",
    "        return row ['ratings'] / 10\n",
    "    else:\n",
    "        return row ['ratings']\n",
    "    \n",
    "movie_rus['ratings'] = movie_rus.apply(reit, axis=1)"
   ]
  },
  {
   "cell_type": "code",
   "execution_count": 11,
   "metadata": {},
   "outputs": [
    {
     "data": {
      "text/plain": [
       "title                            object\n",
       "pu_number                        object\n",
       "show_start_date          datetime64[ns]\n",
       "type                             object\n",
       "film_studio                      object\n",
       "production_country               object\n",
       "director                         object\n",
       "producer                         object\n",
       "age_restriction                  object\n",
       "refundable_support              float64\n",
       "nonrefundable_support           float64\n",
       "budget                          float64\n",
       "financing_source                 object\n",
       "ratings                         float64\n",
       "genres                           object\n",
       "box_office                      float64\n",
       "dtype: object"
      ]
     },
     "execution_count": 11,
     "metadata": {},
     "output_type": "execute_result"
    }
   ],
   "source": [
    "#проверим\n",
    "movie_rus.dtypes"
   ]
  },
  {
   "cell_type": "markdown",
   "metadata": {},
   "source": [
    "<div class=\"alert alert-block alert-success\">\n",
    " \n",
    "### Комментарий ревьюера\n",
    "    \n",
    "#### Успех\n",
    "    \n",
    "С типом данных вопрос решили. "
   ]
  },
  {
   "cell_type": "markdown",
   "metadata": {
    "id": "i0MOLbF-gFyP"
   },
   "source": [
    "###  Изучите пропуски в датафрейме\n",
    "\n",
    "- Объясните, почему заполнили пропуски определённым образом или почему не стали этого делать."
   ]
  },
  {
   "cell_type": "code",
   "execution_count": 12,
   "metadata": {},
   "outputs": [
    {
     "data": {
      "text/plain": [
       "title                       0\n",
       "pu_number                   0\n",
       "show_start_date             0\n",
       "type                        0\n",
       "film_studio                18\n",
       "production_country          2\n",
       "director                    9\n",
       "producer                  568\n",
       "age_restriction             0\n",
       "refundable_support       7154\n",
       "nonrefundable_support    7154\n",
       "budget                   7154\n",
       "financing_source         7154\n",
       "ratings                   967\n",
       "genres                    976\n",
       "box_office               4328\n",
       "dtype: int64"
      ]
     },
     "execution_count": 12,
     "metadata": {},
     "output_type": "execute_result"
    }
   ],
   "source": [
    "movie_rus.isna().sum()"
   ]
  },
  {
   "cell_type": "markdown",
   "metadata": {},
   "source": [
    "<div class=\"alert alert-block alert-warning\">\n",
    " \n",
    "### Комментарий ревьюера\n",
    "    \n",
    "#### Совет\n",
    "    \n",
    "Для визуализации пропусков использу https://russianblogs.com/article/5001266235/"
   ]
  },
  {
   "cell_type": "markdown",
   "metadata": {},
   "source": [
    "<div class=\"alert-info\" style=\"padding: 20px; border-radius: 10px\">\n",
    "<b>Комментарий ученика:</b>\n",
    "Добрый день, Вячеслав. Я попыталась сделать визуализацию через библиотеку missingno. Но она не установлена, через pip install тоже не прошло. Поэтому оставляю как есть, в предыдущих проектах этого не просили. На каникулах подробнее изучу этот вопрос, буду применять в  дальнейшем.</div>"
   ]
  },
  {
   "cell_type": "markdown",
   "metadata": {},
   "source": [
    "<div class=\"alert alert-block alert-success\">\n",
    " \n",
    "# Комментарий ревьюера ver.2\n",
    "    \n",
    "#### Успех\n",
    "    \n",
    "Хорошо. Используй на будущее. "
   ]
  },
  {
   "cell_type": "markdown",
   "metadata": {
    "id": "8MJD_lkngFyP"
   },
   "source": [
    "<span style=\"color:blue\">**\"film_studio\"**</span>"
   ]
  },
  {
   "cell_type": "code",
   "execution_count": 13,
   "metadata": {},
   "outputs": [
    {
     "data": {
      "text/html": [
       "<div>\n",
       "<style scoped>\n",
       "    .dataframe tbody tr th:only-of-type {\n",
       "        vertical-align: middle;\n",
       "    }\n",
       "\n",
       "    .dataframe tbody tr th {\n",
       "        vertical-align: top;\n",
       "    }\n",
       "\n",
       "    .dataframe thead th {\n",
       "        text-align: right;\n",
       "    }\n",
       "</style>\n",
       "<table border=\"1\" class=\"dataframe\">\n",
       "  <thead>\n",
       "    <tr style=\"text-align: right;\">\n",
       "      <th></th>\n",
       "      <th>title</th>\n",
       "      <th>pu_number</th>\n",
       "      <th>show_start_date</th>\n",
       "      <th>type</th>\n",
       "      <th>film_studio</th>\n",
       "      <th>production_country</th>\n",
       "      <th>director</th>\n",
       "      <th>producer</th>\n",
       "      <th>age_restriction</th>\n",
       "      <th>refundable_support</th>\n",
       "      <th>nonrefundable_support</th>\n",
       "      <th>budget</th>\n",
       "      <th>financing_source</th>\n",
       "      <th>ratings</th>\n",
       "      <th>genres</th>\n",
       "      <th>box_office</th>\n",
       "    </tr>\n",
       "  </thead>\n",
       "  <tbody>\n",
       "    <tr>\n",
       "      <th>1293</th>\n",
       "      <td>Stars in Shorts</td>\n",
       "      <td>121011114</td>\n",
       "      <td>2014-06-03</td>\n",
       "      <td>Художественный</td>\n",
       "      <td>NaN</td>\n",
       "      <td>США, Великобритания</td>\n",
       "      <td>Роберт Фестингер, Руперт Френд, Джей Камен, Ни...</td>\n",
       "      <td>Татьяна Келли, Роберта Мунро, Руперт Френд, До...</td>\n",
       "      <td>«16+» - для детей старше 16 лет</td>\n",
       "      <td>NaN</td>\n",
       "      <td>NaN</td>\n",
       "      <td>NaN</td>\n",
       "      <td>NaN</td>\n",
       "      <td>7.3</td>\n",
       "      <td>комедия</td>\n",
       "      <td>NaN</td>\n",
       "    </tr>\n",
       "    <tr>\n",
       "      <th>4441</th>\n",
       "      <td>Мульт личности. Выпуск 5</td>\n",
       "      <td>214000410</td>\n",
       "      <td>2010-01-25</td>\n",
       "      <td>Художественный</td>\n",
       "      <td>NaN</td>\n",
       "      <td>NaN</td>\n",
       "      <td>NaN</td>\n",
       "      <td>NaN</td>\n",
       "      <td>«0+» - для любой зрительской аудитории</td>\n",
       "      <td>NaN</td>\n",
       "      <td>NaN</td>\n",
       "      <td>NaN</td>\n",
       "      <td>NaN</td>\n",
       "      <td>4.0</td>\n",
       "      <td>мультфильм,комедия</td>\n",
       "      <td>NaN</td>\n",
       "    </tr>\n",
       "    <tr>\n",
       "      <th>6105</th>\n",
       "      <td>Значит любит</td>\n",
       "      <td>111013818</td>\n",
       "      <td>2018-08-10</td>\n",
       "      <td>Художественный</td>\n",
       "      <td>NaN</td>\n",
       "      <td>Россия</td>\n",
       "      <td>А.Краевский</td>\n",
       "      <td>Е.Щербакова</td>\n",
       "      <td>«18+» - запрещено для детей</td>\n",
       "      <td>NaN</td>\n",
       "      <td>NaN</td>\n",
       "      <td>NaN</td>\n",
       "      <td>NaN</td>\n",
       "      <td>NaN</td>\n",
       "      <td>NaN</td>\n",
       "      <td>NaN</td>\n",
       "    </tr>\n",
       "    <tr>\n",
       "      <th>6181</th>\n",
       "      <td>Несейка. Младшая дочь</td>\n",
       "      <td>112007018</td>\n",
       "      <td>2018-09-01</td>\n",
       "      <td>Документальный</td>\n",
       "      <td>NaN</td>\n",
       "      <td>Россия</td>\n",
       "      <td>В.Марин</td>\n",
       "      <td>Д.Якунин, Ф.Абрютин, О.Филонова</td>\n",
       "      <td>«6+» - для детей старше 6 лет</td>\n",
       "      <td>NaN</td>\n",
       "      <td>NaN</td>\n",
       "      <td>NaN</td>\n",
       "      <td>NaN</td>\n",
       "      <td>NaN</td>\n",
       "      <td>NaN</td>\n",
       "      <td>NaN</td>\n",
       "    </tr>\n",
       "    <tr>\n",
       "      <th>6379</th>\n",
       "      <td>Ян Антонышев</td>\n",
       "      <td>112011818</td>\n",
       "      <td>2018-11-15</td>\n",
       "      <td>Документальный</td>\n",
       "      <td>NaN</td>\n",
       "      <td>Россия</td>\n",
       "      <td>Е.Окопная</td>\n",
       "      <td>Е.Герасимов</td>\n",
       "      <td>«12+» - для детей старше 12 лет</td>\n",
       "      <td>NaN</td>\n",
       "      <td>NaN</td>\n",
       "      <td>NaN</td>\n",
       "      <td>NaN</td>\n",
       "      <td>NaN</td>\n",
       "      <td>NaN</td>\n",
       "      <td>NaN</td>\n",
       "    </tr>\n",
       "    <tr>\n",
       "      <th>6380</th>\n",
       "      <td>Ян Антонышев</td>\n",
       "      <td>112011918</td>\n",
       "      <td>2018-11-15</td>\n",
       "      <td>Документальный</td>\n",
       "      <td>NaN</td>\n",
       "      <td>Россия</td>\n",
       "      <td>Е.Окопная</td>\n",
       "      <td>Е.Герасимов</td>\n",
       "      <td>«12+» - для детей старше 12 лет</td>\n",
       "      <td>NaN</td>\n",
       "      <td>NaN</td>\n",
       "      <td>NaN</td>\n",
       "      <td>NaN</td>\n",
       "      <td>NaN</td>\n",
       "      <td>NaN</td>\n",
       "      <td>NaN</td>\n",
       "    </tr>\n",
       "    <tr>\n",
       "      <th>6399</th>\n",
       "      <td>Доживем до каникул?..</td>\n",
       "      <td>111021918</td>\n",
       "      <td>2018-11-15</td>\n",
       "      <td>Художественный</td>\n",
       "      <td>NaN</td>\n",
       "      <td>Россия</td>\n",
       "      <td>Я.Хальпукова (псевдоним Яна Мартынец)</td>\n",
       "      <td>Я.Хальпукова (псевдоним Яна Мартынец)</td>\n",
       "      <td>«12+» - для детей старше 12 лет</td>\n",
       "      <td>NaN</td>\n",
       "      <td>NaN</td>\n",
       "      <td>NaN</td>\n",
       "      <td>NaN</td>\n",
       "      <td>NaN</td>\n",
       "      <td>NaN</td>\n",
       "      <td>41225.0</td>\n",
       "    </tr>\n",
       "    <tr>\n",
       "      <th>6485</th>\n",
       "      <td>До и После</td>\n",
       "      <td>112014418</td>\n",
       "      <td>2018-12-05</td>\n",
       "      <td>Документальный</td>\n",
       "      <td>NaN</td>\n",
       "      <td>Россия</td>\n",
       "      <td>А.Новокреповская</td>\n",
       "      <td>А.Новокреповская</td>\n",
       "      <td>«6+» - для детей старше 6 лет</td>\n",
       "      <td>NaN</td>\n",
       "      <td>NaN</td>\n",
       "      <td>NaN</td>\n",
       "      <td>NaN</td>\n",
       "      <td>6.9</td>\n",
       "      <td>драма,криминал,детектив</td>\n",
       "      <td>NaN</td>\n",
       "    </tr>\n",
       "    <tr>\n",
       "      <th>6494</th>\n",
       "      <td>Калмыцкий геше Нгаванг Вангьял</td>\n",
       "      <td>113002018</td>\n",
       "      <td>2018-12-05</td>\n",
       "      <td>Научно-популярный</td>\n",
       "      <td>NaN</td>\n",
       "      <td>Россия</td>\n",
       "      <td>И.Долгина</td>\n",
       "      <td>И.Долгина</td>\n",
       "      <td>«12+» - для детей старше 12 лет</td>\n",
       "      <td>NaN</td>\n",
       "      <td>NaN</td>\n",
       "      <td>NaN</td>\n",
       "      <td>NaN</td>\n",
       "      <td>NaN</td>\n",
       "      <td>NaN</td>\n",
       "      <td>NaN</td>\n",
       "    </tr>\n",
       "    <tr>\n",
       "      <th>6497</th>\n",
       "      <td>Мой папа Чингисхан</td>\n",
       "      <td>112014918</td>\n",
       "      <td>2018-12-06</td>\n",
       "      <td>Документальный</td>\n",
       "      <td>NaN</td>\n",
       "      <td>Россия</td>\n",
       "      <td>А.Сайфуллина</td>\n",
       "      <td>А.Сайфуллина</td>\n",
       "      <td>«12+» - для детей старше 12 лет</td>\n",
       "      <td>NaN</td>\n",
       "      <td>NaN</td>\n",
       "      <td>NaN</td>\n",
       "      <td>NaN</td>\n",
       "      <td>NaN</td>\n",
       "      <td>NaN</td>\n",
       "      <td>NaN</td>\n",
       "    </tr>\n",
       "    <tr>\n",
       "      <th>6498</th>\n",
       "      <td>В плену города грёз</td>\n",
       "      <td>112014818</td>\n",
       "      <td>2018-12-06</td>\n",
       "      <td>Документальный</td>\n",
       "      <td>NaN</td>\n",
       "      <td>Россия</td>\n",
       "      <td>В.Витовцев</td>\n",
       "      <td>О.Мичи</td>\n",
       "      <td>«18+» - запрещено для детей</td>\n",
       "      <td>NaN</td>\n",
       "      <td>NaN</td>\n",
       "      <td>NaN</td>\n",
       "      <td>NaN</td>\n",
       "      <td>7.9</td>\n",
       "      <td>фантастика,боевик,триллер</td>\n",
       "      <td>NaN</td>\n",
       "    </tr>\n",
       "    <tr>\n",
       "      <th>6499</th>\n",
       "      <td>Последнее фото</td>\n",
       "      <td>112014518</td>\n",
       "      <td>2018-12-06</td>\n",
       "      <td>Документальный</td>\n",
       "      <td>NaN</td>\n",
       "      <td>Россия</td>\n",
       "      <td>Е.Севастьянов</td>\n",
       "      <td>Е.Севастьянов</td>\n",
       "      <td>«18+» - запрещено для детей</td>\n",
       "      <td>NaN</td>\n",
       "      <td>NaN</td>\n",
       "      <td>NaN</td>\n",
       "      <td>NaN</td>\n",
       "      <td>NaN</td>\n",
       "      <td>NaN</td>\n",
       "      <td>NaN</td>\n",
       "    </tr>\n",
       "    <tr>\n",
       "      <th>6507</th>\n",
       "      <td>Мой селфхарм</td>\n",
       "      <td>113001918</td>\n",
       "      <td>2018-12-06</td>\n",
       "      <td>Научно-популярный</td>\n",
       "      <td>NaN</td>\n",
       "      <td>Россия</td>\n",
       "      <td>Я.Лаптев (псевдоним Яков Раскалов)</td>\n",
       "      <td>Я.Лаптев (псевдоним Яков Раскалов)</td>\n",
       "      <td>«18+» - запрещено для детей</td>\n",
       "      <td>NaN</td>\n",
       "      <td>NaN</td>\n",
       "      <td>NaN</td>\n",
       "      <td>NaN</td>\n",
       "      <td>NaN</td>\n",
       "      <td>NaN</td>\n",
       "      <td>NaN</td>\n",
       "    </tr>\n",
       "    <tr>\n",
       "      <th>6511</th>\n",
       "      <td>Обстоятельства места и времени</td>\n",
       "      <td>112015018</td>\n",
       "      <td>2018-12-12</td>\n",
       "      <td>Документальный</td>\n",
       "      <td>NaN</td>\n",
       "      <td>Россия</td>\n",
       "      <td>Д.Кабаков</td>\n",
       "      <td>Д.Кабаков</td>\n",
       "      <td>«12+» - для детей старше 12 лет</td>\n",
       "      <td>NaN</td>\n",
       "      <td>NaN</td>\n",
       "      <td>NaN</td>\n",
       "      <td>NaN</td>\n",
       "      <td>NaN</td>\n",
       "      <td>NaN</td>\n",
       "      <td>NaN</td>\n",
       "    </tr>\n",
       "    <tr>\n",
       "      <th>6638</th>\n",
       "      <td>Эрик Булатов. Моя Третьяковка, серии 1-2</td>\n",
       "      <td>113000319</td>\n",
       "      <td>2019-01-28</td>\n",
       "      <td>Научно-популярный</td>\n",
       "      <td>NaN</td>\n",
       "      <td>Россия</td>\n",
       "      <td>С.Гарькавый</td>\n",
       "      <td>Т.Пинская</td>\n",
       "      <td>«6+» - для детей старше 6 лет</td>\n",
       "      <td>NaN</td>\n",
       "      <td>NaN</td>\n",
       "      <td>NaN</td>\n",
       "      <td>NaN</td>\n",
       "      <td>NaN</td>\n",
       "      <td>NaN</td>\n",
       "      <td>NaN</td>\n",
       "    </tr>\n",
       "    <tr>\n",
       "      <th>6639</th>\n",
       "      <td>Брови</td>\n",
       "      <td>111000719</td>\n",
       "      <td>2019-03-01</td>\n",
       "      <td>Художественный</td>\n",
       "      <td>NaN</td>\n",
       "      <td>Россия</td>\n",
       "      <td>О.Штром</td>\n",
       "      <td>В.Максимов, В.Степанов, Г.Киракосян, О.Штром</td>\n",
       "      <td>«16+» - для детей старше 16 лет</td>\n",
       "      <td>NaN</td>\n",
       "      <td>NaN</td>\n",
       "      <td>NaN</td>\n",
       "      <td>NaN</td>\n",
       "      <td>NaN</td>\n",
       "      <td>NaN</td>\n",
       "      <td>NaN</td>\n",
       "    </tr>\n",
       "    <tr>\n",
       "      <th>6662</th>\n",
       "      <td>Топливо</td>\n",
       "      <td>111001419</td>\n",
       "      <td>2019-02-12</td>\n",
       "      <td>Художественный</td>\n",
       "      <td>NaN</td>\n",
       "      <td>Россия</td>\n",
       "      <td>М.Архипов</td>\n",
       "      <td>М.Архипов</td>\n",
       "      <td>«12+» - для детей старше 12 лет</td>\n",
       "      <td>NaN</td>\n",
       "      <td>NaN</td>\n",
       "      <td>NaN</td>\n",
       "      <td>NaN</td>\n",
       "      <td>6.1</td>\n",
       "      <td>короткометражка,фантастика</td>\n",
       "      <td>NaN</td>\n",
       "    </tr>\n",
       "    <tr>\n",
       "      <th>6722</th>\n",
       "      <td>Путешествие в Париж</td>\n",
       "      <td>111002919</td>\n",
       "      <td>2019-03-01</td>\n",
       "      <td>Художественный</td>\n",
       "      <td>NaN</td>\n",
       "      <td>Россия</td>\n",
       "      <td>М.Олейник (псевдоним - Мария Полякова)</td>\n",
       "      <td>Н.Савко</td>\n",
       "      <td>«16+» - для детей старше 16 лет</td>\n",
       "      <td>NaN</td>\n",
       "      <td>NaN</td>\n",
       "      <td>NaN</td>\n",
       "      <td>NaN</td>\n",
       "      <td>NaN</td>\n",
       "      <td>NaN</td>\n",
       "      <td>NaN</td>\n",
       "    </tr>\n",
       "  </tbody>\n",
       "</table>\n",
       "</div>"
      ],
      "text/plain": [
       "                                         title  pu_number show_start_date  \\\n",
       "1293                           Stars in Shorts  121011114      2014-06-03   \n",
       "4441                  Мульт личности. Выпуск 5  214000410      2010-01-25   \n",
       "6105                              Значит любит  111013818      2018-08-10   \n",
       "6181                     Несейка. Младшая дочь  112007018      2018-09-01   \n",
       "6379                              Ян Антонышев  112011818      2018-11-15   \n",
       "6380                              Ян Антонышев  112011918      2018-11-15   \n",
       "6399                     Доживем до каникул?..  111021918      2018-11-15   \n",
       "6485                                До и После  112014418      2018-12-05   \n",
       "6494            Калмыцкий геше Нгаванг Вангьял  113002018      2018-12-05   \n",
       "6497                        Мой папа Чингисхан  112014918      2018-12-06   \n",
       "6498                       В плену города грёз  112014818      2018-12-06   \n",
       "6499                            Последнее фото  112014518      2018-12-06   \n",
       "6507                              Мой селфхарм  113001918      2018-12-06   \n",
       "6511            Обстоятельства места и времени  112015018      2018-12-12   \n",
       "6638  Эрик Булатов. Моя Третьяковка, серии 1-2  113000319      2019-01-28   \n",
       "6639                                     Брови  111000719      2019-03-01   \n",
       "6662                                   Топливо  111001419      2019-02-12   \n",
       "6722                       Путешествие в Париж  111002919      2019-03-01   \n",
       "\n",
       "                   type film_studio   production_country  \\\n",
       "1293     Художественный         NaN  США, Великобритания   \n",
       "4441     Художественный         NaN                  NaN   \n",
       "6105     Художественный         NaN               Россия   \n",
       "6181     Документальный         NaN               Россия   \n",
       "6379     Документальный         NaN               Россия   \n",
       "6380     Документальный         NaN               Россия   \n",
       "6399     Художественный         NaN               Россия   \n",
       "6485     Документальный         NaN               Россия   \n",
       "6494  Научно-популярный         NaN               Россия   \n",
       "6497     Документальный         NaN               Россия   \n",
       "6498     Документальный         NaN               Россия   \n",
       "6499     Документальный         NaN               Россия   \n",
       "6507  Научно-популярный         NaN               Россия   \n",
       "6511     Документальный         NaN               Россия   \n",
       "6638  Научно-популярный         NaN               Россия   \n",
       "6639     Художественный         NaN               Россия   \n",
       "6662     Художественный         NaN               Россия   \n",
       "6722     Художественный         NaN               Россия   \n",
       "\n",
       "                                               director  \\\n",
       "1293  Роберт Фестингер, Руперт Френд, Джей Камен, Ни...   \n",
       "4441                                                NaN   \n",
       "6105                                        А.Краевский   \n",
       "6181                                            В.Марин   \n",
       "6379                                          Е.Окопная   \n",
       "6380                                          Е.Окопная   \n",
       "6399              Я.Хальпукова (псевдоним Яна Мартынец)   \n",
       "6485                                   А.Новокреповская   \n",
       "6494                                          И.Долгина   \n",
       "6497                                       А.Сайфуллина   \n",
       "6498                                         В.Витовцев   \n",
       "6499                                      Е.Севастьянов   \n",
       "6507                 Я.Лаптев (псевдоним Яков Раскалов)   \n",
       "6511                                          Д.Кабаков   \n",
       "6638                                        С.Гарькавый   \n",
       "6639                                            О.Штром   \n",
       "6662                                          М.Архипов   \n",
       "6722             М.Олейник (псевдоним - Мария Полякова)   \n",
       "\n",
       "                                               producer  \\\n",
       "1293  Татьяна Келли, Роберта Мунро, Руперт Френд, До...   \n",
       "4441                                                NaN   \n",
       "6105                                        Е.Щербакова   \n",
       "6181                    Д.Якунин, Ф.Абрютин, О.Филонова   \n",
       "6379                                        Е.Герасимов   \n",
       "6380                                        Е.Герасимов   \n",
       "6399              Я.Хальпукова (псевдоним Яна Мартынец)   \n",
       "6485                                   А.Новокреповская   \n",
       "6494                                          И.Долгина   \n",
       "6497                                       А.Сайфуллина   \n",
       "6498                                             О.Мичи   \n",
       "6499                                      Е.Севастьянов   \n",
       "6507                 Я.Лаптев (псевдоним Яков Раскалов)   \n",
       "6511                                          Д.Кабаков   \n",
       "6638                                          Т.Пинская   \n",
       "6639       В.Максимов, В.Степанов, Г.Киракосян, О.Штром   \n",
       "6662                                          М.Архипов   \n",
       "6722                                            Н.Савко   \n",
       "\n",
       "                             age_restriction  refundable_support  \\\n",
       "1293         «16+» - для детей старше 16 лет                 NaN   \n",
       "4441  «0+» - для любой зрительской аудитории                 NaN   \n",
       "6105             «18+» - запрещено для детей                 NaN   \n",
       "6181           «6+» - для детей старше 6 лет                 NaN   \n",
       "6379         «12+» - для детей старше 12 лет                 NaN   \n",
       "6380         «12+» - для детей старше 12 лет                 NaN   \n",
       "6399         «12+» - для детей старше 12 лет                 NaN   \n",
       "6485           «6+» - для детей старше 6 лет                 NaN   \n",
       "6494         «12+» - для детей старше 12 лет                 NaN   \n",
       "6497         «12+» - для детей старше 12 лет                 NaN   \n",
       "6498             «18+» - запрещено для детей                 NaN   \n",
       "6499             «18+» - запрещено для детей                 NaN   \n",
       "6507             «18+» - запрещено для детей                 NaN   \n",
       "6511         «12+» - для детей старше 12 лет                 NaN   \n",
       "6638           «6+» - для детей старше 6 лет                 NaN   \n",
       "6639         «16+» - для детей старше 16 лет                 NaN   \n",
       "6662         «12+» - для детей старше 12 лет                 NaN   \n",
       "6722         «16+» - для детей старше 16 лет                 NaN   \n",
       "\n",
       "      nonrefundable_support  budget financing_source  ratings  \\\n",
       "1293                    NaN     NaN              NaN      7.3   \n",
       "4441                    NaN     NaN              NaN      4.0   \n",
       "6105                    NaN     NaN              NaN      NaN   \n",
       "6181                    NaN     NaN              NaN      NaN   \n",
       "6379                    NaN     NaN              NaN      NaN   \n",
       "6380                    NaN     NaN              NaN      NaN   \n",
       "6399                    NaN     NaN              NaN      NaN   \n",
       "6485                    NaN     NaN              NaN      6.9   \n",
       "6494                    NaN     NaN              NaN      NaN   \n",
       "6497                    NaN     NaN              NaN      NaN   \n",
       "6498                    NaN     NaN              NaN      7.9   \n",
       "6499                    NaN     NaN              NaN      NaN   \n",
       "6507                    NaN     NaN              NaN      NaN   \n",
       "6511                    NaN     NaN              NaN      NaN   \n",
       "6638                    NaN     NaN              NaN      NaN   \n",
       "6639                    NaN     NaN              NaN      NaN   \n",
       "6662                    NaN     NaN              NaN      6.1   \n",
       "6722                    NaN     NaN              NaN      NaN   \n",
       "\n",
       "                          genres  box_office  \n",
       "1293                     комедия         NaN  \n",
       "4441          мультфильм,комедия         NaN  \n",
       "6105                         NaN         NaN  \n",
       "6181                         NaN         NaN  \n",
       "6379                         NaN         NaN  \n",
       "6380                         NaN         NaN  \n",
       "6399                         NaN     41225.0  \n",
       "6485     драма,криминал,детектив         NaN  \n",
       "6494                         NaN         NaN  \n",
       "6497                         NaN         NaN  \n",
       "6498   фантастика,боевик,триллер         NaN  \n",
       "6499                         NaN         NaN  \n",
       "6507                         NaN         NaN  \n",
       "6511                         NaN         NaN  \n",
       "6638                         NaN         NaN  \n",
       "6639                         NaN         NaN  \n",
       "6662  короткометражка,фантастика         NaN  \n",
       "6722                         NaN         NaN  "
      ]
     },
     "execution_count": 13,
     "metadata": {},
     "output_type": "execute_result"
    }
   ],
   "source": [
    "# взглянем на строки с пропусками в \"film_studio\"\n",
    "movie_rus[movie_rus['film_studio'].isna()]"
   ]
  },
  {
   "cell_type": "code",
   "execution_count": 14,
   "metadata": {},
   "outputs": [
    {
     "data": {
      "text/plain": [
       "production_country\n",
       " СССР                                                 2\n",
       " СССР                                                 1\n",
       " СССР                                                 1\n",
       "2019                                                  1\n",
       "CША                                                   1\n",
       "                                                     ..\n",
       "Япония, Великобритания                                1\n",
       "Япония, Великобритания, Австрия, Германия, Ю.Корея    1\n",
       "Япония, США                                           1\n",
       "Япония-Великобритания                                 2\n",
       "Япония-США-Франция                                    1\n",
       "Name: film_studio, Length: 950, dtype: int64"
      ]
     },
     "execution_count": 14,
     "metadata": {},
     "output_type": "execute_result"
    }
   ],
   "source": [
    "# попробуем посмотреть на студии в разных странах\n",
    "movie_rus.groupby('production_country')['film_studio'].count()"
   ]
  },
  {
   "cell_type": "code",
   "execution_count": 15,
   "metadata": {},
   "outputs": [],
   "source": [
    "#удалим строки с пропущенными значениями в \"film_studio\"\n",
    "movie_rus = movie_rus.dropna(subset=['film_studio'])"
   ]
  },
  {
   "cell_type": "markdown",
   "metadata": {},
   "source": [
    "Пропуски в столбце \"film_studio\" составляют меньше 1%, невозможно заполнить пропуски, так как нет никакой зависимости между другими параметрами. \n",
    "\n",
    "Данные строки были удалены, т.к. по данным фильмам практически по всем необходимым для анализа столбцам отсутствовала информация."
   ]
  },
  {
   "cell_type": "markdown",
   "metadata": {},
   "source": [
    "<div class=\"alert alert-block alert-success\">\n",
    " \n",
    "### Комментарий ревьюера\n",
    "    \n",
    "#### Успех\n",
    "    \n",
    "Согласен. Пропусков мало и логично от них избавиться."
   ]
  },
  {
   "cell_type": "markdown",
   "metadata": {},
   "source": [
    "<span style=\"color:blue\">**\"production_country\"**</span>"
   ]
  },
  {
   "cell_type": "code",
   "execution_count": 16,
   "metadata": {},
   "outputs": [
    {
     "data": {
      "text/html": [
       "<div>\n",
       "<style scoped>\n",
       "    .dataframe tbody tr th:only-of-type {\n",
       "        vertical-align: middle;\n",
       "    }\n",
       "\n",
       "    .dataframe tbody tr th {\n",
       "        vertical-align: top;\n",
       "    }\n",
       "\n",
       "    .dataframe thead th {\n",
       "        text-align: right;\n",
       "    }\n",
       "</style>\n",
       "<table border=\"1\" class=\"dataframe\">\n",
       "  <thead>\n",
       "    <tr style=\"text-align: right;\">\n",
       "      <th></th>\n",
       "      <th>title</th>\n",
       "      <th>pu_number</th>\n",
       "      <th>show_start_date</th>\n",
       "      <th>type</th>\n",
       "      <th>film_studio</th>\n",
       "      <th>production_country</th>\n",
       "      <th>director</th>\n",
       "      <th>producer</th>\n",
       "      <th>age_restriction</th>\n",
       "      <th>refundable_support</th>\n",
       "      <th>nonrefundable_support</th>\n",
       "      <th>budget</th>\n",
       "      <th>financing_source</th>\n",
       "      <th>ratings</th>\n",
       "      <th>genres</th>\n",
       "      <th>box_office</th>\n",
       "    </tr>\n",
       "  </thead>\n",
       "  <tbody>\n",
       "    <tr>\n",
       "      <th>3186</th>\n",
       "      <td>Детский юмористический киножурнал \"Ералаш. Ну ...</td>\n",
       "      <td>111001216</td>\n",
       "      <td>2016-02-09</td>\n",
       "      <td>Художественный</td>\n",
       "      <td>ООО \"Продюсерский центр ЕРАЛАШ\"</td>\n",
       "      <td>NaN</td>\n",
       "      <td>Р.Светлов, И.Магитон, А.Арутюнян, Л.Мирский, А...</td>\n",
       "      <td>ООО \"Продюсерский центр ЕРАЛАШ\"</td>\n",
       "      <td>«0+» - для любой зрительской аудитории</td>\n",
       "      <td>NaN</td>\n",
       "      <td>NaN</td>\n",
       "      <td>NaN</td>\n",
       "      <td>NaN</td>\n",
       "      <td>7.2</td>\n",
       "      <td>детский,комедия</td>\n",
       "      <td>194527.0</td>\n",
       "    </tr>\n",
       "  </tbody>\n",
       "</table>\n",
       "</div>"
      ],
      "text/plain": [
       "                                                  title  pu_number  \\\n",
       "3186  Детский юмористический киножурнал \"Ералаш. Ну ...  111001216   \n",
       "\n",
       "     show_start_date            type                      film_studio  \\\n",
       "3186      2016-02-09  Художественный  ООО \"Продюсерский центр ЕРАЛАШ\"   \n",
       "\n",
       "     production_country                                           director  \\\n",
       "3186                NaN  Р.Светлов, И.Магитон, А.Арутюнян, Л.Мирский, А...   \n",
       "\n",
       "                             producer                         age_restriction  \\\n",
       "3186  ООО \"Продюсерский центр ЕРАЛАШ\"  «0+» - для любой зрительской аудитории   \n",
       "\n",
       "      refundable_support  nonrefundable_support  budget financing_source  \\\n",
       "3186                 NaN                    NaN     NaN              NaN   \n",
       "\n",
       "      ratings           genres  box_office  \n",
       "3186      7.2  детский,комедия    194527.0  "
      ]
     },
     "execution_count": 16,
     "metadata": {},
     "output_type": "execute_result"
    }
   ],
   "source": [
    "# взглянем на строки с пропусками в \"production_country\"\n",
    "movie_rus[movie_rus['production_country'].isna()]"
   ]
  },
  {
   "cell_type": "code",
   "execution_count": 17,
   "metadata": {},
   "outputs": [],
   "source": [
    "# становится очевидно, что здесь необходимо указать страну Россия\n",
    "movie_rus['production_country'] = movie_rus['production_country'].fillna('Россия')"
   ]
  },
  {
   "cell_type": "markdown",
   "metadata": {},
   "source": [
    "<span style=\"color:blue\">**\"director\"**</span>"
   ]
  },
  {
   "cell_type": "code",
   "execution_count": 18,
   "metadata": {},
   "outputs": [
    {
     "data": {
      "text/html": [
       "<div>\n",
       "<style scoped>\n",
       "    .dataframe tbody tr th:only-of-type {\n",
       "        vertical-align: middle;\n",
       "    }\n",
       "\n",
       "    .dataframe tbody tr th {\n",
       "        vertical-align: top;\n",
       "    }\n",
       "\n",
       "    .dataframe thead th {\n",
       "        text-align: right;\n",
       "    }\n",
       "</style>\n",
       "<table border=\"1\" class=\"dataframe\">\n",
       "  <thead>\n",
       "    <tr style=\"text-align: right;\">\n",
       "      <th></th>\n",
       "      <th>title</th>\n",
       "      <th>pu_number</th>\n",
       "      <th>show_start_date</th>\n",
       "      <th>type</th>\n",
       "      <th>film_studio</th>\n",
       "      <th>production_country</th>\n",
       "      <th>director</th>\n",
       "      <th>producer</th>\n",
       "      <th>age_restriction</th>\n",
       "      <th>refundable_support</th>\n",
       "      <th>nonrefundable_support</th>\n",
       "      <th>budget</th>\n",
       "      <th>financing_source</th>\n",
       "      <th>ratings</th>\n",
       "      <th>genres</th>\n",
       "      <th>box_office</th>\n",
       "    </tr>\n",
       "  </thead>\n",
       "  <tbody>\n",
       "    <tr>\n",
       "      <th>764</th>\n",
       "      <td>Три звезды. Концерт в Waldbuhne Theater, Берли...</td>\n",
       "      <td>126003512</td>\n",
       "      <td>2012-12-04</td>\n",
       "      <td>Прочие</td>\n",
       "      <td>Райзинг Алтернатив</td>\n",
       "      <td>Великобритания</td>\n",
       "      <td>NaN</td>\n",
       "      <td>Вальдбюне Театр</td>\n",
       "      <td>«0+» - для любой зрительской аудитории</td>\n",
       "      <td>NaN</td>\n",
       "      <td>NaN</td>\n",
       "      <td>NaN</td>\n",
       "      <td>NaN</td>\n",
       "      <td>NaN</td>\n",
       "      <td>NaN</td>\n",
       "      <td>44350.0</td>\n",
       "    </tr>\n",
       "    <tr>\n",
       "      <th>1735</th>\n",
       "      <td>Помпеи. Британский музей</td>\n",
       "      <td>126003413</td>\n",
       "      <td>2013-09-11</td>\n",
       "      <td>Прочие</td>\n",
       "      <td>МортуСкрин, Британский музей</td>\n",
       "      <td>Великобритания</td>\n",
       "      <td>NaN</td>\n",
       "      <td>Британский музей</td>\n",
       "      <td>«0+» - для любой зрительской аудитории</td>\n",
       "      <td>NaN</td>\n",
       "      <td>NaN</td>\n",
       "      <td>NaN</td>\n",
       "      <td>NaN</td>\n",
       "      <td>NaN</td>\n",
       "      <td>NaN</td>\n",
       "      <td>NaN</td>\n",
       "    </tr>\n",
       "    <tr>\n",
       "      <th>3840</th>\n",
       "      <td>Зур концерт (Большой концерт).</td>\n",
       "      <td>217027010</td>\n",
       "      <td>2010-06-24</td>\n",
       "      <td>Художественный</td>\n",
       "      <td>ООО \"Барс Рекордс\"</td>\n",
       "      <td>Россия</td>\n",
       "      <td>NaN</td>\n",
       "      <td>NaN</td>\n",
       "      <td>«12+» - для детей старше 12 лет</td>\n",
       "      <td>NaN</td>\n",
       "      <td>NaN</td>\n",
       "      <td>NaN</td>\n",
       "      <td>NaN</td>\n",
       "      <td>NaN</td>\n",
       "      <td>NaN</td>\n",
       "      <td>NaN</td>\n",
       "    </tr>\n",
       "    <tr>\n",
       "      <th>4052</th>\n",
       "      <td>Ганс Сэйфуллин \"Авылым чишмэлэре. Ганс Сэйфулл...</td>\n",
       "      <td>217017310</td>\n",
       "      <td>2010-04-22</td>\n",
       "      <td>Художественный</td>\n",
       "      <td>ООО \"Барс-Рекордс\"</td>\n",
       "      <td>Россия</td>\n",
       "      <td>NaN</td>\n",
       "      <td>NaN</td>\n",
       "      <td>«0+» - для любой зрительской аудитории</td>\n",
       "      <td>NaN</td>\n",
       "      <td>NaN</td>\n",
       "      <td>NaN</td>\n",
       "      <td>NaN</td>\n",
       "      <td>NaN</td>\n",
       "      <td>NaN</td>\n",
       "      <td>NaN</td>\n",
       "    </tr>\n",
       "    <tr>\n",
       "      <th>4298</th>\n",
       "      <td>Изге Вэли (Святой Валентин)</td>\n",
       "      <td>217020610</td>\n",
       "      <td>2010-05-20</td>\n",
       "      <td>Художественный</td>\n",
       "      <td>ООО \"Барс Рекордс\"</td>\n",
       "      <td>Россия</td>\n",
       "      <td>NaN</td>\n",
       "      <td>NaN</td>\n",
       "      <td>«12+» - для детей старше 12 лет</td>\n",
       "      <td>NaN</td>\n",
       "      <td>NaN</td>\n",
       "      <td>NaN</td>\n",
       "      <td>NaN</td>\n",
       "      <td>NaN</td>\n",
       "      <td>NaN</td>\n",
       "      <td>NaN</td>\n",
       "    </tr>\n",
       "    <tr>\n",
       "      <th>4415</th>\n",
       "      <td>Bon Jovi. The Circle Tour</td>\n",
       "      <td>126001710</td>\n",
       "      <td>2010-11-11</td>\n",
       "      <td>Прочие</td>\n",
       "      <td>Эншутц Интертейнмент Груп</td>\n",
       "      <td>США</td>\n",
       "      <td>NaN</td>\n",
       "      <td>Эншутц Интертейнмент Груп</td>\n",
       "      <td>«0+» - для любой зрительской аудитории</td>\n",
       "      <td>NaN</td>\n",
       "      <td>NaN</td>\n",
       "      <td>NaN</td>\n",
       "      <td>NaN</td>\n",
       "      <td>7.9</td>\n",
       "      <td>концерт,музыка</td>\n",
       "      <td>NaN</td>\n",
       "    </tr>\n",
       "    <tr>\n",
       "      <th>4923</th>\n",
       "      <td>Георг Фридрих Гендель. Мессия. Оратория. Корол...</td>\n",
       "      <td>126001111</td>\n",
       "      <td>2011-04-25</td>\n",
       "      <td>Прочие</td>\n",
       "      <td>Опус Арт</td>\n",
       "      <td>Великобритания</td>\n",
       "      <td>NaN</td>\n",
       "      <td>Короевский колледж Кембриджа</td>\n",
       "      <td>«0+» - для любой зрительской аудитории</td>\n",
       "      <td>NaN</td>\n",
       "      <td>NaN</td>\n",
       "      <td>NaN</td>\n",
       "      <td>NaN</td>\n",
       "      <td>NaN</td>\n",
       "      <td>NaN</td>\n",
       "      <td>NaN</td>\n",
       "    </tr>\n",
       "    <tr>\n",
       "      <th>4942</th>\n",
       "      <td>Питер Гэбриэл и New Blood Orchestra 3D</td>\n",
       "      <td>126002711</td>\n",
       "      <td>2011-11-11</td>\n",
       "      <td>Прочие</td>\n",
       "      <td>Омниверс Визион</td>\n",
       "      <td>Великобритания</td>\n",
       "      <td>NaN</td>\n",
       "      <td>Омниверс Визион</td>\n",
       "      <td>«0+» - для любой зрительской аудитории</td>\n",
       "      <td>NaN</td>\n",
       "      <td>NaN</td>\n",
       "      <td>NaN</td>\n",
       "      <td>NaN</td>\n",
       "      <td>6.7</td>\n",
       "      <td>концерт,музыка</td>\n",
       "      <td>NaN</td>\n",
       "    </tr>\n",
       "  </tbody>\n",
       "</table>\n",
       "</div>"
      ],
      "text/plain": [
       "                                                  title  pu_number  \\\n",
       "764   Три звезды. Концерт в Waldbuhne Theater, Берли...  126003512   \n",
       "1735                           Помпеи. Британский музей  126003413   \n",
       "3840                     Зур концерт (Большой концерт).  217027010   \n",
       "4052  Ганс Сэйфуллин \"Авылым чишмэлэре. Ганс Сэйфулл...  217017310   \n",
       "4298                        Изге Вэли (Святой Валентин)  217020610   \n",
       "4415                          Bon Jovi. The Circle Tour  126001710   \n",
       "4923  Георг Фридрих Гендель. Мессия. Оратория. Корол...  126001111   \n",
       "4942             Питер Гэбриэл и New Blood Orchestra 3D  126002711   \n",
       "\n",
       "     show_start_date            type                   film_studio  \\\n",
       "764       2012-12-04          Прочие            Райзинг Алтернатив   \n",
       "1735      2013-09-11          Прочие  МортуСкрин, Британский музей   \n",
       "3840      2010-06-24  Художественный            ООО \"Барс Рекордс\"   \n",
       "4052      2010-04-22  Художественный            ООО \"Барс-Рекордс\"   \n",
       "4298      2010-05-20  Художественный            ООО \"Барс Рекордс\"   \n",
       "4415      2010-11-11          Прочие     Эншутц Интертейнмент Груп   \n",
       "4923      2011-04-25          Прочие                      Опус Арт   \n",
       "4942      2011-11-11          Прочие               Омниверс Визион   \n",
       "\n",
       "     production_country director                      producer  \\\n",
       "764      Великобритания      NaN               Вальдбюне Театр   \n",
       "1735     Великобритания      NaN              Британский музей   \n",
       "3840             Россия      NaN                           NaN   \n",
       "4052             Россия      NaN                           NaN   \n",
       "4298             Россия      NaN                           NaN   \n",
       "4415                США      NaN     Эншутц Интертейнмент Груп   \n",
       "4923     Великобритания      NaN  Короевский колледж Кембриджа   \n",
       "4942     Великобритания      NaN               Омниверс Визион   \n",
       "\n",
       "                             age_restriction  refundable_support  \\\n",
       "764   «0+» - для любой зрительской аудитории                 NaN   \n",
       "1735  «0+» - для любой зрительской аудитории                 NaN   \n",
       "3840         «12+» - для детей старше 12 лет                 NaN   \n",
       "4052  «0+» - для любой зрительской аудитории                 NaN   \n",
       "4298         «12+» - для детей старше 12 лет                 NaN   \n",
       "4415  «0+» - для любой зрительской аудитории                 NaN   \n",
       "4923  «0+» - для любой зрительской аудитории                 NaN   \n",
       "4942  «0+» - для любой зрительской аудитории                 NaN   \n",
       "\n",
       "      nonrefundable_support  budget financing_source  ratings          genres  \\\n",
       "764                     NaN     NaN              NaN      NaN             NaN   \n",
       "1735                    NaN     NaN              NaN      NaN             NaN   \n",
       "3840                    NaN     NaN              NaN      NaN             NaN   \n",
       "4052                    NaN     NaN              NaN      NaN             NaN   \n",
       "4298                    NaN     NaN              NaN      NaN             NaN   \n",
       "4415                    NaN     NaN              NaN      7.9  концерт,музыка   \n",
       "4923                    NaN     NaN              NaN      NaN             NaN   \n",
       "4942                    NaN     NaN              NaN      6.7  концерт,музыка   \n",
       "\n",
       "      box_office  \n",
       "764      44350.0  \n",
       "1735         NaN  \n",
       "3840         NaN  \n",
       "4052         NaN  \n",
       "4298         NaN  \n",
       "4415         NaN  \n",
       "4923         NaN  \n",
       "4942         NaN  "
      ]
     },
     "execution_count": 18,
     "metadata": {},
     "output_type": "execute_result"
    }
   ],
   "source": [
    "# взглянем на строки с пропусками в \"director\"\n",
    "movie_rus[movie_rus['director'].isna()]"
   ]
  },
  {
   "cell_type": "code",
   "execution_count": 19,
   "metadata": {
    "scrolled": true
   },
   "outputs": [
    {
     "data": {
      "text/html": [
       "<div>\n",
       "<style scoped>\n",
       "    .dataframe tbody tr th:only-of-type {\n",
       "        vertical-align: middle;\n",
       "    }\n",
       "\n",
       "    .dataframe tbody tr th {\n",
       "        vertical-align: top;\n",
       "    }\n",
       "\n",
       "    .dataframe thead th {\n",
       "        text-align: right;\n",
       "    }\n",
       "</style>\n",
       "<table border=\"1\" class=\"dataframe\">\n",
       "  <thead>\n",
       "    <tr style=\"text-align: right;\">\n",
       "      <th></th>\n",
       "      <th>title</th>\n",
       "      <th>pu_number</th>\n",
       "      <th>show_start_date</th>\n",
       "      <th>type</th>\n",
       "      <th>film_studio</th>\n",
       "      <th>production_country</th>\n",
       "      <th>director</th>\n",
       "      <th>producer</th>\n",
       "      <th>age_restriction</th>\n",
       "      <th>refundable_support</th>\n",
       "      <th>nonrefundable_support</th>\n",
       "      <th>budget</th>\n",
       "      <th>financing_source</th>\n",
       "      <th>ratings</th>\n",
       "      <th>genres</th>\n",
       "      <th>box_office</th>\n",
       "    </tr>\n",
       "  </thead>\n",
       "  <tbody>\n",
       "    <tr>\n",
       "      <th>764</th>\n",
       "      <td>Три звезды. Концерт в Waldbuhne Theater, Берли...</td>\n",
       "      <td>126003512</td>\n",
       "      <td>2012-12-04</td>\n",
       "      <td>Прочие</td>\n",
       "      <td>Райзинг Алтернатив</td>\n",
       "      <td>Великобритания</td>\n",
       "      <td>NaN</td>\n",
       "      <td>Вальдбюне Театр</td>\n",
       "      <td>«0+» - для любой зрительской аудитории</td>\n",
       "      <td>NaN</td>\n",
       "      <td>NaN</td>\n",
       "      <td>NaN</td>\n",
       "      <td>NaN</td>\n",
       "      <td>NaN</td>\n",
       "      <td>NaN</td>\n",
       "      <td>44350.0</td>\n",
       "    </tr>\n",
       "    <tr>\n",
       "      <th>2068</th>\n",
       "      <td>Арриго Бойто. Мефистофель /По произведению Гёт...</td>\n",
       "      <td>126005514</td>\n",
       "      <td>2014-12-31</td>\n",
       "      <td>Прочие</td>\n",
       "      <td>Райзинг Алтернатив</td>\n",
       "      <td>Германия</td>\n",
       "      <td>Лори Фельдман Сантоликвидо</td>\n",
       "      <td>Роберт Карсене</td>\n",
       "      <td>«0+» - для любой зрительской аудитории</td>\n",
       "      <td>NaN</td>\n",
       "      <td>NaN</td>\n",
       "      <td>NaN</td>\n",
       "      <td>NaN</td>\n",
       "      <td>NaN</td>\n",
       "      <td>NaN</td>\n",
       "      <td>NaN</td>\n",
       "    </tr>\n",
       "    <tr>\n",
       "      <th>2125</th>\n",
       "      <td>Джузеппе Верди. Травиата /По произведению А.Дю...</td>\n",
       "      <td>126000715</td>\n",
       "      <td>2015-02-27</td>\n",
       "      <td>Прочие</td>\n",
       "      <td>Райзинг Алтернатив</td>\n",
       "      <td>Германия</td>\n",
       "      <td>Бенуа Жако</td>\n",
       "      <td>Пьер-Оливье Барде</td>\n",
       "      <td>«12+» - для детей старше 12 лет</td>\n",
       "      <td>NaN</td>\n",
       "      <td>NaN</td>\n",
       "      <td>NaN</td>\n",
       "      <td>NaN</td>\n",
       "      <td>NaN</td>\n",
       "      <td>NaN</td>\n",
       "      <td>25685.0</td>\n",
       "    </tr>\n",
       "    <tr>\n",
       "      <th>2321</th>\n",
       "      <td>Модест Петрович Мусоргский. Хованщина. Постано...</td>\n",
       "      <td>126004414</td>\n",
       "      <td>2014-10-29</td>\n",
       "      <td>Прочие</td>\n",
       "      <td>Райзинг Алтернатив</td>\n",
       "      <td>Германия</td>\n",
       "      <td>Дмитрий Черняков</td>\n",
       "      <td>Бернард Флейсхер</td>\n",
       "      <td>«0+» - для любой зрительской аудитории</td>\n",
       "      <td>NaN</td>\n",
       "      <td>NaN</td>\n",
       "      <td>NaN</td>\n",
       "      <td>NaN</td>\n",
       "      <td>NaN</td>\n",
       "      <td>NaN</td>\n",
       "      <td>NaN</td>\n",
       "    </tr>\n",
       "    <tr>\n",
       "      <th>2322</th>\n",
       "      <td>Джузеппе Верди. Трубадур /По одноименной драме...</td>\n",
       "      <td>126004214</td>\n",
       "      <td>2014-10-23</td>\n",
       "      <td>Прочие</td>\n",
       "      <td>Райзинг Алтернатив</td>\n",
       "      <td>Германия</td>\n",
       "      <td>Филипп Штёльцль</td>\n",
       "      <td>Магдалена Хёрбст</td>\n",
       "      <td>«0+» - для любой зрительской аудитории</td>\n",
       "      <td>NaN</td>\n",
       "      <td>NaN</td>\n",
       "      <td>NaN</td>\n",
       "      <td>NaN</td>\n",
       "      <td>NaN</td>\n",
       "      <td>NaN</td>\n",
       "      <td>NaN</td>\n",
       "    </tr>\n",
       "    <tr>\n",
       "      <th>2661</th>\n",
       "      <td>Джузеппе Верди. Дон Карлос /По драме Фридриха ...</td>\n",
       "      <td>126002215</td>\n",
       "      <td>2015-07-07</td>\n",
       "      <td>Прочие</td>\n",
       "      <td>Райзинг Алтернатив</td>\n",
       "      <td>Германия</td>\n",
       "      <td>Петер Штайн</td>\n",
       "      <td>Магдалена Хербст</td>\n",
       "      <td>«12+» - для детей старше 12 лет</td>\n",
       "      <td>NaN</td>\n",
       "      <td>NaN</td>\n",
       "      <td>NaN</td>\n",
       "      <td>NaN</td>\n",
       "      <td>NaN</td>\n",
       "      <td>NaN</td>\n",
       "      <td>6900.0</td>\n",
       "    </tr>\n",
       "  </tbody>\n",
       "</table>\n",
       "</div>"
      ],
      "text/plain": [
       "                                                  title  pu_number  \\\n",
       "764   Три звезды. Концерт в Waldbuhne Theater, Берли...  126003512   \n",
       "2068  Арриго Бойто. Мефистофель /По произведению Гёт...  126005514   \n",
       "2125  Джузеппе Верди. Травиата /По произведению А.Дю...  126000715   \n",
       "2321  Модест Петрович Мусоргский. Хованщина. Постано...  126004414   \n",
       "2322  Джузеппе Верди. Трубадур /По одноименной драме...  126004214   \n",
       "2661  Джузеппе Верди. Дон Карлос /По драме Фридриха ...  126002215   \n",
       "\n",
       "     show_start_date    type         film_studio production_country  \\\n",
       "764       2012-12-04  Прочие  Райзинг Алтернатив     Великобритания   \n",
       "2068      2014-12-31  Прочие  Райзинг Алтернатив           Германия   \n",
       "2125      2015-02-27  Прочие  Райзинг Алтернатив           Германия   \n",
       "2321      2014-10-29  Прочие  Райзинг Алтернатив           Германия   \n",
       "2322      2014-10-23  Прочие  Райзинг Алтернатив           Германия   \n",
       "2661      2015-07-07  Прочие  Райзинг Алтернатив           Германия   \n",
       "\n",
       "                        director           producer  \\\n",
       "764                          NaN    Вальдбюне Театр   \n",
       "2068  Лори Фельдман Сантоликвидо     Роберт Карсене   \n",
       "2125                  Бенуа Жако  Пьер-Оливье Барде   \n",
       "2321            Дмитрий Черняков   Бернард Флейсхер   \n",
       "2322             Филипп Штёльцль   Магдалена Хёрбст   \n",
       "2661                 Петер Штайн   Магдалена Хербст   \n",
       "\n",
       "                             age_restriction  refundable_support  \\\n",
       "764   «0+» - для любой зрительской аудитории                 NaN   \n",
       "2068  «0+» - для любой зрительской аудитории                 NaN   \n",
       "2125         «12+» - для детей старше 12 лет                 NaN   \n",
       "2321  «0+» - для любой зрительской аудитории                 NaN   \n",
       "2322  «0+» - для любой зрительской аудитории                 NaN   \n",
       "2661         «12+» - для детей старше 12 лет                 NaN   \n",
       "\n",
       "      nonrefundable_support  budget financing_source  ratings genres  \\\n",
       "764                     NaN     NaN              NaN      NaN    NaN   \n",
       "2068                    NaN     NaN              NaN      NaN    NaN   \n",
       "2125                    NaN     NaN              NaN      NaN    NaN   \n",
       "2321                    NaN     NaN              NaN      NaN    NaN   \n",
       "2322                    NaN     NaN              NaN      NaN    NaN   \n",
       "2661                    NaN     NaN              NaN      NaN    NaN   \n",
       "\n",
       "      box_office  \n",
       "764      44350.0  \n",
       "2068         NaN  \n",
       "2125     25685.0  \n",
       "2321         NaN  \n",
       "2322         NaN  \n",
       "2661      6900.0  "
      ]
     },
     "execution_count": 19,
     "metadata": {},
     "output_type": "execute_result"
    }
   ],
   "source": [
    "# проверим на примере есть ли зависимость\n",
    "movie_rus.query('film_studio == \"Райзинг Алтернатив\"')"
   ]
  },
  {
   "cell_type": "code",
   "execution_count": 20,
   "metadata": {},
   "outputs": [],
   "source": [
    "#удалим строки с пропущенными значениями в \"director\"\n",
    "movie_rus = movie_rus.dropna(subset=['director'])"
   ]
  },
  {
   "cell_type": "markdown",
   "metadata": {},
   "source": [
    "Пропуски в столбце \"director\" меньше 1%, невозможно заполнить пропуски, так как нет никакой зависимости между другими параметрами. \n",
    "Данные строки были удалены, т.к. по данным фильмам практически по всем необходимым столбцам для дальнейшего исследования отсутствовала информация."
   ]
  },
  {
   "cell_type": "markdown",
   "metadata": {},
   "source": [
    "<span style=\"color:blue\">**\"producer\"**</span>"
   ]
  },
  {
   "cell_type": "code",
   "execution_count": 21,
   "metadata": {},
   "outputs": [
    {
     "data": {
      "text/html": [
       "<div>\n",
       "<style scoped>\n",
       "    .dataframe tbody tr th:only-of-type {\n",
       "        vertical-align: middle;\n",
       "    }\n",
       "\n",
       "    .dataframe tbody tr th {\n",
       "        vertical-align: top;\n",
       "    }\n",
       "\n",
       "    .dataframe thead th {\n",
       "        text-align: right;\n",
       "    }\n",
       "</style>\n",
       "<table border=\"1\" class=\"dataframe\">\n",
       "  <thead>\n",
       "    <tr style=\"text-align: right;\">\n",
       "      <th></th>\n",
       "      <th>title</th>\n",
       "      <th>pu_number</th>\n",
       "      <th>show_start_date</th>\n",
       "      <th>type</th>\n",
       "      <th>film_studio</th>\n",
       "      <th>production_country</th>\n",
       "      <th>director</th>\n",
       "      <th>producer</th>\n",
       "      <th>age_restriction</th>\n",
       "      <th>refundable_support</th>\n",
       "      <th>nonrefundable_support</th>\n",
       "      <th>budget</th>\n",
       "      <th>financing_source</th>\n",
       "      <th>ratings</th>\n",
       "      <th>genres</th>\n",
       "      <th>box_office</th>\n",
       "    </tr>\n",
       "  </thead>\n",
       "  <tbody>\n",
       "    <tr>\n",
       "      <th>1</th>\n",
       "      <td>Особо важное задание</td>\n",
       "      <td>111013716</td>\n",
       "      <td>2016-09-13</td>\n",
       "      <td>Художественный</td>\n",
       "      <td>Киностудия \"Мосфильм\"</td>\n",
       "      <td>СССР</td>\n",
       "      <td>Е.Матвеев</td>\n",
       "      <td>NaN</td>\n",
       "      <td>«6+» - для детей старше 6 лет</td>\n",
       "      <td>NaN</td>\n",
       "      <td>NaN</td>\n",
       "      <td>NaN</td>\n",
       "      <td>NaN</td>\n",
       "      <td>6.6</td>\n",
       "      <td>драма,военный</td>\n",
       "      <td>NaN</td>\n",
       "    </tr>\n",
       "    <tr>\n",
       "      <th>5</th>\n",
       "      <td>Остановился поезд</td>\n",
       "      <td>111013816</td>\n",
       "      <td>2016-09-13</td>\n",
       "      <td>Художественный</td>\n",
       "      <td>Киностудия \"Мосфильм\"</td>\n",
       "      <td>СССР</td>\n",
       "      <td>В.Абдрашитов</td>\n",
       "      <td>NaN</td>\n",
       "      <td>«6+» - для детей старше 6 лет</td>\n",
       "      <td>NaN</td>\n",
       "      <td>NaN</td>\n",
       "      <td>NaN</td>\n",
       "      <td>NaN</td>\n",
       "      <td>7.7</td>\n",
       "      <td>драма</td>\n",
       "      <td>NaN</td>\n",
       "    </tr>\n",
       "    <tr>\n",
       "      <th>6</th>\n",
       "      <td>Любовь и голуби</td>\n",
       "      <td>111007013</td>\n",
       "      <td>2013-10-18</td>\n",
       "      <td>Художественный</td>\n",
       "      <td>Киностудия \"Мосфильм\"</td>\n",
       "      <td>СССР</td>\n",
       "      <td>В.Меньшов</td>\n",
       "      <td>NaN</td>\n",
       "      <td>«12+» - для детей старше 12 лет</td>\n",
       "      <td>NaN</td>\n",
       "      <td>NaN</td>\n",
       "      <td>NaN</td>\n",
       "      <td>NaN</td>\n",
       "      <td>8.3</td>\n",
       "      <td>мелодрама,комедия</td>\n",
       "      <td>2700.0</td>\n",
       "    </tr>\n",
       "    <tr>\n",
       "      <th>9</th>\n",
       "      <td>Отпуск за свой счет</td>\n",
       "      <td>111019114</td>\n",
       "      <td>2014-12-01</td>\n",
       "      <td>Художественный</td>\n",
       "      <td>Киностудия \"Мосфильм\", Телевидение ВНР</td>\n",
       "      <td>СССР, Венгрия</td>\n",
       "      <td>В.Титов</td>\n",
       "      <td>NaN</td>\n",
       "      <td>«12+» - для детей старше 12 лет</td>\n",
       "      <td>NaN</td>\n",
       "      <td>NaN</td>\n",
       "      <td>NaN</td>\n",
       "      <td>NaN</td>\n",
       "      <td>7.8</td>\n",
       "      <td>мелодрама,комедия</td>\n",
       "      <td>NaN</td>\n",
       "    </tr>\n",
       "    <tr>\n",
       "      <th>11</th>\n",
       "      <td>Ответный ход</td>\n",
       "      <td>111019014</td>\n",
       "      <td>2014-12-01</td>\n",
       "      <td>Художественный</td>\n",
       "      <td>Киностудия \"Мосфильм\"</td>\n",
       "      <td>СССР</td>\n",
       "      <td>М.Туманишвили</td>\n",
       "      <td>NaN</td>\n",
       "      <td>«12+» - для детей старше 12 лет</td>\n",
       "      <td>NaN</td>\n",
       "      <td>NaN</td>\n",
       "      <td>NaN</td>\n",
       "      <td>NaN</td>\n",
       "      <td>7.8</td>\n",
       "      <td>боевик,драма,приключения</td>\n",
       "      <td>NaN</td>\n",
       "    </tr>\n",
       "    <tr>\n",
       "      <th>15</th>\n",
       "      <td>Председатель</td>\n",
       "      <td>111014916</td>\n",
       "      <td>2016-09-13</td>\n",
       "      <td>Художественный</td>\n",
       "      <td>Киностудия \"Мосфильм\"</td>\n",
       "      <td>СССР</td>\n",
       "      <td>А.Салтыков</td>\n",
       "      <td>NaN</td>\n",
       "      <td>«12+» - для детей старше 12 лет</td>\n",
       "      <td>NaN</td>\n",
       "      <td>NaN</td>\n",
       "      <td>NaN</td>\n",
       "      <td>NaN</td>\n",
       "      <td>8.3</td>\n",
       "      <td>драма</td>\n",
       "      <td>NaN</td>\n",
       "    </tr>\n",
       "    <tr>\n",
       "      <th>16</th>\n",
       "      <td>Осенний марафон</td>\n",
       "      <td>111007513</td>\n",
       "      <td>2013-10-18</td>\n",
       "      <td>Художественный</td>\n",
       "      <td>Киностудия \"Мосфильм\"</td>\n",
       "      <td>СССР</td>\n",
       "      <td>Г.Данелия</td>\n",
       "      <td>NaN</td>\n",
       "      <td>«12+» - для детей старше 12 лет</td>\n",
       "      <td>NaN</td>\n",
       "      <td>NaN</td>\n",
       "      <td>NaN</td>\n",
       "      <td>NaN</td>\n",
       "      <td>8.0</td>\n",
       "      <td>драма,мелодрама,комедия</td>\n",
       "      <td>NaN</td>\n",
       "    </tr>\n",
       "    <tr>\n",
       "      <th>17</th>\n",
       "      <td>Осень</td>\n",
       "      <td>111027914</td>\n",
       "      <td>2014-12-24</td>\n",
       "      <td>Художественный</td>\n",
       "      <td>Киностудия \"Мосфильм\"</td>\n",
       "      <td>СССР</td>\n",
       "      <td>А.Смирнов</td>\n",
       "      <td>NaN</td>\n",
       "      <td>«12+» - для детей старше 12 лет</td>\n",
       "      <td>NaN</td>\n",
       "      <td>NaN</td>\n",
       "      <td>NaN</td>\n",
       "      <td>NaN</td>\n",
       "      <td>7.4</td>\n",
       "      <td>драма,мелодрама</td>\n",
       "      <td>NaN</td>\n",
       "    </tr>\n",
       "    <tr>\n",
       "      <th>18</th>\n",
       "      <td>Неподдающиеся</td>\n",
       "      <td>111003616</td>\n",
       "      <td>2016-02-12</td>\n",
       "      <td>Художественный</td>\n",
       "      <td>Киностудия \"Мосфильм\"</td>\n",
       "      <td>СССР</td>\n",
       "      <td>Ю.Чулюкин</td>\n",
       "      <td>NaN</td>\n",
       "      <td>«6+» - для детей старше 6 лет</td>\n",
       "      <td>NaN</td>\n",
       "      <td>NaN</td>\n",
       "      <td>NaN</td>\n",
       "      <td>NaN</td>\n",
       "      <td>8.0</td>\n",
       "      <td>мелодрама,комедия</td>\n",
       "      <td>360.0</td>\n",
       "    </tr>\n",
       "    <tr>\n",
       "      <th>19</th>\n",
       "      <td>Неподсуден</td>\n",
       "      <td>111003716</td>\n",
       "      <td>2016-02-12</td>\n",
       "      <td>Художественный</td>\n",
       "      <td>Киностудия \"Мосфильм\"</td>\n",
       "      <td>СССР</td>\n",
       "      <td>В.Краснопольский, В.Усков</td>\n",
       "      <td>NaN</td>\n",
       "      <td>«6+» - для детей старше 6 лет</td>\n",
       "      <td>NaN</td>\n",
       "      <td>NaN</td>\n",
       "      <td>NaN</td>\n",
       "      <td>NaN</td>\n",
       "      <td>7.7</td>\n",
       "      <td>драма</td>\n",
       "      <td>420.0</td>\n",
       "    </tr>\n",
       "  </tbody>\n",
       "</table>\n",
       "</div>"
      ],
      "text/plain": [
       "                   title  pu_number show_start_date            type  \\\n",
       "1   Особо важное задание  111013716      2016-09-13  Художественный   \n",
       "5      Остановился поезд  111013816      2016-09-13  Художественный   \n",
       "6        Любовь и голуби  111007013      2013-10-18  Художественный   \n",
       "9    Отпуск за свой счет  111019114      2014-12-01  Художественный   \n",
       "11          Ответный ход  111019014      2014-12-01  Художественный   \n",
       "15          Председатель  111014916      2016-09-13  Художественный   \n",
       "16       Осенний марафон  111007513      2013-10-18  Художественный   \n",
       "17                 Осень  111027914      2014-12-24  Художественный   \n",
       "18         Неподдающиеся  111003616      2016-02-12  Художественный   \n",
       "19            Неподсуден  111003716      2016-02-12  Художественный   \n",
       "\n",
       "                               film_studio production_country  \\\n",
       "1                    Киностудия \"Мосфильм\"               СССР   \n",
       "5                    Киностудия \"Мосфильм\"               СССР   \n",
       "6                    Киностудия \"Мосфильм\"               СССР   \n",
       "9   Киностудия \"Мосфильм\", Телевидение ВНР      СССР, Венгрия   \n",
       "11                   Киностудия \"Мосфильм\"               СССР   \n",
       "15                   Киностудия \"Мосфильм\"               СССР   \n",
       "16                   Киностудия \"Мосфильм\"               СССР   \n",
       "17                   Киностудия \"Мосфильм\"               СССР   \n",
       "18                   Киностудия \"Мосфильм\"               СССР   \n",
       "19                   Киностудия \"Мосфильм\"               СССР   \n",
       "\n",
       "                     director producer                  age_restriction  \\\n",
       "1                   Е.Матвеев      NaN    «6+» - для детей старше 6 лет   \n",
       "5                В.Абдрашитов      NaN    «6+» - для детей старше 6 лет   \n",
       "6                   В.Меньшов      NaN  «12+» - для детей старше 12 лет   \n",
       "9                     В.Титов      NaN  «12+» - для детей старше 12 лет   \n",
       "11              М.Туманишвили      NaN  «12+» - для детей старше 12 лет   \n",
       "15                 А.Салтыков      NaN  «12+» - для детей старше 12 лет   \n",
       "16                  Г.Данелия      NaN  «12+» - для детей старше 12 лет   \n",
       "17                  А.Смирнов      NaN  «12+» - для детей старше 12 лет   \n",
       "18                  Ю.Чулюкин      NaN    «6+» - для детей старше 6 лет   \n",
       "19  В.Краснопольский, В.Усков      NaN    «6+» - для детей старше 6 лет   \n",
       "\n",
       "    refundable_support  nonrefundable_support  budget financing_source  \\\n",
       "1                  NaN                    NaN     NaN              NaN   \n",
       "5                  NaN                    NaN     NaN              NaN   \n",
       "6                  NaN                    NaN     NaN              NaN   \n",
       "9                  NaN                    NaN     NaN              NaN   \n",
       "11                 NaN                    NaN     NaN              NaN   \n",
       "15                 NaN                    NaN     NaN              NaN   \n",
       "16                 NaN                    NaN     NaN              NaN   \n",
       "17                 NaN                    NaN     NaN              NaN   \n",
       "18                 NaN                    NaN     NaN              NaN   \n",
       "19                 NaN                    NaN     NaN              NaN   \n",
       "\n",
       "    ratings                    genres  box_office  \n",
       "1       6.6             драма,военный         NaN  \n",
       "5       7.7                     драма         NaN  \n",
       "6       8.3         мелодрама,комедия      2700.0  \n",
       "9       7.8         мелодрама,комедия         NaN  \n",
       "11      7.8  боевик,драма,приключения         NaN  \n",
       "15      8.3                     драма         NaN  \n",
       "16      8.0   драма,мелодрама,комедия         NaN  \n",
       "17      7.4           драма,мелодрама         NaN  \n",
       "18      8.0         мелодрама,комедия       360.0  \n",
       "19      7.7                     драма       420.0  "
      ]
     },
     "execution_count": 21,
     "metadata": {},
     "output_type": "execute_result"
    }
   ],
   "source": [
    "movie_rus[movie_rus['producer'].isna()].head(10)"
   ]
  },
  {
   "cell_type": "code",
   "execution_count": 22,
   "metadata": {},
   "outputs": [],
   "source": [
    "# заполним пропуски\n",
    "movie_rus['producer'] = movie_rus['producer'].fillna('Неизвестен')"
   ]
  },
  {
   "cell_type": "markdown",
   "metadata": {},
   "source": [
    "Пропуски в столбце \"producer\" составляют ~7%, данные невозможно восстановить, однако достаточно информации по необходимым для анализа столбцам, поэтому принято решение оставить данные пропуски и заполнить их значением \"неизвестен\"."
   ]
  },
  {
   "cell_type": "markdown",
   "metadata": {},
   "source": [
    "<div class=\"alert alert-block alert-success\">\n",
    " \n",
    "### Комментарий ревьюера\n",
    "    \n",
    "#### Успех\n",
    "    \n",
    "Значение-заглушка это хорошее решение "
   ]
  },
  {
   "cell_type": "markdown",
   "metadata": {},
   "source": [
    "<span style=\"color:blue\">**\"refundable_support\", \"nonrefundable_support\", \"budget\", \"financing_source\"**</span>"
   ]
  },
  {
   "cell_type": "code",
   "execution_count": 23,
   "metadata": {},
   "outputs": [
    {
     "data": {
      "text/plain": [
       "refundable_support       95.55\n",
       "nonrefundable_support    95.55\n",
       "budget                   95.55\n",
       "financing_source         95.55\n",
       "dtype: float64"
      ]
     },
     "execution_count": 23,
     "metadata": {},
     "output_type": "execute_result"
    }
   ],
   "source": [
    "# высчитаем % пропусков по анализируемым столбцам\n",
    "(movie_rus[['refundable_support', 'nonrefundable_support', 'budget', 'financing_source']].isna().sum()/len(movie_rus)).round(4) * 100"
   ]
  },
  {
   "cell_type": "code",
   "execution_count": 24,
   "metadata": {},
   "outputs": [],
   "source": [
    "# заполним столбцы с числовыми пропусками значением 0, а источник финансирования значением \"неизвестен\"\n",
    "movie_rus[['refundable_support', 'nonrefundable_support', 'budget']] = movie_rus[['refundable_support', 'nonrefundable_support', 'budget']].\\\n",
    "fillna(0)\n",
    "movie_rus['financing_source'] = movie_rus['financing_source'].fillna('Неизвестен')"
   ]
  },
  {
   "cell_type": "markdown",
   "metadata": {},
   "source": [
    "Информация по гос. поддержкке пропущена в ~96% данных, восстановить их не представлется возможным. Поэтому заполнили числовые данные по финансированию нулевым значением, а источник финансирования указали \"Неизвестен\"."
   ]
  },
  {
   "cell_type": "markdown",
   "metadata": {},
   "source": [
    "<span style=\"color:blue\">**\"ratings\"**</span>"
   ]
  },
  {
   "cell_type": "code",
   "execution_count": 25,
   "metadata": {},
   "outputs": [],
   "source": [
    "# заполним пропуски в рейтинге значением 0\n",
    "movie_rus['ratings'] = movie_rus['ratings'].fillna(0)"
   ]
  },
  {
   "cell_type": "markdown",
   "metadata": {},
   "source": [
    "Информация о рейтинге фильма была пропущена в ~13% данных, возможно фильм на момент сбора данных только был выпущен в прокат или были недостаточно собраны данные о его рейтинге, т.к. данный показатель важен для дальнейшего анализа, но взять эти данные неоткуда, целесообразно было заполнить пропуски нулевым значением."
   ]
  },
  {
   "cell_type": "markdown",
   "metadata": {},
   "source": [
    "<span style=\"color:blue\">**\"genres\"**</span>"
   ]
  },
  {
   "cell_type": "code",
   "execution_count": 26,
   "metadata": {},
   "outputs": [
    {
     "data": {
      "text/plain": [
       "драма                           476\n",
       "комедия                         351\n",
       "мелодрама,комедия               222\n",
       "драма,мелодрама,комедия         189\n",
       "драма,мелодрама                 183\n",
       "                               ... \n",
       "мюзикл,мелодрама,фэнтези          1\n",
       "ужасы,фантастика,мелодрама        1\n",
       "документальный,спорт              1\n",
       "приключения,фантастика,драма      1\n",
       "биография,военный,драма           1\n",
       "Name: genres, Length: 741, dtype: int64"
      ]
     },
     "execution_count": 26,
     "metadata": {},
     "output_type": "execute_result"
    }
   ],
   "source": [
    "# посмотрим сколько жанров есть\n",
    "movie_rus['genres'].value_counts()"
   ]
  },
  {
   "cell_type": "code",
   "execution_count": 27,
   "metadata": {},
   "outputs": [],
   "source": [
    "# заполним пропуски значением \"не определен\"\n",
    "movie_rus['genres'] = movie_rus['genres'].fillna('не определен')"
   ]
  },
  {
   "cell_type": "markdown",
   "metadata": {},
   "source": [
    "В таблице представлено более 700 видов жанров, восстановить данные не представляется возможным. В связи с этим заполнили пропуски значением \"Не определен\"."
   ]
  },
  {
   "cell_type": "markdown",
   "metadata": {},
   "source": [
    "<span style=\"color:blue\">**\"box_office\"**</span>"
   ]
  },
  {
   "cell_type": "code",
   "execution_count": 28,
   "metadata": {},
   "outputs": [],
   "source": [
    "# заполним пропуски в кассовых сборах значением 0\n",
    "movie_rus['box_office'] = movie_rus['box_office'].fillna(0)"
   ]
  },
  {
   "cell_type": "markdown",
   "metadata": {},
   "source": [
    "Информация о кассовых сборах фильмов была пропущена в ~57% данных, возможно ситуация такая же как с определением рейтинга: фильм на момент сбора данных только вышел в прокат или информация не была предоставлена, т.к. данный показатель важен для дальнейшего анализа, но взять эти данные неоткуда, целесообразно было заполнить пропуски нулевым значением."
   ]
  },
  {
   "cell_type": "markdown",
   "metadata": {},
   "source": [
    "<div class=\"alert alert-block alert-success\">\n",
    " \n",
    "### Комментарий ревьюера\n",
    "    \n",
    "#### Успех\n",
    "    \n",
    "Отлично. С пропусками разобрались. "
   ]
  },
  {
   "cell_type": "markdown",
   "metadata": {
    "id": "4c6k1t9ygFyQ"
   },
   "source": [
    "###  Изучите дубликаты в датафрейме\n",
    "- Проверьте, есть ли в данных дубликаты. Опишите причины, которые могли повлиять на появление дублей."
   ]
  },
  {
   "cell_type": "code",
   "execution_count": 29,
   "metadata": {
    "id": "aKck8RIdgFyQ"
   },
   "outputs": [
    {
     "data": {
      "text/plain": [
       "0"
      ]
     },
     "execution_count": 29,
     "metadata": {},
     "output_type": "execute_result"
    }
   ],
   "source": [
    "# проверим есть ли дублирующиеся строки\n",
    "movie_rus.duplicated().sum()"
   ]
  },
  {
   "cell_type": "markdown",
   "metadata": {},
   "source": [
    "<div class=\"alert alert-block alert-success\">\n",
    " \n",
    "### Комментарий ревьюера\n",
    "    \n",
    "#### Успех\n",
    "    \n",
    "На явные дубликаты рассмотрели данные. "
   ]
  },
  {
   "cell_type": "markdown",
   "metadata": {},
   "source": [
    "В представленных данных уникальными могут быть только название фильма и номер прокатного удостоверения."
   ]
  },
  {
   "cell_type": "code",
   "execution_count": 30,
   "metadata": {},
   "outputs": [
    {
     "data": {
      "text/html": [
       "<div>\n",
       "<style scoped>\n",
       "    .dataframe tbody tr th:only-of-type {\n",
       "        vertical-align: middle;\n",
       "    }\n",
       "\n",
       "    .dataframe tbody tr th {\n",
       "        vertical-align: top;\n",
       "    }\n",
       "\n",
       "    .dataframe thead th {\n",
       "        text-align: right;\n",
       "    }\n",
       "</style>\n",
       "<table border=\"1\" class=\"dataframe\">\n",
       "  <thead>\n",
       "    <tr style=\"text-align: right;\">\n",
       "      <th></th>\n",
       "      <th>title</th>\n",
       "      <th>pu_number</th>\n",
       "      <th>show_start_date</th>\n",
       "      <th>type</th>\n",
       "      <th>film_studio</th>\n",
       "      <th>production_country</th>\n",
       "      <th>director</th>\n",
       "      <th>producer</th>\n",
       "      <th>age_restriction</th>\n",
       "      <th>refundable_support</th>\n",
       "      <th>nonrefundable_support</th>\n",
       "      <th>budget</th>\n",
       "      <th>financing_source</th>\n",
       "      <th>ratings</th>\n",
       "      <th>genres</th>\n",
       "      <th>box_office</th>\n",
       "    </tr>\n",
       "  </thead>\n",
       "  <tbody>\n",
       "    <tr>\n",
       "      <th>2</th>\n",
       "      <td>Особо опасен</td>\n",
       "      <td>221038416</td>\n",
       "      <td>2016-10-10</td>\n",
       "      <td>Художественный</td>\n",
       "      <td>Юниверсал Пикчерз, Кикстарт Продакшнз, Марк Пл...</td>\n",
       "      <td>США</td>\n",
       "      <td>Тимур Бекмамбетов</td>\n",
       "      <td>Джим Лемли, Джейсон Нетер, Марк Е.Платт, Яйн Смит</td>\n",
       "      <td>«18+» - запрещено для детей</td>\n",
       "      <td>0.0</td>\n",
       "      <td>0.0</td>\n",
       "      <td>0.0</td>\n",
       "      <td>Неизвестен</td>\n",
       "      <td>6.8</td>\n",
       "      <td>фантастика,боевик,триллер</td>\n",
       "      <td>0.0</td>\n",
       "    </tr>\n",
       "    <tr>\n",
       "      <th>3</th>\n",
       "      <td>Особо опасен</td>\n",
       "      <td>221026916</td>\n",
       "      <td>2016-06-10</td>\n",
       "      <td>Художественный</td>\n",
       "      <td>Юниверсал Пикчерз, Кикстарт Продакшнз, Марк Пл...</td>\n",
       "      <td>США</td>\n",
       "      <td>Тимур Бекмамбетов</td>\n",
       "      <td>Джим Лемли, Джейсон Нетер, Марк Е.Платт, Яйн Смит</td>\n",
       "      <td>«18+» - запрещено для детей</td>\n",
       "      <td>0.0</td>\n",
       "      <td>0.0</td>\n",
       "      <td>0.0</td>\n",
       "      <td>Неизвестен</td>\n",
       "      <td>6.8</td>\n",
       "      <td>фантастика,боевик,триллер</td>\n",
       "      <td>0.0</td>\n",
       "    </tr>\n",
       "    <tr>\n",
       "      <th>4</th>\n",
       "      <td>Особо опасен</td>\n",
       "      <td>221030815</td>\n",
       "      <td>2015-07-29</td>\n",
       "      <td>Художественный</td>\n",
       "      <td>Юниверсал Пикчерз, Кикстарт Продакшнз, Марк Пл...</td>\n",
       "      <td>США</td>\n",
       "      <td>Тимур Бекмамбетов</td>\n",
       "      <td>Джим Лемли, Джейсон Нетер, Марк Е.Платт, Яйн Смит</td>\n",
       "      <td>«18+» - запрещено для детей</td>\n",
       "      <td>0.0</td>\n",
       "      <td>0.0</td>\n",
       "      <td>0.0</td>\n",
       "      <td>Неизвестен</td>\n",
       "      <td>6.8</td>\n",
       "      <td>фантастика,боевик,триллер</td>\n",
       "      <td>0.0</td>\n",
       "    </tr>\n",
       "    <tr>\n",
       "      <th>12</th>\n",
       "      <td>Малышка на миллион /По мотивам рассказов Ф.Х.Т...</td>\n",
       "      <td>221011415</td>\n",
       "      <td>2015-04-03</td>\n",
       "      <td>Художественный</td>\n",
       "      <td>Уорнер Бразерс, Лейкшор Интертейнмент, Малпасо...</td>\n",
       "      <td>США</td>\n",
       "      <td>Клинт Иствуд</td>\n",
       "      <td>Клинт Иствуд, Том Розенберг, Альберт С.Рудди, ...</td>\n",
       "      <td>«16+» - для детей старше 16 лет</td>\n",
       "      <td>0.0</td>\n",
       "      <td>0.0</td>\n",
       "      <td>0.0</td>\n",
       "      <td>Неизвестен</td>\n",
       "      <td>8.1</td>\n",
       "      <td>драма,спорт</td>\n",
       "      <td>0.0</td>\n",
       "    </tr>\n",
       "    <tr>\n",
       "      <th>26</th>\n",
       "      <td>Оружейный барон</td>\n",
       "      <td>221012515</td>\n",
       "      <td>2015-04-03</td>\n",
       "      <td>Художественный</td>\n",
       "      <td>Вэ И Пэ Медиенфондс 3, Асендант Пикчерз, Сатур...</td>\n",
       "      <td>США - Франция - Турция</td>\n",
       "      <td>Эндрю Никкол</td>\n",
       "      <td>Норман Голуайтли, Энди Грош, Николас Кейдж, Эн...</td>\n",
       "      <td>«18+» - запрещено для детей</td>\n",
       "      <td>0.0</td>\n",
       "      <td>0.0</td>\n",
       "      <td>0.0</td>\n",
       "      <td>Неизвестен</td>\n",
       "      <td>7.7</td>\n",
       "      <td>боевик,драма,криминал</td>\n",
       "      <td>0.0</td>\n",
       "    </tr>\n",
       "  </tbody>\n",
       "</table>\n",
       "</div>"
      ],
      "text/plain": [
       "                                                title  pu_number  \\\n",
       "2                                        Особо опасен  221038416   \n",
       "3                                        Особо опасен  221026916   \n",
       "4                                        Особо опасен  221030815   \n",
       "12  Малышка на миллион /По мотивам рассказов Ф.Х.Т...  221011415   \n",
       "26                                    Оружейный барон  221012515   \n",
       "\n",
       "   show_start_date            type  \\\n",
       "2       2016-10-10  Художественный   \n",
       "3       2016-06-10  Художественный   \n",
       "4       2015-07-29  Художественный   \n",
       "12      2015-04-03  Художественный   \n",
       "26      2015-04-03  Художественный   \n",
       "\n",
       "                                          film_studio      production_country  \\\n",
       "2   Юниверсал Пикчерз, Кикстарт Продакшнз, Марк Пл...                     США   \n",
       "3   Юниверсал Пикчерз, Кикстарт Продакшнз, Марк Пл...                     США   \n",
       "4   Юниверсал Пикчерз, Кикстарт Продакшнз, Марк Пл...                     США   \n",
       "12  Уорнер Бразерс, Лейкшор Интертейнмент, Малпасо...                     США   \n",
       "26  Вэ И Пэ Медиенфондс 3, Асендант Пикчерз, Сатур...  США - Франция - Турция   \n",
       "\n",
       "             director                                           producer  \\\n",
       "2   Тимур Бекмамбетов  Джим Лемли, Джейсон Нетер, Марк Е.Платт, Яйн Смит   \n",
       "3   Тимур Бекмамбетов  Джим Лемли, Джейсон Нетер, Марк Е.Платт, Яйн Смит   \n",
       "4   Тимур Бекмамбетов  Джим Лемли, Джейсон Нетер, Марк Е.Платт, Яйн Смит   \n",
       "12       Клинт Иствуд  Клинт Иствуд, Том Розенберг, Альберт С.Рудди, ...   \n",
       "26       Эндрю Никкол  Норман Голуайтли, Энди Грош, Николас Кейдж, Эн...   \n",
       "\n",
       "                    age_restriction  refundable_support  \\\n",
       "2       «18+» - запрещено для детей                 0.0   \n",
       "3       «18+» - запрещено для детей                 0.0   \n",
       "4       «18+» - запрещено для детей                 0.0   \n",
       "12  «16+» - для детей старше 16 лет                 0.0   \n",
       "26      «18+» - запрещено для детей                 0.0   \n",
       "\n",
       "    nonrefundable_support  budget financing_source  ratings  \\\n",
       "2                     0.0     0.0       Неизвестен      6.8   \n",
       "3                     0.0     0.0       Неизвестен      6.8   \n",
       "4                     0.0     0.0       Неизвестен      6.8   \n",
       "12                    0.0     0.0       Неизвестен      8.1   \n",
       "26                    0.0     0.0       Неизвестен      7.7   \n",
       "\n",
       "                       genres  box_office  \n",
       "2   фантастика,боевик,триллер         0.0  \n",
       "3   фантастика,боевик,триллер         0.0  \n",
       "4   фантастика,боевик,триллер         0.0  \n",
       "12                драма,спорт         0.0  \n",
       "26      боевик,драма,криминал         0.0  "
      ]
     },
     "execution_count": 30,
     "metadata": {},
     "output_type": "execute_result"
    }
   ],
   "source": [
    "# проверим есть ли дублирование названия фильма\n",
    "movie_rus.loc[movie_rus['title'].duplicated(keep=False)].head()"
   ]
  },
  {
   "cell_type": "markdown",
   "metadata": {},
   "source": [
    "Такие данные есть, но возможно это значит, что премьера фильма состоялась в разных кинотеатрах, т.к. прокатные удостоверения не совпадают.\n",
    "\n",
    "Проверим дублирование прокатных удостоверений."
   ]
  },
  {
   "cell_type": "code",
   "execution_count": 31,
   "metadata": {},
   "outputs": [
    {
     "data": {
      "text/html": [
       "<div>\n",
       "<style scoped>\n",
       "    .dataframe tbody tr th:only-of-type {\n",
       "        vertical-align: middle;\n",
       "    }\n",
       "\n",
       "    .dataframe tbody tr th {\n",
       "        vertical-align: top;\n",
       "    }\n",
       "\n",
       "    .dataframe thead th {\n",
       "        text-align: right;\n",
       "    }\n",
       "</style>\n",
       "<table border=\"1\" class=\"dataframe\">\n",
       "  <thead>\n",
       "    <tr style=\"text-align: right;\">\n",
       "      <th></th>\n",
       "      <th>title</th>\n",
       "      <th>pu_number</th>\n",
       "      <th>show_start_date</th>\n",
       "      <th>type</th>\n",
       "      <th>film_studio</th>\n",
       "      <th>production_country</th>\n",
       "      <th>director</th>\n",
       "      <th>producer</th>\n",
       "      <th>age_restriction</th>\n",
       "      <th>refundable_support</th>\n",
       "      <th>nonrefundable_support</th>\n",
       "      <th>budget</th>\n",
       "      <th>financing_source</th>\n",
       "      <th>ratings</th>\n",
       "      <th>genres</th>\n",
       "      <th>box_office</th>\n",
       "    </tr>\n",
       "  </thead>\n",
       "  <tbody>\n",
       "    <tr>\n",
       "      <th>4638</th>\n",
       "      <td>Как жениться и остаться холостым</td>\n",
       "      <td>221154310</td>\n",
       "      <td>2010-12-17</td>\n",
       "      <td>Художественный</td>\n",
       "      <td>Ше Вам, Скрипт Ассосье, Тэ Фэ 1 Фильм Продюксь...</td>\n",
       "      <td>Франция</td>\n",
       "      <td>Эрик Лартиго</td>\n",
       "      <td>Амандин Било, Алан Шаба</td>\n",
       "      <td>«16+» - для детей старше 16 лет</td>\n",
       "      <td>0.0</td>\n",
       "      <td>0.0</td>\n",
       "      <td>0.0</td>\n",
       "      <td>Неизвестен</td>\n",
       "      <td>7.0</td>\n",
       "      <td>мелодрама,комедия</td>\n",
       "      <td>0.0</td>\n",
       "    </tr>\n",
       "    <tr>\n",
       "      <th>4639</th>\n",
       "      <td>Иоанна - женщина на папском престоле /По роман...</td>\n",
       "      <td>221154310</td>\n",
       "      <td>2010-12-17</td>\n",
       "      <td>Художественный</td>\n",
       "      <td>Константин Фильм, А Эр Ди Дегето Фильм, Дюне ...</td>\n",
       "      <td>Германия - Великобритания - Италия - Испания</td>\n",
       "      <td>Зенке Вортманн</td>\n",
       "      <td>Оливер Бербен, Дорис Д.Хайнце, Фарук Элтан</td>\n",
       "      <td>«16+» - для детей старше 16 лет</td>\n",
       "      <td>0.0</td>\n",
       "      <td>0.0</td>\n",
       "      <td>0.0</td>\n",
       "      <td>Неизвестен</td>\n",
       "      <td>7.6</td>\n",
       "      <td>драма,мелодрама,история</td>\n",
       "      <td>0.0</td>\n",
       "    </tr>\n",
       "    <tr>\n",
       "      <th>5067</th>\n",
       "      <td>Анализируй это!</td>\n",
       "      <td>221054410</td>\n",
       "      <td>2010-05-25</td>\n",
       "      <td>Художественный</td>\n",
       "      <td>Уорнер Бразерс, Вилладж Роудшоу Филмз ЛТД</td>\n",
       "      <td>США-Австралия</td>\n",
       "      <td>ХЭрольд Рэмис</td>\n",
       "      <td>Джейн Розенталь, Пола Уейнстейн</td>\n",
       "      <td>«16+» - для детей старше 16 лет</td>\n",
       "      <td>0.0</td>\n",
       "      <td>0.0</td>\n",
       "      <td>0.0</td>\n",
       "      <td>Неизвестен</td>\n",
       "      <td>7.4</td>\n",
       "      <td>комедия,криминал</td>\n",
       "      <td>0.0</td>\n",
       "    </tr>\n",
       "    <tr>\n",
       "      <th>5068</th>\n",
       "      <td>Анализируй то!</td>\n",
       "      <td>221054410</td>\n",
       "      <td>2010-05-25</td>\n",
       "      <td>Художественный</td>\n",
       "      <td>Уорнер Бразерс, Виллидж Роадшоу Пикчерз, Эн-Пи...</td>\n",
       "      <td>США</td>\n",
       "      <td>Гарольд Реймис</td>\n",
       "      <td>Джейн Розенталь, Паул Уэйнстейн</td>\n",
       "      <td>«12+» - для детей старше 12 лет</td>\n",
       "      <td>0.0</td>\n",
       "      <td>0.0</td>\n",
       "      <td>0.0</td>\n",
       "      <td>Неизвестен</td>\n",
       "      <td>6.8</td>\n",
       "      <td>комедия,криминал</td>\n",
       "      <td>0.0</td>\n",
       "    </tr>\n",
       "  </tbody>\n",
       "</table>\n",
       "</div>"
      ],
      "text/plain": [
       "                                                  title  pu_number  \\\n",
       "4638                   Как жениться и остаться холостым  221154310   \n",
       "4639  Иоанна - женщина на папском престоле /По роман...  221154310   \n",
       "5067                                    Анализируй это!  221054410   \n",
       "5068                                     Анализируй то!  221054410   \n",
       "\n",
       "     show_start_date            type  \\\n",
       "4638      2010-12-17  Художественный   \n",
       "4639      2010-12-17  Художественный   \n",
       "5067      2010-05-25  Художественный   \n",
       "5068      2010-05-25  Художественный   \n",
       "\n",
       "                                            film_studio  \\\n",
       "4638  Ше Вам, Скрипт Ассосье, Тэ Фэ 1 Фильм Продюксь...   \n",
       "4639   Константин Фильм, А Эр Ди Дегето Фильм, Дюне ...   \n",
       "5067          Уорнер Бразерс, Вилладж Роудшоу Филмз ЛТД   \n",
       "5068  Уорнер Бразерс, Виллидж Роадшоу Пикчерз, Эн-Пи...   \n",
       "\n",
       "                                production_country        director  \\\n",
       "4638                                       Франция    Эрик Лартиго   \n",
       "4639  Германия - Великобритания - Италия - Испания  Зенке Вортманн   \n",
       "5067                                 США-Австралия   ХЭрольд Рэмис   \n",
       "5068                                           США  Гарольд Реймис   \n",
       "\n",
       "                                        producer  \\\n",
       "4638                     Амандин Било, Алан Шаба   \n",
       "4639  Оливер Бербен, Дорис Д.Хайнце, Фарук Элтан   \n",
       "5067             Джейн Розенталь, Пола Уейнстейн   \n",
       "5068             Джейн Розенталь, Паул Уэйнстейн   \n",
       "\n",
       "                      age_restriction  refundable_support  \\\n",
       "4638  «16+» - для детей старше 16 лет                 0.0   \n",
       "4639  «16+» - для детей старше 16 лет                 0.0   \n",
       "5067  «16+» - для детей старше 16 лет                 0.0   \n",
       "5068  «12+» - для детей старше 12 лет                 0.0   \n",
       "\n",
       "      nonrefundable_support  budget financing_source  ratings  \\\n",
       "4638                    0.0     0.0       Неизвестен      7.0   \n",
       "4639                    0.0     0.0       Неизвестен      7.6   \n",
       "5067                    0.0     0.0       Неизвестен      7.4   \n",
       "5068                    0.0     0.0       Неизвестен      6.8   \n",
       "\n",
       "                       genres  box_office  \n",
       "4638        мелодрама,комедия         0.0  \n",
       "4639  драма,мелодрама,история         0.0  \n",
       "5067         комедия,криминал         0.0  \n",
       "5068         комедия,криминал         0.0  "
      ]
     },
     "execution_count": 31,
     "metadata": {},
     "output_type": "execute_result"
    }
   ],
   "source": [
    "movie_rus.loc[movie_rus['pu_number'].duplicated(keep=False)]"
   ]
  },
  {
   "cell_type": "code",
   "execution_count": 32,
   "metadata": {},
   "outputs": [],
   "source": [
    "movie_rus.loc[(movie_rus['title'] == 'Как жениться и остаться холостым') & (movie_rus['pu_number'] == '221154310'), 'pu_number'] =\\\n",
    "'221154310/1'\n",
    "movie_rus.loc[(movie_rus['title'] == 'Анализируй это!') & (movie_rus['pu_number'] == '221054410'), 'pu_number'] =\\\n",
    "'221054410/1'"
   ]
  },
  {
   "cell_type": "markdown",
   "metadata": {},
   "source": [
    "**По 2-м прокатным удостворениям проходило по 2 разных фильма, вполне возможно,что здесь сыграл человеческий фактор, поэтому прописали у дублируемых удостоверений новый номер.**"
   ]
  },
  {
   "cell_type": "markdown",
   "metadata": {},
   "source": [
    "<div class=\"alert alert-block alert-success\">\n",
    " \n",
    "### Комментарий ревьюера\n",
    "    \n",
    "#### Успех\n",
    "    \n",
    "И тут здорово получилось у тебя "
   ]
  },
  {
   "cell_type": "markdown",
   "metadata": {
    "id": "52fOPrEBgFyQ"
   },
   "source": [
    "###  Изучите категориальные значения\n",
    "\n",
    "- Посмотрите, какая общая проблема встречается почти во всех категориальных столбцах;\n",
    "- Исправьте проблемные значения в поле `type`.\n",
    "\n",
    "<div id=\"accordion\">\n",
    "    <div class=\"card\">\n",
    "        <div class=\"card-header\" id=\"headingThree\">\n",
    "            <button class=\"btn btn-link collapsed\" data-toggle=\"collapse\" data-target=\"#collapseHint_1\" aria-expanded=\"false\" aria-controls=\"collapseHint_1\">Подсказка</button>\n",
    "        </div>\n",
    "        <div id=\"collapseHint_1\" class=\"collapse\" aria-labelledby=\"headingThree\" data-parent=\"#accordion\">\n",
    "            <div class=\"card-body\">\n",
    "В поле <code>type</code> есть несколько значений, у которых появился пробел в начале строки. Самый простой способ их «починить» -- использовать метод <a href=\"https://pandas.pydata.org/docs/reference/api/pandas.Series.str.strip.html#pandas.Series.str.strip\">.str.strip</a>. Этот метод удаляет все пробелы, которые встречаются в начале и в конце строки. Применяют его таким образом:<br>\n",
    "<code>df['type'].str.strip()</code>\n",
    "            </div>\n",
    "        </div>\n",
    "    </div>\n",
    "</div>"
   ]
  },
  {
   "cell_type": "markdown",
   "metadata": {
    "id": "PnXKIVdFgFyR"
   },
   "source": [
    "<span style=\"color:blue\">**\"type\"**</span>"
   ]
  },
  {
   "cell_type": "code",
   "execution_count": 33,
   "metadata": {},
   "outputs": [
    {
     "data": {
      "text/plain": [
       "Художественный                4515\n",
       " Художественный               1384\n",
       "Анимационный                   828\n",
       "Прочие                         401\n",
       "Документальный                 280\n",
       "Научно-популярный               50\n",
       " Анимационный                    1\n",
       "Музыкально-развлекательный       1\n",
       "Name: type, dtype: int64"
      ]
     },
     "execution_count": 33,
     "metadata": {},
     "output_type": "execute_result"
    }
   ],
   "source": [
    "# проверим уникальные названия типов фильма\n",
    "movie_rus['type'].value_counts()"
   ]
  },
  {
   "cell_type": "code",
   "execution_count": 34,
   "metadata": {},
   "outputs": [],
   "source": [
    "# в наименованиях есть пробелы, исправим это\n",
    "movie_rus['type'] = movie_rus['type'].str.strip()"
   ]
  },
  {
   "cell_type": "markdown",
   "metadata": {
    "id": "PnXKIVdFgFyR"
   },
   "source": [
    "<span style=\"color:blue\">**\"film_studio\"**</span>"
   ]
  },
  {
   "cell_type": "code",
   "execution_count": 35,
   "metadata": {},
   "outputs": [
    {
     "data": {
      "text/plain": [
       "Киностудия \"Мосфильм\"                                                                                          341\n",
       "ООО \"Мульт в кино\"                                                                                              57\n",
       "Анимаккорд Лтд                                                                                                  23\n",
       "ООО \"Мульт в кино\"                                                                                              18\n",
       "ФГУП \"ТПО \"Киностудия \"Союзмультфильм\"                                                                          16\n",
       "                                                                                                              ... \n",
       "Лайт Шасер Анимейшн Студиос                                                                                      1\n",
       "Рускони Фильм, Гомон                                                                                             1\n",
       "Парамаунт Пикчерз, Спайгласс Интертейнмент, Хасбро, Ди Бонавентура Пикчерз, Соммерс Компани, Стиллкинг Филм      1\n",
       "ИП Галактионов Олег Евгеньевич                                                                                   1\n",
       "ФМГ Продакшн Технолоджи                                                                                          1\n",
       "Name: film_studio, Length: 5485, dtype: int64"
      ]
     },
     "execution_count": 35,
     "metadata": {},
     "output_type": "execute_result"
    }
   ],
   "source": [
    "# проверим уникальные названия студий-производителей\n",
    "movie_rus['film_studio'].value_counts()"
   ]
  },
  {
   "cell_type": "code",
   "execution_count": 36,
   "metadata": {},
   "outputs": [
    {
     "data": {
      "text/plain": [
       "5413"
      ]
     },
     "execution_count": 36,
     "metadata": {},
     "output_type": "execute_result"
    }
   ],
   "source": [
    "# на первый взгляд видны лишние пробелы,а также неявные дубликаты слова \"фильм\", попробуем максимально избавиться от них\n",
    "movie_rus['film_studio'] = movie_rus['film_studio'].str.lower().str.strip()\n",
    "\n",
    "movie_rus['film_studio'] = movie_rus['film_studio'].replace({'фильмз':'фильм', 'филмз':'фильм','фильмс':'фильм','филм':'фильм',\\\n",
    "                                                             'й':'и'},regex=True)\n",
    "len(movie_rus['film_studio'].value_counts())"
   ]
  },
  {
   "cell_type": "markdown",
   "metadata": {},
   "source": [
    "Очень много названий, где в создании фильма было задействовано много студий, получилось по-максимуму привести названия к единому виду. Было 5485, сократили до 5413."
   ]
  },
  {
   "cell_type": "markdown",
   "metadata": {
    "id": "PnXKIVdFgFyR"
   },
   "source": [
    "<span style=\"color:blue\">**\"production_country\"**</span>"
   ]
  },
  {
   "cell_type": "code",
   "execution_count": 37,
   "metadata": {},
   "outputs": [
    {
     "name": "stdout",
     "output_type": "stream",
     "text": [
      "950\n"
     ]
    },
    {
     "data": {
      "text/plain": [
       "[' СССР',\n",
       " ' СССР ',\n",
       " ' СССР   ',\n",
       " '2019',\n",
       " 'CША',\n",
       " 'Австралия',\n",
       " 'Австралия - Великобритания - Бельгия - Индия',\n",
       " 'Австралия - Германия',\n",
       " 'Австралия - Ирландия',\n",
       " 'Австралия - Колумбия',\n",
       " 'Австралия - США',\n",
       " 'Австралия, Канада',\n",
       " 'Австралия, США',\n",
       " 'Австралия-Великобритания',\n",
       " 'Австралия-Ирландия',\n",
       " 'Австралия-США',\n",
       " 'Австралия-Турция-США',\n",
       " 'Австрия',\n",
       " 'Австрия - Германия',\n",
       " 'Австрия - Германия - Франция',\n",
       " 'Австрия - Люксембург',\n",
       " 'Австрия, Великобритания, Германия',\n",
       " 'Австрия-Германия-Франция',\n",
       " 'Австрия-Франция-Германия',\n",
       " 'Азербайджан-Россия',\n",
       " 'Аргентина',\n",
       " 'Аргентина - Бразилия',\n",
       " 'Аргентина - Испания',\n",
       " 'Аргентина - Испания - Уругвай',\n",
       " 'Аргентина - Мексика - Бразилия - Франция - США',\n",
       " 'Аргентина - Уругвай - Россия - Германия - Франция - Нидерланды',\n",
       " 'Аргентина - Франция - Испания',\n",
       " 'Аргентина, Испания',\n",
       " 'Аргентина-Испания',\n",
       " 'Армения',\n",
       " 'Армения - Германия',\n",
       " 'Армения - Казахстан',\n",
       " 'Армения-Россия',\n",
       " 'Бельгия',\n",
       " 'Бельгия - Германия - Люксембург',\n",
       " 'Бельгия - Германия - Люксембург - Франция',\n",
       " 'Бельгия - Испания - Канада - Нидерланды',\n",
       " 'Бельгия - Италия - Франция ',\n",
       " 'Бельгия - Люксембург',\n",
       " 'Бельгия - Люксембург - Франция - Швейцария',\n",
       " 'Бельгия - Нидерланды - Франция',\n",
       " 'Бельгия - США',\n",
       " 'Бельгия - Франция',\n",
       " 'Бельгия - Франция - Люксембург',\n",
       " 'Бельгия, Великобритания, США',\n",
       " 'Бельгия, Канада',\n",
       " 'Бельгия-Германия-Канада-Франция-США-Великобритания',\n",
       " 'Бельгия-Нидерланды',\n",
       " 'Бельгия-Франция',\n",
       " 'Бельгия-Франция-Италия',\n",
       " 'Болгария',\n",
       " 'Болгария - США',\n",
       " 'Болгария - Франция - Изриль',\n",
       " 'Босния и Герцеговина - Франция - Великобритания - Германия - Словения - Бельгия - Сербия',\n",
       " 'Бразилия',\n",
       " 'Бразилия - Германия - Порртугалия - Франция ',\n",
       " 'Бразилия - Испания',\n",
       " 'Бразилия - К;анада',\n",
       " 'Бразилия - Канада - США',\n",
       " 'Бразилия - Португалия - Франция',\n",
       " 'Бразилия - США',\n",
       " 'Бразилия - США - КНР ',\n",
       " 'Бразилия, Уругвай, Дания, Норвегия, Чили, Швеция',\n",
       " 'Великобритания',\n",
       " 'Великобритания ',\n",
       " 'Великобритания - Австралия - США',\n",
       " 'Великобритания - Австрия - Германия',\n",
       " 'Великобритания - Австрия - Франция - США',\n",
       " 'Великобритания - Аргентина - США - Франция - Россия - Испания',\n",
       " 'Великобритания - Германия',\n",
       " 'Великобритания - Германия - Нидерланды - Дания',\n",
       " 'Великобритания - Германия - США',\n",
       " 'Великобритания - Германия - Франция - Кипр - США',\n",
       " 'Великобритания - Гонконг - Венгрия - США - Ирландия',\n",
       " 'Великобритания - Дания',\n",
       " 'Великобритания - Израиль',\n",
       " 'Великобритания - Израиль - Франция - Япония - США',\n",
       " 'Великобритания - Ирландия',\n",
       " 'Великобритания - Ирландия - США',\n",
       " 'Великобритания - Ирландия - США ',\n",
       " 'Великобритания - Исландия - Испания - Швейцария - США',\n",
       " 'Великобритания - Испания',\n",
       " 'Великобритания - Испания - Германия',\n",
       " 'Великобритания - Испания - Италия - Латвия - Франция - Эстония',\n",
       " 'Великобритания - Испания - Непал - Индия - Венгрия - Гонконг - Германия - Дания - Бахрейн',\n",
       " 'Великобритания - Италия',\n",
       " 'Великобритания - Италия - Испания',\n",
       " 'Великобритания - Италия - Швейцария',\n",
       " 'Великобритания - КНР',\n",
       " 'Великобритания - Канада',\n",
       " 'Великобритания - Канада - США',\n",
       " 'Великобритания - Люксембург',\n",
       " 'Великобритания - Мексика - США',\n",
       " 'Великобритания - Нидерланды - Германия - Франция - Бельгия - Австрия ',\n",
       " 'Великобритания - Нидерланды - Франция - США',\n",
       " 'Великобритания - Нидерланды - Франция - Хорватия',\n",
       " 'Великобритания - Новая Зеландия',\n",
       " 'Великобритания - Норвегия - Дания - Германия',\n",
       " 'Великобритания - Норвегия - Кения - Хорватия',\n",
       " 'Великобритания - Польша',\n",
       " 'Великобритания - Польша - КНР - Индия - Норвегия',\n",
       " 'Великобритания - Пуэрто-Рико',\n",
       " 'Великобритания - Россия - КНР',\n",
       " 'Великобритания - Россия - Украина - США',\n",
       " 'Великобритания - Румыния',\n",
       " 'Великобритания - США',\n",
       " 'Великобритания - США - Австралия - Ирландия - Германия - Куба - Канада',\n",
       " 'Великобритания - США - Германия',\n",
       " 'Великобритания - США - Германия - Бельгия',\n",
       " 'Великобритания - США - Германия - Канада - Австралия',\n",
       " 'Великобритания - США - Индия',\n",
       " 'Великобритания - США - Канада',\n",
       " 'Великобритания - США - Канада - Бельгия - Нидерланды - Австрия - Германия',\n",
       " 'Великобритания - США - Канада - Нидерланды - Франция',\n",
       " 'Великобритания - США - Россия',\n",
       " 'Великобритания - США - Франция',\n",
       " 'Великобритания - США - Швейцария',\n",
       " 'Великобритания - Франция',\n",
       " 'Великобритания - Франция - Австрия - Швеция',\n",
       " 'Великобритания - Франция - Бельгия',\n",
       " 'Великобритания - Франция - Бельгия - Италия',\n",
       " 'Великобритания - Франция - Бельгия - США',\n",
       " 'Великобритания - Франция - Венгрия',\n",
       " 'Великобритания - Франция - Германия',\n",
       " 'Великобритания - Франция - Германия - США',\n",
       " 'Великобритания - Франция - Италия',\n",
       " 'Великобритания - Франция - Италия - Индия - Дания - КНР - Бангладеш - Камбоджа - Гаити - Уганда',\n",
       " 'Великобритания - Франция - Италия - США',\n",
       " 'Великобритания - Франция - Республика Кипр - Швейцария - США - Сербия',\n",
       " 'Великобритания - Франция - США',\n",
       " 'Великобритания - Франция - Швеция - Бельгия',\n",
       " 'Великобритания - Чехия - Франция',\n",
       " 'Великобритания - Чехия - Франция - Италия',\n",
       " 'Великобритания - ЮАР',\n",
       " 'Великобритания - Япония - США',\n",
       " 'Великобритания, Австралия',\n",
       " 'Великобритания, Германия, Дания, США',\n",
       " 'Великобритания, Канада',\n",
       " 'Великобритания, Канада, США',\n",
       " 'Великобритания, Нидерланды, Польша, Швейцария, Франция',\n",
       " 'Великобритания, Новая Зеландия',\n",
       " 'Великобритания, США',\n",
       " 'Великобритания, США, Испания',\n",
       " 'Великобритания, Франция',\n",
       " 'Великобритания, Франция, Бельгия',\n",
       " 'Великобритания, Швеция, США',\n",
       " 'Великобритания, Южная Корея, Канада, США, Индия, Китай, Япония',\n",
       " 'Великобритания, Япония, США',\n",
       " 'Великобритания-Австралия - США',\n",
       " 'Великобритания-Венгрия',\n",
       " 'Великобритания-Германия-Канада-ЮАР',\n",
       " 'Великобритания-США',\n",
       " 'Великобритания-США-Германия-КНР',\n",
       " 'Великобритания-США-Франция',\n",
       " 'Великобритания-Франция',\n",
       " 'Великобритания-Франция-Германия',\n",
       " 'Великобритания-Франция-Италия',\n",
       " 'Венгрия',\n",
       " 'Венгрия - Германия - Швеция',\n",
       " 'Венесуэла',\n",
       " 'Германия',\n",
       " 'Германия - Австралия',\n",
       " 'Германия - Австрия',\n",
       " 'Германия - Австрия - Ирландия',\n",
       " 'Германия - Австрия - Франция',\n",
       " 'Германия - Аргентина - Нидерланды - Чили',\n",
       " 'Германия - Бельгия',\n",
       " 'Германия - Бельгия - Великобритания',\n",
       " 'Германия - Бельгия - Люксембург - Ирландия',\n",
       " 'Германия - Бельгия - Люксембург - Норвегия',\n",
       " 'Германия - Бельгия - США -Франция',\n",
       " 'Германия - Великобритания',\n",
       " 'Германия - Великобритания - Австрия',\n",
       " 'Германия - Великобритания - Италия - Испания',\n",
       " 'Германия - Великобритания - США',\n",
       " 'Германия - Дания - Испания - Швеция - Канада - Эстония - Франция',\n",
       " 'Германия - Дания - Норвегия',\n",
       " 'Германия - Исландия',\n",
       " 'Германия - Италия',\n",
       " 'Германия - Италия - США',\n",
       " 'Германия - Италия - Франция',\n",
       " 'Германия - Канада',\n",
       " 'Германия - Китай',\n",
       " 'Германия - Люксембург - Бельгия',\n",
       " 'Германия - Люксембург - Дания',\n",
       " 'Германия - Люксембург - Франция',\n",
       " 'Германия - Нидерланды - Беларусь - Россия - Латвия',\n",
       " 'Германия - Нидерланды - ЮАР',\n",
       " 'Германия - Россия',\n",
       " 'Германия - США',\n",
       " 'Германия - США - Великобритания - Израиль',\n",
       " 'Германия - США - Великобритания - Ирландия',\n",
       " 'Германия - США - Франция - Испания',\n",
       " 'Германия - США - Швеция - Франция',\n",
       " 'Германия - Финляндия - Австралия',\n",
       " 'Германия - Франция',\n",
       " 'Германия - Франция -  Польша - Турция - Канада - Италия - Россия ',\n",
       " 'Германия - Франция - Австрия',\n",
       " 'Германия - Франция - Бельгия',\n",
       " 'Германия - Франция - Великобритания - Польша - США',\n",
       " 'Германия - Франция - Канада',\n",
       " 'Германия - Франция - Люксембург',\n",
       " 'Германия - Франция - Польша',\n",
       " 'Германия - Швейцария',\n",
       " 'Германия - Швейцария - Франция - Южная Корея - США',\n",
       " 'Германия, Австралия',\n",
       " 'Германия, Бельгия',\n",
       " 'Германия, Россия',\n",
       " 'Германия, США',\n",
       " 'Германия, Франция',\n",
       " 'Германия, Франция, Великобритания',\n",
       " 'Германия, Франция, США',\n",
       " 'Германия-Австрия',\n",
       " 'Германия-Австрия-Франция-Италия',\n",
       " 'Германия-Великобритания',\n",
       " 'Германия-Израиль',\n",
       " 'Германия-Италия- Шри-Ланка',\n",
       " 'Германия-Италия-Швейцария',\n",
       " 'Германия-Канада-Великобритания-Швейцария-Франция',\n",
       " 'Германия-Канада-Франция-Бельгия',\n",
       " 'Германия-Кения',\n",
       " 'Германия-США',\n",
       " 'Германия-Украина-Нидерланды',\n",
       " 'Германия-Франция-Великобритания',\n",
       " 'Германия-Франция-Великобритания-США',\n",
       " 'Германия-Франция-Польша',\n",
       " 'Германия-Швеция',\n",
       " 'Голландия',\n",
       " 'Гонконг',\n",
       " 'Гонконг - КНР',\n",
       " 'Гонконг - Сингапур - Таиланд - Великобритания',\n",
       " 'Гонконг, КНР',\n",
       " 'Греция',\n",
       " 'Греция - Германия - Франция',\n",
       " 'Греция - Россия',\n",
       " 'Грузия',\n",
       " 'Грузия - Россия - Украина - Хорватия - Германия',\n",
       " 'Грузия - Украина',\n",
       " 'Грузия - Франция - Люксембург',\n",
       " 'Грузия-Россия',\n",
       " 'Грузия-Франция',\n",
       " 'Дания',\n",
       " 'Дания - Австрия - Ирландия - Финляндия - Норвегия - Швеция - Нидерланды',\n",
       " 'Дания - Великобритания - ЮАР',\n",
       " 'Дания - Германия',\n",
       " 'Дания - Германия - Швеция',\n",
       " 'Дания - Исландия',\n",
       " 'Дания - Канада - Швеция - Франция - Германия - Великобритания - США',\n",
       " 'Дания - Латвия - Россия - США',\n",
       " 'Дания - Норвегия - Великобритания',\n",
       " 'Дания - США',\n",
       " 'Дания - Франция - Германия - Швеция',\n",
       " 'Дания - Франция - Италия - Бельгия - Нидерланды',\n",
       " 'Дания - Швейцария - Бельгия - Франция',\n",
       " 'Дания - Швеция',\n",
       " 'Дания - Швеция - Великобритания - Франция - Германия - Нидерланды - Норвегия - Финляндия',\n",
       " 'Дания - Швеция - Италия - Франция - Германия',\n",
       " 'Дания, Канада, Норвегия, Австралия, США',\n",
       " 'Дания, Норвегия, Венгрия, Чехия',\n",
       " 'Дания, Норвегия, Швеция, Исландия',\n",
       " 'Дания, Швеция, Великобритания, Франция, Германия, Норвегия, Финляндия, Нидерланды, Италия',\n",
       " 'Дания-Франция-Бельгия-Германия-Великобритания',\n",
       " 'Дания-Швеция-Франция-Германия',\n",
       " 'Израиль',\n",
       " 'Израиль - Германия - Польша - Бельгия - Франция - Люксембург',\n",
       " 'Израиль - Германия - Франция - Швейцария',\n",
       " 'Израиль - Франция',\n",
       " 'Израиль - Франция - Великобритания - Германия',\n",
       " 'Израиль - Франция - Германия - Палестина - США - Австрия - Великобритания',\n",
       " 'Израиль, Украина',\n",
       " 'Израиль-США-Франция',\n",
       " 'Индия',\n",
       " 'Индия - Великобритания',\n",
       " 'Индия - КНР',\n",
       " 'Индия - Мексика',\n",
       " 'Индия - США',\n",
       " 'Индонезия',\n",
       " 'Иран',\n",
       " 'Иран ',\n",
       " 'Иран, Франция',\n",
       " 'Ирландия',\n",
       " 'Ирландия - Великобритания - Канада',\n",
       " 'Ирландия - Великобритания - США',\n",
       " 'Ирландия - Великобритания - Франция - США',\n",
       " 'Ирландия - Великобритания - Франция - США - Германия - Нидерланды',\n",
       " 'Ирландия - Дания - Бельгия - Люксембург - Франция',\n",
       " 'Ирландия - США',\n",
       " 'Ирландия - Финляндия - Бельгия - Великобритания - США - Швейцария',\n",
       " 'Ирландия, Великобритания',\n",
       " 'Ирландия, Канада',\n",
       " 'Ирландия-Великобритания',\n",
       " 'Ирландия-Великобритания-Германия',\n",
       " 'Ирландия-Нидерланды-Франция-США-Великобритания',\n",
       " 'Исландия',\n",
       " 'Исландия - Финляндия',\n",
       " 'Исландия, Бельгия',\n",
       " 'Исландия-Ирландия-Германия',\n",
       " 'Испания',\n",
       " 'Испания - Аргентина',\n",
       " 'Испания - Аргентина - Индия - США',\n",
       " 'Испания - Бельгия - Франция - Португалия - Великобритания',\n",
       " 'Испания - Болгария - США',\n",
       " 'Испания - Великобритания - Франция',\n",
       " 'Испания - Германия - Нидерланды',\n",
       " 'Испания - Италия - Франция',\n",
       " 'Испания - Канада',\n",
       " 'Испания - Канада - Япония',\n",
       " 'Испания - Куба',\n",
       " 'Испания - Мальта',\n",
       " 'Испания - Мексика',\n",
       " 'Испания - США',\n",
       " 'Испания - США - Великобритания - Канада',\n",
       " 'Испания - США - Колумбия',\n",
       " 'Испания - Уругвай - Аргентина',\n",
       " 'Испания - Франция',\n",
       " 'Испания - Франция - Нидерланды - Германия - Бельгия - Великобритания - Канада',\n",
       " 'Испания - Франция - США - Великобритания - Бельгия',\n",
       " 'Испания - Швейцария - Великобритания - Германия - Новая Зеландия - Нидерланды - Канада',\n",
       " 'Испания, Ирландия, Бельгия, Франция',\n",
       " 'Испания, Франция, Великобритания, Дания, Бельгия, Германия',\n",
       " 'Испания, Франция, Италия',\n",
       " 'Испания-Аргентина',\n",
       " 'Испания-Канада',\n",
       " 'Испания-Колумбия',\n",
       " 'Испания-Мексика',\n",
       " 'Испания-Франция-Греция-Индия-США-Россия-Великобритания',\n",
       " 'Италия',\n",
       " 'Италия ',\n",
       " 'Италия - Аргентина - Словения ',\n",
       " 'Италия - Бельгия - Франция',\n",
       " 'Италия - Канада',\n",
       " 'Италия - Россия',\n",
       " 'Италия - США',\n",
       " 'Италия - Франция',\n",
       " 'Италия - Франция - Германия',\n",
       " 'Италия - Франция - Швейцария',\n",
       " 'Италия - Франция - Швейцария - Великобритания',\n",
       " 'Италия - Фрация - Бразилия - Германия',\n",
       " 'Италия - Швейцария - Германия',\n",
       " 'Италия, Германия',\n",
       " 'Италия, Испания',\n",
       " 'Италия, Франция',\n",
       " 'Италия, Франция, Германия',\n",
       " 'Италия-Великобритания',\n",
       " 'Италия-США',\n",
       " 'Италия-Франция',\n",
       " 'Италия-Франция-Великобритания',\n",
       " 'Италия-Швейцария',\n",
       " 'Италия-Швейцария-Франция-Германия ',\n",
       " 'КНР',\n",
       " 'КНР - Гонконг',\n",
       " 'КНР - Гонконг - США',\n",
       " 'КНР - Канада - США',\n",
       " 'КНР - США',\n",
       " 'КНР - США ',\n",
       " 'КНР - Сингапур',\n",
       " 'КНР - Франция',\n",
       " 'КНР, Индия, Гонконг, США',\n",
       " 'КНР, США',\n",
       " 'КНР-США',\n",
       " 'Казахстан',\n",
       " 'Канада',\n",
       " 'Канада - Германия',\n",
       " 'Канада - Испания',\n",
       " 'Канада - Италия',\n",
       " 'Канада - КНР',\n",
       " 'Канада - Мексика',\n",
       " 'Канада - Норвегия',\n",
       " 'Канада - США',\n",
       " 'Канада - США - Германия - Франция',\n",
       " 'Канада - США - Нидерланды - Великобритания - Аргентина',\n",
       " 'Канада - Франция',\n",
       " 'Канада - Франция - Великобритания',\n",
       " 'Канада - Франция - Испания',\n",
       " 'Канада - Франция - США - ОАЭ - Великобритания',\n",
       " 'Канада - Южная Корея',\n",
       " 'Канада, Великобритания',\n",
       " 'Канада, США',\n",
       " 'Канада, США, Каймановы острова',\n",
       " 'Канада, США, Норвегия',\n",
       " 'Канада, Франция, Италия, Швейцария, США',\n",
       " 'Канада- Испания',\n",
       " 'Канада-Бразилия-Япония',\n",
       " 'Канада-Великобритания',\n",
       " 'Канада-Германия',\n",
       " 'Канада-США',\n",
       " 'Канада-Франция',\n",
       " 'Канада-ЮАР',\n",
       " 'Канада-Южная Корея-США',\n",
       " 'Кения, Германия',\n",
       " 'Киргизия',\n",
       " 'Киргизия-Россия',\n",
       " 'Китай',\n",
       " 'Китай - Гонконг',\n",
       " 'Китай, Канада, США',\n",
       " 'Китай, США',\n",
       " 'Китай-Гонконг',\n",
       " 'Китай-Гонконг-США',\n",
       " 'Княжество Андорра - Украина',\n",
       " 'Колумбия',\n",
       " 'Колумбия - США',\n",
       " 'Корея',\n",
       " 'Латвия - Россия',\n",
       " 'Латвия - Франция',\n",
       " 'Ливан-США',\n",
       " 'Литва - Венгрия',\n",
       " 'Литва-Россия-Украина',\n",
       " 'Люксембург - Бельгия - Франция',\n",
       " 'Люксембург - Нидерланды - Испания - Великобритания - США - Италия',\n",
       " 'Македония - Франция - Великобритания',\n",
       " 'Малайзия',\n",
       " 'Малайзия - США',\n",
       " 'Мексика',\n",
       " 'Мексика - Аргентина - Великобритания',\n",
       " 'Мексика - Испания',\n",
       " 'Мексика - Испания - Дания - США',\n",
       " 'Мексика - Нидерланды - Германия - Франция',\n",
       " 'Мексика - США',\n",
       " 'Мексика - Тайвань - США',\n",
       " 'Мексика - Франция',\n",
       " 'Мексика - Франция - Нидерланды - Германия',\n",
       " 'Мексика - Чили',\n",
       " 'Мексика - Эквадор - Канада - США - Франция - Малайзия - Италия - Аргентина - Германия - Индия  ',\n",
       " 'Мексика, Франция, Германия, Дания, Швеция',\n",
       " 'Мексика-Аргентина',\n",
       " 'Монголия',\n",
       " 'Нидерланды',\n",
       " 'Нидерланды - Бельгия - Болгария',\n",
       " 'Нидерланды - Бельгия - Германия - Ирландия',\n",
       " 'Нидерланды - Бельгия - Люксембург',\n",
       " 'Нидерланды - Великобритания - Бельгия',\n",
       " 'Нидерланды - Россия',\n",
       " 'Нидерланды - Россия - Германия',\n",
       " 'Нидерланды - США - Германия - Канада - Франция - Ирландия - Великобритания',\n",
       " 'Нидерланды - Франция - Германия - Бельгия - Швеция - Великобритания',\n",
       " 'Нидерланды, Бельгия',\n",
       " 'Нидерланды, Бельгия, Люксембург',\n",
       " 'Нидерланды-Великобритания-Франция-Италия-Япония',\n",
       " 'Новая Зеландия',\n",
       " 'Новая Зеландия - КНР',\n",
       " 'Новая Зеландия - США',\n",
       " 'Норвегия',\n",
       " 'Норвегия - Азербайджан - Россия - Колумбия - Великобритания - Венгрия - Румыния - Франция - Грузия',\n",
       " 'Норвегия - Дания - Швеция',\n",
       " 'Норвегия - Исландия - США - Великобритания ',\n",
       " 'Норвегия - Нидерланды',\n",
       " 'Норвегия - США',\n",
       " 'Норвегия - Швеция',\n",
       " 'Норвегия - Швеция - Дания - Германия',\n",
       " 'Норвегия - Швеция - Россия',\n",
       " 'Норвегия, Швеция, Дания',\n",
       " 'Норвения',\n",
       " 'ОАЭ - США',\n",
       " 'Пакистан',\n",
       " 'Парагвай',\n",
       " 'Перу',\n",
       " 'Польша',\n",
       " 'Польша - Ирландия',\n",
       " 'Польша - Италия - Россия',\n",
       " 'Польша - Португалия - Франция - Великобритания',\n",
       " 'Польша - Франция',\n",
       " 'Польша - Франция - Великобритания',\n",
       " 'Польша - Франция - Испания - Бразилия - Швеция',\n",
       " 'Португалия',\n",
       " 'Португалия - Франция',\n",
       " 'Португалия, Франция, Польша, США',\n",
       " 'Пуэрто-Рико, Великобритания, США',\n",
       " 'Республика Армения',\n",
       " 'Республика Беларусь',\n",
       " 'Республика Беларусь, Германия, США, Россия',\n",
       " 'Республика Казахстан',\n",
       " 'Республика Кипр',\n",
       " 'Республика Кипр - Россия',\n",
       " 'Республика Кипр, Россия',\n",
       " 'Республика Кипр, США, Россия',\n",
       " 'Республика Кипр-Россия',\n",
       " 'Республика Корея',\n",
       " 'Республика Узбекистан',\n",
       " 'Россия',\n",
       " 'Россия - Азербайджан',\n",
       " 'Россия - Болгария',\n",
       " 'Россия - Германия',\n",
       " 'Россия - Германия - Украина',\n",
       " 'Россия - Германия - Швейцария',\n",
       " 'Россия - Грузия',\n",
       " 'Россия - Италия',\n",
       " 'Россия - Казахстан',\n",
       " 'Россия - Польша',\n",
       " 'Россия - Республика Кипр',\n",
       " 'Россия - США',\n",
       " 'Россия - Франция - Великобритания - Латвия',\n",
       " 'Россия - Эстония - Финляндия - Беларусь',\n",
       " 'Россия,  Испания',\n",
       " 'Россия, Австрия',\n",
       " 'Россия, Армения',\n",
       " 'Россия, Бельгия, Финляндия',\n",
       " 'Россия, Германия',\n",
       " 'Россия, Германия, Великобритания',\n",
       " 'Россия, Германия, Казахстан, Польша, Китай',\n",
       " 'Россия, Германия, Франция, Бельгия',\n",
       " 'Россия, Грузия, Испания',\n",
       " 'Россия, Грузия, Хорватия, Испания',\n",
       " 'Россия, Испания',\n",
       " 'Россия, Италия',\n",
       " 'Россия, Казахстан, США',\n",
       " 'Россия, Латвия, Чешская Республика',\n",
       " 'Россия, Нидерланды, Финляндия',\n",
       " 'Россия, Польша, Финляндия',\n",
       " 'Россия, Республика Беларусь',\n",
       " 'Россия, Республика Кипр',\n",
       " 'Россия, Румыния',\n",
       " 'Россия, Сербия',\n",
       " 'Россия, Таджикистан',\n",
       " 'Россия, Украина',\n",
       " 'Россия, Украина, Польша',\n",
       " 'Россия, Украина, Республика Беларусь, Литва',\n",
       " 'Россия, Франция, Германия, Бельгия',\n",
       " 'Россия, Франция, Латвия',\n",
       " 'Россия-Азербайджан',\n",
       " 'Россия-Беларусь',\n",
       " 'Россия-Белоруссия',\n",
       " 'Россия-Германия',\n",
       " 'Россия-Ирландия',\n",
       " 'Россия-Италия',\n",
       " 'Россия-Казахстан',\n",
       " 'Россия-Кипр',\n",
       " 'Россия-Китай',\n",
       " 'Россия-Польша',\n",
       " 'Россия-Польша-Голландия-Словакия',\n",
       " 'Россия-США',\n",
       " 'Россия-США-Канада-Люксембург',\n",
       " 'Россия-Словакия-Чехия',\n",
       " 'Россия-Украина',\n",
       " 'Россия-Украина-Германия',\n",
       " 'Россия-Франция',\n",
       " 'Румыния',\n",
       " 'Румыния - Франция - Бельгия',\n",
       " 'Румыния, ЮАР, Иран, Франция, Канада, Великобритания',\n",
       " 'Румыния-США',\n",
       " 'СССР',\n",
       " 'СССР ',\n",
       " 'СССР  ',\n",
       " 'СССР   ',\n",
       " 'СССР    ',\n",
       " 'СССР     ',\n",
       " 'СССР - ГДР - Польша - Италия',\n",
       " 'СССР - Италия',\n",
       " 'СССР - Швейцария - Франция',\n",
       " 'СССР, Албания',\n",
       " 'СССР, Афганистан',\n",
       " 'СССР, ВНР',\n",
       " 'СССР, Венгрия',\n",
       " 'СССР, Венгрия, ЧССР, ГДР',\n",
       " 'СССР, ГДР',\n",
       " 'СССР, Италия',\n",
       " 'СССР, Монголия',\n",
       " 'СССР, Польша',\n",
       " 'СССР, Россия',\n",
       " 'СССР, Румыния, Франция',\n",
       " 'СССР, ФРГ',\n",
       " 'СССР, ФРГ, Западный Берлин',\n",
       " 'СССР, Финляндия',\n",
       " 'СССР, Франция, Англия, Куба, ГДР',\n",
       " 'СССР, ЧССР, Западный Берлин, ПНР',\n",
       " 'СССР, Швеция',\n",
       " 'США',\n",
       " 'США ',\n",
       " 'США - Австралия',\n",
       " 'США - Австралия - Дания',\n",
       " 'США - Австралия - Индия',\n",
       " 'США - Австралия - Мексика',\n",
       " 'США - Австралия - Новая Зеландия - Великобритания',\n",
       " 'США - Австралия - Франция',\n",
       " 'США - Бельгия',\n",
       " 'США - Бельгия - Великобритания',\n",
       " 'США - Болгария - Мексика',\n",
       " 'США - Бразилия - Великобритания - Канада',\n",
       " 'США - Бразилия - Франция - Австралия - Великобритания - Германия',\n",
       " 'США - Великобритания',\n",
       " 'США - Великобритания ',\n",
       " 'США - Великобритания - Австралия',\n",
       " 'США - Великобритания - Болгария',\n",
       " 'США - Великобритания - Германия',\n",
       " 'США - Великобритания - Германия - - Швеция - Канада',\n",
       " 'США - Великобритания - Германия - Бельгия - Дания',\n",
       " 'США - Великобритания - Германия - Новая Зеландия - Бельгия - Франция',\n",
       " 'США - Великобритания - Ирландия',\n",
       " 'США - Великобритания - Исландия',\n",
       " 'США - Великобритания - Испания',\n",
       " 'США - Великобритания - Италия - Израиль - Сербия - Индия',\n",
       " 'США - Великобритания - КНР',\n",
       " 'США - Великобритания - Канада',\n",
       " 'США - Великобритания - Канада - КНР',\n",
       " 'США - Великобритания - Канада - Швеция',\n",
       " 'США - Великобритания - Новая Зеландия',\n",
       " 'США - Великобритания - Франция',\n",
       " 'США - Великобритания - Франция - Гонконг',\n",
       " 'США - Великобритания - Чехия',\n",
       " 'США - Великобритания - Швейцария - Франция',\n",
       " 'США - Великобритания - Швеция',\n",
       " 'США - Великобритания - Япония',\n",
       " 'США - Великобритания- Франция - Швеция',\n",
       " 'США - Венгрия - Великобритания',\n",
       " 'США - Вьетнам',\n",
       " 'США - Германия',\n",
       " 'США - Германия - Великобритания',\n",
       " 'США - Германия - Гонконг - Сингапур',\n",
       " 'США - Германия - КНР',\n",
       " 'США - Германия - Канада',\n",
       " 'США - Германия - Нидерланды',\n",
       " 'США - Германия - Франция',\n",
       " 'США - Германия - Франция - Великобритания - Канада ',\n",
       " 'США - Германия - Япония',\n",
       " 'США - Гонконг',\n",
       " 'США - Гонконг - КНР ',\n",
       " 'США - Дания',\n",
       " 'США - Индия',\n",
       " 'США - Индия - ОАЭ',\n",
       " 'США - Ирландия - Великобритания',\n",
       " 'США - Ирландия - Великобритания - Франция',\n",
       " 'США - Испания',\n",
       " 'США - Испания - Болгария',\n",
       " 'США - Испания - Франция',\n",
       " 'США - Испания - Франция - Великобритания',\n",
       " 'США - Италия',\n",
       " 'США - КНР',\n",
       " 'США - КНР - Индия - Ю.Корея',\n",
       " 'США - Канада',\n",
       " 'США - Канада - Аргентина',\n",
       " 'США - Канада - Афганистан - Бельгия - Франция',\n",
       " 'США - Канада - Великобритания',\n",
       " 'США - Канада - Германия',\n",
       " 'США - Канада - Германия - Франция',\n",
       " 'США - Канада - Индонезия',\n",
       " 'США - Канада - КНР',\n",
       " 'США - Канада - Россия - Франция - Чили - Ирландия',\n",
       " 'США - Канада - Франция - Индия',\n",
       " 'США - Канада - Япония - КНР',\n",
       " 'США - Китай',\n",
       " 'США - Колумбия',\n",
       " 'США - Колумбия - Испания',\n",
       " 'США - Мальта',\n",
       " 'США - Мексика',\n",
       " 'США - Нидерланды - Бельгия - Венгрия - Греция - Канада',\n",
       " 'США - Нидерланды - Финляндия - Великобритания - Италия',\n",
       " 'США - Новая Зеландия',\n",
       " 'США - Новая Зеландия - Япония',\n",
       " 'США - Норвегия',\n",
       " 'США - ОАЭ',\n",
       " 'США - Объединенные Арабские Эмираты',\n",
       " 'США - Пуэрто Рико',\n",
       " 'США - Пуэрто-Рико - Франция ',\n",
       " 'США - Россия',\n",
       " 'США - Россия - Польша - Германия - Пуэрто Рико',\n",
       " 'США - Россия - Франция',\n",
       " 'США - Румыния - Великобритания',\n",
       " 'США - Сингапур - Малайзия - Индонезия',\n",
       " 'США - Украина',\n",
       " 'США - Финляндия',\n",
       " 'США - Финляндия - Испания - Великобритания - Франция',\n",
       " 'США - Франция',\n",
       " 'США - Франция - Бельгия - Италия',\n",
       " 'США - Франция - Великобритания',\n",
       " 'США - Франция - Великобритания - Бразилия ',\n",
       " 'США - Франция - Германия',\n",
       " 'США - Франция - Германия - Канада - Австралия ',\n",
       " 'США - Франция - Испания - Великобритания',\n",
       " 'США - Франция - Канада - Великобритания',\n",
       " 'США - Франция - Канада - Германия - Австралия - Индия',\n",
       " 'США - Франция - Турция',\n",
       " 'США - Франция - ЮАР',\n",
       " 'США - Хорватия - Босния-Герцеговина',\n",
       " 'США - Чехия - Франция',\n",
       " 'США - Чили',\n",
       " 'США - Швейцария - Франция',\n",
       " 'США - Швеция',\n",
       " 'США - ЮАР',\n",
       " 'США - ЮАР - Гонконг',\n",
       " 'США - Южная Корея',\n",
       " 'США - Япония',\n",
       " 'США - Япония - Германия',\n",
       " 'США - Япония - Канада - Великобритания - Германия - Франция',\n",
       " 'США - Япония - Франция - Великобритания',\n",
       " 'США -Великобритания - Австралия',\n",
       " 'США -Германия',\n",
       " 'США, Великобритания',\n",
       " 'США, Великобритания, Ирландия, Люксембург',\n",
       " 'США, Великобритания, Люксембург',\n",
       " 'США, Великобритания, Франция',\n",
       " 'США, Германия',\n",
       " 'США, Гонконг ',\n",
       " 'США, Индия',\n",
       " 'США, Канада',\n",
       " 'США, Россия',\n",
       " 'США, Украина',\n",
       " 'США, Франция',\n",
       " 'США, Франция, Япония',\n",
       " 'США, Япония',\n",
       " 'США- Ю.Корея',\n",
       " 'США-Австралия',\n",
       " 'США-Аргентина',\n",
       " 'США-Бельгия',\n",
       " 'США-Великобритания',\n",
       " 'США-Великобритания-Австралия',\n",
       " 'США-Великобритания-Индия',\n",
       " 'США-Великобритания-Ирландия',\n",
       " 'США-Великобритания-Новая Зеландия',\n",
       " 'США-Великобритания-Франция',\n",
       " 'США-Великобритания-Чехия-Румыния',\n",
       " 'США-Венгрия',\n",
       " 'США-Германия',\n",
       " 'США-Германия-Австралия',\n",
       " 'США-Германия-Великобритания',\n",
       " 'США-Германия-Канада',\n",
       " 'США-Гонконг-Китай',\n",
       " 'США-Индия',\n",
       " 'США-Индонезия',\n",
       " 'США-Ирландия',\n",
       " 'США-Испания',\n",
       " 'США-Италия-Греция',\n",
       " 'США-Италия-Испания',\n",
       " 'США-Италия-Испания-Аргентина',\n",
       " 'США-КНР',\n",
       " 'США-Канада',\n",
       " 'США-Канада-Австралия',\n",
       " 'США-Канада-Бельгия',\n",
       " 'США-Канада-Италия',\n",
       " 'США-Канада-Франция',\n",
       " 'США-Китай',\n",
       " 'США-Колумбия',\n",
       " 'США-Мальта',\n",
       " 'США-Мексика',\n",
       " 'США-Нидерланды',\n",
       " 'США-ОАЭ',\n",
       " 'США-Россия',\n",
       " 'США-ФРГ-Россия',\n",
       " 'США-Франция',\n",
       " 'США-Франция-Великобритания-Австрия',\n",
       " 'США-Франция-Ирландия',\n",
       " 'США-Франция-Испания',\n",
       " 'США-Франция-Канада',\n",
       " 'США-ЮАР',\n",
       " 'США-Южная Корея-Новая Зеландия',\n",
       " 'США-Япония',\n",
       " 'США-Япония-Германия-Великобритания',\n",
       " 'США-Япония-Германия-Великобритания-Нидерланды',\n",
       " 'СЩА',\n",
       " 'Сербия - Великобритания - США',\n",
       " 'Сербия - Германия - Венгрия',\n",
       " 'Сербия - Словения - Хорватия - Черногория - Македония',\n",
       " 'Сингапур - Великобритания - Индонезия - Канада - США',\n",
       " 'Сша, Канада',\n",
       " 'Таиланд',\n",
       " 'Таиланд - КНР - США',\n",
       " 'Таиланд - США',\n",
       " 'Таиланд-Великобритания-Франция-Германия-Испания-Нидерланды',\n",
       " 'Турция',\n",
       " 'Турция - Германя - Франция',\n",
       " 'Турция - США',\n",
       " 'Украина',\n",
       " 'Украина - Германия - Латвия - Эстония',\n",
       " 'Украина - Нидерланды',\n",
       " 'Уругвай - Аргентина - Испания',\n",
       " 'Уругвай - Колумбия',\n",
       " 'Уругвай-Мексика-Германия ',\n",
       " 'Финляндия',\n",
       " 'Финляндия - Австрия - Россия',\n",
       " 'Финляндия - Великобритания - Германия',\n",
       " 'Финляндия - Германия',\n",
       " 'Финляндия - Дания - Германия - Ирландия',\n",
       " 'Финляндия - Исландия - Швеция',\n",
       " 'Финляндия - Канада',\n",
       " 'Финляндия - Польша',\n",
       " 'Финляндия - Франция - Германия',\n",
       " 'Финляндия - Швеция - Германия',\n",
       " 'Финляндия - Швеция - Норвегия',\n",
       " 'Финляндия, Латвия',\n",
       " 'Финляндия-Дания-Германия-Ирландия',\n",
       " 'Франция',\n",
       " 'Франция ',\n",
       " 'Франция -  Бельгия',\n",
       " 'Франция - Австрия',\n",
       " 'Франция - Австрия - Германия - Италия - США',\n",
       " 'Франция - Бельгия',\n",
       " 'Франция - Бельгия - Великобритания - Испания - Германия - США',\n",
       " 'Франция - Бельгия - Великобритания - США - Нидерланды - Канада',\n",
       " 'Франция - Бельгия - Испания',\n",
       " 'Франция - Бельгия - Канада',\n",
       " 'Франция - Бельгия - Люксембург',\n",
       " 'Франция - Бельгия - Чехия',\n",
       " 'Франция - Бельгия - Япония',\n",
       " 'Франция - Бенльгия',\n",
       " 'Франция - Бразилия',\n",
       " 'Франция - Бразилия - Италия',\n",
       " 'Франция - Великобритания',\n",
       " 'Франция - Великобритания - Багамские острова - США',\n",
       " 'Франция - Великобритания - Камбоджа - США - КНР',\n",
       " 'Франция - Великобритания - Нидерланды - Люксембург',\n",
       " 'Франция - Германия',\n",
       " 'Франция - Германия - Австрия',\n",
       " 'Франция - Германия - Бельгия',\n",
       " 'Франция - Германия - Италия',\n",
       " 'Франция - Германия - Литва - Нидерланды - Россия',\n",
       " 'Франция - Германия - Нидерланды',\n",
       " 'Франция - Германия - США',\n",
       " 'Франция - Германия - Турция - Катар',\n",
       " 'Франция - Германия - Швеция - США - Чехия - Словакия - Великобритания - Нидерланды',\n",
       " 'Франция - Греция',\n",
       " 'Франция - Дания',\n",
       " 'Франция - Дания - США',\n",
       " 'Франция - Дания - Швеция - КНР',\n",
       " 'Франция - Израиль - Германия',\n",
       " 'Франция - Ирландия - Швеция',\n",
       " 'Франция - Испания',\n",
       " 'Франция - Испания - Дания - Венгрия - Швейцария',\n",
       " 'Франция - Испания - Румыния - США - Бельгия',\n",
       " 'Франция - Испания - Тайвань',\n",
       " 'Франция - Италия',\n",
       " 'Франция - Италия - Бельгия - КНР',\n",
       " 'Франция - Италия - Бельгия - Люксембург',\n",
       " 'Франция - Италия - Великобритания - США',\n",
       " 'Франция - Италия - Иран',\n",
       " 'Франция - Италия - Швейцария',\n",
       " 'Франция - КНР',\n",
       " 'Франция - Канада',\n",
       " 'Франция - Канада - Бельгия',\n",
       " 'Франция - Канада - Н.Зеландия - США - Нидерланды - Германия - Швеция - Россия',\n",
       " 'Франция - Люксембург',\n",
       " 'Франция - Люксембург - Бельгия',\n",
       " 'Франция - Люксембург - Германия - Бельгия - Швейцария - Великобритания ',\n",
       " 'Франция - Македония',\n",
       " 'Франция - Мексика - США',\n",
       " 'Франция - Монако',\n",
       " 'Франция - Нидерланды',\n",
       " 'Франция - Польша - Бельгия',\n",
       " 'Франция - Португалия',\n",
       " 'Франция - Россия',\n",
       " 'Франция - Россия - Швейцария - Румыния - Венгрия',\n",
       " 'Франция - США',\n",
       " 'Франция - США - Бельгия',\n",
       " 'Франция - США - Великобритания - Колумбия - Бельгия - Россия',\n",
       " 'Франция - США - Норвегия - Дания',\n",
       " 'Франция - Сенегал - Бельгия',\n",
       " 'Франция - Украина - Грузия - Армения',\n",
       " 'Франция - Финляндия',\n",
       " 'Франция - Чехия - Бельгия',\n",
       " 'Франция - Чехия - Великобритания',\n",
       " 'Франция - Чили',\n",
       " 'Франция - Швейцария',\n",
       " 'Франция - Швейцария - Германия',\n",
       " 'Франция - Швеция - Дания - Норвегия',\n",
       " 'Франция -Бельгия',\n",
       " 'Франция, Бельгия',\n",
       " 'Франция, Бельгия, Люксембург',\n",
       " 'Франция, Германия',\n",
       " 'Франция, Канада',\n",
       " 'Франция, Люксембург, Бельгия',\n",
       " 'Франция, Новая Зеландия',\n",
       " 'Франция, Норвегия',\n",
       " 'Франция-Австралия',\n",
       " 'Франция-Аргентина',\n",
       " 'Франция-Бельгия',\n",
       " 'Франция-Бельгия-Канада',\n",
       " 'Франция-Великобритания',\n",
       " 'Франция-Великобритания - Германия',\n",
       " 'Франция-Великобритания-Чехия',\n",
       " 'Франция-Германия',\n",
       " 'Франция-Германия-Австрия',\n",
       " 'Франция-Германия-Великобритания',\n",
       " 'Франция-Германия-Италия',\n",
       " 'Франция-Гонконг-Ирландия',\n",
       " 'Франция-Грузия-Германия-Россия-Украина-Бельгия',\n",
       " 'Франция-Индия',\n",
       " 'Франция-Испания',\n",
       " 'Франция-Испания-Бельгия-Панама',\n",
       " 'Франция-Испания-Германия',\n",
       " 'Франция-Испания-Швейцария',\n",
       " 'Франция-Италия',\n",
       " 'Франция-Италия-Испания-Венгрия',\n",
       " 'Франция-КНР',\n",
       " 'Франция-Канада',\n",
       " 'Франция-Китай',\n",
       " 'Франция-Перу',\n",
       " 'Франция-Польша',\n",
       " 'Франция-Россия',\n",
       " 'Франция-Россия-Румыния-Италия-Бельгия',\n",
       " 'Франция-США',\n",
       " 'Франция-Украина',\n",
       " 'Хорватия',\n",
       " 'Чехия',\n",
       " 'Чехия - Германия',\n",
       " 'Чехия - Испания - США',\n",
       " 'Чехия - Словакия - Хорватия',\n",
       " 'Чехия-Великобритания-США',\n",
       " 'Чехословакия',\n",
       " 'Чили',\n",
       " 'Чили - Испания',\n",
       " 'Чили - Франция - США',\n",
       " 'Швейцария',\n",
       " 'Швейцария - Австрия',\n",
       " 'Швейцария - Великобритания',\n",
       " 'Швейцария - Израиль - Франция - Великобритания',\n",
       " 'Швейцария - КНР - США - Россия - Республика Корея - Великобритания',\n",
       " 'Швейцария - Люксембург',\n",
       " 'Швейцария - Франция',\n",
       " 'Швейцария, Великобритания, Франция, США, Ирландия',\n",
       " 'Швейцария-Австрия',\n",
       " 'Швейцария-Германия-ЮАР',\n",
       " 'Швейцария-Франция',\n",
       " 'Швеция',\n",
       " 'Швеция - Германия',\n",
       " 'Швеция - Германия - Дания - Норвегия',\n",
       " 'Швеция - Германия - Франция - Дания',\n",
       " 'Швеция - Германия - Франция - Норвегия',\n",
       " 'Швеция - Дания',\n",
       " 'Швеция - Дания - Финляндия',\n",
       " 'Швеция - Норвегия',\n",
       " 'Швеция - США',\n",
       " 'Швеция - Франция - Норвегия - Дания',\n",
       " 'Швеция, Норвегия, Финляндия, Франция',\n",
       " 'Швеция, Франция, Великобритания',\n",
       " 'Швеция-Куба',\n",
       " 'Швеция-Финляндия-Франция-Норвегия',\n",
       " 'Швеция-Франция',\n",
       " 'Швеция-Франция-Дания',\n",
       " 'Эстония',\n",
       " 'Эстония - Россия',\n",
       " 'ЮАР',\n",
       " 'ЮАР - США',\n",
       " 'Южная Корея',\n",
       " 'Южная Корея - КНР',\n",
       " 'Южная Корея - США',\n",
       " 'Южная Корея - США - Канада',\n",
       " 'Япония',\n",
       " 'Япония - Великобритания - Франция',\n",
       " 'Япония - Великобритания - Швейцария - Ирландия - Дания - Франция - Польша - Австралия - Канада  ',\n",
       " 'Япония - КНР - Южная Корея',\n",
       " 'Япония - Канада',\n",
       " 'Япония - США',\n",
       " 'Япония - Франция - США - Южная Корея - Турция',\n",
       " 'Япония, Великобритания',\n",
       " 'Япония, Великобритания, Австрия, Германия, Ю.Корея',\n",
       " 'Япония, США',\n",
       " 'Япония-Великобритания',\n",
       " 'Япония-США-Франция']"
      ]
     },
     "execution_count": 37,
     "metadata": {},
     "output_type": "execute_result"
    }
   ],
   "source": [
    "# проверим уникальные названия стран-производителей\n",
    "print(len(movie_rus['production_country'].unique()))\n",
    "sorted(movie_rus['production_country'].unique())"
   ]
  },
  {
   "cell_type": "markdown",
   "metadata": {},
   "source": [
    "В названиях стран-производителей сразу видны лишние пробелы, также есть предположение, что русскую букву С могли перепутать с английской. Исправим это, а также заменим \",\" на \"-\" и уберем \";\""
   ]
  },
  {
   "cell_type": "code",
   "execution_count": 38,
   "metadata": {},
   "outputs": [
    {
     "data": {
      "text/plain": [
       "США                          2175\n",
       "Россия                       1803\n",
       "СССР                          377\n",
       "Франция                       302\n",
       "Великобритания                255\n",
       "                             ... \n",
       "Германия-Франция-Канада         1\n",
       "Китай-Гонконг-США               1\n",
       "США-Великобритания-Швеция       1\n",
       "Финляндия-Швеция-Германия       1\n",
       "Германия-Исландия               1\n",
       "Name: production_country, Length: 811, dtype: int64"
      ]
     },
     "execution_count": 38,
     "metadata": {},
     "output_type": "execute_result"
    }
   ],
   "source": [
    "movie_rus['production_country'] = movie_rus['production_country'].replace({' ':'', ',':'-', 'C':'С',';':''},regex=True)\n",
    "movie_rus['production_country'].value_counts()"
   ]
  },
  {
   "cell_type": "markdown",
   "metadata": {},
   "source": [
    "Получилось по-максимуму привести наименования стран-производитлей к единому виду. Было 950, сократили до 811."
   ]
  },
  {
   "cell_type": "markdown",
   "metadata": {},
   "source": [
    "<div class=\"alert alert-block alert-success\">\n",
    " \n",
    "### Комментарий ревьюера\n",
    "    \n",
    "#### Успех\n",
    "    \n",
    "В пределах допустимого. Отлично "
   ]
  },
  {
   "cell_type": "markdown",
   "metadata": {
    "id": "PnXKIVdFgFyR"
   },
   "source": [
    "<span style=\"color:blue\">**\"producer\", \"director\"**</span>"
   ]
  },
  {
   "cell_type": "code",
   "execution_count": 39,
   "metadata": {},
   "outputs": [
    {
     "data": {
      "text/plain": [
       "Неизвестен                                        564\n",
       "П.Смирнов                                          67\n",
       "Олег Кузовков, Дмитрий Ловейко, Марина Ратина      28\n",
       "С.Сельянов                                         18\n",
       "Д.Ловейко, О.Кузовков                              17\n",
       "                                                 ... \n",
       "Адам Болинг, Брэд Питт, Тарквин Пэк                 1\n",
       "К.Шахназаров                                        1\n",
       "Фредерик Брийон, Клеман Мизерез, Мэттью Уортер      1\n",
       "Джош Аппелбаум, Аарон Дем, Эшли Чейни               1\n",
       "Габриэлла Тана                                      1\n",
       "Name: producer, Length: 5330, dtype: int64"
      ]
     },
     "execution_count": 39,
     "metadata": {},
     "output_type": "execute_result"
    }
   ],
   "source": [
    "# проверим уникальные имена продюсеров\n",
    "movie_rus['producer'].value_counts()"
   ]
  },
  {
   "cell_type": "code",
   "execution_count": 40,
   "metadata": {},
   "outputs": [
    {
     "data": {
      "text/plain": [
       "5315"
      ]
     },
     "execution_count": 40,
     "metadata": {},
     "output_type": "execute_result"
    }
   ],
   "source": [
    "# избавимся от лишних пробелов\n",
    "movie_rus['producer'] = movie_rus['producer'].str.strip()\n",
    "len(movie_rus['producer'].value_counts())"
   ]
  },
  {
   "cell_type": "code",
   "execution_count": 41,
   "metadata": {},
   "outputs": [
    {
     "data": {
      "text/plain": [
       "О.Семёнова             47\n",
       "Д.Червяцов             17\n",
       "Стивен Содерберг       17\n",
       "Ридли Скотт            16\n",
       "Тиль Швайгер           14\n",
       "                       ..\n",
       "Уолтер Хилл             1\n",
       "С.Осипьян, А.Лунгин     1\n",
       "Мартин Кэмпбэл          1\n",
       "Мэнди Флетчер           1\n",
       "Д.Давыдов               1\n",
       "Name: director, Length: 4797, dtype: int64"
      ]
     },
     "execution_count": 41,
     "metadata": {},
     "output_type": "execute_result"
    }
   ],
   "source": [
    "# проверим уникальные имена режиссеров\n",
    "movie_rus['director'].value_counts()"
   ]
  },
  {
   "cell_type": "code",
   "execution_count": 42,
   "metadata": {},
   "outputs": [
    {
     "data": {
      "text/plain": [
       "4787"
      ]
     },
     "execution_count": 42,
     "metadata": {},
     "output_type": "execute_result"
    }
   ],
   "source": [
    "# избавимся от лишних пробелов\n",
    "movie_rus['director'] = movie_rus['director'].str.strip()\n",
    "len(movie_rus['director'].value_counts())"
   ]
  },
  {
   "cell_type": "markdown",
   "metadata": {},
   "source": [
    "В столбцах \"producer\" и \"director\" можем исправить только лишние пробелы, так как визуально определить остальные неточности сложно. В обоих столбцах сократили уник.значения на 15."
   ]
  },
  {
   "cell_type": "markdown",
   "metadata": {
    "id": "PnXKIVdFgFyR"
   },
   "source": [
    "<span style=\"color:blue\">**\"age_restriction\"**</span>"
   ]
  },
  {
   "cell_type": "code",
   "execution_count": 43,
   "metadata": {},
   "outputs": [
    {
     "data": {
      "text/plain": [
       "array(['«18+» - запрещено для детей', '«6+» - для детей старше 6 лет',\n",
       "       '«12+» - для детей старше 12 лет',\n",
       "       '«16+» - для детей старше 16 лет',\n",
       "       '«0+» - для любой зрительской аудитории'], dtype=object)"
      ]
     },
     "execution_count": 43,
     "metadata": {},
     "output_type": "execute_result"
    }
   ],
   "source": [
    "movie_rus['age_restriction'].unique()"
   ]
  },
  {
   "cell_type": "markdown",
   "metadata": {},
   "source": [
    "В столбце с возрастными ограничениями все в порядке."
   ]
  },
  {
   "cell_type": "markdown",
   "metadata": {
    "id": "PnXKIVdFgFyR"
   },
   "source": [
    "<span style=\"color:blue\">**\"financing_source\"**</span>"
   ]
  },
  {
   "cell_type": "code",
   "execution_count": 44,
   "metadata": {},
   "outputs": [
    {
     "data": {
      "text/plain": [
       "array(['Неизвестен', 'Министерство культуры', 'Фонд кино',\n",
       "       'Министерство культуры, Фонд кино'], dtype=object)"
      ]
     },
     "execution_count": 44,
     "metadata": {},
     "output_type": "execute_result"
    }
   ],
   "source": [
    "movie_rus['financing_source'].unique()"
   ]
  },
  {
   "cell_type": "markdown",
   "metadata": {},
   "source": [
    "В столбце с источником финансирования также все в порядке."
   ]
  },
  {
   "cell_type": "markdown",
   "metadata": {
    "id": "PnXKIVdFgFyR"
   },
   "source": [
    "<span style=\"color:blue\">**\"genres\"**</span>"
   ]
  },
  {
   "cell_type": "code",
   "execution_count": 45,
   "metadata": {},
   "outputs": [
    {
     "data": {
      "text/plain": [
       "не определен                      957\n",
       "драма                             476\n",
       "комедия                           351\n",
       "мелодрама,комедия                 222\n",
       "драма,мелодрама,комедия           189\n",
       "                                 ... \n",
       "биография,спорт,история             1\n",
       "приключения,мелодрама,детектив      1\n",
       "детский                             1\n",
       "военный,биография,драма             1\n",
       "биография,военный,драма             1\n",
       "Name: genres, Length: 742, dtype: int64"
      ]
     },
     "execution_count": 45,
     "metadata": {},
     "output_type": "execute_result"
    }
   ],
   "source": [
    "movie_rus['genres'].value_counts()"
   ]
  },
  {
   "cell_type": "code",
   "execution_count": 46,
   "metadata": {},
   "outputs": [
    {
     "data": {
      "text/plain": [
       "742"
      ]
     },
     "execution_count": 46,
     "metadata": {},
     "output_type": "execute_result"
    }
   ],
   "source": [
    "# на первый взгляд все в порядке, попробуем убрать пробелы\n",
    "movie_rus['genres'] = movie_rus['genres'].str.strip()\n",
    "len(movie_rus['genres'].value_counts())"
   ]
  },
  {
   "cell_type": "markdown",
   "metadata": {},
   "source": [
    "В столбце с жанрами все в порядке, даже не были допущены пробелы."
   ]
  },
  {
   "cell_type": "markdown",
   "metadata": {},
   "source": [
    "**Практически во всех столбцах с категориальными данными были допущены неточности, чаще всего встречались лишние пробелы. Также была проблема транслита  и лишних символов при занесении данных.**"
   ]
  },
  {
   "cell_type": "markdown",
   "metadata": {},
   "source": [
    "<div class=\"alert alert-block alert-success\">\n",
    " \n",
    "### Комментарий ревьюера\n",
    "    \n",
    "#### Успех\n",
    "    \n",
    "Рассмотрели столбцы и описали проблемы, которые у них есть. Здорово"
   ]
  },
  {
   "cell_type": "markdown",
   "metadata": {
    "id": "XFSN5lrEgFyR"
   },
   "source": [
    "###  Проверьте количественные значения\n",
    "\n",
    "- Проверьте, обнаружились ли в таких столбцах подозрительные данные. Как с такими данными лучше поступить?\n",
    "\n",
    "<div id=\"accordion\">\n",
    "    <div class=\"card\">\n",
    "        <div class=\"card-header\" id=\"headingThree\">\n",
    "            <button class=\"btn btn-link collapsed\" data-toggle=\"collapse\" data-target=\"#collapseHint_budget\" aria-expanded=\"false\" aria-controls=\"collapseHint_budget\">Подсказка</button>\n",
    "        </div>\n",
    "        <div id=\"collapseHint_budget\" class=\"collapse\" aria-labelledby=\"headingThree\" data-parent=\"#accordion\">\n",
    "            <div class=\"card-body\">\n",
    "Обратите внимание на описание столбца <code>budget</code>. Как этот столбец соотносится с двумя другими: <code>refundable_support</code> и <code>nonrefundable_support</code>?\n",
    "            </div>\n",
    "        </div>\n",
    "    </div>\n",
    "</div>"
   ]
  },
  {
   "cell_type": "code",
   "execution_count": 47,
   "metadata": {
    "id": "YbzClBxagFyS"
   },
   "outputs": [
    {
     "data": {
      "text/html": [
       "<div>\n",
       "<style scoped>\n",
       "    .dataframe tbody tr th:only-of-type {\n",
       "        vertical-align: middle;\n",
       "    }\n",
       "\n",
       "    .dataframe tbody tr th {\n",
       "        vertical-align: top;\n",
       "    }\n",
       "\n",
       "    .dataframe thead th {\n",
       "        text-align: right;\n",
       "    }\n",
       "</style>\n",
       "<table border=\"1\" class=\"dataframe\">\n",
       "  <thead>\n",
       "    <tr style=\"text-align: right;\">\n",
       "      <th></th>\n",
       "      <th>refundable_support</th>\n",
       "      <th>nonrefundable_support</th>\n",
       "      <th>budget</th>\n",
       "      <th>ratings</th>\n",
       "      <th>box_office</th>\n",
       "    </tr>\n",
       "  </thead>\n",
       "  <tbody>\n",
       "    <tr>\n",
       "      <th>count</th>\n",
       "      <td>7.460000e+03</td>\n",
       "      <td>7.460000e+03</td>\n",
       "      <td>7.460000e+03</td>\n",
       "      <td>7460.000000</td>\n",
       "      <td>7.460000e+03</td>\n",
       "    </tr>\n",
       "    <tr>\n",
       "      <th>mean</th>\n",
       "      <td>5.280161e+05</td>\n",
       "      <td>2.179851e+06</td>\n",
       "      <td>5.662234e+06</td>\n",
       "      <td>5.663485</td>\n",
       "      <td>3.237529e+07</td>\n",
       "    </tr>\n",
       "    <tr>\n",
       "      <th>std</th>\n",
       "      <td>5.791091e+06</td>\n",
       "      <td>1.617655e+07</td>\n",
       "      <td>4.760977e+07</td>\n",
       "      <td>2.398793</td>\n",
       "      <td>1.608691e+08</td>\n",
       "    </tr>\n",
       "    <tr>\n",
       "      <th>min</th>\n",
       "      <td>0.000000e+00</td>\n",
       "      <td>0.000000e+00</td>\n",
       "      <td>0.000000e+00</td>\n",
       "      <td>0.000000</td>\n",
       "      <td>0.000000e+00</td>\n",
       "    </tr>\n",
       "    <tr>\n",
       "      <th>25%</th>\n",
       "      <td>0.000000e+00</td>\n",
       "      <td>0.000000e+00</td>\n",
       "      <td>0.000000e+00</td>\n",
       "      <td>5.400000</td>\n",
       "      <td>0.000000e+00</td>\n",
       "    </tr>\n",
       "    <tr>\n",
       "      <th>50%</th>\n",
       "      <td>0.000000e+00</td>\n",
       "      <td>0.000000e+00</td>\n",
       "      <td>0.000000e+00</td>\n",
       "      <td>6.400000</td>\n",
       "      <td>0.000000e+00</td>\n",
       "    </tr>\n",
       "    <tr>\n",
       "      <th>75%</th>\n",
       "      <td>0.000000e+00</td>\n",
       "      <td>0.000000e+00</td>\n",
       "      <td>0.000000e+00</td>\n",
       "      <td>7.200000</td>\n",
       "      <td>1.097464e+06</td>\n",
       "    </tr>\n",
       "    <tr>\n",
       "      <th>max</th>\n",
       "      <td>1.800000e+08</td>\n",
       "      <td>4.000000e+08</td>\n",
       "      <td>2.305074e+09</td>\n",
       "      <td>9.900000</td>\n",
       "      <td>3.073569e+09</td>\n",
       "    </tr>\n",
       "  </tbody>\n",
       "</table>\n",
       "</div>"
      ],
      "text/plain": [
       "       refundable_support  nonrefundable_support        budget      ratings  \\\n",
       "count        7.460000e+03           7.460000e+03  7.460000e+03  7460.000000   \n",
       "mean         5.280161e+05           2.179851e+06  5.662234e+06     5.663485   \n",
       "std          5.791091e+06           1.617655e+07  4.760977e+07     2.398793   \n",
       "min          0.000000e+00           0.000000e+00  0.000000e+00     0.000000   \n",
       "25%          0.000000e+00           0.000000e+00  0.000000e+00     5.400000   \n",
       "50%          0.000000e+00           0.000000e+00  0.000000e+00     6.400000   \n",
       "75%          0.000000e+00           0.000000e+00  0.000000e+00     7.200000   \n",
       "max          1.800000e+08           4.000000e+08  2.305074e+09     9.900000   \n",
       "\n",
       "         box_office  \n",
       "count  7.460000e+03  \n",
       "mean   3.237529e+07  \n",
       "std    1.608691e+08  \n",
       "min    0.000000e+00  \n",
       "25%    0.000000e+00  \n",
       "50%    0.000000e+00  \n",
       "75%    1.097464e+06  \n",
       "max    3.073569e+09  "
      ]
     },
     "execution_count": 47,
     "metadata": {},
     "output_type": "execute_result"
    }
   ],
   "source": [
    "movie_rus.describe()"
   ]
  },
  {
   "cell_type": "markdown",
   "metadata": {},
   "source": [
    "На первый взгляд нет отрицательных значений или выбивающихся из максимума. Рассмотрим подробнее"
   ]
  },
  {
   "cell_type": "code",
   "execution_count": 48,
   "metadata": {},
   "outputs": [],
   "source": [
    "# для удоства сделаем финансовые данные в млн.\n",
    "def correct(row):\n",
    "    return row/1000000\n",
    "\n",
    "movie_rus['refundable_support'] = movie_rus['refundable_support'].apply(correct).round(3)\n",
    "movie_rus['nonrefundable_support'] = movie_rus['nonrefundable_support'].apply(correct).round(3)\n",
    "movie_rus['budget'] = movie_rus['budget'].apply(correct).round(3)\n",
    "movie_rus['box_office'] = movie_rus['box_office'].apply(correct).round(3)"
   ]
  },
  {
   "cell_type": "code",
   "execution_count": 49,
   "metadata": {},
   "outputs": [
    {
     "data": {
      "text/html": [
       "<div>\n",
       "<style scoped>\n",
       "    .dataframe tbody tr th:only-of-type {\n",
       "        vertical-align: middle;\n",
       "    }\n",
       "\n",
       "    .dataframe tbody tr th {\n",
       "        vertical-align: top;\n",
       "    }\n",
       "\n",
       "    .dataframe thead th {\n",
       "        text-align: right;\n",
       "    }\n",
       "</style>\n",
       "<table border=\"1\" class=\"dataframe\">\n",
       "  <thead>\n",
       "    <tr style=\"text-align: right;\">\n",
       "      <th></th>\n",
       "      <th>title</th>\n",
       "      <th>pu_number</th>\n",
       "      <th>show_start_date</th>\n",
       "      <th>type</th>\n",
       "      <th>film_studio</th>\n",
       "      <th>production_country</th>\n",
       "      <th>director</th>\n",
       "      <th>producer</th>\n",
       "      <th>age_restriction</th>\n",
       "      <th>refundable_support</th>\n",
       "      <th>nonrefundable_support</th>\n",
       "      <th>budget</th>\n",
       "      <th>financing_source</th>\n",
       "      <th>ratings</th>\n",
       "      <th>genres</th>\n",
       "      <th>box_office</th>\n",
       "    </tr>\n",
       "  </thead>\n",
       "  <tbody>\n",
       "  </tbody>\n",
       "</table>\n",
       "</div>"
      ],
      "text/plain": [
       "Empty DataFrame\n",
       "Columns: [title, pu_number, show_start_date, type, film_studio, production_country, director, producer, age_restriction, refundable_support, nonrefundable_support, budget, financing_source, ratings, genres, box_office]\n",
       "Index: []"
      ]
     },
     "execution_count": 49,
     "metadata": {},
     "output_type": "execute_result"
    }
   ],
   "source": [
    "# проверим есть ли фильмы, у которых указан бюджет, но не было фин.поддержки\n",
    "movie_rus.query('budget > 0 and (refundable_support == 0 and nonrefundable_support == 0)')"
   ]
  },
  {
   "cell_type": "code",
   "execution_count": 50,
   "metadata": {},
   "outputs": [
    {
     "data": {
      "text/html": [
       "<div>\n",
       "<style scoped>\n",
       "    .dataframe tbody tr th:only-of-type {\n",
       "        vertical-align: middle;\n",
       "    }\n",
       "\n",
       "    .dataframe tbody tr th {\n",
       "        vertical-align: top;\n",
       "    }\n",
       "\n",
       "    .dataframe thead th {\n",
       "        text-align: right;\n",
       "    }\n",
       "</style>\n",
       "<table border=\"1\" class=\"dataframe\">\n",
       "  <thead>\n",
       "    <tr style=\"text-align: right;\">\n",
       "      <th></th>\n",
       "      <th>title</th>\n",
       "      <th>pu_number</th>\n",
       "      <th>show_start_date</th>\n",
       "      <th>type</th>\n",
       "      <th>film_studio</th>\n",
       "      <th>production_country</th>\n",
       "      <th>director</th>\n",
       "      <th>producer</th>\n",
       "      <th>age_restriction</th>\n",
       "      <th>refundable_support</th>\n",
       "      <th>nonrefundable_support</th>\n",
       "      <th>budget</th>\n",
       "      <th>financing_source</th>\n",
       "      <th>ratings</th>\n",
       "      <th>genres</th>\n",
       "      <th>box_office</th>\n",
       "    </tr>\n",
       "  </thead>\n",
       "  <tbody>\n",
       "    <tr>\n",
       "      <th>7474</th>\n",
       "      <td>Вторжение</td>\n",
       "      <td>111022519</td>\n",
       "      <td>2019-12-23</td>\n",
       "      <td>Художественный</td>\n",
       "      <td>ооо \"арт пикчерс студия\", ооо \"водород 2011\"</td>\n",
       "      <td>Россия</td>\n",
       "      <td>Ф.Бондарчук</td>\n",
       "      <td>Ф.Бондарчук, М.Врубель, А.Андрющенко, Д.Рудовский</td>\n",
       "      <td>«12+» - для детей старше 12 лет</td>\n",
       "      <td>100.0</td>\n",
       "      <td>400.0</td>\n",
       "      <td>944.000</td>\n",
       "      <td>Фонд кино</td>\n",
       "      <td>5.7</td>\n",
       "      <td>фантастика,боевик</td>\n",
       "      <td>0.0</td>\n",
       "    </tr>\n",
       "    <tr>\n",
       "      <th>7478</th>\n",
       "      <td>(Не)идеальный мужчина</td>\n",
       "      <td>111023119</td>\n",
       "      <td>2019-12-24</td>\n",
       "      <td>Художественный</td>\n",
       "      <td>ооо \"нон-стоп продакшн\"</td>\n",
       "      <td>Россия</td>\n",
       "      <td>М.Бальчюнас (псевдоним М.Вайсберг)</td>\n",
       "      <td>С.Мелькумов, А.Роднянский, М.Вайсберг, Р.Минас...</td>\n",
       "      <td>«12+» - для детей старше 12 лет</td>\n",
       "      <td>40.0</td>\n",
       "      <td>60.0</td>\n",
       "      <td>150.148</td>\n",
       "      <td>Фонд кино</td>\n",
       "      <td>4.5</td>\n",
       "      <td>комедия,фантастика,мелодрама</td>\n",
       "      <td>0.0</td>\n",
       "    </tr>\n",
       "  </tbody>\n",
       "</table>\n",
       "</div>"
      ],
      "text/plain": [
       "                      title  pu_number show_start_date            type  \\\n",
       "7474              Вторжение  111022519      2019-12-23  Художественный   \n",
       "7478  (Не)идеальный мужчина  111023119      2019-12-24  Художественный   \n",
       "\n",
       "                                       film_studio production_country  \\\n",
       "7474  ооо \"арт пикчерс студия\", ооо \"водород 2011\"             Россия   \n",
       "7478                       ооо \"нон-стоп продакшн\"             Россия   \n",
       "\n",
       "                                director  \\\n",
       "7474                         Ф.Бондарчук   \n",
       "7478  М.Бальчюнас (псевдоним М.Вайсберг)   \n",
       "\n",
       "                                               producer  \\\n",
       "7474  Ф.Бондарчук, М.Врубель, А.Андрющенко, Д.Рудовский   \n",
       "7478  С.Мелькумов, А.Роднянский, М.Вайсберг, Р.Минас...   \n",
       "\n",
       "                      age_restriction  refundable_support  \\\n",
       "7474  «12+» - для детей старше 12 лет               100.0   \n",
       "7478  «12+» - для детей старше 12 лет                40.0   \n",
       "\n",
       "      nonrefundable_support   budget financing_source  ratings  \\\n",
       "7474                  400.0  944.000        Фонд кино      5.7   \n",
       "7478                   60.0  150.148        Фонд кино      4.5   \n",
       "\n",
       "                            genres  box_office  \n",
       "7474             фантастика,боевик         0.0  \n",
       "7478  комедия,фантастика,мелодрама         0.0  "
      ]
     },
     "execution_count": 50,
     "metadata": {},
     "output_type": "execute_result"
    }
   ],
   "source": [
    "# проверим есть ли фильмы c фин. поддержкой без данных по кассовым сборам\n",
    "movie_rus.query('box_office == 0 and (refundable_support > 0 and nonrefundable_support > 0)')"
   ]
  },
  {
   "cell_type": "markdown",
   "metadata": {},
   "source": [
    "Есть 2 таких фильма, однако дата премьеры в обоих фильмах указана декабрь 2019, по всей видимости на момент выгрузки данных информация по сборам еще не была предоставлена."
   ]
  },
  {
   "cell_type": "code",
   "execution_count": 51,
   "metadata": {},
   "outputs": [
    {
     "data": {
      "text/html": [
       "<div>\n",
       "<style scoped>\n",
       "    .dataframe tbody tr th:only-of-type {\n",
       "        vertical-align: middle;\n",
       "    }\n",
       "\n",
       "    .dataframe tbody tr th {\n",
       "        vertical-align: top;\n",
       "    }\n",
       "\n",
       "    .dataframe thead th {\n",
       "        text-align: right;\n",
       "    }\n",
       "</style>\n",
       "<table border=\"1\" class=\"dataframe\">\n",
       "  <thead>\n",
       "    <tr style=\"text-align: right;\">\n",
       "      <th></th>\n",
       "      <th>title</th>\n",
       "      <th>pu_number</th>\n",
       "      <th>show_start_date</th>\n",
       "      <th>type</th>\n",
       "      <th>film_studio</th>\n",
       "      <th>production_country</th>\n",
       "      <th>director</th>\n",
       "      <th>producer</th>\n",
       "      <th>age_restriction</th>\n",
       "      <th>refundable_support</th>\n",
       "      <th>nonrefundable_support</th>\n",
       "      <th>budget</th>\n",
       "      <th>financing_source</th>\n",
       "      <th>ratings</th>\n",
       "      <th>genres</th>\n",
       "      <th>box_office</th>\n",
       "    </tr>\n",
       "  </thead>\n",
       "  <tbody>\n",
       "    <tr>\n",
       "      <th>2053</th>\n",
       "      <td>14+</td>\n",
       "      <td>111023614</td>\n",
       "      <td>2014-12-19</td>\n",
       "      <td>Художественный</td>\n",
       "      <td>ооо киностудия  \"сентябрь\"</td>\n",
       "      <td>Россия</td>\n",
       "      <td>А.Зайцев</td>\n",
       "      <td>О.Гранина, А.Зайцев</td>\n",
       "      <td>«16+» - для детей старше 16 лет</td>\n",
       "      <td>0.0</td>\n",
       "      <td>23.000</td>\n",
       "      <td>0.0</td>\n",
       "      <td>Министерство культуры, Фонд кино</td>\n",
       "      <td>6.6</td>\n",
       "      <td>мелодрама</td>\n",
       "      <td>10.234</td>\n",
       "    </tr>\n",
       "    <tr>\n",
       "      <th>2058</th>\n",
       "      <td>Дуxless 2</td>\n",
       "      <td>111000415</td>\n",
       "      <td>2015-01-26</td>\n",
       "      <td>Художественный</td>\n",
       "      <td>ооо \"киностудия \"слово\", ооо \"арт пикчерс студия\"</td>\n",
       "      <td>Россия</td>\n",
       "      <td>Р.Прыгунов</td>\n",
       "      <td>П.Ануров, Ф.Бондарчук, Д.Рудовский</td>\n",
       "      <td>«16+» - для детей старше 16 лет</td>\n",
       "      <td>0.0</td>\n",
       "      <td>75.000</td>\n",
       "      <td>0.0</td>\n",
       "      <td>Фонд кино</td>\n",
       "      <td>6.6</td>\n",
       "      <td>драма</td>\n",
       "      <td>446.164</td>\n",
       "    </tr>\n",
       "    <tr>\n",
       "      <th>2472</th>\n",
       "      <td>Воин (2015)</td>\n",
       "      <td>111017315</td>\n",
       "      <td>2015-09-28</td>\n",
       "      <td>Художественный</td>\n",
       "      <td>ооо \"форпост продакшн\", ооо \"арт пикчерс студия\"</td>\n",
       "      <td>Россия</td>\n",
       "      <td>А.Андрианов</td>\n",
       "      <td>ООО \"Арт Пикчерс Студия\"</td>\n",
       "      <td>«12+» - для детей старше 12 лет</td>\n",
       "      <td>10.0</td>\n",
       "      <td>70.000</td>\n",
       "      <td>0.0</td>\n",
       "      <td>Фонд кино</td>\n",
       "      <td>7.8</td>\n",
       "      <td>боевик,драма,криминал</td>\n",
       "      <td>196.572</td>\n",
       "    </tr>\n",
       "    <tr>\n",
       "      <th>2532</th>\n",
       "      <td>Бармен.</td>\n",
       "      <td>111009615</td>\n",
       "      <td>2015-05-26</td>\n",
       "      <td>Художественный</td>\n",
       "      <td>ао \"ваит медиа\", ооо \"арт пикчерс студия\"</td>\n",
       "      <td>Россия</td>\n",
       "      <td>Д.Штурманова</td>\n",
       "      <td>Т.Вайнштейн</td>\n",
       "      <td>«16+» - для детей старше 16 лет</td>\n",
       "      <td>20.0</td>\n",
       "      <td>0.000</td>\n",
       "      <td>0.0</td>\n",
       "      <td>Фонд кино</td>\n",
       "      <td>6.2</td>\n",
       "      <td>комедия,фэнтези</td>\n",
       "      <td>67.419</td>\n",
       "    </tr>\n",
       "    <tr>\n",
       "      <th>2615</th>\n",
       "      <td>Савва. Сердце воина</td>\n",
       "      <td>114001715</td>\n",
       "      <td>2015-07-21</td>\n",
       "      <td>Анимационный</td>\n",
       "      <td>ооо \"глюкоза продакшн\", ооо \"арт пикчерс студия\"</td>\n",
       "      <td>Россия</td>\n",
       "      <td>М.Фадеев</td>\n",
       "      <td>А.Чистяков</td>\n",
       "      <td>«6+» - для детей старше 6 лет</td>\n",
       "      <td>60.0</td>\n",
       "      <td>100.000</td>\n",
       "      <td>0.0</td>\n",
       "      <td>Фонд кино</td>\n",
       "      <td>4.6</td>\n",
       "      <td>мультфильм,приключения,фэнтези</td>\n",
       "      <td>184.488</td>\n",
       "    </tr>\n",
       "    <tr>\n",
       "      <th>2684</th>\n",
       "      <td>Тряпичный союз</td>\n",
       "      <td>111010215</td>\n",
       "      <td>2015-06-08</td>\n",
       "      <td>Художественный</td>\n",
       "      <td>ооо \"кинокомпания \"коктебель\"</td>\n",
       "      <td>Россия</td>\n",
       "      <td>М.Местецкий</td>\n",
       "      <td>Р.Борисевич, А.Кушаев</td>\n",
       "      <td>«18+» - запрещено для детей</td>\n",
       "      <td>0.0</td>\n",
       "      <td>59.000</td>\n",
       "      <td>0.0</td>\n",
       "      <td>Фонд кино</td>\n",
       "      <td>6.3</td>\n",
       "      <td>комедия,драма</td>\n",
       "      <td>1.958</td>\n",
       "    </tr>\n",
       "    <tr>\n",
       "      <th>2788</th>\n",
       "      <td>Срочно выйду замуж</td>\n",
       "      <td>111017115</td>\n",
       "      <td>2015-09-30</td>\n",
       "      <td>Художественный</td>\n",
       "      <td>ао \"ваит медиа\", ооо \"арт пикчерс студия\"</td>\n",
       "      <td>Россия</td>\n",
       "      <td>С Чекалов</td>\n",
       "      <td>Ф.Бондарчук, Т.Вайнштейн, Д.Рудовский</td>\n",
       "      <td>«16+» - для детей старше 16 лет</td>\n",
       "      <td>0.0</td>\n",
       "      <td>35.000</td>\n",
       "      <td>0.0</td>\n",
       "      <td>Фонд кино</td>\n",
       "      <td>5.1</td>\n",
       "      <td>комедия,мелодрама</td>\n",
       "      <td>72.938</td>\n",
       "    </tr>\n",
       "    <tr>\n",
       "      <th>2874</th>\n",
       "      <td>Помню - не помню!</td>\n",
       "      <td>111004916</td>\n",
       "      <td>2016-03-01</td>\n",
       "      <td>Художественный</td>\n",
       "      <td>ооо \"кинофирма\"</td>\n",
       "      <td>Россия</td>\n",
       "      <td>В.Ровенский</td>\n",
       "      <td>ООО \"КиноФирма\"</td>\n",
       "      <td>«12+» - для детей старше 12 лет</td>\n",
       "      <td>0.0</td>\n",
       "      <td>6.000</td>\n",
       "      <td>0.0</td>\n",
       "      <td>Министерство культуры</td>\n",
       "      <td>4.3</td>\n",
       "      <td>комедия</td>\n",
       "      <td>15.363</td>\n",
       "    </tr>\n",
       "    <tr>\n",
       "      <th>3047</th>\n",
       "      <td>Любовь с ограничениями</td>\n",
       "      <td>111008216</td>\n",
       "      <td>2016-04-29</td>\n",
       "      <td>Художественный</td>\n",
       "      <td>ао \"ваит медиа\", ооо \"арт пикчерс студия\"</td>\n",
       "      <td>Россия</td>\n",
       "      <td>Д.Тюрин</td>\n",
       "      <td>Ф.Бондарчук, Т.Вайнштейн, Д.Рудовский</td>\n",
       "      <td>«16+» - для детей старше 16 лет</td>\n",
       "      <td>19.0</td>\n",
       "      <td>51.000</td>\n",
       "      <td>0.0</td>\n",
       "      <td>Фонд кино</td>\n",
       "      <td>6.3</td>\n",
       "      <td>комедия,мелодрама</td>\n",
       "      <td>70.299</td>\n",
       "    </tr>\n",
       "    <tr>\n",
       "      <th>3565</th>\n",
       "      <td>Притяжение (2016)</td>\n",
       "      <td>111018116</td>\n",
       "      <td>2016-12-16</td>\n",
       "      <td>Художественный</td>\n",
       "      <td>ооо \"водород 2011\",  ооо \"арт пикчерс студия\"</td>\n",
       "      <td>Россия</td>\n",
       "      <td>Ф.Бондарчук</td>\n",
       "      <td>ООО \"Арт Пикчерс Студия\"</td>\n",
       "      <td>«12+» - для детей старше 12 лет</td>\n",
       "      <td>0.0</td>\n",
       "      <td>250.000</td>\n",
       "      <td>0.0</td>\n",
       "      <td>Фонд кино</td>\n",
       "      <td>5.6</td>\n",
       "      <td>фантастика</td>\n",
       "      <td>1038.321</td>\n",
       "    </tr>\n",
       "    <tr>\n",
       "      <th>3675</th>\n",
       "      <td>Чудо-юдо</td>\n",
       "      <td>114001817</td>\n",
       "      <td>2017-06-27</td>\n",
       "      <td>Анимационный</td>\n",
       "      <td>ооо \"кинофирма\"</td>\n",
       "      <td>Россия</td>\n",
       "      <td>А.Лукичев</td>\n",
       "      <td>ООО \"КиноФирма\"</td>\n",
       "      <td>«6+» - для детей старше 6 лет</td>\n",
       "      <td>20.0</td>\n",
       "      <td>20.000</td>\n",
       "      <td>0.0</td>\n",
       "      <td>Фонд кино</td>\n",
       "      <td>5.2</td>\n",
       "      <td>мультфильм,фэнтези,семейный</td>\n",
       "      <td>55.108</td>\n",
       "    </tr>\n",
       "    <tr>\n",
       "      <th>3739</th>\n",
       "      <td>Мифы</td>\n",
       "      <td>111004317</td>\n",
       "      <td>2017-06-07</td>\n",
       "      <td>Художественный</td>\n",
       "      <td>ооо \"хаипфильм\", ооо \"арт пикчерс студия\"</td>\n",
       "      <td>Россия</td>\n",
       "      <td>А.Молочников</td>\n",
       "      <td>Ф.Бондарчук, Д.Рудовский, И.Стюарт, М.Османн, ...</td>\n",
       "      <td>«16+» - для детей старше 16 лет</td>\n",
       "      <td>25.0</td>\n",
       "      <td>20.000</td>\n",
       "      <td>0.0</td>\n",
       "      <td>Фонд кино</td>\n",
       "      <td>4.8</td>\n",
       "      <td>комедия</td>\n",
       "      <td>50.452</td>\n",
       "    </tr>\n",
       "    <tr>\n",
       "      <th>5673</th>\n",
       "      <td>Селфи</td>\n",
       "      <td>111012117</td>\n",
       "      <td>2018-02-01</td>\n",
       "      <td>Художественный</td>\n",
       "      <td>ооо \"киностудия \"слово\", ооо \"арт пикчерс студия\"</td>\n",
       "      <td>Россия</td>\n",
       "      <td>Н.Хомерики</td>\n",
       "      <td>П.Ануров, Ф.Бондарчук, Д.Рудовский</td>\n",
       "      <td>«16+» - для детей старше 16 лет</td>\n",
       "      <td>20.0</td>\n",
       "      <td>40.000</td>\n",
       "      <td>0.0</td>\n",
       "      <td>Фонд кино</td>\n",
       "      <td>5.8</td>\n",
       "      <td>триллер,драма</td>\n",
       "      <td>225.196</td>\n",
       "    </tr>\n",
       "    <tr>\n",
       "      <th>5806</th>\n",
       "      <td>Два хвоста</td>\n",
       "      <td>114001018</td>\n",
       "      <td>2018-05-31</td>\n",
       "      <td>Анимационный</td>\n",
       "      <td>ооо \"лицензионные бренды\"</td>\n",
       "      <td>Россия</td>\n",
       "      <td>В.Ровенский, Н.Лопато, В.Азеев</td>\n",
       "      <td>ООО \"ЛИЦЕНЗИОННЫЕ БРЕНДЫ\"</td>\n",
       "      <td>«6+» - для детей старше 6 лет</td>\n",
       "      <td>10.0</td>\n",
       "      <td>60.000</td>\n",
       "      <td>0.0</td>\n",
       "      <td>Фонд кино</td>\n",
       "      <td>5.0</td>\n",
       "      <td>мультфильм,детский</td>\n",
       "      <td>106.514</td>\n",
       "    </tr>\n",
       "    <tr>\n",
       "      <th>6008</th>\n",
       "      <td>Принцесса и дракон</td>\n",
       "      <td>114003018</td>\n",
       "      <td>2018-08-23</td>\n",
       "      <td>Анимационный</td>\n",
       "      <td>ооо \"лицензионные бренды\"</td>\n",
       "      <td>Россия</td>\n",
       "      <td>М.Нефедова</td>\n",
       "      <td>ООО \"ЛИЦЕНЗИОННЫЕ БРЕНДЫ\"</td>\n",
       "      <td>«6+» - для детей старше 6 лет</td>\n",
       "      <td>40.0</td>\n",
       "      <td>40.000</td>\n",
       "      <td>0.0</td>\n",
       "      <td>Фонд кино</td>\n",
       "      <td>5.2</td>\n",
       "      <td>мультфильм,фэнтези,детский</td>\n",
       "      <td>83.366</td>\n",
       "    </tr>\n",
       "    <tr>\n",
       "      <th>6323</th>\n",
       "      <td>Баба Яга</td>\n",
       "      <td>114006518</td>\n",
       "      <td>2018-11-08</td>\n",
       "      <td>Анимационный</td>\n",
       "      <td>ооо \"арт пикчерс студия\"</td>\n",
       "      <td>Россия</td>\n",
       "      <td>В.Саков</td>\n",
       "      <td>ООО \"Арт Пикчерс Студия\", ООО \"КРИЭЙТИВ АНИМЭЙ...</td>\n",
       "      <td>«6+» - для детей старше 6 лет</td>\n",
       "      <td>0.0</td>\n",
       "      <td>138.969</td>\n",
       "      <td>0.0</td>\n",
       "      <td>Фонд кино</td>\n",
       "      <td>0.0</td>\n",
       "      <td>не определен</td>\n",
       "      <td>1.335</td>\n",
       "    </tr>\n",
       "    <tr>\n",
       "      <th>6823</th>\n",
       "      <td>Большое путешествие</td>\n",
       "      <td>114002419</td>\n",
       "      <td>2019-04-20</td>\n",
       "      <td>Анимационный</td>\n",
       "      <td>ооо \"лицензионные бренды\"</td>\n",
       "      <td>Россия</td>\n",
       "      <td>Н.Лопато, В.Ровенский</td>\n",
       "      <td>ООО \"ЛИЦЕНЗИОННЫЕ БРЕНДЫ\"</td>\n",
       "      <td>«6+» - для детей старше 6 лет</td>\n",
       "      <td>60.0</td>\n",
       "      <td>120.000</td>\n",
       "      <td>0.0</td>\n",
       "      <td>Фонд кино</td>\n",
       "      <td>6.2</td>\n",
       "      <td>мультфильм,комедия,приключения</td>\n",
       "      <td>147.607</td>\n",
       "    </tr>\n",
       "  </tbody>\n",
       "</table>\n",
       "</div>"
      ],
      "text/plain": [
       "                       title  pu_number show_start_date            type  \\\n",
       "2053                     14+  111023614      2014-12-19  Художественный   \n",
       "2058               Дуxless 2  111000415      2015-01-26  Художественный   \n",
       "2472             Воин (2015)  111017315      2015-09-28  Художественный   \n",
       "2532                 Бармен.  111009615      2015-05-26  Художественный   \n",
       "2615     Савва. Сердце воина  114001715      2015-07-21    Анимационный   \n",
       "2684          Тряпичный союз  111010215      2015-06-08  Художественный   \n",
       "2788      Срочно выйду замуж  111017115      2015-09-30  Художественный   \n",
       "2874       Помню - не помню!  111004916      2016-03-01  Художественный   \n",
       "3047  Любовь с ограничениями  111008216      2016-04-29  Художественный   \n",
       "3565       Притяжение (2016)  111018116      2016-12-16  Художественный   \n",
       "3675                Чудо-юдо  114001817      2017-06-27    Анимационный   \n",
       "3739                    Мифы  111004317      2017-06-07  Художественный   \n",
       "5673                   Селфи  111012117      2018-02-01  Художественный   \n",
       "5806              Два хвоста  114001018      2018-05-31    Анимационный   \n",
       "6008      Принцесса и дракон  114003018      2018-08-23    Анимационный   \n",
       "6323                Баба Яга  114006518      2018-11-08    Анимационный   \n",
       "6823     Большое путешествие  114002419      2019-04-20    Анимационный   \n",
       "\n",
       "                                            film_studio production_country  \\\n",
       "2053                         ооо киностудия  \"сентябрь\"             Россия   \n",
       "2058  ооо \"киностудия \"слово\", ооо \"арт пикчерс студия\"             Россия   \n",
       "2472   ооо \"форпост продакшн\", ооо \"арт пикчерс студия\"             Россия   \n",
       "2532          ао \"ваит медиа\", ооо \"арт пикчерс студия\"             Россия   \n",
       "2615   ооо \"глюкоза продакшн\", ооо \"арт пикчерс студия\"             Россия   \n",
       "2684                      ооо \"кинокомпания \"коктебель\"             Россия   \n",
       "2788          ао \"ваит медиа\", ооо \"арт пикчерс студия\"             Россия   \n",
       "2874                                    ооо \"кинофирма\"             Россия   \n",
       "3047          ао \"ваит медиа\", ооо \"арт пикчерс студия\"             Россия   \n",
       "3565      ооо \"водород 2011\",  ооо \"арт пикчерс студия\"             Россия   \n",
       "3675                                    ооо \"кинофирма\"             Россия   \n",
       "3739          ооо \"хаипфильм\", ооо \"арт пикчерс студия\"             Россия   \n",
       "5673  ооо \"киностудия \"слово\", ооо \"арт пикчерс студия\"             Россия   \n",
       "5806                          ооо \"лицензионные бренды\"             Россия   \n",
       "6008                          ооо \"лицензионные бренды\"             Россия   \n",
       "6323                           ооо \"арт пикчерс студия\"             Россия   \n",
       "6823                          ооо \"лицензионные бренды\"             Россия   \n",
       "\n",
       "                            director  \\\n",
       "2053                        А.Зайцев   \n",
       "2058                      Р.Прыгунов   \n",
       "2472                     А.Андрианов   \n",
       "2532                    Д.Штурманова   \n",
       "2615                        М.Фадеев   \n",
       "2684                     М.Местецкий   \n",
       "2788                       С Чекалов   \n",
       "2874                     В.Ровенский   \n",
       "3047                         Д.Тюрин   \n",
       "3565                     Ф.Бондарчук   \n",
       "3675                       А.Лукичев   \n",
       "3739                    А.Молочников   \n",
       "5673                      Н.Хомерики   \n",
       "5806  В.Ровенский, Н.Лопато, В.Азеев   \n",
       "6008                      М.Нефедова   \n",
       "6323                         В.Саков   \n",
       "6823           Н.Лопато, В.Ровенский   \n",
       "\n",
       "                                               producer  \\\n",
       "2053                                О.Гранина, А.Зайцев   \n",
       "2058                 П.Ануров, Ф.Бондарчук, Д.Рудовский   \n",
       "2472                           ООО \"Арт Пикчерс Студия\"   \n",
       "2532                                        Т.Вайнштейн   \n",
       "2615                                         А.Чистяков   \n",
       "2684                              Р.Борисевич, А.Кушаев   \n",
       "2788              Ф.Бондарчук, Т.Вайнштейн, Д.Рудовский   \n",
       "2874                                    ООО \"КиноФирма\"   \n",
       "3047              Ф.Бондарчук, Т.Вайнштейн, Д.Рудовский   \n",
       "3565                           ООО \"Арт Пикчерс Студия\"   \n",
       "3675                                    ООО \"КиноФирма\"   \n",
       "3739  Ф.Бондарчук, Д.Рудовский, И.Стюарт, М.Османн, ...   \n",
       "5673                 П.Ануров, Ф.Бондарчук, Д.Рудовский   \n",
       "5806                          ООО \"ЛИЦЕНЗИОННЫЕ БРЕНДЫ\"   \n",
       "6008                          ООО \"ЛИЦЕНЗИОННЫЕ БРЕНДЫ\"   \n",
       "6323  ООО \"Арт Пикчерс Студия\", ООО \"КРИЭЙТИВ АНИМЭЙ...   \n",
       "6823                          ООО \"ЛИЦЕНЗИОННЫЕ БРЕНДЫ\"   \n",
       "\n",
       "                      age_restriction  refundable_support  \\\n",
       "2053  «16+» - для детей старше 16 лет                 0.0   \n",
       "2058  «16+» - для детей старше 16 лет                 0.0   \n",
       "2472  «12+» - для детей старше 12 лет                10.0   \n",
       "2532  «16+» - для детей старше 16 лет                20.0   \n",
       "2615    «6+» - для детей старше 6 лет                60.0   \n",
       "2684      «18+» - запрещено для детей                 0.0   \n",
       "2788  «16+» - для детей старше 16 лет                 0.0   \n",
       "2874  «12+» - для детей старше 12 лет                 0.0   \n",
       "3047  «16+» - для детей старше 16 лет                19.0   \n",
       "3565  «12+» - для детей старше 12 лет                 0.0   \n",
       "3675    «6+» - для детей старше 6 лет                20.0   \n",
       "3739  «16+» - для детей старше 16 лет                25.0   \n",
       "5673  «16+» - для детей старше 16 лет                20.0   \n",
       "5806    «6+» - для детей старше 6 лет                10.0   \n",
       "6008    «6+» - для детей старше 6 лет                40.0   \n",
       "6323    «6+» - для детей старше 6 лет                 0.0   \n",
       "6823    «6+» - для детей старше 6 лет                60.0   \n",
       "\n",
       "      nonrefundable_support  budget                  financing_source  \\\n",
       "2053                 23.000     0.0  Министерство культуры, Фонд кино   \n",
       "2058                 75.000     0.0                         Фонд кино   \n",
       "2472                 70.000     0.0                         Фонд кино   \n",
       "2532                  0.000     0.0                         Фонд кино   \n",
       "2615                100.000     0.0                         Фонд кино   \n",
       "2684                 59.000     0.0                         Фонд кино   \n",
       "2788                 35.000     0.0                         Фонд кино   \n",
       "2874                  6.000     0.0             Министерство культуры   \n",
       "3047                 51.000     0.0                         Фонд кино   \n",
       "3565                250.000     0.0                         Фонд кино   \n",
       "3675                 20.000     0.0                         Фонд кино   \n",
       "3739                 20.000     0.0                         Фонд кино   \n",
       "5673                 40.000     0.0                         Фонд кино   \n",
       "5806                 60.000     0.0                         Фонд кино   \n",
       "6008                 40.000     0.0                         Фонд кино   \n",
       "6323                138.969     0.0                         Фонд кино   \n",
       "6823                120.000     0.0                         Фонд кино   \n",
       "\n",
       "      ratings                          genres  box_office  \n",
       "2053      6.6                       мелодрама      10.234  \n",
       "2058      6.6                           драма     446.164  \n",
       "2472      7.8           боевик,драма,криминал     196.572  \n",
       "2532      6.2                 комедия,фэнтези      67.419  \n",
       "2615      4.6  мультфильм,приключения,фэнтези     184.488  \n",
       "2684      6.3                   комедия,драма       1.958  \n",
       "2788      5.1               комедия,мелодрама      72.938  \n",
       "2874      4.3                         комедия      15.363  \n",
       "3047      6.3               комедия,мелодрама      70.299  \n",
       "3565      5.6                      фантастика    1038.321  \n",
       "3675      5.2     мультфильм,фэнтези,семейный      55.108  \n",
       "3739      4.8                         комедия      50.452  \n",
       "5673      5.8                   триллер,драма     225.196  \n",
       "5806      5.0              мультфильм,детский     106.514  \n",
       "6008      5.2      мультфильм,фэнтези,детский      83.366  \n",
       "6323      0.0                    не определен       1.335  \n",
       "6823      6.2  мультфильм,комедия,приключения     147.607  "
      ]
     },
     "execution_count": 51,
     "metadata": {},
     "output_type": "execute_result"
    }
   ],
   "source": [
    "# проверим есть ли фильмы, которые получили фин. поддержку, но общий бюджет фильма не указали\n",
    "movie_rus.query('(refundable_support + nonrefundable_support) > budget')"
   ]
  },
  {
   "cell_type": "markdown",
   "metadata": {},
   "source": [
    "По данным фильмам указаны кассовые сборы и рейтинг, поэтому не стоит терять эти данные. Поэтому заполним данные бюджета по этим фильмам с учетом средней доли гос.поддержки по всем фильмам, однако возьмем в расчет медианное значение, т.к. по многим фильмам данная информация отсутствует вовсе."
   ]
  },
  {
   "cell_type": "code",
   "execution_count": 52,
   "metadata": {},
   "outputs": [],
   "source": [
    "# посчитаем среднюю долю гос.поддержки от бюджета по всем фильмам и заполним данные бюджета\n",
    "financing_share = ((movie_rus['refundable_support'] + movie_rus['nonrefundable_support']) / movie_rus['budget']).median() \n",
    "\n",
    "movie_rus.loc[(movie_rus['budget'] == 0), 'budget'] = (movie_rus['refundable_support'] + movie_rus['nonrefundable_support'])/\\\n",
    "financing_share"
   ]
  },
  {
   "cell_type": "markdown",
   "metadata": {},
   "source": [
    "**На первый взгляд в количественных данных не обнаружились какие-то критические моменты, однако, в ходе исследования все равно необходимо это проверить. Были добавлены данные по бюджету фильмов, у которых была указана фин.поддержка от государства, а данные по бюджету отсутствовали. Для визуального удобства отобразили данные в млн, в остальном оставили без изменений.**"
   ]
  },
  {
   "cell_type": "markdown",
   "metadata": {},
   "source": [
    "<div class=\"alert alert-block alert-success\">\n",
    " \n",
    "### Комментарий ревьюера\n",
    "    \n",
    "#### Успех\n",
    "    \n",
    "Здесь даже доабвить нечего. Отлично вышло. Переходим к следующему этапу"
   ]
  },
  {
   "cell_type": "markdown",
   "metadata": {
    "id": "Eu6oWp2CgFyS"
   },
   "source": [
    "### Добавьте новые столбцы\n",
    "\n",
    "\n",
    "\n"
   ]
  },
  {
   "cell_type": "markdown",
   "metadata": {
    "id": "7GgW-UpAgFyS"
   },
   "source": [
    "- Создайте столбец с информацией о годе проката. Выделите год из даты премьеры фильма."
   ]
  },
  {
   "cell_type": "code",
   "execution_count": 53,
   "metadata": {
    "id": "I-yd1DkWgFyT"
   },
   "outputs": [],
   "source": [
    "movie_rus['show_year'] = movie_rus['show_start_date'].dt.year"
   ]
  },
  {
   "cell_type": "markdown",
   "metadata": {
    "id": "nFTDLDYOgFyT"
   },
   "source": [
    "- Создайте два столбца: с именем и фамилией главного режиссёра и основным жанром фильма. В столбцы войдут первые значения из списка режиссёров и жанров соответственно.\n",
    "\n",
    "<div id=\"accordion\">\n",
    "    <div class=\"card\">\n",
    "        <div class=\"card-header\" id=\"headingThree\">\n",
    "            <button class=\"btn btn-link collapsed\" data-toggle=\"collapse\" data-target=\"#collapseHint_2\" aria-expanded=\"false\" aria-controls=\"collapseHint_2\">Подсказка</button>\n",
    "        </div>\n",
    "        <div id=\"collapseHint_2\" class=\"collapse\" aria-labelledby=\"headingThree\" data-parent=\"#accordion\">\n",
    "            <div class=\"card-body\">\n",
    "Чтобы создать такие столбцы, лучше всего использовать собственную функцию. Эту функцию можно применить к двум столбцам сразу. \n",
    "            </div>\n",
    "        </div>\n",
    "    </div>\n",
    "</div>"
   ]
  },
  {
   "cell_type": "code",
   "execution_count": 54,
   "metadata": {
    "id": "LSbRZKbMgFyU"
   },
   "outputs": [],
   "source": [
    "# создадим функцию,чтобы выделить главного режиссера и главный жанр\n",
    "def main(row):\n",
    "    res = row.split(',')[0]\n",
    "    return res\n",
    "\n",
    "movie_rus['main_director'] = movie_rus['director'].apply(main)\n",
    "movie_rus['main_genre'] = movie_rus['genres'].apply(main)"
   ]
  },
  {
   "cell_type": "markdown",
   "metadata": {},
   "source": [
    "<div class=\"alert alert-block alert-success\">\n",
    " \n",
    "### Комментарий ревьюера\n",
    "    \n",
    "#### Успех\n",
    "    \n",
    "Простая, удобная и понятная функция. "
   ]
  },
  {
   "cell_type": "markdown",
   "metadata": {
    "id": "1FsCXHwdgFyU"
   },
   "source": [
    "- Посчитайте, какую долю от общего бюджета фильма составляет государственная поддержка."
   ]
  },
  {
   "cell_type": "code",
   "execution_count": 55,
   "metadata": {
    "id": "LV6qFuZLgFyV"
   },
   "outputs": [
    {
     "data": {
      "text/html": [
       "<div>\n",
       "<style scoped>\n",
       "    .dataframe tbody tr th:only-of-type {\n",
       "        vertical-align: middle;\n",
       "    }\n",
       "\n",
       "    .dataframe tbody tr th {\n",
       "        vertical-align: top;\n",
       "    }\n",
       "\n",
       "    .dataframe thead th {\n",
       "        text-align: right;\n",
       "    }\n",
       "</style>\n",
       "<table border=\"1\" class=\"dataframe\">\n",
       "  <thead>\n",
       "    <tr style=\"text-align: right;\">\n",
       "      <th></th>\n",
       "      <th>title</th>\n",
       "      <th>pu_number</th>\n",
       "      <th>show_start_date</th>\n",
       "      <th>type</th>\n",
       "      <th>film_studio</th>\n",
       "      <th>production_country</th>\n",
       "      <th>director</th>\n",
       "      <th>producer</th>\n",
       "      <th>age_restriction</th>\n",
       "      <th>refundable_support</th>\n",
       "      <th>nonrefundable_support</th>\n",
       "      <th>budget</th>\n",
       "      <th>financing_source</th>\n",
       "      <th>ratings</th>\n",
       "      <th>genres</th>\n",
       "      <th>box_office</th>\n",
       "      <th>show_year</th>\n",
       "      <th>main_director</th>\n",
       "      <th>main_genre</th>\n",
       "      <th>financ_share</th>\n",
       "    </tr>\n",
       "  </thead>\n",
       "  <tbody>\n",
       "    <tr>\n",
       "      <th>0</th>\n",
       "      <td>Открытый простор</td>\n",
       "      <td>221048915</td>\n",
       "      <td>2015-11-27</td>\n",
       "      <td>Художественный</td>\n",
       "      <td>тачстоун пикчерз, кобальт пикчерз, бикон пикче...</td>\n",
       "      <td>США</td>\n",
       "      <td>Кевин Костнер</td>\n",
       "      <td>Дэвид Валдес, Кевин Костнер, Джейк Эбертс</td>\n",
       "      <td>«18+» - запрещено для детей</td>\n",
       "      <td>0.0</td>\n",
       "      <td>0.0</td>\n",
       "      <td>0.0</td>\n",
       "      <td>Неизвестен</td>\n",
       "      <td>7.2</td>\n",
       "      <td>боевик,драма,мелодрама</td>\n",
       "      <td>0.0</td>\n",
       "      <td>2015</td>\n",
       "      <td>Кевин Костнер</td>\n",
       "      <td>боевик</td>\n",
       "      <td>0.0</td>\n",
       "    </tr>\n",
       "    <tr>\n",
       "      <th>1</th>\n",
       "      <td>Особо важное задание</td>\n",
       "      <td>111013716</td>\n",
       "      <td>2016-09-13</td>\n",
       "      <td>Художественный</td>\n",
       "      <td>киностудия \"мосфильм\"</td>\n",
       "      <td>СССР</td>\n",
       "      <td>Е.Матвеев</td>\n",
       "      <td>Неизвестен</td>\n",
       "      <td>«6+» - для детей старше 6 лет</td>\n",
       "      <td>0.0</td>\n",
       "      <td>0.0</td>\n",
       "      <td>0.0</td>\n",
       "      <td>Неизвестен</td>\n",
       "      <td>6.6</td>\n",
       "      <td>драма,военный</td>\n",
       "      <td>0.0</td>\n",
       "      <td>2016</td>\n",
       "      <td>Е.Матвеев</td>\n",
       "      <td>драма</td>\n",
       "      <td>0.0</td>\n",
       "    </tr>\n",
       "    <tr>\n",
       "      <th>2</th>\n",
       "      <td>Особо опасен</td>\n",
       "      <td>221038416</td>\n",
       "      <td>2016-10-10</td>\n",
       "      <td>Художественный</td>\n",
       "      <td>юниверсал пикчерз, кикстарт продакшнз, марк пл...</td>\n",
       "      <td>США</td>\n",
       "      <td>Тимур Бекмамбетов</td>\n",
       "      <td>Джим Лемли, Джейсон Нетер, Марк Е.Платт, Яйн Смит</td>\n",
       "      <td>«18+» - запрещено для детей</td>\n",
       "      <td>0.0</td>\n",
       "      <td>0.0</td>\n",
       "      <td>0.0</td>\n",
       "      <td>Неизвестен</td>\n",
       "      <td>6.8</td>\n",
       "      <td>фантастика,боевик,триллер</td>\n",
       "      <td>0.0</td>\n",
       "      <td>2016</td>\n",
       "      <td>Тимур Бекмамбетов</td>\n",
       "      <td>фантастика</td>\n",
       "      <td>0.0</td>\n",
       "    </tr>\n",
       "    <tr>\n",
       "      <th>3</th>\n",
       "      <td>Особо опасен</td>\n",
       "      <td>221026916</td>\n",
       "      <td>2016-06-10</td>\n",
       "      <td>Художественный</td>\n",
       "      <td>юниверсал пикчерз, кикстарт продакшнз, марк пл...</td>\n",
       "      <td>США</td>\n",
       "      <td>Тимур Бекмамбетов</td>\n",
       "      <td>Джим Лемли, Джейсон Нетер, Марк Е.Платт, Яйн Смит</td>\n",
       "      <td>«18+» - запрещено для детей</td>\n",
       "      <td>0.0</td>\n",
       "      <td>0.0</td>\n",
       "      <td>0.0</td>\n",
       "      <td>Неизвестен</td>\n",
       "      <td>6.8</td>\n",
       "      <td>фантастика,боевик,триллер</td>\n",
       "      <td>0.0</td>\n",
       "      <td>2016</td>\n",
       "      <td>Тимур Бекмамбетов</td>\n",
       "      <td>фантастика</td>\n",
       "      <td>0.0</td>\n",
       "    </tr>\n",
       "    <tr>\n",
       "      <th>4</th>\n",
       "      <td>Особо опасен</td>\n",
       "      <td>221030815</td>\n",
       "      <td>2015-07-29</td>\n",
       "      <td>Художественный</td>\n",
       "      <td>юниверсал пикчерз, кикстарт продакшнз, марк пл...</td>\n",
       "      <td>США</td>\n",
       "      <td>Тимур Бекмамбетов</td>\n",
       "      <td>Джим Лемли, Джейсон Нетер, Марк Е.Платт, Яйн Смит</td>\n",
       "      <td>«18+» - запрещено для детей</td>\n",
       "      <td>0.0</td>\n",
       "      <td>0.0</td>\n",
       "      <td>0.0</td>\n",
       "      <td>Неизвестен</td>\n",
       "      <td>6.8</td>\n",
       "      <td>фантастика,боевик,триллер</td>\n",
       "      <td>0.0</td>\n",
       "      <td>2015</td>\n",
       "      <td>Тимур Бекмамбетов</td>\n",
       "      <td>фантастика</td>\n",
       "      <td>0.0</td>\n",
       "    </tr>\n",
       "  </tbody>\n",
       "</table>\n",
       "</div>"
      ],
      "text/plain": [
       "                  title  pu_number show_start_date            type  \\\n",
       "0      Открытый простор  221048915      2015-11-27  Художественный   \n",
       "1  Особо важное задание  111013716      2016-09-13  Художественный   \n",
       "2          Особо опасен  221038416      2016-10-10  Художественный   \n",
       "3          Особо опасен  221026916      2016-06-10  Художественный   \n",
       "4          Особо опасен  221030815      2015-07-29  Художественный   \n",
       "\n",
       "                                         film_studio production_country  \\\n",
       "0  тачстоун пикчерз, кобальт пикчерз, бикон пикче...                США   \n",
       "1                              киностудия \"мосфильм\"               СССР   \n",
       "2  юниверсал пикчерз, кикстарт продакшнз, марк пл...                США   \n",
       "3  юниверсал пикчерз, кикстарт продакшнз, марк пл...                США   \n",
       "4  юниверсал пикчерз, кикстарт продакшнз, марк пл...                США   \n",
       "\n",
       "            director                                           producer  \\\n",
       "0      Кевин Костнер          Дэвид Валдес, Кевин Костнер, Джейк Эбертс   \n",
       "1          Е.Матвеев                                         Неизвестен   \n",
       "2  Тимур Бекмамбетов  Джим Лемли, Джейсон Нетер, Марк Е.Платт, Яйн Смит   \n",
       "3  Тимур Бекмамбетов  Джим Лемли, Джейсон Нетер, Марк Е.Платт, Яйн Смит   \n",
       "4  Тимур Бекмамбетов  Джим Лемли, Джейсон Нетер, Марк Е.Платт, Яйн Смит   \n",
       "\n",
       "                 age_restriction  refundable_support  nonrefundable_support  \\\n",
       "0    «18+» - запрещено для детей                 0.0                    0.0   \n",
       "1  «6+» - для детей старше 6 лет                 0.0                    0.0   \n",
       "2    «18+» - запрещено для детей                 0.0                    0.0   \n",
       "3    «18+» - запрещено для детей                 0.0                    0.0   \n",
       "4    «18+» - запрещено для детей                 0.0                    0.0   \n",
       "\n",
       "   budget financing_source  ratings                     genres  box_office  \\\n",
       "0     0.0       Неизвестен      7.2     боевик,драма,мелодрама         0.0   \n",
       "1     0.0       Неизвестен      6.6              драма,военный         0.0   \n",
       "2     0.0       Неизвестен      6.8  фантастика,боевик,триллер         0.0   \n",
       "3     0.0       Неизвестен      6.8  фантастика,боевик,триллер         0.0   \n",
       "4     0.0       Неизвестен      6.8  фантастика,боевик,триллер         0.0   \n",
       "\n",
       "   show_year      main_director  main_genre  financ_share  \n",
       "0       2015      Кевин Костнер      боевик           0.0  \n",
       "1       2016          Е.Матвеев       драма           0.0  \n",
       "2       2016  Тимур Бекмамбетов  фантастика           0.0  \n",
       "3       2016  Тимур Бекмамбетов  фантастика           0.0  \n",
       "4       2015  Тимур Бекмамбетов  фантастика           0.0  "
      ]
     },
     "execution_count": 55,
     "metadata": {},
     "output_type": "execute_result"
    }
   ],
   "source": [
    "movie_rus['financ_share'] = ((movie_rus['refundable_support'] + movie_rus['nonrefundable_support']) / \\\n",
    "                             movie_rus['budget'] *100).round(1)\n",
    "movie_rus['financ_share'] = movie_rus['financ_share'].fillna(0)\n",
    "movie_rus.head()"
   ]
  },
  {
   "cell_type": "markdown",
   "metadata": {},
   "source": [
    "**Для дальнейшего исследования в таблицу были добавлены новые столбцы:**\n",
    "* год премьеры фильма (в дальнейшем изучим динамику проката по годам)\n",
    "* главный режиссер\n",
    "* основной жанр фильма (рассмотрим какой жанр предпочтителен для зрителя)\n",
    "* доля финансовой поддержки государства от бюджета фильма (в дальнейшем проверим окупаемость)"
   ]
  },
  {
   "cell_type": "markdown",
   "metadata": {},
   "source": [
    "<div class=\"alert alert-block alert-warning\">\n",
    " \n",
    "### Комментарий ревьюера\n",
    "    \n",
    "#### Совет\n",
    "    \n",
    "Тут правильно будет добавить небольшой промежуточный вывод. "
   ]
  },
  {
   "cell_type": "markdown",
   "metadata": {},
   "source": [
    "<div class=\"alert alert-block alert-info\">\n",
    "<b>Комментарий ученика:</b>\n",
    "А вот здесь прям затрудняюсь, на этом этапе просто добавляем столбцы для последующего анализа, в скобках у некоторых столбцов указала для чего. Анализ никакой по заданию не проводим. Подскажите, что здесь еще можно написать?\n",
    "</div>"
   ]
  },
  {
   "cell_type": "markdown",
   "metadata": {},
   "source": [
    "<div class=\"alert alert-block alert-warning\">\n",
    " \n",
    "# Комментарий ревьюера ver.2\n",
    "    \n",
    "#### Совет\n",
    "    \n",
    "Обычно тут подводят краткий итог того, что заметили в ходе предобработки. Можно какие-то замеченные инсайты описать. "
   ]
  },
  {
   "cell_type": "markdown",
   "metadata": {
    "id": "6t4EukPLgFyV"
   },
   "source": [
    "## Проведите исследовательский анализ данных\n"
   ]
  },
  {
   "cell_type": "markdown",
   "metadata": {
    "id": "vAH8WCzugFyV"
   },
   "source": [
    "- Посмотрите, сколько фильмов выходило в прокат каждый год. Обратите внимание, что данные о прокате в кинотеатрах известны не для всех фильмов. Посчитайте, какую долю составляют фильмы с указанной информацией о прокате в кинотеатрах. Проанализируйте, как эта доля менялась по годам. Сделайте вывод о том, какой период полнее всего представлен в данных."
   ]
  },
  {
   "cell_type": "code",
   "execution_count": 56,
   "metadata": {
    "id": "ABeV47y7gFyW"
   },
   "outputs": [
    {
     "data": {
      "text/html": [
       "<div>\n",
       "<style scoped>\n",
       "    .dataframe tbody tr th:only-of-type {\n",
       "        vertical-align: middle;\n",
       "    }\n",
       "\n",
       "    .dataframe tbody tr th {\n",
       "        vertical-align: top;\n",
       "    }\n",
       "\n",
       "    .dataframe thead th {\n",
       "        text-align: right;\n",
       "    }\n",
       "</style>\n",
       "<table border=\"1\" class=\"dataframe\">\n",
       "  <thead>\n",
       "    <tr style=\"text-align: right;\">\n",
       "      <th></th>\n",
       "      <th>Кол-во фильмов в прокате</th>\n",
       "      <th>Кол-во фильмов с кассовым сбором</th>\n",
       "      <th>Доля фильмов с кассовым сбором</th>\n",
       "    </tr>\n",
       "    <tr>\n",
       "      <th>show_year</th>\n",
       "      <th></th>\n",
       "      <th></th>\n",
       "      <th></th>\n",
       "    </tr>\n",
       "  </thead>\n",
       "  <tbody>\n",
       "    <tr>\n",
       "      <th>2010</th>\n",
       "      <td>980</td>\n",
       "      <td>74</td>\n",
       "      <td>7.551020</td>\n",
       "    </tr>\n",
       "    <tr>\n",
       "      <th>2011</th>\n",
       "      <td>620</td>\n",
       "      <td>87</td>\n",
       "      <td>14.032258</td>\n",
       "    </tr>\n",
       "    <tr>\n",
       "      <th>2012</th>\n",
       "      <td>592</td>\n",
       "      <td>102</td>\n",
       "      <td>17.229730</td>\n",
       "    </tr>\n",
       "    <tr>\n",
       "      <th>2013</th>\n",
       "      <td>629</td>\n",
       "      <td>154</td>\n",
       "      <td>24.483307</td>\n",
       "    </tr>\n",
       "    <tr>\n",
       "      <th>2014</th>\n",
       "      <td>806</td>\n",
       "      <td>244</td>\n",
       "      <td>30.272953</td>\n",
       "    </tr>\n",
       "    <tr>\n",
       "      <th>2015</th>\n",
       "      <td>705</td>\n",
       "      <td>458</td>\n",
       "      <td>64.964539</td>\n",
       "    </tr>\n",
       "    <tr>\n",
       "      <th>2016</th>\n",
       "      <td>818</td>\n",
       "      <td>519</td>\n",
       "      <td>63.447433</td>\n",
       "    </tr>\n",
       "    <tr>\n",
       "      <th>2017</th>\n",
       "      <td>505</td>\n",
       "      <td>357</td>\n",
       "      <td>70.693069</td>\n",
       "    </tr>\n",
       "    <tr>\n",
       "      <th>2018</th>\n",
       "      <td>879</td>\n",
       "      <td>474</td>\n",
       "      <td>53.924915</td>\n",
       "    </tr>\n",
       "    <tr>\n",
       "      <th>2019</th>\n",
       "      <td>926</td>\n",
       "      <td>530</td>\n",
       "      <td>57.235421</td>\n",
       "    </tr>\n",
       "  </tbody>\n",
       "</table>\n",
       "</div>"
      ],
      "text/plain": [
       "           Кол-во фильмов в прокате  Кол-во фильмов с кассовым сбором  \\\n",
       "show_year                                                               \n",
       "2010                            980                                74   \n",
       "2011                            620                                87   \n",
       "2012                            592                               102   \n",
       "2013                            629                               154   \n",
       "2014                            806                               244   \n",
       "2015                            705                               458   \n",
       "2016                            818                               519   \n",
       "2017                            505                               357   \n",
       "2018                            879                               474   \n",
       "2019                            926                               530   \n",
       "\n",
       "           Доля фильмов с кассовым сбором  \n",
       "show_year                                  \n",
       "2010                             7.551020  \n",
       "2011                            14.032258  \n",
       "2012                            17.229730  \n",
       "2013                            24.483307  \n",
       "2014                            30.272953  \n",
       "2015                            64.964539  \n",
       "2016                            63.447433  \n",
       "2017                            70.693069  \n",
       "2018                            53.924915  \n",
       "2019                            57.235421  "
      ]
     },
     "execution_count": 56,
     "metadata": {},
     "output_type": "execute_result"
    }
   ],
   "source": [
    "premiere_year = movie_rus.pivot_table(index='show_year', values='box_office', aggfunc='count')\n",
    "premiere_year.columns = ['Кол-во фильмов в прокате']\n",
    "\n",
    "# добавим также столбец с долей фильмов с информацией по кассовым сборам\n",
    "premiere_year['Кол-во фильмов с кассовым сбором'] = movie_rus.query('box_office > 0').pivot_table(index='show_year', values='box_office', aggfunc='count')\n",
    "premiere_year['Доля фильмов с кассовым сбором'] = (premiere_year['Кол-во фильмов с кассовым сбором'] / \\\n",
    "                                                   premiere_year['Кол-во фильмов в прокате']) * 100\n",
    "premiere_year"
   ]
  },
  {
   "cell_type": "code",
   "execution_count": 57,
   "metadata": {},
   "outputs": [
    {
     "data": {
      "image/png": "[encoded data removed]",
      "text/plain": [
       "<Figure size 720x360 with 1 Axes>"
      ]
     },
     "metadata": {
      "needs_background": "light"
     },
     "output_type": "display_data"
    }
   ],
   "source": [
    "premiere_year.plot(kind='bar', y='Доля фильмов с кассовым сбором', \\\n",
    "                   title='Доля фильмов с кассовым сбором в зависимости от года', rot=1, figsize=(10,5), legend=None, grid=True)\n",
    "plt.xlabel('Год')\n",
    "plt.ylabel('Доля')\n",
    "plt.show() "
   ]
  },
  {
   "cell_type": "markdown",
   "metadata": {},
   "source": [
    "<div class=\"alert alert-block alert-success\">\n",
    " \n",
    "### Комментарий ревьюера\n",
    "    \n",
    "#### Успех\n",
    "    \n",
    "Хороший график у тебя тут получился. По нему мы видим как менялась доля фильмов с кассовым сбором. "
   ]
  },
  {
   "cell_type": "markdown",
   "metadata": {},
   "source": [
    "**Самые производительные года в киноиндустрии были 2010 и 2019 г. При этом данных о кассовом сборе фильмов в 2010 г. минимальны, всего 7,5%. В 2019 г. этот процент уже достигает 57. \n",
    "С 2011 года прослеживается положительная динамика по сбору информации о прокате, пиковые скачки приходится на 2015 и 2017 г. В 2018 г. идет резкий спад, однако с 2019 динамика стала вновь положительной.**"
   ]
  },
  {
   "cell_type": "markdown",
   "metadata": {
    "id": "BEOdcIrIgFyW"
   },
   "source": [
    "- Изучите, как менялась динамика проката по годам. В каком году сумма сборов была минимальной? А максимальной?"
   ]
  },
  {
   "cell_type": "code",
   "execution_count": 58,
   "metadata": {
    "id": "tfEhofYvgFyX"
   },
   "outputs": [
    {
     "data": {
      "text/html": [
       "<div>\n",
       "<style scoped>\n",
       "    .dataframe tbody tr th:only-of-type {\n",
       "        vertical-align: middle;\n",
       "    }\n",
       "\n",
       "    .dataframe tbody tr th {\n",
       "        vertical-align: top;\n",
       "    }\n",
       "\n",
       "    .dataframe thead th {\n",
       "        text-align: right;\n",
       "    }\n",
       "</style>\n",
       "<table border=\"1\" class=\"dataframe\">\n",
       "  <thead>\n",
       "    <tr style=\"text-align: right;\">\n",
       "      <th></th>\n",
       "      <th>Сумма кассовых сборов, млн.</th>\n",
       "    </tr>\n",
       "    <tr>\n",
       "      <th>show_year</th>\n",
       "      <th></th>\n",
       "    </tr>\n",
       "  </thead>\n",
       "  <tbody>\n",
       "    <tr>\n",
       "      <th>2010</th>\n",
       "      <td>2.43</td>\n",
       "    </tr>\n",
       "    <tr>\n",
       "      <th>2011</th>\n",
       "      <td>14.10</td>\n",
       "    </tr>\n",
       "    <tr>\n",
       "      <th>2012</th>\n",
       "      <td>6.90</td>\n",
       "    </tr>\n",
       "    <tr>\n",
       "      <th>2013</th>\n",
       "      <td>29.80</td>\n",
       "    </tr>\n",
       "    <tr>\n",
       "      <th>2014</th>\n",
       "      <td>7444.95</td>\n",
       "    </tr>\n",
       "    <tr>\n",
       "      <th>2015</th>\n",
       "      <td>39497.37</td>\n",
       "    </tr>\n",
       "    <tr>\n",
       "      <th>2016</th>\n",
       "      <td>47866.30</td>\n",
       "    </tr>\n",
       "    <tr>\n",
       "      <th>2017</th>\n",
       "      <td>48563.70</td>\n",
       "    </tr>\n",
       "    <tr>\n",
       "      <th>2018</th>\n",
       "      <td>49668.36</td>\n",
       "    </tr>\n",
       "    <tr>\n",
       "      <th>2019</th>\n",
       "      <td>48425.70</td>\n",
       "    </tr>\n",
       "  </tbody>\n",
       "</table>\n",
       "</div>"
      ],
      "text/plain": [
       "           Сумма кассовых сборов, млн.\n",
       "show_year                             \n",
       "2010                              2.43\n",
       "2011                             14.10\n",
       "2012                              6.90\n",
       "2013                             29.80\n",
       "2014                           7444.95\n",
       "2015                          39497.37\n",
       "2016                          47866.30\n",
       "2017                          48563.70\n",
       "2018                          49668.36\n",
       "2019                          48425.70"
      ]
     },
     "execution_count": 58,
     "metadata": {},
     "output_type": "execute_result"
    }
   ],
   "source": [
    "box_year = movie_rus.pivot_table(index='show_year', values='box_office', aggfunc='sum').round(2)\n",
    "box_year.columns = ['Сумма кассовых сборов, млн.']\n",
    "box_year"
   ]
  },
  {
   "cell_type": "code",
   "execution_count": 59,
   "metadata": {},
   "outputs": [
    {
     "data": {
      "image/png": "[encoded data removed]",
      "text/plain": [
       "<Figure size 720x360 with 1 Axes>"
      ]
     },
     "metadata": {
      "needs_background": "light"
     },
     "output_type": "display_data"
    }
   ],
   "source": [
    "box_year.plot(kind='line', y='Сумма кассовых сборов, млн.', \\\n",
    "                   title='Сумма сборов по фильмам в прокате', rot=1, figsize=(10,5), legend=None, color='orange', grid=True)\n",
    "plt.xlabel('Год')\n",
    "plt.ylabel('Кассовый сбор, млн')\n",
    "plt.show() "
   ]
  },
  {
   "cell_type": "markdown",
   "metadata": {},
   "source": [
    "<div class=\"alert alert-block alert-success\">\n",
    " \n",
    "### Комментарий ревьюера\n",
    "    \n",
    "#### Успех\n",
    "    \n",
    "После 2017 года показатели сборов достигли максимального уровня. Здорово. "
   ]
  },
  {
   "cell_type": "code",
   "execution_count": 60,
   "metadata": {},
   "outputs": [
    {
     "name": "stdout",
     "output_type": "stream",
     "text": [
      "Минимальная сумма кассовых сборов была в 2010\n",
      "Максимальная сумма кассовых сборов была в 2018\n"
     ]
    }
   ],
   "source": [
    "# посмотрим максимальный и минимальный показатель сбора по годам\n",
    "print ('Минимальная сумма кассовых сборов была в', box_year['Сумма кассовых сборов, млн.'].idxmin())\n",
    "print ('Максимальная сумма кассовых сборов была в', box_year['Сумма кассовых сборов, млн.'].idxmax())"
   ]
  },
  {
   "cell_type": "markdown",
   "metadata": {},
   "source": [
    "**Судя по графику сумма кассовых сборов начиная с 2013 года начала постепенно расти, продуктивный рост отмечается с 2014 по 2016 год, за 2 года сумма кассовых сборов выросла почти в 5 раз. И с 2016 по 2019 г. динамика остается в стабильном русле, без скачков.**\n",
    "\n",
    "**Минимальная сумма кассовых сборов отмечается в 2010 г., возможно в данный период еще не было активного сбора информации по данному показателю, либо информация не предоставлялась вовсе. Максимальный сбор отмечается в 2018 г., судя по данным с сайта \"Фонд Кино\" доля российского кино в кинотеатрах страны достигала 28,9% по количеству посещений и 27,5% по кассовым сборам (в 2017 году 25,6% и 24,3%). Возросший интерес кинозрителей к российским фильмам позволил компенсировать общее снижение кинотеатральной посещаемости. https://www.fond-kino.ru/news/kinoprokat-rossii-itogi-2018-goda/**"
   ]
  },
  {
   "cell_type": "markdown",
   "metadata": {
    "id": "G-7qS-N-gFyY"
   },
   "source": [
    "- С помощью сводной таблицы посчитайте среднюю и медианную сумму сборов для каждого года."
   ]
  },
  {
   "cell_type": "code",
   "execution_count": 61,
   "metadata": {
    "id": "jmp-rgg9gFyY"
   },
   "outputs": [
    {
     "data": {
      "text/html": [
       "<div>\n",
       "<style scoped>\n",
       "    .dataframe tbody tr th:only-of-type {\n",
       "        vertical-align: middle;\n",
       "    }\n",
       "\n",
       "    .dataframe tbody tr th {\n",
       "        vertical-align: top;\n",
       "    }\n",
       "\n",
       "    .dataframe thead th {\n",
       "        text-align: right;\n",
       "    }\n",
       "</style>\n",
       "<table border=\"1\" class=\"dataframe\">\n",
       "  <thead>\n",
       "    <tr style=\"text-align: right;\">\n",
       "      <th></th>\n",
       "      <th>Сумма кассовых сборов, млн.</th>\n",
       "      <th>Среднее по сборам</th>\n",
       "      <th>Медиана по сборам</th>\n",
       "    </tr>\n",
       "    <tr>\n",
       "      <th>show_year</th>\n",
       "      <th></th>\n",
       "      <th></th>\n",
       "      <th></th>\n",
       "    </tr>\n",
       "  </thead>\n",
       "  <tbody>\n",
       "    <tr>\n",
       "      <th>2010</th>\n",
       "      <td>2.43</td>\n",
       "      <td>0.03</td>\n",
       "      <td>0.00</td>\n",
       "    </tr>\n",
       "    <tr>\n",
       "      <th>2011</th>\n",
       "      <td>14.10</td>\n",
       "      <td>0.16</td>\n",
       "      <td>0.00</td>\n",
       "    </tr>\n",
       "    <tr>\n",
       "      <th>2012</th>\n",
       "      <td>6.90</td>\n",
       "      <td>0.07</td>\n",
       "      <td>0.01</td>\n",
       "    </tr>\n",
       "    <tr>\n",
       "      <th>2013</th>\n",
       "      <td>29.80</td>\n",
       "      <td>0.19</td>\n",
       "      <td>0.00</td>\n",
       "    </tr>\n",
       "    <tr>\n",
       "      <th>2014</th>\n",
       "      <td>7444.95</td>\n",
       "      <td>30.51</td>\n",
       "      <td>0.07</td>\n",
       "    </tr>\n",
       "    <tr>\n",
       "      <th>2015</th>\n",
       "      <td>39497.37</td>\n",
       "      <td>86.24</td>\n",
       "      <td>5.20</td>\n",
       "    </tr>\n",
       "    <tr>\n",
       "      <th>2016</th>\n",
       "      <td>47866.30</td>\n",
       "      <td>92.23</td>\n",
       "      <td>4.04</td>\n",
       "    </tr>\n",
       "    <tr>\n",
       "      <th>2017</th>\n",
       "      <td>48563.70</td>\n",
       "      <td>136.03</td>\n",
       "      <td>9.97</td>\n",
       "    </tr>\n",
       "    <tr>\n",
       "      <th>2018</th>\n",
       "      <td>49668.36</td>\n",
       "      <td>104.79</td>\n",
       "      <td>8.91</td>\n",
       "    </tr>\n",
       "    <tr>\n",
       "      <th>2019</th>\n",
       "      <td>48425.70</td>\n",
       "      <td>91.37</td>\n",
       "      <td>4.63</td>\n",
       "    </tr>\n",
       "  </tbody>\n",
       "</table>\n",
       "</div>"
      ],
      "text/plain": [
       "           Сумма кассовых сборов, млн.  Среднее по сборам  Медиана по сборам\n",
       "show_year                                                                   \n",
       "2010                              2.43               0.03               0.00\n",
       "2011                             14.10               0.16               0.00\n",
       "2012                              6.90               0.07               0.01\n",
       "2013                             29.80               0.19               0.00\n",
       "2014                           7444.95              30.51               0.07\n",
       "2015                          39497.37              86.24               5.20\n",
       "2016                          47866.30              92.23               4.04\n",
       "2017                          48563.70             136.03               9.97\n",
       "2018                          49668.36             104.79               8.91\n",
       "2019                          48425.70              91.37               4.63"
      ]
     },
     "execution_count": 61,
     "metadata": {},
     "output_type": "execute_result"
    }
   ],
   "source": [
    "# исключим информацию о фильмах без сборов\n",
    "box_year['Среднее по сборам'] = movie_rus.query('box_office > 0').pivot_table(index='show_year', values='box_office', aggfunc='mean').round(2)\n",
    "box_year['Медиана по сборам'] = movie_rus.query('box_office > 0').pivot_table(index='show_year', values='box_office', aggfunc='median').round(2)\n",
    "box_year"
   ]
  },
  {
   "cell_type": "code",
   "execution_count": 62,
   "metadata": {},
   "outputs": [
    {
     "data": {
      "image/png": "[encoded data removed]",
      "text/plain": [
       "<Figure size 648x360 with 1 Axes>"
      ]
     },
     "metadata": {
      "needs_background": "light"
     },
     "output_type": "display_data"
    }
   ],
   "source": [
    "box_year.plot(kind='line', title='Среднее и медианное значение суммы сборов по годам', rot=1,\\\n",
    "                                                       y=['Среднее по сборам','Медиана по сборам'], figsize=(9,5), grid=True)\n",
    "plt.xlabel('Год')\n",
    "plt.ylabel('Кассовый сбор, млн')\n",
    "plt.show()"
   ]
  },
  {
   "cell_type": "markdown",
   "metadata": {},
   "source": [
    "<div class=\"alert alert-block alert-warning\">\n",
    " \n",
    "### Комментарий ревьюера\n",
    "    \n",
    "#### Совет\n",
    "    \n",
    "Тут можно было график среднего и медианы построить. "
   ]
  },
  {
   "cell_type": "code",
   "execution_count": 63,
   "metadata": {},
   "outputs": [
    {
     "data": {
      "image/png": "[encoded data removed]",
      "text/plain": [
       "<Figure size 720x720 with 1 Axes>"
      ]
     },
     "metadata": {
      "needs_background": "light"
     },
     "output_type": "display_data"
    }
   ],
   "source": [
    "# посмотрим на диаграмму размаха по сборам\n",
    "movie_rus.boxplot(column=['box_office'],figsize=(10,10))\n",
    "plt.show()"
   ]
  },
  {
   "cell_type": "markdown",
   "metadata": {},
   "source": [
    "**Такая разница в показателях между средним и медианным значением объясняется наличием фильмов с очень большими сборами, при этом на медиану данные фильмы не влияют.\n",
    "Показатели среднего и медианы в 2017 г. выше чем по остальным годам, это объясняется резким сокращением выхода фильмов в прокат и высокой долей информации по кассовым сборам.**"
   ]
  },
  {
   "cell_type": "markdown",
   "metadata": {
    "id": "Ok89WFwJgFyZ"
   },
   "source": [
    "- Определите, влияет ли возрастное ограничение аудитории («6+», «12+», «16+», «18+» и т. д.) на сборы фильма в прокате в период с 2015 по 2019 год? Фильмы с каким возрастным ограничением собрали больше всего денег в прокате? Меняется ли картина в зависимости от года? Если да, предположите, с чем это может быть связано."
   ]
  },
  {
   "cell_type": "code",
   "execution_count": 64,
   "metadata": {
    "id": "jsSbEqfjgFya"
   },
   "outputs": [
    {
     "data": {
      "text/html": [
       "<div>\n",
       "<style scoped>\n",
       "    .dataframe tbody tr th:only-of-type {\n",
       "        vertical-align: middle;\n",
       "    }\n",
       "\n",
       "    .dataframe tbody tr th {\n",
       "        vertical-align: top;\n",
       "    }\n",
       "\n",
       "    .dataframe thead th {\n",
       "        text-align: right;\n",
       "    }\n",
       "</style>\n",
       "<table border=\"1\" class=\"dataframe\">\n",
       "  <thead>\n",
       "    <tr style=\"text-align: right;\">\n",
       "      <th>age_restriction</th>\n",
       "      <th>«0+» - для любой зрительской аудитории</th>\n",
       "      <th>«12+» - для детей старше 12 лет</th>\n",
       "      <th>«16+» - для детей старше 16 лет</th>\n",
       "      <th>«18+» - запрещено для детей</th>\n",
       "      <th>«6+» - для детей старше 6 лет</th>\n",
       "    </tr>\n",
       "    <tr>\n",
       "      <th>show_year</th>\n",
       "      <th></th>\n",
       "      <th></th>\n",
       "      <th></th>\n",
       "      <th></th>\n",
       "      <th></th>\n",
       "    </tr>\n",
       "  </thead>\n",
       "  <tbody>\n",
       "    <tr>\n",
       "      <th>2015</th>\n",
       "      <td>379.052</td>\n",
       "      <td>13616.087</td>\n",
       "      <td>11368.117</td>\n",
       "      <td>5432.311</td>\n",
       "      <td>8701.802</td>\n",
       "    </tr>\n",
       "    <tr>\n",
       "      <th>2016</th>\n",
       "      <td>150.226</td>\n",
       "      <td>12204.447</td>\n",
       "      <td>16664.549</td>\n",
       "      <td>6793.930</td>\n",
       "      <td>12053.146</td>\n",
       "    </tr>\n",
       "    <tr>\n",
       "      <th>2017</th>\n",
       "      <td>229.599</td>\n",
       "      <td>7851.428</td>\n",
       "      <td>18745.043</td>\n",
       "      <td>9651.488</td>\n",
       "      <td>12086.143</td>\n",
       "    </tr>\n",
       "    <tr>\n",
       "      <th>2018</th>\n",
       "      <td>32.449</td>\n",
       "      <td>14267.249</td>\n",
       "      <td>16503.603</td>\n",
       "      <td>8760.086</td>\n",
       "      <td>10104.975</td>\n",
       "    </tr>\n",
       "    <tr>\n",
       "      <th>2019</th>\n",
       "      <td>17.746</td>\n",
       "      <td>12680.198</td>\n",
       "      <td>12753.417</td>\n",
       "      <td>10121.797</td>\n",
       "      <td>12852.546</td>\n",
       "    </tr>\n",
       "  </tbody>\n",
       "</table>\n",
       "</div>"
      ],
      "text/plain": [
       "age_restriction  «0+» - для любой зрительской аудитории  \\\n",
       "show_year                                                 \n",
       "2015                                            379.052   \n",
       "2016                                            150.226   \n",
       "2017                                            229.599   \n",
       "2018                                             32.449   \n",
       "2019                                             17.746   \n",
       "\n",
       "age_restriction  «12+» - для детей старше 12 лет  \\\n",
       "show_year                                          \n",
       "2015                                   13616.087   \n",
       "2016                                   12204.447   \n",
       "2017                                    7851.428   \n",
       "2018                                   14267.249   \n",
       "2019                                   12680.198   \n",
       "\n",
       "age_restriction  «16+» - для детей старше 16 лет  «18+» - запрещено для детей  \\\n",
       "show_year                                                                       \n",
       "2015                                   11368.117                     5432.311   \n",
       "2016                                   16664.549                     6793.930   \n",
       "2017                                   18745.043                     9651.488   \n",
       "2018                                   16503.603                     8760.086   \n",
       "2019                                   12753.417                    10121.797   \n",
       "\n",
       "age_restriction  «6+» - для детей старше 6 лет  \n",
       "show_year                                       \n",
       "2015                                  8701.802  \n",
       "2016                                 12053.146  \n",
       "2017                                 12086.143  \n",
       "2018                                 10104.975  \n",
       "2019                                 12852.546  "
      ]
     },
     "execution_count": 64,
     "metadata": {},
     "output_type": "execute_result"
    }
   ],
   "source": [
    "box_age = movie_rus.query('show_year >= 2015 and box_office > 0').pivot_table(index='show_year', columns='age_restriction', \\\n",
    "                                                                              values='box_office', aggfunc='sum')\n",
    "box_age"
   ]
  },
  {
   "cell_type": "code",
   "execution_count": 65,
   "metadata": {},
   "outputs": [
    {
     "data": {
      "image/png": "[encoded data removed]",
      "text/plain": [
       "<Figure size 792x432 with 1 Axes>"
      ]
     },
     "metadata": {
      "needs_background": "light"
     },
     "output_type": "display_data"
    }
   ],
   "source": [
    "box_age.plot(kind='line', title='Засисимость сборов от возрастной категории', rot=1, figsize=(11,6), grid=True)\n",
    "plt.legend(loc=(0.533, 0.1))\n",
    "plt.xlabel('Год')\n",
    "plt.ylabel('Кассовый сбор, млн')\n",
    "plt.show()"
   ]
  },
  {
   "cell_type": "markdown",
   "metadata": {},
   "source": [
    "<div class=\"alert alert-block alert-danger\">\n",
    " \n",
    "### Комментарий ревьюера\n",
    "    \n",
    "#### Ошибка\n",
    "    \n",
    "Давай сделаем так, чтобы легенда не закрывала кривые графиков. "
   ]
  },
  {
   "cell_type": "markdown",
   "metadata": {},
   "source": [
    "<div class=\"alert alert-block alert-info\">\n",
    "<b>Комментарий ученика:</b>\n",
    "Исправила.\n",
    "</div>"
   ]
  },
  {
   "cell_type": "markdown",
   "metadata": {},
   "source": [
    "<div class=\"alert alert-block alert-success\">\n",
    " \n",
    "# Комментарий ревьюера ver.2\n",
    "    \n",
    "#### Успех\n",
    "    \n",
    "Супер"
   ]
  },
  {
   "cell_type": "code",
   "execution_count": 66,
   "metadata": {},
   "outputs": [
    {
     "data": {
      "text/plain": [
       "age_restriction\n",
       "«0+» - для любой зрительской аудитории      809.072\n",
       "«12+» - для детей старше 12 лет           60619.409\n",
       "«16+» - для детей старше 16 лет           76034.729\n",
       "«18+» - запрещено для детей               40759.612\n",
       "«6+» - для детей старше 6 лет             55798.612\n",
       "Name: box_office, dtype: float64"
      ]
     },
     "execution_count": 66,
     "metadata": {},
     "output_type": "execute_result"
    }
   ],
   "source": [
    "# посмотрим общую сумму сборов по каждой категории\n",
    "movie_rus.query('show_year >= 2015 and box_office > 0').groupby('age_restriction')['box_office'].sum()"
   ]
  },
  {
   "cell_type": "markdown",
   "metadata": {},
   "source": [
    "**Самые востребованные фильмы по кассовым сборам с 2015 по 2019 г. - фильмы для детей старше 16 лет, по ним максимальные цифры.**\n",
    "\n",
    "\n",
    "Однако, если посмотреть на динамику сборов по годам, то можно заметить, что так было не всегда: в 2015 г. самыми востребованными были фильмы **для детей старше 12 лет**, но позднее динамика данных фильмов резко пошла на спад, вплоть до 2017 г., но уже через год увеличили касссовые сборы в 2 раза и **к 2019 г. данная категория стала практически такая же востребованная как и 16+**.\n",
    "\n",
    "\n",
    "2017 г. также стал пиковым для категории **18+**, т.к. до этого года сборы по данным фильмам была не высоки, и **в 2019 г. увеличили сборы практически в 2 раза относительно 2015 г.**\n",
    "\n",
    "Провальным годом для категории **6+** был 2018 г. Но в 2019 г. данная категория собрала макисмальную сумму по году.\n",
    "\n",
    "\n",
    "Самой менее востребованной является категория **0+**, возможно это связано с тем, что большинство фильмов стало выходить с пометкой 6+, т.к. дети начинают ходить в кинотеатр не ранее 4 лет, то и востребованность категории 0+ становится сомнительной."
   ]
  },
  {
   "cell_type": "markdown",
   "metadata": {},
   "source": [
    "<span style=\"color:blue\">**Вывод по исследовательскому анализу**</span>\n",
    "\n",
    "**В ходе анализа данных кинопроката в зависимости от года, можно сделать следующие выводы:**\n",
    "* Как производство фильмов, так и кассовые сборы за период с 2010 по 2019 г. имеют положительную тенденцию, но при этом стоит не забывать, что доля информации по сборам в среднем составляет не более 50% от общего числа фильмов\n",
    "* В 2017 г был резкий спад выхода фильмов в прокат\n",
    "* Максимальная сумма сборов была в 2018 г., а самыми востребованными категориями были \"12+\" и \"16+\"\n",
    "* Меньше всего востребована категория фильмов 0+\n",
    "* К концу исследуемого периода самой востребованной категорией стала 6+"
   ]
  },
  {
   "cell_type": "markdown",
   "metadata": {
    "id": "l_Kg6Ku4gFya"
   },
   "source": [
    "## Исследуйте фильмы, которые получили государственную поддержку\n",
    "\n",
    "На этом этапе нет конкретных инструкций и заданий — поищите интересные закономерности в данных. Посмотрите, сколько выделяют средств на поддержку кино. Проверьте, хорошо ли окупаются такие фильмы, какой у них рейтинг."
   ]
  },
  {
   "cell_type": "code",
   "execution_count": 67,
   "metadata": {},
   "outputs": [],
   "source": [
    "# для удобства добавим столбец с общей суммой финансирования по каждому фильму\n",
    "movie_rus['support_total'] = movie_rus['refundable_support'] + movie_rus['nonrefundable_support'] "
   ]
  },
  {
   "cell_type": "code",
   "execution_count": 68,
   "metadata": {},
   "outputs": [
    {
     "data": {
      "text/plain": [
       "45.4"
      ]
     },
     "execution_count": 68,
     "metadata": {},
     "output_type": "execute_result"
    }
   ],
   "source": [
    "# посчитаем среднюю долю гос поддержки по всем кинопроектам\n",
    "(movie_rus['support_total'].sum() / movie_rus['budget'].sum() * 100).round(1)"
   ]
  },
  {
   "cell_type": "code",
   "execution_count": 69,
   "metadata": {},
   "outputs": [
    {
     "data": {
      "text/plain": [
       "Художественный                5899\n",
       "Анимационный                   829\n",
       "Прочие                         401\n",
       "Документальный                 280\n",
       "Научно-популярный               50\n",
       "Музыкально-развлекательный       1\n",
       "Name: type, dtype: int64"
      ]
     },
     "execution_count": 69,
     "metadata": {},
     "output_type": "execute_result"
    }
   ],
   "source": [
    "# посмотрим какой тип фильмов преобладает\n",
    "movie_rus['type'].value_counts()"
   ]
  },
  {
   "cell_type": "code",
   "execution_count": 70,
   "metadata": {},
   "outputs": [],
   "source": [
    "# посмотрим на какие фильмы выделяются деньги чаще всего\n",
    "movie_type = movie_rus.query('support_total > 0').pivot_table(index='type', values='support_total', aggfunc=['count', 'sum']) \\\n",
    ".round()\n",
    "movie_type.columns = ['Количество фильмов', 'Сумма поддержки']"
   ]
  },
  {
   "cell_type": "code",
   "execution_count": 71,
   "metadata": {},
   "outputs": [
    {
     "data": {
      "text/html": [
       "<div>\n",
       "<style scoped>\n",
       "    .dataframe tbody tr th:only-of-type {\n",
       "        vertical-align: middle;\n",
       "    }\n",
       "\n",
       "    .dataframe tbody tr th {\n",
       "        vertical-align: top;\n",
       "    }\n",
       "\n",
       "    .dataframe thead th {\n",
       "        text-align: right;\n",
       "    }\n",
       "</style>\n",
       "<table border=\"1\" class=\"dataframe\">\n",
       "  <thead>\n",
       "    <tr style=\"text-align: right;\">\n",
       "      <th></th>\n",
       "      <th>Количество фильмов</th>\n",
       "      <th>Сумма поддержки</th>\n",
       "      <th>Cумма кассового сбора</th>\n",
       "      <th>Процент окупаемости поддержки</th>\n",
       "      <th>Рейтинг</th>\n",
       "    </tr>\n",
       "    <tr>\n",
       "      <th>type</th>\n",
       "      <th></th>\n",
       "      <th></th>\n",
       "      <th></th>\n",
       "      <th></th>\n",
       "      <th></th>\n",
       "    </tr>\n",
       "  </thead>\n",
       "  <tbody>\n",
       "    <tr>\n",
       "      <th>Анимационный</th>\n",
       "      <td>31</td>\n",
       "      <td>2570.0</td>\n",
       "      <td>5623.0</td>\n",
       "      <td>118.793774</td>\n",
       "      <td>5.6</td>\n",
       "    </tr>\n",
       "    <tr>\n",
       "      <th>Документальный</th>\n",
       "      <td>1</td>\n",
       "      <td>3.0</td>\n",
       "      <td>0.0</td>\n",
       "      <td>-100.000000</td>\n",
       "      <td>8.0</td>\n",
       "    </tr>\n",
       "    <tr>\n",
       "      <th>Художественный</th>\n",
       "      <td>300</td>\n",
       "      <td>17627.0</td>\n",
       "      <td>36490.0</td>\n",
       "      <td>107.011970</td>\n",
       "      <td>5.7</td>\n",
       "    </tr>\n",
       "  </tbody>\n",
       "</table>\n",
       "</div>"
      ],
      "text/plain": [
       "                Количество фильмов  Сумма поддержки  Cумма кассового сбора  \\\n",
       "type                                                                         \n",
       "Анимационный                    31           2570.0                 5623.0   \n",
       "Документальный                   1              3.0                    0.0   \n",
       "Художественный                 300          17627.0                36490.0   \n",
       "\n",
       "                Процент окупаемости поддержки  Рейтинг  \n",
       "type                                                    \n",
       "Анимационный                       118.793774      5.6  \n",
       "Документальный                    -100.000000      8.0  \n",
       "Художественный                     107.011970      5.7  "
      ]
     },
     "execution_count": 71,
     "metadata": {},
     "output_type": "execute_result"
    }
   ],
   "source": [
    "# добавим данные по кассовым сборам , % окупаемости и рейтинг \n",
    "movie_type['Cумма кассового сбора'] = movie_rus.query('support_total > 0').pivot_table(index='type', values='box_office', \\\n",
    "                                                                                       aggfunc='sum').round()\n",
    "\n",
    "movie_type['Процент окупаемости поддержки'] = (movie_type['Cумма кассового сбора'] - movie_type['Сумма поддержки']) / \\\n",
    "movie_type['Сумма поддержки']*100\n",
    "\n",
    "movie_type['Рейтинг'] = movie_rus.query('support_total > 0').pivot_table(index='type', values='ratings', aggfunc='mean').round(1)\n",
    "movie_type"
   ]
  },
  {
   "cell_type": "code",
   "execution_count": 72,
   "metadata": {},
   "outputs": [
    {
     "data": {
      "image/png": "[encoded data removed]",
      "text/plain": [
       "<Figure size 360x360 with 1 Axes>"
      ]
     },
     "metadata": {
      "needs_background": "light"
     },
     "output_type": "display_data"
    }
   ],
   "source": [
    "movie_type.plot(kind='bar', title='Рейтинг фильмов с гос.поддержкой', y='Рейтинг', rot=0, legend=None, figsize=(5,5))\n",
    "plt.ylabel('Рейтинг')\n",
    "plt.xlabel('Тип фильма')\n",
    "plt.show()"
   ]
  },
  {
   "cell_type": "markdown",
   "metadata": {},
   "source": [
    "<div class=\"alert alert-block alert-success\">\n",
    " \n",
    "### Комментарий ревьюера\n",
    "    \n",
    "#### Успех\n",
    "    \n",
    "В целом, даже не удивительно, что лидером стал документальный жанр. "
   ]
  },
  {
   "cell_type": "markdown",
   "metadata": {},
   "source": [
    "**Чаще всего производят фильмы художественного типа и наибольшая сумма финансирования выделяется именно на эти фильмы.  Окупаемость по данному типу превышает 100 %. Однако, средний рейтинг не высок - 5,7.**\n",
    "\n",
    "**Высокой окупаемостью выделяются анимационные фильмы.**\n",
    "\n",
    "**По предоставленным данным был профинансирован документальный фильм,причем он имеет отличный рейтинг - 8. Но,к сожалению, сумма кассового сбора по нему неизвестна.**"
   ]
  },
  {
   "cell_type": "code",
   "execution_count": 73,
   "metadata": {},
   "outputs": [
    {
     "data": {
      "text/plain": [
       "драма              1687\n",
       "не определен        957\n",
       "комедия             696\n",
       "боевик              617\n",
       "ужасы               573\n",
       "мультфильм          537\n",
       "триллер             521\n",
       "фантастика          409\n",
       "мелодрама           383\n",
       "фэнтези             358\n",
       "документальный      219\n",
       "аниме                74\n",
       "мюзикл               64\n",
       "детектив             56\n",
       "приключения          55\n",
       "военный              46\n",
       "криминал             39\n",
       "биография            33\n",
       "семейный             32\n",
       "детский              28\n",
       "история              26\n",
       "короткометражка      12\n",
       "концерт              10\n",
       "спорт                 9\n",
       "вестерн               7\n",
       "музыка                7\n",
       "для взрослых          3\n",
       "реальное ТВ           1\n",
       "фильм-нуар            1\n",
       "Name: main_genre, dtype: int64"
      ]
     },
     "execution_count": 73,
     "metadata": {},
     "output_type": "execute_result"
    }
   ],
   "source": [
    "# проведем такой же анализ, но уже в разрезе жанров\n",
    "movie_rus['main_genre'].value_counts()"
   ]
  },
  {
   "cell_type": "markdown",
   "metadata": {},
   "source": [
    "<div class=\"alert alert-block alert-success\">\n",
    " \n",
    "### Комментарий ревьюера\n",
    "    \n",
    "#### Успех\n",
    "    \n",
    "И здесь лидеры по жанрам достаточно предсказуемы. "
   ]
  },
  {
   "cell_type": "code",
   "execution_count": 74,
   "metadata": {},
   "outputs": [],
   "source": [
    "movie_genre = movie_rus.query('support_total > 0').pivot_table(index='main_genre', values='support_total', \\\n",
    "                                                               aggfunc=['count', 'sum']).round()\n",
    "movie_genre.columns = ['Количество фильмов', 'Сумма поддержки']"
   ]
  },
  {
   "cell_type": "code",
   "execution_count": 75,
   "metadata": {},
   "outputs": [
    {
     "data": {
      "text/html": [
       "<div>\n",
       "<style scoped>\n",
       "    .dataframe tbody tr th:only-of-type {\n",
       "        vertical-align: middle;\n",
       "    }\n",
       "\n",
       "    .dataframe tbody tr th {\n",
       "        vertical-align: top;\n",
       "    }\n",
       "\n",
       "    .dataframe thead th {\n",
       "        text-align: right;\n",
       "    }\n",
       "</style>\n",
       "<table border=\"1\" class=\"dataframe\">\n",
       "  <thead>\n",
       "    <tr style=\"text-align: right;\">\n",
       "      <th></th>\n",
       "      <th>Количество фильмов</th>\n",
       "      <th>Сумма поддержки</th>\n",
       "      <th>Cумма кассового сбора</th>\n",
       "      <th>Процент окупаемости поддержки</th>\n",
       "      <th>Рейтинг</th>\n",
       "    </tr>\n",
       "    <tr>\n",
       "      <th>main_genre</th>\n",
       "      <th></th>\n",
       "      <th></th>\n",
       "      <th></th>\n",
       "      <th></th>\n",
       "      <th></th>\n",
       "    </tr>\n",
       "  </thead>\n",
       "  <tbody>\n",
       "    <tr>\n",
       "      <th>драма</th>\n",
       "      <td>93</td>\n",
       "      <td>5314.0</td>\n",
       "      <td>9491.0</td>\n",
       "      <td>78.603688</td>\n",
       "      <td>6.4</td>\n",
       "    </tr>\n",
       "    <tr>\n",
       "      <th>комедия</th>\n",
       "      <td>74</td>\n",
       "      <td>3218.0</td>\n",
       "      <td>12480.0</td>\n",
       "      <td>287.818521</td>\n",
       "      <td>5.5</td>\n",
       "    </tr>\n",
       "    <tr>\n",
       "      <th>мультфильм</th>\n",
       "      <td>31</td>\n",
       "      <td>2462.0</td>\n",
       "      <td>5622.0</td>\n",
       "      <td>128.350934</td>\n",
       "      <td>5.8</td>\n",
       "    </tr>\n",
       "    <tr>\n",
       "      <th>фантастика</th>\n",
       "      <td>11</td>\n",
       "      <td>1406.0</td>\n",
       "      <td>1718.0</td>\n",
       "      <td>22.190612</td>\n",
       "      <td>6.1</td>\n",
       "    </tr>\n",
       "    <tr>\n",
       "      <th>фэнтези</th>\n",
       "      <td>11</td>\n",
       "      <td>1033.0</td>\n",
       "      <td>996.0</td>\n",
       "      <td>-3.581801</td>\n",
       "      <td>6.1</td>\n",
       "    </tr>\n",
       "    <tr>\n",
       "      <th>история</th>\n",
       "      <td>4</td>\n",
       "      <td>1020.0</td>\n",
       "      <td>1455.0</td>\n",
       "      <td>42.647059</td>\n",
       "      <td>5.4</td>\n",
       "    </tr>\n",
       "    <tr>\n",
       "      <th>триллер</th>\n",
       "      <td>15</td>\n",
       "      <td>770.0</td>\n",
       "      <td>700.0</td>\n",
       "      <td>-9.090909</td>\n",
       "      <td>5.7</td>\n",
       "    </tr>\n",
       "    <tr>\n",
       "      <th>приключения</th>\n",
       "      <td>7</td>\n",
       "      <td>696.0</td>\n",
       "      <td>1206.0</td>\n",
       "      <td>73.275862</td>\n",
       "      <td>5.9</td>\n",
       "    </tr>\n",
       "    <tr>\n",
       "      <th>не определен</th>\n",
       "      <td>16</td>\n",
       "      <td>689.0</td>\n",
       "      <td>1482.0</td>\n",
       "      <td>115.094340</td>\n",
       "      <td>0.0</td>\n",
       "    </tr>\n",
       "    <tr>\n",
       "      <th>детектив</th>\n",
       "      <td>5</td>\n",
       "      <td>485.0</td>\n",
       "      <td>139.0</td>\n",
       "      <td>-71.340206</td>\n",
       "      <td>6.8</td>\n",
       "    </tr>\n",
       "  </tbody>\n",
       "</table>\n",
       "</div>"
      ],
      "text/plain": [
       "              Количество фильмов  Сумма поддержки  Cумма кассового сбора  \\\n",
       "main_genre                                                                 \n",
       "драма                         93           5314.0                 9491.0   \n",
       "комедия                       74           3218.0                12480.0   \n",
       "мультфильм                    31           2462.0                 5622.0   \n",
       "фантастика                    11           1406.0                 1718.0   \n",
       "фэнтези                       11           1033.0                  996.0   \n",
       "история                        4           1020.0                 1455.0   \n",
       "триллер                       15            770.0                  700.0   \n",
       "приключения                    7            696.0                 1206.0   \n",
       "не определен                  16            689.0                 1482.0   \n",
       "детектив                       5            485.0                  139.0   \n",
       "\n",
       "              Процент окупаемости поддержки  Рейтинг  \n",
       "main_genre                                            \n",
       "драма                             78.603688      6.4  \n",
       "комедия                          287.818521      5.5  \n",
       "мультфильм                       128.350934      5.8  \n",
       "фантастика                        22.190612      6.1  \n",
       "фэнтези                           -3.581801      6.1  \n",
       "история                           42.647059      5.4  \n",
       "триллер                           -9.090909      5.7  \n",
       "приключения                       73.275862      5.9  \n",
       "не определен                     115.094340      0.0  \n",
       "детектив                         -71.340206      6.8  "
      ]
     },
     "execution_count": 75,
     "metadata": {},
     "output_type": "execute_result"
    }
   ],
   "source": [
    "# добавим данные по кассовым сборам , % окупаемости и рейтинг \n",
    "movie_genre['Cумма кассового сбора'] = movie_rus.query('support_total > 0').pivot_table(index='main_genre', values='box_office',\\\n",
    "                                                                                        aggfunc='sum').round()\n",
    "\n",
    "movie_genre['Процент окупаемости поддержки'] = (movie_genre['Cумма кассового сбора'] - movie_genre['Сумма поддержки']) / \\\n",
    "movie_genre['Сумма поддержки']*100\n",
    "\n",
    "movie_genre['Рейтинг'] = movie_rus.query('support_total > 0').pivot_table(index='main_genre', values='ratings', aggfunc='mean').round(1)\n",
    "movie_genre.sort_values(by='Сумма поддержки', ascending=False).head(10)"
   ]
  },
  {
   "cell_type": "code",
   "execution_count": 76,
   "metadata": {},
   "outputs": [
    {
     "data": {
      "image/png": "[encoded data removed]",
      "text/plain": [
       "<Figure size 576x432 with 1 Axes>"
      ]
     },
     "metadata": {
      "needs_background": "light"
     },
     "output_type": "display_data"
    }
   ],
   "source": [
    "movie_genre.sort_values(by='Рейтинг').plot(kind='barh', title='Рейтинг фильмов с гос.поддержкой', y='Рейтинг', rot=0, legend=None, \\\n",
    "                 color='green', figsize=(8,6))\n",
    "plt.ylabel('Жанр фильма')\n",
    "plt.xlabel('Рейтинг')\n",
    "plt.show()  "
   ]
  },
  {
   "cell_type": "code",
   "execution_count": 77,
   "metadata": {},
   "outputs": [
    {
     "data": {
      "image/png": "[encoded data removed]",
      "text/plain": [
       "<Figure size 576x432 with 1 Axes>"
      ]
     },
     "metadata": {
      "needs_background": "light"
     },
     "output_type": "display_data"
    }
   ],
   "source": [
    "movie_genre.sort_values(by='Процент окупаемости поддержки').plot(kind='barh', title='Процент окупаемости фильмов с гос.поддержкой',y='Процент окупаемости поддержки', \\\n",
    "                 xlim=(0,600), rot=0, legend=None, figsize=(8,6))\n",
    "plt.xmin=0\n",
    "plt.ylabel('Жанр фильма')\n",
    "plt.xlabel('Процент окупаемости')\n",
    "plt.show()  "
   ]
  },
  {
   "cell_type": "markdown",
   "metadata": {},
   "source": [
    "* Чаще всего фин.поддержка выделяется на **драмы, комедии и мультфильмы**. Больше всего окупаемость у комедий практически 300 %, ситуация по мультфильмам также \"позитивна\" - окупаемость достигает 128%. Но при этом эти жанры имеют низкий рейтинг, что может говорить о том, что в скором времени могут потерять популярность у зрителей. А вот с драмами ситуация противоположна, не смотря на относительно высокий рейтинг(6,4), данный жанр не окупает себя в должной мере - 78%.\n",
    "\n",
    "* Не смотря на невысокую сумму поддержки от государства фильмам **спортивного и криминального жанра**, они имеют и высокие рейтинги, и высокие проценты окупаемости. Данные жанры явно недооценивают в Фонде кино.\n",
    "\n",
    "* Также недостаточно Министерство культуры уделяет внимание такому жанру как **биография**, судя по анализируемым данным, люди с охотностью посещают такие премьеры, при этом и высоко оценивают сами кинокартины.\n",
    "\n",
    "* **Жанры: фентези, триллер, детектив и мелодрама** не окупают вложенных в них средств, по всей видимости они не так востребованны у зрителей, однако, любители этих жанров оценивают низко только триллеры (5,8), остальные получают оценку выше 6.\n",
    "\n",
    "* Несмотря на популярность **ужасов** среди зрителей, качество производимых фильмов не превышает оценки выше 5,2.\n",
    "\n",
    "* Фонд кино уделяет внимание **историческим фильмам**, однако, зритель не проявлет к таким фильмам должного интереса и не оценивает их выше 5,4.\n",
    "\n",
    "* У 16 фильмов жанр и рейтинг не были определены, что могло значительно повлиять на статистику в целом."
   ]
  },
  {
   "cell_type": "markdown",
   "metadata": {},
   "source": [
    "<div class=\"alert alert-block alert-success\">\n",
    " \n",
    "### Комментарий ревьюера\n",
    "    \n",
    "#### Успех\n",
    "    \n",
    "Очень подробно разобрала графики выше. Эти инсайты нам точно пригодятся при составлении итогового вывода. "
   ]
  },
  {
   "cell_type": "code",
   "execution_count": 78,
   "metadata": {},
   "outputs": [
    {
     "data": {
      "image/png": "[encoded data removed]",
      "text/plain": [
       "<Figure size 720x360 with 1 Axes>"
      ]
     },
     "metadata": {
      "needs_background": "light"
     },
     "output_type": "display_data"
    }
   ],
   "source": [
    "# посмотрим на фильмы, кассовые сборы которых не смогли окупить затраты на него\n",
    "lose_genre = movie_rus.query('support_total > 0 and box_office <= budget').pivot_table(index='main_genre', values = 'box_office', aggfunc='count')\n",
    "lose_genre.sort_values(by='box_office').plot(kind='barh', title = 'Провальные премьеры по жанрам', grid=True, \\\n",
    "                                          legend=None, color='red', figsize=(10,5))\n",
    "plt.ylabel('Жанр фильма')\n",
    "plt.xlabel('Кол-во фильмов')\n",
    "plt.show()"
   ]
  },
  {
   "cell_type": "markdown",
   "metadata": {},
   "source": [
    "**Самыми провальными премьерами стали драмы, комедии и мультфильмы.**"
   ]
  },
  {
   "cell_type": "markdown",
   "metadata": {
    "id": "V2gYwMcPgFyd"
   },
   "source": [
    "## Напишите общий вывод"
   ]
  },
  {
   "cell_type": "markdown",
   "metadata": {},
   "source": [
    "В ходе изучения и предварительной обработки предоставленных данных о кинопрокате в российских кинотеатрах за период с 2010 по 2019 г. **были выявлены и обработаны следующие моменты:**\n",
    "* в датасете были не заполнены данные по многим параметрам. Некоторые пришлось оставить в неизменном виде(такие как продюсер, режиссер), по некоторым удалось заполнить пропуски приближенным значением, остальные пропуски были заполнены нулевым значением.\n",
    "* столбцы с рейтингом и датой премьеры были приведены к надлежащему типу данных\n",
    "* в категориальных столбцах наименования были максимально возможно приведены к единому виду\n",
    "\n",
    "Также для дальнейшего исследования рынка российского кинопроката и выявления трендов в сфере кино **были добавлены следующие столбцы:**\n",
    "* год кинопроката \n",
    "* имя и фамилия режиссера\n",
    "* основной жанр фильма\n",
    "* доля гос.поддержки от общего бюджета фильма\n",
    "\n",
    "**С 2010 по 2019 г. отмечается рост производительности киностудий. Не смотря на то, что в 2017 г. произошел резкий спад выхода фильмов в кинопрокат, уже в 2018 г. количество выходящих фильмов увеличилось на 74%. В ходе проведения исследовательского анализа было выявлено:**\n",
    "* наиболее производительными в киноиндустрии были 2010 и 2019 г.\n",
    "* в 2010 г. информация по кассовым сборам и фин. поддержке минимальна, возможно из-за этого 2010 г. является самым провальным  по сумме сборов\n",
    "* 2018 г. собрал наибольшую выручку в кинопрокате. Однако, показатель средней выручки в 2017 г. выше чем по остальным годам, это объясняется резким сокращением выхода фильмов в прокат и высокой долей информации по кассовым сборам.\n",
    "* самыми востребованными категориями были \"12+\" и \"16+\", но уже к 2019 г. самой востребованной категорией стала 6+\n",
    "* наименьший интерес зрители проявляли к категории 0+\n",
    "\n",
    "В среднем доля поддержки государства киноиндустрии составляет 45% от бюджета. **Наибольшее внимание Министерство культуры и Фонд кино уделяют художественным фильмам, а именно кинокартинам с жанром драма, комедия и мультфильм.** Однако, как показывает проведенный анализ качество выпускаемых картин оставляет желать лучшего. Не смотря на востребованность у зрителя комедий и мультфильмов, зритель ставит крайне низкую оценку данным кинопремьерам - не выше 5,8. Драмы хоть и имеют рейтинг выше(6.4), но должного интереса зрителя не вызывают, в связи с чем окупаемость финансирования не достигает и 100%. Судя по предоставленным данным драмы вообще стали самыми провальными из кинокартин, которые не смогли окупить затраты.\n",
    "\n",
    "**Несправедливо Министерство культуры обделяет гос.поддержкой спортивные, криминальные и биографические фильмы.** Данные жанры имеют достаточно высокие рейтинги и при этом вызывают высокий интерес у зрителя при выходе кинокартины.\n",
    "\n",
    "Стоит отметить, что информации для более полного анализа было недостаточно, стоит уделить внимание при последующем сборе данных следующим моментам:\n",
    "* необходимо заполнять данные по гос. поддержке, либо отмечать, что отсутствует\n",
    "* необходимо разработать определенный список категорий жанров, который не будет допускать опечаток и наличие лишних символов\n",
    "* необходимо привести к единому стилю написания имена киностудий, режиссеров и продюссеров, т.к. разное написание сильно осложняет дальнейший анализ\n",
    "* необходимо установить запрет на незаполения данных по бюджету фильма"
   ]
  },
  {
   "cell_type": "markdown",
   "metadata": {},
   "source": [
    "<div class=\"alert alert-block alert-success\">\n",
    " \n",
    "### Комментарий ревьюера\n",
    "    \n",
    "#### Успех\n",
    "    \n",
    "Итоговый вывод стал потрясающим завершением проекта. С такими данными мы смело можем идти к заказчику и защищать результат. Я убежден, что мы точно поможем составить представление о рынке киноиндустрии жля Министерства культуры."
   ]
  },
  {
   "cell_type": "markdown",
   "metadata": {},
   "source": [
    "<div class=\"alert alert-block alert-info\">\n",
    "\n",
    "## Итоговый комментарии от ревьюера:\n",
    "    \n",
    "#### Успех\n",
    "\n",
    "Спасибо большое тебе за такую качественную работу. Мне было приятно проверять проект и делиться обратной связью. Особенно впечатлила Предобработка данных. Все достаточно структурировано и последовательно. Ты применяешь верные навыки для работы с кодом. Еще хочу отметить понятные и информативные графики. Однако, в работе осталось одно важное замечание.:\n",
    "\n",
    "* Необходимо верно оформить некоторые графики \n",
    "       \n",
    "Еще я оставил рекомендации. Очень надеюсь, что ты учтешь их в этом и последующих проектах.\n",
    "       \n",
    "Жду проект после доработки. Уверен, ты справишься.\n",
    "</div>"
   ]
  },
  {
   "cell_type": "markdown",
   "metadata": {},
   "source": [
    "<div class=\"alert alert-block alert-success\">\n",
    " \n",
    "# Итоговый Комментарий ревьюера ver.2\n",
    "    \n",
    "#### Успех\n",
    "\n",
    "Спасибо тебе за доработку замечаний. Вот теперь я готов принять проект. От себя хочу пожелать успехов в дальнешей учебе. Ты точно справишься и дальше, я уверен. "
   ]
  },
  {
   "cell_type": "code",
   "execution_count": null,
   "metadata": {},
   "outputs": [],
   "source": []
  }
 ],
 "metadata": {
  "ExecuteTimeLog": [
   {
    "duration": 537,
    "start_time": "2021-07-07T10:12:08.634Z"
   },
   {
    "duration": 206,
    "start_time": "2021-07-07T10:12:30.191Z"
   },
   {
    "duration": 227,
    "start_time": "2021-07-07T10:12:33.078Z"
   },
   {
    "duration": 153,
    "start_time": "2021-07-07T10:13:42.146Z"
   },
   {
    "duration": 233,
    "start_time": "2021-07-07T10:30:09.252Z"
   },
   {
    "duration": 19,
    "start_time": "2021-07-07T10:30:15.577Z"
   },
   {
    "duration": 18,
    "start_time": "2021-07-07T10:30:57.348Z"
   },
   {
    "duration": 19,
    "start_time": "2021-07-07T10:31:17.452Z"
   },
   {
    "duration": 21,
    "start_time": "2021-07-07T10:31:32.227Z"
   },
   {
    "duration": 27,
    "start_time": "2021-07-07T10:32:06.588Z"
   },
   {
    "duration": 23,
    "start_time": "2021-07-07T10:32:43.645Z"
   },
   {
    "duration": 24,
    "start_time": "2021-07-07T10:33:06.948Z"
   },
   {
    "duration": 7,
    "start_time": "2021-07-07T10:33:28.558Z"
   },
   {
    "duration": 23,
    "start_time": "2021-07-07T10:33:43.761Z"
   },
   {
    "duration": 28,
    "start_time": "2021-07-07T10:34:13.466Z"
   },
   {
    "duration": 23,
    "start_time": "2021-07-07T10:35:56.187Z"
   },
   {
    "duration": 6,
    "start_time": "2021-07-07T10:36:48.182Z"
   },
   {
    "duration": 14,
    "start_time": "2021-07-07T10:37:49.641Z"
   },
   {
    "duration": 6,
    "start_time": "2021-07-07T10:38:06.694Z"
   },
   {
    "duration": 6,
    "start_time": "2021-07-07T10:38:13.493Z"
   },
   {
    "duration": 19,
    "start_time": "2021-07-07T10:38:44.056Z"
   },
   {
    "duration": 186,
    "start_time": "2021-07-07T10:48:35.618Z"
   },
   {
    "duration": 24,
    "start_time": "2021-07-07T10:48:51.498Z"
   },
   {
    "duration": 20,
    "start_time": "2021-07-07T10:48:59.415Z"
   },
   {
    "duration": 20,
    "start_time": "2021-07-07T10:53:02.195Z"
   },
   {
    "duration": 188,
    "start_time": "2021-07-07T10:54:40.486Z"
   },
   {
    "duration": 115,
    "start_time": "2021-07-07T10:54:52.552Z"
   },
   {
    "duration": 214,
    "start_time": "2021-07-07T10:54:56.354Z"
   },
   {
    "duration": 47,
    "start_time": "2021-07-07T10:54:58.282Z"
   },
   {
    "duration": 217,
    "start_time": "2021-07-07T10:59:16.075Z"
   },
   {
    "duration": 51,
    "start_time": "2021-07-07T10:59:16.243Z"
   },
   {
    "duration": 578,
    "start_time": "2021-07-07T10:59:18.774Z"
   },
   {
    "duration": 161,
    "start_time": "2021-07-07T10:59:21.238Z"
   },
   {
    "duration": 59,
    "start_time": "2021-07-07T10:59:21.453Z"
   },
   {
    "duration": 3,
    "start_time": "2021-07-07T11:02:10.786Z"
   },
   {
    "duration": 13,
    "start_time": "2021-07-07T11:07:07.722Z"
   },
   {
    "duration": 26,
    "start_time": "2021-07-07T11:07:17.958Z"
   },
   {
    "duration": 22,
    "start_time": "2021-07-07T11:08:17.939Z"
   },
   {
    "duration": 212,
    "start_time": "2021-07-07T11:08:19.665Z"
   },
   {
    "duration": 21,
    "start_time": "2021-07-07T11:08:29.945Z"
   },
   {
    "duration": 31,
    "start_time": "2021-07-07T11:08:38.899Z"
   },
   {
    "duration": 23,
    "start_time": "2021-07-07T11:08:54.527Z"
   },
   {
    "duration": 8,
    "start_time": "2021-07-07T11:18:55.974Z"
   },
   {
    "duration": 7,
    "start_time": "2021-07-07T11:19:03.639Z"
   },
   {
    "duration": 7,
    "start_time": "2021-07-07T11:19:06.444Z"
   },
   {
    "duration": 578,
    "start_time": "2021-07-07T12:09:59.576Z"
   },
   {
    "duration": 195,
    "start_time": "2021-07-07T12:10:00.156Z"
   },
   {
    "duration": 115,
    "start_time": "2021-07-07T12:10:00.353Z"
   },
   {
    "duration": 3,
    "start_time": "2021-07-07T12:10:00.470Z"
   },
   {
    "duration": 32,
    "start_time": "2021-07-07T12:10:00.474Z"
   },
   {
    "duration": 23,
    "start_time": "2021-07-07T12:10:00.508Z"
   },
   {
    "duration": 19,
    "start_time": "2021-07-07T12:10:00.533Z"
   },
   {
    "duration": 44,
    "start_time": "2021-07-07T12:10:00.553Z"
   },
   {
    "duration": 7,
    "start_time": "2021-07-07T12:10:00.600Z"
   },
   {
    "duration": 7,
    "start_time": "2021-07-07T12:19:45.761Z"
   },
   {
    "duration": 21,
    "start_time": "2021-07-07T12:21:35.482Z"
   },
   {
    "duration": 21,
    "start_time": "2021-07-07T12:29:23.569Z"
   },
   {
    "duration": 525,
    "start_time": "2021-07-07T12:29:44.542Z"
   },
   {
    "duration": 214,
    "start_time": "2021-07-07T12:29:45.069Z"
   },
   {
    "duration": 92,
    "start_time": "2021-07-07T12:29:45.285Z"
   },
   {
    "duration": 3,
    "start_time": "2021-07-07T12:29:45.379Z"
   },
   {
    "duration": 28,
    "start_time": "2021-07-07T12:29:45.384Z"
   },
   {
    "duration": 23,
    "start_time": "2021-07-07T12:29:45.413Z"
   },
   {
    "duration": 21,
    "start_time": "2021-07-07T12:29:45.437Z"
   },
   {
    "duration": 41,
    "start_time": "2021-07-07T12:29:45.460Z"
   },
   {
    "duration": 7,
    "start_time": "2021-07-07T12:29:45.502Z"
   },
   {
    "duration": 20,
    "start_time": "2021-07-07T12:29:45.511Z"
   },
   {
    "duration": 12,
    "start_time": "2021-07-07T12:34:02.800Z"
   },
   {
    "duration": 7,
    "start_time": "2021-07-07T12:35:10.479Z"
   },
   {
    "duration": 8,
    "start_time": "2021-07-07T12:35:22.440Z"
   },
   {
    "duration": 6,
    "start_time": "2021-07-07T12:35:35.649Z"
   },
   {
    "duration": 6,
    "start_time": "2021-07-07T12:35:43.107Z"
   },
   {
    "duration": 22,
    "start_time": "2021-07-07T12:38:03.029Z"
   },
   {
    "duration": 10,
    "start_time": "2021-07-07T12:38:06.592Z"
   },
   {
    "duration": 563,
    "start_time": "2021-07-07T12:38:46.493Z"
   },
   {
    "duration": 265,
    "start_time": "2021-07-07T12:38:47.058Z"
   },
   {
    "duration": 94,
    "start_time": "2021-07-07T12:38:47.325Z"
   },
   {
    "duration": 3,
    "start_time": "2021-07-07T12:38:47.422Z"
   },
   {
    "duration": 30,
    "start_time": "2021-07-07T12:38:47.427Z"
   },
   {
    "duration": 16,
    "start_time": "2021-07-07T12:38:53.305Z"
   },
   {
    "duration": 10,
    "start_time": "2021-07-07T12:38:53.499Z"
   },
   {
    "duration": 8,
    "start_time": "2021-07-07T12:39:48.161Z"
   },
   {
    "duration": 27,
    "start_time": "2021-07-07T12:41:17.629Z"
   },
   {
    "duration": 17,
    "start_time": "2021-07-07T12:41:17.867Z"
   },
   {
    "duration": 21,
    "start_time": "2021-07-07T12:41:19.310Z"
   },
   {
    "duration": 7,
    "start_time": "2021-07-07T12:41:19.544Z"
   },
   {
    "duration": 20,
    "start_time": "2021-07-07T12:41:20.504Z"
   },
   {
    "duration": 554,
    "start_time": "2021-07-07T12:56:23.696Z"
   },
   {
    "duration": 200,
    "start_time": "2021-07-07T12:56:25.234Z"
   },
   {
    "duration": 119,
    "start_time": "2021-07-07T12:56:25.480Z"
   },
   {
    "duration": 4,
    "start_time": "2021-07-07T12:56:25.762Z"
   },
   {
    "duration": 26,
    "start_time": "2021-07-07T12:56:27.172Z"
   },
   {
    "duration": 12,
    "start_time": "2021-07-07T12:56:29.051Z"
   },
   {
    "duration": 10,
    "start_time": "2021-07-07T12:56:29.291Z"
   },
   {
    "duration": 8,
    "start_time": "2021-07-07T12:56:29.623Z"
   },
   {
    "duration": 28,
    "start_time": "2021-07-07T12:56:32.137Z"
   },
   {
    "duration": 19,
    "start_time": "2021-07-07T12:56:39.785Z"
   },
   {
    "duration": 20,
    "start_time": "2021-07-07T12:56:44.297Z"
   },
   {
    "duration": 7,
    "start_time": "2021-07-07T12:56:45.392Z"
   },
   {
    "duration": 23,
    "start_time": "2021-07-07T12:56:46.615Z"
   },
   {
    "duration": 4,
    "start_time": "2021-07-07T12:57:06.625Z"
   },
   {
    "duration": 32,
    "start_time": "2021-07-07T12:57:36.690Z"
   },
   {
    "duration": 18,
    "start_time": "2021-07-07T12:58:00.149Z"
   },
   {
    "duration": 15,
    "start_time": "2021-07-07T12:59:16.793Z"
   },
   {
    "duration": 7,
    "start_time": "2021-07-07T13:19:22.624Z"
   },
   {
    "duration": 6,
    "start_time": "2021-07-07T14:17:33.527Z"
   },
   {
    "duration": 9,
    "start_time": "2021-07-07T14:17:48.409Z"
   },
   {
    "duration": 8,
    "start_time": "2021-07-07T14:20:13.060Z"
   },
   {
    "duration": 8,
    "start_time": "2021-07-07T14:20:37.957Z"
   },
   {
    "duration": 8,
    "start_time": "2021-07-07T14:20:47.470Z"
   },
   {
    "duration": 9,
    "start_time": "2021-07-07T14:20:54.503Z"
   },
   {
    "duration": 10,
    "start_time": "2021-07-07T14:28:57.763Z"
   },
   {
    "duration": 3,
    "start_time": "2021-07-07T14:30:23.377Z"
   },
   {
    "duration": 3,
    "start_time": "2021-07-07T14:30:36.489Z"
   },
   {
    "duration": 103,
    "start_time": "2021-07-07T14:30:52.351Z"
   },
   {
    "duration": 8,
    "start_time": "2021-07-07T14:30:54.763Z"
   },
   {
    "duration": 8,
    "start_time": "2021-07-07T14:31:29.301Z"
   },
   {
    "duration": 13,
    "start_time": "2021-07-07T14:31:44.516Z"
   },
   {
    "duration": 7,
    "start_time": "2021-07-07T14:33:10.972Z"
   },
   {
    "duration": 11,
    "start_time": "2021-07-07T14:33:27.780Z"
   },
   {
    "duration": 8,
    "start_time": "2021-07-07T14:34:44.588Z"
   },
   {
    "duration": 57,
    "start_time": "2021-07-07T14:35:59.042Z"
   },
   {
    "duration": 3,
    "start_time": "2021-07-07T14:36:28.168Z"
   },
   {
    "duration": 5,
    "start_time": "2021-07-07T14:36:46.254Z"
   },
   {
    "duration": 4,
    "start_time": "2021-07-07T14:36:52.714Z"
   },
   {
    "duration": 3,
    "start_time": "2021-07-07T14:36:56.612Z"
   },
   {
    "duration": 4,
    "start_time": "2021-07-07T14:36:57.049Z"
   },
   {
    "duration": 3,
    "start_time": "2021-07-07T14:39:21.214Z"
   },
   {
    "duration": 7,
    "start_time": "2021-07-07T14:39:52.406Z"
   },
   {
    "duration": 11,
    "start_time": "2021-07-07T14:39:58.576Z"
   },
   {
    "duration": 9,
    "start_time": "2021-07-07T14:40:26.301Z"
   },
   {
    "duration": 10,
    "start_time": "2021-07-07T14:40:31.704Z"
   },
   {
    "duration": 11,
    "start_time": "2021-07-07T14:40:36.249Z"
   },
   {
    "duration": 10,
    "start_time": "2021-07-07T14:40:39.783Z"
   },
   {
    "duration": 9,
    "start_time": "2021-07-07T14:40:48.558Z"
   },
   {
    "duration": 10,
    "start_time": "2021-07-07T14:40:57.143Z"
   },
   {
    "duration": 9,
    "start_time": "2021-07-07T14:41:06.074Z"
   },
   {
    "duration": 4324,
    "start_time": "2021-07-07T14:41:22.004Z"
   },
   {
    "duration": 11,
    "start_time": "2021-07-07T14:41:33.392Z"
   },
   {
    "duration": 9,
    "start_time": "2021-07-07T14:41:39.288Z"
   },
   {
    "duration": 569,
    "start_time": "2021-07-07T14:42:14.387Z"
   },
   {
    "duration": 197,
    "start_time": "2021-07-07T14:42:14.959Z"
   },
   {
    "duration": 84,
    "start_time": "2021-07-07T14:42:16.052Z"
   },
   {
    "duration": 4,
    "start_time": "2021-07-07T14:42:16.900Z"
   },
   {
    "duration": 27,
    "start_time": "2021-07-07T14:42:19.898Z"
   },
   {
    "duration": 12,
    "start_time": "2021-07-07T14:42:21.577Z"
   },
   {
    "duration": 9,
    "start_time": "2021-07-07T14:42:21.813Z"
   },
   {
    "duration": 9,
    "start_time": "2021-07-07T14:42:22.569Z"
   },
   {
    "duration": 29,
    "start_time": "2021-07-07T14:42:25.837Z"
   },
   {
    "duration": 20,
    "start_time": "2021-07-07T14:42:27.003Z"
   },
   {
    "duration": 21,
    "start_time": "2021-07-07T14:42:28.767Z"
   },
   {
    "duration": 7,
    "start_time": "2021-07-07T14:42:29.838Z"
   },
   {
    "duration": 4,
    "start_time": "2021-07-07T14:43:25.493Z"
   },
   {
    "duration": 7,
    "start_time": "2021-07-07T14:43:26.573Z"
   },
   {
    "duration": 10,
    "start_time": "2021-07-07T14:43:31.639Z"
   },
   {
    "duration": 9,
    "start_time": "2021-07-07T14:43:32.046Z"
   },
   {
    "duration": 10,
    "start_time": "2021-07-07T14:43:33.301Z"
   },
   {
    "duration": 12,
    "start_time": "2021-07-07T14:43:33.658Z"
   },
   {
    "duration": 8,
    "start_time": "2021-07-07T14:43:34.552Z"
   },
   {
    "duration": 9,
    "start_time": "2021-07-07T14:43:35.058Z"
   },
   {
    "duration": 12,
    "start_time": "2021-07-07T14:43:35.914Z"
   },
   {
    "duration": 17,
    "start_time": "2021-07-07T14:45:34.368Z"
   },
   {
    "duration": 512,
    "start_time": "2021-07-07T14:51:58.236Z"
   },
   {
    "duration": 223,
    "start_time": "2021-07-07T14:51:58.750Z"
   },
   {
    "duration": 93,
    "start_time": "2021-07-07T14:51:58.977Z"
   },
   {
    "duration": 4,
    "start_time": "2021-07-07T14:51:59.071Z"
   },
   {
    "duration": 37,
    "start_time": "2021-07-07T14:51:59.077Z"
   },
   {
    "duration": 18,
    "start_time": "2021-07-07T14:51:59.116Z"
   },
   {
    "duration": 10,
    "start_time": "2021-07-07T14:51:59.137Z"
   },
   {
    "duration": 8,
    "start_time": "2021-07-07T14:51:59.149Z"
   },
   {
    "duration": 54,
    "start_time": "2021-07-07T14:51:59.158Z"
   },
   {
    "duration": 18,
    "start_time": "2021-07-07T14:51:59.213Z"
   },
   {
    "duration": 22,
    "start_time": "2021-07-07T14:51:59.232Z"
   },
   {
    "duration": 36,
    "start_time": "2021-07-07T14:51:59.255Z"
   },
   {
    "duration": 7,
    "start_time": "2021-07-07T14:51:59.293Z"
   },
   {
    "duration": 10,
    "start_time": "2021-07-07T14:51:59.302Z"
   },
   {
    "duration": 9,
    "start_time": "2021-07-07T14:51:59.313Z"
   },
   {
    "duration": 11,
    "start_time": "2021-07-07T14:51:59.324Z"
   },
   {
    "duration": 8,
    "start_time": "2021-07-07T14:51:59.337Z"
   },
   {
    "duration": 46,
    "start_time": "2021-07-07T14:51:59.347Z"
   },
   {
    "duration": 22,
    "start_time": "2021-07-07T14:51:59.395Z"
   },
   {
    "duration": 24,
    "start_time": "2021-07-07T14:57:32.911Z"
   },
   {
    "duration": 7,
    "start_time": "2021-07-07T14:58:22.070Z"
   },
   {
    "duration": 4,
    "start_time": "2021-07-07T14:59:11.239Z"
   },
   {
    "duration": 25,
    "start_time": "2021-07-07T15:07:22.208Z"
   },
   {
    "duration": 16,
    "start_time": "2021-07-07T15:08:25.560Z"
   },
   {
    "duration": 15,
    "start_time": "2021-07-07T15:08:40.647Z"
   },
   {
    "duration": 14,
    "start_time": "2021-07-07T15:08:46.669Z"
   },
   {
    "duration": 533,
    "start_time": "2021-07-07T15:18:07.440Z"
   },
   {
    "duration": 173,
    "start_time": "2021-07-07T15:18:07.974Z"
   },
   {
    "duration": 84,
    "start_time": "2021-07-07T15:18:08.149Z"
   },
   {
    "duration": 3,
    "start_time": "2021-07-07T15:18:08.235Z"
   },
   {
    "duration": 30,
    "start_time": "2021-07-07T15:18:08.240Z"
   },
   {
    "duration": 22,
    "start_time": "2021-07-07T15:18:08.272Z"
   },
   {
    "duration": 11,
    "start_time": "2021-07-07T15:18:08.295Z"
   },
   {
    "duration": 11,
    "start_time": "2021-07-07T15:18:08.309Z"
   },
   {
    "duration": 40,
    "start_time": "2021-07-07T15:18:08.322Z"
   },
   {
    "duration": 42,
    "start_time": "2021-07-07T15:18:08.364Z"
   },
   {
    "duration": 22,
    "start_time": "2021-07-07T15:18:08.408Z"
   },
   {
    "duration": 5,
    "start_time": "2021-07-07T15:18:08.432Z"
   },
   {
    "duration": 13,
    "start_time": "2021-07-07T15:18:08.439Z"
   },
   {
    "duration": 9,
    "start_time": "2021-07-07T15:18:08.454Z"
   },
   {
    "duration": 32,
    "start_time": "2021-07-07T15:18:08.465Z"
   },
   {
    "duration": 10,
    "start_time": "2021-07-07T15:18:08.501Z"
   },
   {
    "duration": 7,
    "start_time": "2021-07-07T15:18:08.513Z"
   },
   {
    "duration": 11,
    "start_time": "2021-07-07T15:18:08.521Z"
   },
   {
    "duration": 17,
    "start_time": "2021-07-07T15:18:08.534Z"
   },
   {
    "duration": 44,
    "start_time": "2021-07-07T15:18:08.553Z"
   },
   {
    "duration": 22,
    "start_time": "2021-07-07T15:18:08.599Z"
   },
   {
    "duration": 61,
    "start_time": "2021-07-07T15:18:08.622Z"
   },
   {
    "duration": 7,
    "start_time": "2021-07-07T15:18:39.457Z"
   },
   {
    "duration": 5,
    "start_time": "2021-07-07T16:05:17.020Z"
   },
   {
    "duration": 5,
    "start_time": "2021-07-07T16:51:28.794Z"
   },
   {
    "duration": 546,
    "start_time": "2021-07-07T16:52:26.306Z"
   },
   {
    "duration": 203,
    "start_time": "2021-07-07T16:52:27.523Z"
   },
   {
    "duration": 85,
    "start_time": "2021-07-07T16:52:27.736Z"
   },
   {
    "duration": 4,
    "start_time": "2021-07-07T16:52:27.899Z"
   },
   {
    "duration": 25,
    "start_time": "2021-07-07T16:52:28.674Z"
   },
   {
    "duration": 8,
    "start_time": "2021-07-07T16:52:32.956Z"
   },
   {
    "duration": 18,
    "start_time": "2021-07-07T16:52:35.616Z"
   },
   {
    "duration": 6,
    "start_time": "2021-07-07T16:52:36.913Z"
   },
   {
    "duration": 11,
    "start_time": "2021-07-07T16:52:40.258Z"
   },
   {
    "duration": 10,
    "start_time": "2021-07-07T16:52:46.251Z"
   },
   {
    "duration": 8,
    "start_time": "2021-07-07T16:52:47.182Z"
   },
   {
    "duration": 27,
    "start_time": "2021-07-07T16:53:20.391Z"
   },
   {
    "duration": 20,
    "start_time": "2021-07-07T16:53:22.022Z"
   },
   {
    "duration": 23,
    "start_time": "2021-07-07T16:53:23.690Z"
   },
   {
    "duration": 8,
    "start_time": "2021-07-07T16:53:24.261Z"
   },
   {
    "duration": 4,
    "start_time": "2021-07-07T16:53:38.733Z"
   },
   {
    "duration": 7,
    "start_time": "2021-07-07T16:53:40.445Z"
   },
   {
    "duration": 11,
    "start_time": "2021-07-07T16:53:41.348Z"
   },
   {
    "duration": 13,
    "start_time": "2021-07-07T16:53:45.250Z"
   },
   {
    "duration": 12,
    "start_time": "2021-07-07T16:53:45.467Z"
   },
   {
    "duration": 4,
    "start_time": "2021-07-07T16:55:32.704Z"
   },
   {
    "duration": 12,
    "start_time": "2021-07-07T16:55:49.012Z"
   },
   {
    "duration": 18,
    "start_time": "2021-07-07T16:55:49.547Z"
   },
   {
    "duration": 611,
    "start_time": "2021-07-07T16:58:35.156Z"
   },
   {
    "duration": 200,
    "start_time": "2021-07-07T16:58:35.770Z"
   },
   {
    "duration": 86,
    "start_time": "2021-07-07T16:58:35.972Z"
   },
   {
    "duration": 3,
    "start_time": "2021-07-07T16:58:36.060Z"
   },
   {
    "duration": 27,
    "start_time": "2021-07-07T16:58:36.065Z"
   },
   {
    "duration": 8,
    "start_time": "2021-07-07T16:58:36.094Z"
   },
   {
    "duration": 17,
    "start_time": "2021-07-07T16:58:36.103Z"
   },
   {
    "duration": 5,
    "start_time": "2021-07-07T16:58:36.123Z"
   },
   {
    "duration": 11,
    "start_time": "2021-07-07T16:58:36.130Z"
   },
   {
    "duration": 7,
    "start_time": "2021-07-07T16:58:36.143Z"
   },
   {
    "duration": 37,
    "start_time": "2021-07-07T16:58:36.152Z"
   },
   {
    "duration": 27,
    "start_time": "2021-07-07T16:58:36.191Z"
   },
   {
    "duration": 19,
    "start_time": "2021-07-07T16:58:36.219Z"
   },
   {
    "duration": 49,
    "start_time": "2021-07-07T16:58:36.240Z"
   },
   {
    "duration": 6,
    "start_time": "2021-07-07T16:58:36.291Z"
   },
   {
    "duration": 3,
    "start_time": "2021-07-07T16:58:36.299Z"
   },
   {
    "duration": 13,
    "start_time": "2021-07-07T16:58:36.304Z"
   },
   {
    "duration": 10,
    "start_time": "2021-07-07T16:58:36.319Z"
   },
   {
    "duration": 10,
    "start_time": "2021-07-07T16:58:36.331Z"
   },
   {
    "duration": 44,
    "start_time": "2021-07-07T16:58:36.343Z"
   },
   {
    "duration": 4,
    "start_time": "2021-07-07T16:58:36.388Z"
   },
   {
    "duration": 13,
    "start_time": "2021-07-07T16:58:36.394Z"
   },
   {
    "duration": 16,
    "start_time": "2021-07-07T16:58:36.410Z"
   },
   {
    "duration": 8,
    "start_time": "2021-07-07T17:02:31.629Z"
   },
   {
    "duration": 8,
    "start_time": "2021-07-07T17:02:34.308Z"
   },
   {
    "duration": 6,
    "start_time": "2021-07-07T17:05:13.483Z"
   },
   {
    "duration": 17,
    "start_time": "2021-07-07T17:05:20.606Z"
   },
   {
    "duration": 7,
    "start_time": "2021-07-07T17:05:34.638Z"
   },
   {
    "duration": 3,
    "start_time": "2021-07-07T17:06:31.883Z"
   },
   {
    "duration": 570,
    "start_time": "2021-07-07T17:06:37.165Z"
   },
   {
    "duration": 174,
    "start_time": "2021-07-07T17:06:37.737Z"
   },
   {
    "duration": 47,
    "start_time": "2021-07-07T17:06:37.913Z"
   },
   {
    "duration": 3,
    "start_time": "2021-07-07T17:06:37.962Z"
   },
   {
    "duration": 27,
    "start_time": "2021-07-07T17:06:37.967Z"
   },
   {
    "duration": 7,
    "start_time": "2021-07-07T17:06:37.996Z"
   },
   {
    "duration": 16,
    "start_time": "2021-07-07T17:06:38.005Z"
   },
   {
    "duration": 6,
    "start_time": "2021-07-07T17:06:38.024Z"
   },
   {
    "duration": 12,
    "start_time": "2021-07-07T17:06:38.031Z"
   },
   {
    "duration": 41,
    "start_time": "2021-07-07T17:06:38.045Z"
   },
   {
    "duration": 8,
    "start_time": "2021-07-07T17:06:38.088Z"
   },
   {
    "duration": 26,
    "start_time": "2021-07-07T17:06:38.098Z"
   },
   {
    "duration": 17,
    "start_time": "2021-07-07T17:06:38.126Z"
   },
   {
    "duration": 43,
    "start_time": "2021-07-07T17:06:38.144Z"
   },
   {
    "duration": 6,
    "start_time": "2021-07-07T17:06:38.188Z"
   },
   {
    "duration": 5,
    "start_time": "2021-07-07T17:06:38.195Z"
   },
   {
    "duration": 9,
    "start_time": "2021-07-07T17:06:38.201Z"
   },
   {
    "duration": 12,
    "start_time": "2021-07-07T17:06:38.212Z"
   },
   {
    "duration": 11,
    "start_time": "2021-07-07T17:06:38.226Z"
   },
   {
    "duration": 47,
    "start_time": "2021-07-07T17:06:38.239Z"
   },
   {
    "duration": 4,
    "start_time": "2021-07-07T17:06:38.288Z"
   },
   {
    "duration": 13,
    "start_time": "2021-07-07T17:06:38.293Z"
   },
   {
    "duration": 5,
    "start_time": "2021-07-07T17:06:38.309Z"
   },
   {
    "duration": 18,
    "start_time": "2021-07-07T17:06:38.325Z"
   },
   {
    "duration": 20,
    "start_time": "2021-07-07T17:07:02.805Z"
   },
   {
    "duration": 19,
    "start_time": "2021-07-07T17:07:08.527Z"
   },
   {
    "duration": 19,
    "start_time": "2021-07-07T17:07:12.758Z"
   },
   {
    "duration": 22,
    "start_time": "2021-07-07T17:07:17.497Z"
   },
   {
    "duration": 19,
    "start_time": "2021-07-07T17:07:19.645Z"
   },
   {
    "duration": 10,
    "start_time": "2021-07-07T17:07:34.239Z"
   },
   {
    "duration": 17,
    "start_time": "2021-07-07T17:07:54.144Z"
   },
   {
    "duration": 14,
    "start_time": "2021-07-07T17:08:14.357Z"
   },
   {
    "duration": 616,
    "start_time": "2021-07-07T17:08:45.254Z"
   },
   {
    "duration": 178,
    "start_time": "2021-07-07T17:08:45.872Z"
   },
   {
    "duration": 60,
    "start_time": "2021-07-07T17:08:46.054Z"
   },
   {
    "duration": 3,
    "start_time": "2021-07-07T17:08:46.116Z"
   },
   {
    "duration": 26,
    "start_time": "2021-07-07T17:08:46.121Z"
   },
   {
    "duration": 7,
    "start_time": "2021-07-07T17:08:46.149Z"
   },
   {
    "duration": 17,
    "start_time": "2021-07-07T17:08:46.158Z"
   },
   {
    "duration": 14,
    "start_time": "2021-07-07T17:08:46.176Z"
   },
   {
    "duration": 17,
    "start_time": "2021-07-07T17:08:46.193Z"
   },
   {
    "duration": 9,
    "start_time": "2021-07-07T17:08:46.211Z"
   },
   {
    "duration": 21,
    "start_time": "2021-07-07T17:08:46.221Z"
   },
   {
    "duration": 49,
    "start_time": "2021-07-07T17:08:46.244Z"
   },
   {
    "duration": 24,
    "start_time": "2021-07-07T17:08:46.295Z"
   },
   {
    "duration": 22,
    "start_time": "2021-07-07T17:08:46.321Z"
   },
   {
    "duration": 6,
    "start_time": "2021-07-07T17:08:46.345Z"
   },
   {
    "duration": 5,
    "start_time": "2021-07-07T17:08:46.353Z"
   },
   {
    "duration": 13,
    "start_time": "2021-07-07T17:08:46.386Z"
   },
   {
    "duration": 12,
    "start_time": "2021-07-07T17:08:46.402Z"
   },
   {
    "duration": 10,
    "start_time": "2021-07-07T17:08:46.415Z"
   },
   {
    "duration": 7,
    "start_time": "2021-07-07T17:08:46.427Z"
   },
   {
    "duration": 8,
    "start_time": "2021-07-07T17:08:46.435Z"
   },
   {
    "duration": 68,
    "start_time": "2021-07-07T17:08:46.446Z"
   },
   {
    "duration": 13,
    "start_time": "2021-07-07T17:08:46.516Z"
   },
   {
    "duration": 78,
    "start_time": "2021-07-07T17:08:46.530Z"
   },
   {
    "duration": 40,
    "start_time": "2021-07-07T17:09:08.185Z"
   },
   {
    "duration": 16,
    "start_time": "2021-07-07T17:09:19.324Z"
   },
   {
    "duration": 21,
    "start_time": "2021-07-07T17:09:23.290Z"
   },
   {
    "duration": 13,
    "start_time": "2021-07-07T17:09:54.812Z"
   },
   {
    "duration": 13,
    "start_time": "2021-07-07T17:10:02.039Z"
   },
   {
    "duration": 10,
    "start_time": "2021-07-07T17:10:29.632Z"
   },
   {
    "duration": 13,
    "start_time": "2021-07-07T17:10:52.372Z"
   },
   {
    "duration": 13,
    "start_time": "2021-07-07T17:11:17.270Z"
   },
   {
    "duration": 13,
    "start_time": "2021-07-07T17:14:59.284Z"
   },
   {
    "duration": 547,
    "start_time": "2021-07-07T17:18:52.403Z"
   },
   {
    "duration": 163,
    "start_time": "2021-07-07T17:18:52.952Z"
   },
   {
    "duration": 44,
    "start_time": "2021-07-07T17:18:53.117Z"
   },
   {
    "duration": 3,
    "start_time": "2021-07-07T17:18:53.162Z"
   },
   {
    "duration": 26,
    "start_time": "2021-07-07T17:18:53.167Z"
   },
   {
    "duration": 6,
    "start_time": "2021-07-07T17:18:53.195Z"
   },
   {
    "duration": 15,
    "start_time": "2021-07-07T17:18:53.203Z"
   },
   {
    "duration": 5,
    "start_time": "2021-07-07T17:18:53.220Z"
   },
   {
    "duration": 11,
    "start_time": "2021-07-07T17:18:53.228Z"
   },
   {
    "duration": 9,
    "start_time": "2021-07-07T17:18:53.241Z"
   },
   {
    "duration": 41,
    "start_time": "2021-07-07T17:18:53.252Z"
   },
   {
    "duration": 33,
    "start_time": "2021-07-07T17:18:53.295Z"
   },
   {
    "duration": 19,
    "start_time": "2021-07-07T17:18:53.330Z"
   },
   {
    "duration": 49,
    "start_time": "2021-07-07T17:18:53.350Z"
   },
   {
    "duration": 5,
    "start_time": "2021-07-07T17:18:53.401Z"
   },
   {
    "duration": 5,
    "start_time": "2021-07-07T17:18:53.408Z"
   },
   {
    "duration": 11,
    "start_time": "2021-07-07T17:18:53.414Z"
   },
   {
    "duration": 9,
    "start_time": "2021-07-07T17:18:53.427Z"
   },
   {
    "duration": 10,
    "start_time": "2021-07-07T17:18:53.437Z"
   },
   {
    "duration": 39,
    "start_time": "2021-07-07T17:18:53.448Z"
   },
   {
    "duration": 26,
    "start_time": "2021-07-07T17:18:55.799Z"
   },
   {
    "duration": 598,
    "start_time": "2021-07-07T17:20:17.862Z"
   },
   {
    "duration": 161,
    "start_time": "2021-07-07T17:20:18.462Z"
   },
   {
    "duration": 45,
    "start_time": "2021-07-07T17:20:18.626Z"
   },
   {
    "duration": 4,
    "start_time": "2021-07-07T17:20:18.673Z"
   },
   {
    "duration": 38,
    "start_time": "2021-07-07T17:20:26.877Z"
   },
   {
    "duration": 7,
    "start_time": "2021-07-07T17:20:37.405Z"
   },
   {
    "duration": 19,
    "start_time": "2021-07-07T17:20:51.534Z"
   },
   {
    "duration": 5,
    "start_time": "2021-07-07T17:20:57.228Z"
   },
   {
    "duration": 7,
    "start_time": "2021-07-07T17:21:08.235Z"
   },
   {
    "duration": 19,
    "start_time": "2021-07-07T17:21:42.158Z"
   },
   {
    "duration": 14,
    "start_time": "2021-07-07T17:21:50.225Z"
   },
   {
    "duration": 22,
    "start_time": "2021-07-07T17:22:54.104Z"
   },
   {
    "duration": 5,
    "start_time": "2021-07-07T17:22:56.371Z"
   },
   {
    "duration": 14,
    "start_time": "2021-07-07T17:22:58.316Z"
   },
   {
    "duration": 5,
    "start_time": "2021-07-07T17:22:58.493Z"
   },
   {
    "duration": 35,
    "start_time": "2021-07-07T17:22:59.666Z"
   },
   {
    "duration": 6,
    "start_time": "2021-07-07T17:23:02.410Z"
   },
   {
    "duration": 611,
    "start_time": "2021-07-07T17:24:59.664Z"
   },
   {
    "duration": 178,
    "start_time": "2021-07-07T17:25:01.945Z"
   },
   {
    "duration": 47,
    "start_time": "2021-07-07T17:25:02.125Z"
   },
   {
    "duration": 2,
    "start_time": "2021-07-07T17:25:07.903Z"
   },
   {
    "duration": 254,
    "start_time": "2021-07-07T17:25:08.232Z"
   },
   {
    "duration": 182,
    "start_time": "2021-07-07T17:25:08.671Z"
   },
   {
    "duration": 6,
    "start_time": "2021-07-07T17:25:13.104Z"
   },
   {
    "duration": 36,
    "start_time": "2021-07-07T17:25:13.662Z"
   },
   {
    "duration": 7,
    "start_time": "2021-07-07T17:25:14.528Z"
   },
   {
    "duration": 24,
    "start_time": "2021-07-07T17:25:27.982Z"
   },
   {
    "duration": 3,
    "start_time": "2021-07-07T17:25:48.982Z"
   },
   {
    "duration": 165,
    "start_time": "2021-07-07T17:25:48.987Z"
   },
   {
    "duration": 50,
    "start_time": "2021-07-07T17:25:49.154Z"
   },
   {
    "duration": 4,
    "start_time": "2021-07-07T17:25:49.206Z"
   },
   {
    "duration": 26,
    "start_time": "2021-07-07T17:25:49.212Z"
   },
   {
    "duration": 7,
    "start_time": "2021-07-07T17:25:49.240Z"
   },
   {
    "duration": 16,
    "start_time": "2021-07-07T17:25:49.249Z"
   },
   {
    "duration": 22,
    "start_time": "2021-07-07T17:25:49.266Z"
   },
   {
    "duration": 16,
    "start_time": "2021-07-07T17:25:49.291Z"
   },
   {
    "duration": 9,
    "start_time": "2021-07-07T17:25:49.309Z"
   },
   {
    "duration": 7,
    "start_time": "2021-07-07T17:25:49.319Z"
   },
   {
    "duration": 28,
    "start_time": "2021-07-07T17:25:49.328Z"
   },
   {
    "duration": 44,
    "start_time": "2021-07-07T17:25:49.357Z"
   },
   {
    "duration": 22,
    "start_time": "2021-07-07T17:25:49.403Z"
   },
   {
    "duration": 7,
    "start_time": "2021-07-07T17:25:49.427Z"
   },
   {
    "duration": 3,
    "start_time": "2021-07-07T17:25:49.436Z"
   },
   {
    "duration": 44,
    "start_time": "2021-07-07T17:25:49.441Z"
   },
   {
    "duration": 12,
    "start_time": "2021-07-07T17:25:49.488Z"
   },
   {
    "duration": 13,
    "start_time": "2021-07-07T17:25:49.502Z"
   },
   {
    "duration": 10,
    "start_time": "2021-07-07T17:25:49.516Z"
   },
   {
    "duration": 62,
    "start_time": "2021-07-07T17:25:49.527Z"
   },
   {
    "duration": 26,
    "start_time": "2021-07-07T17:26:51.809Z"
   },
   {
    "duration": 26,
    "start_time": "2021-07-07T17:26:55.759Z"
   },
   {
    "duration": 26,
    "start_time": "2021-07-07T17:27:04.501Z"
   },
   {
    "duration": 25,
    "start_time": "2021-07-07T17:28:24.859Z"
   },
   {
    "duration": 21,
    "start_time": "2021-07-07T17:28:55.250Z"
   },
   {
    "duration": 21,
    "start_time": "2021-07-07T17:28:58.885Z"
   },
   {
    "duration": 7,
    "start_time": "2021-07-07T17:45:40.972Z"
   },
   {
    "duration": 13,
    "start_time": "2021-07-07T17:45:42.529Z"
   },
   {
    "duration": 27,
    "start_time": "2021-07-07T17:45:51.026Z"
   },
   {
    "duration": 518,
    "start_time": "2021-07-07T17:46:15.532Z"
   },
   {
    "duration": 235,
    "start_time": "2021-07-07T17:46:16.053Z"
   },
   {
    "duration": 80,
    "start_time": "2021-07-07T17:46:16.292Z"
   },
   {
    "duration": 5,
    "start_time": "2021-07-07T17:46:16.373Z"
   },
   {
    "duration": 26,
    "start_time": "2021-07-07T17:46:16.380Z"
   },
   {
    "duration": 7,
    "start_time": "2021-07-07T17:46:16.408Z"
   },
   {
    "duration": 16,
    "start_time": "2021-07-07T17:46:16.418Z"
   },
   {
    "duration": 5,
    "start_time": "2021-07-07T17:46:16.436Z"
   },
   {
    "duration": 13,
    "start_time": "2021-07-07T17:46:16.442Z"
   },
   {
    "duration": 35,
    "start_time": "2021-07-07T17:46:16.456Z"
   },
   {
    "duration": 8,
    "start_time": "2021-07-07T17:46:16.493Z"
   },
   {
    "duration": 28,
    "start_time": "2021-07-07T17:46:16.502Z"
   },
   {
    "duration": 17,
    "start_time": "2021-07-07T17:46:16.532Z"
   },
   {
    "duration": 44,
    "start_time": "2021-07-07T17:46:16.551Z"
   },
   {
    "duration": 6,
    "start_time": "2021-07-07T17:46:16.597Z"
   },
   {
    "duration": 4,
    "start_time": "2021-07-07T17:46:16.605Z"
   },
   {
    "duration": 9,
    "start_time": "2021-07-07T17:46:16.610Z"
   },
   {
    "duration": 9,
    "start_time": "2021-07-07T17:46:16.621Z"
   },
   {
    "duration": 10,
    "start_time": "2021-07-07T17:46:16.632Z"
   },
   {
    "duration": 43,
    "start_time": "2021-07-07T17:46:16.644Z"
   },
   {
    "duration": 26,
    "start_time": "2021-07-07T17:46:16.689Z"
   },
   {
    "duration": 19,
    "start_time": "2021-07-07T17:46:16.718Z"
   },
   {
    "duration": 8,
    "start_time": "2021-07-07T17:46:16.738Z"
   },
   {
    "duration": 43,
    "start_time": "2021-07-07T17:46:16.747Z"
   },
   {
    "duration": 19,
    "start_time": "2021-07-07T17:46:16.791Z"
   },
   {
    "duration": 9,
    "start_time": "2021-07-07T17:46:16.812Z"
   },
   {
    "duration": 60,
    "start_time": "2021-07-07T17:46:16.822Z"
   },
   {
    "duration": -8,
    "start_time": "2021-07-07T17:46:16.892Z"
   },
   {
    "duration": 12,
    "start_time": "2021-07-07T17:48:47.707Z"
   },
   {
    "duration": 553,
    "start_time": "2021-07-07T18:10:09.350Z"
   },
   {
    "duration": 230,
    "start_time": "2021-07-07T18:10:09.905Z"
   },
   {
    "duration": 97,
    "start_time": "2021-07-07T18:10:10.137Z"
   },
   {
    "duration": 5,
    "start_time": "2021-07-07T18:10:10.236Z"
   },
   {
    "duration": 29,
    "start_time": "2021-07-07T18:10:10.242Z"
   },
   {
    "duration": 7,
    "start_time": "2021-07-07T18:10:10.272Z"
   },
   {
    "duration": 15,
    "start_time": "2021-07-07T18:10:10.281Z"
   },
   {
    "duration": 4,
    "start_time": "2021-07-07T18:10:10.299Z"
   },
   {
    "duration": 14,
    "start_time": "2021-07-07T18:10:10.305Z"
   },
   {
    "duration": 8,
    "start_time": "2021-07-07T18:10:10.321Z"
   },
   {
    "duration": 8,
    "start_time": "2021-07-07T18:10:10.331Z"
   },
   {
    "duration": 56,
    "start_time": "2021-07-07T18:10:10.341Z"
   },
   {
    "duration": 19,
    "start_time": "2021-07-07T18:10:10.399Z"
   },
   {
    "duration": 23,
    "start_time": "2021-07-07T18:10:10.419Z"
   },
   {
    "duration": 6,
    "start_time": "2021-07-07T18:10:10.444Z"
   },
   {
    "duration": 9,
    "start_time": "2021-07-07T18:10:10.451Z"
   },
   {
    "duration": 30,
    "start_time": "2021-07-07T18:10:10.462Z"
   },
   {
    "duration": 9,
    "start_time": "2021-07-07T18:10:10.494Z"
   },
   {
    "duration": 14,
    "start_time": "2021-07-07T18:10:10.505Z"
   },
   {
    "duration": 7,
    "start_time": "2021-07-07T18:10:10.521Z"
   },
   {
    "duration": 26,
    "start_time": "2021-07-07T18:10:10.530Z"
   },
   {
    "duration": 44,
    "start_time": "2021-07-07T18:10:10.558Z"
   },
   {
    "duration": 7,
    "start_time": "2021-07-07T18:10:10.605Z"
   },
   {
    "duration": 11,
    "start_time": "2021-07-07T18:10:10.614Z"
   },
   {
    "duration": 19,
    "start_time": "2021-07-07T18:10:10.626Z"
   },
   {
    "duration": 44,
    "start_time": "2021-07-07T18:10:10.646Z"
   },
   {
    "duration": 516,
    "start_time": "2021-07-07T18:14:00.826Z"
   },
   {
    "duration": 230,
    "start_time": "2021-07-07T18:14:01.344Z"
   },
   {
    "duration": 105,
    "start_time": "2021-07-07T18:14:01.576Z"
   },
   {
    "duration": 5,
    "start_time": "2021-07-07T18:14:01.683Z"
   },
   {
    "duration": 46,
    "start_time": "2021-07-07T18:14:01.690Z"
   },
   {
    "duration": 7,
    "start_time": "2021-07-07T18:14:01.738Z"
   },
   {
    "duration": 20,
    "start_time": "2021-07-07T18:14:01.747Z"
   },
   {
    "duration": 16,
    "start_time": "2021-07-07T18:14:01.769Z"
   },
   {
    "duration": 14,
    "start_time": "2021-07-07T18:14:01.787Z"
   },
   {
    "duration": 15,
    "start_time": "2021-07-07T18:14:01.803Z"
   },
   {
    "duration": 12,
    "start_time": "2021-07-07T18:14:01.820Z"
   },
   {
    "duration": 35,
    "start_time": "2021-07-07T18:14:01.833Z"
   },
   {
    "duration": 31,
    "start_time": "2021-07-07T18:14:01.869Z"
   },
   {
    "duration": 37,
    "start_time": "2021-07-07T18:14:01.902Z"
   },
   {
    "duration": 8,
    "start_time": "2021-07-07T18:14:01.942Z"
   },
   {
    "duration": 16,
    "start_time": "2021-07-07T18:14:01.952Z"
   },
   {
    "duration": 13,
    "start_time": "2021-07-07T18:14:01.970Z"
   },
   {
    "duration": 32,
    "start_time": "2021-07-07T18:14:01.985Z"
   },
   {
    "duration": 11,
    "start_time": "2021-07-07T18:14:02.019Z"
   },
   {
    "duration": 22,
    "start_time": "2021-07-07T18:14:02.031Z"
   },
   {
    "duration": 27,
    "start_time": "2021-07-07T18:14:02.055Z"
   },
   {
    "duration": 18,
    "start_time": "2021-07-07T18:14:02.084Z"
   },
   {
    "duration": 18,
    "start_time": "2021-07-07T18:14:02.106Z"
   },
   {
    "duration": 11,
    "start_time": "2021-07-07T18:14:02.126Z"
   },
   {
    "duration": 21,
    "start_time": "2021-07-07T18:14:02.138Z"
   },
   {
    "duration": 32,
    "start_time": "2021-07-07T18:14:02.161Z"
   },
   {
    "duration": 28,
    "start_time": "2021-07-07T18:14:44.295Z"
   },
   {
    "duration": 6,
    "start_time": "2021-07-07T18:15:05.834Z"
   },
   {
    "duration": 511,
    "start_time": "2021-07-07T18:15:41.541Z"
   },
   {
    "duration": 183,
    "start_time": "2021-07-07T18:15:42.054Z"
   },
   {
    "duration": 50,
    "start_time": "2021-07-07T18:15:42.239Z"
   },
   {
    "duration": 5,
    "start_time": "2021-07-07T18:15:42.291Z"
   },
   {
    "duration": 48,
    "start_time": "2021-07-07T18:15:42.297Z"
   },
   {
    "duration": 8,
    "start_time": "2021-07-07T18:15:42.346Z"
   },
   {
    "duration": 17,
    "start_time": "2021-07-07T18:15:42.356Z"
   },
   {
    "duration": 15,
    "start_time": "2021-07-07T18:15:42.375Z"
   },
   {
    "duration": 12,
    "start_time": "2021-07-07T18:15:42.392Z"
   },
   {
    "duration": 7,
    "start_time": "2021-07-07T18:15:42.406Z"
   },
   {
    "duration": 7,
    "start_time": "2021-07-07T18:15:42.415Z"
   },
   {
    "duration": 29,
    "start_time": "2021-07-07T18:15:42.423Z"
   },
   {
    "duration": 43,
    "start_time": "2021-07-07T18:15:42.453Z"
   },
   {
    "duration": 18,
    "start_time": "2021-07-07T18:15:42.497Z"
   },
   {
    "duration": 6,
    "start_time": "2021-07-07T18:15:42.516Z"
   },
   {
    "duration": 3,
    "start_time": "2021-07-07T18:15:42.523Z"
   },
   {
    "duration": 18,
    "start_time": "2021-07-07T18:15:42.528Z"
   },
   {
    "duration": 10,
    "start_time": "2021-07-07T18:15:42.547Z"
   },
   {
    "duration": 36,
    "start_time": "2021-07-07T18:15:42.559Z"
   },
   {
    "duration": 8,
    "start_time": "2021-07-07T18:15:42.597Z"
   },
   {
    "duration": 28,
    "start_time": "2021-07-07T18:15:42.606Z"
   },
   {
    "duration": 52,
    "start_time": "2021-07-07T18:15:42.635Z"
   },
   {
    "duration": 7,
    "start_time": "2021-07-07T18:15:42.690Z"
   },
   {
    "duration": 10,
    "start_time": "2021-07-07T18:15:42.699Z"
   },
   {
    "duration": 19,
    "start_time": "2021-07-07T18:15:42.711Z"
   },
   {
    "duration": 9,
    "start_time": "2021-07-07T18:15:42.732Z"
   },
   {
    "duration": 5,
    "start_time": "2021-07-07T18:15:42.743Z"
   },
   {
    "duration": 1450,
    "start_time": "2021-07-07T18:15:51.984Z"
   },
   {
    "duration": 161,
    "start_time": "2021-07-07T18:15:53.435Z"
   },
   {
    "duration": 124,
    "start_time": "2021-07-07T18:15:53.598Z"
   },
   {
    "duration": 5,
    "start_time": "2021-07-07T18:15:53.724Z"
   },
   {
    "duration": 34,
    "start_time": "2021-07-07T18:15:53.730Z"
   },
   {
    "duration": 7,
    "start_time": "2021-07-07T18:15:53.765Z"
   },
   {
    "duration": 15,
    "start_time": "2021-07-07T18:15:53.773Z"
   },
   {
    "duration": 5,
    "start_time": "2021-07-07T18:15:53.791Z"
   },
   {
    "duration": 19,
    "start_time": "2021-07-07T18:15:53.798Z"
   },
   {
    "duration": 9,
    "start_time": "2021-07-07T18:15:53.818Z"
   },
   {
    "duration": 19,
    "start_time": "2021-07-07T18:15:53.828Z"
   },
   {
    "duration": 27,
    "start_time": "2021-07-07T18:15:53.848Z"
   },
   {
    "duration": 16,
    "start_time": "2021-07-07T18:15:53.884Z"
   },
   {
    "duration": 29,
    "start_time": "2021-07-07T18:15:53.901Z"
   },
   {
    "duration": 5,
    "start_time": "2021-07-07T18:15:53.932Z"
   },
   {
    "duration": 15,
    "start_time": "2021-07-07T18:15:53.939Z"
   },
   {
    "duration": 13,
    "start_time": "2021-07-07T18:15:53.956Z"
   },
   {
    "duration": 20,
    "start_time": "2021-07-07T18:15:53.971Z"
   },
   {
    "duration": 14,
    "start_time": "2021-07-07T18:15:53.992Z"
   },
   {
    "duration": 9,
    "start_time": "2021-07-07T18:15:54.009Z"
   },
   {
    "duration": 28,
    "start_time": "2021-07-07T18:15:54.020Z"
   },
   {
    "duration": 50,
    "start_time": "2021-07-07T18:15:54.051Z"
   },
   {
    "duration": 8,
    "start_time": "2021-07-07T18:15:54.105Z"
   },
   {
    "duration": 11,
    "start_time": "2021-07-07T18:15:54.115Z"
   },
   {
    "duration": 20,
    "start_time": "2021-07-07T18:15:54.128Z"
   },
   {
    "duration": 13,
    "start_time": "2021-07-07T18:15:54.184Z"
   },
   {
    "duration": 7,
    "start_time": "2021-07-07T18:15:54.199Z"
   },
   {
    "duration": 7,
    "start_time": "2021-07-07T18:17:08.042Z"
   },
   {
    "duration": 8,
    "start_time": "2021-07-07T18:17:21.008Z"
   },
   {
    "duration": 7,
    "start_time": "2021-07-07T18:17:29.003Z"
   },
   {
    "duration": 8,
    "start_time": "2021-07-07T18:17:32.492Z"
   },
   {
    "duration": 9,
    "start_time": "2021-07-07T18:17:41.758Z"
   },
   {
    "duration": 255,
    "start_time": "2021-07-07T18:20:20.897Z"
   },
   {
    "duration": 173,
    "start_time": "2021-07-07T18:20:26.636Z"
   },
   {
    "duration": 7,
    "start_time": "2021-07-07T18:21:47.164Z"
   },
   {
    "duration": 254,
    "start_time": "2021-07-07T18:23:08.703Z"
   },
   {
    "duration": 21,
    "start_time": "2021-07-07T18:23:22.506Z"
   },
   {
    "duration": 315,
    "start_time": "2021-07-07T18:25:54.801Z"
   },
   {
    "duration": 34,
    "start_time": "2021-07-07T18:26:51.817Z"
   },
   {
    "duration": 327,
    "start_time": "2021-07-07T18:26:56.147Z"
   },
   {
    "duration": 342,
    "start_time": "2021-07-07T18:27:15.887Z"
   },
   {
    "duration": 302,
    "start_time": "2021-07-07T18:28:18.569Z"
   },
   {
    "duration": 226,
    "start_time": "2021-07-07T18:29:20.879Z"
   },
   {
    "duration": 207,
    "start_time": "2021-07-07T18:29:58.114Z"
   },
   {
    "duration": 140,
    "start_time": "2021-07-07T18:32:04.372Z"
   },
   {
    "duration": 158,
    "start_time": "2021-07-07T18:32:32.508Z"
   },
   {
    "duration": 145,
    "start_time": "2021-07-07T18:32:41.365Z"
   },
   {
    "duration": 132,
    "start_time": "2021-07-07T18:32:45.199Z"
   },
   {
    "duration": 11,
    "start_time": "2021-07-07T18:35:24.679Z"
   },
   {
    "duration": 268,
    "start_time": "2021-07-07T18:36:16.145Z"
   },
   {
    "duration": 227,
    "start_time": "2021-07-07T18:37:04.918Z"
   },
   {
    "duration": 3,
    "start_time": "2021-07-07T18:37:33.012Z"
   },
   {
    "duration": 671,
    "start_time": "2021-07-07T18:37:38.295Z"
   },
   {
    "duration": 54,
    "start_time": "2021-07-07T18:37:53.406Z"
   },
   {
    "duration": 631,
    "start_time": "2021-07-07T18:37:56.463Z"
   },
   {
    "duration": 19,
    "start_time": "2021-07-07T18:39:40.535Z"
   },
   {
    "duration": 20,
    "start_time": "2021-07-07T18:40:12.236Z"
   },
   {
    "duration": 633,
    "start_time": "2021-07-07T18:42:00.398Z"
   },
   {
    "duration": 218,
    "start_time": "2021-07-07T18:42:01.033Z"
   },
   {
    "duration": 49,
    "start_time": "2021-07-07T18:42:01.253Z"
   },
   {
    "duration": 5,
    "start_time": "2021-07-07T18:42:01.303Z"
   },
   {
    "duration": 27,
    "start_time": "2021-07-07T18:42:01.310Z"
   },
   {
    "duration": 8,
    "start_time": "2021-07-07T18:42:01.339Z"
   },
   {
    "duration": 20,
    "start_time": "2021-07-07T18:42:01.348Z"
   },
   {
    "duration": 6,
    "start_time": "2021-07-07T18:42:01.386Z"
   },
   {
    "duration": 16,
    "start_time": "2021-07-07T18:42:01.394Z"
   },
   {
    "duration": 9,
    "start_time": "2021-07-07T18:42:01.411Z"
   },
   {
    "duration": 11,
    "start_time": "2021-07-07T18:42:01.421Z"
   },
   {
    "duration": 31,
    "start_time": "2021-07-07T18:42:01.434Z"
   },
   {
    "duration": 18,
    "start_time": "2021-07-07T18:42:01.485Z"
   },
   {
    "duration": 23,
    "start_time": "2021-07-07T18:42:01.505Z"
   },
   {
    "duration": 6,
    "start_time": "2021-07-07T18:42:01.530Z"
   },
   {
    "duration": 10,
    "start_time": "2021-07-07T18:42:01.538Z"
   },
   {
    "duration": 13,
    "start_time": "2021-07-07T18:42:01.550Z"
   },
   {
    "duration": 24,
    "start_time": "2021-07-07T18:42:01.564Z"
   },
   {
    "duration": 20,
    "start_time": "2021-07-07T18:42:01.590Z"
   },
   {
    "duration": 8,
    "start_time": "2021-07-07T18:42:01.611Z"
   },
   {
    "duration": 31,
    "start_time": "2021-07-07T18:42:01.620Z"
   },
   {
    "duration": 39,
    "start_time": "2021-07-07T18:42:01.653Z"
   },
   {
    "duration": 8,
    "start_time": "2021-07-07T18:42:01.696Z"
   },
   {
    "duration": 13,
    "start_time": "2021-07-07T18:42:01.705Z"
   },
   {
    "duration": 20,
    "start_time": "2021-07-07T18:42:01.720Z"
   },
   {
    "duration": 12,
    "start_time": "2021-07-07T18:42:01.741Z"
   },
   {
    "duration": 35,
    "start_time": "2021-07-07T18:42:01.755Z"
   },
   {
    "duration": 14,
    "start_time": "2021-07-07T18:42:01.792Z"
   },
   {
    "duration": 188,
    "start_time": "2021-07-07T18:42:01.808Z"
   },
   {
    "duration": 19,
    "start_time": "2021-07-07T18:42:01.998Z"
   },
   {
    "duration": 175,
    "start_time": "2021-07-07T18:42:02.019Z"
   },
   {
    "duration": 134,
    "start_time": "2021-07-07T18:42:02.196Z"
   },
   {
    "duration": 10,
    "start_time": "2021-07-07T18:42:02.331Z"
   },
   {
    "duration": 19,
    "start_time": "2021-07-07T18:42:02.343Z"
   },
   {
    "duration": 628,
    "start_time": "2021-07-07T18:46:30.701Z"
   },
   {
    "duration": 183,
    "start_time": "2021-07-07T18:46:31.331Z"
   },
   {
    "duration": 48,
    "start_time": "2021-07-07T18:46:31.516Z"
   },
   {
    "duration": 5,
    "start_time": "2021-07-07T18:46:31.566Z"
   },
   {
    "duration": 28,
    "start_time": "2021-07-07T18:46:31.572Z"
   },
   {
    "duration": 8,
    "start_time": "2021-07-07T18:46:31.602Z"
   },
   {
    "duration": 19,
    "start_time": "2021-07-07T18:46:31.611Z"
   },
   {
    "duration": 6,
    "start_time": "2021-07-07T18:46:31.633Z"
   },
   {
    "duration": 17,
    "start_time": "2021-07-07T18:46:31.642Z"
   },
   {
    "duration": 10,
    "start_time": "2021-07-07T18:46:31.684Z"
   },
   {
    "duration": 9,
    "start_time": "2021-07-07T18:46:31.695Z"
   },
   {
    "duration": 28,
    "start_time": "2021-07-07T18:46:31.705Z"
   },
   {
    "duration": 18,
    "start_time": "2021-07-07T18:46:31.735Z"
   },
   {
    "duration": 48,
    "start_time": "2021-07-07T18:46:31.755Z"
   },
   {
    "duration": 6,
    "start_time": "2021-07-07T18:46:31.804Z"
   },
   {
    "duration": 4,
    "start_time": "2021-07-07T18:46:31.812Z"
   },
   {
    "duration": 9,
    "start_time": "2021-07-07T18:46:31.817Z"
   },
   {
    "duration": 10,
    "start_time": "2021-07-07T18:46:31.827Z"
   },
   {
    "duration": 12,
    "start_time": "2021-07-07T18:46:31.838Z"
   },
   {
    "duration": 39,
    "start_time": "2021-07-07T18:46:31.851Z"
   },
   {
    "duration": 24,
    "start_time": "2021-07-07T18:46:31.892Z"
   },
   {
    "duration": 15,
    "start_time": "2021-07-07T18:46:31.918Z"
   },
   {
    "duration": 7,
    "start_time": "2021-07-07T18:46:31.936Z"
   },
   {
    "duration": 8,
    "start_time": "2021-07-07T18:46:31.944Z"
   },
   {
    "duration": 19,
    "start_time": "2021-07-07T18:46:31.984Z"
   },
   {
    "duration": 10,
    "start_time": "2021-07-07T18:46:32.004Z"
   },
   {
    "duration": 5,
    "start_time": "2021-07-07T18:46:32.016Z"
   },
   {
    "duration": 9,
    "start_time": "2021-07-07T18:46:32.023Z"
   },
   {
    "duration": 199,
    "start_time": "2021-07-07T18:46:32.033Z"
   },
   {
    "duration": 19,
    "start_time": "2021-07-07T18:46:32.234Z"
   },
   {
    "duration": 159,
    "start_time": "2021-07-07T18:46:32.255Z"
   },
   {
    "duration": 134,
    "start_time": "2021-07-07T18:46:32.416Z"
   },
   {
    "duration": 10,
    "start_time": "2021-07-07T18:46:32.552Z"
   },
   {
    "duration": 34,
    "start_time": "2021-07-07T18:46:32.563Z"
   },
   {
    "duration": 1039,
    "start_time": "2021-07-08T08:41:09.419Z"
   },
   {
    "duration": 333,
    "start_time": "2021-07-08T08:41:10.459Z"
   },
   {
    "duration": 173,
    "start_time": "2021-07-08T08:41:10.794Z"
   },
   {
    "duration": 5,
    "start_time": "2021-07-08T08:41:10.968Z"
   },
   {
    "duration": 25,
    "start_time": "2021-07-08T08:41:10.975Z"
   },
   {
    "duration": 9,
    "start_time": "2021-07-08T08:41:11.002Z"
   },
   {
    "duration": 18,
    "start_time": "2021-07-08T08:41:11.013Z"
   },
   {
    "duration": 6,
    "start_time": "2021-07-08T08:41:11.033Z"
   },
   {
    "duration": 44,
    "start_time": "2021-07-08T08:41:11.042Z"
   },
   {
    "duration": 10,
    "start_time": "2021-07-08T08:41:11.088Z"
   },
   {
    "duration": 9,
    "start_time": "2021-07-08T08:41:11.100Z"
   },
   {
    "duration": 27,
    "start_time": "2021-07-08T08:41:11.111Z"
   },
   {
    "duration": 46,
    "start_time": "2021-07-08T08:41:11.140Z"
   },
   {
    "duration": 17,
    "start_time": "2021-07-08T08:41:11.187Z"
   },
   {
    "duration": 6,
    "start_time": "2021-07-08T08:41:11.206Z"
   },
   {
    "duration": 5,
    "start_time": "2021-07-08T08:41:11.213Z"
   },
   {
    "duration": 10,
    "start_time": "2021-07-08T08:41:11.219Z"
   },
   {
    "duration": 9,
    "start_time": "2021-07-08T08:41:11.230Z"
   },
   {
    "duration": 45,
    "start_time": "2021-07-08T08:41:11.241Z"
   },
   {
    "duration": 7,
    "start_time": "2021-07-08T08:41:11.287Z"
   },
   {
    "duration": 24,
    "start_time": "2021-07-08T08:41:11.296Z"
   },
   {
    "duration": 16,
    "start_time": "2021-07-08T08:41:11.322Z"
   },
   {
    "duration": 7,
    "start_time": "2021-07-08T08:41:11.341Z"
   },
   {
    "duration": 41,
    "start_time": "2021-07-08T08:41:11.349Z"
   },
   {
    "duration": 17,
    "start_time": "2021-07-08T08:41:11.391Z"
   },
   {
    "duration": 9,
    "start_time": "2021-07-08T08:41:11.410Z"
   },
   {
    "duration": 5,
    "start_time": "2021-07-08T08:41:11.421Z"
   },
   {
    "duration": 6,
    "start_time": "2021-07-08T08:41:11.428Z"
   },
   {
    "duration": 198,
    "start_time": "2021-07-08T08:41:11.435Z"
   },
   {
    "duration": 18,
    "start_time": "2021-07-08T08:41:11.635Z"
   },
   {
    "duration": 155,
    "start_time": "2021-07-08T08:41:11.655Z"
   },
   {
    "duration": 138,
    "start_time": "2021-07-08T08:41:11.811Z"
   },
   {
    "duration": 10,
    "start_time": "2021-07-08T08:41:11.950Z"
   },
   {
    "duration": 29,
    "start_time": "2021-07-08T08:41:11.961Z"
   },
   {
    "duration": 171,
    "start_time": "2021-07-08T08:47:44.522Z"
   },
   {
    "duration": 124,
    "start_time": "2021-07-08T08:47:46.872Z"
   },
   {
    "duration": 191,
    "start_time": "2021-07-08T08:47:58.148Z"
   },
   {
    "duration": 191,
    "start_time": "2021-07-08T08:48:07.412Z"
   },
   {
    "duration": 261,
    "start_time": "2021-07-08T08:48:10.385Z"
   },
   {
    "duration": 255,
    "start_time": "2021-07-08T08:48:14.494Z"
   },
   {
    "duration": 219,
    "start_time": "2021-07-08T08:48:22.752Z"
   },
   {
    "duration": 173,
    "start_time": "2021-07-08T08:49:06.395Z"
   },
   {
    "duration": 180,
    "start_time": "2021-07-08T08:49:21.011Z"
   },
   {
    "duration": 6,
    "start_time": "2021-07-08T08:50:31.697Z"
   },
   {
    "duration": 10,
    "start_time": "2021-07-08T08:50:47.394Z"
   },
   {
    "duration": 11,
    "start_time": "2021-07-08T08:53:49.332Z"
   },
   {
    "duration": 171,
    "start_time": "2021-07-08T08:54:28.408Z"
   },
   {
    "duration": 636,
    "start_time": "2021-07-08T09:02:48.385Z"
   },
   {
    "duration": 227,
    "start_time": "2021-07-08T09:02:49.023Z"
   },
   {
    "duration": 104,
    "start_time": "2021-07-08T09:02:49.252Z"
   },
   {
    "duration": 5,
    "start_time": "2021-07-08T09:02:49.358Z"
   },
   {
    "duration": 27,
    "start_time": "2021-07-08T09:02:49.365Z"
   },
   {
    "duration": 8,
    "start_time": "2021-07-08T09:02:49.394Z"
   },
   {
    "duration": 18,
    "start_time": "2021-07-08T09:02:49.404Z"
   },
   {
    "duration": 6,
    "start_time": "2021-07-08T09:02:49.424Z"
   },
   {
    "duration": 11,
    "start_time": "2021-07-08T09:02:49.433Z"
   },
   {
    "duration": 13,
    "start_time": "2021-07-08T09:02:49.485Z"
   },
   {
    "duration": 9,
    "start_time": "2021-07-08T09:02:49.500Z"
   },
   {
    "duration": 38,
    "start_time": "2021-07-08T09:02:49.511Z"
   },
   {
    "duration": 42,
    "start_time": "2021-07-08T09:02:49.551Z"
   },
   {
    "duration": 21,
    "start_time": "2021-07-08T09:02:49.594Z"
   },
   {
    "duration": 6,
    "start_time": "2021-07-08T09:02:49.616Z"
   },
   {
    "duration": 3,
    "start_time": "2021-07-08T09:02:49.623Z"
   },
   {
    "duration": 9,
    "start_time": "2021-07-08T09:02:49.628Z"
   },
   {
    "duration": 52,
    "start_time": "2021-07-08T09:02:49.638Z"
   },
   {
    "duration": 11,
    "start_time": "2021-07-08T09:02:49.692Z"
   },
   {
    "duration": 8,
    "start_time": "2021-07-08T09:02:49.704Z"
   },
   {
    "duration": 27,
    "start_time": "2021-07-08T09:02:49.713Z"
   },
   {
    "duration": 59,
    "start_time": "2021-07-08T09:02:49.741Z"
   },
   {
    "duration": 8,
    "start_time": "2021-07-08T09:02:49.803Z"
   },
   {
    "duration": 14,
    "start_time": "2021-07-08T09:02:49.813Z"
   },
   {
    "duration": 20,
    "start_time": "2021-07-08T09:02:49.829Z"
   },
   {
    "duration": 44,
    "start_time": "2021-07-08T09:02:49.851Z"
   },
   {
    "duration": 14,
    "start_time": "2021-07-08T09:02:49.896Z"
   },
   {
    "duration": 221,
    "start_time": "2021-07-08T09:02:49.912Z"
   },
   {
    "duration": 6,
    "start_time": "2021-07-08T09:02:50.134Z"
   },
   {
    "duration": 206,
    "start_time": "2021-07-08T09:02:50.142Z"
   },
   {
    "duration": 19,
    "start_time": "2021-07-08T09:02:50.350Z"
   },
   {
    "duration": 21,
    "start_time": "2021-07-08T09:02:50.370Z"
   },
   {
    "duration": 20,
    "start_time": "2021-07-08T09:02:50.393Z"
   },
   {
    "duration": 5,
    "start_time": "2021-07-08T09:02:50.414Z"
   },
   {
    "duration": 5,
    "start_time": "2021-07-08T09:03:34.173Z"
   },
   {
    "duration": 6,
    "start_time": "2021-07-08T09:04:49.062Z"
   },
   {
    "duration": 9,
    "start_time": "2021-07-08T09:04:50.118Z"
   },
   {
    "duration": 14,
    "start_time": "2021-07-08T09:04:58.512Z"
   },
   {
    "duration": 9,
    "start_time": "2021-07-08T09:05:10.988Z"
   },
   {
    "duration": 11,
    "start_time": "2021-07-08T09:05:11.743Z"
   },
   {
    "duration": 7,
    "start_time": "2021-07-08T09:05:25.677Z"
   },
   {
    "duration": 13,
    "start_time": "2021-07-08T09:05:47.189Z"
   },
   {
    "duration": 13,
    "start_time": "2021-07-08T09:05:54.755Z"
   },
   {
    "duration": 4,
    "start_time": "2021-07-08T09:06:29.189Z"
   },
   {
    "duration": 244,
    "start_time": "2021-07-08T09:06:29.195Z"
   },
   {
    "duration": 91,
    "start_time": "2021-07-08T09:06:29.441Z"
   },
   {
    "duration": 4,
    "start_time": "2021-07-08T09:06:29.534Z"
   },
   {
    "duration": 28,
    "start_time": "2021-07-08T09:06:29.540Z"
   },
   {
    "duration": 6,
    "start_time": "2021-07-08T09:06:29.570Z"
   },
   {
    "duration": 18,
    "start_time": "2021-07-08T09:06:29.578Z"
   },
   {
    "duration": 5,
    "start_time": "2021-07-08T09:06:29.597Z"
   },
   {
    "duration": 13,
    "start_time": "2021-07-08T09:06:29.605Z"
   },
   {
    "duration": 8,
    "start_time": "2021-07-08T09:06:29.620Z"
   },
   {
    "duration": 7,
    "start_time": "2021-07-08T09:06:29.630Z"
   },
   {
    "duration": 63,
    "start_time": "2021-07-08T09:06:29.639Z"
   },
   {
    "duration": 17,
    "start_time": "2021-07-08T09:06:29.704Z"
   },
   {
    "duration": 20,
    "start_time": "2021-07-08T09:06:29.723Z"
   },
   {
    "duration": 6,
    "start_time": "2021-07-08T09:06:29.745Z"
   },
   {
    "duration": 3,
    "start_time": "2021-07-08T09:06:29.752Z"
   },
   {
    "duration": 7,
    "start_time": "2021-07-08T09:06:29.785Z"
   },
   {
    "duration": 11,
    "start_time": "2021-07-08T09:06:29.794Z"
   },
   {
    "duration": 15,
    "start_time": "2021-07-08T09:06:29.807Z"
   },
   {
    "duration": 8,
    "start_time": "2021-07-08T09:06:29.823Z"
   },
   {
    "duration": 70,
    "start_time": "2021-07-08T09:06:29.832Z"
   },
   {
    "duration": 17,
    "start_time": "2021-07-08T09:06:29.903Z"
   },
   {
    "duration": 9,
    "start_time": "2021-07-08T09:06:29.921Z"
   },
   {
    "duration": 9,
    "start_time": "2021-07-08T09:06:29.932Z"
   },
   {
    "duration": 57,
    "start_time": "2021-07-08T09:06:29.942Z"
   },
   {
    "duration": 11,
    "start_time": "2021-07-08T09:06:30.001Z"
   },
   {
    "duration": 19,
    "start_time": "2021-07-08T09:06:30.016Z"
   },
   {
    "duration": 217,
    "start_time": "2021-07-08T09:06:30.037Z"
   },
   {
    "duration": 6,
    "start_time": "2021-07-08T09:06:30.255Z"
   },
   {
    "duration": 205,
    "start_time": "2021-07-08T09:06:30.263Z"
   },
   {
    "duration": 27,
    "start_time": "2021-07-08T09:06:30.470Z"
   },
   {
    "duration": 11,
    "start_time": "2021-07-08T09:06:30.500Z"
   },
   {
    "duration": 31,
    "start_time": "2021-07-08T09:06:30.513Z"
   },
   {
    "duration": 18,
    "start_time": "2021-07-08T09:06:30.546Z"
   },
   {
    "duration": 11,
    "start_time": "2021-07-08T09:06:30.566Z"
   },
   {
    "duration": 19,
    "start_time": "2021-07-08T09:06:30.579Z"
   },
   {
    "duration": 20,
    "start_time": "2021-07-08T09:06:49.466Z"
   },
   {
    "duration": 9,
    "start_time": "2021-07-08T09:06:51.994Z"
   },
   {
    "duration": 20,
    "start_time": "2021-07-08T09:06:52.273Z"
   },
   {
    "duration": 246,
    "start_time": "2021-07-08T09:10:21.272Z"
   },
   {
    "duration": 84,
    "start_time": "2021-07-08T09:10:21.436Z"
   },
   {
    "duration": 7,
    "start_time": "2021-07-08T09:10:37.608Z"
   },
   {
    "duration": 189,
    "start_time": "2021-07-08T09:10:38.573Z"
   },
   {
    "duration": 185,
    "start_time": "2021-07-08T09:10:53.181Z"
   },
   {
    "duration": 11,
    "start_time": "2021-07-08T09:10:59.549Z"
   },
   {
    "duration": 42,
    "start_time": "2021-07-08T09:10:59.709Z"
   },
   {
    "duration": 12,
    "start_time": "2021-07-08T09:11:02.857Z"
   },
   {
    "duration": 28,
    "start_time": "2021-07-08T09:11:10.062Z"
   },
   {
    "duration": 249,
    "start_time": "2021-07-08T09:11:37.388Z"
   },
   {
    "duration": 232,
    "start_time": "2021-07-08T09:11:49.485Z"
   },
   {
    "duration": 453,
    "start_time": "2021-07-08T09:12:01.546Z"
   },
   {
    "duration": 440,
    "start_time": "2021-07-08T09:12:12.347Z"
   },
   {
    "duration": 213,
    "start_time": "2021-07-08T09:13:32.196Z"
   },
   {
    "duration": 172,
    "start_time": "2021-07-08T09:14:07.400Z"
   },
   {
    "duration": 185,
    "start_time": "2021-07-08T09:14:14.905Z"
   },
   {
    "duration": 209,
    "start_time": "2021-07-08T09:14:40.109Z"
   },
   {
    "duration": 201,
    "start_time": "2021-07-08T09:14:54.506Z"
   },
   {
    "duration": 622,
    "start_time": "2021-07-08T09:18:14.497Z"
   },
   {
    "duration": 220,
    "start_time": "2021-07-08T09:18:15.121Z"
   },
   {
    "duration": 79,
    "start_time": "2021-07-08T09:18:15.343Z"
   },
   {
    "duration": 4,
    "start_time": "2021-07-08T09:18:15.425Z"
   },
   {
    "duration": 24,
    "start_time": "2021-07-08T09:18:15.431Z"
   },
   {
    "duration": 8,
    "start_time": "2021-07-08T09:18:15.457Z"
   },
   {
    "duration": 16,
    "start_time": "2021-07-08T09:18:15.466Z"
   },
   {
    "duration": 5,
    "start_time": "2021-07-08T09:18:15.484Z"
   },
   {
    "duration": 10,
    "start_time": "2021-07-08T09:18:15.493Z"
   },
   {
    "duration": 8,
    "start_time": "2021-07-08T09:18:15.504Z"
   },
   {
    "duration": 7,
    "start_time": "2021-07-08T09:18:15.513Z"
   },
   {
    "duration": 26,
    "start_time": "2021-07-08T09:18:15.522Z"
   },
   {
    "duration": 49,
    "start_time": "2021-07-08T09:18:15.550Z"
   },
   {
    "duration": 21,
    "start_time": "2021-07-08T09:18:15.601Z"
   },
   {
    "duration": 8,
    "start_time": "2021-07-08T09:18:15.624Z"
   },
   {
    "duration": 3,
    "start_time": "2021-07-08T09:18:15.634Z"
   },
   {
    "duration": 8,
    "start_time": "2021-07-08T09:18:15.639Z"
   },
   {
    "duration": 45,
    "start_time": "2021-07-08T09:18:15.649Z"
   },
   {
    "duration": 13,
    "start_time": "2021-07-08T09:18:15.696Z"
   },
   {
    "duration": 10,
    "start_time": "2021-07-08T09:18:15.711Z"
   },
   {
    "duration": 64,
    "start_time": "2021-07-08T09:18:15.722Z"
   },
   {
    "duration": 19,
    "start_time": "2021-07-08T09:18:15.788Z"
   },
   {
    "duration": 9,
    "start_time": "2021-07-08T09:18:15.809Z"
   },
   {
    "duration": 9,
    "start_time": "2021-07-08T09:18:15.820Z"
   },
   {
    "duration": 18,
    "start_time": "2021-07-08T09:18:15.831Z"
   },
   {
    "duration": 43,
    "start_time": "2021-07-08T09:18:15.851Z"
   },
   {
    "duration": 12,
    "start_time": "2021-07-08T09:18:15.897Z"
   },
   {
    "duration": 219,
    "start_time": "2021-07-08T09:18:15.911Z"
   },
   {
    "duration": 8,
    "start_time": "2021-07-08T09:18:16.132Z"
   },
   {
    "duration": 199,
    "start_time": "2021-07-08T09:18:16.141Z"
   },
   {
    "duration": 18,
    "start_time": "2021-07-08T09:18:16.341Z"
   },
   {
    "duration": 24,
    "start_time": "2021-07-08T09:18:16.361Z"
   },
   {
    "duration": 24,
    "start_time": "2021-07-08T09:18:16.387Z"
   },
   {
    "duration": 211,
    "start_time": "2021-07-08T09:18:16.413Z"
   },
   {
    "duration": 18,
    "start_time": "2021-07-08T09:18:16.626Z"
   },
   {
    "duration": 596,
    "start_time": "2021-07-08T10:06:33.623Z"
   },
   {
    "duration": 181,
    "start_time": "2021-07-08T10:06:34.221Z"
   },
   {
    "duration": 176,
    "start_time": "2021-07-08T10:06:34.635Z"
   },
   {
    "duration": 239,
    "start_time": "2021-07-08T10:06:55.572Z"
   },
   {
    "duration": 6,
    "start_time": "2021-07-08T10:06:57.687Z"
   },
   {
    "duration": 4,
    "start_time": "2021-07-08T10:07:03.956Z"
   },
   {
    "duration": 4,
    "start_time": "2021-07-08T10:07:10.376Z"
   },
   {
    "duration": 4,
    "start_time": "2021-07-08T10:17:19.889Z"
   },
   {
    "duration": 3,
    "start_time": "2021-07-08T10:19:19.407Z"
   },
   {
    "duration": 197,
    "start_time": "2021-07-08T10:19:19.412Z"
   },
   {
    "duration": 127,
    "start_time": "2021-07-08T10:19:19.611Z"
   },
   {
    "duration": 4,
    "start_time": "2021-07-08T10:19:19.740Z"
   },
   {
    "duration": 27,
    "start_time": "2021-07-08T10:19:19.746Z"
   },
   {
    "duration": 7,
    "start_time": "2021-07-08T10:19:19.775Z"
   },
   {
    "duration": 30,
    "start_time": "2021-07-08T10:19:19.784Z"
   },
   {
    "duration": 7,
    "start_time": "2021-07-08T10:19:19.817Z"
   },
   {
    "duration": 26,
    "start_time": "2021-07-08T10:19:19.826Z"
   },
   {
    "duration": 18,
    "start_time": "2021-07-08T10:19:19.854Z"
   },
   {
    "duration": 14,
    "start_time": "2021-07-08T10:19:19.874Z"
   },
   {
    "duration": 48,
    "start_time": "2021-07-08T10:19:19.890Z"
   },
   {
    "duration": 17,
    "start_time": "2021-07-08T10:19:19.940Z"
   },
   {
    "duration": 38,
    "start_time": "2021-07-08T10:19:19.959Z"
   },
   {
    "duration": 8,
    "start_time": "2021-07-08T10:19:19.999Z"
   },
   {
    "duration": 15,
    "start_time": "2021-07-08T10:19:20.009Z"
   },
   {
    "duration": 22,
    "start_time": "2021-07-08T10:19:20.026Z"
   },
   {
    "duration": 10,
    "start_time": "2021-07-08T10:19:20.050Z"
   },
   {
    "duration": 10,
    "start_time": "2021-07-08T10:19:20.062Z"
   },
   {
    "duration": 20,
    "start_time": "2021-07-08T10:19:20.073Z"
   },
   {
    "duration": 29,
    "start_time": "2021-07-08T10:19:20.095Z"
   },
   {
    "duration": 17,
    "start_time": "2021-07-08T10:19:20.126Z"
   },
   {
    "duration": 40,
    "start_time": "2021-07-08T10:19:20.146Z"
   },
   {
    "duration": 15,
    "start_time": "2021-07-08T10:19:20.189Z"
   },
   {
    "duration": 19,
    "start_time": "2021-07-08T10:19:20.206Z"
   },
   {
    "duration": 10,
    "start_time": "2021-07-08T10:19:20.226Z"
   },
   {
    "duration": 11,
    "start_time": "2021-07-08T10:19:20.238Z"
   },
   {
    "duration": 297,
    "start_time": "2021-07-08T10:19:20.250Z"
   },
   {
    "duration": 6,
    "start_time": "2021-07-08T10:19:20.549Z"
   },
   {
    "duration": 191,
    "start_time": "2021-07-08T10:19:20.557Z"
   },
   {
    "duration": 19,
    "start_time": "2021-07-08T10:19:20.750Z"
   },
   {
    "duration": 20,
    "start_time": "2021-07-08T10:19:20.771Z"
   },
   {
    "duration": 15,
    "start_time": "2021-07-08T10:19:20.793Z"
   },
   {
    "duration": 222,
    "start_time": "2021-07-08T10:19:20.809Z"
   },
   {
    "duration": 20,
    "start_time": "2021-07-08T10:19:21.033Z"
   },
   {
    "duration": 27,
    "start_time": "2021-07-08T10:45:04.055Z"
   },
   {
    "duration": 8,
    "start_time": "2021-07-08T10:45:08.478Z"
   },
   {
    "duration": 8,
    "start_time": "2021-07-08T10:45:31.982Z"
   },
   {
    "duration": 10,
    "start_time": "2021-07-08T10:46:01.221Z"
   },
   {
    "duration": 17,
    "start_time": "2021-07-08T10:46:40.011Z"
   },
   {
    "duration": 193,
    "start_time": "2021-07-08T10:48:19.471Z"
   },
   {
    "duration": 225,
    "start_time": "2021-07-08T10:49:26.480Z"
   },
   {
    "duration": 204,
    "start_time": "2021-07-08T10:49:59.992Z"
   },
   {
    "duration": 435,
    "start_time": "2021-07-08T10:50:06.779Z"
   },
   {
    "duration": 199,
    "start_time": "2021-07-08T10:50:14.891Z"
   },
   {
    "duration": 204,
    "start_time": "2021-07-08T10:50:18.501Z"
   },
   {
    "duration": 244,
    "start_time": "2021-07-08T10:50:23.359Z"
   },
   {
    "duration": 192,
    "start_time": "2021-07-08T10:50:29.135Z"
   },
   {
    "duration": 218,
    "start_time": "2021-07-08T10:50:33.092Z"
   },
   {
    "duration": 207,
    "start_time": "2021-07-08T10:52:45.381Z"
   },
   {
    "duration": 5,
    "start_time": "2021-07-08T10:53:34.641Z"
   },
   {
    "duration": 196,
    "start_time": "2021-07-08T10:53:41.478Z"
   },
   {
    "duration": 43,
    "start_time": "2021-07-08T10:53:50.335Z"
   },
   {
    "duration": 32,
    "start_time": "2021-07-08T10:53:55.294Z"
   },
   {
    "duration": 55,
    "start_time": "2021-07-08T10:54:09.675Z"
   },
   {
    "duration": 16,
    "start_time": "2021-07-08T10:54:12.260Z"
   },
   {
    "duration": 15,
    "start_time": "2021-07-08T10:54:49.150Z"
   },
   {
    "duration": 20,
    "start_time": "2021-07-08T10:56:07.596Z"
   },
   {
    "duration": 16,
    "start_time": "2021-07-08T10:58:26.276Z"
   },
   {
    "duration": 22,
    "start_time": "2021-07-08T10:59:00.486Z"
   },
   {
    "duration": 18,
    "start_time": "2021-07-08T11:02:09.653Z"
   },
   {
    "duration": 10,
    "start_time": "2021-07-08T11:03:44.331Z"
   },
   {
    "duration": 10,
    "start_time": "2021-07-08T11:03:54.055Z"
   },
   {
    "duration": 12,
    "start_time": "2021-07-08T11:04:41.967Z"
   },
   {
    "duration": 24,
    "start_time": "2021-07-08T11:07:30.732Z"
   },
   {
    "duration": 6,
    "start_time": "2021-07-08T11:07:37.364Z"
   },
   {
    "duration": 16,
    "start_time": "2021-07-08T11:08:01.819Z"
   },
   {
    "duration": 17,
    "start_time": "2021-07-08T11:09:47.488Z"
   },
   {
    "duration": 246,
    "start_time": "2021-07-08T11:10:00.830Z"
   },
   {
    "duration": 18,
    "start_time": "2021-07-08T11:13:55.195Z"
   },
   {
    "duration": 204,
    "start_time": "2021-07-08T11:14:04.951Z"
   },
   {
    "duration": 19,
    "start_time": "2021-07-08T11:15:10.613Z"
   },
   {
    "duration": 680,
    "start_time": "2021-07-08T11:16:25.793Z"
   },
   {
    "duration": 451,
    "start_time": "2021-07-08T11:16:40.313Z"
   },
   {
    "duration": 469,
    "start_time": "2021-07-08T11:17:21.286Z"
   },
   {
    "duration": 20,
    "start_time": "2021-07-08T11:19:12.554Z"
   },
   {
    "duration": 35,
    "start_time": "2021-07-08T11:20:05.484Z"
   },
   {
    "duration": 53,
    "start_time": "2021-07-08T11:21:40.050Z"
   },
   {
    "duration": 13,
    "start_time": "2021-07-08T11:22:26.059Z"
   },
   {
    "duration": 19,
    "start_time": "2021-07-08T11:22:47.419Z"
   },
   {
    "duration": 25,
    "start_time": "2021-07-08T11:23:19.958Z"
   },
   {
    "duration": 29,
    "start_time": "2021-07-08T11:23:25.415Z"
   },
   {
    "duration": 10,
    "start_time": "2021-07-08T11:24:45.138Z"
   },
   {
    "duration": 19,
    "start_time": "2021-07-08T11:24:54.498Z"
   },
   {
    "duration": 12,
    "start_time": "2021-07-08T11:25:32.225Z"
   },
   {
    "duration": 19,
    "start_time": "2021-07-08T11:25:37.092Z"
   },
   {
    "duration": 17,
    "start_time": "2021-07-08T11:25:58.116Z"
   },
   {
    "duration": 15,
    "start_time": "2021-07-08T11:26:02.258Z"
   },
   {
    "duration": 8,
    "start_time": "2021-07-08T11:26:59.682Z"
   },
   {
    "duration": 184,
    "start_time": "2021-07-08T11:27:21.894Z"
   },
   {
    "duration": 8,
    "start_time": "2021-07-08T11:27:23.824Z"
   },
   {
    "duration": 202,
    "start_time": "2021-07-08T11:27:23.962Z"
   },
   {
    "duration": 360,
    "start_time": "2021-07-08T11:28:33.215Z"
   },
   {
    "duration": 231,
    "start_time": "2021-07-08T11:32:05.542Z"
   },
   {
    "duration": 607,
    "start_time": "2021-07-08T11:36:27.854Z"
   },
   {
    "duration": 241,
    "start_time": "2021-07-08T11:36:28.463Z"
   },
   {
    "duration": 67,
    "start_time": "2021-07-08T11:36:28.709Z"
   },
   {
    "duration": 5,
    "start_time": "2021-07-08T11:36:28.778Z"
   },
   {
    "duration": 32,
    "start_time": "2021-07-08T11:36:28.784Z"
   },
   {
    "duration": 11,
    "start_time": "2021-07-08T11:36:28.819Z"
   },
   {
    "duration": 20,
    "start_time": "2021-07-08T11:36:28.834Z"
   },
   {
    "duration": 36,
    "start_time": "2021-07-08T11:36:28.857Z"
   },
   {
    "duration": 16,
    "start_time": "2021-07-08T11:36:28.895Z"
   },
   {
    "duration": 14,
    "start_time": "2021-07-08T11:36:28.913Z"
   },
   {
    "duration": 9,
    "start_time": "2021-07-08T11:36:28.930Z"
   },
   {
    "duration": 55,
    "start_time": "2021-07-08T11:36:28.941Z"
   },
   {
    "duration": 27,
    "start_time": "2021-07-08T11:36:28.999Z"
   },
   {
    "duration": 30,
    "start_time": "2021-07-08T11:36:29.028Z"
   },
   {
    "duration": 31,
    "start_time": "2021-07-08T11:36:29.060Z"
   },
   {
    "duration": 3,
    "start_time": "2021-07-08T11:36:29.093Z"
   },
   {
    "duration": 12,
    "start_time": "2021-07-08T11:36:29.099Z"
   },
   {
    "duration": 11,
    "start_time": "2021-07-08T11:36:29.112Z"
   },
   {
    "duration": 12,
    "start_time": "2021-07-08T11:36:29.125Z"
   },
   {
    "duration": 9,
    "start_time": "2021-07-08T11:36:29.139Z"
   },
   {
    "duration": 31,
    "start_time": "2021-07-08T11:36:29.191Z"
   },
   {
    "duration": 17,
    "start_time": "2021-07-08T11:36:29.226Z"
   },
   {
    "duration": 7,
    "start_time": "2021-07-08T11:36:29.245Z"
   },
   {
    "duration": 10,
    "start_time": "2021-07-08T11:36:29.254Z"
   },
   {
    "duration": 30,
    "start_time": "2021-07-08T11:36:29.292Z"
   },
   {
    "duration": 11,
    "start_time": "2021-07-08T11:36:29.324Z"
   },
   {
    "duration": 11,
    "start_time": "2021-07-08T11:36:29.337Z"
   },
   {
    "duration": 230,
    "start_time": "2021-07-08T11:36:29.349Z"
   },
   {
    "duration": 13,
    "start_time": "2021-07-08T11:36:29.588Z"
   },
   {
    "duration": 205,
    "start_time": "2021-07-08T11:36:29.603Z"
   },
   {
    "duration": 20,
    "start_time": "2021-07-08T11:36:29.810Z"
   },
   {
    "duration": 9,
    "start_time": "2021-07-08T11:36:29.832Z"
   },
   {
    "duration": 16,
    "start_time": "2021-07-08T11:36:29.843Z"
   },
   {
    "duration": 283,
    "start_time": "2021-07-08T11:36:29.861Z"
   },
   {
    "duration": 50,
    "start_time": "2021-07-08T11:36:30.146Z"
   },
   {
    "duration": 14,
    "start_time": "2021-07-08T11:36:30.198Z"
   },
   {
    "duration": 11,
    "start_time": "2021-07-08T11:36:30.214Z"
   },
   {
    "duration": 245,
    "start_time": "2021-07-08T11:36:30.227Z"
   },
   {
    "duration": 439,
    "start_time": "2021-07-08T11:36:30.474Z"
   },
   {
    "duration": 210,
    "start_time": "2021-07-08T11:36:30.915Z"
   },
   {
    "duration": 15,
    "start_time": "2021-07-08T11:36:31.127Z"
   },
   {
    "duration": 17,
    "start_time": "2021-07-08T11:38:20.451Z"
   },
   {
    "duration": 642,
    "start_time": "2021-07-08T11:46:17.881Z"
   },
   {
    "duration": 210,
    "start_time": "2021-07-08T11:46:18.525Z"
   },
   {
    "duration": 104,
    "start_time": "2021-07-08T11:46:18.741Z"
   },
   {
    "duration": 8,
    "start_time": "2021-07-08T11:46:18.847Z"
   },
   {
    "duration": 25,
    "start_time": "2021-07-08T11:46:18.857Z"
   },
   {
    "duration": 14,
    "start_time": "2021-07-08T11:46:18.884Z"
   },
   {
    "duration": 22,
    "start_time": "2021-07-08T11:46:18.900Z"
   },
   {
    "duration": 5,
    "start_time": "2021-07-08T11:46:18.924Z"
   },
   {
    "duration": 13,
    "start_time": "2021-07-08T11:46:18.931Z"
   },
   {
    "duration": 45,
    "start_time": "2021-07-08T11:46:18.946Z"
   },
   {
    "duration": 12,
    "start_time": "2021-07-08T11:46:18.993Z"
   },
   {
    "duration": 38,
    "start_time": "2021-07-08T11:46:19.006Z"
   },
   {
    "duration": 50,
    "start_time": "2021-07-08T11:46:19.046Z"
   },
   {
    "duration": 29,
    "start_time": "2021-07-08T11:46:19.099Z"
   },
   {
    "duration": 7,
    "start_time": "2021-07-08T11:46:19.130Z"
   },
   {
    "duration": 3,
    "start_time": "2021-07-08T11:46:19.139Z"
   },
   {
    "duration": 11,
    "start_time": "2021-07-08T11:46:19.144Z"
   },
   {
    "duration": 40,
    "start_time": "2021-07-08T11:46:19.157Z"
   },
   {
    "duration": 15,
    "start_time": "2021-07-08T11:46:19.199Z"
   },
   {
    "duration": 10,
    "start_time": "2021-07-08T11:46:19.217Z"
   },
   {
    "duration": 68,
    "start_time": "2021-07-08T11:46:19.230Z"
   },
   {
    "duration": 17,
    "start_time": "2021-07-08T11:46:19.301Z"
   },
   {
    "duration": 7,
    "start_time": "2021-07-08T11:46:19.321Z"
   },
   {
    "duration": 11,
    "start_time": "2021-07-08T11:46:19.330Z"
   },
   {
    "duration": 59,
    "start_time": "2021-07-08T11:46:19.343Z"
   },
   {
    "duration": 17,
    "start_time": "2021-07-08T11:46:19.405Z"
   },
   {
    "duration": 16,
    "start_time": "2021-07-08T11:46:19.424Z"
   },
   {
    "duration": 252,
    "start_time": "2021-07-08T11:46:19.443Z"
   },
   {
    "duration": 9,
    "start_time": "2021-07-08T11:46:19.697Z"
   },
   {
    "duration": 224,
    "start_time": "2021-07-08T11:46:19.708Z"
   },
   {
    "duration": 21,
    "start_time": "2021-07-08T11:46:19.934Z"
   },
   {
    "duration": 9,
    "start_time": "2021-07-08T11:46:19.956Z"
   },
   {
    "duration": 32,
    "start_time": "2021-07-08T11:46:19.967Z"
   },
   {
    "duration": 288,
    "start_time": "2021-07-08T11:46:20.004Z"
   },
   {
    "duration": 23,
    "start_time": "2021-07-08T11:46:20.300Z"
   },
   {
    "duration": 11,
    "start_time": "2021-07-08T11:46:20.325Z"
   },
   {
    "duration": 11,
    "start_time": "2021-07-08T11:46:20.339Z"
   },
   {
    "duration": 259,
    "start_time": "2021-07-08T11:46:20.352Z"
   },
   {
    "duration": 438,
    "start_time": "2021-07-08T11:46:20.613Z"
   },
   {
    "duration": 207,
    "start_time": "2021-07-08T11:46:21.054Z"
   },
   {
    "duration": 27,
    "start_time": "2021-07-08T11:46:21.262Z"
   },
   {
    "duration": 19,
    "start_time": "2021-07-08T11:46:21.291Z"
   },
   {
    "duration": 820,
    "start_time": "2021-07-08T11:49:01.655Z"
   },
   {
    "duration": 372,
    "start_time": "2021-07-08T11:49:02.478Z"
   },
   {
    "duration": 98,
    "start_time": "2021-07-08T11:49:02.853Z"
   },
   {
    "duration": 6,
    "start_time": "2021-07-08T11:49:02.953Z"
   },
   {
    "duration": 39,
    "start_time": "2021-07-08T11:49:02.960Z"
   },
   {
    "duration": 9,
    "start_time": "2021-07-08T11:49:03.003Z"
   },
   {
    "duration": 23,
    "start_time": "2021-07-08T11:49:03.014Z"
   },
   {
    "duration": 6,
    "start_time": "2021-07-08T11:49:03.041Z"
   },
   {
    "duration": 20,
    "start_time": "2021-07-08T11:49:03.049Z"
   },
   {
    "duration": 18,
    "start_time": "2021-07-08T11:49:03.084Z"
   },
   {
    "duration": 14,
    "start_time": "2021-07-08T11:49:03.104Z"
   },
   {
    "duration": 39,
    "start_time": "2021-07-08T11:49:03.119Z"
   },
   {
    "duration": 38,
    "start_time": "2021-07-08T11:49:03.160Z"
   },
   {
    "duration": 26,
    "start_time": "2021-07-08T11:49:03.200Z"
   },
   {
    "duration": 7,
    "start_time": "2021-07-08T11:49:03.227Z"
   },
   {
    "duration": 4,
    "start_time": "2021-07-08T11:49:03.236Z"
   },
   {
    "duration": 15,
    "start_time": "2021-07-08T11:49:03.243Z"
   },
   {
    "duration": 21,
    "start_time": "2021-07-08T11:49:03.285Z"
   },
   {
    "duration": 17,
    "start_time": "2021-07-08T11:49:03.309Z"
   },
   {
    "duration": 10,
    "start_time": "2021-07-08T11:49:03.328Z"
   },
   {
    "duration": 65,
    "start_time": "2021-07-08T11:49:03.340Z"
   },
   {
    "duration": 18,
    "start_time": "2021-07-08T11:49:03.407Z"
   },
   {
    "duration": 8,
    "start_time": "2021-07-08T11:49:03.428Z"
   },
   {
    "duration": 15,
    "start_time": "2021-07-08T11:49:03.438Z"
   },
   {
    "duration": 40,
    "start_time": "2021-07-08T11:49:03.455Z"
   },
   {
    "duration": 12,
    "start_time": "2021-07-08T11:49:03.497Z"
   },
   {
    "duration": 29,
    "start_time": "2021-07-08T11:49:03.511Z"
   },
   {
    "duration": 285,
    "start_time": "2021-07-08T11:49:03.542Z"
   },
   {
    "duration": 8,
    "start_time": "2021-07-08T11:49:03.829Z"
   },
   {
    "duration": 227,
    "start_time": "2021-07-08T11:49:03.838Z"
   },
   {
    "duration": 40,
    "start_time": "2021-07-08T11:49:04.066Z"
   },
   {
    "duration": 10,
    "start_time": "2021-07-08T11:49:04.108Z"
   },
   {
    "duration": 26,
    "start_time": "2021-07-08T11:49:04.121Z"
   },
   {
    "duration": 290,
    "start_time": "2021-07-08T11:49:04.149Z"
   },
   {
    "duration": 26,
    "start_time": "2021-07-08T11:49:04.441Z"
   },
   {
    "duration": 31,
    "start_time": "2021-07-08T11:49:04.470Z"
   },
   {
    "duration": 14,
    "start_time": "2021-07-08T11:49:04.503Z"
   },
   {
    "duration": 259,
    "start_time": "2021-07-08T11:49:04.521Z"
   },
   {
    "duration": 480,
    "start_time": "2021-07-08T11:49:04.782Z"
   },
   {
    "duration": 225,
    "start_time": "2021-07-08T11:49:05.264Z"
   },
   {
    "duration": 22,
    "start_time": "2021-07-08T11:49:05.491Z"
   },
   {
    "duration": 24,
    "start_time": "2021-07-08T11:49:05.515Z"
   },
   {
    "duration": 634,
    "start_time": "2021-07-08T11:52:24.960Z"
   },
   {
    "duration": 199,
    "start_time": "2021-07-08T11:52:25.599Z"
   },
   {
    "duration": 106,
    "start_time": "2021-07-08T11:52:25.803Z"
   },
   {
    "duration": 7,
    "start_time": "2021-07-08T11:52:25.911Z"
   },
   {
    "duration": 29,
    "start_time": "2021-07-08T11:52:25.920Z"
   },
   {
    "duration": 7,
    "start_time": "2021-07-08T11:52:25.951Z"
   },
   {
    "duration": 26,
    "start_time": "2021-07-08T11:52:25.961Z"
   },
   {
    "duration": 11,
    "start_time": "2021-07-08T11:52:25.990Z"
   },
   {
    "duration": 29,
    "start_time": "2021-07-08T11:52:26.005Z"
   },
   {
    "duration": 9,
    "start_time": "2021-07-08T11:52:26.036Z"
   },
   {
    "duration": 8,
    "start_time": "2021-07-08T11:52:26.047Z"
   },
   {
    "duration": 63,
    "start_time": "2021-07-08T11:52:26.057Z"
   },
   {
    "duration": 17,
    "start_time": "2021-07-08T11:52:26.122Z"
   },
   {
    "duration": 43,
    "start_time": "2021-07-08T11:52:26.142Z"
   },
   {
    "duration": 17,
    "start_time": "2021-07-08T11:52:26.187Z"
   },
   {
    "duration": 5,
    "start_time": "2021-07-08T11:52:26.206Z"
   },
   {
    "duration": 12,
    "start_time": "2021-07-08T11:52:26.212Z"
   },
   {
    "duration": 11,
    "start_time": "2021-07-08T11:52:26.226Z"
   },
   {
    "duration": 12,
    "start_time": "2021-07-08T11:52:26.238Z"
   },
   {
    "duration": 38,
    "start_time": "2021-07-08T11:52:26.252Z"
   },
   {
    "duration": 40,
    "start_time": "2021-07-08T11:52:26.292Z"
   },
   {
    "duration": 17,
    "start_time": "2021-07-08T11:52:26.336Z"
   },
   {
    "duration": 39,
    "start_time": "2021-07-08T11:52:26.355Z"
   },
   {
    "duration": 11,
    "start_time": "2021-07-08T11:52:26.395Z"
   },
   {
    "duration": 23,
    "start_time": "2021-07-08T11:52:26.408Z"
   },
   {
    "duration": 12,
    "start_time": "2021-07-08T11:52:26.432Z"
   },
   {
    "duration": 41,
    "start_time": "2021-07-08T11:52:26.446Z"
   },
   {
    "duration": 215,
    "start_time": "2021-07-08T11:52:26.493Z"
   },
   {
    "duration": 8,
    "start_time": "2021-07-08T11:52:26.710Z"
   },
   {
    "duration": 228,
    "start_time": "2021-07-08T11:52:26.720Z"
   },
   {
    "duration": 18,
    "start_time": "2021-07-08T11:52:26.950Z"
   },
   {
    "duration": 35,
    "start_time": "2021-07-08T11:52:26.969Z"
   },
   {
    "duration": 23,
    "start_time": "2021-07-08T11:52:27.006Z"
   },
   {
    "duration": 258,
    "start_time": "2021-07-08T11:52:27.030Z"
   },
   {
    "duration": 24,
    "start_time": "2021-07-08T11:52:27.290Z"
   },
   {
    "duration": 12,
    "start_time": "2021-07-08T11:52:27.316Z"
   },
   {
    "duration": 10,
    "start_time": "2021-07-08T11:52:27.329Z"
   },
   {
    "duration": 298,
    "start_time": "2021-07-08T11:52:27.341Z"
   },
   {
    "duration": 436,
    "start_time": "2021-07-08T11:52:27.641Z"
   },
   {
    "duration": 216,
    "start_time": "2021-07-08T11:52:28.079Z"
   },
   {
    "duration": 20,
    "start_time": "2021-07-08T11:52:28.297Z"
   },
   {
    "duration": 17,
    "start_time": "2021-07-08T11:52:28.319Z"
   },
   {
    "duration": 662,
    "start_time": "2023-11-01T16:34:46.294Z"
   },
   {
    "duration": 112,
    "start_time": "2023-11-01T16:35:00.308Z"
   },
   {
    "duration": 110,
    "start_time": "2023-11-01T16:35:39.922Z"
   },
   {
    "duration": 99,
    "start_time": "2023-11-01T16:36:44.870Z"
   },
   {
    "duration": 98,
    "start_time": "2023-11-01T16:36:55.725Z"
   },
   {
    "duration": 3,
    "start_time": "2023-11-01T16:37:42.096Z"
   },
   {
    "duration": 4,
    "start_time": "2023-11-01T16:43:05.637Z"
   },
   {
    "duration": 11,
    "start_time": "2023-11-01T16:43:19.569Z"
   },
   {
    "duration": 27,
    "start_time": "2023-11-01T16:46:49.760Z"
   },
   {
    "duration": 20,
    "start_time": "2023-11-01T16:47:34.217Z"
   },
   {
    "duration": 27,
    "start_time": "2023-11-01T16:47:41.422Z"
   },
   {
    "duration": 16,
    "start_time": "2023-11-01T16:48:41.329Z"
   },
   {
    "duration": 74,
    "start_time": "2023-11-01T16:48:49.239Z"
   },
   {
    "duration": 24,
    "start_time": "2023-11-01T16:48:52.255Z"
   },
   {
    "duration": 111,
    "start_time": "2023-11-01T16:48:57.018Z"
   },
   {
    "duration": 50,
    "start_time": "2023-11-01T16:48:57.131Z"
   },
   {
    "duration": 3,
    "start_time": "2023-11-01T16:48:57.183Z"
   },
   {
    "duration": 48,
    "start_time": "2023-11-01T16:48:57.188Z"
   },
   {
    "duration": 20,
    "start_time": "2023-11-01T16:53:05.815Z"
   },
   {
    "duration": 16,
    "start_time": "2023-11-01T16:55:23.538Z"
   },
   {
    "duration": 18,
    "start_time": "2023-11-01T16:56:08.230Z"
   },
   {
    "duration": 32,
    "start_time": "2023-11-01T16:56:48.213Z"
   },
   {
    "duration": 15,
    "start_time": "2023-11-01T16:57:08.157Z"
   },
   {
    "duration": 22,
    "start_time": "2023-11-01T16:58:53.715Z"
   },
   {
    "duration": 7,
    "start_time": "2023-11-01T16:59:04.398Z"
   },
   {
    "duration": 24,
    "start_time": "2023-11-01T16:59:08.891Z"
   },
   {
    "duration": 22,
    "start_time": "2023-11-01T17:01:32.807Z"
   },
   {
    "duration": 29,
    "start_time": "2023-11-01T17:01:50.165Z"
   },
   {
    "duration": 22,
    "start_time": "2023-11-01T17:02:00.144Z"
   },
   {
    "duration": 7,
    "start_time": "2023-11-01T17:03:55.541Z"
   },
   {
    "duration": 8,
    "start_time": "2023-11-01T17:04:01.140Z"
   },
   {
    "duration": 22,
    "start_time": "2023-11-01T17:04:08.088Z"
   },
   {
    "duration": 16,
    "start_time": "2023-11-01T17:04:13.174Z"
   },
   {
    "duration": 6,
    "start_time": "2023-11-01T17:04:46.268Z"
   },
   {
    "duration": 6,
    "start_time": "2023-11-01T17:04:50.806Z"
   },
   {
    "duration": 9,
    "start_time": "2023-11-01T17:05:38.358Z"
   },
   {
    "duration": 6,
    "start_time": "2023-11-01T17:05:47.051Z"
   },
   {
    "duration": 106,
    "start_time": "2023-11-01T17:11:35.416Z"
   },
   {
    "duration": 16,
    "start_time": "2023-11-01T17:11:44.970Z"
   },
   {
    "duration": 8,
    "start_time": "2023-11-01T17:12:43.994Z"
   },
   {
    "duration": 15,
    "start_time": "2023-11-01T17:12:52.429Z"
   },
   {
    "duration": 9,
    "start_time": "2023-11-01T17:15:14.562Z"
   },
   {
    "duration": 381,
    "start_time": "2023-11-01T17:15:42.666Z"
   },
   {
    "duration": 3,
    "start_time": "2023-11-01T17:16:11.047Z"
   },
   {
    "duration": 7,
    "start_time": "2023-11-01T17:16:16.814Z"
   },
   {
    "duration": 25,
    "start_time": "2023-11-01T17:16:26.138Z"
   },
   {
    "duration": 12,
    "start_time": "2023-11-01T17:22:31.113Z"
   },
   {
    "duration": 25,
    "start_time": "2023-11-01T17:22:47.891Z"
   },
   {
    "duration": 31,
    "start_time": "2023-11-01T17:23:06.105Z"
   },
   {
    "duration": 24,
    "start_time": "2023-11-01T17:23:24.252Z"
   },
   {
    "duration": 31,
    "start_time": "2023-11-02T06:56:28.468Z"
   },
   {
    "duration": 10,
    "start_time": "2023-11-02T07:00:25.160Z"
   },
   {
    "duration": 107,
    "start_time": "2023-11-02T07:00:29.206Z"
   },
   {
    "duration": 50,
    "start_time": "2023-11-02T07:00:29.315Z"
   },
   {
    "duration": 4,
    "start_time": "2023-11-02T07:00:29.366Z"
   },
   {
    "duration": 19,
    "start_time": "2023-11-02T07:00:29.371Z"
   },
   {
    "duration": 23,
    "start_time": "2023-11-02T07:01:04.918Z"
   },
   {
    "duration": 497,
    "start_time": "2023-11-02T07:02:01.189Z"
   },
   {
    "duration": 315,
    "start_time": "2023-11-02T07:02:17.687Z"
   },
   {
    "duration": 23,
    "start_time": "2023-11-02T07:03:18.144Z"
   },
   {
    "duration": 21,
    "start_time": "2023-11-02T07:04:08.450Z"
   },
   {
    "duration": 25,
    "start_time": "2023-11-02T07:04:22.994Z"
   },
   {
    "duration": 8,
    "start_time": "2023-11-02T07:07:00.022Z"
   },
   {
    "duration": 10,
    "start_time": "2023-11-02T07:07:13.298Z"
   },
   {
    "duration": 121,
    "start_time": "2023-11-02T07:07:35.588Z"
   },
   {
    "duration": 58,
    "start_time": "2023-11-02T07:07:35.710Z"
   },
   {
    "duration": 3,
    "start_time": "2023-11-02T07:07:35.770Z"
   },
   {
    "duration": 40,
    "start_time": "2023-11-02T07:07:35.775Z"
   },
   {
    "duration": 8,
    "start_time": "2023-11-02T07:08:28.790Z"
   },
   {
    "duration": 11,
    "start_time": "2023-11-02T07:08:38.356Z"
   },
   {
    "duration": 10,
    "start_time": "2023-11-02T07:11:55.657Z"
   },
   {
    "duration": 14,
    "start_time": "2023-11-02T07:13:28.079Z"
   },
   {
    "duration": 18,
    "start_time": "2023-11-02T07:18:25.270Z"
   },
   {
    "duration": 111,
    "start_time": "2023-11-02T07:18:30.481Z"
   },
   {
    "duration": 47,
    "start_time": "2023-11-02T07:18:30.594Z"
   },
   {
    "duration": 12,
    "start_time": "2023-11-02T07:18:30.643Z"
   },
   {
    "duration": 91,
    "start_time": "2023-11-02T07:18:30.657Z"
   },
   {
    "duration": 24,
    "start_time": "2023-11-02T07:18:52.829Z"
   },
   {
    "duration": 14,
    "start_time": "2023-11-02T07:20:30.217Z"
   },
   {
    "duration": 14,
    "start_time": "2023-11-02T07:20:34.264Z"
   },
   {
    "duration": 111,
    "start_time": "2023-11-02T07:20:46.482Z"
   },
   {
    "duration": 50,
    "start_time": "2023-11-02T07:20:46.595Z"
   },
   {
    "duration": 12,
    "start_time": "2023-11-02T07:20:46.646Z"
   },
   {
    "duration": 19,
    "start_time": "2023-11-02T07:20:46.660Z"
   },
   {
    "duration": 4,
    "start_time": "2023-11-02T07:21:00.312Z"
   },
   {
    "duration": 14,
    "start_time": "2023-11-02T07:21:06.625Z"
   },
   {
    "duration": 15,
    "start_time": "2023-11-02T07:26:22.905Z"
   },
   {
    "duration": 25,
    "start_time": "2023-11-02T07:26:45.600Z"
   },
   {
    "duration": 19,
    "start_time": "2023-11-02T07:27:04.723Z"
   },
   {
    "duration": 23,
    "start_time": "2023-11-02T07:27:12.728Z"
   },
   {
    "duration": 5,
    "start_time": "2023-11-02T07:36:23.591Z"
   },
   {
    "duration": 33,
    "start_time": "2023-11-02T07:36:25.008Z"
   },
   {
    "duration": 5,
    "start_time": "2023-11-02T07:57:03.201Z"
   },
   {
    "duration": 21,
    "start_time": "2023-11-02T08:17:24.756Z"
   },
   {
    "duration": 66,
    "start_time": "2023-11-02T08:23:42.329Z"
   },
   {
    "duration": 28,
    "start_time": "2023-11-02T08:25:39.668Z"
   },
   {
    "duration": 12,
    "start_time": "2023-11-02T08:28:30.414Z"
   },
   {
    "duration": 51,
    "start_time": "2023-11-02T08:28:42.422Z"
   },
   {
    "duration": 25,
    "start_time": "2023-11-02T08:28:53.008Z"
   },
   {
    "duration": 31,
    "start_time": "2023-11-02T08:29:12.695Z"
   },
   {
    "duration": 119,
    "start_time": "2023-11-02T08:29:19.820Z"
   },
   {
    "duration": 52,
    "start_time": "2023-11-02T08:29:19.945Z"
   },
   {
    "duration": 5,
    "start_time": "2023-11-02T08:29:19.999Z"
   },
   {
    "duration": 95,
    "start_time": "2023-11-02T08:29:20.006Z"
   },
   {
    "duration": 5,
    "start_time": "2023-11-02T08:29:20.102Z"
   },
   {
    "duration": 81,
    "start_time": "2023-11-02T08:29:20.109Z"
   },
   {
    "duration": 32,
    "start_time": "2023-11-02T08:30:15.069Z"
   },
   {
    "duration": 33,
    "start_time": "2023-11-02T08:30:36.544Z"
   },
   {
    "duration": 132,
    "start_time": "2023-11-02T08:30:42.127Z"
   },
   {
    "duration": 57,
    "start_time": "2023-11-02T08:30:42.263Z"
   },
   {
    "duration": 32,
    "start_time": "2023-11-02T08:30:42.322Z"
   },
   {
    "duration": 55,
    "start_time": "2023-11-02T08:30:42.356Z"
   },
   {
    "duration": 53,
    "start_time": "2023-11-02T08:30:42.413Z"
   },
   {
    "duration": 100,
    "start_time": "2023-11-02T08:30:42.468Z"
   },
   {
    "duration": 29,
    "start_time": "2023-11-02T08:31:07.317Z"
   },
   {
    "duration": 17,
    "start_time": "2023-11-02T08:31:39.123Z"
   },
   {
    "duration": 23,
    "start_time": "2023-11-02T08:31:54.132Z"
   },
   {
    "duration": 26,
    "start_time": "2023-11-02T08:35:24.136Z"
   },
   {
    "duration": 70,
    "start_time": "2023-11-02T08:35:35.231Z"
   },
   {
    "duration": 22,
    "start_time": "2023-11-02T08:38:07.313Z"
   },
   {
    "duration": 20,
    "start_time": "2023-11-02T08:38:11.471Z"
   },
   {
    "duration": 8,
    "start_time": "2023-11-02T08:53:03.263Z"
   },
   {
    "duration": 4,
    "start_time": "2023-11-02T08:53:10.823Z"
   },
   {
    "duration": 27,
    "start_time": "2023-11-02T08:53:17.760Z"
   },
   {
    "duration": 134,
    "start_time": "2023-11-02T08:53:50.936Z"
   },
   {
    "duration": 6,
    "start_time": "2023-11-02T08:53:53.432Z"
   },
   {
    "duration": 14,
    "start_time": "2023-11-02T08:54:04.596Z"
   },
   {
    "duration": 11,
    "start_time": "2023-11-02T08:54:22.472Z"
   },
   {
    "duration": 10,
    "start_time": "2023-11-02T08:54:32.488Z"
   },
   {
    "duration": 11,
    "start_time": "2023-11-02T08:54:37.234Z"
   },
   {
    "duration": 9,
    "start_time": "2023-11-02T08:56:39.899Z"
   },
   {
    "duration": 120,
    "start_time": "2023-11-02T09:01:14.099Z"
   },
   {
    "duration": 9,
    "start_time": "2023-11-02T09:01:18.414Z"
   },
   {
    "duration": 29,
    "start_time": "2023-11-02T09:01:30.404Z"
   },
   {
    "duration": 23,
    "start_time": "2023-11-02T09:02:52.294Z"
   },
   {
    "duration": 9,
    "start_time": "2023-11-02T09:04:52.464Z"
   },
   {
    "duration": 32,
    "start_time": "2023-11-02T09:05:00.294Z"
   },
   {
    "duration": 9,
    "start_time": "2023-11-02T09:05:26.220Z"
   },
   {
    "duration": 12,
    "start_time": "2023-11-02T09:05:50.808Z"
   },
   {
    "duration": 12,
    "start_time": "2023-11-02T09:06:06.022Z"
   },
   {
    "duration": 20,
    "start_time": "2023-11-02T09:06:54.841Z"
   },
   {
    "duration": 25,
    "start_time": "2023-11-02T09:07:09.864Z"
   },
   {
    "duration": 22,
    "start_time": "2023-11-02T09:07:33.178Z"
   },
   {
    "duration": 9,
    "start_time": "2023-11-02T09:10:05.384Z"
   },
   {
    "duration": 17,
    "start_time": "2023-11-02T09:16:52.908Z"
   },
   {
    "duration": 8,
    "start_time": "2023-11-02T09:17:00.475Z"
   },
   {
    "duration": 22,
    "start_time": "2023-11-02T09:17:08.930Z"
   },
   {
    "duration": 7,
    "start_time": "2023-11-02T09:17:51.027Z"
   },
   {
    "duration": 2255,
    "start_time": "2023-11-02T09:19:05.803Z"
   },
   {
    "duration": 22,
    "start_time": "2023-11-02T09:19:13.358Z"
   },
   {
    "duration": 16,
    "start_time": "2023-11-02T09:20:21.785Z"
   },
   {
    "duration": 4,
    "start_time": "2023-11-02T09:21:39.983Z"
   },
   {
    "duration": 13,
    "start_time": "2023-11-02T09:22:03.837Z"
   },
   {
    "duration": 5,
    "start_time": "2023-11-02T09:22:39.470Z"
   },
   {
    "duration": 4,
    "start_time": "2023-11-02T09:26:25.989Z"
   },
   {
    "duration": 135,
    "start_time": "2023-11-02T09:27:48.537Z"
   },
   {
    "duration": 55,
    "start_time": "2023-11-02T09:27:48.675Z"
   },
   {
    "duration": 7,
    "start_time": "2023-11-02T09:27:48.731Z"
   },
   {
    "duration": 55,
    "start_time": "2023-11-02T09:27:48.740Z"
   },
   {
    "duration": 5,
    "start_time": "2023-11-02T09:27:48.798Z"
   },
   {
    "duration": 41,
    "start_time": "2023-11-02T09:27:48.804Z"
   },
   {
    "duration": 34,
    "start_time": "2023-11-02T09:27:48.848Z"
   },
   {
    "duration": 25,
    "start_time": "2023-11-02T09:27:48.883Z"
   },
   {
    "duration": 19,
    "start_time": "2023-11-02T09:27:48.910Z"
   },
   {
    "duration": 33,
    "start_time": "2023-11-02T09:27:48.930Z"
   },
   {
    "duration": 23,
    "start_time": "2023-11-02T09:27:48.965Z"
   },
   {
    "duration": 41,
    "start_time": "2023-11-02T09:27:48.990Z"
   },
   {
    "duration": 48,
    "start_time": "2023-11-02T09:27:49.034Z"
   },
   {
    "duration": 19,
    "start_time": "2023-11-02T09:29:03.256Z"
   },
   {
    "duration": 17,
    "start_time": "2023-11-02T09:29:22.063Z"
   },
   {
    "duration": 20,
    "start_time": "2023-11-02T09:30:11.478Z"
   },
   {
    "duration": 18,
    "start_time": "2023-11-02T09:31:15.661Z"
   },
   {
    "duration": 101,
    "start_time": "2023-11-02T09:34:39.756Z"
   },
   {
    "duration": 53,
    "start_time": "2023-11-02T09:35:23.035Z"
   },
   {
    "duration": 324,
    "start_time": "2023-11-02T09:35:52.559Z"
   },
   {
    "duration": 71,
    "start_time": "2023-11-02T09:36:05.635Z"
   },
   {
    "duration": 16,
    "start_time": "2023-11-02T09:36:15.004Z"
   },
   {
    "duration": 18,
    "start_time": "2023-11-02T09:36:31.269Z"
   },
   {
    "duration": 20,
    "start_time": "2023-11-02T09:36:46.319Z"
   },
   {
    "duration": 7,
    "start_time": "2023-11-02T09:37:13.460Z"
   },
   {
    "duration": 7,
    "start_time": "2023-11-02T09:37:34.056Z"
   },
   {
    "duration": 18,
    "start_time": "2023-11-02T09:37:58.869Z"
   },
   {
    "duration": 7,
    "start_time": "2023-11-02T09:38:05.722Z"
   },
   {
    "duration": 24,
    "start_time": "2023-11-02T09:40:09.290Z"
   },
   {
    "duration": 29,
    "start_time": "2023-11-02T09:41:28.168Z"
   },
   {
    "duration": 20,
    "start_time": "2023-11-02T09:41:36.628Z"
   },
   {
    "duration": 32,
    "start_time": "2023-11-02T09:42:22.843Z"
   },
   {
    "duration": 1535,
    "start_time": "2023-11-02T09:47:56.792Z"
   },
   {
    "duration": 1385,
    "start_time": "2023-11-02T09:48:18.142Z"
   },
   {
    "duration": 7,
    "start_time": "2023-11-02T09:48:32.901Z"
   },
   {
    "duration": 8,
    "start_time": "2023-11-02T09:51:45.459Z"
   },
   {
    "duration": 6,
    "start_time": "2023-11-02T09:52:11.454Z"
   },
   {
    "duration": 9,
    "start_time": "2023-11-02T09:53:09.728Z"
   },
   {
    "duration": 6,
    "start_time": "2023-11-02T09:53:52.222Z"
   },
   {
    "duration": 9,
    "start_time": "2023-11-02T09:54:11.323Z"
   },
   {
    "duration": 11,
    "start_time": "2023-11-02T09:54:43.618Z"
   },
   {
    "duration": 8,
    "start_time": "2023-11-02T09:54:47.337Z"
   },
   {
    "duration": 18,
    "start_time": "2023-11-02T09:58:08.091Z"
   },
   {
    "duration": 45,
    "start_time": "2023-11-03T07:32:40.513Z"
   },
   {
    "duration": 659,
    "start_time": "2023-11-03T07:32:45.748Z"
   },
   {
    "duration": 97,
    "start_time": "2023-11-03T07:32:46.409Z"
   },
   {
    "duration": 5,
    "start_time": "2023-11-03T07:32:46.507Z"
   },
   {
    "duration": 27,
    "start_time": "2023-11-03T07:32:46.514Z"
   },
   {
    "duration": 5,
    "start_time": "2023-11-03T07:32:46.543Z"
   },
   {
    "duration": 19,
    "start_time": "2023-11-03T07:32:46.549Z"
   },
   {
    "duration": 40,
    "start_time": "2023-11-03T07:32:46.569Z"
   },
   {
    "duration": 26,
    "start_time": "2023-11-03T07:32:46.611Z"
   },
   {
    "duration": 9,
    "start_time": "2023-11-03T07:32:46.638Z"
   },
   {
    "duration": 10,
    "start_time": "2023-11-03T07:32:46.648Z"
   },
   {
    "duration": 47,
    "start_time": "2023-11-03T07:32:46.660Z"
   },
   {
    "duration": 4,
    "start_time": "2023-11-03T07:32:46.709Z"
   },
   {
    "duration": 23,
    "start_time": "2023-11-03T07:32:46.714Z"
   },
   {
    "duration": 30,
    "start_time": "2023-11-03T07:32:46.739Z"
   },
   {
    "duration": 10,
    "start_time": "2023-11-03T07:32:46.770Z"
   },
   {
    "duration": 32,
    "start_time": "2023-11-03T07:32:46.782Z"
   },
   {
    "duration": 4,
    "start_time": "2023-11-03T07:32:46.816Z"
   },
   {
    "duration": 21,
    "start_time": "2023-11-03T07:32:46.821Z"
   },
   {
    "duration": 42,
    "start_time": "2023-11-03T07:32:46.844Z"
   },
   {
    "duration": 6,
    "start_time": "2023-11-03T07:35:22.145Z"
   },
   {
    "duration": 13,
    "start_time": "2023-11-03T07:35:55.508Z"
   },
   {
    "duration": 6,
    "start_time": "2023-11-03T07:35:59.689Z"
   },
   {
    "duration": 106,
    "start_time": "2023-11-03T07:36:04.506Z"
   },
   {
    "duration": 49,
    "start_time": "2023-11-03T07:36:04.614Z"
   },
   {
    "duration": 5,
    "start_time": "2023-11-03T07:36:04.664Z"
   },
   {
    "duration": 33,
    "start_time": "2023-11-03T07:36:04.671Z"
   },
   {
    "duration": 5,
    "start_time": "2023-11-03T07:36:04.706Z"
   },
   {
    "duration": 48,
    "start_time": "2023-11-03T07:36:04.712Z"
   },
   {
    "duration": 10,
    "start_time": "2023-11-03T07:36:04.762Z"
   },
   {
    "duration": 34,
    "start_time": "2023-11-03T07:36:04.773Z"
   },
   {
    "duration": 8,
    "start_time": "2023-11-03T07:36:04.809Z"
   },
   {
    "duration": 7,
    "start_time": "2023-11-03T07:36:04.818Z"
   },
   {
    "duration": 28,
    "start_time": "2023-11-03T07:36:04.827Z"
   },
   {
    "duration": 15,
    "start_time": "2023-11-03T07:36:04.857Z"
   },
   {
    "duration": 19,
    "start_time": "2023-11-03T07:36:04.873Z"
   },
   {
    "duration": 24,
    "start_time": "2023-11-03T07:36:04.894Z"
   },
   {
    "duration": 7,
    "start_time": "2023-11-03T07:36:04.919Z"
   },
   {
    "duration": 36,
    "start_time": "2023-11-03T07:36:04.927Z"
   },
   {
    "duration": 11,
    "start_time": "2023-11-03T07:36:04.965Z"
   },
   {
    "duration": 56,
    "start_time": "2023-11-03T07:36:04.977Z"
   },
   {
    "duration": 43,
    "start_time": "2023-11-03T07:36:05.035Z"
   },
   {
    "duration": 24,
    "start_time": "2023-11-03T07:36:05.080Z"
   },
   {
    "duration": 7,
    "start_time": "2023-11-03T07:42:43.503Z"
   },
   {
    "duration": 6,
    "start_time": "2023-11-03T07:43:22.813Z"
   },
   {
    "duration": 11,
    "start_time": "2023-11-03T07:44:22.627Z"
   },
   {
    "duration": 4,
    "start_time": "2023-11-03T07:47:53.683Z"
   },
   {
    "duration": 4,
    "start_time": "2023-11-03T07:49:32.421Z"
   },
   {
    "duration": 6,
    "start_time": "2023-11-03T07:52:34.571Z"
   },
   {
    "duration": 8,
    "start_time": "2023-11-03T07:52:41.681Z"
   },
   {
    "duration": 11,
    "start_time": "2023-11-03T07:53:15.017Z"
   },
   {
    "duration": 32,
    "start_time": "2023-11-03T07:56:34.164Z"
   },
   {
    "duration": 10,
    "start_time": "2023-11-03T07:57:02.582Z"
   },
   {
    "duration": 11,
    "start_time": "2023-11-03T07:57:07.041Z"
   },
   {
    "duration": 11,
    "start_time": "2023-11-03T07:57:09.463Z"
   },
   {
    "duration": 10,
    "start_time": "2023-11-03T07:57:13.710Z"
   },
   {
    "duration": 110,
    "start_time": "2023-11-03T07:57:25.100Z"
   },
   {
    "duration": 51,
    "start_time": "2023-11-03T07:57:25.212Z"
   },
   {
    "duration": 5,
    "start_time": "2023-11-03T07:57:25.265Z"
   },
   {
    "duration": 44,
    "start_time": "2023-11-03T07:57:25.271Z"
   },
   {
    "duration": 17,
    "start_time": "2023-11-03T07:57:25.317Z"
   },
   {
    "duration": 66,
    "start_time": "2023-11-03T07:57:25.336Z"
   },
   {
    "duration": 14,
    "start_time": "2023-11-03T07:57:25.403Z"
   },
   {
    "duration": 30,
    "start_time": "2023-11-03T07:57:25.419Z"
   },
   {
    "duration": 20,
    "start_time": "2023-11-03T07:57:25.450Z"
   },
   {
    "duration": 37,
    "start_time": "2023-11-03T07:57:25.471Z"
   },
   {
    "duration": 9,
    "start_time": "2023-11-03T07:57:25.510Z"
   },
   {
    "duration": 19,
    "start_time": "2023-11-03T07:57:25.521Z"
   },
   {
    "duration": 33,
    "start_time": "2023-11-03T07:57:25.542Z"
   },
   {
    "duration": 21,
    "start_time": "2023-11-03T07:57:25.578Z"
   },
   {
    "duration": 27,
    "start_time": "2023-11-03T07:57:25.601Z"
   },
   {
    "duration": 57,
    "start_time": "2023-11-03T07:57:25.630Z"
   },
   {
    "duration": 17,
    "start_time": "2023-11-03T07:57:25.689Z"
   },
   {
    "duration": 33,
    "start_time": "2023-11-03T07:57:25.708Z"
   },
   {
    "duration": 34,
    "start_time": "2023-11-03T07:57:25.742Z"
   },
   {
    "duration": 13,
    "start_time": "2023-11-03T07:57:25.777Z"
   },
   {
    "duration": 8,
    "start_time": "2023-11-03T07:57:25.792Z"
   },
   {
    "duration": 13,
    "start_time": "2023-11-03T07:57:25.801Z"
   },
   {
    "duration": 10,
    "start_time": "2023-11-03T08:01:20.474Z"
   },
   {
    "duration": 11,
    "start_time": "2023-11-03T08:05:30.130Z"
   },
   {
    "duration": 111,
    "start_time": "2023-11-03T08:05:36.274Z"
   },
   {
    "duration": 49,
    "start_time": "2023-11-03T08:05:36.387Z"
   },
   {
    "duration": 5,
    "start_time": "2023-11-03T08:05:36.437Z"
   },
   {
    "duration": 36,
    "start_time": "2023-11-03T08:05:36.443Z"
   },
   {
    "duration": 4,
    "start_time": "2023-11-03T08:05:36.480Z"
   },
   {
    "duration": 52,
    "start_time": "2023-11-03T08:05:36.485Z"
   },
   {
    "duration": 18,
    "start_time": "2023-11-03T08:05:36.538Z"
   },
   {
    "duration": 151,
    "start_time": "2023-11-03T08:05:36.557Z"
   },
   {
    "duration": 9,
    "start_time": "2023-11-03T08:05:36.710Z"
   },
   {
    "duration": 30,
    "start_time": "2023-11-03T08:05:36.722Z"
   },
   {
    "duration": 46,
    "start_time": "2023-11-03T08:05:36.753Z"
   },
   {
    "duration": 33,
    "start_time": "2023-11-03T08:05:36.800Z"
   },
   {
    "duration": 31,
    "start_time": "2023-11-03T08:05:36.834Z"
   },
   {
    "duration": 46,
    "start_time": "2023-11-03T08:05:36.867Z"
   },
   {
    "duration": 45,
    "start_time": "2023-11-03T08:05:36.914Z"
   },
   {
    "duration": 62,
    "start_time": "2023-11-03T08:05:36.961Z"
   },
   {
    "duration": 11,
    "start_time": "2023-11-03T08:05:37.025Z"
   },
   {
    "duration": 33,
    "start_time": "2023-11-03T08:05:37.038Z"
   },
   {
    "duration": 21,
    "start_time": "2023-11-03T08:05:37.073Z"
   },
   {
    "duration": 15,
    "start_time": "2023-11-03T08:05:37.095Z"
   },
   {
    "duration": 13,
    "start_time": "2023-11-03T08:05:37.112Z"
   },
   {
    "duration": 18,
    "start_time": "2023-11-03T08:05:37.127Z"
   },
   {
    "duration": 13,
    "start_time": "2023-11-03T08:05:58.130Z"
   },
   {
    "duration": 491,
    "start_time": "2023-11-03T08:06:27.836Z"
   },
   {
    "duration": 50,
    "start_time": "2023-11-03T08:06:28.329Z"
   },
   {
    "duration": 30,
    "start_time": "2023-11-03T08:06:28.380Z"
   },
   {
    "duration": 99,
    "start_time": "2023-11-03T08:06:28.412Z"
   },
   {
    "duration": 16,
    "start_time": "2023-11-03T08:06:28.513Z"
   },
   {
    "duration": 45,
    "start_time": "2023-11-03T08:06:28.531Z"
   },
   {
    "duration": 20,
    "start_time": "2023-11-03T08:06:28.578Z"
   },
   {
    "duration": 105,
    "start_time": "2023-11-03T08:06:28.600Z"
   },
   {
    "duration": 10,
    "start_time": "2023-11-03T08:06:28.707Z"
   },
   {
    "duration": 41,
    "start_time": "2023-11-03T08:06:28.719Z"
   },
   {
    "duration": 26,
    "start_time": "2023-11-03T08:06:28.761Z"
   },
   {
    "duration": 11,
    "start_time": "2023-11-03T08:06:28.789Z"
   },
   {
    "duration": 14,
    "start_time": "2023-11-03T08:06:28.802Z"
   },
   {
    "duration": 14,
    "start_time": "2023-11-03T08:06:28.819Z"
   },
   {
    "duration": 24,
    "start_time": "2023-11-03T08:06:28.834Z"
   },
   {
    "duration": 34,
    "start_time": "2023-11-03T08:06:28.859Z"
   },
   {
    "duration": 44,
    "start_time": "2023-11-03T08:06:28.895Z"
   },
   {
    "duration": 60,
    "start_time": "2023-11-03T08:06:28.941Z"
   },
   {
    "duration": 50,
    "start_time": "2023-11-03T08:06:29.003Z"
   },
   {
    "duration": 68,
    "start_time": "2023-11-03T08:06:29.054Z"
   },
   {
    "duration": 66,
    "start_time": "2023-11-03T08:06:29.123Z"
   },
   {
    "duration": 46,
    "start_time": "2023-11-03T08:06:29.191Z"
   },
   {
    "duration": 66,
    "start_time": "2023-11-03T08:07:42.561Z"
   },
   {
    "duration": 500,
    "start_time": "2023-11-03T08:07:48.528Z"
   },
   {
    "duration": 50,
    "start_time": "2023-11-03T08:07:49.031Z"
   },
   {
    "duration": 7,
    "start_time": "2023-11-03T08:07:49.083Z"
   },
   {
    "duration": 43,
    "start_time": "2023-11-03T08:07:49.091Z"
   },
   {
    "duration": 4,
    "start_time": "2023-11-03T08:07:49.137Z"
   },
   {
    "duration": 26,
    "start_time": "2023-11-03T08:07:49.142Z"
   },
   {
    "duration": 4,
    "start_time": "2023-11-03T08:07:49.170Z"
   },
   {
    "duration": 108,
    "start_time": "2023-11-03T08:07:49.176Z"
   },
   {
    "duration": 0,
    "start_time": "2023-11-03T08:07:49.285Z"
   },
   {
    "duration": 0,
    "start_time": "2023-11-03T08:07:49.286Z"
   },
   {
    "duration": 0,
    "start_time": "2023-11-03T08:07:49.287Z"
   },
   {
    "duration": 0,
    "start_time": "2023-11-03T08:07:49.288Z"
   },
   {
    "duration": 0,
    "start_time": "2023-11-03T08:07:49.289Z"
   },
   {
    "duration": 0,
    "start_time": "2023-11-03T08:07:49.290Z"
   },
   {
    "duration": 0,
    "start_time": "2023-11-03T08:07:49.291Z"
   },
   {
    "duration": 0,
    "start_time": "2023-11-03T08:07:49.292Z"
   },
   {
    "duration": 0,
    "start_time": "2023-11-03T08:07:49.293Z"
   },
   {
    "duration": 0,
    "start_time": "2023-11-03T08:07:49.293Z"
   },
   {
    "duration": 0,
    "start_time": "2023-11-03T08:07:49.295Z"
   },
   {
    "duration": 0,
    "start_time": "2023-11-03T08:07:49.307Z"
   },
   {
    "duration": 0,
    "start_time": "2023-11-03T08:07:49.308Z"
   },
   {
    "duration": 0,
    "start_time": "2023-11-03T08:07:49.309Z"
   },
   {
    "duration": 17,
    "start_time": "2023-11-03T08:08:05.942Z"
   },
   {
    "duration": 12,
    "start_time": "2023-11-03T08:09:01.251Z"
   },
   {
    "duration": 132,
    "start_time": "2023-11-03T08:09:05.891Z"
   },
   {
    "duration": 55,
    "start_time": "2023-11-03T08:09:06.025Z"
   },
   {
    "duration": 5,
    "start_time": "2023-11-03T08:09:06.082Z"
   },
   {
    "duration": 47,
    "start_time": "2023-11-03T08:09:06.090Z"
   },
   {
    "duration": 48,
    "start_time": "2023-11-03T08:09:06.140Z"
   },
   {
    "duration": 38,
    "start_time": "2023-11-03T08:09:06.190Z"
   },
   {
    "duration": 11,
    "start_time": "2023-11-03T08:09:06.229Z"
   },
   {
    "duration": 168,
    "start_time": "2023-11-03T08:09:06.242Z"
   },
   {
    "duration": 9,
    "start_time": "2023-11-03T08:09:06.412Z"
   },
   {
    "duration": 42,
    "start_time": "2023-11-03T08:09:06.423Z"
   },
   {
    "duration": 51,
    "start_time": "2023-11-03T08:09:06.466Z"
   },
   {
    "duration": 35,
    "start_time": "2023-11-03T08:09:06.519Z"
   },
   {
    "duration": 32,
    "start_time": "2023-11-03T08:09:06.555Z"
   },
   {
    "duration": 11,
    "start_time": "2023-11-03T08:09:06.589Z"
   },
   {
    "duration": 30,
    "start_time": "2023-11-03T08:09:06.602Z"
   },
   {
    "duration": 46,
    "start_time": "2023-11-03T08:09:06.634Z"
   },
   {
    "duration": 43,
    "start_time": "2023-11-03T08:09:06.682Z"
   },
   {
    "duration": 36,
    "start_time": "2023-11-03T08:09:06.727Z"
   },
   {
    "duration": 10,
    "start_time": "2023-11-03T08:09:06.765Z"
   },
   {
    "duration": 23,
    "start_time": "2023-11-03T08:09:06.777Z"
   },
   {
    "duration": 8,
    "start_time": "2023-11-03T08:09:06.801Z"
   },
   {
    "duration": 18,
    "start_time": "2023-11-03T08:09:06.810Z"
   },
   {
    "duration": 12,
    "start_time": "2023-11-03T08:09:40.429Z"
   },
   {
    "duration": 11,
    "start_time": "2023-11-03T08:10:28.299Z"
   },
   {
    "duration": 545,
    "start_time": "2023-11-03T08:11:04.295Z"
   },
   {
    "duration": 51,
    "start_time": "2023-11-03T08:11:04.842Z"
   },
   {
    "duration": 5,
    "start_time": "2023-11-03T08:11:04.894Z"
   },
   {
    "duration": 25,
    "start_time": "2023-11-03T08:11:04.901Z"
   },
   {
    "duration": 6,
    "start_time": "2023-11-03T08:11:04.928Z"
   },
   {
    "duration": 25,
    "start_time": "2023-11-03T08:11:04.935Z"
   },
   {
    "duration": 69,
    "start_time": "2023-11-03T08:11:04.962Z"
   },
   {
    "duration": 125,
    "start_time": "2023-11-03T08:11:05.033Z"
   },
   {
    "duration": 10,
    "start_time": "2023-11-03T08:11:05.159Z"
   },
   {
    "duration": 76,
    "start_time": "2023-11-03T08:11:05.170Z"
   },
   {
    "duration": 32,
    "start_time": "2023-11-03T08:11:05.248Z"
   },
   {
    "duration": 34,
    "start_time": "2023-11-03T08:11:05.281Z"
   },
   {
    "duration": 26,
    "start_time": "2023-11-03T08:11:05.317Z"
   },
   {
    "duration": 17,
    "start_time": "2023-11-03T08:11:05.346Z"
   },
   {
    "duration": 34,
    "start_time": "2023-11-03T08:11:05.364Z"
   },
   {
    "duration": 54,
    "start_time": "2023-11-03T08:11:05.399Z"
   },
   {
    "duration": 35,
    "start_time": "2023-11-03T08:11:05.455Z"
   },
   {
    "duration": 66,
    "start_time": "2023-11-03T08:11:05.491Z"
   },
   {
    "duration": 37,
    "start_time": "2023-11-03T08:11:05.558Z"
   },
   {
    "duration": 45,
    "start_time": "2023-11-03T08:11:05.597Z"
   },
   {
    "duration": 22,
    "start_time": "2023-11-03T08:11:05.643Z"
   },
   {
    "duration": 25,
    "start_time": "2023-11-03T08:11:05.667Z"
   },
   {
    "duration": 71,
    "start_time": "2023-11-03T08:11:29.392Z"
   },
   {
    "duration": 5,
    "start_time": "2023-11-03T08:11:32.082Z"
   },
   {
    "duration": 16,
    "start_time": "2023-11-03T08:12:43.382Z"
   },
   {
    "duration": 1021,
    "start_time": "2023-11-03T08:12:52.229Z"
   },
   {
    "duration": 683,
    "start_time": "2023-11-03T08:13:24.596Z"
   },
   {
    "duration": 114,
    "start_time": "2023-11-03T08:19:53.789Z"
   },
   {
    "duration": 15,
    "start_time": "2023-11-03T08:20:47.189Z"
   },
   {
    "duration": 21,
    "start_time": "2023-11-03T08:20:58.189Z"
   },
   {
    "duration": 542,
    "start_time": "2023-11-03T08:21:23.191Z"
   },
   {
    "duration": 50,
    "start_time": "2023-11-03T08:21:23.735Z"
   },
   {
    "duration": 5,
    "start_time": "2023-11-03T08:21:23.787Z"
   },
   {
    "duration": 62,
    "start_time": "2023-11-03T08:21:23.793Z"
   },
   {
    "duration": 4,
    "start_time": "2023-11-03T08:21:23.859Z"
   },
   {
    "duration": 26,
    "start_time": "2023-11-03T08:21:23.864Z"
   },
   {
    "duration": 10,
    "start_time": "2023-11-03T08:21:23.892Z"
   },
   {
    "duration": 45,
    "start_time": "2023-11-03T08:21:23.903Z"
   },
   {
    "duration": 18,
    "start_time": "2023-11-03T08:21:23.950Z"
   },
   {
    "duration": 113,
    "start_time": "2023-11-03T08:21:23.970Z"
   },
   {
    "duration": 27,
    "start_time": "2023-11-03T08:21:24.085Z"
   },
   {
    "duration": 28,
    "start_time": "2023-11-03T08:21:24.114Z"
   },
   {
    "duration": 55,
    "start_time": "2023-11-03T08:21:24.143Z"
   },
   {
    "duration": 15,
    "start_time": "2023-11-03T08:21:24.201Z"
   },
   {
    "duration": 34,
    "start_time": "2023-11-03T08:21:24.217Z"
   },
   {
    "duration": 33,
    "start_time": "2023-11-03T08:21:24.253Z"
   },
   {
    "duration": 38,
    "start_time": "2023-11-03T08:21:24.287Z"
   },
   {
    "duration": 54,
    "start_time": "2023-11-03T08:21:24.327Z"
   },
   {
    "duration": 14,
    "start_time": "2023-11-03T08:21:24.382Z"
   },
   {
    "duration": 31,
    "start_time": "2023-11-03T08:21:24.398Z"
   },
   {
    "duration": 35,
    "start_time": "2023-11-03T08:21:24.430Z"
   },
   {
    "duration": 40,
    "start_time": "2023-11-03T08:21:24.467Z"
   },
   {
    "duration": 142,
    "start_time": "2023-11-03T08:21:54.213Z"
   },
   {
    "duration": 1259,
    "start_time": "2023-11-03T08:22:03.037Z"
   },
   {
    "duration": 108,
    "start_time": "2023-11-03T08:22:06.529Z"
   },
   {
    "duration": 50,
    "start_time": "2023-11-03T08:22:06.639Z"
   },
   {
    "duration": 211,
    "start_time": "2023-11-03T08:22:06.690Z"
   },
   {
    "duration": 54,
    "start_time": "2023-11-03T08:22:06.903Z"
   },
   {
    "duration": 7,
    "start_time": "2023-11-03T08:22:06.959Z"
   },
   {
    "duration": 65,
    "start_time": "2023-11-03T08:22:06.967Z"
   },
   {
    "duration": 5,
    "start_time": "2023-11-03T08:22:07.035Z"
   },
   {
    "duration": 1292,
    "start_time": "2023-11-03T08:22:07.042Z"
   },
   {
    "duration": 0,
    "start_time": "2023-11-03T08:22:08.336Z"
   },
   {
    "duration": 0,
    "start_time": "2023-11-03T08:22:08.337Z"
   },
   {
    "duration": 0,
    "start_time": "2023-11-03T08:22:08.338Z"
   },
   {
    "duration": 0,
    "start_time": "2023-11-03T08:22:08.339Z"
   },
   {
    "duration": 0,
    "start_time": "2023-11-03T08:22:08.340Z"
   },
   {
    "duration": 0,
    "start_time": "2023-11-03T08:22:08.341Z"
   },
   {
    "duration": 0,
    "start_time": "2023-11-03T08:22:08.342Z"
   },
   {
    "duration": 0,
    "start_time": "2023-11-03T08:22:08.343Z"
   },
   {
    "duration": 0,
    "start_time": "2023-11-03T08:22:08.344Z"
   },
   {
    "duration": 0,
    "start_time": "2023-11-03T08:22:08.345Z"
   },
   {
    "duration": 0,
    "start_time": "2023-11-03T08:22:08.346Z"
   },
   {
    "duration": 0,
    "start_time": "2023-11-03T08:22:08.347Z"
   },
   {
    "duration": 0,
    "start_time": "2023-11-03T08:22:08.348Z"
   },
   {
    "duration": 0,
    "start_time": "2023-11-03T08:22:08.349Z"
   },
   {
    "duration": 28,
    "start_time": "2023-11-03T08:23:23.317Z"
   },
   {
    "duration": 447,
    "start_time": "2023-11-03T08:24:11.072Z"
   },
   {
    "duration": 27,
    "start_time": "2023-11-03T08:24:25.008Z"
   },
   {
    "duration": 26,
    "start_time": "2023-11-03T08:24:50.693Z"
   },
   {
    "duration": 19,
    "start_time": "2023-11-03T08:25:08.945Z"
   },
   {
    "duration": 113,
    "start_time": "2023-11-03T08:25:12.094Z"
   },
   {
    "duration": 50,
    "start_time": "2023-11-03T08:25:12.209Z"
   },
   {
    "duration": 4,
    "start_time": "2023-11-03T08:25:12.261Z"
   },
   {
    "duration": 42,
    "start_time": "2023-11-03T08:25:12.267Z"
   },
   {
    "duration": 5,
    "start_time": "2023-11-03T08:25:12.311Z"
   },
   {
    "duration": 30,
    "start_time": "2023-11-03T08:25:12.317Z"
   },
   {
    "duration": 5,
    "start_time": "2023-11-03T08:25:12.348Z"
   },
   {
    "duration": 26,
    "start_time": "2023-11-03T08:25:12.355Z"
   },
   {
    "duration": 28,
    "start_time": "2023-11-03T08:25:12.383Z"
   },
   {
    "duration": 0,
    "start_time": "2023-11-03T08:25:12.413Z"
   },
   {
    "duration": 0,
    "start_time": "2023-11-03T08:25:12.414Z"
   },
   {
    "duration": 0,
    "start_time": "2023-11-03T08:25:12.415Z"
   },
   {
    "duration": 0,
    "start_time": "2023-11-03T08:25:12.416Z"
   },
   {
    "duration": 0,
    "start_time": "2023-11-03T08:25:12.417Z"
   },
   {
    "duration": 0,
    "start_time": "2023-11-03T08:25:12.418Z"
   },
   {
    "duration": 0,
    "start_time": "2023-11-03T08:25:12.420Z"
   },
   {
    "duration": 0,
    "start_time": "2023-11-03T08:25:12.421Z"
   },
   {
    "duration": 0,
    "start_time": "2023-11-03T08:25:12.422Z"
   },
   {
    "duration": 0,
    "start_time": "2023-11-03T08:25:12.423Z"
   },
   {
    "duration": 0,
    "start_time": "2023-11-03T08:25:12.425Z"
   },
   {
    "duration": 0,
    "start_time": "2023-11-03T08:25:12.426Z"
   },
   {
    "duration": 0,
    "start_time": "2023-11-03T08:25:12.427Z"
   },
   {
    "duration": 0,
    "start_time": "2023-11-03T08:25:12.428Z"
   },
   {
    "duration": 132,
    "start_time": "2023-11-03T08:25:45.916Z"
   },
   {
    "duration": 53,
    "start_time": "2023-11-03T08:25:46.051Z"
   },
   {
    "duration": 5,
    "start_time": "2023-11-03T08:25:46.107Z"
   },
   {
    "duration": 40,
    "start_time": "2023-11-03T08:25:46.115Z"
   },
   {
    "duration": 9,
    "start_time": "2023-11-03T08:25:46.159Z"
   },
   {
    "duration": 22,
    "start_time": "2023-11-03T08:25:46.169Z"
   },
   {
    "duration": 5,
    "start_time": "2023-11-03T08:25:46.192Z"
   },
   {
    "duration": 7,
    "start_time": "2023-11-03T08:25:46.207Z"
   },
   {
    "duration": 31,
    "start_time": "2023-11-03T08:25:46.215Z"
   },
   {
    "duration": 0,
    "start_time": "2023-11-03T08:25:46.247Z"
   },
   {
    "duration": 0,
    "start_time": "2023-11-03T08:25:46.249Z"
   },
   {
    "duration": 0,
    "start_time": "2023-11-03T08:25:46.250Z"
   },
   {
    "duration": 0,
    "start_time": "2023-11-03T08:25:46.251Z"
   },
   {
    "duration": 0,
    "start_time": "2023-11-03T08:25:46.252Z"
   },
   {
    "duration": 0,
    "start_time": "2023-11-03T08:25:46.253Z"
   },
   {
    "duration": 0,
    "start_time": "2023-11-03T08:25:46.254Z"
   },
   {
    "duration": 0,
    "start_time": "2023-11-03T08:25:46.256Z"
   },
   {
    "duration": 0,
    "start_time": "2023-11-03T08:25:46.257Z"
   },
   {
    "duration": 0,
    "start_time": "2023-11-03T08:25:46.258Z"
   },
   {
    "duration": 0,
    "start_time": "2023-11-03T08:25:46.259Z"
   },
   {
    "duration": 0,
    "start_time": "2023-11-03T08:25:46.259Z"
   },
   {
    "duration": 0,
    "start_time": "2023-11-03T08:25:46.261Z"
   },
   {
    "duration": 0,
    "start_time": "2023-11-03T08:25:46.261Z"
   },
   {
    "duration": 9,
    "start_time": "2023-11-03T08:26:05.220Z"
   },
   {
    "duration": 9,
    "start_time": "2023-11-03T08:26:25.658Z"
   },
   {
    "duration": 12,
    "start_time": "2023-11-03T08:26:33.886Z"
   },
   {
    "duration": 110,
    "start_time": "2023-11-03T08:26:43.463Z"
   },
   {
    "duration": 49,
    "start_time": "2023-11-03T08:26:43.575Z"
   },
   {
    "duration": 4,
    "start_time": "2023-11-03T08:26:43.626Z"
   },
   {
    "duration": 26,
    "start_time": "2023-11-03T08:26:43.632Z"
   },
   {
    "duration": 4,
    "start_time": "2023-11-03T08:26:43.660Z"
   },
   {
    "duration": 17,
    "start_time": "2023-11-03T08:26:43.666Z"
   },
   {
    "duration": 4,
    "start_time": "2023-11-03T08:26:43.685Z"
   },
   {
    "duration": 10,
    "start_time": "2023-11-03T08:26:43.707Z"
   },
   {
    "duration": 115,
    "start_time": "2023-11-03T08:26:43.719Z"
   },
   {
    "duration": 10,
    "start_time": "2023-11-03T08:26:43.836Z"
   },
   {
    "duration": 41,
    "start_time": "2023-11-03T08:26:43.847Z"
   },
   {
    "duration": 13,
    "start_time": "2023-11-03T08:26:43.890Z"
   },
   {
    "duration": 8,
    "start_time": "2023-11-03T08:26:43.905Z"
   },
   {
    "duration": 15,
    "start_time": "2023-11-03T08:26:43.915Z"
   },
   {
    "duration": 4,
    "start_time": "2023-11-03T08:26:43.932Z"
   },
   {
    "duration": 17,
    "start_time": "2023-11-03T08:26:43.937Z"
   },
   {
    "duration": 21,
    "start_time": "2023-11-03T08:26:43.956Z"
   },
   {
    "duration": 14,
    "start_time": "2023-11-03T08:26:43.979Z"
   },
   {
    "duration": 27,
    "start_time": "2023-11-03T08:26:43.995Z"
   },
   {
    "duration": 4,
    "start_time": "2023-11-03T08:26:44.024Z"
   },
   {
    "duration": 17,
    "start_time": "2023-11-03T08:26:44.029Z"
   },
   {
    "duration": 6,
    "start_time": "2023-11-03T08:26:44.048Z"
   },
   {
    "duration": 11,
    "start_time": "2023-11-03T08:26:44.056Z"
   },
   {
    "duration": 92,
    "start_time": "2023-11-03T08:27:44.832Z"
   },
   {
    "duration": 11,
    "start_time": "2023-11-03T08:27:55.209Z"
   },
   {
    "duration": 105,
    "start_time": "2023-11-03T08:27:59.740Z"
   },
   {
    "duration": 50,
    "start_time": "2023-11-03T08:27:59.848Z"
   },
   {
    "duration": 6,
    "start_time": "2023-11-03T08:27:59.900Z"
   },
   {
    "duration": 38,
    "start_time": "2023-11-03T08:27:59.908Z"
   },
   {
    "duration": 4,
    "start_time": "2023-11-03T08:27:59.948Z"
   },
   {
    "duration": 25,
    "start_time": "2023-11-03T08:27:59.953Z"
   },
   {
    "duration": 4,
    "start_time": "2023-11-03T08:27:59.979Z"
   },
   {
    "duration": 11,
    "start_time": "2023-11-03T08:27:59.985Z"
   },
   {
    "duration": 105,
    "start_time": "2023-11-03T08:27:59.997Z"
   },
   {
    "duration": 11,
    "start_time": "2023-11-03T08:28:00.107Z"
   },
   {
    "duration": 47,
    "start_time": "2023-11-03T08:28:00.119Z"
   },
   {
    "duration": 52,
    "start_time": "2023-11-03T08:28:00.168Z"
   },
   {
    "duration": 47,
    "start_time": "2023-11-03T08:28:00.222Z"
   },
   {
    "duration": 83,
    "start_time": "2023-11-03T08:28:00.271Z"
   },
   {
    "duration": 32,
    "start_time": "2023-11-03T08:28:00.355Z"
   },
   {
    "duration": 49,
    "start_time": "2023-11-03T08:28:00.389Z"
   },
   {
    "duration": 59,
    "start_time": "2023-11-03T08:28:00.439Z"
   },
   {
    "duration": 54,
    "start_time": "2023-11-03T08:28:00.499Z"
   },
   {
    "duration": 81,
    "start_time": "2023-11-03T08:28:00.555Z"
   },
   {
    "duration": 40,
    "start_time": "2023-11-03T08:28:00.638Z"
   },
   {
    "duration": 47,
    "start_time": "2023-11-03T08:28:00.679Z"
   },
   {
    "duration": 64,
    "start_time": "2023-11-03T08:28:00.728Z"
   },
   {
    "duration": 97,
    "start_time": "2023-11-03T08:28:00.794Z"
   },
   {
    "duration": 84,
    "start_time": "2023-11-03T08:29:06.458Z"
   },
   {
    "duration": 476,
    "start_time": "2023-11-03T08:29:45.458Z"
   },
   {
    "duration": 50,
    "start_time": "2023-11-03T08:29:45.937Z"
   },
   {
    "duration": 14,
    "start_time": "2023-11-03T08:29:45.988Z"
   },
   {
    "duration": 53,
    "start_time": "2023-11-03T08:29:46.004Z"
   },
   {
    "duration": 24,
    "start_time": "2023-11-03T08:29:46.058Z"
   },
   {
    "duration": 56,
    "start_time": "2023-11-03T08:29:46.083Z"
   },
   {
    "duration": 22,
    "start_time": "2023-11-03T08:29:46.141Z"
   },
   {
    "duration": 72,
    "start_time": "2023-11-03T08:29:46.165Z"
   },
   {
    "duration": 151,
    "start_time": "2023-11-03T08:29:46.239Z"
   },
   {
    "duration": 14,
    "start_time": "2023-11-03T08:29:46.393Z"
   },
   {
    "duration": 50,
    "start_time": "2023-11-03T08:29:46.409Z"
   },
   {
    "duration": 23,
    "start_time": "2023-11-03T08:29:46.461Z"
   },
   {
    "duration": 14,
    "start_time": "2023-11-03T08:29:46.486Z"
   },
   {
    "duration": 15,
    "start_time": "2023-11-03T08:29:46.501Z"
   },
   {
    "duration": 12,
    "start_time": "2023-11-03T08:29:46.517Z"
   },
   {
    "duration": 47,
    "start_time": "2023-11-03T08:29:46.530Z"
   },
   {
    "duration": 24,
    "start_time": "2023-11-03T08:29:46.578Z"
   },
   {
    "duration": 53,
    "start_time": "2023-11-03T08:29:46.604Z"
   },
   {
    "duration": 49,
    "start_time": "2023-11-03T08:29:46.658Z"
   },
   {
    "duration": 11,
    "start_time": "2023-11-03T08:29:46.708Z"
   },
   {
    "duration": 22,
    "start_time": "2023-11-03T08:29:46.720Z"
   },
   {
    "duration": 20,
    "start_time": "2023-11-03T08:29:46.744Z"
   },
   {
    "duration": 16,
    "start_time": "2023-11-03T08:29:46.766Z"
   },
   {
    "duration": 14,
    "start_time": "2023-11-03T08:30:08.978Z"
   },
   {
    "duration": 5,
    "start_time": "2023-11-03T08:31:07.408Z"
   },
   {
    "duration": 15,
    "start_time": "2023-11-03T08:31:27.265Z"
   },
   {
    "duration": 88,
    "start_time": "2023-11-03T08:33:41.913Z"
   },
   {
    "duration": 4,
    "start_time": "2023-11-03T08:34:10.430Z"
   },
   {
    "duration": 5,
    "start_time": "2023-11-03T08:35:17.641Z"
   },
   {
    "duration": 8,
    "start_time": "2023-11-03T08:35:23.027Z"
   },
   {
    "duration": 59,
    "start_time": "2023-11-03T08:35:41.662Z"
   },
   {
    "duration": 8,
    "start_time": "2023-11-03T08:35:48.564Z"
   },
   {
    "duration": 6,
    "start_time": "2023-11-03T08:36:01.611Z"
   },
   {
    "duration": 7,
    "start_time": "2023-11-03T08:36:14.075Z"
   },
   {
    "duration": 4,
    "start_time": "2023-11-03T08:37:42.730Z"
   },
   {
    "duration": 4,
    "start_time": "2023-11-03T08:40:27.186Z"
   },
   {
    "duration": 17,
    "start_time": "2023-11-03T08:40:53.659Z"
   },
   {
    "duration": 117,
    "start_time": "2023-11-03T08:41:01.839Z"
   },
   {
    "duration": 50,
    "start_time": "2023-11-03T08:41:01.958Z"
   },
   {
    "duration": 111,
    "start_time": "2023-11-03T08:41:02.009Z"
   },
   {
    "duration": 65,
    "start_time": "2023-11-03T08:41:02.122Z"
   },
   {
    "duration": 15,
    "start_time": "2023-11-03T08:41:02.190Z"
   },
   {
    "duration": 67,
    "start_time": "2023-11-03T08:41:02.207Z"
   },
   {
    "duration": 128,
    "start_time": "2023-11-03T08:41:02.275Z"
   },
   {
    "duration": 45,
    "start_time": "2023-11-03T08:41:02.405Z"
   },
   {
    "duration": 124,
    "start_time": "2023-11-03T08:41:02.452Z"
   },
   {
    "duration": 11,
    "start_time": "2023-11-03T08:41:02.578Z"
   },
   {
    "duration": 53,
    "start_time": "2023-11-03T08:41:02.591Z"
   },
   {
    "duration": 66,
    "start_time": "2023-11-03T08:41:02.646Z"
   },
   {
    "duration": 28,
    "start_time": "2023-11-03T08:41:02.714Z"
   },
   {
    "duration": 34,
    "start_time": "2023-11-03T08:41:02.745Z"
   },
   {
    "duration": 25,
    "start_time": "2023-11-03T08:41:02.781Z"
   },
   {
    "duration": 46,
    "start_time": "2023-11-03T08:41:02.808Z"
   },
   {
    "duration": 58,
    "start_time": "2023-11-03T08:41:02.856Z"
   },
   {
    "duration": 27,
    "start_time": "2023-11-03T08:41:02.916Z"
   },
   {
    "duration": 24,
    "start_time": "2023-11-03T08:41:02.945Z"
   },
   {
    "duration": 20,
    "start_time": "2023-11-03T08:41:02.970Z"
   },
   {
    "duration": 13,
    "start_time": "2023-11-03T08:41:02.992Z"
   },
   {
    "duration": 21,
    "start_time": "2023-11-03T08:41:03.006Z"
   },
   {
    "duration": 152,
    "start_time": "2023-11-03T08:41:03.028Z"
   },
   {
    "duration": 33,
    "start_time": "2023-11-03T08:41:03.181Z"
   },
   {
    "duration": 22,
    "start_time": "2023-11-03T08:41:03.215Z"
   },
   {
    "duration": 3,
    "start_time": "2023-11-03T08:41:03.239Z"
   },
   {
    "duration": 4,
    "start_time": "2023-11-03T08:41:37.379Z"
   },
   {
    "duration": 10,
    "start_time": "2023-11-03T08:46:34.684Z"
   },
   {
    "duration": 6,
    "start_time": "2023-11-03T08:46:45.473Z"
   },
   {
    "duration": 5,
    "start_time": "2023-11-03T08:46:54.910Z"
   },
   {
    "duration": 5,
    "start_time": "2023-11-03T08:47:07.175Z"
   },
   {
    "duration": 11,
    "start_time": "2023-11-03T08:47:19.167Z"
   },
   {
    "duration": 107,
    "start_time": "2023-11-03T08:47:29.886Z"
   },
   {
    "duration": 50,
    "start_time": "2023-11-03T08:47:29.995Z"
   },
   {
    "duration": 30,
    "start_time": "2023-11-03T08:47:30.047Z"
   },
   {
    "duration": 136,
    "start_time": "2023-11-03T08:47:30.079Z"
   },
   {
    "duration": 18,
    "start_time": "2023-11-03T08:47:30.217Z"
   },
   {
    "duration": 131,
    "start_time": "2023-11-03T08:47:30.237Z"
   },
   {
    "duration": 42,
    "start_time": "2023-11-03T08:47:30.370Z"
   },
   {
    "duration": 49,
    "start_time": "2023-11-03T08:47:30.414Z"
   },
   {
    "duration": 169,
    "start_time": "2023-11-03T08:47:30.465Z"
   },
   {
    "duration": 5,
    "start_time": "2023-11-03T08:47:30.635Z"
   },
   {
    "duration": 97,
    "start_time": "2023-11-03T08:47:30.642Z"
   },
   {
    "duration": 103,
    "start_time": "2023-11-03T08:47:30.741Z"
   },
   {
    "duration": 79,
    "start_time": "2023-11-03T08:47:30.845Z"
   },
   {
    "duration": 49,
    "start_time": "2023-11-03T08:47:30.927Z"
   },
   {
    "duration": 101,
    "start_time": "2023-11-03T08:47:30.978Z"
   },
   {
    "duration": 50,
    "start_time": "2023-11-03T08:47:31.081Z"
   },
   {
    "duration": 53,
    "start_time": "2023-11-03T08:47:31.133Z"
   },
   {
    "duration": 51,
    "start_time": "2023-11-03T08:47:31.188Z"
   },
   {
    "duration": 36,
    "start_time": "2023-11-03T08:47:31.240Z"
   },
   {
    "duration": 60,
    "start_time": "2023-11-03T08:47:31.278Z"
   },
   {
    "duration": 55,
    "start_time": "2023-11-03T08:47:31.339Z"
   },
   {
    "duration": 31,
    "start_time": "2023-11-03T08:47:31.396Z"
   },
   {
    "duration": 41,
    "start_time": "2023-11-03T08:47:31.429Z"
   },
   {
    "duration": 41,
    "start_time": "2023-11-03T08:47:31.472Z"
   },
   {
    "duration": 33,
    "start_time": "2023-11-03T08:47:31.515Z"
   },
   {
    "duration": 35,
    "start_time": "2023-11-03T08:47:31.550Z"
   },
   {
    "duration": 53,
    "start_time": "2023-11-03T08:47:31.586Z"
   },
   {
    "duration": 27,
    "start_time": "2023-11-03T08:54:08.922Z"
   },
   {
    "duration": 17,
    "start_time": "2023-11-03T08:54:13.504Z"
   },
   {
    "duration": 19,
    "start_time": "2023-11-03T08:55:32.162Z"
   },
   {
    "duration": 5,
    "start_time": "2023-11-03T08:57:43.635Z"
   },
   {
    "duration": 6,
    "start_time": "2023-11-03T08:57:48.437Z"
   },
   {
    "duration": 5,
    "start_time": "2023-11-03T08:57:55.860Z"
   },
   {
    "duration": 159,
    "start_time": "2023-11-03T09:00:34.130Z"
   },
   {
    "duration": 100,
    "start_time": "2023-11-03T09:00:40.267Z"
   },
   {
    "duration": 93,
    "start_time": "2023-11-03T09:01:04.475Z"
   },
   {
    "duration": 97,
    "start_time": "2023-11-03T09:01:14.433Z"
   },
   {
    "duration": 26,
    "start_time": "2023-11-03T09:02:08.285Z"
   },
   {
    "duration": 27,
    "start_time": "2023-11-03T09:02:15.777Z"
   },
   {
    "duration": 28,
    "start_time": "2023-11-03T09:03:42.646Z"
   },
   {
    "duration": 91,
    "start_time": "2023-11-03T09:05:51.891Z"
   },
   {
    "duration": 20,
    "start_time": "2023-11-03T09:06:08.502Z"
   },
   {
    "duration": 19,
    "start_time": "2023-11-03T09:07:25.679Z"
   },
   {
    "duration": 17,
    "start_time": "2023-11-03T09:07:35.647Z"
   },
   {
    "duration": 114,
    "start_time": "2023-11-03T09:12:23.059Z"
   },
   {
    "duration": 9,
    "start_time": "2023-11-03T09:17:02.842Z"
   },
   {
    "duration": 18,
    "start_time": "2023-11-03T09:17:15.535Z"
   },
   {
    "duration": 3,
    "start_time": "2023-11-03T09:17:45.057Z"
   },
   {
    "duration": 23,
    "start_time": "2023-11-03T09:17:46.238Z"
   },
   {
    "duration": 1999,
    "start_time": "2023-11-03T09:20:11.460Z"
   },
   {
    "duration": 7,
    "start_time": "2023-11-03T09:20:27.983Z"
   },
   {
    "duration": 23,
    "start_time": "2023-11-03T09:20:40.166Z"
   },
   {
    "duration": 115,
    "start_time": "2023-11-03T09:20:44.823Z"
   },
   {
    "duration": 50,
    "start_time": "2023-11-03T09:20:44.941Z"
   },
   {
    "duration": 4,
    "start_time": "2023-11-03T09:20:44.993Z"
   },
   {
    "duration": 259,
    "start_time": "2023-11-03T09:20:44.999Z"
   },
   {
    "duration": 5,
    "start_time": "2023-11-03T09:20:45.262Z"
   },
   {
    "duration": 22,
    "start_time": "2023-11-03T09:20:45.269Z"
   },
   {
    "duration": 25,
    "start_time": "2023-11-03T09:20:45.293Z"
   },
   {
    "duration": 26,
    "start_time": "2023-11-03T09:20:45.320Z"
   },
   {
    "duration": 127,
    "start_time": "2023-11-03T09:20:45.348Z"
   },
   {
    "duration": 5,
    "start_time": "2023-11-03T09:20:45.477Z"
   },
   {
    "duration": 27,
    "start_time": "2023-11-03T09:20:45.483Z"
   },
   {
    "duration": 57,
    "start_time": "2023-11-03T09:20:45.511Z"
   },
   {
    "duration": 40,
    "start_time": "2023-11-03T09:20:45.570Z"
   },
   {
    "duration": 17,
    "start_time": "2023-11-03T09:20:45.614Z"
   },
   {
    "duration": 69,
    "start_time": "2023-11-03T09:20:45.632Z"
   },
   {
    "duration": 18,
    "start_time": "2023-11-03T09:20:45.703Z"
   },
   {
    "duration": 49,
    "start_time": "2023-11-03T09:20:45.723Z"
   },
   {
    "duration": 58,
    "start_time": "2023-11-03T09:20:45.774Z"
   },
   {
    "duration": 17,
    "start_time": "2023-11-03T09:20:45.834Z"
   },
   {
    "duration": 28,
    "start_time": "2023-11-03T09:20:45.853Z"
   },
   {
    "duration": 5,
    "start_time": "2023-11-03T09:20:45.883Z"
   },
   {
    "duration": 14,
    "start_time": "2023-11-03T09:20:45.890Z"
   },
   {
    "duration": 12,
    "start_time": "2023-11-03T09:20:45.907Z"
   },
   {
    "duration": 19,
    "start_time": "2023-11-03T09:20:45.921Z"
   },
   {
    "duration": 18,
    "start_time": "2023-11-03T09:20:45.942Z"
   },
   {
    "duration": 5,
    "start_time": "2023-11-03T09:20:45.964Z"
   },
   {
    "duration": 18,
    "start_time": "2023-11-03T09:20:45.971Z"
   },
   {
    "duration": 52,
    "start_time": "2023-11-03T09:20:45.990Z"
   },
   {
    "duration": 19,
    "start_time": "2023-11-03T09:20:46.044Z"
   },
   {
    "duration": 34,
    "start_time": "2023-11-03T09:20:46.065Z"
   },
   {
    "duration": 40,
    "start_time": "2023-11-03T09:20:46.100Z"
   },
   {
    "duration": 24,
    "start_time": "2023-11-03T09:20:57.272Z"
   },
   {
    "duration": 23,
    "start_time": "2023-11-03T09:21:46.649Z"
   },
   {
    "duration": 16,
    "start_time": "2023-11-03T09:22:22.291Z"
   },
   {
    "duration": 8,
    "start_time": "2023-11-03T09:22:27.321Z"
   },
   {
    "duration": 11,
    "start_time": "2023-11-03T09:22:40.100Z"
   },
   {
    "duration": 9,
    "start_time": "2023-11-03T09:24:30.706Z"
   },
   {
    "duration": 7,
    "start_time": "2023-11-03T09:30:34.488Z"
   },
   {
    "duration": 6,
    "start_time": "2023-11-03T09:32:02.543Z"
   },
   {
    "duration": 14,
    "start_time": "2023-11-03T09:32:07.602Z"
   },
   {
    "duration": 9,
    "start_time": "2023-11-03T09:32:32.375Z"
   },
   {
    "duration": 10,
    "start_time": "2023-11-03T09:37:54.270Z"
   },
   {
    "duration": 7,
    "start_time": "2023-11-03T09:40:36.439Z"
   },
   {
    "duration": 35,
    "start_time": "2023-11-03T09:42:09.571Z"
   },
   {
    "duration": 13,
    "start_time": "2023-11-03T09:43:01.591Z"
   },
   {
    "duration": 18,
    "start_time": "2023-11-03T09:43:07.104Z"
   },
   {
    "duration": 116,
    "start_time": "2023-11-03T09:45:22.397Z"
   },
   {
    "duration": 52,
    "start_time": "2023-11-03T09:45:22.515Z"
   },
   {
    "duration": 5,
    "start_time": "2023-11-03T09:45:22.569Z"
   },
   {
    "duration": 39,
    "start_time": "2023-11-03T09:45:22.575Z"
   },
   {
    "duration": 15,
    "start_time": "2023-11-03T09:45:22.617Z"
   },
   {
    "duration": 28,
    "start_time": "2023-11-03T09:45:22.633Z"
   },
   {
    "duration": 29,
    "start_time": "2023-11-03T09:45:22.663Z"
   },
   {
    "duration": 22,
    "start_time": "2023-11-03T09:45:22.694Z"
   },
   {
    "duration": 107,
    "start_time": "2023-11-03T09:45:22.717Z"
   },
   {
    "duration": 5,
    "start_time": "2023-11-03T09:45:22.826Z"
   },
   {
    "duration": 30,
    "start_time": "2023-11-03T09:45:22.832Z"
   },
   {
    "duration": 31,
    "start_time": "2023-11-03T09:45:22.864Z"
   },
   {
    "duration": 38,
    "start_time": "2023-11-03T09:45:22.897Z"
   },
   {
    "duration": 51,
    "start_time": "2023-11-03T09:45:22.938Z"
   },
   {
    "duration": 27,
    "start_time": "2023-11-03T09:45:22.990Z"
   },
   {
    "duration": 33,
    "start_time": "2023-11-03T09:45:23.019Z"
   },
   {
    "duration": 44,
    "start_time": "2023-11-03T09:45:23.054Z"
   },
   {
    "duration": 52,
    "start_time": "2023-11-03T09:45:23.100Z"
   },
   {
    "duration": 23,
    "start_time": "2023-11-03T09:45:23.154Z"
   },
   {
    "duration": 35,
    "start_time": "2023-11-03T09:45:23.179Z"
   },
   {
    "duration": 26,
    "start_time": "2023-11-03T09:45:23.216Z"
   },
   {
    "duration": 32,
    "start_time": "2023-11-03T09:45:23.243Z"
   },
   {
    "duration": 66,
    "start_time": "2023-11-03T09:45:23.277Z"
   },
   {
    "duration": 50,
    "start_time": "2023-11-03T09:45:23.344Z"
   },
   {
    "duration": 52,
    "start_time": "2023-11-03T09:45:23.396Z"
   },
   {
    "duration": 10,
    "start_time": "2023-11-03T09:45:23.449Z"
   },
   {
    "duration": 22,
    "start_time": "2023-11-03T09:45:23.460Z"
   },
   {
    "duration": 31,
    "start_time": "2023-11-03T09:45:23.483Z"
   },
   {
    "duration": 19,
    "start_time": "2023-11-03T09:45:23.516Z"
   },
   {
    "duration": 46,
    "start_time": "2023-11-03T09:45:23.537Z"
   },
   {
    "duration": 20,
    "start_time": "2023-11-03T09:45:23.585Z"
   },
   {
    "duration": 24,
    "start_time": "2023-11-03T09:45:23.607Z"
   },
   {
    "duration": 28,
    "start_time": "2023-11-03T09:45:23.633Z"
   },
   {
    "duration": 39,
    "start_time": "2023-11-03T09:45:23.663Z"
   },
   {
    "duration": 16,
    "start_time": "2023-11-03T09:45:23.704Z"
   },
   {
    "duration": 7,
    "start_time": "2023-11-03T09:51:44.817Z"
   },
   {
    "duration": 17,
    "start_time": "2023-11-03T09:51:55.338Z"
   },
   {
    "duration": 17,
    "start_time": "2023-11-03T09:52:28.399Z"
   },
   {
    "duration": 12,
    "start_time": "2023-11-03T09:52:57.360Z"
   },
   {
    "duration": 14,
    "start_time": "2023-11-03T09:52:59.409Z"
   },
   {
    "duration": 5,
    "start_time": "2023-11-03T09:53:13.068Z"
   },
   {
    "duration": 8,
    "start_time": "2023-11-03T10:01:48.724Z"
   },
   {
    "duration": 19,
    "start_time": "2023-11-03T10:01:59.500Z"
   },
   {
    "duration": 19,
    "start_time": "2023-11-03T10:02:19.998Z"
   },
   {
    "duration": 17,
    "start_time": "2023-11-03T10:02:46.842Z"
   },
   {
    "duration": 17,
    "start_time": "2023-11-03T10:04:29.866Z"
   },
   {
    "duration": 17,
    "start_time": "2023-11-03T10:04:40.383Z"
   },
   {
    "duration": 26,
    "start_time": "2023-11-03T10:05:19.364Z"
   },
   {
    "duration": 21,
    "start_time": "2023-11-03T10:05:36.582Z"
   },
   {
    "duration": 26,
    "start_time": "2023-11-03T10:07:15.150Z"
   },
   {
    "duration": 33,
    "start_time": "2023-11-03T10:08:36.824Z"
   },
   {
    "duration": 128,
    "start_time": "2023-11-03T10:12:27.277Z"
   },
   {
    "duration": 15,
    "start_time": "2023-11-03T10:12:37.772Z"
   },
   {
    "duration": 23,
    "start_time": "2023-11-03T10:12:53.127Z"
   },
   {
    "duration": 13,
    "start_time": "2023-11-03T10:14:07.757Z"
   },
   {
    "duration": 13,
    "start_time": "2023-11-03T10:14:15.257Z"
   },
   {
    "duration": 19,
    "start_time": "2023-11-03T10:15:22.651Z"
   },
   {
    "duration": 17,
    "start_time": "2023-11-03T10:15:32.111Z"
   },
   {
    "duration": 23,
    "start_time": "2023-11-03T10:15:38.334Z"
   },
   {
    "duration": 155,
    "start_time": "2023-11-03T10:19:48.044Z"
   },
   {
    "duration": 58,
    "start_time": "2023-11-03T10:20:42.209Z"
   },
   {
    "duration": 23,
    "start_time": "2023-11-03T10:21:01.261Z"
   },
   {
    "duration": 55,
    "start_time": "2023-11-03T10:21:09.753Z"
   },
   {
    "duration": 74,
    "start_time": "2023-11-03T10:22:00.849Z"
   },
   {
    "duration": 64,
    "start_time": "2023-11-03T10:22:23.134Z"
   },
   {
    "duration": 74,
    "start_time": "2023-11-03T10:22:31.941Z"
   },
   {
    "duration": 86,
    "start_time": "2023-11-03T10:24:17.390Z"
   },
   {
    "duration": 13,
    "start_time": "2023-11-03T10:24:54.312Z"
   },
   {
    "duration": 79,
    "start_time": "2023-11-03T10:25:32.409Z"
   },
   {
    "duration": 106,
    "start_time": "2023-11-03T10:26:02.028Z"
   },
   {
    "duration": 62,
    "start_time": "2023-11-03T10:26:25.808Z"
   },
   {
    "duration": 71,
    "start_time": "2023-11-03T10:26:56.453Z"
   },
   {
    "duration": 75,
    "start_time": "2023-11-03T10:27:49.203Z"
   },
   {
    "duration": 75,
    "start_time": "2023-11-03T10:28:06.011Z"
   },
   {
    "duration": 55,
    "start_time": "2023-11-03T10:28:28.176Z"
   },
   {
    "duration": 151,
    "start_time": "2023-11-03T10:28:34.938Z"
   },
   {
    "duration": 55,
    "start_time": "2023-11-03T10:29:15.894Z"
   },
   {
    "duration": 116,
    "start_time": "2023-11-03T10:29:33.358Z"
   },
   {
    "duration": 50,
    "start_time": "2023-11-03T10:29:33.476Z"
   },
   {
    "duration": 6,
    "start_time": "2023-11-03T10:29:33.528Z"
   },
   {
    "duration": 29,
    "start_time": "2023-11-03T10:29:33.536Z"
   },
   {
    "duration": 4,
    "start_time": "2023-11-03T10:29:33.568Z"
   },
   {
    "duration": 30,
    "start_time": "2023-11-03T10:29:33.574Z"
   },
   {
    "duration": 5,
    "start_time": "2023-11-03T10:29:33.606Z"
   },
   {
    "duration": 24,
    "start_time": "2023-11-03T10:29:33.613Z"
   },
   {
    "duration": 98,
    "start_time": "2023-11-03T10:29:33.639Z"
   },
   {
    "duration": 6,
    "start_time": "2023-11-03T10:29:33.738Z"
   },
   {
    "duration": 34,
    "start_time": "2023-11-03T10:29:33.745Z"
   },
   {
    "duration": 65,
    "start_time": "2023-11-03T10:29:33.781Z"
   },
   {
    "duration": 165,
    "start_time": "2023-11-03T10:29:33.848Z"
   },
   {
    "duration": 11,
    "start_time": "2023-11-03T10:29:34.017Z"
   },
   {
    "duration": 31,
    "start_time": "2023-11-03T10:29:34.030Z"
   },
   {
    "duration": 8,
    "start_time": "2023-11-03T10:29:34.063Z"
   },
   {
    "duration": 18,
    "start_time": "2023-11-03T10:29:34.072Z"
   },
   {
    "duration": 21,
    "start_time": "2023-11-03T10:29:34.092Z"
   },
   {
    "duration": 10,
    "start_time": "2023-11-03T10:29:34.115Z"
   },
   {
    "duration": 28,
    "start_time": "2023-11-03T10:29:34.126Z"
   },
   {
    "duration": 16,
    "start_time": "2023-11-03T10:29:34.155Z"
   },
   {
    "duration": 28,
    "start_time": "2023-11-03T10:29:34.172Z"
   },
   {
    "duration": 18,
    "start_time": "2023-11-03T10:29:34.201Z"
   },
   {
    "duration": 29,
    "start_time": "2023-11-03T10:29:34.221Z"
   },
   {
    "duration": 19,
    "start_time": "2023-11-03T10:29:34.252Z"
   },
   {
    "duration": 22,
    "start_time": "2023-11-03T10:29:34.272Z"
   },
   {
    "duration": 19,
    "start_time": "2023-11-03T10:29:34.295Z"
   },
   {
    "duration": 43,
    "start_time": "2023-11-03T10:29:34.315Z"
   },
   {
    "duration": 25,
    "start_time": "2023-11-03T10:29:34.359Z"
   },
   {
    "duration": 42,
    "start_time": "2023-11-03T10:29:34.385Z"
   },
   {
    "duration": 13,
    "start_time": "2023-11-03T10:29:34.429Z"
   },
   {
    "duration": 28,
    "start_time": "2023-11-03T10:29:34.444Z"
   },
   {
    "duration": 23,
    "start_time": "2023-11-03T10:29:34.473Z"
   },
   {
    "duration": 28,
    "start_time": "2023-11-03T10:29:34.498Z"
   },
   {
    "duration": 70,
    "start_time": "2023-11-03T10:29:34.528Z"
   },
   {
    "duration": 13,
    "start_time": "2023-11-03T10:29:34.600Z"
   },
   {
    "duration": 35,
    "start_time": "2023-11-03T10:29:34.615Z"
   },
   {
    "duration": 11,
    "start_time": "2023-11-03T10:32:15.083Z"
   },
   {
    "duration": 115,
    "start_time": "2023-11-03T10:32:21.188Z"
   },
   {
    "duration": 49,
    "start_time": "2023-11-03T10:32:21.307Z"
   },
   {
    "duration": 5,
    "start_time": "2023-11-03T10:32:21.358Z"
   },
   {
    "duration": 44,
    "start_time": "2023-11-03T10:32:21.365Z"
   },
   {
    "duration": 4,
    "start_time": "2023-11-03T10:32:21.413Z"
   },
   {
    "duration": 63,
    "start_time": "2023-11-03T10:32:21.418Z"
   },
   {
    "duration": 5,
    "start_time": "2023-11-03T10:32:21.482Z"
   },
   {
    "duration": 33,
    "start_time": "2023-11-03T10:32:21.488Z"
   },
   {
    "duration": 125,
    "start_time": "2023-11-03T10:32:21.523Z"
   },
   {
    "duration": 5,
    "start_time": "2023-11-03T10:32:21.650Z"
   },
   {
    "duration": 22,
    "start_time": "2023-11-03T10:32:21.657Z"
   },
   {
    "duration": 39,
    "start_time": "2023-11-03T10:32:21.681Z"
   },
   {
    "duration": 26,
    "start_time": "2023-11-03T10:32:21.722Z"
   },
   {
    "duration": 23,
    "start_time": "2023-11-03T10:32:21.752Z"
   },
   {
    "duration": 40,
    "start_time": "2023-11-03T10:32:21.777Z"
   },
   {
    "duration": 37,
    "start_time": "2023-11-03T10:32:21.819Z"
   },
   {
    "duration": 42,
    "start_time": "2023-11-03T10:32:21.857Z"
   },
   {
    "duration": 112,
    "start_time": "2023-11-03T10:32:21.901Z"
   },
   {
    "duration": 31,
    "start_time": "2023-11-03T10:32:22.015Z"
   },
   {
    "duration": 34,
    "start_time": "2023-11-03T10:32:22.048Z"
   },
   {
    "duration": 11,
    "start_time": "2023-11-03T10:32:22.083Z"
   },
   {
    "duration": 29,
    "start_time": "2023-11-03T10:32:22.096Z"
   },
   {
    "duration": 25,
    "start_time": "2023-11-03T10:32:22.127Z"
   },
   {
    "duration": 30,
    "start_time": "2023-11-03T10:32:22.154Z"
   },
   {
    "duration": 28,
    "start_time": "2023-11-03T10:32:22.185Z"
   },
   {
    "duration": 19,
    "start_time": "2023-11-03T10:32:22.215Z"
   },
   {
    "duration": 44,
    "start_time": "2023-11-03T10:32:22.237Z"
   },
   {
    "duration": 50,
    "start_time": "2023-11-03T10:32:22.283Z"
   },
   {
    "duration": 27,
    "start_time": "2023-11-03T10:32:22.335Z"
   },
   {
    "duration": 50,
    "start_time": "2023-11-03T10:32:22.363Z"
   },
   {
    "duration": 33,
    "start_time": "2023-11-03T10:32:22.415Z"
   },
   {
    "duration": 48,
    "start_time": "2023-11-03T10:32:22.450Z"
   },
   {
    "duration": 60,
    "start_time": "2023-11-03T10:32:22.500Z"
   },
   {
    "duration": 46,
    "start_time": "2023-11-03T10:32:22.561Z"
   },
   {
    "duration": 93,
    "start_time": "2023-11-03T10:32:22.608Z"
   },
   {
    "duration": 12,
    "start_time": "2023-11-03T10:32:22.703Z"
   },
   {
    "duration": 56,
    "start_time": "2023-11-03T10:32:22.717Z"
   },
   {
    "duration": 8,
    "start_time": "2023-11-03T10:33:26.495Z"
   },
   {
    "duration": 122,
    "start_time": "2023-11-03T10:33:36.043Z"
   },
   {
    "duration": 51,
    "start_time": "2023-11-03T10:33:36.166Z"
   },
   {
    "duration": 5,
    "start_time": "2023-11-03T10:33:36.218Z"
   },
   {
    "duration": 120,
    "start_time": "2023-11-03T10:33:36.225Z"
   },
   {
    "duration": 21,
    "start_time": "2023-11-03T10:33:36.347Z"
   },
   {
    "duration": 49,
    "start_time": "2023-11-03T10:33:36.370Z"
   },
   {
    "duration": 74,
    "start_time": "2023-11-03T10:33:36.421Z"
   },
   {
    "duration": 121,
    "start_time": "2023-11-03T10:33:36.496Z"
   },
   {
    "duration": 182,
    "start_time": "2023-11-03T10:33:36.618Z"
   },
   {
    "duration": 4,
    "start_time": "2023-11-03T10:33:36.802Z"
   },
   {
    "duration": 43,
    "start_time": "2023-11-03T10:33:36.807Z"
   },
   {
    "duration": 33,
    "start_time": "2023-11-03T10:33:36.852Z"
   },
   {
    "duration": 110,
    "start_time": "2023-11-03T10:33:36.887Z"
   },
   {
    "duration": 28,
    "start_time": "2023-11-03T10:33:37.001Z"
   },
   {
    "duration": 36,
    "start_time": "2023-11-03T10:33:37.030Z"
   },
   {
    "duration": 30,
    "start_time": "2023-11-03T10:33:37.068Z"
   },
   {
    "duration": 39,
    "start_time": "2023-11-03T10:33:37.099Z"
   },
   {
    "duration": 56,
    "start_time": "2023-11-03T10:33:37.140Z"
   },
   {
    "duration": 82,
    "start_time": "2023-11-03T10:33:37.198Z"
   },
   {
    "duration": 40,
    "start_time": "2023-11-03T10:33:37.282Z"
   },
   {
    "duration": 39,
    "start_time": "2023-11-03T10:33:37.323Z"
   },
   {
    "duration": 40,
    "start_time": "2023-11-03T10:33:37.364Z"
   },
   {
    "duration": 24,
    "start_time": "2023-11-03T10:33:37.405Z"
   },
   {
    "duration": 23,
    "start_time": "2023-11-03T10:33:37.431Z"
   },
   {
    "duration": 21,
    "start_time": "2023-11-03T10:33:37.456Z"
   },
   {
    "duration": 18,
    "start_time": "2023-11-03T10:33:37.479Z"
   },
   {
    "duration": 13,
    "start_time": "2023-11-03T10:33:37.498Z"
   },
   {
    "duration": 44,
    "start_time": "2023-11-03T10:33:37.513Z"
   },
   {
    "duration": 19,
    "start_time": "2023-11-03T10:33:37.559Z"
   },
   {
    "duration": 47,
    "start_time": "2023-11-03T10:33:37.579Z"
   },
   {
    "duration": 24,
    "start_time": "2023-11-03T10:33:37.628Z"
   },
   {
    "duration": 29,
    "start_time": "2023-11-03T10:33:37.653Z"
   },
   {
    "duration": 29,
    "start_time": "2023-11-03T10:33:37.683Z"
   },
   {
    "duration": 10,
    "start_time": "2023-11-03T10:33:37.714Z"
   },
   {
    "duration": 93,
    "start_time": "2023-11-03T10:33:37.726Z"
   },
   {
    "duration": 9,
    "start_time": "2023-11-03T10:33:37.821Z"
   },
   {
    "duration": 51,
    "start_time": "2023-11-03T10:33:37.831Z"
   },
   {
    "duration": 9,
    "start_time": "2023-11-03T10:34:36.446Z"
   },
   {
    "duration": 92,
    "start_time": "2023-11-03T10:35:54.038Z"
   },
   {
    "duration": 27,
    "start_time": "2023-11-03T10:36:27.256Z"
   },
   {
    "duration": 559,
    "start_time": "2023-11-03T10:36:35.929Z"
   },
   {
    "duration": 49,
    "start_time": "2023-11-03T10:36:36.490Z"
   },
   {
    "duration": 5,
    "start_time": "2023-11-03T10:36:36.541Z"
   },
   {
    "duration": 117,
    "start_time": "2023-11-03T10:36:36.547Z"
   },
   {
    "duration": 40,
    "start_time": "2023-11-03T10:36:36.666Z"
   },
   {
    "duration": 25,
    "start_time": "2023-11-03T10:36:36.707Z"
   },
   {
    "duration": 10,
    "start_time": "2023-11-03T10:36:36.734Z"
   },
   {
    "duration": 31,
    "start_time": "2023-11-03T10:36:36.746Z"
   },
   {
    "duration": 118,
    "start_time": "2023-11-03T10:36:36.778Z"
   },
   {
    "duration": 5,
    "start_time": "2023-11-03T10:36:36.897Z"
   },
   {
    "duration": 44,
    "start_time": "2023-11-03T10:36:36.903Z"
   },
   {
    "duration": 107,
    "start_time": "2023-11-03T10:36:36.949Z"
   },
   {
    "duration": 44,
    "start_time": "2023-11-03T10:36:37.057Z"
   },
   {
    "duration": 61,
    "start_time": "2023-11-03T10:36:37.104Z"
   },
   {
    "duration": 64,
    "start_time": "2023-11-03T10:36:37.167Z"
   },
   {
    "duration": 49,
    "start_time": "2023-11-03T10:36:37.233Z"
   },
   {
    "duration": 192,
    "start_time": "2023-11-03T10:36:37.283Z"
   },
   {
    "duration": 101,
    "start_time": "2023-11-03T10:36:37.477Z"
   },
   {
    "duration": 33,
    "start_time": "2023-11-03T10:36:37.580Z"
   },
   {
    "duration": 31,
    "start_time": "2023-11-03T10:36:37.615Z"
   },
   {
    "duration": 25,
    "start_time": "2023-11-03T10:36:37.647Z"
   },
   {
    "duration": 32,
    "start_time": "2023-11-03T10:36:37.673Z"
   },
   {
    "duration": 43,
    "start_time": "2023-11-03T10:36:37.707Z"
   },
   {
    "duration": 27,
    "start_time": "2023-11-03T10:36:37.751Z"
   },
   {
    "duration": 43,
    "start_time": "2023-11-03T10:36:37.780Z"
   },
   {
    "duration": 17,
    "start_time": "2023-11-03T10:36:37.825Z"
   },
   {
    "duration": 34,
    "start_time": "2023-11-03T10:36:37.844Z"
   },
   {
    "duration": 53,
    "start_time": "2023-11-03T10:36:37.880Z"
   },
   {
    "duration": 21,
    "start_time": "2023-11-03T10:36:37.934Z"
   },
   {
    "duration": 18,
    "start_time": "2023-11-03T10:36:37.957Z"
   },
   {
    "duration": 30,
    "start_time": "2023-11-03T10:36:37.979Z"
   },
   {
    "duration": 52,
    "start_time": "2023-11-03T10:36:38.011Z"
   },
   {
    "duration": 35,
    "start_time": "2023-11-03T10:36:38.065Z"
   },
   {
    "duration": 57,
    "start_time": "2023-11-03T10:36:38.102Z"
   },
   {
    "duration": 106,
    "start_time": "2023-11-03T10:36:38.161Z"
   },
   {
    "duration": 13,
    "start_time": "2023-11-03T10:36:38.269Z"
   },
   {
    "duration": 53,
    "start_time": "2023-11-03T10:36:38.283Z"
   },
   {
    "duration": 51,
    "start_time": "2023-11-04T07:15:51.856Z"
   },
   {
    "duration": 669,
    "start_time": "2023-11-04T07:15:57.061Z"
   },
   {
    "duration": 134,
    "start_time": "2023-11-04T07:15:57.732Z"
   },
   {
    "duration": 6,
    "start_time": "2023-11-04T07:15:57.867Z"
   },
   {
    "duration": 30,
    "start_time": "2023-11-04T07:15:57.874Z"
   },
   {
    "duration": 4,
    "start_time": "2023-11-04T07:15:57.907Z"
   },
   {
    "duration": 17,
    "start_time": "2023-11-04T07:15:57.913Z"
   },
   {
    "duration": 16,
    "start_time": "2023-11-04T07:15:57.932Z"
   },
   {
    "duration": 8,
    "start_time": "2023-11-04T07:15:57.949Z"
   },
   {
    "duration": 117,
    "start_time": "2023-11-04T07:15:57.959Z"
   },
   {
    "duration": 5,
    "start_time": "2023-11-04T07:15:58.078Z"
   },
   {
    "duration": 19,
    "start_time": "2023-11-04T07:15:58.085Z"
   },
   {
    "duration": 28,
    "start_time": "2023-11-04T07:15:58.106Z"
   },
   {
    "duration": 22,
    "start_time": "2023-11-04T07:15:58.146Z"
   },
   {
    "duration": 8,
    "start_time": "2023-11-04T07:15:58.171Z"
   },
   {
    "duration": 24,
    "start_time": "2023-11-04T07:15:58.181Z"
   },
   {
    "duration": 7,
    "start_time": "2023-11-04T07:15:58.207Z"
   },
   {
    "duration": 32,
    "start_time": "2023-11-04T07:15:58.216Z"
   },
   {
    "duration": 58,
    "start_time": "2023-11-04T07:15:58.251Z"
   },
   {
    "duration": 19,
    "start_time": "2023-11-04T07:15:58.311Z"
   },
   {
    "duration": 30,
    "start_time": "2023-11-04T07:15:58.332Z"
   },
   {
    "duration": 18,
    "start_time": "2023-11-04T07:15:58.364Z"
   },
   {
    "duration": 18,
    "start_time": "2023-11-04T07:15:58.384Z"
   },
   {
    "duration": 8,
    "start_time": "2023-11-04T07:15:58.403Z"
   },
   {
    "duration": 20,
    "start_time": "2023-11-04T07:15:58.413Z"
   },
   {
    "duration": 25,
    "start_time": "2023-11-04T07:15:58.435Z"
   },
   {
    "duration": 9,
    "start_time": "2023-11-04T07:15:58.461Z"
   },
   {
    "duration": 9,
    "start_time": "2023-11-04T07:15:58.472Z"
   },
   {
    "duration": 38,
    "start_time": "2023-11-04T07:15:58.483Z"
   },
   {
    "duration": 20,
    "start_time": "2023-11-04T07:15:58.524Z"
   },
   {
    "duration": 22,
    "start_time": "2023-11-04T07:15:58.546Z"
   },
   {
    "duration": 48,
    "start_time": "2023-11-04T07:15:58.570Z"
   },
   {
    "duration": 9,
    "start_time": "2023-11-04T07:15:58.619Z"
   },
   {
    "duration": 9,
    "start_time": "2023-11-04T07:15:58.630Z"
   },
   {
    "duration": 17,
    "start_time": "2023-11-04T07:15:58.641Z"
   },
   {
    "duration": 94,
    "start_time": "2023-11-04T07:15:58.660Z"
   },
   {
    "duration": 9,
    "start_time": "2023-11-04T07:15:58.756Z"
   },
   {
    "duration": 38,
    "start_time": "2023-11-04T07:15:58.767Z"
   },
   {
    "duration": 70,
    "start_time": "2023-11-04T07:15:58.807Z"
   },
   {
    "duration": 10,
    "start_time": "2023-11-04T07:16:29.501Z"
   },
   {
    "duration": 9,
    "start_time": "2023-11-04T07:17:55.968Z"
   },
   {
    "duration": 49,
    "start_time": "2023-11-04T07:19:04.328Z"
   },
   {
    "duration": 125,
    "start_time": "2023-11-04T07:19:11.521Z"
   },
   {
    "duration": 62,
    "start_time": "2023-11-04T07:19:11.649Z"
   },
   {
    "duration": 5,
    "start_time": "2023-11-04T07:19:11.713Z"
   },
   {
    "duration": 45,
    "start_time": "2023-11-04T07:19:11.720Z"
   },
   {
    "duration": 5,
    "start_time": "2023-11-04T07:19:11.768Z"
   },
   {
    "duration": 32,
    "start_time": "2023-11-04T07:19:11.775Z"
   },
   {
    "duration": 5,
    "start_time": "2023-11-04T07:19:11.809Z"
   },
   {
    "duration": 17,
    "start_time": "2023-11-04T07:19:11.816Z"
   },
   {
    "duration": 129,
    "start_time": "2023-11-04T07:19:11.835Z"
   },
   {
    "duration": 5,
    "start_time": "2023-11-04T07:19:11.966Z"
   },
   {
    "duration": 16,
    "start_time": "2023-11-04T07:19:11.973Z"
   },
   {
    "duration": 36,
    "start_time": "2023-11-04T07:19:11.991Z"
   },
   {
    "duration": 23,
    "start_time": "2023-11-04T07:19:12.029Z"
   },
   {
    "duration": 9,
    "start_time": "2023-11-04T07:19:12.056Z"
   },
   {
    "duration": 33,
    "start_time": "2023-11-04T07:19:12.067Z"
   },
   {
    "duration": 13,
    "start_time": "2023-11-04T07:19:12.102Z"
   },
   {
    "duration": 38,
    "start_time": "2023-11-04T07:19:12.117Z"
   },
   {
    "duration": 28,
    "start_time": "2023-11-04T07:19:12.157Z"
   },
   {
    "duration": 10,
    "start_time": "2023-11-04T07:19:12.187Z"
   },
   {
    "duration": 48,
    "start_time": "2023-11-04T07:19:12.199Z"
   },
   {
    "duration": 25,
    "start_time": "2023-11-04T07:19:12.249Z"
   },
   {
    "duration": 14,
    "start_time": "2023-11-04T07:19:12.276Z"
   },
   {
    "duration": 10,
    "start_time": "2023-11-04T07:19:12.292Z"
   },
   {
    "duration": 3,
    "start_time": "2023-11-04T07:19:12.305Z"
   },
   {
    "duration": 21,
    "start_time": "2023-11-04T07:19:12.310Z"
   },
   {
    "duration": 24,
    "start_time": "2023-11-04T07:19:12.333Z"
   },
   {
    "duration": 86,
    "start_time": "2023-11-04T07:19:12.359Z"
   },
   {
    "duration": 60,
    "start_time": "2023-11-04T07:19:12.447Z"
   },
   {
    "duration": 22,
    "start_time": "2023-11-04T07:19:12.509Z"
   },
   {
    "duration": 26,
    "start_time": "2023-11-04T07:19:12.532Z"
   },
   {
    "duration": 13,
    "start_time": "2023-11-04T07:19:12.560Z"
   },
   {
    "duration": 9,
    "start_time": "2023-11-04T07:19:12.575Z"
   },
   {
    "duration": 7,
    "start_time": "2023-11-04T07:19:12.586Z"
   },
   {
    "duration": 32,
    "start_time": "2023-11-04T07:19:12.595Z"
   },
   {
    "duration": 84,
    "start_time": "2023-11-04T07:19:12.629Z"
   },
   {
    "duration": 9,
    "start_time": "2023-11-04T07:19:12.716Z"
   },
   {
    "duration": 54,
    "start_time": "2023-11-04T07:19:12.727Z"
   },
   {
    "duration": 9,
    "start_time": "2023-11-04T07:19:12.783Z"
   },
   {
    "duration": 19,
    "start_time": "2023-11-04T07:19:12.794Z"
   },
   {
    "duration": 551,
    "start_time": "2023-11-04T07:19:53.264Z"
   },
   {
    "duration": 61,
    "start_time": "2023-11-04T07:19:53.817Z"
   },
   {
    "duration": 6,
    "start_time": "2023-11-04T07:19:53.880Z"
   },
   {
    "duration": 85,
    "start_time": "2023-11-04T07:19:53.888Z"
   },
   {
    "duration": 6,
    "start_time": "2023-11-04T07:19:53.975Z"
   },
   {
    "duration": 38,
    "start_time": "2023-11-04T07:19:53.983Z"
   },
   {
    "duration": 8,
    "start_time": "2023-11-04T07:19:54.023Z"
   },
   {
    "duration": 45,
    "start_time": "2023-11-04T07:19:54.033Z"
   },
   {
    "duration": 143,
    "start_time": "2023-11-04T07:19:54.080Z"
   },
   {
    "duration": 5,
    "start_time": "2023-11-04T07:19:54.225Z"
   },
   {
    "duration": 16,
    "start_time": "2023-11-04T07:19:54.231Z"
   },
   {
    "duration": 24,
    "start_time": "2023-11-04T07:19:54.249Z"
   },
   {
    "duration": 16,
    "start_time": "2023-11-04T07:19:54.275Z"
   },
   {
    "duration": 11,
    "start_time": "2023-11-04T07:19:54.293Z"
   },
   {
    "duration": 43,
    "start_time": "2023-11-04T07:19:54.306Z"
   },
   {
    "duration": 14,
    "start_time": "2023-11-04T07:19:54.351Z"
   },
   {
    "duration": 28,
    "start_time": "2023-11-04T07:19:54.368Z"
   },
   {
    "duration": 66,
    "start_time": "2023-11-04T07:19:54.397Z"
   },
   {
    "duration": 23,
    "start_time": "2023-11-04T07:19:54.466Z"
   },
   {
    "duration": 32,
    "start_time": "2023-11-04T07:19:54.491Z"
   },
   {
    "duration": 13,
    "start_time": "2023-11-04T07:19:54.525Z"
   },
   {
    "duration": 18,
    "start_time": "2023-11-04T07:19:54.539Z"
   },
   {
    "duration": 10,
    "start_time": "2023-11-04T07:19:54.559Z"
   },
   {
    "duration": 16,
    "start_time": "2023-11-04T07:19:54.570Z"
   },
   {
    "duration": 22,
    "start_time": "2023-11-04T07:19:54.588Z"
   },
   {
    "duration": 5,
    "start_time": "2023-11-04T07:19:54.612Z"
   },
   {
    "duration": 13,
    "start_time": "2023-11-04T07:19:54.618Z"
   },
   {
    "duration": 54,
    "start_time": "2023-11-04T07:19:54.633Z"
   },
   {
    "duration": 20,
    "start_time": "2023-11-04T07:19:54.689Z"
   },
   {
    "duration": 37,
    "start_time": "2023-11-04T07:19:54.711Z"
   },
   {
    "duration": 22,
    "start_time": "2023-11-04T07:19:54.751Z"
   },
   {
    "duration": 25,
    "start_time": "2023-11-04T07:19:54.776Z"
   },
   {
    "duration": 9,
    "start_time": "2023-11-04T07:19:54.804Z"
   },
   {
    "duration": 42,
    "start_time": "2023-11-04T07:19:54.815Z"
   },
   {
    "duration": 72,
    "start_time": "2023-11-04T07:19:54.859Z"
   },
   {
    "duration": 14,
    "start_time": "2023-11-04T07:19:54.946Z"
   },
   {
    "duration": 58,
    "start_time": "2023-11-04T07:19:54.962Z"
   },
   {
    "duration": 21,
    "start_time": "2023-11-04T07:19:55.022Z"
   },
   {
    "duration": 34,
    "start_time": "2023-11-04T07:19:55.044Z"
   },
   {
    "duration": 73,
    "start_time": "2023-11-04T07:22:23.206Z"
   },
   {
    "duration": 15,
    "start_time": "2023-11-04T07:23:17.770Z"
   },
   {
    "duration": 117,
    "start_time": "2023-11-04T07:23:24.571Z"
   },
   {
    "duration": 48,
    "start_time": "2023-11-04T07:23:24.690Z"
   },
   {
    "duration": 9,
    "start_time": "2023-11-04T07:23:24.740Z"
   },
   {
    "duration": 25,
    "start_time": "2023-11-04T07:23:24.751Z"
   },
   {
    "duration": 5,
    "start_time": "2023-11-04T07:23:24.779Z"
   },
   {
    "duration": 14,
    "start_time": "2023-11-04T07:23:24.785Z"
   },
   {
    "duration": 6,
    "start_time": "2023-11-04T07:23:24.801Z"
   },
   {
    "duration": 8,
    "start_time": "2023-11-04T07:23:24.809Z"
   },
   {
    "duration": 135,
    "start_time": "2023-11-04T07:23:24.819Z"
   },
   {
    "duration": 6,
    "start_time": "2023-11-04T07:23:24.956Z"
   },
   {
    "duration": 21,
    "start_time": "2023-11-04T07:23:24.963Z"
   },
   {
    "duration": 24,
    "start_time": "2023-11-04T07:23:24.986Z"
   },
   {
    "duration": 20,
    "start_time": "2023-11-04T07:23:25.012Z"
   },
   {
    "duration": 8,
    "start_time": "2023-11-04T07:23:25.047Z"
   },
   {
    "duration": 22,
    "start_time": "2023-11-04T07:23:25.056Z"
   },
   {
    "duration": 8,
    "start_time": "2023-11-04T07:23:25.080Z"
   },
   {
    "duration": 21,
    "start_time": "2023-11-04T07:23:25.089Z"
   },
   {
    "duration": 41,
    "start_time": "2023-11-04T07:23:25.112Z"
   },
   {
    "duration": 8,
    "start_time": "2023-11-04T07:23:25.155Z"
   },
   {
    "duration": 20,
    "start_time": "2023-11-04T07:23:25.165Z"
   },
   {
    "duration": 5,
    "start_time": "2023-11-04T07:23:25.187Z"
   },
   {
    "duration": 19,
    "start_time": "2023-11-04T07:23:25.194Z"
   },
   {
    "duration": 33,
    "start_time": "2023-11-04T07:23:25.215Z"
   },
   {
    "duration": 4,
    "start_time": "2023-11-04T07:23:25.251Z"
   },
   {
    "duration": 10,
    "start_time": "2023-11-04T07:23:25.257Z"
   },
   {
    "duration": 6,
    "start_time": "2023-11-04T07:23:25.269Z"
   },
   {
    "duration": 19,
    "start_time": "2023-11-04T07:23:25.277Z"
   },
   {
    "duration": 53,
    "start_time": "2023-11-04T07:23:25.298Z"
   },
   {
    "duration": 29,
    "start_time": "2023-11-04T07:23:25.353Z"
   },
   {
    "duration": 26,
    "start_time": "2023-11-04T07:23:25.383Z"
   },
   {
    "duration": 37,
    "start_time": "2023-11-04T07:23:25.411Z"
   },
   {
    "duration": 18,
    "start_time": "2023-11-04T07:23:25.451Z"
   },
   {
    "duration": 8,
    "start_time": "2023-11-04T07:23:25.471Z"
   },
   {
    "duration": 12,
    "start_time": "2023-11-04T07:23:25.481Z"
   },
   {
    "duration": 89,
    "start_time": "2023-11-04T07:23:25.496Z"
   },
   {
    "duration": 16,
    "start_time": "2023-11-04T07:23:25.587Z"
   },
   {
    "duration": 63,
    "start_time": "2023-11-04T07:23:25.605Z"
   },
   {
    "duration": 9,
    "start_time": "2023-11-04T07:23:25.670Z"
   },
   {
    "duration": 14,
    "start_time": "2023-11-04T07:23:25.681Z"
   },
   {
    "duration": 18,
    "start_time": "2023-11-04T07:26:12.670Z"
   },
   {
    "duration": 12,
    "start_time": "2023-11-04T07:26:28.571Z"
   },
   {
    "duration": 14,
    "start_time": "2023-11-04T07:27:10.707Z"
   },
   {
    "duration": 11,
    "start_time": "2023-11-04T07:28:17.436Z"
   },
   {
    "duration": 11,
    "start_time": "2023-11-04T07:28:28.234Z"
   },
   {
    "duration": 62,
    "start_time": "2023-11-04T07:32:26.884Z"
   },
   {
    "duration": 125,
    "start_time": "2023-11-04T07:32:36.397Z"
   },
   {
    "duration": 49,
    "start_time": "2023-11-04T07:32:36.524Z"
   },
   {
    "duration": 6,
    "start_time": "2023-11-04T07:32:36.574Z"
   },
   {
    "duration": 30,
    "start_time": "2023-11-04T07:32:36.582Z"
   },
   {
    "duration": 4,
    "start_time": "2023-11-04T07:32:36.614Z"
   },
   {
    "duration": 29,
    "start_time": "2023-11-04T07:32:36.620Z"
   },
   {
    "duration": 8,
    "start_time": "2023-11-04T07:32:36.651Z"
   },
   {
    "duration": 29,
    "start_time": "2023-11-04T07:32:36.661Z"
   },
   {
    "duration": 109,
    "start_time": "2023-11-04T07:32:36.692Z"
   },
   {
    "duration": 5,
    "start_time": "2023-11-04T07:32:36.804Z"
   },
   {
    "duration": 19,
    "start_time": "2023-11-04T07:32:36.810Z"
   },
   {
    "duration": 31,
    "start_time": "2023-11-04T07:32:36.830Z"
   },
   {
    "duration": 16,
    "start_time": "2023-11-04T07:32:36.863Z"
   },
   {
    "duration": 9,
    "start_time": "2023-11-04T07:32:36.880Z"
   },
   {
    "duration": 31,
    "start_time": "2023-11-04T07:32:36.890Z"
   },
   {
    "duration": 8,
    "start_time": "2023-11-04T07:32:36.923Z"
   },
   {
    "duration": 27,
    "start_time": "2023-11-04T07:32:36.932Z"
   },
   {
    "duration": 46,
    "start_time": "2023-11-04T07:32:36.961Z"
   },
   {
    "duration": 17,
    "start_time": "2023-11-04T07:32:37.009Z"
   },
   {
    "duration": 25,
    "start_time": "2023-11-04T07:32:37.028Z"
   },
   {
    "duration": 27,
    "start_time": "2023-11-04T07:32:37.055Z"
   },
   {
    "duration": 16,
    "start_time": "2023-11-04T07:32:37.084Z"
   },
   {
    "duration": 7,
    "start_time": "2023-11-04T07:32:37.102Z"
   },
   {
    "duration": 21,
    "start_time": "2023-11-04T07:32:37.110Z"
   },
   {
    "duration": 18,
    "start_time": "2023-11-04T07:32:37.133Z"
   },
   {
    "duration": 4,
    "start_time": "2023-11-04T07:32:37.153Z"
   },
   {
    "duration": 9,
    "start_time": "2023-11-04T07:32:37.159Z"
   },
   {
    "duration": 39,
    "start_time": "2023-11-04T07:32:37.172Z"
   },
   {
    "duration": 21,
    "start_time": "2023-11-04T07:32:37.213Z"
   },
   {
    "duration": 28,
    "start_time": "2023-11-04T07:32:37.235Z"
   },
   {
    "duration": 14,
    "start_time": "2023-11-04T07:32:37.264Z"
   },
   {
    "duration": 18,
    "start_time": "2023-11-04T07:32:37.280Z"
   },
   {
    "duration": 11,
    "start_time": "2023-11-04T07:32:37.300Z"
   },
   {
    "duration": 9,
    "start_time": "2023-11-04T07:32:37.313Z"
   },
   {
    "duration": 88,
    "start_time": "2023-11-04T07:32:37.324Z"
   },
   {
    "duration": 20,
    "start_time": "2023-11-04T07:32:37.414Z"
   },
   {
    "duration": 42,
    "start_time": "2023-11-04T07:32:37.447Z"
   },
   {
    "duration": 12,
    "start_time": "2023-11-04T07:32:37.491Z"
   },
   {
    "duration": 15,
    "start_time": "2023-11-04T07:32:37.504Z"
   },
   {
    "duration": 29,
    "start_time": "2023-11-04T07:32:37.521Z"
   },
   {
    "duration": 15,
    "start_time": "2023-11-04T07:32:37.552Z"
   },
   {
    "duration": 5,
    "start_time": "2023-11-04T07:34:34.040Z"
   },
   {
    "duration": 5,
    "start_time": "2023-11-04T07:36:31.895Z"
   },
   {
    "duration": 8,
    "start_time": "2023-11-04T07:38:30.471Z"
   },
   {
    "duration": 7,
    "start_time": "2023-11-04T07:39:12.958Z"
   },
   {
    "duration": 11,
    "start_time": "2023-11-04T07:40:13.178Z"
   },
   {
    "duration": 1391,
    "start_time": "2023-11-04T07:52:03.160Z"
   },
   {
    "duration": 11,
    "start_time": "2023-11-04T07:52:20.654Z"
   },
   {
    "duration": 9,
    "start_time": "2023-11-04T07:52:39.417Z"
   },
   {
    "duration": 35,
    "start_time": "2023-11-04T07:58:20.175Z"
   },
   {
    "duration": 32,
    "start_time": "2023-11-04T07:59:03.648Z"
   },
   {
    "duration": 12,
    "start_time": "2023-11-04T08:00:52.969Z"
   },
   {
    "duration": 33,
    "start_time": "2023-11-04T08:01:33.471Z"
   },
   {
    "duration": 35,
    "start_time": "2023-11-04T08:02:01.757Z"
   },
   {
    "duration": 24,
    "start_time": "2023-11-04T08:02:14.040Z"
   },
   {
    "duration": 24,
    "start_time": "2023-11-04T08:02:18.476Z"
   },
   {
    "duration": 25,
    "start_time": "2023-11-04T08:02:29.016Z"
   },
   {
    "duration": 8,
    "start_time": "2023-11-04T08:07:12.642Z"
   },
   {
    "duration": 734,
    "start_time": "2023-11-04T08:07:20.704Z"
   },
   {
    "duration": 155,
    "start_time": "2023-11-04T08:07:26.288Z"
   },
   {
    "duration": 178,
    "start_time": "2023-11-04T08:07:36.914Z"
   },
   {
    "duration": 35,
    "start_time": "2023-11-04T08:12:01.974Z"
   },
   {
    "duration": 96,
    "start_time": "2023-11-04T08:12:24.525Z"
   },
   {
    "duration": 32,
    "start_time": "2023-11-04T08:12:31.853Z"
   },
   {
    "duration": 13,
    "start_time": "2023-11-04T08:12:44.732Z"
   },
   {
    "duration": 13,
    "start_time": "2023-11-04T08:13:03.777Z"
   },
   {
    "duration": 20,
    "start_time": "2023-11-04T08:14:25.933Z"
   },
   {
    "duration": 73,
    "start_time": "2023-11-04T08:21:38.654Z"
   },
   {
    "duration": 30,
    "start_time": "2023-11-04T08:21:42.205Z"
   },
   {
    "duration": 28,
    "start_time": "2023-11-04T08:22:00.987Z"
   },
   {
    "duration": 27,
    "start_time": "2023-11-04T08:24:28.772Z"
   },
   {
    "duration": 78,
    "start_time": "2023-11-05T07:06:37.060Z"
   },
   {
    "duration": 43,
    "start_time": "2023-11-05T07:06:50.744Z"
   },
   {
    "duration": 617,
    "start_time": "2023-11-05T07:06:57.364Z"
   },
   {
    "duration": 92,
    "start_time": "2023-11-05T07:06:57.983Z"
   },
   {
    "duration": 6,
    "start_time": "2023-11-05T07:06:58.076Z"
   },
   {
    "duration": 37,
    "start_time": "2023-11-05T07:06:58.083Z"
   },
   {
    "duration": 3,
    "start_time": "2023-11-05T07:06:58.123Z"
   },
   {
    "duration": 15,
    "start_time": "2023-11-05T07:06:58.128Z"
   },
   {
    "duration": 7,
    "start_time": "2023-11-05T07:06:58.144Z"
   },
   {
    "duration": 20,
    "start_time": "2023-11-05T07:06:58.153Z"
   },
   {
    "duration": 93,
    "start_time": "2023-11-05T07:06:58.174Z"
   },
   {
    "duration": 5,
    "start_time": "2023-11-05T07:06:58.269Z"
   },
   {
    "duration": 23,
    "start_time": "2023-11-05T07:06:58.275Z"
   },
   {
    "duration": 22,
    "start_time": "2023-11-05T07:06:58.299Z"
   },
   {
    "duration": 13,
    "start_time": "2023-11-05T07:06:58.323Z"
   },
   {
    "duration": 12,
    "start_time": "2023-11-05T07:06:58.345Z"
   },
   {
    "duration": 36,
    "start_time": "2023-11-05T07:06:58.359Z"
   },
   {
    "duration": 13,
    "start_time": "2023-11-05T07:06:58.396Z"
   },
   {
    "duration": 27,
    "start_time": "2023-11-05T07:06:58.410Z"
   },
   {
    "duration": 58,
    "start_time": "2023-11-05T07:06:58.438Z"
   },
   {
    "duration": 6,
    "start_time": "2023-11-05T07:06:58.498Z"
   },
   {
    "duration": 22,
    "start_time": "2023-11-05T07:06:58.506Z"
   },
   {
    "duration": 7,
    "start_time": "2023-11-05T07:06:58.530Z"
   },
   {
    "duration": 13,
    "start_time": "2023-11-05T07:06:58.538Z"
   },
   {
    "duration": 16,
    "start_time": "2023-11-05T07:06:58.553Z"
   },
   {
    "duration": 14,
    "start_time": "2023-11-05T07:06:58.571Z"
   },
   {
    "duration": 24,
    "start_time": "2023-11-05T07:06:58.587Z"
   },
   {
    "duration": 13,
    "start_time": "2023-11-05T07:06:58.613Z"
   },
   {
    "duration": 6,
    "start_time": "2023-11-05T07:06:58.628Z"
   },
   {
    "duration": 28,
    "start_time": "2023-11-05T07:06:58.635Z"
   },
   {
    "duration": 19,
    "start_time": "2023-11-05T07:06:58.664Z"
   },
   {
    "duration": 17,
    "start_time": "2023-11-05T07:06:58.684Z"
   },
   {
    "duration": 18,
    "start_time": "2023-11-05T07:06:58.703Z"
   },
   {
    "duration": 7,
    "start_time": "2023-11-05T07:06:58.723Z"
   },
   {
    "duration": 13,
    "start_time": "2023-11-05T07:06:58.744Z"
   },
   {
    "duration": 15,
    "start_time": "2023-11-05T07:06:58.758Z"
   },
   {
    "duration": 77,
    "start_time": "2023-11-05T07:06:58.775Z"
   },
   {
    "duration": 15,
    "start_time": "2023-11-05T07:06:58.853Z"
   },
   {
    "duration": 36,
    "start_time": "2023-11-05T07:06:58.870Z"
   },
   {
    "duration": 8,
    "start_time": "2023-11-05T07:06:58.908Z"
   },
   {
    "duration": 35,
    "start_time": "2023-11-05T07:06:58.917Z"
   },
   {
    "duration": 14,
    "start_time": "2023-11-05T07:06:58.954Z"
   },
   {
    "duration": 15,
    "start_time": "2023-11-05T07:06:58.971Z"
   },
   {
    "duration": 15,
    "start_time": "2023-11-05T07:06:58.987Z"
   },
   {
    "duration": 10,
    "start_time": "2023-11-05T07:06:59.003Z"
   },
   {
    "duration": 24,
    "start_time": "2023-11-05T07:06:59.015Z"
   },
   {
    "duration": 30,
    "start_time": "2023-11-05T07:06:59.041Z"
   },
   {
    "duration": 50,
    "start_time": "2023-11-05T07:06:59.072Z"
   },
   {
    "duration": 12,
    "start_time": "2023-11-05T07:06:59.123Z"
   },
   {
    "duration": 25,
    "start_time": "2023-11-05T07:06:59.137Z"
   },
   {
    "duration": 29,
    "start_time": "2023-11-05T07:06:59.164Z"
   },
   {
    "duration": 7,
    "start_time": "2023-11-05T07:06:59.195Z"
   },
   {
    "duration": 9,
    "start_time": "2023-11-05T07:07:19.710Z"
   },
   {
    "duration": 550,
    "start_time": "2023-11-05T07:07:30.444Z"
   },
   {
    "duration": 49,
    "start_time": "2023-11-05T07:07:30.996Z"
   },
   {
    "duration": 50,
    "start_time": "2023-11-05T07:07:31.047Z"
   },
   {
    "duration": 154,
    "start_time": "2023-11-05T07:07:31.099Z"
   },
   {
    "duration": 155,
    "start_time": "2023-11-05T07:07:31.255Z"
   },
   {
    "duration": 75,
    "start_time": "2023-11-05T07:07:31.412Z"
   },
   {
    "duration": 33,
    "start_time": "2023-11-05T07:07:31.489Z"
   },
   {
    "duration": 57,
    "start_time": "2023-11-05T07:07:31.523Z"
   },
   {
    "duration": 137,
    "start_time": "2023-11-05T07:07:31.582Z"
   },
   {
    "duration": 4,
    "start_time": "2023-11-05T07:07:31.722Z"
   },
   {
    "duration": 43,
    "start_time": "2023-11-05T07:07:31.728Z"
   },
   {
    "duration": 89,
    "start_time": "2023-11-05T07:07:31.773Z"
   },
   {
    "duration": 167,
    "start_time": "2023-11-05T07:07:31.864Z"
   },
   {
    "duration": 108,
    "start_time": "2023-11-05T07:07:32.033Z"
   },
   {
    "duration": 22,
    "start_time": "2023-11-05T07:07:32.142Z"
   },
   {
    "duration": 13,
    "start_time": "2023-11-05T07:07:32.166Z"
   },
   {
    "duration": 41,
    "start_time": "2023-11-05T07:07:32.181Z"
   },
   {
    "duration": 71,
    "start_time": "2023-11-05T07:07:32.224Z"
   },
   {
    "duration": 22,
    "start_time": "2023-11-05T07:07:32.297Z"
   },
   {
    "duration": 47,
    "start_time": "2023-11-05T07:07:32.320Z"
   },
   {
    "duration": 43,
    "start_time": "2023-11-05T07:07:32.368Z"
   },
   {
    "duration": 28,
    "start_time": "2023-11-05T07:07:32.412Z"
   },
   {
    "duration": 18,
    "start_time": "2023-11-05T07:07:32.442Z"
   },
   {
    "duration": 14,
    "start_time": "2023-11-05T07:07:32.463Z"
   },
   {
    "duration": 23,
    "start_time": "2023-11-05T07:07:32.478Z"
   },
   {
    "duration": 31,
    "start_time": "2023-11-05T07:07:32.503Z"
   },
   {
    "duration": 25,
    "start_time": "2023-11-05T07:07:32.536Z"
   },
   {
    "duration": 40,
    "start_time": "2023-11-05T07:07:32.566Z"
   },
   {
    "duration": 20,
    "start_time": "2023-11-05T07:07:32.608Z"
   },
   {
    "duration": 39,
    "start_time": "2023-11-05T07:07:32.629Z"
   },
   {
    "duration": 17,
    "start_time": "2023-11-05T07:07:32.670Z"
   },
   {
    "duration": 13,
    "start_time": "2023-11-05T07:07:32.689Z"
   },
   {
    "duration": 35,
    "start_time": "2023-11-05T07:07:32.704Z"
   },
   {
    "duration": 20,
    "start_time": "2023-11-05T07:07:32.741Z"
   },
   {
    "duration": 82,
    "start_time": "2023-11-05T07:07:32.762Z"
   },
   {
    "duration": 16,
    "start_time": "2023-11-05T07:07:32.846Z"
   },
   {
    "duration": 57,
    "start_time": "2023-11-05T07:07:32.864Z"
   },
   {
    "duration": 10,
    "start_time": "2023-11-05T07:07:32.923Z"
   },
   {
    "duration": 37,
    "start_time": "2023-11-05T07:07:32.934Z"
   },
   {
    "duration": 37,
    "start_time": "2023-11-05T07:07:32.973Z"
   },
   {
    "duration": 33,
    "start_time": "2023-11-05T07:07:33.011Z"
   },
   {
    "duration": 32,
    "start_time": "2023-11-05T07:07:33.046Z"
   },
   {
    "duration": 11,
    "start_time": "2023-11-05T07:07:33.080Z"
   },
   {
    "duration": 30,
    "start_time": "2023-11-05T07:07:33.093Z"
   },
   {
    "duration": 26,
    "start_time": "2023-11-05T07:07:33.125Z"
   },
   {
    "duration": 35,
    "start_time": "2023-11-05T07:07:33.153Z"
   },
   {
    "duration": 14,
    "start_time": "2023-11-05T07:07:33.190Z"
   },
   {
    "duration": 36,
    "start_time": "2023-11-05T07:07:33.205Z"
   },
   {
    "duration": 29,
    "start_time": "2023-11-05T07:07:33.242Z"
   },
   {
    "duration": 12,
    "start_time": "2023-11-05T07:07:33.273Z"
   },
   {
    "duration": 5,
    "start_time": "2023-11-05T07:08:00.022Z"
   },
   {
    "duration": 5,
    "start_time": "2023-11-05T07:08:44.227Z"
   },
   {
    "duration": 6,
    "start_time": "2023-11-05T07:08:50.551Z"
   },
   {
    "duration": 6,
    "start_time": "2023-11-05T07:09:21.422Z"
   },
   {
    "duration": 111,
    "start_time": "2023-11-05T07:21:19.999Z"
   },
   {
    "duration": 48,
    "start_time": "2023-11-05T07:21:20.112Z"
   },
   {
    "duration": 5,
    "start_time": "2023-11-05T07:21:20.161Z"
   },
   {
    "duration": 32,
    "start_time": "2023-11-05T07:21:20.168Z"
   },
   {
    "duration": 4,
    "start_time": "2023-11-05T07:21:20.203Z"
   },
   {
    "duration": 21,
    "start_time": "2023-11-05T07:21:20.208Z"
   },
   {
    "duration": 14,
    "start_time": "2023-11-05T07:21:20.231Z"
   },
   {
    "duration": 14,
    "start_time": "2023-11-05T07:21:20.246Z"
   },
   {
    "duration": 95,
    "start_time": "2023-11-05T07:21:20.261Z"
   },
   {
    "duration": 5,
    "start_time": "2023-11-05T07:21:20.358Z"
   },
   {
    "duration": 45,
    "start_time": "2023-11-05T07:21:20.364Z"
   },
   {
    "duration": 38,
    "start_time": "2023-11-05T07:21:20.410Z"
   },
   {
    "duration": 24,
    "start_time": "2023-11-05T07:21:20.450Z"
   },
   {
    "duration": 6,
    "start_time": "2023-11-05T07:21:20.477Z"
   },
   {
    "duration": 20,
    "start_time": "2023-11-05T07:21:20.484Z"
   },
   {
    "duration": 7,
    "start_time": "2023-11-05T07:21:20.505Z"
   },
   {
    "duration": 35,
    "start_time": "2023-11-05T07:21:20.513Z"
   },
   {
    "duration": 23,
    "start_time": "2023-11-05T07:21:20.549Z"
   },
   {
    "duration": 7,
    "start_time": "2023-11-05T07:21:20.573Z"
   },
   {
    "duration": 18,
    "start_time": "2023-11-05T07:21:20.581Z"
   },
   {
    "duration": 11,
    "start_time": "2023-11-05T07:21:20.601Z"
   },
   {
    "duration": 19,
    "start_time": "2023-11-05T07:21:20.613Z"
   },
   {
    "duration": 13,
    "start_time": "2023-11-05T07:21:20.633Z"
   },
   {
    "duration": 7,
    "start_time": "2023-11-05T07:21:20.647Z"
   },
   {
    "duration": 11,
    "start_time": "2023-11-05T07:21:20.655Z"
   },
   {
    "duration": 3,
    "start_time": "2023-11-05T07:21:20.668Z"
   },
   {
    "duration": 11,
    "start_time": "2023-11-05T07:21:20.672Z"
   },
   {
    "duration": 33,
    "start_time": "2023-11-05T07:21:20.685Z"
   },
   {
    "duration": 25,
    "start_time": "2023-11-05T07:21:20.719Z"
   },
   {
    "duration": 17,
    "start_time": "2023-11-05T07:21:20.746Z"
   },
   {
    "duration": 9,
    "start_time": "2023-11-05T07:21:20.765Z"
   },
   {
    "duration": 8,
    "start_time": "2023-11-05T07:21:20.775Z"
   },
   {
    "duration": 15,
    "start_time": "2023-11-05T07:21:20.785Z"
   },
   {
    "duration": 15,
    "start_time": "2023-11-05T07:21:20.801Z"
   },
   {
    "duration": 76,
    "start_time": "2023-11-05T07:21:20.818Z"
   },
   {
    "duration": 15,
    "start_time": "2023-11-05T07:21:20.896Z"
   },
   {
    "duration": 61,
    "start_time": "2023-11-05T07:21:20.912Z"
   },
   {
    "duration": 8,
    "start_time": "2023-11-05T07:21:20.974Z"
   },
   {
    "duration": 128,
    "start_time": "2023-11-05T07:21:20.984Z"
   },
   {
    "duration": 33,
    "start_time": "2023-11-05T07:21:21.113Z"
   },
   {
    "duration": 25,
    "start_time": "2023-11-05T07:21:21.149Z"
   },
   {
    "duration": 33,
    "start_time": "2023-11-05T07:21:21.176Z"
   },
   {
    "duration": 19,
    "start_time": "2023-11-05T07:21:21.211Z"
   },
   {
    "duration": 12,
    "start_time": "2023-11-05T07:21:21.232Z"
   },
   {
    "duration": 12,
    "start_time": "2023-11-05T07:21:21.246Z"
   },
   {
    "duration": 23,
    "start_time": "2023-11-05T07:21:21.259Z"
   },
   {
    "duration": 11,
    "start_time": "2023-11-05T07:21:21.284Z"
   },
   {
    "duration": 55,
    "start_time": "2023-11-05T07:21:21.296Z"
   },
   {
    "duration": 31,
    "start_time": "2023-11-05T07:21:21.352Z"
   },
   {
    "duration": 68,
    "start_time": "2023-11-05T07:21:21.384Z"
   },
   {
    "duration": 0,
    "start_time": "2023-11-05T07:21:21.453Z"
   },
   {
    "duration": 103,
    "start_time": "2023-11-05T07:22:16.991Z"
   },
   {
    "duration": 9,
    "start_time": "2023-11-05T07:22:42.469Z"
   },
   {
    "duration": 12,
    "start_time": "2023-11-05T07:22:44.904Z"
   },
   {
    "duration": 11,
    "start_time": "2023-11-05T07:23:19.870Z"
   },
   {
    "duration": 18,
    "start_time": "2023-11-05T07:23:35.422Z"
   },
   {
    "duration": 12,
    "start_time": "2023-11-05T07:29:30.422Z"
   },
   {
    "duration": 114,
    "start_time": "2023-11-05T07:29:36.402Z"
   },
   {
    "duration": 47,
    "start_time": "2023-11-05T07:29:36.518Z"
   },
   {
    "duration": 6,
    "start_time": "2023-11-05T07:29:36.567Z"
   },
   {
    "duration": 65,
    "start_time": "2023-11-05T07:29:36.574Z"
   },
   {
    "duration": 5,
    "start_time": "2023-11-05T07:29:36.642Z"
   },
   {
    "duration": 20,
    "start_time": "2023-11-05T07:29:36.649Z"
   },
   {
    "duration": 6,
    "start_time": "2023-11-05T07:29:36.670Z"
   },
   {
    "duration": 11,
    "start_time": "2023-11-05T07:29:36.677Z"
   },
   {
    "duration": 101,
    "start_time": "2023-11-05T07:29:36.690Z"
   },
   {
    "duration": 5,
    "start_time": "2023-11-05T07:29:36.792Z"
   },
   {
    "duration": 10,
    "start_time": "2023-11-05T07:29:36.798Z"
   },
   {
    "duration": 20,
    "start_time": "2023-11-05T07:29:36.810Z"
   },
   {
    "duration": 20,
    "start_time": "2023-11-05T07:29:36.844Z"
   },
   {
    "duration": 19,
    "start_time": "2023-11-05T07:29:36.867Z"
   },
   {
    "duration": 16,
    "start_time": "2023-11-05T07:29:36.888Z"
   },
   {
    "duration": 7,
    "start_time": "2023-11-05T07:29:36.905Z"
   },
   {
    "duration": 21,
    "start_time": "2023-11-05T07:29:36.914Z"
   },
   {
    "duration": 23,
    "start_time": "2023-11-05T07:29:36.937Z"
   },
   {
    "duration": 7,
    "start_time": "2023-11-05T07:29:36.961Z"
   },
   {
    "duration": 21,
    "start_time": "2023-11-05T07:29:36.969Z"
   },
   {
    "duration": 4,
    "start_time": "2023-11-05T07:29:36.991Z"
   },
   {
    "duration": 9,
    "start_time": "2023-11-05T07:29:36.996Z"
   },
   {
    "duration": 38,
    "start_time": "2023-11-05T07:29:37.006Z"
   },
   {
    "duration": 4,
    "start_time": "2023-11-05T07:29:37.045Z"
   },
   {
    "duration": 15,
    "start_time": "2023-11-05T07:29:37.051Z"
   },
   {
    "duration": 11,
    "start_time": "2023-11-05T07:29:37.068Z"
   },
   {
    "duration": 5,
    "start_time": "2023-11-05T07:29:37.081Z"
   },
   {
    "duration": 25,
    "start_time": "2023-11-05T07:29:37.088Z"
   },
   {
    "duration": 29,
    "start_time": "2023-11-05T07:29:37.115Z"
   },
   {
    "duration": 18,
    "start_time": "2023-11-05T07:29:37.146Z"
   },
   {
    "duration": 26,
    "start_time": "2023-11-05T07:29:37.166Z"
   },
   {
    "duration": 13,
    "start_time": "2023-11-05T07:29:37.194Z"
   },
   {
    "duration": 11,
    "start_time": "2023-11-05T07:29:37.208Z"
   },
   {
    "duration": 11,
    "start_time": "2023-11-05T07:29:37.220Z"
   },
   {
    "duration": 65,
    "start_time": "2023-11-05T07:29:37.233Z"
   },
   {
    "duration": 15,
    "start_time": "2023-11-05T07:29:37.300Z"
   },
   {
    "duration": 57,
    "start_time": "2023-11-05T07:29:37.316Z"
   },
   {
    "duration": 8,
    "start_time": "2023-11-05T07:29:37.375Z"
   },
   {
    "duration": 9,
    "start_time": "2023-11-05T07:29:37.385Z"
   },
   {
    "duration": 10,
    "start_time": "2023-11-05T07:29:37.395Z"
   },
   {
    "duration": 35,
    "start_time": "2023-11-05T07:29:37.409Z"
   },
   {
    "duration": 6,
    "start_time": "2023-11-05T07:29:37.446Z"
   },
   {
    "duration": 6,
    "start_time": "2023-11-05T07:29:37.453Z"
   },
   {
    "duration": 8,
    "start_time": "2023-11-05T07:29:37.461Z"
   },
   {
    "duration": 10,
    "start_time": "2023-11-05T07:29:37.471Z"
   },
   {
    "duration": 38,
    "start_time": "2023-11-05T07:29:37.483Z"
   },
   {
    "duration": 28,
    "start_time": "2023-11-05T07:29:37.523Z"
   },
   {
    "duration": 23,
    "start_time": "2023-11-05T07:29:37.553Z"
   },
   {
    "duration": 20,
    "start_time": "2023-11-05T07:29:37.577Z"
   },
   {
    "duration": 27,
    "start_time": "2023-11-05T07:29:37.599Z"
   },
   {
    "duration": 21,
    "start_time": "2023-11-05T07:29:37.627Z"
   },
   {
    "duration": 14,
    "start_time": "2023-11-05T07:30:13.985Z"
   },
   {
    "duration": 108,
    "start_time": "2023-11-05T07:30:19.299Z"
   },
   {
    "duration": 49,
    "start_time": "2023-11-05T07:30:19.409Z"
   },
   {
    "duration": 6,
    "start_time": "2023-11-05T07:30:19.460Z"
   },
   {
    "duration": 49,
    "start_time": "2023-11-05T07:30:19.468Z"
   },
   {
    "duration": 9,
    "start_time": "2023-11-05T07:30:19.520Z"
   },
   {
    "duration": 41,
    "start_time": "2023-11-05T07:30:19.531Z"
   },
   {
    "duration": 5,
    "start_time": "2023-11-05T07:30:19.574Z"
   },
   {
    "duration": 38,
    "start_time": "2023-11-05T07:30:19.580Z"
   },
   {
    "duration": 95,
    "start_time": "2023-11-05T07:30:19.620Z"
   },
   {
    "duration": 5,
    "start_time": "2023-11-05T07:30:19.717Z"
   },
   {
    "duration": 46,
    "start_time": "2023-11-05T07:30:19.725Z"
   },
   {
    "duration": 37,
    "start_time": "2023-11-05T07:30:19.773Z"
   },
   {
    "duration": 32,
    "start_time": "2023-11-05T07:30:19.812Z"
   },
   {
    "duration": 39,
    "start_time": "2023-11-05T07:30:19.849Z"
   },
   {
    "duration": 16,
    "start_time": "2023-11-05T07:30:19.889Z"
   },
   {
    "duration": 16,
    "start_time": "2023-11-05T07:30:19.907Z"
   },
   {
    "duration": 32,
    "start_time": "2023-11-05T07:30:19.924Z"
   },
   {
    "duration": 34,
    "start_time": "2023-11-05T07:30:19.957Z"
   },
   {
    "duration": 40,
    "start_time": "2023-11-05T07:30:19.993Z"
   },
   {
    "duration": 61,
    "start_time": "2023-11-05T07:30:20.035Z"
   },
   {
    "duration": 37,
    "start_time": "2023-11-05T07:30:20.098Z"
   },
   {
    "duration": 35,
    "start_time": "2023-11-05T07:30:20.138Z"
   },
   {
    "duration": 24,
    "start_time": "2023-11-05T07:30:20.174Z"
   },
   {
    "duration": 43,
    "start_time": "2023-11-05T07:30:20.200Z"
   },
   {
    "duration": 13,
    "start_time": "2023-11-05T07:30:20.244Z"
   },
   {
    "duration": 16,
    "start_time": "2023-11-05T07:30:20.258Z"
   },
   {
    "duration": 22,
    "start_time": "2023-11-05T07:30:20.276Z"
   },
   {
    "duration": 26,
    "start_time": "2023-11-05T07:30:20.299Z"
   },
   {
    "duration": 23,
    "start_time": "2023-11-05T07:30:20.327Z"
   },
   {
    "duration": 54,
    "start_time": "2023-11-05T07:30:20.351Z"
   },
   {
    "duration": 23,
    "start_time": "2023-11-05T07:30:20.407Z"
   },
   {
    "duration": 19,
    "start_time": "2023-11-05T07:30:20.432Z"
   },
   {
    "duration": 19,
    "start_time": "2023-11-05T07:30:20.453Z"
   },
   {
    "duration": 34,
    "start_time": "2023-11-05T07:30:20.474Z"
   },
   {
    "duration": 95,
    "start_time": "2023-11-05T07:30:20.510Z"
   },
   {
    "duration": 17,
    "start_time": "2023-11-05T07:30:20.607Z"
   },
   {
    "duration": 51,
    "start_time": "2023-11-05T07:30:20.625Z"
   },
   {
    "duration": 9,
    "start_time": "2023-11-05T07:30:20.678Z"
   },
   {
    "duration": 36,
    "start_time": "2023-11-05T07:30:20.689Z"
   },
   {
    "duration": 28,
    "start_time": "2023-11-05T07:30:20.726Z"
   },
   {
    "duration": 14,
    "start_time": "2023-11-05T07:30:20.758Z"
   },
   {
    "duration": 18,
    "start_time": "2023-11-05T07:30:20.774Z"
   },
   {
    "duration": 16,
    "start_time": "2023-11-05T07:30:20.793Z"
   },
   {
    "duration": 19,
    "start_time": "2023-11-05T07:30:20.810Z"
   },
   {
    "duration": 10,
    "start_time": "2023-11-05T07:30:20.830Z"
   },
   {
    "duration": 30,
    "start_time": "2023-11-05T07:30:20.842Z"
   },
   {
    "duration": 55,
    "start_time": "2023-11-05T07:30:20.873Z"
   },
   {
    "duration": 14,
    "start_time": "2023-11-05T07:30:20.930Z"
   },
   {
    "duration": 19,
    "start_time": "2023-11-05T07:30:20.945Z"
   },
   {
    "duration": 27,
    "start_time": "2023-11-05T07:30:20.965Z"
   },
   {
    "duration": 7,
    "start_time": "2023-11-05T07:30:20.993Z"
   },
   {
    "duration": 14,
    "start_time": "2023-11-05T07:30:50.826Z"
   },
   {
    "duration": 122,
    "start_time": "2023-11-05T07:30:56.374Z"
   },
   {
    "duration": 48,
    "start_time": "2023-11-05T07:30:56.498Z"
   },
   {
    "duration": 5,
    "start_time": "2023-11-05T07:30:56.548Z"
   },
   {
    "duration": 36,
    "start_time": "2023-11-05T07:30:56.554Z"
   },
   {
    "duration": 4,
    "start_time": "2023-11-05T07:30:56.592Z"
   },
   {
    "duration": 29,
    "start_time": "2023-11-05T07:30:56.597Z"
   },
   {
    "duration": 4,
    "start_time": "2023-11-05T07:30:56.628Z"
   },
   {
    "duration": 12,
    "start_time": "2023-11-05T07:30:56.634Z"
   },
   {
    "duration": 103,
    "start_time": "2023-11-05T07:30:56.648Z"
   },
   {
    "duration": 5,
    "start_time": "2023-11-05T07:30:56.753Z"
   },
   {
    "duration": 29,
    "start_time": "2023-11-05T07:30:56.759Z"
   },
   {
    "duration": 43,
    "start_time": "2023-11-05T07:30:56.789Z"
   },
   {
    "duration": 16,
    "start_time": "2023-11-05T07:30:56.834Z"
   },
   {
    "duration": 20,
    "start_time": "2023-11-05T07:30:56.854Z"
   },
   {
    "duration": 19,
    "start_time": "2023-11-05T07:30:56.875Z"
   },
   {
    "duration": 28,
    "start_time": "2023-11-05T07:30:56.896Z"
   },
   {
    "duration": 29,
    "start_time": "2023-11-05T07:30:56.925Z"
   },
   {
    "duration": 42,
    "start_time": "2023-11-05T07:30:56.955Z"
   },
   {
    "duration": 7,
    "start_time": "2023-11-05T07:30:56.999Z"
   },
   {
    "duration": 30,
    "start_time": "2023-11-05T07:30:57.007Z"
   },
   {
    "duration": 5,
    "start_time": "2023-11-05T07:30:57.039Z"
   },
   {
    "duration": 38,
    "start_time": "2023-11-05T07:30:57.045Z"
   },
   {
    "duration": 21,
    "start_time": "2023-11-05T07:30:57.084Z"
   },
   {
    "duration": 39,
    "start_time": "2023-11-05T07:30:57.107Z"
   },
   {
    "duration": 21,
    "start_time": "2023-11-05T07:30:57.147Z"
   },
   {
    "duration": 7,
    "start_time": "2023-11-05T07:30:57.170Z"
   },
   {
    "duration": 23,
    "start_time": "2023-11-05T07:30:57.179Z"
   },
   {
    "duration": 34,
    "start_time": "2023-11-05T07:30:57.203Z"
   },
   {
    "duration": 20,
    "start_time": "2023-11-05T07:30:57.239Z"
   },
   {
    "duration": 43,
    "start_time": "2023-11-05T07:30:57.261Z"
   },
   {
    "duration": 13,
    "start_time": "2023-11-05T07:30:57.306Z"
   },
   {
    "duration": 7,
    "start_time": "2023-11-05T07:30:57.321Z"
   },
   {
    "duration": 15,
    "start_time": "2023-11-05T07:30:57.329Z"
   },
   {
    "duration": 36,
    "start_time": "2023-11-05T07:30:57.345Z"
   },
   {
    "duration": 81,
    "start_time": "2023-11-05T07:30:57.382Z"
   },
   {
    "duration": 15,
    "start_time": "2023-11-05T07:30:57.464Z"
   },
   {
    "duration": 58,
    "start_time": "2023-11-05T07:30:57.481Z"
   },
   {
    "duration": 8,
    "start_time": "2023-11-05T07:30:57.541Z"
   },
   {
    "duration": 20,
    "start_time": "2023-11-05T07:30:57.550Z"
   },
   {
    "duration": 14,
    "start_time": "2023-11-05T07:30:57.571Z"
   },
   {
    "duration": 10,
    "start_time": "2023-11-05T07:30:57.588Z"
   },
   {
    "duration": 5,
    "start_time": "2023-11-05T07:30:57.600Z"
   },
   {
    "duration": 8,
    "start_time": "2023-11-05T07:30:57.607Z"
   },
   {
    "duration": 40,
    "start_time": "2023-11-05T07:30:57.616Z"
   },
   {
    "duration": 24,
    "start_time": "2023-11-05T07:30:57.658Z"
   },
   {
    "duration": 41,
    "start_time": "2023-11-05T07:30:57.684Z"
   },
   {
    "duration": 24,
    "start_time": "2023-11-05T07:30:57.727Z"
   },
   {
    "duration": 21,
    "start_time": "2023-11-05T07:30:57.753Z"
   },
   {
    "duration": 24,
    "start_time": "2023-11-05T07:30:57.776Z"
   },
   {
    "duration": 25,
    "start_time": "2023-11-05T07:30:57.802Z"
   },
   {
    "duration": 27,
    "start_time": "2023-11-05T07:30:57.829Z"
   },
   {
    "duration": 12,
    "start_time": "2023-11-05T07:31:35.743Z"
   },
   {
    "duration": 109,
    "start_time": "2023-11-05T07:36:57.973Z"
   },
   {
    "duration": 47,
    "start_time": "2023-11-05T07:36:58.084Z"
   },
   {
    "duration": 4,
    "start_time": "2023-11-05T07:36:58.133Z"
   },
   {
    "duration": 33,
    "start_time": "2023-11-05T07:36:58.139Z"
   },
   {
    "duration": 5,
    "start_time": "2023-11-05T07:37:02.866Z"
   },
   {
    "duration": 27,
    "start_time": "2023-11-05T07:37:02.873Z"
   },
   {
    "duration": 5,
    "start_time": "2023-11-05T07:37:02.901Z"
   },
   {
    "duration": 42,
    "start_time": "2023-11-05T07:37:02.907Z"
   },
   {
    "duration": 88,
    "start_time": "2023-11-05T07:37:04.252Z"
   },
   {
    "duration": 5,
    "start_time": "2023-11-05T07:37:04.344Z"
   },
   {
    "duration": 13,
    "start_time": "2023-11-05T07:37:04.350Z"
   },
   {
    "duration": 21,
    "start_time": "2023-11-05T07:37:04.365Z"
   },
   {
    "duration": 13,
    "start_time": "2023-11-05T07:37:04.389Z"
   },
   {
    "duration": 18,
    "start_time": "2023-11-05T07:37:04.404Z"
   },
   {
    "duration": 34,
    "start_time": "2023-11-05T07:37:04.424Z"
   },
   {
    "duration": 16,
    "start_time": "2023-11-05T07:37:04.460Z"
   },
   {
    "duration": 27,
    "start_time": "2023-11-05T07:37:04.478Z"
   },
   {
    "duration": 48,
    "start_time": "2023-11-05T07:37:04.507Z"
   },
   {
    "duration": 9,
    "start_time": "2023-11-05T07:37:04.558Z"
   },
   {
    "duration": 25,
    "start_time": "2023-11-05T07:37:04.569Z"
   },
   {
    "duration": 6,
    "start_time": "2023-11-05T07:37:04.596Z"
   },
   {
    "duration": 9,
    "start_time": "2023-11-05T07:37:04.849Z"
   },
   {
    "duration": 15,
    "start_time": "2023-11-05T07:37:04.860Z"
   },
   {
    "duration": 21,
    "start_time": "2023-11-05T07:37:04.877Z"
   },
   {
    "duration": 15,
    "start_time": "2023-11-05T07:37:04.900Z"
   },
   {
    "duration": 7,
    "start_time": "2023-11-05T07:37:04.917Z"
   },
   {
    "duration": 5,
    "start_time": "2023-11-05T07:37:04.925Z"
   },
   {
    "duration": 32,
    "start_time": "2023-11-05T07:37:04.932Z"
   },
   {
    "duration": 22,
    "start_time": "2023-11-05T07:37:04.966Z"
   },
   {
    "duration": 28,
    "start_time": "2023-11-05T07:37:04.990Z"
   },
   {
    "duration": 18,
    "start_time": "2023-11-05T07:37:05.020Z"
   },
   {
    "duration": 21,
    "start_time": "2023-11-05T07:37:05.044Z"
   },
   {
    "duration": 23,
    "start_time": "2023-11-05T07:37:05.067Z"
   },
   {
    "duration": 26,
    "start_time": "2023-11-05T07:37:05.092Z"
   },
   {
    "duration": 67,
    "start_time": "2023-11-05T07:37:05.121Z"
   },
   {
    "duration": 15,
    "start_time": "2023-11-05T07:37:05.189Z"
   },
   {
    "duration": 49,
    "start_time": "2023-11-05T07:37:05.206Z"
   },
   {
    "duration": 9,
    "start_time": "2023-11-05T07:37:05.256Z"
   },
   {
    "duration": 11,
    "start_time": "2023-11-05T07:37:05.267Z"
   },
   {
    "duration": 12,
    "start_time": "2023-11-05T07:37:05.279Z"
   },
   {
    "duration": 24,
    "start_time": "2023-11-05T07:37:05.292Z"
   },
   {
    "duration": 8,
    "start_time": "2023-11-05T07:37:05.318Z"
   },
   {
    "duration": 20,
    "start_time": "2023-11-05T07:37:05.327Z"
   },
   {
    "duration": 14,
    "start_time": "2023-11-05T07:37:05.349Z"
   },
   {
    "duration": 16,
    "start_time": "2023-11-05T07:37:05.365Z"
   },
   {
    "duration": 26,
    "start_time": "2023-11-05T07:37:05.382Z"
   },
   {
    "duration": 307,
    "start_time": "2023-11-05T07:37:05.409Z"
   },
   {
    "duration": 0,
    "start_time": "2023-11-05T07:37:05.718Z"
   },
   {
    "duration": 0,
    "start_time": "2023-11-05T07:37:05.720Z"
   },
   {
    "duration": 0,
    "start_time": "2023-11-05T07:37:05.721Z"
   },
   {
    "duration": 0,
    "start_time": "2023-11-05T07:37:05.722Z"
   },
   {
    "duration": 6,
    "start_time": "2023-11-05T07:37:37.565Z"
   },
   {
    "duration": 116,
    "start_time": "2023-11-05T07:37:49.198Z"
   },
   {
    "duration": 48,
    "start_time": "2023-11-05T07:37:49.316Z"
   },
   {
    "duration": 5,
    "start_time": "2023-11-05T07:37:49.365Z"
   },
   {
    "duration": 27,
    "start_time": "2023-11-05T07:37:49.372Z"
   },
   {
    "duration": 6,
    "start_time": "2023-11-05T07:37:49.677Z"
   },
   {
    "duration": 45,
    "start_time": "2023-11-05T07:37:49.685Z"
   },
   {
    "duration": 36,
    "start_time": "2023-11-05T07:37:49.732Z"
   },
   {
    "duration": 38,
    "start_time": "2023-11-05T07:37:49.770Z"
   },
   {
    "duration": 90,
    "start_time": "2023-11-05T07:37:50.719Z"
   },
   {
    "duration": 6,
    "start_time": "2023-11-05T07:37:50.811Z"
   },
   {
    "duration": 18,
    "start_time": "2023-11-05T07:37:50.818Z"
   },
   {
    "duration": 26,
    "start_time": "2023-11-05T07:37:50.838Z"
   },
   {
    "duration": 16,
    "start_time": "2023-11-05T07:37:50.867Z"
   },
   {
    "duration": 8,
    "start_time": "2023-11-05T07:37:50.884Z"
   },
   {
    "duration": 17,
    "start_time": "2023-11-05T07:37:50.893Z"
   },
   {
    "duration": 6,
    "start_time": "2023-11-05T07:37:50.912Z"
   },
   {
    "duration": 19,
    "start_time": "2023-11-05T07:37:51.366Z"
   },
   {
    "duration": 38,
    "start_time": "2023-11-05T07:37:51.387Z"
   },
   {
    "duration": 42,
    "start_time": "2023-11-05T07:37:51.426Z"
   },
   {
    "duration": 23,
    "start_time": "2023-11-05T07:37:51.469Z"
   },
   {
    "duration": 11,
    "start_time": "2023-11-05T07:37:51.494Z"
   },
   {
    "duration": 34,
    "start_time": "2023-11-05T07:37:51.506Z"
   },
   {
    "duration": 14,
    "start_time": "2023-11-05T07:37:51.542Z"
   },
   {
    "duration": 18,
    "start_time": "2023-11-05T07:37:51.558Z"
   },
   {
    "duration": 28,
    "start_time": "2023-11-05T07:37:51.577Z"
   },
   {
    "duration": 16,
    "start_time": "2023-11-05T07:37:51.607Z"
   },
   {
    "duration": 15,
    "start_time": "2023-11-05T07:37:51.625Z"
   },
   {
    "duration": 27,
    "start_time": "2023-11-05T07:37:51.641Z"
   },
   {
    "duration": 20,
    "start_time": "2023-11-05T07:37:51.833Z"
   },
   {
    "duration": 46,
    "start_time": "2023-11-05T07:37:51.854Z"
   },
   {
    "duration": 41,
    "start_time": "2023-11-05T07:37:51.902Z"
   },
   {
    "duration": 13,
    "start_time": "2023-11-05T07:37:51.945Z"
   },
   {
    "duration": 15,
    "start_time": "2023-11-05T07:37:51.960Z"
   },
   {
    "duration": 19,
    "start_time": "2023-11-05T07:37:51.976Z"
   },
   {
    "duration": 80,
    "start_time": "2023-11-05T07:37:51.997Z"
   },
   {
    "duration": 14,
    "start_time": "2023-11-05T07:37:52.079Z"
   },
   {
    "duration": 40,
    "start_time": "2023-11-05T07:37:52.094Z"
   },
   {
    "duration": 16,
    "start_time": "2023-11-05T07:37:52.136Z"
   },
   {
    "duration": 11,
    "start_time": "2023-11-05T07:37:52.271Z"
   },
   {
    "duration": 56,
    "start_time": "2023-11-05T07:37:52.284Z"
   },
   {
    "duration": 22,
    "start_time": "2023-11-05T07:37:52.341Z"
   },
   {
    "duration": 17,
    "start_time": "2023-11-05T07:37:52.365Z"
   },
   {
    "duration": 16,
    "start_time": "2023-11-05T07:37:52.384Z"
   },
   {
    "duration": 22,
    "start_time": "2023-11-05T07:37:52.401Z"
   },
   {
    "duration": 9,
    "start_time": "2023-11-05T07:37:52.469Z"
   },
   {
    "duration": 34,
    "start_time": "2023-11-05T07:37:52.480Z"
   },
   {
    "duration": 6,
    "start_time": "2023-11-05T07:37:52.516Z"
   },
   {
    "duration": 31,
    "start_time": "2023-11-05T07:37:52.524Z"
   },
   {
    "duration": 20,
    "start_time": "2023-11-05T07:37:52.557Z"
   },
   {
    "duration": 52,
    "start_time": "2023-11-05T07:37:52.579Z"
   },
   {
    "duration": 9,
    "start_time": "2023-11-05T07:37:52.633Z"
   },
   {
    "duration": 14,
    "start_time": "2023-11-05T07:38:37.917Z"
   },
   {
    "duration": 115,
    "start_time": "2023-11-05T07:38:42.557Z"
   },
   {
    "duration": 49,
    "start_time": "2023-11-05T07:38:42.673Z"
   },
   {
    "duration": 5,
    "start_time": "2023-11-05T07:38:42.723Z"
   },
   {
    "duration": 36,
    "start_time": "2023-11-05T07:38:42.729Z"
   },
   {
    "duration": 6,
    "start_time": "2023-11-05T07:38:42.767Z"
   },
   {
    "duration": 20,
    "start_time": "2023-11-05T07:38:42.775Z"
   },
   {
    "duration": 15,
    "start_time": "2023-11-05T07:38:42.797Z"
   },
   {
    "duration": 7,
    "start_time": "2023-11-05T07:38:42.814Z"
   },
   {
    "duration": 134,
    "start_time": "2023-11-05T07:38:42.823Z"
   },
   {
    "duration": 6,
    "start_time": "2023-11-05T07:38:42.959Z"
   },
   {
    "duration": 21,
    "start_time": "2023-11-05T07:38:42.967Z"
   },
   {
    "duration": 22,
    "start_time": "2023-11-05T07:38:42.990Z"
   },
   {
    "duration": 9,
    "start_time": "2023-11-05T07:38:43.014Z"
   },
   {
    "duration": 8,
    "start_time": "2023-11-05T07:38:43.044Z"
   },
   {
    "duration": 24,
    "start_time": "2023-11-05T07:38:43.054Z"
   },
   {
    "duration": 7,
    "start_time": "2023-11-05T07:38:43.080Z"
   },
   {
    "duration": 25,
    "start_time": "2023-11-05T07:38:43.088Z"
   },
   {
    "duration": 30,
    "start_time": "2023-11-05T07:38:43.114Z"
   },
   {
    "duration": 7,
    "start_time": "2023-11-05T07:38:43.146Z"
   },
   {
    "duration": 28,
    "start_time": "2023-11-05T07:38:43.155Z"
   },
   {
    "duration": 21,
    "start_time": "2023-11-05T07:38:43.184Z"
   },
   {
    "duration": 18,
    "start_time": "2023-11-05T07:38:43.207Z"
   },
   {
    "duration": 13,
    "start_time": "2023-11-05T07:38:43.227Z"
   },
   {
    "duration": 21,
    "start_time": "2023-11-05T07:38:43.242Z"
   },
   {
    "duration": 19,
    "start_time": "2023-11-05T07:38:43.265Z"
   },
   {
    "duration": 6,
    "start_time": "2023-11-05T07:38:43.286Z"
   },
   {
    "duration": 9,
    "start_time": "2023-11-05T07:38:43.294Z"
   },
   {
    "duration": 29,
    "start_time": "2023-11-05T07:38:43.304Z"
   },
   {
    "duration": 20,
    "start_time": "2023-11-05T07:38:43.335Z"
   },
   {
    "duration": 34,
    "start_time": "2023-11-05T07:38:43.356Z"
   },
   {
    "duration": 11,
    "start_time": "2023-11-05T07:38:43.392Z"
   },
   {
    "duration": 17,
    "start_time": "2023-11-05T07:38:43.404Z"
   },
   {
    "duration": 37,
    "start_time": "2023-11-05T07:38:43.423Z"
   },
   {
    "duration": 18,
    "start_time": "2023-11-05T07:38:43.462Z"
   },
   {
    "duration": 68,
    "start_time": "2023-11-05T07:38:43.482Z"
   },
   {
    "duration": 15,
    "start_time": "2023-11-05T07:38:43.551Z"
   },
   {
    "duration": 33,
    "start_time": "2023-11-05T07:38:43.568Z"
   },
   {
    "duration": 9,
    "start_time": "2023-11-05T07:38:43.603Z"
   },
   {
    "duration": 36,
    "start_time": "2023-11-05T07:38:43.614Z"
   },
   {
    "duration": 21,
    "start_time": "2023-11-05T07:38:43.652Z"
   },
   {
    "duration": 13,
    "start_time": "2023-11-05T07:38:43.677Z"
   },
   {
    "duration": 4,
    "start_time": "2023-11-05T07:38:43.692Z"
   },
   {
    "duration": 8,
    "start_time": "2023-11-05T07:38:43.698Z"
   },
   {
    "duration": 9,
    "start_time": "2023-11-05T07:38:43.708Z"
   },
   {
    "duration": 33,
    "start_time": "2023-11-05T07:38:43.719Z"
   },
   {
    "duration": 29,
    "start_time": "2023-11-05T07:38:43.754Z"
   },
   {
    "duration": 18,
    "start_time": "2023-11-05T07:38:43.786Z"
   },
   {
    "duration": 15,
    "start_time": "2023-11-05T07:38:43.806Z"
   },
   {
    "duration": 25,
    "start_time": "2023-11-05T07:38:43.844Z"
   },
   {
    "duration": 23,
    "start_time": "2023-11-05T07:38:43.871Z"
   },
   {
    "duration": 8,
    "start_time": "2023-11-05T07:38:43.895Z"
   },
   {
    "duration": 7,
    "start_time": "2023-11-05T07:47:37.104Z"
   },
   {
    "duration": 12,
    "start_time": "2023-11-05T07:47:58.040Z"
   },
   {
    "duration": 26,
    "start_time": "2023-11-05T07:50:45.427Z"
   },
   {
    "duration": 4,
    "start_time": "2023-11-05T07:55:03.379Z"
   },
   {
    "duration": 15,
    "start_time": "2023-11-05T08:06:37.416Z"
   },
   {
    "duration": 41,
    "start_time": "2023-11-05T08:06:44.606Z"
   },
   {
    "duration": 27,
    "start_time": "2023-11-05T08:08:25.589Z"
   },
   {
    "duration": 42,
    "start_time": "2023-11-05T08:08:55.126Z"
   },
   {
    "duration": 43,
    "start_time": "2023-11-05T08:09:10.557Z"
   },
   {
    "duration": 117,
    "start_time": "2023-11-05T08:09:53.843Z"
   },
   {
    "duration": 28,
    "start_time": "2023-11-05T08:10:20.944Z"
   },
   {
    "duration": 22,
    "start_time": "2023-11-05T08:13:35.519Z"
   },
   {
    "duration": 25,
    "start_time": "2023-11-05T08:18:10.683Z"
   },
   {
    "duration": 19,
    "start_time": "2023-11-05T08:18:57.680Z"
   },
   {
    "duration": 16,
    "start_time": "2023-11-05T08:19:37.591Z"
   },
   {
    "duration": 108,
    "start_time": "2023-11-05T08:19:42.599Z"
   },
   {
    "duration": 50,
    "start_time": "2023-11-05T08:19:42.709Z"
   },
   {
    "duration": 5,
    "start_time": "2023-11-05T08:19:42.760Z"
   },
   {
    "duration": 40,
    "start_time": "2023-11-05T08:19:42.767Z"
   },
   {
    "duration": 5,
    "start_time": "2023-11-05T08:19:42.810Z"
   },
   {
    "duration": 42,
    "start_time": "2023-11-05T08:19:42.816Z"
   },
   {
    "duration": 17,
    "start_time": "2023-11-05T08:19:42.859Z"
   },
   {
    "duration": 26,
    "start_time": "2023-11-05T08:19:42.878Z"
   },
   {
    "duration": 106,
    "start_time": "2023-11-05T08:19:42.906Z"
   },
   {
    "duration": 5,
    "start_time": "2023-11-05T08:19:43.014Z"
   },
   {
    "duration": 24,
    "start_time": "2023-11-05T08:19:43.021Z"
   },
   {
    "duration": 33,
    "start_time": "2023-11-05T08:19:43.046Z"
   },
   {
    "duration": 16,
    "start_time": "2023-11-05T08:19:43.081Z"
   },
   {
    "duration": 17,
    "start_time": "2023-11-05T08:19:43.100Z"
   },
   {
    "duration": 35,
    "start_time": "2023-11-05T08:19:43.119Z"
   },
   {
    "duration": 17,
    "start_time": "2023-11-05T08:19:43.156Z"
   },
   {
    "duration": 37,
    "start_time": "2023-11-05T08:19:43.175Z"
   },
   {
    "duration": 33,
    "start_time": "2023-11-05T08:19:43.214Z"
   },
   {
    "duration": 22,
    "start_time": "2023-11-05T08:19:43.248Z"
   },
   {
    "duration": 26,
    "start_time": "2023-11-05T08:19:43.271Z"
   },
   {
    "duration": 14,
    "start_time": "2023-11-05T08:19:43.298Z"
   },
   {
    "duration": 13,
    "start_time": "2023-11-05T08:19:43.313Z"
   },
   {
    "duration": 7,
    "start_time": "2023-11-05T08:19:43.328Z"
   },
   {
    "duration": 6,
    "start_time": "2023-11-05T08:19:43.337Z"
   },
   {
    "duration": 17,
    "start_time": "2023-11-05T08:19:43.344Z"
   },
   {
    "duration": 7,
    "start_time": "2023-11-05T08:19:43.362Z"
   },
   {
    "duration": 17,
    "start_time": "2023-11-05T08:19:43.371Z"
   },
   {
    "duration": 37,
    "start_time": "2023-11-05T08:19:43.390Z"
   },
   {
    "duration": 18,
    "start_time": "2023-11-05T08:19:43.429Z"
   },
   {
    "duration": 18,
    "start_time": "2023-11-05T08:19:43.449Z"
   },
   {
    "duration": 21,
    "start_time": "2023-11-05T08:19:43.468Z"
   },
   {
    "duration": 16,
    "start_time": "2023-11-05T08:19:43.491Z"
   },
   {
    "duration": 7,
    "start_time": "2023-11-05T08:19:43.508Z"
   },
   {
    "duration": 10,
    "start_time": "2023-11-05T08:19:43.516Z"
   },
   {
    "duration": 65,
    "start_time": "2023-11-05T08:19:43.528Z"
   },
   {
    "duration": 14,
    "start_time": "2023-11-05T08:19:43.594Z"
   },
   {
    "duration": 48,
    "start_time": "2023-11-05T08:19:43.610Z"
   },
   {
    "duration": 8,
    "start_time": "2023-11-05T08:19:43.660Z"
   },
   {
    "duration": 18,
    "start_time": "2023-11-05T08:19:43.670Z"
   },
   {
    "duration": 8,
    "start_time": "2023-11-05T08:19:43.689Z"
   },
   {
    "duration": 23,
    "start_time": "2023-11-05T08:19:43.702Z"
   },
   {
    "duration": 20,
    "start_time": "2023-11-05T08:19:43.727Z"
   },
   {
    "duration": 14,
    "start_time": "2023-11-05T08:19:43.749Z"
   },
   {
    "duration": 12,
    "start_time": "2023-11-05T08:19:43.766Z"
   },
   {
    "duration": 17,
    "start_time": "2023-11-05T08:19:43.781Z"
   },
   {
    "duration": 38,
    "start_time": "2023-11-05T08:19:43.800Z"
   },
   {
    "duration": 15,
    "start_time": "2023-11-05T08:19:43.840Z"
   },
   {
    "duration": 11,
    "start_time": "2023-11-05T08:19:43.857Z"
   },
   {
    "duration": 19,
    "start_time": "2023-11-05T08:19:43.869Z"
   },
   {
    "duration": 21,
    "start_time": "2023-11-05T08:19:43.890Z"
   },
   {
    "duration": 32,
    "start_time": "2023-11-05T08:19:43.913Z"
   },
   {
    "duration": 3,
    "start_time": "2023-11-05T08:19:43.946Z"
   },
   {
    "duration": 33,
    "start_time": "2023-11-05T08:19:43.951Z"
   },
   {
    "duration": 18,
    "start_time": "2023-11-05T08:19:43.985Z"
   },
   {
    "duration": 888,
    "start_time": "2023-11-05T08:20:27.923Z"
   },
   {
    "duration": 1196,
    "start_time": "2023-11-05T08:20:46.092Z"
   },
   {
    "duration": 16,
    "start_time": "2023-11-05T08:21:07.366Z"
   },
   {
    "duration": 16,
    "start_time": "2023-11-05T08:21:13.259Z"
   },
   {
    "duration": 41,
    "start_time": "2023-11-05T08:22:34.371Z"
   },
   {
    "duration": 30,
    "start_time": "2023-11-05T08:22:50.180Z"
   },
   {
    "duration": 34,
    "start_time": "2023-11-05T08:23:08.289Z"
   },
   {
    "duration": 34,
    "start_time": "2023-11-05T08:23:15.960Z"
   },
   {
    "duration": 23,
    "start_time": "2023-11-05T08:23:30.804Z"
   },
   {
    "duration": 22,
    "start_time": "2023-11-05T08:23:58.501Z"
   },
   {
    "duration": 657,
    "start_time": "2023-11-07T07:26:31.219Z"
   },
   {
    "duration": 97,
    "start_time": "2023-11-07T07:26:31.878Z"
   },
   {
    "duration": 5,
    "start_time": "2023-11-07T07:26:31.976Z"
   },
   {
    "duration": 48,
    "start_time": "2023-11-07T07:26:31.983Z"
   },
   {
    "duration": 5,
    "start_time": "2023-11-07T07:26:32.033Z"
   },
   {
    "duration": 49,
    "start_time": "2023-11-07T07:26:32.039Z"
   },
   {
    "duration": 12,
    "start_time": "2023-11-07T07:26:32.090Z"
   },
   {
    "duration": 31,
    "start_time": "2023-11-07T07:26:32.103Z"
   },
   {
    "duration": 111,
    "start_time": "2023-11-07T07:26:32.136Z"
   },
   {
    "duration": 6,
    "start_time": "2023-11-07T07:26:32.249Z"
   },
   {
    "duration": 17,
    "start_time": "2023-11-07T07:26:32.256Z"
   },
   {
    "duration": 38,
    "start_time": "2023-11-07T07:26:32.275Z"
   },
   {
    "duration": 29,
    "start_time": "2023-11-07T07:26:32.315Z"
   },
   {
    "duration": 12,
    "start_time": "2023-11-07T07:26:32.347Z"
   },
   {
    "duration": 27,
    "start_time": "2023-11-07T07:26:32.361Z"
   },
   {
    "duration": 21,
    "start_time": "2023-11-07T07:26:32.389Z"
   },
   {
    "duration": 25,
    "start_time": "2023-11-07T07:26:32.411Z"
   },
   {
    "duration": 68,
    "start_time": "2023-11-07T07:26:32.438Z"
   },
   {
    "duration": 19,
    "start_time": "2023-11-07T07:26:32.507Z"
   },
   {
    "duration": 27,
    "start_time": "2023-11-07T07:26:32.527Z"
   },
   {
    "duration": 13,
    "start_time": "2023-11-07T07:26:32.556Z"
   },
   {
    "duration": 19,
    "start_time": "2023-11-07T07:26:32.571Z"
   },
   {
    "duration": 16,
    "start_time": "2023-11-07T07:26:32.591Z"
   },
   {
    "duration": 8,
    "start_time": "2023-11-07T07:26:32.609Z"
   },
   {
    "duration": 22,
    "start_time": "2023-11-07T07:26:32.619Z"
   },
   {
    "duration": 8,
    "start_time": "2023-11-07T07:26:32.642Z"
   },
   {
    "duration": 7,
    "start_time": "2023-11-07T07:26:32.652Z"
   },
   {
    "duration": 25,
    "start_time": "2023-11-07T07:26:32.661Z"
   },
   {
    "duration": 18,
    "start_time": "2023-11-07T07:26:32.687Z"
   },
   {
    "duration": 31,
    "start_time": "2023-11-07T07:26:32.707Z"
   },
   {
    "duration": 19,
    "start_time": "2023-11-07T07:26:32.740Z"
   },
   {
    "duration": 18,
    "start_time": "2023-11-07T07:26:32.761Z"
   },
   {
    "duration": 97,
    "start_time": "2023-11-07T07:26:32.781Z"
   },
   {
    "duration": 23,
    "start_time": "2023-11-07T07:26:32.880Z"
   },
   {
    "duration": 67,
    "start_time": "2023-11-07T07:26:32.905Z"
   },
   {
    "duration": 33,
    "start_time": "2023-11-07T07:26:32.974Z"
   },
   {
    "duration": 56,
    "start_time": "2023-11-07T07:26:33.009Z"
   },
   {
    "duration": 12,
    "start_time": "2023-11-07T07:26:33.067Z"
   },
   {
    "duration": 42,
    "start_time": "2023-11-07T07:26:33.080Z"
   },
   {
    "duration": 34,
    "start_time": "2023-11-07T07:26:33.124Z"
   },
   {
    "duration": 55,
    "start_time": "2023-11-07T07:26:33.161Z"
   },
   {
    "duration": 23,
    "start_time": "2023-11-07T07:26:33.218Z"
   },
   {
    "duration": 35,
    "start_time": "2023-11-07T07:26:33.243Z"
   },
   {
    "duration": 37,
    "start_time": "2023-11-07T07:26:33.279Z"
   },
   {
    "duration": 24,
    "start_time": "2023-11-07T07:26:33.318Z"
   },
   {
    "duration": 48,
    "start_time": "2023-11-07T07:26:33.344Z"
   },
   {
    "duration": 16,
    "start_time": "2023-11-07T07:26:33.393Z"
   },
   {
    "duration": 43,
    "start_time": "2023-11-07T07:26:33.411Z"
   },
   {
    "duration": 38,
    "start_time": "2023-11-07T07:26:33.455Z"
   },
   {
    "duration": 39,
    "start_time": "2023-11-07T07:26:33.494Z"
   },
   {
    "duration": 18,
    "start_time": "2023-11-07T07:26:33.534Z"
   },
   {
    "duration": 36,
    "start_time": "2023-11-07T07:26:33.553Z"
   },
   {
    "duration": 58,
    "start_time": "2023-11-07T07:26:33.590Z"
   },
   {
    "duration": 36,
    "start_time": "2023-11-07T07:26:33.650Z"
   },
   {
    "duration": 64,
    "start_time": "2023-11-07T07:35:30.034Z"
   },
   {
    "duration": 7,
    "start_time": "2023-11-07T07:35:34.526Z"
   },
   {
    "duration": 14,
    "start_time": "2023-11-07T07:35:46.154Z"
   },
   {
    "duration": 13,
    "start_time": "2023-11-07T07:36:03.006Z"
   },
   {
    "duration": 5,
    "start_time": "2023-11-07T07:42:46.285Z"
   },
   {
    "duration": 21,
    "start_time": "2023-11-07T07:43:13.126Z"
   },
   {
    "duration": 10,
    "start_time": "2023-11-07T07:43:29.277Z"
   },
   {
    "duration": 11,
    "start_time": "2023-11-07T07:49:12.348Z"
   },
   {
    "duration": 19,
    "start_time": "2023-11-07T07:57:23.874Z"
   },
   {
    "duration": 19,
    "start_time": "2023-11-07T07:58:15.990Z"
   },
   {
    "duration": 22,
    "start_time": "2023-11-07T07:59:33.763Z"
   },
   {
    "duration": 22,
    "start_time": "2023-11-07T08:00:57.797Z"
   },
   {
    "duration": 626,
    "start_time": "2023-11-07T08:03:28.962Z"
   },
   {
    "duration": 218,
    "start_time": "2023-11-07T08:04:39.430Z"
   },
   {
    "duration": 286,
    "start_time": "2023-11-07T08:04:46.051Z"
   },
   {
    "duration": 183,
    "start_time": "2023-11-07T08:05:46.103Z"
   },
   {
    "duration": 156,
    "start_time": "2023-11-07T08:06:13.055Z"
   },
   {
    "duration": 10,
    "start_time": "2023-11-07T08:19:06.389Z"
   },
   {
    "duration": 14,
    "start_time": "2023-11-07T08:19:12.417Z"
   },
   {
    "duration": 16,
    "start_time": "2023-11-07T08:19:31.247Z"
   },
   {
    "duration": 151,
    "start_time": "2023-11-07T08:21:24.926Z"
   },
   {
    "duration": 138,
    "start_time": "2023-11-07T08:22:02.255Z"
   },
   {
    "duration": 119,
    "start_time": "2023-11-07T08:25:38.771Z"
   },
   {
    "duration": 12,
    "start_time": "2023-11-07T08:25:44.702Z"
   },
   {
    "duration": 4,
    "start_time": "2023-11-07T08:26:00.505Z"
   },
   {
    "duration": 4,
    "start_time": "2023-11-07T08:26:27.664Z"
   },
   {
    "duration": 9,
    "start_time": "2023-11-07T08:33:57.309Z"
   },
   {
    "duration": 13,
    "start_time": "2023-11-07T08:34:15.709Z"
   },
   {
    "duration": 24,
    "start_time": "2023-11-07T08:38:22.814Z"
   },
   {
    "duration": 22,
    "start_time": "2023-11-07T08:39:08.678Z"
   },
   {
    "duration": 90,
    "start_time": "2023-11-07T08:39:20.841Z"
   },
   {
    "duration": 14,
    "start_time": "2023-11-07T08:39:28.168Z"
   },
   {
    "duration": 138,
    "start_time": "2023-11-07T08:39:32.121Z"
   },
   {
    "duration": 4,
    "start_time": "2023-11-07T08:39:35.253Z"
   },
   {
    "duration": 23,
    "start_time": "2023-11-07T08:39:38.906Z"
   },
   {
    "duration": 26,
    "start_time": "2023-11-07T08:42:32.160Z"
   },
   {
    "duration": 28,
    "start_time": "2023-11-07T08:42:47.975Z"
   },
   {
    "duration": 125,
    "start_time": "2023-11-07T08:48:11.935Z"
   },
   {
    "duration": 114,
    "start_time": "2023-11-07T08:48:27.907Z"
   },
   {
    "duration": 131,
    "start_time": "2023-11-07T08:49:20.042Z"
   },
   {
    "duration": 121,
    "start_time": "2023-11-07T08:49:26.359Z"
   },
   {
    "duration": 115,
    "start_time": "2023-11-07T08:49:32.563Z"
   },
   {
    "duration": 286,
    "start_time": "2023-11-07T08:49:46.099Z"
   },
   {
    "duration": 121,
    "start_time": "2023-11-07T08:54:53.662Z"
   },
   {
    "duration": 124,
    "start_time": "2023-11-07T08:58:58.655Z"
   },
   {
    "duration": 11,
    "start_time": "2023-11-07T09:01:16.987Z"
   },
   {
    "duration": 25,
    "start_time": "2023-11-07T09:01:22.614Z"
   },
   {
    "duration": 29,
    "start_time": "2023-11-07T09:02:19.287Z"
   },
   {
    "duration": 25,
    "start_time": "2023-11-07T09:03:11.458Z"
   },
   {
    "duration": 2222,
    "start_time": "2023-11-07T09:06:54.389Z"
   },
   {
    "duration": 312,
    "start_time": "2023-11-07T09:07:25.684Z"
   },
   {
    "duration": 556,
    "start_time": "2023-11-07T09:07:49.540Z"
   },
   {
    "duration": 3734,
    "start_time": "2023-11-07T09:07:56.010Z"
   },
   {
    "duration": 3947,
    "start_time": "2023-11-07T09:08:39.673Z"
   },
   {
    "duration": 267,
    "start_time": "2023-11-07T09:08:48.110Z"
   },
   {
    "duration": 395,
    "start_time": "2023-11-07T09:09:05.727Z"
   },
   {
    "duration": 320,
    "start_time": "2023-11-07T09:09:36.930Z"
   },
   {
    "duration": 304,
    "start_time": "2023-11-07T09:09:43.146Z"
   },
   {
    "duration": 284,
    "start_time": "2023-11-07T09:09:48.040Z"
   },
   {
    "duration": 266,
    "start_time": "2023-11-07T09:09:54.045Z"
   },
   {
    "duration": 267,
    "start_time": "2023-11-07T09:10:03.743Z"
   },
   {
    "duration": 376,
    "start_time": "2023-11-07T09:15:05.886Z"
   },
   {
    "duration": 267,
    "start_time": "2023-11-07T09:15:14.879Z"
   },
   {
    "duration": 283,
    "start_time": "2023-11-07T09:16:38.444Z"
   },
   {
    "duration": 263,
    "start_time": "2023-11-07T09:20:12.874Z"
   },
   {
    "duration": 270,
    "start_time": "2023-11-07T09:20:49.725Z"
   },
   {
    "duration": 174,
    "start_time": "2023-11-07T09:21:07.171Z"
   },
   {
    "duration": 332,
    "start_time": "2023-11-07T09:21:35.831Z"
   },
   {
    "duration": 10,
    "start_time": "2023-11-07T09:22:03.925Z"
   },
   {
    "duration": 177,
    "start_time": "2023-11-07T09:22:07.798Z"
   },
   {
    "duration": 271,
    "start_time": "2023-11-07T09:30:40.821Z"
   },
   {
    "duration": 266,
    "start_time": "2023-11-07T09:30:58.865Z"
   },
   {
    "duration": 25,
    "start_time": "2023-11-07T09:31:04.490Z"
   },
   {
    "duration": 245,
    "start_time": "2023-11-07T09:31:39.727Z"
   },
   {
    "duration": 327,
    "start_time": "2023-11-07T09:32:21.454Z"
   },
   {
    "duration": 249,
    "start_time": "2023-11-07T09:32:26.263Z"
   },
   {
    "duration": 23,
    "start_time": "2023-11-07T09:32:36.068Z"
   },
   {
    "duration": 248,
    "start_time": "2023-11-07T09:32:36.841Z"
   },
   {
    "duration": 254,
    "start_time": "2023-11-07T09:32:43.992Z"
   },
   {
    "duration": 250,
    "start_time": "2023-11-07T09:32:55.190Z"
   },
   {
    "duration": 251,
    "start_time": "2023-11-07T09:33:07.495Z"
   },
   {
    "duration": 267,
    "start_time": "2023-11-07T09:33:14.489Z"
   },
   {
    "duration": 16,
    "start_time": "2023-11-07T09:35:53.620Z"
   },
   {
    "duration": 11,
    "start_time": "2023-11-07T09:37:08.367Z"
   },
   {
    "duration": 102,
    "start_time": "2023-11-07T10:10:42.755Z"
   },
   {
    "duration": 935,
    "start_time": "2023-11-08T07:13:22.846Z"
   },
   {
    "duration": 88,
    "start_time": "2023-11-08T07:13:23.782Z"
   },
   {
    "duration": 4,
    "start_time": "2023-11-08T07:13:23.872Z"
   },
   {
    "duration": 27,
    "start_time": "2023-11-08T07:13:23.878Z"
   },
   {
    "duration": 4,
    "start_time": "2023-11-08T07:13:23.906Z"
   },
   {
    "duration": 28,
    "start_time": "2023-11-08T07:13:23.911Z"
   },
   {
    "duration": 10,
    "start_time": "2023-11-08T07:13:23.940Z"
   },
   {
    "duration": 27,
    "start_time": "2023-11-08T07:13:23.952Z"
   },
   {
    "duration": 103,
    "start_time": "2023-11-08T07:13:23.980Z"
   },
   {
    "duration": 5,
    "start_time": "2023-11-08T07:13:24.086Z"
   },
   {
    "duration": 14,
    "start_time": "2023-11-08T07:13:24.093Z"
   },
   {
    "duration": 40,
    "start_time": "2023-11-08T07:13:24.109Z"
   },
   {
    "duration": 12,
    "start_time": "2023-11-08T07:13:24.151Z"
   },
   {
    "duration": 22,
    "start_time": "2023-11-08T07:13:24.165Z"
   },
   {
    "duration": 24,
    "start_time": "2023-11-08T07:13:24.189Z"
   },
   {
    "duration": 6,
    "start_time": "2023-11-08T07:13:24.215Z"
   },
   {
    "duration": 42,
    "start_time": "2023-11-08T07:13:24.223Z"
   },
   {
    "duration": 64,
    "start_time": "2023-11-08T07:13:24.267Z"
   },
   {
    "duration": 7,
    "start_time": "2023-11-08T07:13:24.345Z"
   },
   {
    "duration": 28,
    "start_time": "2023-11-08T07:13:24.354Z"
   },
   {
    "duration": 18,
    "start_time": "2023-11-08T07:13:24.384Z"
   },
   {
    "duration": 29,
    "start_time": "2023-11-08T07:13:24.403Z"
   },
   {
    "duration": 15,
    "start_time": "2023-11-08T07:13:24.433Z"
   },
   {
    "duration": 21,
    "start_time": "2023-11-08T07:13:24.450Z"
   },
   {
    "duration": 41,
    "start_time": "2023-11-08T07:13:24.473Z"
   },
   {
    "duration": 8,
    "start_time": "2023-11-08T07:13:24.516Z"
   },
   {
    "duration": 18,
    "start_time": "2023-11-08T07:13:24.526Z"
   },
   {
    "duration": 36,
    "start_time": "2023-11-08T07:13:24.548Z"
   },
   {
    "duration": 25,
    "start_time": "2023-11-08T07:13:24.586Z"
   },
   {
    "duration": 34,
    "start_time": "2023-11-08T07:13:24.615Z"
   },
   {
    "duration": 41,
    "start_time": "2023-11-08T07:13:24.651Z"
   },
   {
    "duration": 28,
    "start_time": "2023-11-08T07:13:24.694Z"
   },
   {
    "duration": 18,
    "start_time": "2023-11-08T07:13:24.724Z"
   },
   {
    "duration": 23,
    "start_time": "2023-11-08T07:13:24.744Z"
   },
   {
    "duration": 105,
    "start_time": "2023-11-08T07:13:24.769Z"
   },
   {
    "duration": 28,
    "start_time": "2023-11-08T07:13:24.876Z"
   },
   {
    "duration": 57,
    "start_time": "2023-11-08T07:13:24.907Z"
   },
   {
    "duration": 9,
    "start_time": "2023-11-08T07:13:24.965Z"
   },
   {
    "duration": 26,
    "start_time": "2023-11-08T07:13:24.976Z"
   },
   {
    "duration": 16,
    "start_time": "2023-11-08T07:13:25.004Z"
   },
   {
    "duration": 31,
    "start_time": "2023-11-08T07:13:25.021Z"
   },
   {
    "duration": 20,
    "start_time": "2023-11-08T07:13:25.054Z"
   },
   {
    "duration": 11,
    "start_time": "2023-11-08T07:13:25.076Z"
   },
   {
    "duration": 13,
    "start_time": "2023-11-08T07:13:25.088Z"
   },
   {
    "duration": 30,
    "start_time": "2023-11-08T07:13:25.102Z"
   },
   {
    "duration": 28,
    "start_time": "2023-11-08T07:13:25.133Z"
   },
   {
    "duration": 13,
    "start_time": "2023-11-08T07:13:25.164Z"
   },
   {
    "duration": 48,
    "start_time": "2023-11-08T07:13:25.179Z"
   },
   {
    "duration": 45,
    "start_time": "2023-11-08T07:13:25.229Z"
   },
   {
    "duration": 40,
    "start_time": "2023-11-08T07:13:25.276Z"
   },
   {
    "duration": 7,
    "start_time": "2023-11-08T07:13:25.318Z"
   },
   {
    "duration": 9,
    "start_time": "2023-11-08T07:13:25.327Z"
   },
   {
    "duration": 12,
    "start_time": "2023-11-08T07:13:25.337Z"
   },
   {
    "duration": 27,
    "start_time": "2023-11-08T07:13:25.351Z"
   },
   {
    "duration": 28,
    "start_time": "2023-11-08T07:13:25.380Z"
   },
   {
    "duration": 617,
    "start_time": "2023-11-08T07:13:25.411Z"
   },
   {
    "duration": 26,
    "start_time": "2023-11-08T07:13:26.031Z"
   },
   {
    "duration": 174,
    "start_time": "2023-11-08T07:13:26.059Z"
   },
   {
    "duration": 9,
    "start_time": "2023-11-08T07:13:26.235Z"
   },
   {
    "duration": 37,
    "start_time": "2023-11-08T07:13:26.245Z"
   },
   {
    "duration": 217,
    "start_time": "2023-11-08T07:13:26.284Z"
   },
   {
    "duration": 22,
    "start_time": "2023-11-08T07:13:26.502Z"
   },
   {
    "duration": 265,
    "start_time": "2023-11-08T07:13:26.526Z"
   },
   {
    "duration": 11,
    "start_time": "2023-11-08T07:13:26.793Z"
   },
   {
    "duration": 8,
    "start_time": "2023-11-08T07:25:11.508Z"
   },
   {
    "duration": 134,
    "start_time": "2023-11-08T07:26:28.449Z"
   },
   {
    "duration": 110,
    "start_time": "2023-11-08T07:27:23.078Z"
   },
   {
    "duration": 110,
    "start_time": "2023-11-08T07:27:33.287Z"
   },
   {
    "duration": 47,
    "start_time": "2023-11-08T07:27:33.399Z"
   },
   {
    "duration": 6,
    "start_time": "2023-11-08T07:27:33.447Z"
   },
   {
    "duration": 27,
    "start_time": "2023-11-08T07:27:33.455Z"
   },
   {
    "duration": 37,
    "start_time": "2023-11-08T07:27:33.484Z"
   },
   {
    "duration": 47,
    "start_time": "2023-11-08T07:27:33.522Z"
   },
   {
    "duration": 14,
    "start_time": "2023-11-08T07:27:33.570Z"
   },
   {
    "duration": 29,
    "start_time": "2023-11-08T07:27:33.585Z"
   },
   {
    "duration": 108,
    "start_time": "2023-11-08T07:27:33.615Z"
   },
   {
    "duration": 4,
    "start_time": "2023-11-08T07:27:33.725Z"
   },
   {
    "duration": 35,
    "start_time": "2023-11-08T07:27:33.731Z"
   },
   {
    "duration": 43,
    "start_time": "2023-11-08T07:27:33.767Z"
   },
   {
    "duration": 23,
    "start_time": "2023-11-08T07:27:33.812Z"
   },
   {
    "duration": 15,
    "start_time": "2023-11-08T07:27:33.838Z"
   },
   {
    "duration": 40,
    "start_time": "2023-11-08T07:27:33.854Z"
   },
   {
    "duration": 9,
    "start_time": "2023-11-08T07:27:33.895Z"
   },
   {
    "duration": 40,
    "start_time": "2023-11-08T07:27:33.905Z"
   },
   {
    "duration": 99,
    "start_time": "2023-11-08T07:27:33.947Z"
   },
   {
    "duration": 23,
    "start_time": "2023-11-08T07:27:34.048Z"
   },
   {
    "duration": 50,
    "start_time": "2023-11-08T07:27:34.074Z"
   },
   {
    "duration": 17,
    "start_time": "2023-11-08T07:27:34.126Z"
   },
   {
    "duration": 17,
    "start_time": "2023-11-08T07:27:34.146Z"
   },
   {
    "duration": 25,
    "start_time": "2023-11-08T07:27:34.165Z"
   },
   {
    "duration": 24,
    "start_time": "2023-11-08T07:27:34.191Z"
   },
   {
    "duration": 37,
    "start_time": "2023-11-08T07:27:34.218Z"
   },
   {
    "duration": 33,
    "start_time": "2023-11-08T07:27:34.257Z"
   },
   {
    "duration": 29,
    "start_time": "2023-11-08T07:27:34.292Z"
   },
   {
    "duration": 82,
    "start_time": "2023-11-08T07:27:34.323Z"
   },
   {
    "duration": 33,
    "start_time": "2023-11-08T07:27:34.407Z"
   },
   {
    "duration": 35,
    "start_time": "2023-11-08T07:27:34.441Z"
   },
   {
    "duration": 10,
    "start_time": "2023-11-08T07:27:34.477Z"
   },
   {
    "duration": 10,
    "start_time": "2023-11-08T07:27:34.490Z"
   },
   {
    "duration": 19,
    "start_time": "2023-11-08T07:27:34.502Z"
   },
   {
    "duration": 27,
    "start_time": "2023-11-08T07:27:34.525Z"
   },
   {
    "duration": 121,
    "start_time": "2023-11-08T07:27:34.554Z"
   },
   {
    "duration": 22,
    "start_time": "2023-11-08T07:27:34.677Z"
   },
   {
    "duration": 55,
    "start_time": "2023-11-08T07:27:34.701Z"
   },
   {
    "duration": 8,
    "start_time": "2023-11-08T07:27:34.758Z"
   },
   {
    "duration": 21,
    "start_time": "2023-11-08T07:27:34.768Z"
   },
   {
    "duration": 8,
    "start_time": "2023-11-08T07:27:34.791Z"
   },
   {
    "duration": 9,
    "start_time": "2023-11-08T07:27:34.803Z"
   },
   {
    "duration": 14,
    "start_time": "2023-11-08T07:27:34.813Z"
   },
   {
    "duration": 18,
    "start_time": "2023-11-08T07:27:34.828Z"
   },
   {
    "duration": 7,
    "start_time": "2023-11-08T07:27:34.847Z"
   },
   {
    "duration": 24,
    "start_time": "2023-11-08T07:27:34.855Z"
   },
   {
    "duration": 23,
    "start_time": "2023-11-08T07:27:34.880Z"
   },
   {
    "duration": 12,
    "start_time": "2023-11-08T07:27:34.904Z"
   },
   {
    "duration": 52,
    "start_time": "2023-11-08T07:27:34.918Z"
   },
   {
    "duration": 20,
    "start_time": "2023-11-08T07:27:34.971Z"
   },
   {
    "duration": 32,
    "start_time": "2023-11-08T07:27:34.992Z"
   },
   {
    "duration": 7,
    "start_time": "2023-11-08T07:27:35.030Z"
   },
   {
    "duration": 28,
    "start_time": "2023-11-08T07:27:35.039Z"
   },
   {
    "duration": 32,
    "start_time": "2023-11-08T07:27:35.068Z"
   },
   {
    "duration": 27,
    "start_time": "2023-11-08T07:27:35.101Z"
   },
   {
    "duration": 23,
    "start_time": "2023-11-08T07:27:35.129Z"
   },
   {
    "duration": 178,
    "start_time": "2023-11-08T07:27:35.154Z"
   },
   {
    "duration": 25,
    "start_time": "2023-11-08T07:27:35.334Z"
   },
   {
    "duration": 140,
    "start_time": "2023-11-08T07:27:35.361Z"
   },
   {
    "duration": 4,
    "start_time": "2023-11-08T07:27:35.502Z"
   },
   {
    "duration": 42,
    "start_time": "2023-11-08T07:27:35.508Z"
   },
   {
    "duration": 135,
    "start_time": "2023-11-08T07:27:35.551Z"
   },
   {
    "duration": 21,
    "start_time": "2023-11-08T07:27:35.688Z"
   },
   {
    "duration": 253,
    "start_time": "2023-11-08T07:27:35.711Z"
   },
   {
    "duration": 10,
    "start_time": "2023-11-08T07:27:35.966Z"
   },
   {
    "duration": 44,
    "start_time": "2023-11-08T07:27:35.978Z"
   },
   {
    "duration": 156,
    "start_time": "2023-11-08T07:27:36.023Z"
   },
   {
    "duration": 8,
    "start_time": "2023-11-08T07:27:50.555Z"
   },
   {
    "duration": 122,
    "start_time": "2023-11-08T07:27:52.917Z"
   },
   {
    "duration": 236,
    "start_time": "2023-11-08T07:27:57.340Z"
   },
   {
    "duration": 128,
    "start_time": "2023-11-08T07:28:00.144Z"
   },
   {
    "duration": 110,
    "start_time": "2023-11-08T07:28:19.287Z"
   },
   {
    "duration": 10,
    "start_time": "2023-11-08T07:29:52.361Z"
   },
   {
    "duration": 36,
    "start_time": "2023-11-08T07:34:15.737Z"
   },
   {
    "duration": 27,
    "start_time": "2023-11-08T07:34:49.421Z"
   },
   {
    "duration": 3,
    "start_time": "2023-11-08T07:35:50.661Z"
   },
   {
    "duration": 14,
    "start_time": "2023-11-08T07:38:09.725Z"
   },
   {
    "duration": 23,
    "start_time": "2023-11-08T07:39:00.199Z"
   },
   {
    "duration": 13,
    "start_time": "2023-11-08T07:39:44.864Z"
   },
   {
    "duration": 150,
    "start_time": "2023-11-08T07:40:19.962Z"
   },
   {
    "duration": 19,
    "start_time": "2023-11-08T07:40:28.164Z"
   },
   {
    "duration": 16,
    "start_time": "2023-11-08T07:42:22.528Z"
   },
   {
    "duration": 19,
    "start_time": "2023-11-08T07:42:29.234Z"
   },
   {
    "duration": 22,
    "start_time": "2023-11-08T07:42:41.725Z"
   },
   {
    "duration": 20,
    "start_time": "2023-11-08T07:44:06.382Z"
   },
   {
    "duration": 17,
    "start_time": "2023-11-08T07:45:34.964Z"
   },
   {
    "duration": 55,
    "start_time": "2023-11-08T08:16:16.422Z"
   },
   {
    "duration": 658,
    "start_time": "2023-11-08T08:16:20.848Z"
   },
   {
    "duration": 89,
    "start_time": "2023-11-08T08:16:21.509Z"
   },
   {
    "duration": 5,
    "start_time": "2023-11-08T08:16:21.600Z"
   },
   {
    "duration": 35,
    "start_time": "2023-11-08T08:16:21.607Z"
   },
   {
    "duration": 5,
    "start_time": "2023-11-08T08:16:21.645Z"
   },
   {
    "duration": 25,
    "start_time": "2023-11-08T08:16:21.652Z"
   },
   {
    "duration": 16,
    "start_time": "2023-11-08T08:16:21.679Z"
   },
   {
    "duration": 23,
    "start_time": "2023-11-08T08:16:21.697Z"
   },
   {
    "duration": 131,
    "start_time": "2023-11-08T08:16:21.723Z"
   },
   {
    "duration": 5,
    "start_time": "2023-11-08T08:16:21.856Z"
   },
   {
    "duration": 32,
    "start_time": "2023-11-08T08:16:21.862Z"
   },
   {
    "duration": 45,
    "start_time": "2023-11-08T08:16:21.896Z"
   },
   {
    "duration": 48,
    "start_time": "2023-11-08T08:16:21.942Z"
   },
   {
    "duration": 30,
    "start_time": "2023-11-08T08:16:21.993Z"
   },
   {
    "duration": 23,
    "start_time": "2023-11-08T08:16:22.024Z"
   },
   {
    "duration": 13,
    "start_time": "2023-11-08T08:16:22.049Z"
   },
   {
    "duration": 42,
    "start_time": "2023-11-08T08:16:22.064Z"
   },
   {
    "duration": 68,
    "start_time": "2023-11-08T08:16:22.108Z"
   },
   {
    "duration": 25,
    "start_time": "2023-11-08T08:16:22.178Z"
   },
   {
    "duration": 29,
    "start_time": "2023-11-08T08:16:22.204Z"
   },
   {
    "duration": 7,
    "start_time": "2023-11-08T08:16:22.235Z"
   },
   {
    "duration": 16,
    "start_time": "2023-11-08T08:16:22.244Z"
   },
   {
    "duration": 5,
    "start_time": "2023-11-08T08:16:22.262Z"
   },
   {
    "duration": 7,
    "start_time": "2023-11-08T08:16:22.269Z"
   },
   {
    "duration": 9,
    "start_time": "2023-11-08T08:16:22.278Z"
   },
   {
    "duration": 18,
    "start_time": "2023-11-08T08:16:22.289Z"
   },
   {
    "duration": 4,
    "start_time": "2023-11-08T08:16:22.310Z"
   },
   {
    "duration": 29,
    "start_time": "2023-11-08T08:16:22.316Z"
   },
   {
    "duration": 19,
    "start_time": "2023-11-08T08:16:22.347Z"
   },
   {
    "duration": 43,
    "start_time": "2023-11-08T08:16:22.367Z"
   },
   {
    "duration": 14,
    "start_time": "2023-11-08T08:16:22.412Z"
   },
   {
    "duration": 12,
    "start_time": "2023-11-08T08:16:22.427Z"
   },
   {
    "duration": 9,
    "start_time": "2023-11-08T08:16:22.440Z"
   },
   {
    "duration": 30,
    "start_time": "2023-11-08T08:16:22.450Z"
   },
   {
    "duration": 102,
    "start_time": "2023-11-08T08:16:22.482Z"
   },
   {
    "duration": 49,
    "start_time": "2023-11-08T08:16:22.589Z"
   },
   {
    "duration": 47,
    "start_time": "2023-11-08T08:16:22.641Z"
   },
   {
    "duration": 13,
    "start_time": "2023-11-08T08:16:22.690Z"
   },
   {
    "duration": 29,
    "start_time": "2023-11-08T08:16:22.704Z"
   },
   {
    "duration": 11,
    "start_time": "2023-11-08T08:16:22.735Z"
   },
   {
    "duration": 20,
    "start_time": "2023-11-08T08:16:22.750Z"
   },
   {
    "duration": 14,
    "start_time": "2023-11-08T08:16:22.772Z"
   },
   {
    "duration": 25,
    "start_time": "2023-11-08T08:16:22.788Z"
   },
   {
    "duration": 13,
    "start_time": "2023-11-08T08:16:22.816Z"
   },
   {
    "duration": 11,
    "start_time": "2023-11-08T08:16:22.831Z"
   },
   {
    "duration": 46,
    "start_time": "2023-11-08T08:16:22.844Z"
   },
   {
    "duration": 14,
    "start_time": "2023-11-08T08:16:22.891Z"
   },
   {
    "duration": 21,
    "start_time": "2023-11-08T08:16:22.907Z"
   },
   {
    "duration": 20,
    "start_time": "2023-11-08T08:16:22.930Z"
   },
   {
    "duration": 39,
    "start_time": "2023-11-08T08:16:22.951Z"
   },
   {
    "duration": 20,
    "start_time": "2023-11-08T08:16:22.992Z"
   },
   {
    "duration": 14,
    "start_time": "2023-11-08T08:16:23.014Z"
   },
   {
    "duration": 11,
    "start_time": "2023-11-08T08:16:23.030Z"
   },
   {
    "duration": 28,
    "start_time": "2023-11-08T08:16:23.043Z"
   },
   {
    "duration": 52,
    "start_time": "2023-11-08T08:16:23.073Z"
   },
   {
    "duration": 616,
    "start_time": "2023-11-08T08:16:23.127Z"
   },
   {
    "duration": 15,
    "start_time": "2023-11-08T08:16:23.745Z"
   },
   {
    "duration": 180,
    "start_time": "2023-11-08T08:16:23.762Z"
   },
   {
    "duration": 5,
    "start_time": "2023-11-08T08:16:23.943Z"
   },
   {
    "duration": 45,
    "start_time": "2023-11-08T08:16:23.950Z"
   },
   {
    "duration": 212,
    "start_time": "2023-11-08T08:16:23.997Z"
   },
   {
    "duration": 33,
    "start_time": "2023-11-08T08:16:24.211Z"
   },
   {
    "duration": 297,
    "start_time": "2023-11-08T08:16:24.246Z"
   },
   {
    "duration": 10,
    "start_time": "2023-11-08T08:16:24.545Z"
   },
   {
    "duration": 49,
    "start_time": "2023-11-08T08:16:24.557Z"
   },
   {
    "duration": 85,
    "start_time": "2023-11-08T08:16:24.609Z"
   },
   {
    "duration": 2103,
    "start_time": "2023-11-08T08:16:24.695Z"
   },
   {
    "duration": 0,
    "start_time": "2023-11-08T08:16:26.799Z"
   },
   {
    "duration": 0,
    "start_time": "2023-11-08T08:16:26.800Z"
   },
   {
    "duration": 19,
    "start_time": "2023-11-08T08:17:02.803Z"
   },
   {
    "duration": 29,
    "start_time": "2023-11-08T08:36:53.158Z"
   },
   {
    "duration": 36,
    "start_time": "2023-11-08T08:37:13.138Z"
   },
   {
    "duration": 28,
    "start_time": "2023-11-08T08:37:28.621Z"
   },
   {
    "duration": 28,
    "start_time": "2023-11-08T08:37:31.318Z"
   },
   {
    "duration": 134,
    "start_time": "2023-11-08T08:38:58.552Z"
   },
   {
    "duration": 141,
    "start_time": "2023-11-08T08:40:58.055Z"
   },
   {
    "duration": 134,
    "start_time": "2023-11-08T08:41:54.864Z"
   },
   {
    "duration": 28,
    "start_time": "2023-11-08T08:42:10.742Z"
   },
   {
    "duration": 14,
    "start_time": "2023-11-08T08:45:36.166Z"
   },
   {
    "duration": 11,
    "start_time": "2023-11-08T08:45:42.598Z"
   },
   {
    "duration": 8,
    "start_time": "2023-11-08T08:45:58.962Z"
   },
   {
    "duration": 7,
    "start_time": "2023-11-08T08:46:08.960Z"
   },
   {
    "duration": 7,
    "start_time": "2023-11-08T08:47:12.527Z"
   },
   {
    "duration": 25,
    "start_time": "2023-11-08T08:51:07.980Z"
   },
   {
    "duration": 32,
    "start_time": "2023-11-08T08:51:08.951Z"
   },
   {
    "duration": 23,
    "start_time": "2023-11-08T08:52:00.839Z"
   },
   {
    "duration": 24,
    "start_time": "2023-11-08T08:52:09.073Z"
   },
   {
    "duration": 34,
    "start_time": "2023-11-08T08:53:06.197Z"
   },
   {
    "duration": 33,
    "start_time": "2023-11-08T08:53:12.739Z"
   },
   {
    "duration": 40,
    "start_time": "2023-11-08T08:53:29.835Z"
   },
   {
    "duration": 0,
    "start_time": "2023-11-08T08:54:34.510Z"
   },
   {
    "duration": 224,
    "start_time": "2023-11-08T08:54:46.896Z"
   },
   {
    "duration": 260,
    "start_time": "2023-11-08T08:54:53.099Z"
   },
   {
    "duration": 248,
    "start_time": "2023-11-08T08:56:04.821Z"
   },
   {
    "duration": 252,
    "start_time": "2023-11-08T08:56:19.522Z"
   },
   {
    "duration": 244,
    "start_time": "2023-11-08T08:56:46.446Z"
   },
   {
    "duration": 243,
    "start_time": "2023-11-08T08:57:16.650Z"
   },
   {
    "duration": 326,
    "start_time": "2023-11-08T08:57:20.089Z"
   },
   {
    "duration": 240,
    "start_time": "2023-11-08T08:57:35.323Z"
   },
   {
    "duration": 3205,
    "start_time": "2023-11-08T09:06:08.099Z"
   },
   {
    "duration": 118,
    "start_time": "2023-11-08T09:06:27.322Z"
   },
   {
    "duration": 49,
    "start_time": "2023-11-08T09:06:27.442Z"
   },
   {
    "duration": 5,
    "start_time": "2023-11-08T09:06:27.493Z"
   },
   {
    "duration": 63,
    "start_time": "2023-11-08T09:06:27.499Z"
   },
   {
    "duration": 5,
    "start_time": "2023-11-08T09:06:27.564Z"
   },
   {
    "duration": 39,
    "start_time": "2023-11-08T09:06:27.570Z"
   },
   {
    "duration": 6,
    "start_time": "2023-11-08T09:06:27.610Z"
   },
   {
    "duration": 21,
    "start_time": "2023-11-08T09:06:27.618Z"
   },
   {
    "duration": 97,
    "start_time": "2023-11-08T09:06:27.640Z"
   },
   {
    "duration": 4,
    "start_time": "2023-11-08T09:06:27.739Z"
   },
   {
    "duration": 25,
    "start_time": "2023-11-08T09:06:27.744Z"
   },
   {
    "duration": 23,
    "start_time": "2023-11-08T09:06:27.770Z"
   },
   {
    "duration": 26,
    "start_time": "2023-11-08T09:06:27.794Z"
   },
   {
    "duration": 7,
    "start_time": "2023-11-08T09:06:27.823Z"
   },
   {
    "duration": 35,
    "start_time": "2023-11-08T09:06:27.831Z"
   },
   {
    "duration": 5,
    "start_time": "2023-11-08T09:06:27.867Z"
   },
   {
    "duration": 30,
    "start_time": "2023-11-08T09:06:27.873Z"
   },
   {
    "duration": 28,
    "start_time": "2023-11-08T09:06:27.905Z"
   },
   {
    "duration": 23,
    "start_time": "2023-11-08T09:06:27.934Z"
   },
   {
    "duration": 26,
    "start_time": "2023-11-08T09:06:27.958Z"
   },
   {
    "duration": 17,
    "start_time": "2023-11-08T09:06:27.986Z"
   },
   {
    "duration": 15,
    "start_time": "2023-11-08T09:06:28.005Z"
   },
   {
    "duration": 21,
    "start_time": "2023-11-08T09:06:28.021Z"
   },
   {
    "duration": 14,
    "start_time": "2023-11-08T09:06:28.044Z"
   },
   {
    "duration": 21,
    "start_time": "2023-11-08T09:06:28.059Z"
   },
   {
    "duration": 7,
    "start_time": "2023-11-08T09:06:28.082Z"
   },
   {
    "duration": 6,
    "start_time": "2023-11-08T09:06:28.090Z"
   },
   {
    "duration": 29,
    "start_time": "2023-11-08T09:06:28.098Z"
   },
   {
    "duration": 19,
    "start_time": "2023-11-08T09:06:28.129Z"
   },
   {
    "duration": 37,
    "start_time": "2023-11-08T09:06:28.149Z"
   },
   {
    "duration": 24,
    "start_time": "2023-11-08T09:06:28.187Z"
   },
   {
    "duration": 12,
    "start_time": "2023-11-08T09:06:28.213Z"
   },
   {
    "duration": 11,
    "start_time": "2023-11-08T09:06:28.227Z"
   },
   {
    "duration": 15,
    "start_time": "2023-11-08T09:06:28.240Z"
   },
   {
    "duration": 64,
    "start_time": "2023-11-08T09:06:28.257Z"
   },
   {
    "duration": 15,
    "start_time": "2023-11-08T09:06:28.322Z"
   },
   {
    "duration": 33,
    "start_time": "2023-11-08T09:06:28.339Z"
   },
   {
    "duration": 12,
    "start_time": "2023-11-08T09:06:28.373Z"
   },
   {
    "duration": 10,
    "start_time": "2023-11-08T09:06:28.406Z"
   },
   {
    "duration": 21,
    "start_time": "2023-11-08T09:06:28.417Z"
   },
   {
    "duration": 9,
    "start_time": "2023-11-08T09:06:28.441Z"
   },
   {
    "duration": 11,
    "start_time": "2023-11-08T09:06:28.452Z"
   },
   {
    "duration": 14,
    "start_time": "2023-11-08T09:06:28.464Z"
   },
   {
    "duration": 9,
    "start_time": "2023-11-08T09:06:28.480Z"
   },
   {
    "duration": 8,
    "start_time": "2023-11-08T09:06:28.490Z"
   },
   {
    "duration": 39,
    "start_time": "2023-11-08T09:06:28.500Z"
   },
   {
    "duration": 12,
    "start_time": "2023-11-08T09:06:28.541Z"
   },
   {
    "duration": 12,
    "start_time": "2023-11-08T09:06:28.554Z"
   },
   {
    "duration": 25,
    "start_time": "2023-11-08T09:06:28.568Z"
   },
   {
    "duration": 25,
    "start_time": "2023-11-08T09:06:28.594Z"
   },
   {
    "duration": 9,
    "start_time": "2023-11-08T09:06:28.620Z"
   },
   {
    "duration": 4,
    "start_time": "2023-11-08T09:06:28.630Z"
   },
   {
    "duration": 17,
    "start_time": "2023-11-08T09:06:28.635Z"
   },
   {
    "duration": 36,
    "start_time": "2023-11-08T09:06:28.653Z"
   },
   {
    "duration": 25,
    "start_time": "2023-11-08T09:06:28.691Z"
   },
   {
    "duration": 180,
    "start_time": "2023-11-08T09:06:28.717Z"
   },
   {
    "duration": 19,
    "start_time": "2023-11-08T09:06:28.898Z"
   },
   {
    "duration": 138,
    "start_time": "2023-11-08T09:06:28.919Z"
   },
   {
    "duration": 4,
    "start_time": "2023-11-08T09:06:29.058Z"
   },
   {
    "duration": 43,
    "start_time": "2023-11-08T09:06:29.064Z"
   },
   {
    "duration": 125,
    "start_time": "2023-11-08T09:06:29.108Z"
   },
   {
    "duration": 23,
    "start_time": "2023-11-08T09:06:29.235Z"
   },
   {
    "duration": 256,
    "start_time": "2023-11-08T09:06:29.260Z"
   },
   {
    "duration": 13,
    "start_time": "2023-11-08T09:06:29.518Z"
   },
   {
    "duration": 9,
    "start_time": "2023-11-08T09:06:29.532Z"
   },
   {
    "duration": 16,
    "start_time": "2023-11-08T09:06:29.542Z"
   },
   {
    "duration": 36,
    "start_time": "2023-11-08T09:06:29.559Z"
   },
   {
    "duration": 36,
    "start_time": "2023-11-08T09:06:29.597Z"
   },
   {
    "duration": 129,
    "start_time": "2023-11-08T09:06:29.634Z"
   },
   {
    "duration": 7,
    "start_time": "2023-11-08T09:06:29.765Z"
   },
   {
    "duration": 36,
    "start_time": "2023-11-08T09:06:29.773Z"
   },
   {
    "duration": 33,
    "start_time": "2023-11-08T09:06:29.810Z"
   },
   {
    "duration": 241,
    "start_time": "2023-11-08T09:06:29.845Z"
   },
   {
    "duration": 9,
    "start_time": "2023-11-08T09:06:30.088Z"
   },
   {
    "duration": 142,
    "start_time": "2023-11-08T09:06:30.107Z"
   },
   {
    "duration": 68,
    "start_time": "2023-11-08T09:09:05.145Z"
   },
   {
    "duration": 3170,
    "start_time": "2023-11-08T09:09:17.039Z"
   },
   {
    "duration": 257,
    "start_time": "2023-11-08T09:09:37.718Z"
   },
   {
    "duration": 263,
    "start_time": "2023-11-08T09:09:56.119Z"
   },
   {
    "duration": 252,
    "start_time": "2023-11-08T09:10:15.160Z"
   },
   {
    "duration": 138,
    "start_time": "2023-11-08T09:10:36.299Z"
   },
   {
    "duration": 230,
    "start_time": "2023-11-08T09:10:52.031Z"
   },
   {
    "duration": 70,
    "start_time": "2023-11-08T09:12:38.314Z"
   },
   {
    "duration": 236,
    "start_time": "2023-11-08T09:14:09.415Z"
   },
   {
    "duration": 231,
    "start_time": "2023-11-08T09:14:27.854Z"
   },
   {
    "duration": 1357,
    "start_time": "2023-11-08T09:15:53.388Z"
   },
   {
    "duration": 669,
    "start_time": "2023-11-08T09:16:06.132Z"
   },
   {
    "duration": 154,
    "start_time": "2023-11-08T09:16:12.011Z"
   },
   {
    "duration": 903,
    "start_time": "2023-11-08T09:16:21.027Z"
   },
   {
    "duration": 1117,
    "start_time": "2023-11-08T09:16:28.204Z"
   },
   {
    "duration": 238,
    "start_time": "2023-11-08T09:18:22.007Z"
   },
   {
    "duration": 137,
    "start_time": "2023-11-08T09:18:46.809Z"
   },
   {
    "duration": 240,
    "start_time": "2023-11-08T09:19:07.413Z"
   },
   {
    "duration": 249,
    "start_time": "2023-11-08T09:19:47.015Z"
   },
   {
    "duration": 202,
    "start_time": "2023-11-08T09:19:58.145Z"
   },
   {
    "duration": 216,
    "start_time": "2023-11-08T09:20:09.359Z"
   },
   {
    "duration": 234,
    "start_time": "2023-11-08T09:20:14.461Z"
   },
   {
    "duration": 218,
    "start_time": "2023-11-08T09:20:32.676Z"
   },
   {
    "duration": 4,
    "start_time": "2023-11-08T09:22:32.493Z"
   },
   {
    "duration": 559,
    "start_time": "2023-11-08T09:22:45.877Z"
   },
   {
    "duration": 50,
    "start_time": "2023-11-08T09:22:46.438Z"
   },
   {
    "duration": 5,
    "start_time": "2023-11-08T09:22:46.490Z"
   },
   {
    "duration": 62,
    "start_time": "2023-11-08T09:22:46.497Z"
   },
   {
    "duration": 6,
    "start_time": "2023-11-08T09:22:46.561Z"
   },
   {
    "duration": 17,
    "start_time": "2023-11-08T09:22:46.568Z"
   },
   {
    "duration": 6,
    "start_time": "2023-11-08T09:22:46.587Z"
   },
   {
    "duration": 9,
    "start_time": "2023-11-08T09:22:46.594Z"
   },
   {
    "duration": 129,
    "start_time": "2023-11-08T09:22:46.605Z"
   },
   {
    "duration": 5,
    "start_time": "2023-11-08T09:22:46.735Z"
   },
   {
    "duration": 12,
    "start_time": "2023-11-08T09:22:46.742Z"
   },
   {
    "duration": 24,
    "start_time": "2023-11-08T09:22:46.756Z"
   },
   {
    "duration": 10,
    "start_time": "2023-11-08T09:22:46.781Z"
   },
   {
    "duration": 10,
    "start_time": "2023-11-08T09:22:46.806Z"
   },
   {
    "duration": 16,
    "start_time": "2023-11-08T09:22:46.817Z"
   },
   {
    "duration": 9,
    "start_time": "2023-11-08T09:22:46.834Z"
   },
   {
    "duration": 40,
    "start_time": "2023-11-08T09:22:46.844Z"
   },
   {
    "duration": 73,
    "start_time": "2023-11-08T09:22:46.885Z"
   },
   {
    "duration": 36,
    "start_time": "2023-11-08T09:22:46.960Z"
   },
   {
    "duration": 36,
    "start_time": "2023-11-08T09:22:46.998Z"
   },
   {
    "duration": 22,
    "start_time": "2023-11-08T09:22:47.037Z"
   },
   {
    "duration": 35,
    "start_time": "2023-11-08T09:22:47.061Z"
   },
   {
    "duration": 30,
    "start_time": "2023-11-08T09:22:47.098Z"
   },
   {
    "duration": 33,
    "start_time": "2023-11-08T09:22:47.130Z"
   },
   {
    "duration": 45,
    "start_time": "2023-11-08T09:22:47.165Z"
   },
   {
    "duration": 39,
    "start_time": "2023-11-08T09:22:47.212Z"
   },
   {
    "duration": 29,
    "start_time": "2023-11-08T09:22:47.252Z"
   },
   {
    "duration": 57,
    "start_time": "2023-11-08T09:22:47.282Z"
   },
   {
    "duration": 21,
    "start_time": "2023-11-08T09:22:47.340Z"
   },
   {
    "duration": 43,
    "start_time": "2023-11-08T09:22:47.362Z"
   },
   {
    "duration": 22,
    "start_time": "2023-11-08T09:22:47.407Z"
   },
   {
    "duration": 31,
    "start_time": "2023-11-08T09:22:47.431Z"
   },
   {
    "duration": 28,
    "start_time": "2023-11-08T09:22:47.463Z"
   },
   {
    "duration": 29,
    "start_time": "2023-11-08T09:22:47.493Z"
   },
   {
    "duration": 76,
    "start_time": "2023-11-08T09:22:47.524Z"
   },
   {
    "duration": 15,
    "start_time": "2023-11-08T09:22:47.602Z"
   },
   {
    "duration": 40,
    "start_time": "2023-11-08T09:22:47.619Z"
   },
   {
    "duration": 10,
    "start_time": "2023-11-08T09:22:47.660Z"
   },
   {
    "duration": 28,
    "start_time": "2023-11-08T09:22:47.671Z"
   },
   {
    "duration": 37,
    "start_time": "2023-11-08T09:22:47.707Z"
   },
   {
    "duration": 51,
    "start_time": "2023-11-08T09:22:47.748Z"
   },
   {
    "duration": 33,
    "start_time": "2023-11-08T09:22:47.801Z"
   },
   {
    "duration": 23,
    "start_time": "2023-11-08T09:22:47.835Z"
   },
   {
    "duration": 23,
    "start_time": "2023-11-08T09:22:47.860Z"
   },
   {
    "duration": 23,
    "start_time": "2023-11-08T09:22:47.884Z"
   },
   {
    "duration": 59,
    "start_time": "2023-11-08T09:22:47.909Z"
   },
   {
    "duration": 19,
    "start_time": "2023-11-08T09:22:47.969Z"
   },
   {
    "duration": 22,
    "start_time": "2023-11-08T09:22:47.990Z"
   },
   {
    "duration": 51,
    "start_time": "2023-11-08T09:22:48.013Z"
   },
   {
    "duration": 23,
    "start_time": "2023-11-08T09:22:48.066Z"
   },
   {
    "duration": 7,
    "start_time": "2023-11-08T09:22:48.090Z"
   },
   {
    "duration": 33,
    "start_time": "2023-11-08T09:22:48.098Z"
   },
   {
    "duration": 33,
    "start_time": "2023-11-08T09:22:48.133Z"
   },
   {
    "duration": 124,
    "start_time": "2023-11-08T09:22:48.168Z"
   },
   {
    "duration": 61,
    "start_time": "2023-11-08T09:22:48.293Z"
   },
   {
    "duration": 393,
    "start_time": "2023-11-08T09:22:48.356Z"
   },
   {
    "duration": 15,
    "start_time": "2023-11-08T09:22:48.750Z"
   },
   {
    "duration": 152,
    "start_time": "2023-11-08T09:22:48.766Z"
   },
   {
    "duration": 4,
    "start_time": "2023-11-08T09:22:48.920Z"
   },
   {
    "duration": 57,
    "start_time": "2023-11-08T09:22:48.926Z"
   },
   {
    "duration": 185,
    "start_time": "2023-11-08T09:22:48.985Z"
   },
   {
    "duration": 22,
    "start_time": "2023-11-08T09:22:49.172Z"
   },
   {
    "duration": 273,
    "start_time": "2023-11-08T09:22:49.195Z"
   },
   {
    "duration": 11,
    "start_time": "2023-11-08T09:22:49.470Z"
   },
   {
    "duration": 124,
    "start_time": "2023-11-08T09:22:49.483Z"
   },
   {
    "duration": 22,
    "start_time": "2023-11-08T09:22:49.609Z"
   },
   {
    "duration": 48,
    "start_time": "2023-11-08T09:22:49.633Z"
   },
   {
    "duration": 36,
    "start_time": "2023-11-08T09:22:49.683Z"
   },
   {
    "duration": 129,
    "start_time": "2023-11-08T09:22:49.720Z"
   },
   {
    "duration": 7,
    "start_time": "2023-11-08T09:22:49.851Z"
   },
   {
    "duration": 36,
    "start_time": "2023-11-08T09:22:49.859Z"
   },
   {
    "duration": 45,
    "start_time": "2023-11-08T09:22:49.897Z"
   },
   {
    "duration": 253,
    "start_time": "2023-11-08T09:22:49.944Z"
   },
   {
    "duration": 244,
    "start_time": "2023-11-08T09:22:50.199Z"
   },
   {
    "duration": 8,
    "start_time": "2023-11-08T09:22:50.444Z"
   },
   {
    "duration": 133,
    "start_time": "2023-11-08T09:22:50.453Z"
   },
   {
    "duration": 34,
    "start_time": "2023-11-08T09:26:07.615Z"
   },
   {
    "duration": 66,
    "start_time": "2023-11-09T06:46:03.636Z"
   },
   {
    "duration": 734,
    "start_time": "2023-11-09T06:46:08.419Z"
   },
   {
    "duration": 108,
    "start_time": "2023-11-09T06:46:09.155Z"
   },
   {
    "duration": 5,
    "start_time": "2023-11-09T06:46:09.265Z"
   },
   {
    "duration": 46,
    "start_time": "2023-11-09T06:46:09.272Z"
   },
   {
    "duration": 6,
    "start_time": "2023-11-09T06:46:09.323Z"
   },
   {
    "duration": 20,
    "start_time": "2023-11-09T06:46:09.331Z"
   },
   {
    "duration": 5,
    "start_time": "2023-11-09T06:46:09.353Z"
   },
   {
    "duration": 27,
    "start_time": "2023-11-09T06:46:09.360Z"
   },
   {
    "duration": 127,
    "start_time": "2023-11-09T06:46:09.389Z"
   },
   {
    "duration": 6,
    "start_time": "2023-11-09T06:46:09.519Z"
   },
   {
    "duration": 13,
    "start_time": "2023-11-09T06:46:09.527Z"
   },
   {
    "duration": 24,
    "start_time": "2023-11-09T06:46:09.541Z"
   },
   {
    "duration": 32,
    "start_time": "2023-11-09T06:46:09.566Z"
   },
   {
    "duration": 14,
    "start_time": "2023-11-09T06:46:09.603Z"
   },
   {
    "duration": 22,
    "start_time": "2023-11-09T06:46:09.619Z"
   },
   {
    "duration": 5,
    "start_time": "2023-11-09T06:46:09.643Z"
   },
   {
    "duration": 62,
    "start_time": "2023-11-09T06:46:09.650Z"
   },
   {
    "duration": 85,
    "start_time": "2023-11-09T06:46:09.714Z"
   },
   {
    "duration": 13,
    "start_time": "2023-11-09T06:46:09.801Z"
   },
   {
    "duration": 24,
    "start_time": "2023-11-09T06:46:09.815Z"
   },
   {
    "duration": 20,
    "start_time": "2023-11-09T06:46:09.841Z"
   },
   {
    "duration": 27,
    "start_time": "2023-11-09T06:46:09.863Z"
   },
   {
    "duration": 10,
    "start_time": "2023-11-09T06:46:09.892Z"
   },
   {
    "duration": 9,
    "start_time": "2023-11-09T06:46:09.904Z"
   },
   {
    "duration": 10,
    "start_time": "2023-11-09T06:46:09.916Z"
   },
   {
    "duration": 6,
    "start_time": "2023-11-09T06:46:09.928Z"
   },
   {
    "duration": 7,
    "start_time": "2023-11-09T06:46:09.936Z"
   },
   {
    "duration": 54,
    "start_time": "2023-11-09T06:46:09.945Z"
   },
   {
    "duration": 26,
    "start_time": "2023-11-09T06:46:10.007Z"
   },
   {
    "duration": 40,
    "start_time": "2023-11-09T06:46:10.035Z"
   },
   {
    "duration": 27,
    "start_time": "2023-11-09T06:46:10.077Z"
   },
   {
    "duration": 16,
    "start_time": "2023-11-09T06:46:10.107Z"
   },
   {
    "duration": 10,
    "start_time": "2023-11-09T06:46:10.124Z"
   },
   {
    "duration": 17,
    "start_time": "2023-11-09T06:46:10.136Z"
   },
   {
    "duration": 107,
    "start_time": "2023-11-09T06:46:10.155Z"
   },
   {
    "duration": 30,
    "start_time": "2023-11-09T06:46:10.264Z"
   },
   {
    "duration": 53,
    "start_time": "2023-11-09T06:46:10.301Z"
   },
   {
    "duration": 11,
    "start_time": "2023-11-09T06:46:10.356Z"
   },
   {
    "duration": 26,
    "start_time": "2023-11-09T06:46:10.382Z"
   },
   {
    "duration": 12,
    "start_time": "2023-11-09T06:46:10.418Z"
   },
   {
    "duration": 22,
    "start_time": "2023-11-09T06:46:10.434Z"
   },
   {
    "duration": 6,
    "start_time": "2023-11-09T06:46:10.457Z"
   },
   {
    "duration": 24,
    "start_time": "2023-11-09T06:46:10.464Z"
   },
   {
    "duration": 27,
    "start_time": "2023-11-09T06:46:10.489Z"
   },
   {
    "duration": 14,
    "start_time": "2023-11-09T06:46:10.517Z"
   },
   {
    "duration": 26,
    "start_time": "2023-11-09T06:46:10.533Z"
   },
   {
    "duration": 28,
    "start_time": "2023-11-09T06:46:10.561Z"
   },
   {
    "duration": 31,
    "start_time": "2023-11-09T06:46:10.590Z"
   },
   {
    "duration": 20,
    "start_time": "2023-11-09T06:46:10.622Z"
   },
   {
    "duration": 61,
    "start_time": "2023-11-09T06:46:10.644Z"
   },
   {
    "duration": 13,
    "start_time": "2023-11-09T06:46:10.708Z"
   },
   {
    "duration": 5,
    "start_time": "2023-11-09T06:46:10.724Z"
   },
   {
    "duration": 17,
    "start_time": "2023-11-09T06:46:10.731Z"
   },
   {
    "duration": 38,
    "start_time": "2023-11-09T06:46:10.751Z"
   },
   {
    "duration": 51,
    "start_time": "2023-11-09T06:46:10.791Z"
   },
   {
    "duration": 788,
    "start_time": "2023-11-09T06:46:10.843Z"
   },
   {
    "duration": 16,
    "start_time": "2023-11-09T06:46:11.633Z"
   },
   {
    "duration": 190,
    "start_time": "2023-11-09T06:46:11.650Z"
   },
   {
    "duration": 6,
    "start_time": "2023-11-09T06:46:11.842Z"
   },
   {
    "duration": 63,
    "start_time": "2023-11-09T06:46:11.850Z"
   },
   {
    "duration": 245,
    "start_time": "2023-11-09T06:46:11.915Z"
   },
   {
    "duration": 52,
    "start_time": "2023-11-09T06:46:12.162Z"
   },
   {
    "duration": 308,
    "start_time": "2023-11-09T06:46:12.217Z"
   },
   {
    "duration": 25,
    "start_time": "2023-11-09T06:46:12.527Z"
   },
   {
    "duration": 6,
    "start_time": "2023-11-09T06:46:12.553Z"
   },
   {
    "duration": 23,
    "start_time": "2023-11-09T06:46:12.561Z"
   },
   {
    "duration": 41,
    "start_time": "2023-11-09T06:46:12.585Z"
   },
   {
    "duration": 36,
    "start_time": "2023-11-09T06:46:12.627Z"
   },
   {
    "duration": 170,
    "start_time": "2023-11-09T06:46:12.665Z"
   },
   {
    "duration": 7,
    "start_time": "2023-11-09T06:46:12.836Z"
   },
   {
    "duration": 20,
    "start_time": "2023-11-09T06:46:12.845Z"
   },
   {
    "duration": 61,
    "start_time": "2023-11-09T06:46:12.866Z"
   },
   {
    "duration": 304,
    "start_time": "2023-11-09T06:46:12.929Z"
   },
   {
    "duration": 298,
    "start_time": "2023-11-09T06:46:13.235Z"
   },
   {
    "duration": 10,
    "start_time": "2023-11-09T06:46:13.535Z"
   },
   {
    "duration": 166,
    "start_time": "2023-11-09T06:46:13.546Z"
   },
   {
    "duration": 11,
    "start_time": "2023-11-09T06:58:52.722Z"
   },
   {
    "duration": 17,
    "start_time": "2023-11-09T06:58:59.820Z"
   },
   {
    "duration": 145,
    "start_time": "2023-11-09T06:59:27.419Z"
   },
   {
    "duration": 170,
    "start_time": "2023-11-09T06:59:41.972Z"
   },
   {
    "duration": 314,
    "start_time": "2023-11-09T06:59:51.775Z"
   },
   {
    "duration": 54,
    "start_time": "2023-11-09T07:00:34.159Z"
   },
   {
    "duration": 29,
    "start_time": "2023-11-09T07:01:17.228Z"
   },
   {
    "duration": 370,
    "start_time": "2023-11-09T07:08:51.152Z"
   },
   {
    "duration": 28,
    "start_time": "2023-11-09T07:09:21.081Z"
   },
   {
    "duration": 513,
    "start_time": "2023-11-09T07:10:53.329Z"
   },
   {
    "duration": 55,
    "start_time": "2023-11-09T07:11:29.755Z"
   },
   {
    "duration": 19,
    "start_time": "2023-11-09T07:11:42.947Z"
   },
   {
    "duration": 393,
    "start_time": "2023-11-09T07:11:59.859Z"
   },
   {
    "duration": 367,
    "start_time": "2023-11-09T07:12:40.002Z"
   },
   {
    "duration": 385,
    "start_time": "2023-11-09T07:13:05.121Z"
   },
   {
    "duration": 507,
    "start_time": "2023-11-09T07:13:53.542Z"
   },
   {
    "duration": 373,
    "start_time": "2023-11-09T07:14:18.417Z"
   },
   {
    "duration": 39,
    "start_time": "2023-11-09T07:15:42.569Z"
   },
   {
    "duration": 512,
    "start_time": "2023-11-09T07:15:52.607Z"
   },
   {
    "duration": 379,
    "start_time": "2023-11-09T07:16:29.850Z"
   },
   {
    "duration": 405,
    "start_time": "2023-11-09T07:17:58.107Z"
   },
   {
    "duration": 401,
    "start_time": "2023-11-09T07:20:28.374Z"
   },
   {
    "duration": 420,
    "start_time": "2023-11-09T07:21:14.322Z"
   },
   {
    "duration": 53,
    "start_time": "2023-11-09T07:26:19.340Z"
   },
   {
    "duration": 43,
    "start_time": "2023-11-09T07:27:01.951Z"
   },
   {
    "duration": 78,
    "start_time": "2023-11-09T07:27:06.826Z"
   },
   {
    "duration": 260,
    "start_time": "2023-11-09T07:29:37.605Z"
   },
   {
    "duration": 376,
    "start_time": "2023-11-09T07:30:11.613Z"
   },
   {
    "duration": 9,
    "start_time": "2023-11-09T07:32:28.308Z"
   },
   {
    "duration": 24,
    "start_time": "2023-11-09T07:32:42.654Z"
   },
   {
    "duration": 11,
    "start_time": "2023-11-09T07:33:18.394Z"
   },
   {
    "duration": 32,
    "start_time": "2023-11-09T07:33:54.325Z"
   },
   {
    "duration": 25,
    "start_time": "2023-11-09T07:35:58.383Z"
   },
   {
    "duration": 2946,
    "start_time": "2023-11-09T07:36:18.776Z"
   },
   {
    "duration": 3322,
    "start_time": "2023-11-09T07:36:43.732Z"
   },
   {
    "duration": 362,
    "start_time": "2023-11-09T07:37:04.557Z"
   },
   {
    "duration": 308,
    "start_time": "2023-11-09T07:38:39.126Z"
   },
   {
    "duration": 321,
    "start_time": "2023-11-09T07:39:30.804Z"
   },
   {
    "duration": 312,
    "start_time": "2023-11-09T07:40:28.698Z"
   },
   {
    "duration": 361,
    "start_time": "2023-11-09T07:40:46.841Z"
   },
   {
    "duration": 339,
    "start_time": "2023-11-09T07:40:58.970Z"
   },
   {
    "duration": 372,
    "start_time": "2023-11-09T07:41:06.651Z"
   },
   {
    "duration": 390,
    "start_time": "2023-11-09T07:41:46.827Z"
   },
   {
    "duration": 343,
    "start_time": "2023-11-09T07:41:53.760Z"
   },
   {
    "duration": 610,
    "start_time": "2023-11-09T07:44:56.762Z"
   },
   {
    "duration": 51,
    "start_time": "2023-11-09T07:44:57.375Z"
   },
   {
    "duration": 12,
    "start_time": "2023-11-09T07:44:57.428Z"
   },
   {
    "duration": 71,
    "start_time": "2023-11-09T07:44:57.442Z"
   },
   {
    "duration": 19,
    "start_time": "2023-11-09T07:44:57.516Z"
   },
   {
    "duration": 53,
    "start_time": "2023-11-09T07:44:57.537Z"
   },
   {
    "duration": 47,
    "start_time": "2023-11-09T07:44:57.592Z"
   },
   {
    "duration": 38,
    "start_time": "2023-11-09T07:44:57.641Z"
   },
   {
    "duration": 143,
    "start_time": "2023-11-09T07:44:57.681Z"
   },
   {
    "duration": 5,
    "start_time": "2023-11-09T07:44:57.826Z"
   },
   {
    "duration": 47,
    "start_time": "2023-11-09T07:44:57.833Z"
   },
   {
    "duration": 85,
    "start_time": "2023-11-09T07:44:57.882Z"
   },
   {
    "duration": 52,
    "start_time": "2023-11-09T07:44:57.969Z"
   },
   {
    "duration": 39,
    "start_time": "2023-11-09T07:44:58.024Z"
   },
   {
    "duration": 67,
    "start_time": "2023-11-09T07:44:58.064Z"
   },
   {
    "duration": 36,
    "start_time": "2023-11-09T07:44:58.133Z"
   },
   {
    "duration": 99,
    "start_time": "2023-11-09T07:44:58.171Z"
   },
   {
    "duration": 87,
    "start_time": "2023-11-09T07:44:58.272Z"
   },
   {
    "duration": 35,
    "start_time": "2023-11-09T07:44:58.361Z"
   },
   {
    "duration": 58,
    "start_time": "2023-11-09T07:44:58.398Z"
   },
   {
    "duration": 29,
    "start_time": "2023-11-09T07:44:58.458Z"
   },
   {
    "duration": 28,
    "start_time": "2023-11-09T07:44:58.489Z"
   },
   {
    "duration": 18,
    "start_time": "2023-11-09T07:44:58.520Z"
   },
   {
    "duration": 30,
    "start_time": "2023-11-09T07:44:58.540Z"
   },
   {
    "duration": 53,
    "start_time": "2023-11-09T07:44:58.572Z"
   },
   {
    "duration": 28,
    "start_time": "2023-11-09T07:44:58.627Z"
   },
   {
    "duration": 86,
    "start_time": "2023-11-09T07:44:58.657Z"
   },
   {
    "duration": 58,
    "start_time": "2023-11-09T07:44:58.745Z"
   },
   {
    "duration": 37,
    "start_time": "2023-11-09T07:44:58.805Z"
   },
   {
    "duration": 52,
    "start_time": "2023-11-09T07:44:58.844Z"
   },
   {
    "duration": 55,
    "start_time": "2023-11-09T07:44:58.899Z"
   },
   {
    "duration": 60,
    "start_time": "2023-11-09T07:44:58.957Z"
   },
   {
    "duration": 37,
    "start_time": "2023-11-09T07:44:59.019Z"
   },
   {
    "duration": 43,
    "start_time": "2023-11-09T07:44:59.057Z"
   },
   {
    "duration": 100,
    "start_time": "2023-11-09T07:44:59.102Z"
   },
   {
    "duration": 17,
    "start_time": "2023-11-09T07:44:59.204Z"
   },
   {
    "duration": 69,
    "start_time": "2023-11-09T07:44:59.223Z"
   },
   {
    "duration": 19,
    "start_time": "2023-11-09T07:44:59.294Z"
   },
   {
    "duration": 33,
    "start_time": "2023-11-09T07:44:59.315Z"
   },
   {
    "duration": 28,
    "start_time": "2023-11-09T07:44:59.350Z"
   },
   {
    "duration": 40,
    "start_time": "2023-11-09T07:44:59.382Z"
   },
   {
    "duration": 35,
    "start_time": "2023-11-09T07:44:59.424Z"
   },
   {
    "duration": 29,
    "start_time": "2023-11-09T07:44:59.461Z"
   },
   {
    "duration": 43,
    "start_time": "2023-11-09T07:44:59.492Z"
   },
   {
    "duration": 42,
    "start_time": "2023-11-09T07:44:59.537Z"
   },
   {
    "duration": 68,
    "start_time": "2023-11-09T07:44:59.581Z"
   },
   {
    "duration": 16,
    "start_time": "2023-11-09T07:44:59.651Z"
   },
   {
    "duration": 51,
    "start_time": "2023-11-09T07:44:59.669Z"
   },
   {
    "duration": 35,
    "start_time": "2023-11-09T07:44:59.722Z"
   },
   {
    "duration": 65,
    "start_time": "2023-11-09T07:44:59.759Z"
   },
   {
    "duration": 44,
    "start_time": "2023-11-09T07:44:59.826Z"
   },
   {
    "duration": 33,
    "start_time": "2023-11-09T07:44:59.871Z"
   },
   {
    "duration": 44,
    "start_time": "2023-11-09T07:44:59.906Z"
   },
   {
    "duration": 61,
    "start_time": "2023-11-09T07:44:59.952Z"
   },
   {
    "duration": 79,
    "start_time": "2023-11-09T07:45:00.016Z"
   },
   {
    "duration": 561,
    "start_time": "2023-11-09T07:45:00.097Z"
   },
   {
    "duration": 23,
    "start_time": "2023-11-09T07:45:00.660Z"
   },
   {
    "duration": 459,
    "start_time": "2023-11-09T07:45:00.685Z"
   },
   {
    "duration": 5,
    "start_time": "2023-11-09T07:45:01.146Z"
   },
   {
    "duration": 154,
    "start_time": "2023-11-09T07:45:01.153Z"
   },
   {
    "duration": 303,
    "start_time": "2023-11-09T07:45:01.309Z"
   },
   {
    "duration": 26,
    "start_time": "2023-11-09T07:45:01.614Z"
   },
   {
    "duration": 317,
    "start_time": "2023-11-09T07:45:01.642Z"
   },
   {
    "duration": 21,
    "start_time": "2023-11-09T07:45:01.961Z"
   },
   {
    "duration": 63,
    "start_time": "2023-11-09T07:45:01.984Z"
   },
   {
    "duration": 32,
    "start_time": "2023-11-09T07:45:02.049Z"
   },
   {
    "duration": 52,
    "start_time": "2023-11-09T07:45:02.083Z"
   },
   {
    "duration": 59,
    "start_time": "2023-11-09T07:45:02.137Z"
   },
   {
    "duration": 142,
    "start_time": "2023-11-09T07:45:02.198Z"
   },
   {
    "duration": 10,
    "start_time": "2023-11-09T07:45:02.343Z"
   },
   {
    "duration": 39,
    "start_time": "2023-11-09T07:45:02.355Z"
   },
   {
    "duration": 95,
    "start_time": "2023-11-09T07:45:02.396Z"
   },
   {
    "duration": 293,
    "start_time": "2023-11-09T07:45:02.493Z"
   },
   {
    "duration": 261,
    "start_time": "2023-11-09T07:45:02.788Z"
   },
   {
    "duration": 327,
    "start_time": "2023-11-09T07:45:03.051Z"
   },
   {
    "duration": 139,
    "start_time": "2023-11-09T07:45:03.381Z"
   },
   {
    "duration": 18,
    "start_time": "2023-11-09T07:50:03.690Z"
   },
   {
    "duration": 538,
    "start_time": "2023-11-09T07:50:10.421Z"
   },
   {
    "duration": 50,
    "start_time": "2023-11-09T07:50:10.962Z"
   },
   {
    "duration": 7,
    "start_time": "2023-11-09T07:50:11.014Z"
   },
   {
    "duration": 40,
    "start_time": "2023-11-09T07:50:11.022Z"
   },
   {
    "duration": 5,
    "start_time": "2023-11-09T07:50:11.066Z"
   },
   {
    "duration": 36,
    "start_time": "2023-11-09T07:50:11.073Z"
   },
   {
    "duration": 8,
    "start_time": "2023-11-09T07:50:11.111Z"
   },
   {
    "duration": 27,
    "start_time": "2023-11-09T07:50:11.120Z"
   },
   {
    "duration": 142,
    "start_time": "2023-11-09T07:50:11.149Z"
   },
   {
    "duration": 7,
    "start_time": "2023-11-09T07:50:11.292Z"
   },
   {
    "duration": 18,
    "start_time": "2023-11-09T07:50:11.301Z"
   },
   {
    "duration": 24,
    "start_time": "2023-11-09T07:50:11.321Z"
   },
   {
    "duration": 36,
    "start_time": "2023-11-09T07:50:11.348Z"
   },
   {
    "duration": 9,
    "start_time": "2023-11-09T07:50:11.387Z"
   },
   {
    "duration": 17,
    "start_time": "2023-11-09T07:50:11.398Z"
   },
   {
    "duration": 7,
    "start_time": "2023-11-09T07:50:11.417Z"
   },
   {
    "duration": 23,
    "start_time": "2023-11-09T07:50:11.425Z"
   },
   {
    "duration": 86,
    "start_time": "2023-11-09T07:50:11.449Z"
   },
   {
    "duration": 21,
    "start_time": "2023-11-09T07:50:11.537Z"
   },
   {
    "duration": 44,
    "start_time": "2023-11-09T07:50:11.560Z"
   },
   {
    "duration": 12,
    "start_time": "2023-11-09T07:50:11.606Z"
   },
   {
    "duration": 12,
    "start_time": "2023-11-09T07:50:11.620Z"
   },
   {
    "duration": 7,
    "start_time": "2023-11-09T07:50:11.634Z"
   },
   {
    "duration": 6,
    "start_time": "2023-11-09T07:50:11.643Z"
   },
   {
    "duration": 20,
    "start_time": "2023-11-09T07:50:11.650Z"
   },
   {
    "duration": 15,
    "start_time": "2023-11-09T07:50:11.672Z"
   },
   {
    "duration": 7,
    "start_time": "2023-11-09T07:50:11.690Z"
   },
   {
    "duration": 36,
    "start_time": "2023-11-09T07:50:11.699Z"
   },
   {
    "duration": 22,
    "start_time": "2023-11-09T07:50:11.736Z"
   },
   {
    "duration": 43,
    "start_time": "2023-11-09T07:50:11.760Z"
   },
   {
    "duration": 12,
    "start_time": "2023-11-09T07:50:11.805Z"
   },
   {
    "duration": 21,
    "start_time": "2023-11-09T07:50:11.819Z"
   },
   {
    "duration": 29,
    "start_time": "2023-11-09T07:50:11.842Z"
   },
   {
    "duration": 20,
    "start_time": "2023-11-09T07:50:11.873Z"
   },
   {
    "duration": 83,
    "start_time": "2023-11-09T07:50:11.895Z"
   },
   {
    "duration": 17,
    "start_time": "2023-11-09T07:50:11.981Z"
   },
   {
    "duration": 38,
    "start_time": "2023-11-09T07:50:12.000Z"
   },
   {
    "duration": 10,
    "start_time": "2023-11-09T07:50:12.040Z"
   },
   {
    "duration": 38,
    "start_time": "2023-11-09T07:50:12.052Z"
   },
   {
    "duration": 21,
    "start_time": "2023-11-09T07:50:12.092Z"
   },
   {
    "duration": 11,
    "start_time": "2023-11-09T07:50:12.118Z"
   },
   {
    "duration": 6,
    "start_time": "2023-11-09T07:50:12.131Z"
   },
   {
    "duration": 6,
    "start_time": "2023-11-09T07:50:12.139Z"
   },
   {
    "duration": 35,
    "start_time": "2023-11-09T07:50:12.147Z"
   },
   {
    "duration": 46,
    "start_time": "2023-11-09T07:50:12.184Z"
   },
   {
    "duration": 33,
    "start_time": "2023-11-09T07:50:12.232Z"
   },
   {
    "duration": 16,
    "start_time": "2023-11-09T07:50:12.267Z"
   },
   {
    "duration": 19,
    "start_time": "2023-11-09T07:50:12.285Z"
   },
   {
    "duration": 20,
    "start_time": "2023-11-09T07:50:12.306Z"
   },
   {
    "duration": 26,
    "start_time": "2023-11-09T07:50:12.328Z"
   },
   {
    "duration": 25,
    "start_time": "2023-11-09T07:50:12.356Z"
   },
   {
    "duration": 4,
    "start_time": "2023-11-09T07:50:12.383Z"
   },
   {
    "duration": 14,
    "start_time": "2023-11-09T07:50:12.389Z"
   },
   {
    "duration": 48,
    "start_time": "2023-11-09T07:50:12.405Z"
   },
   {
    "duration": 44,
    "start_time": "2023-11-09T07:50:12.455Z"
   },
   {
    "duration": 400,
    "start_time": "2023-11-09T07:50:12.501Z"
   },
   {
    "duration": 15,
    "start_time": "2023-11-09T07:50:12.903Z"
   },
   {
    "duration": 162,
    "start_time": "2023-11-09T07:50:12.920Z"
   },
   {
    "duration": 5,
    "start_time": "2023-11-09T07:50:13.085Z"
   },
   {
    "duration": 45,
    "start_time": "2023-11-09T07:50:13.092Z"
   },
   {
    "duration": 218,
    "start_time": "2023-11-09T07:50:13.140Z"
   },
   {
    "duration": 34,
    "start_time": "2023-11-09T07:50:13.359Z"
   },
   {
    "duration": 277,
    "start_time": "2023-11-09T07:50:13.394Z"
   },
   {
    "duration": 18,
    "start_time": "2023-11-09T07:50:13.673Z"
   },
   {
    "duration": 5,
    "start_time": "2023-11-09T07:50:13.693Z"
   },
   {
    "duration": 9,
    "start_time": "2023-11-09T07:50:13.700Z"
   },
   {
    "duration": 44,
    "start_time": "2023-11-09T07:50:13.711Z"
   },
   {
    "duration": 37,
    "start_time": "2023-11-09T07:50:13.757Z"
   },
   {
    "duration": 142,
    "start_time": "2023-11-09T07:50:13.796Z"
   },
   {
    "duration": 6,
    "start_time": "2023-11-09T07:50:13.940Z"
   },
   {
    "duration": 33,
    "start_time": "2023-11-09T07:50:13.948Z"
   },
   {
    "duration": 35,
    "start_time": "2023-11-09T07:50:13.983Z"
   },
   {
    "duration": 282,
    "start_time": "2023-11-09T07:50:14.019Z"
   },
   {
    "duration": 253,
    "start_time": "2023-11-09T07:50:14.303Z"
   },
   {
    "duration": 299,
    "start_time": "2023-11-09T07:50:14.557Z"
   },
   {
    "duration": 6,
    "start_time": "2023-11-09T08:51:54.738Z"
   },
   {
    "duration": 8,
    "start_time": "2023-11-09T08:58:38.577Z"
   },
   {
    "duration": 113,
    "start_time": "2023-11-09T08:58:48.254Z"
   },
   {
    "duration": 8,
    "start_time": "2023-11-09T08:58:55.009Z"
   },
   {
    "duration": 7,
    "start_time": "2023-11-09T08:58:58.136Z"
   },
   {
    "duration": 202,
    "start_time": "2023-11-09T09:38:31.327Z"
   },
   {
    "duration": 104,
    "start_time": "2023-11-10T07:30:01.478Z"
   },
   {
    "duration": 543,
    "start_time": "2023-11-10T07:30:08.135Z"
   },
   {
    "duration": 8,
    "start_time": "2023-11-10T07:30:12.702Z"
   },
   {
    "duration": 93,
    "start_time": "2023-11-10T07:30:38.981Z"
   },
   {
    "duration": 203,
    "start_time": "2023-11-10T07:33:42.578Z"
   },
   {
    "duration": 151,
    "start_time": "2023-11-10T07:33:56.732Z"
   },
   {
    "duration": 178,
    "start_time": "2023-11-10T07:34:04.332Z"
   },
   {
    "duration": 11,
    "start_time": "2023-11-10T07:37:56.238Z"
   },
   {
    "duration": 563,
    "start_time": "2023-11-10T07:41:20.040Z"
   },
   {
    "duration": 282,
    "start_time": "2023-11-10T07:41:28.522Z"
   },
   {
    "duration": 3,
    "start_time": "2023-11-10T07:41:37.989Z"
   },
   {
    "duration": 144,
    "start_time": "2023-11-10T07:41:37.995Z"
   },
   {
    "duration": 105,
    "start_time": "2023-11-10T07:41:38.141Z"
   },
   {
    "duration": 8,
    "start_time": "2023-11-10T07:41:38.249Z"
   },
   {
    "duration": 41,
    "start_time": "2023-11-10T07:41:38.262Z"
   },
   {
    "duration": 21,
    "start_time": "2023-11-10T07:41:38.305Z"
   },
   {
    "duration": 28,
    "start_time": "2023-11-10T07:41:38.329Z"
   },
   {
    "duration": 5,
    "start_time": "2023-11-10T07:41:38.360Z"
   },
   {
    "duration": 12,
    "start_time": "2023-11-10T07:41:38.367Z"
   },
   {
    "duration": 156,
    "start_time": "2023-11-10T07:41:38.382Z"
   },
   {
    "duration": 8,
    "start_time": "2023-11-10T07:41:38.549Z"
   },
   {
    "duration": 17,
    "start_time": "2023-11-10T07:41:38.561Z"
   },
   {
    "duration": 43,
    "start_time": "2023-11-10T07:41:38.579Z"
   },
   {
    "duration": 20,
    "start_time": "2023-11-10T07:41:38.630Z"
   },
   {
    "duration": 9,
    "start_time": "2023-11-10T07:41:38.652Z"
   },
   {
    "duration": 16,
    "start_time": "2023-11-10T07:41:38.662Z"
   },
   {
    "duration": 5,
    "start_time": "2023-11-10T07:41:38.680Z"
   },
   {
    "duration": 57,
    "start_time": "2023-11-10T07:41:38.687Z"
   },
   {
    "duration": 32,
    "start_time": "2023-11-10T07:41:38.747Z"
   },
   {
    "duration": 10,
    "start_time": "2023-11-10T07:41:38.781Z"
   },
   {
    "duration": 49,
    "start_time": "2023-11-10T07:41:38.793Z"
   },
   {
    "duration": 7,
    "start_time": "2023-11-10T07:41:38.845Z"
   },
   {
    "duration": 16,
    "start_time": "2023-11-10T07:41:38.854Z"
   },
   {
    "duration": 11,
    "start_time": "2023-11-10T07:41:38.872Z"
   },
   {
    "duration": 9,
    "start_time": "2023-11-10T07:41:38.884Z"
   },
   {
    "duration": 37,
    "start_time": "2023-11-10T07:41:38.895Z"
   },
   {
    "duration": 14,
    "start_time": "2023-11-10T07:41:38.934Z"
   },
   {
    "duration": 12,
    "start_time": "2023-11-10T07:41:38.950Z"
   },
   {
    "duration": 39,
    "start_time": "2023-11-10T07:41:38.964Z"
   },
   {
    "duration": 36,
    "start_time": "2023-11-10T07:41:39.005Z"
   },
   {
    "duration": 26,
    "start_time": "2023-11-10T07:41:39.043Z"
   },
   {
    "duration": 14,
    "start_time": "2023-11-10T07:41:39.071Z"
   },
   {
    "duration": 19,
    "start_time": "2023-11-10T07:41:39.087Z"
   },
   {
    "duration": 30,
    "start_time": "2023-11-10T07:41:39.108Z"
   },
   {
    "duration": 11,
    "start_time": "2023-11-10T07:41:39.143Z"
   },
   {
    "duration": 87,
    "start_time": "2023-11-10T07:41:39.156Z"
   },
   {
    "duration": 25,
    "start_time": "2023-11-10T07:41:39.246Z"
   },
   {
    "duration": 61,
    "start_time": "2023-11-10T07:41:39.273Z"
   },
   {
    "duration": 12,
    "start_time": "2023-11-10T07:41:39.338Z"
   },
   {
    "duration": 10,
    "start_time": "2023-11-10T07:41:39.353Z"
   },
   {
    "duration": 14,
    "start_time": "2023-11-10T07:41:39.368Z"
   },
   {
    "duration": 17,
    "start_time": "2023-11-10T07:41:39.384Z"
   },
   {
    "duration": 17,
    "start_time": "2023-11-10T07:41:39.403Z"
   },
   {
    "duration": 22,
    "start_time": "2023-11-10T07:41:39.424Z"
   },
   {
    "duration": 19,
    "start_time": "2023-11-10T07:41:39.447Z"
   },
   {
    "duration": 9,
    "start_time": "2023-11-10T07:41:39.467Z"
   },
   {
    "duration": 29,
    "start_time": "2023-11-10T07:41:39.478Z"
   },
   {
    "duration": 39,
    "start_time": "2023-11-10T07:41:39.509Z"
   },
   {
    "duration": 32,
    "start_time": "2023-11-10T07:41:39.551Z"
   },
   {
    "duration": 21,
    "start_time": "2023-11-10T07:41:39.585Z"
   },
   {
    "duration": 47,
    "start_time": "2023-11-10T07:41:39.609Z"
   },
   {
    "duration": 7,
    "start_time": "2023-11-10T07:41:39.658Z"
   },
   {
    "duration": 5,
    "start_time": "2023-11-10T07:41:39.667Z"
   },
   {
    "duration": 11,
    "start_time": "2023-11-10T07:41:39.674Z"
   },
   {
    "duration": 59,
    "start_time": "2023-11-10T07:41:39.686Z"
   },
   {
    "duration": 29,
    "start_time": "2023-11-10T07:41:39.747Z"
   },
   {
    "duration": 237,
    "start_time": "2023-11-10T07:41:39.778Z"
   },
   {
    "duration": 27,
    "start_time": "2023-11-10T07:41:40.025Z"
   },
   {
    "duration": 186,
    "start_time": "2023-11-10T07:41:40.054Z"
   },
   {
    "duration": 6,
    "start_time": "2023-11-10T07:41:40.251Z"
   },
   {
    "duration": 41,
    "start_time": "2023-11-10T07:41:40.259Z"
   },
   {
    "duration": 186,
    "start_time": "2023-11-10T07:41:40.302Z"
   },
   {
    "duration": 54,
    "start_time": "2023-11-10T07:41:40.490Z"
   },
   {
    "duration": 451,
    "start_time": "2023-11-10T07:41:40.546Z"
   },
   {
    "duration": 23,
    "start_time": "2023-11-10T07:41:40.999Z"
   },
   {
    "duration": 16,
    "start_time": "2023-11-10T07:41:41.026Z"
   },
   {
    "duration": 7,
    "start_time": "2023-11-10T07:41:41.045Z"
   },
   {
    "duration": 7,
    "start_time": "2023-11-10T07:41:41.059Z"
   },
   {
    "duration": 23,
    "start_time": "2023-11-10T07:41:41.068Z"
   },
   {
    "duration": 68,
    "start_time": "2023-11-10T07:41:41.093Z"
   },
   {
    "duration": 160,
    "start_time": "2023-11-10T07:41:41.163Z"
   },
   {
    "duration": 18,
    "start_time": "2023-11-10T07:41:41.331Z"
   },
   {
    "duration": 21,
    "start_time": "2023-11-10T07:41:41.351Z"
   },
   {
    "duration": 42,
    "start_time": "2023-11-10T07:41:41.373Z"
   },
   {
    "duration": 298,
    "start_time": "2023-11-10T07:41:41.420Z"
   },
   {
    "duration": 306,
    "start_time": "2023-11-10T07:41:41.719Z"
   },
   {
    "duration": 363,
    "start_time": "2023-11-10T07:41:42.027Z"
   },
   {
    "duration": 299,
    "start_time": "2023-11-10T07:49:10.711Z"
   },
   {
    "duration": 367,
    "start_time": "2023-11-10T07:51:01.326Z"
   },
   {
    "duration": 165,
    "start_time": "2023-11-10T07:51:25.746Z"
   },
   {
    "duration": 310,
    "start_time": "2023-11-10T07:51:35.474Z"
   },
   {
    "duration": 349,
    "start_time": "2023-11-10T07:51:51.932Z"
   },
   {
    "duration": 288,
    "start_time": "2023-11-10T07:52:03.192Z"
   },
   {
    "duration": 418,
    "start_time": "2023-11-10T07:52:13.931Z"
   },
   {
    "duration": 282,
    "start_time": "2023-11-10T07:52:20.383Z"
   },
   {
    "duration": 268,
    "start_time": "2023-11-10T07:52:23.959Z"
   },
   {
    "duration": 92,
    "start_time": "2023-11-10T07:52:44.321Z"
   },
   {
    "duration": 86,
    "start_time": "2023-11-10T07:52:49.408Z"
   },
   {
    "duration": 82,
    "start_time": "2023-11-10T07:56:23.395Z"
   },
   {
    "duration": 328,
    "start_time": "2023-11-10T07:56:37.054Z"
   },
   {
    "duration": 294,
    "start_time": "2023-11-10T07:56:41.446Z"
   },
   {
    "duration": 279,
    "start_time": "2023-11-10T07:56:47.028Z"
   },
   {
    "duration": 388,
    "start_time": "2023-11-10T07:56:51.364Z"
   },
   {
    "duration": 79,
    "start_time": "2023-11-10T07:57:06.553Z"
   },
   {
    "duration": 222,
    "start_time": "2023-11-10T08:01:01.267Z"
   },
   {
    "duration": 232,
    "start_time": "2023-11-10T08:03:28.833Z"
   },
   {
    "duration": 382,
    "start_time": "2023-11-10T08:03:38.418Z"
   },
   {
    "duration": 225,
    "start_time": "2023-11-10T08:03:47.825Z"
   },
   {
    "duration": 1887,
    "start_time": "2023-11-10T08:04:40.537Z"
   },
   {
    "duration": 1404,
    "start_time": "2023-11-10T08:06:37.736Z"
   },
   {
    "duration": 221,
    "start_time": "2023-11-10T08:06:51.682Z"
   },
   {
    "duration": 228,
    "start_time": "2023-11-10T08:06:58.897Z"
   },
   {
    "duration": 209,
    "start_time": "2023-11-10T08:07:40.702Z"
   },
   {
    "duration": 217,
    "start_time": "2023-11-10T08:08:02.379Z"
   },
   {
    "duration": 225,
    "start_time": "2023-11-10T08:09:01.441Z"
   },
   {
    "duration": 227,
    "start_time": "2023-11-10T08:09:05.082Z"
   },
   {
    "duration": 195,
    "start_time": "2023-11-10T08:09:16.544Z"
   },
   {
    "duration": 197,
    "start_time": "2023-11-10T08:09:25.397Z"
   },
   {
    "duration": 820,
    "start_time": "2023-11-10T08:14:48.425Z"
   },
   {
    "duration": 139,
    "start_time": "2023-11-10T08:14:49.247Z"
   },
   {
    "duration": 60,
    "start_time": "2023-11-10T08:14:49.389Z"
   },
   {
    "duration": 6,
    "start_time": "2023-11-10T08:14:49.452Z"
   },
   {
    "duration": 75,
    "start_time": "2023-11-10T08:14:49.460Z"
   },
   {
    "duration": 21,
    "start_time": "2023-11-10T08:14:49.538Z"
   },
   {
    "duration": 67,
    "start_time": "2023-11-10T08:14:49.562Z"
   },
   {
    "duration": 39,
    "start_time": "2023-11-10T08:14:49.633Z"
   },
   {
    "duration": 69,
    "start_time": "2023-11-10T08:14:49.674Z"
   },
   {
    "duration": 172,
    "start_time": "2023-11-10T08:14:49.745Z"
   },
   {
    "duration": 15,
    "start_time": "2023-11-10T08:14:49.919Z"
   },
   {
    "duration": 47,
    "start_time": "2023-11-10T08:14:49.937Z"
   },
   {
    "duration": 77,
    "start_time": "2023-11-10T08:14:49.986Z"
   },
   {
    "duration": 61,
    "start_time": "2023-11-10T08:14:50.068Z"
   },
   {
    "duration": 48,
    "start_time": "2023-11-10T08:14:50.132Z"
   },
   {
    "duration": 64,
    "start_time": "2023-11-10T08:14:50.182Z"
   },
   {
    "duration": 37,
    "start_time": "2023-11-10T08:14:50.248Z"
   },
   {
    "duration": 53,
    "start_time": "2023-11-10T08:14:50.287Z"
   },
   {
    "duration": 58,
    "start_time": "2023-11-10T08:14:50.343Z"
   },
   {
    "duration": 21,
    "start_time": "2023-11-10T08:14:50.403Z"
   },
   {
    "duration": 72,
    "start_time": "2023-11-10T08:14:50.426Z"
   },
   {
    "duration": 38,
    "start_time": "2023-11-10T08:14:50.500Z"
   },
   {
    "duration": 62,
    "start_time": "2023-11-10T08:14:50.540Z"
   },
   {
    "duration": 34,
    "start_time": "2023-11-10T08:14:50.603Z"
   },
   {
    "duration": 28,
    "start_time": "2023-11-10T08:14:50.639Z"
   },
   {
    "duration": 29,
    "start_time": "2023-11-10T08:14:50.671Z"
   },
   {
    "duration": 47,
    "start_time": "2023-11-10T08:14:50.702Z"
   },
   {
    "duration": 48,
    "start_time": "2023-11-10T08:14:50.751Z"
   },
   {
    "duration": 86,
    "start_time": "2023-11-10T08:14:50.801Z"
   },
   {
    "duration": 49,
    "start_time": "2023-11-10T08:14:50.889Z"
   },
   {
    "duration": 34,
    "start_time": "2023-11-10T08:14:50.940Z"
   },
   {
    "duration": 73,
    "start_time": "2023-11-10T08:14:50.976Z"
   },
   {
    "duration": 77,
    "start_time": "2023-11-10T08:14:51.051Z"
   },
   {
    "duration": 57,
    "start_time": "2023-11-10T08:14:51.135Z"
   },
   {
    "duration": 45,
    "start_time": "2023-11-10T08:14:51.194Z"
   },
   {
    "duration": 109,
    "start_time": "2023-11-10T08:14:51.241Z"
   },
   {
    "duration": 18,
    "start_time": "2023-11-10T08:14:51.352Z"
   },
   {
    "duration": 67,
    "start_time": "2023-11-10T08:14:51.372Z"
   },
   {
    "duration": 11,
    "start_time": "2023-11-10T08:14:51.441Z"
   },
   {
    "duration": 32,
    "start_time": "2023-11-10T08:14:51.454Z"
   },
   {
    "duration": 46,
    "start_time": "2023-11-10T08:14:51.493Z"
   },
   {
    "duration": 44,
    "start_time": "2023-11-10T08:14:51.540Z"
   },
   {
    "duration": 31,
    "start_time": "2023-11-10T08:14:51.585Z"
   },
   {
    "duration": 38,
    "start_time": "2023-11-10T08:14:51.619Z"
   },
   {
    "duration": 35,
    "start_time": "2023-11-10T08:14:51.659Z"
   },
   {
    "duration": 62,
    "start_time": "2023-11-10T08:14:51.696Z"
   },
   {
    "duration": 94,
    "start_time": "2023-11-10T08:14:51.760Z"
   },
   {
    "duration": 23,
    "start_time": "2023-11-10T08:14:51.856Z"
   },
   {
    "duration": 64,
    "start_time": "2023-11-10T08:14:51.880Z"
   },
   {
    "duration": 47,
    "start_time": "2023-11-10T08:14:51.946Z"
   },
   {
    "duration": 60,
    "start_time": "2023-11-10T08:14:51.995Z"
   },
   {
    "duration": 38,
    "start_time": "2023-11-10T08:14:52.057Z"
   },
   {
    "duration": 34,
    "start_time": "2023-11-10T08:14:52.097Z"
   },
   {
    "duration": 77,
    "start_time": "2023-11-10T08:14:52.133Z"
   },
   {
    "duration": 72,
    "start_time": "2023-11-10T08:14:52.212Z"
   },
   {
    "duration": 48,
    "start_time": "2023-11-10T08:14:52.286Z"
   },
   {
    "duration": 224,
    "start_time": "2023-11-10T08:14:52.337Z"
   },
   {
    "duration": 15,
    "start_time": "2023-11-10T08:14:52.563Z"
   },
   {
    "duration": 209,
    "start_time": "2023-11-10T08:14:52.579Z"
   },
   {
    "duration": 4,
    "start_time": "2023-11-10T08:14:52.790Z"
   },
   {
    "duration": 99,
    "start_time": "2023-11-10T08:14:52.797Z"
   },
   {
    "duration": 237,
    "start_time": "2023-11-10T08:14:52.898Z"
   },
   {
    "duration": 233,
    "start_time": "2023-11-10T08:14:53.138Z"
   },
   {
    "duration": 24,
    "start_time": "2023-11-10T08:14:53.373Z"
   },
   {
    "duration": 310,
    "start_time": "2023-11-10T08:14:53.399Z"
   },
   {
    "duration": 20,
    "start_time": "2023-11-10T08:14:53.711Z"
   },
   {
    "duration": 32,
    "start_time": "2023-11-10T08:14:53.733Z"
   },
   {
    "duration": 50,
    "start_time": "2023-11-10T08:14:53.766Z"
   },
   {
    "duration": 26,
    "start_time": "2023-11-10T08:14:53.819Z"
   },
   {
    "duration": 50,
    "start_time": "2023-11-10T08:14:53.847Z"
   },
   {
    "duration": 61,
    "start_time": "2023-11-10T08:14:53.898Z"
   },
   {
    "duration": 144,
    "start_time": "2023-11-10T08:14:53.961Z"
   },
   {
    "duration": 8,
    "start_time": "2023-11-10T08:14:54.107Z"
   },
   {
    "duration": 43,
    "start_time": "2023-11-10T08:14:54.117Z"
   },
   {
    "duration": 48,
    "start_time": "2023-11-10T08:14:54.162Z"
   },
   {
    "duration": 290,
    "start_time": "2023-11-10T08:14:54.211Z"
   },
   {
    "duration": 329,
    "start_time": "2023-11-10T08:14:54.503Z"
   },
   {
    "duration": 317,
    "start_time": "2023-11-10T08:14:54.834Z"
   },
   {
    "duration": 740,
    "start_time": "2023-11-10T08:21:04.149Z"
   },
   {
    "duration": 144,
    "start_time": "2023-11-10T08:21:04.891Z"
   },
   {
    "duration": 51,
    "start_time": "2023-11-10T08:21:05.037Z"
   },
   {
    "duration": 5,
    "start_time": "2023-11-10T08:21:05.090Z"
   },
   {
    "duration": 36,
    "start_time": "2023-11-10T08:21:05.097Z"
   },
   {
    "duration": 13,
    "start_time": "2023-11-10T08:21:05.135Z"
   },
   {
    "duration": 24,
    "start_time": "2023-11-10T08:21:05.150Z"
   },
   {
    "duration": 6,
    "start_time": "2023-11-10T08:21:05.176Z"
   },
   {
    "duration": 22,
    "start_time": "2023-11-10T08:21:05.184Z"
   },
   {
    "duration": 126,
    "start_time": "2023-11-10T08:21:05.208Z"
   },
   {
    "duration": 6,
    "start_time": "2023-11-10T08:21:05.337Z"
   },
   {
    "duration": 27,
    "start_time": "2023-11-10T08:21:05.345Z"
   },
   {
    "duration": 24,
    "start_time": "2023-11-10T08:21:05.374Z"
   },
   {
    "duration": 23,
    "start_time": "2023-11-10T08:21:05.402Z"
   },
   {
    "duration": 11,
    "start_time": "2023-11-10T08:21:05.427Z"
   },
   {
    "duration": 25,
    "start_time": "2023-11-10T08:21:05.439Z"
   },
   {
    "duration": 19,
    "start_time": "2023-11-10T08:21:05.466Z"
   },
   {
    "duration": 39,
    "start_time": "2023-11-10T08:21:05.487Z"
   },
   {
    "duration": 34,
    "start_time": "2023-11-10T08:21:05.533Z"
   },
   {
    "duration": 10,
    "start_time": "2023-11-10T08:21:05.568Z"
   },
   {
    "duration": 24,
    "start_time": "2023-11-10T08:21:05.580Z"
   },
   {
    "duration": 17,
    "start_time": "2023-11-10T08:21:05.606Z"
   },
   {
    "duration": 29,
    "start_time": "2023-11-10T08:21:05.625Z"
   },
   {
    "duration": 38,
    "start_time": "2023-11-10T08:21:05.656Z"
   },
   {
    "duration": 19,
    "start_time": "2023-11-10T08:21:05.696Z"
   },
   {
    "duration": 23,
    "start_time": "2023-11-10T08:21:05.717Z"
   },
   {
    "duration": 14,
    "start_time": "2023-11-10T08:21:05.742Z"
   },
   {
    "duration": 5,
    "start_time": "2023-11-10T08:21:05.757Z"
   },
   {
    "duration": 34,
    "start_time": "2023-11-10T08:21:05.764Z"
   },
   {
    "duration": 25,
    "start_time": "2023-11-10T08:21:05.800Z"
   },
   {
    "duration": 31,
    "start_time": "2023-11-10T08:21:05.827Z"
   },
   {
    "duration": 20,
    "start_time": "2023-11-10T08:21:05.860Z"
   },
   {
    "duration": 10,
    "start_time": "2023-11-10T08:21:05.881Z"
   },
   {
    "duration": 17,
    "start_time": "2023-11-10T08:21:05.892Z"
   },
   {
    "duration": 26,
    "start_time": "2023-11-10T08:21:05.910Z"
   },
   {
    "duration": 67,
    "start_time": "2023-11-10T08:21:05.938Z"
   },
   {
    "duration": 27,
    "start_time": "2023-11-10T08:21:06.007Z"
   },
   {
    "duration": 38,
    "start_time": "2023-11-10T08:21:06.037Z"
   },
   {
    "duration": 10,
    "start_time": "2023-11-10T08:21:06.076Z"
   },
   {
    "duration": 41,
    "start_time": "2023-11-10T08:21:06.087Z"
   },
   {
    "duration": 14,
    "start_time": "2023-11-10T08:21:06.137Z"
   },
   {
    "duration": 18,
    "start_time": "2023-11-10T08:21:06.153Z"
   },
   {
    "duration": 6,
    "start_time": "2023-11-10T08:21:06.172Z"
   },
   {
    "duration": 53,
    "start_time": "2023-11-10T08:21:06.180Z"
   },
   {
    "duration": 28,
    "start_time": "2023-11-10T08:21:06.235Z"
   },
   {
    "duration": 17,
    "start_time": "2023-11-10T08:21:06.265Z"
   },
   {
    "duration": 32,
    "start_time": "2023-11-10T08:21:06.283Z"
   },
   {
    "duration": 24,
    "start_time": "2023-11-10T08:21:06.318Z"
   },
   {
    "duration": 29,
    "start_time": "2023-11-10T08:21:06.344Z"
   },
   {
    "duration": 41,
    "start_time": "2023-11-10T08:21:06.375Z"
   },
   {
    "duration": 34,
    "start_time": "2023-11-10T08:21:06.419Z"
   },
   {
    "duration": 7,
    "start_time": "2023-11-10T08:21:06.454Z"
   },
   {
    "duration": 14,
    "start_time": "2023-11-10T08:21:06.463Z"
   },
   {
    "duration": 12,
    "start_time": "2023-11-10T08:21:06.479Z"
   },
   {
    "duration": 27,
    "start_time": "2023-11-10T08:21:06.513Z"
   },
   {
    "duration": 27,
    "start_time": "2023-11-10T08:21:06.542Z"
   },
   {
    "duration": 230,
    "start_time": "2023-11-10T08:21:06.570Z"
   },
   {
    "duration": 28,
    "start_time": "2023-11-10T08:21:06.801Z"
   },
   {
    "duration": 168,
    "start_time": "2023-11-10T08:21:06.832Z"
   },
   {
    "duration": 5,
    "start_time": "2023-11-10T08:21:07.001Z"
   },
   {
    "duration": 67,
    "start_time": "2023-11-10T08:21:07.007Z"
   },
   {
    "duration": 202,
    "start_time": "2023-11-10T08:21:07.076Z"
   },
   {
    "duration": 229,
    "start_time": "2023-11-10T08:21:07.280Z"
   },
   {
    "duration": 35,
    "start_time": "2023-11-10T08:21:07.514Z"
   },
   {
    "duration": 331,
    "start_time": "2023-11-10T08:21:07.551Z"
   },
   {
    "duration": 17,
    "start_time": "2023-11-10T08:21:07.884Z"
   },
   {
    "duration": 5,
    "start_time": "2023-11-10T08:21:07.914Z"
   },
   {
    "duration": 9,
    "start_time": "2023-11-10T08:21:07.921Z"
   },
   {
    "duration": 8,
    "start_time": "2023-11-10T08:21:07.932Z"
   },
   {
    "duration": 31,
    "start_time": "2023-11-10T08:21:07.942Z"
   },
   {
    "duration": 52,
    "start_time": "2023-11-10T08:21:07.974Z"
   },
   {
    "duration": 150,
    "start_time": "2023-11-10T08:21:08.029Z"
   },
   {
    "duration": 7,
    "start_time": "2023-11-10T08:21:08.180Z"
   },
   {
    "duration": 59,
    "start_time": "2023-11-10T08:21:08.188Z"
   },
   {
    "duration": 42,
    "start_time": "2023-11-10T08:21:08.249Z"
   },
   {
    "duration": 322,
    "start_time": "2023-11-10T08:21:08.294Z"
   },
   {
    "duration": 292,
    "start_time": "2023-11-10T08:21:08.618Z"
   },
   {
    "duration": 329,
    "start_time": "2023-11-10T08:21:08.913Z"
   },
   {
    "duration": 254,
    "start_time": "2023-11-10T08:21:38.165Z"
   },
   {
    "duration": 3,
    "start_time": "2023-11-10T08:21:44.504Z"
   },
   {
    "duration": 175,
    "start_time": "2023-11-10T08:21:44.511Z"
   },
   {
    "duration": 61,
    "start_time": "2023-11-10T08:21:44.688Z"
   },
   {
    "duration": 6,
    "start_time": "2023-11-10T08:21:44.751Z"
   },
   {
    "duration": 27,
    "start_time": "2023-11-10T08:21:44.759Z"
   },
   {
    "duration": 5,
    "start_time": "2023-11-10T08:21:44.788Z"
   },
   {
    "duration": 44,
    "start_time": "2023-11-10T08:21:44.795Z"
   },
   {
    "duration": 5,
    "start_time": "2023-11-10T08:21:44.841Z"
   },
   {
    "duration": 11,
    "start_time": "2023-11-10T08:21:44.848Z"
   },
   {
    "duration": 143,
    "start_time": "2023-11-10T08:21:44.861Z"
   },
   {
    "duration": 6,
    "start_time": "2023-11-10T08:21:45.006Z"
   },
   {
    "duration": 41,
    "start_time": "2023-11-10T08:21:45.014Z"
   },
   {
    "duration": 28,
    "start_time": "2023-11-10T08:21:45.057Z"
   },
   {
    "duration": 13,
    "start_time": "2023-11-10T08:21:45.088Z"
   },
   {
    "duration": 11,
    "start_time": "2023-11-10T08:21:45.103Z"
   },
   {
    "duration": 18,
    "start_time": "2023-11-10T08:21:45.116Z"
   },
   {
    "duration": 5,
    "start_time": "2023-11-10T08:21:45.138Z"
   },
   {
    "duration": 32,
    "start_time": "2023-11-10T08:21:45.145Z"
   },
   {
    "duration": 56,
    "start_time": "2023-11-10T08:21:45.179Z"
   },
   {
    "duration": 11,
    "start_time": "2023-11-10T08:21:45.238Z"
   },
   {
    "duration": 33,
    "start_time": "2023-11-10T08:21:45.252Z"
   },
   {
    "duration": 6,
    "start_time": "2023-11-10T08:21:45.314Z"
   },
   {
    "duration": 17,
    "start_time": "2023-11-10T08:21:45.326Z"
   },
   {
    "duration": 9,
    "start_time": "2023-11-10T08:21:45.345Z"
   },
   {
    "duration": 7,
    "start_time": "2023-11-10T08:21:45.357Z"
   },
   {
    "duration": 25,
    "start_time": "2023-11-10T08:21:45.366Z"
   },
   {
    "duration": 4,
    "start_time": "2023-11-10T08:21:45.393Z"
   },
   {
    "duration": 17,
    "start_time": "2023-11-10T08:21:45.400Z"
   },
   {
    "duration": 37,
    "start_time": "2023-11-10T08:21:45.418Z"
   },
   {
    "duration": 32,
    "start_time": "2023-11-10T08:21:45.458Z"
   },
   {
    "duration": 37,
    "start_time": "2023-11-10T08:21:45.514Z"
   },
   {
    "duration": 13,
    "start_time": "2023-11-10T08:21:45.553Z"
   },
   {
    "duration": 26,
    "start_time": "2023-11-10T08:21:45.568Z"
   },
   {
    "duration": 8,
    "start_time": "2023-11-10T08:21:45.596Z"
   },
   {
    "duration": 22,
    "start_time": "2023-11-10T08:21:45.605Z"
   },
   {
    "duration": 73,
    "start_time": "2023-11-10T08:21:45.630Z"
   },
   {
    "duration": 35,
    "start_time": "2023-11-10T08:21:45.705Z"
   },
   {
    "duration": 40,
    "start_time": "2023-11-10T08:21:45.741Z"
   },
   {
    "duration": 34,
    "start_time": "2023-11-10T08:21:45.784Z"
   },
   {
    "duration": 19,
    "start_time": "2023-11-10T08:21:45.820Z"
   },
   {
    "duration": 9,
    "start_time": "2023-11-10T08:21:45.844Z"
   },
   {
    "duration": 12,
    "start_time": "2023-11-10T08:21:45.855Z"
   },
   {
    "duration": 24,
    "start_time": "2023-11-10T08:21:45.869Z"
   },
   {
    "duration": 29,
    "start_time": "2023-11-10T08:21:45.895Z"
   },
   {
    "duration": 16,
    "start_time": "2023-11-10T08:21:45.927Z"
   },
   {
    "duration": 16,
    "start_time": "2023-11-10T08:21:45.952Z"
   },
   {
    "duration": 55,
    "start_time": "2023-11-10T08:21:45.970Z"
   },
   {
    "duration": 23,
    "start_time": "2023-11-10T08:21:46.027Z"
   },
   {
    "duration": 17,
    "start_time": "2023-11-10T08:21:46.052Z"
   },
   {
    "duration": 27,
    "start_time": "2023-11-10T08:21:46.071Z"
   },
   {
    "duration": 32,
    "start_time": "2023-11-10T08:21:46.125Z"
   },
   {
    "duration": 9,
    "start_time": "2023-11-10T08:21:46.159Z"
   },
   {
    "duration": 15,
    "start_time": "2023-11-10T08:21:46.171Z"
   },
   {
    "duration": 32,
    "start_time": "2023-11-10T08:21:46.188Z"
   },
   {
    "duration": 48,
    "start_time": "2023-11-10T08:21:46.222Z"
   },
   {
    "duration": 27,
    "start_time": "2023-11-10T08:21:46.272Z"
   },
   {
    "duration": 200,
    "start_time": "2023-11-10T08:21:46.301Z"
   },
   {
    "duration": 20,
    "start_time": "2023-11-10T08:21:46.503Z"
   },
   {
    "duration": 199,
    "start_time": "2023-11-10T08:21:46.527Z"
   },
   {
    "duration": 10,
    "start_time": "2023-11-10T08:21:46.728Z"
   },
   {
    "duration": 50,
    "start_time": "2023-11-10T08:21:46.740Z"
   },
   {
    "duration": 234,
    "start_time": "2023-11-10T08:21:46.792Z"
   },
   {
    "duration": 247,
    "start_time": "2023-11-10T08:21:47.029Z"
   },
   {
    "duration": 22,
    "start_time": "2023-11-10T08:21:47.278Z"
   },
   {
    "duration": 268,
    "start_time": "2023-11-10T08:21:47.321Z"
   },
   {
    "duration": 23,
    "start_time": "2023-11-10T08:21:47.592Z"
   },
   {
    "duration": 6,
    "start_time": "2023-11-10T08:21:47.618Z"
   },
   {
    "duration": 9,
    "start_time": "2023-11-10T08:21:47.626Z"
   },
   {
    "duration": 7,
    "start_time": "2023-11-10T08:21:47.638Z"
   },
   {
    "duration": 19,
    "start_time": "2023-11-10T08:21:47.646Z"
   },
   {
    "duration": 77,
    "start_time": "2023-11-10T08:21:47.667Z"
   },
   {
    "duration": 151,
    "start_time": "2023-11-10T08:21:47.746Z"
   },
   {
    "duration": 7,
    "start_time": "2023-11-10T08:21:47.899Z"
   },
   {
    "duration": 39,
    "start_time": "2023-11-10T08:21:47.907Z"
   },
   {
    "duration": 51,
    "start_time": "2023-11-10T08:21:47.948Z"
   },
   {
    "duration": 290,
    "start_time": "2023-11-10T08:21:48.014Z"
   },
   {
    "duration": 346,
    "start_time": "2023-11-10T08:21:48.307Z"
   },
   {
    "duration": 303,
    "start_time": "2023-11-10T08:21:48.656Z"
   },
   {
    "duration": 799,
    "start_time": "2023-11-10T08:21:55.696Z"
   },
   {
    "duration": 151,
    "start_time": "2023-11-10T08:21:56.497Z"
   },
   {
    "duration": 52,
    "start_time": "2023-11-10T08:21:56.650Z"
   },
   {
    "duration": 5,
    "start_time": "2023-11-10T08:21:56.704Z"
   },
   {
    "duration": 48,
    "start_time": "2023-11-10T08:21:56.711Z"
   },
   {
    "duration": 5,
    "start_time": "2023-11-10T08:21:56.761Z"
   },
   {
    "duration": 39,
    "start_time": "2023-11-10T08:21:56.767Z"
   },
   {
    "duration": 24,
    "start_time": "2023-11-10T08:21:56.807Z"
   },
   {
    "duration": 35,
    "start_time": "2023-11-10T08:21:56.833Z"
   },
   {
    "duration": 136,
    "start_time": "2023-11-10T08:21:56.870Z"
   },
   {
    "duration": 6,
    "start_time": "2023-11-10T08:21:57.008Z"
   },
   {
    "duration": 29,
    "start_time": "2023-11-10T08:21:57.016Z"
   },
   {
    "duration": 27,
    "start_time": "2023-11-10T08:21:57.046Z"
   },
   {
    "duration": 30,
    "start_time": "2023-11-10T08:21:57.076Z"
   },
   {
    "duration": 17,
    "start_time": "2023-11-10T08:21:57.107Z"
   },
   {
    "duration": 33,
    "start_time": "2023-11-10T08:21:57.127Z"
   },
   {
    "duration": 18,
    "start_time": "2023-11-10T08:21:57.162Z"
   },
   {
    "duration": 25,
    "start_time": "2023-11-10T08:21:57.181Z"
   },
   {
    "duration": 42,
    "start_time": "2023-11-10T08:21:57.208Z"
   },
   {
    "duration": 15,
    "start_time": "2023-11-10T08:21:57.252Z"
   },
   {
    "duration": 48,
    "start_time": "2023-11-10T08:21:57.268Z"
   },
   {
    "duration": 10,
    "start_time": "2023-11-10T08:21:57.318Z"
   },
   {
    "duration": 13,
    "start_time": "2023-11-10T08:21:57.331Z"
   },
   {
    "duration": 8,
    "start_time": "2023-11-10T08:21:57.346Z"
   },
   {
    "duration": 4,
    "start_time": "2023-11-10T08:21:57.356Z"
   },
   {
    "duration": 12,
    "start_time": "2023-11-10T08:21:57.362Z"
   },
   {
    "duration": 5,
    "start_time": "2023-11-10T08:21:57.376Z"
   },
   {
    "duration": 34,
    "start_time": "2023-11-10T08:21:57.383Z"
   },
   {
    "duration": 35,
    "start_time": "2023-11-10T08:21:57.420Z"
   },
   {
    "duration": 20,
    "start_time": "2023-11-10T08:21:57.457Z"
   },
   {
    "duration": 56,
    "start_time": "2023-11-10T08:21:57.480Z"
   },
   {
    "duration": 14,
    "start_time": "2023-11-10T08:21:57.538Z"
   },
   {
    "duration": 8,
    "start_time": "2023-11-10T08:21:57.554Z"
   },
   {
    "duration": 8,
    "start_time": "2023-11-10T08:21:57.564Z"
   },
   {
    "duration": 17,
    "start_time": "2023-11-10T08:21:57.574Z"
   },
   {
    "duration": 111,
    "start_time": "2023-11-10T08:21:57.592Z"
   },
   {
    "duration": 37,
    "start_time": "2023-11-10T08:21:57.705Z"
   },
   {
    "duration": 37,
    "start_time": "2023-11-10T08:21:57.744Z"
   },
   {
    "duration": 9,
    "start_time": "2023-11-10T08:21:57.782Z"
   },
   {
    "duration": 35,
    "start_time": "2023-11-10T08:21:57.793Z"
   },
   {
    "duration": 13,
    "start_time": "2023-11-10T08:21:57.836Z"
   },
   {
    "duration": 29,
    "start_time": "2023-11-10T08:21:57.851Z"
   },
   {
    "duration": 10,
    "start_time": "2023-11-10T08:21:57.883Z"
   },
   {
    "duration": 24,
    "start_time": "2023-11-10T08:21:57.895Z"
   },
   {
    "duration": 15,
    "start_time": "2023-11-10T08:21:57.921Z"
   },
   {
    "duration": 11,
    "start_time": "2023-11-10T08:21:57.938Z"
   },
   {
    "duration": 26,
    "start_time": "2023-11-10T08:21:57.951Z"
   },
   {
    "duration": 46,
    "start_time": "2023-11-10T08:21:57.979Z"
   },
   {
    "duration": 15,
    "start_time": "2023-11-10T08:21:58.027Z"
   },
   {
    "duration": 21,
    "start_time": "2023-11-10T08:21:58.044Z"
   },
   {
    "duration": 50,
    "start_time": "2023-11-10T08:21:58.067Z"
   },
   {
    "duration": 12,
    "start_time": "2023-11-10T08:21:58.120Z"
   },
   {
    "duration": 6,
    "start_time": "2023-11-10T08:21:58.134Z"
   },
   {
    "duration": 14,
    "start_time": "2023-11-10T08:21:58.142Z"
   },
   {
    "duration": 30,
    "start_time": "2023-11-10T08:21:58.158Z"
   },
   {
    "duration": 65,
    "start_time": "2023-11-10T08:21:58.190Z"
   },
   {
    "duration": 275,
    "start_time": "2023-11-10T08:21:58.257Z"
   },
   {
    "duration": 25,
    "start_time": "2023-11-10T08:21:58.535Z"
   },
   {
    "duration": 202,
    "start_time": "2023-11-10T08:21:58.562Z"
   },
   {
    "duration": 5,
    "start_time": "2023-11-10T08:21:58.766Z"
   },
   {
    "duration": 66,
    "start_time": "2023-11-10T08:21:58.773Z"
   },
   {
    "duration": 206,
    "start_time": "2023-11-10T08:21:58.841Z"
   },
   {
    "duration": 221,
    "start_time": "2023-11-10T08:21:59.049Z"
   },
   {
    "duration": 23,
    "start_time": "2023-11-10T08:21:59.272Z"
   },
   {
    "duration": 310,
    "start_time": "2023-11-10T08:21:59.297Z"
   },
   {
    "duration": 18,
    "start_time": "2023-11-10T08:21:59.614Z"
   },
   {
    "duration": 6,
    "start_time": "2023-11-10T08:21:59.635Z"
   },
   {
    "duration": 6,
    "start_time": "2023-11-10T08:21:59.642Z"
   },
   {
    "duration": 28,
    "start_time": "2023-11-10T08:21:59.650Z"
   },
   {
    "duration": 22,
    "start_time": "2023-11-10T08:21:59.680Z"
   },
   {
    "duration": 49,
    "start_time": "2023-11-10T08:21:59.704Z"
   },
   {
    "duration": 166,
    "start_time": "2023-11-10T08:21:59.754Z"
   },
   {
    "duration": 13,
    "start_time": "2023-11-10T08:21:59.924Z"
   },
   {
    "duration": 18,
    "start_time": "2023-11-10T08:21:59.939Z"
   },
   {
    "duration": 31,
    "start_time": "2023-11-10T08:21:59.959Z"
   },
   {
    "duration": 265,
    "start_time": "2023-11-10T08:22:00.020Z"
   },
   {
    "duration": 300,
    "start_time": "2023-11-10T08:22:00.288Z"
   },
   {
    "duration": 322,
    "start_time": "2023-11-10T08:22:00.589Z"
   }
  ],
  "colab": {
   "name": "DA+. Сборный проект 1. Шаблон (1).ipynb",
   "provenance": []
  },
  "kernelspec": {
   "display_name": "Python 3 (ipykernel)",
   "language": "python",
   "name": "python3"
  },
  "language_info": {
   "codemirror_mode": {
    "name": "ipython",
    "version": 3
   },
   "file_extension": ".py",
   "mimetype": "text/x-python",
   "name": "python",
   "nbconvert_exporter": "python",
   "pygments_lexer": "ipython3",
   "version": "3.11.4"
  },
  "toc": {
   "base_numbering": 1,
   "nav_menu": {},
   "number_sections": true,
   "sideBar": true,
   "skip_h1_title": true,
   "title_cell": "Table of Contents",
   "title_sidebar": "Contents",
   "toc_cell": false,
   "toc_position": {
    "height": "calc(100% - 180px)",
    "left": "10px",
    "top": "150px",
    "width": "375.391px"
   },
   "toc_section_display": true,
   "toc_window_display": true
  }
 },
 "nbformat": 4,
 "nbformat_minor": 1
}
